{
  "cells": [
    {
      "cell_type": "markdown",
      "id": "f63c8e08",
      "metadata": {
        "id": "f63c8e08"
      },
      "source": [
        "# **APA - Data Preparation Template**\n",
        "## **DATA 3300**"
      ]
    },
    {
      "cell_type": "markdown",
      "id": "03daa935",
      "metadata": {
        "id": "03daa935"
      },
      "source": [
        "## **Name(s):**"
      ]
    },
    {
      "cell_type": "markdown",
      "id": "7342cd08",
      "metadata": {
        "id": "7342cd08"
      },
      "source": [
        "### **Read and follow these assignment instructions carefully! Ordinarily, we’d jump into cleansing data as needed and we’d each do it slightly differently. This is difficult to grade, so please go in the order of this document and follow these instructions.**\n",
        "\n",
        "**For this assignment students should submit one .ipynb file, one clean, sorted Excel file, and a PDF of this iPython notebook file. See the assignment background for attribute descriptions and the assignment requirements link on the Canvas assignment page.**\n",
        "\n",
        "**Students should alter code in lines with \"replace code...\" language. Otherwise, students do not need to alter the provided code.**"
      ]
    },
    {
      "cell_type": "markdown",
      "id": "a045b050",
      "metadata": {
        "id": "a045b050"
      },
      "source": [
        "## **Q1**\n",
        "\n",
        "**What does the term “data quality” refer to and why is it important within the context of using data to solve business problems?**"
      ]
    },
    {
      "cell_type": "markdown",
      "id": "b8b417e6",
      "metadata": {
        "id": "b8b417e6"
      },
      "source": [
        "### Data quality refers to how accurate and \"clean\" data is. It's important because with unlcean data, misrepresantation is present. Solving business problems with poor data will lead to innacurate results."
      ]
    },
    {
      "cell_type": "markdown",
      "id": "7f6a356a",
      "metadata": {
        "id": "7f6a356a"
      },
      "source": [
        "##**Q2**\n",
        "\n",
        "**The lecture and textbook discussed five characteristics of data quality: accuracy, completeness, consistency, timeliness, and uniqueness. While “accuracy” in this dataset is hard for us to gauge without further inquiry and“timeliness” kind of depends on what it is the data are to be used for, there are clear examples of problems with each of the other three characteristics.**\n",
        "\n",
        "**For each of the other three (completeness, consistency, uniqueness), identify a specific situation within the *hbdata-orig.csv* dataset (identify record numbers when applicable). Hint: For uniqueness, look at the VisitSpan attribute. Be sure your answers are clearly labelled and described.**\n",
        "\n",
        "**This can be done by viewing the data in Excel or importing it into Python. If using Python, begin by importing your libraries and then read in the .csv file.**"
      ]
    },
    {
      "cell_type": "code",
      "execution_count": 1,
      "id": "c13aad94",
      "metadata": {
        "id": "c13aad94"
      },
      "outputs": [],
      "source": [
        "import pandas as pd\n",
        "import numpy as np\n",
        "\n",
        "#just run this code block after importing libraries above, no need to alter the below code!\n",
        "from datetime import datetime #you'll also need this method to convert a variable to date-time later in the assignment\n",
        "import warnings\n",
        "warnings.filterwarnings(\"ignore\") #this can be removed but will help the code be a little cleaner by ignoring warnings"
      ]
    },
    {
      "cell_type": "code",
      "execution_count": null,
      "id": "c5f06718",
      "metadata": {
        "id": "c5f06718"
      },
      "outputs": [],
      "source": [
        "#replace with code for importing the dataset\n",
        "df = pd.read_excel('/content/hbdata-orig24.xlsx')\n",
        "#run this code block after importing dataset above\n",
        "pd.set_option(\"display.max_rows\", None, \"display.max_columns\", None) #View full dataframe\n",
        "df"
      ]
    },
    {
      "cell_type": "markdown",
      "id": "1be578e6",
      "metadata": {
        "id": "1be578e6"
      },
      "source": [
        "\n",
        "*   Completeness: VisitIDs 2209, 2395, missing data\n",
        "*   Consistency: VisitIDs 2250-2257, medium instead of M. Lots of oz instead of ml as well\n",
        "*   Uniqueness: 2235-2336: Time is the same, duplicate entry"
      ]
    },
    {
      "cell_type": "markdown",
      "id": "abe4dbab",
      "metadata": {
        "id": "abe4dbab"
      },
      "source": [
        "## **Q3**\n",
        "\n",
        "**Answer the following questions regarding the importance of each of the named data scrubbing steps.**\n",
        "\n",
        "### **3A**\n",
        "**What negative outcome would likely occur during data analysis if duplicated visits were not removed (consolidated)?**"
      ]
    },
    {
      "cell_type": "markdown",
      "id": "0cd097ab",
      "metadata": {
        "id": "0cd097ab"
      },
      "source": [
        "The dulicate data would be recorded multiple times, scewing the results of a particular bird or feeder"
      ]
    },
    {
      "cell_type": "markdown",
      "id": "81b7e47c",
      "metadata": {
        "id": "81b7e47c"
      },
      "source": [
        "### **3B**\n",
        "\n",
        "**What negative outcome would likely occur during data analysis if Location entries were not standardized?**"
      ]
    },
    {
      "cell_type": "markdown",
      "id": "5fa6b9fe",
      "metadata": {
        "id": "5fa6b9fe"
      },
      "source": [
        "Some locations would have missing entries, for example \"Deck. 2\" would not be counted in \"Deck 2\""
      ]
    },
    {
      "cell_type": "markdown",
      "id": "98971f48",
      "metadata": {
        "id": "98971f48"
      },
      "source": [
        "### **3C**\n",
        "\n",
        "**What negative outcome would likely occur during data analysis if, due to measurement issues, amount eaten values were not consistent?**"
      ]
    },
    {
      "cell_type": "markdown",
      "id": "592a8263",
      "metadata": {
        "id": "592a8263"
      },
      "source": [
        "One might assume a bird has eaten much more or much less than it actually has. This can cause future predictions of how much to feed to be wrong."
      ]
    },
    {
      "cell_type": "markdown",
      "id": "8e04ef6e",
      "metadata": {
        "id": "8e04ef6e"
      },
      "source": [
        "## **Q4**\n",
        "\n",
        "**In scrubbing the data, you should address each of the following. It’s recommended to go through this assignment in the order of steps below.**"
      ]
    },
    {
      "cell_type": "markdown",
      "id": "4709e143",
      "metadata": {
        "id": "4709e143"
      },
      "source": [
        "### 4A\n",
        "\n",
        "In Python trim all text columns to ensure there are no leading or trailing spaces on any of the data values. If you still see two seemingly identical entries, remember that trimming does not trim internal spaces between two words."
      ]
    },
    {
      "cell_type": "code",
      "execution_count": 3,
      "id": "3cb864bf",
      "metadata": {
        "id": "3cb864bf",
        "colab": {
          "base_uri": "https://localhost:8080/",
          "height": 0
        },
        "outputId": "2bc4c03c-7e69-49b7-d53d-ec705f3e9de2"
      },
      "outputs": [
        {
          "output_type": "stream",
          "name": "stdout",
          "text": [
            "Current Date and Time: 2024-01-18 21:31:09\n"
          ]
        }
      ],
      "source": [
        "df_obj = df.select_dtypes(['object']) #select all columns containing text (of type object)\n",
        "df[df_obj.columns] = df_obj.apply(lambda x: x.str.strip()) #trim all selected columns\n",
        "#replace with code to view the header of the dataframe (cheat sheet!)\n",
        "df.head()\n",
        "#keep below code to verify date/time of your work\n",
        "from datetime import datetime\n",
        "now = datetime.now()\n",
        "formatted_time = now.strftime(\"%Y-%m-%d %H:%M:%S\")\n",
        "print(f\"Current Date and Time: {formatted_time}\")"
      ]
    },
    {
      "cell_type": "markdown",
      "id": "7fe826a7",
      "metadata": {
        "id": "7fe826a7"
      },
      "source": [
        "### 4B\n",
        "\n",
        "Ensure each bird’s first and last name should be included in separate fields (columns)."
      ]
    },
    {
      "cell_type": "code",
      "execution_count": 4,
      "id": "545c9a32",
      "metadata": {
        "id": "545c9a32",
        "colab": {
          "base_uri": "https://localhost:8080/",
          "height": 330
        },
        "outputId": "410dbf67-8429-41bc-dc62-7ab45c1847a2"
      },
      "outputs": [
        {
          "output_type": "execute_result",
          "data": {
            "text/plain": [
              "   VisitID  BirdType BirdSize  Gender VisitDate                  VisitSpan  \\\n",
              "0     2203     Rufus        S  female       NaN  23:13:05.736-23:13:21.109   \n",
              "1     2204  Calliope        M    male       NaN    07:45:07.65-07:45:17.97   \n",
              "2     2205    Rufous        M  female       NaN    08:09:52.10-08:10:22.74   \n",
              "3     2206    Rufous        M    male       NaN    08:41:54.07-08:42:07.48   \n",
              "4     2207    Anna's        M  female       NaN    09:18:59.33-09:19:13.41   \n",
              "\n",
              "     Location Hoverfeed Amount Unnamed: 10 BirdFirstName BirdLastName  \n",
              "0  Back Patio       yes  17 ml         NaN          Rose          Kim  \n",
              "1   NE Corner       yes   6 ml         NaN        Horace      Prefect  \n",
              "2      Deck 2        no   5 ml         NaN     Edeltraud     McKnight  \n",
              "3      Deck 1       yes   2 ml         NaN       Herbert     McKnight  \n",
              "4      Garage       yes   3 ml         NaN      Walpurga     Schwalbe  "
            ],
            "text/html": [
              "\n",
              "  <div id=\"df-b49ec9ee-0524-43fe-b0bf-f45b56305bda\" class=\"colab-df-container\">\n",
              "    <div>\n",
              "<style scoped>\n",
              "    .dataframe tbody tr th:only-of-type {\n",
              "        vertical-align: middle;\n",
              "    }\n",
              "\n",
              "    .dataframe tbody tr th {\n",
              "        vertical-align: top;\n",
              "    }\n",
              "\n",
              "    .dataframe thead th {\n",
              "        text-align: right;\n",
              "    }\n",
              "</style>\n",
              "<table border=\"1\" class=\"dataframe\">\n",
              "  <thead>\n",
              "    <tr style=\"text-align: right;\">\n",
              "      <th></th>\n",
              "      <th>VisitID</th>\n",
              "      <th>BirdType</th>\n",
              "      <th>BirdSize</th>\n",
              "      <th>Gender</th>\n",
              "      <th>VisitDate</th>\n",
              "      <th>VisitSpan</th>\n",
              "      <th>Location</th>\n",
              "      <th>Hoverfeed</th>\n",
              "      <th>Amount</th>\n",
              "      <th>Unnamed: 10</th>\n",
              "      <th>BirdFirstName</th>\n",
              "      <th>BirdLastName</th>\n",
              "    </tr>\n",
              "  </thead>\n",
              "  <tbody>\n",
              "    <tr>\n",
              "      <th>0</th>\n",
              "      <td>2203</td>\n",
              "      <td>Rufus</td>\n",
              "      <td>S</td>\n",
              "      <td>female</td>\n",
              "      <td>NaN</td>\n",
              "      <td>23:13:05.736-23:13:21.109</td>\n",
              "      <td>Back Patio</td>\n",
              "      <td>yes</td>\n",
              "      <td>17 ml</td>\n",
              "      <td>NaN</td>\n",
              "      <td>Rose</td>\n",
              "      <td>Kim</td>\n",
              "    </tr>\n",
              "    <tr>\n",
              "      <th>1</th>\n",
              "      <td>2204</td>\n",
              "      <td>Calliope</td>\n",
              "      <td>M</td>\n",
              "      <td>male</td>\n",
              "      <td>NaN</td>\n",
              "      <td>07:45:07.65-07:45:17.97</td>\n",
              "      <td>NE Corner</td>\n",
              "      <td>yes</td>\n",
              "      <td>6 ml</td>\n",
              "      <td>NaN</td>\n",
              "      <td>Horace</td>\n",
              "      <td>Prefect</td>\n",
              "    </tr>\n",
              "    <tr>\n",
              "      <th>2</th>\n",
              "      <td>2205</td>\n",
              "      <td>Rufous</td>\n",
              "      <td>M</td>\n",
              "      <td>female</td>\n",
              "      <td>NaN</td>\n",
              "      <td>08:09:52.10-08:10:22.74</td>\n",
              "      <td>Deck 2</td>\n",
              "      <td>no</td>\n",
              "      <td>5 ml</td>\n",
              "      <td>NaN</td>\n",
              "      <td>Edeltraud</td>\n",
              "      <td>McKnight</td>\n",
              "    </tr>\n",
              "    <tr>\n",
              "      <th>3</th>\n",
              "      <td>2206</td>\n",
              "      <td>Rufous</td>\n",
              "      <td>M</td>\n",
              "      <td>male</td>\n",
              "      <td>NaN</td>\n",
              "      <td>08:41:54.07-08:42:07.48</td>\n",
              "      <td>Deck 1</td>\n",
              "      <td>yes</td>\n",
              "      <td>2 ml</td>\n",
              "      <td>NaN</td>\n",
              "      <td>Herbert</td>\n",
              "      <td>McKnight</td>\n",
              "    </tr>\n",
              "    <tr>\n",
              "      <th>4</th>\n",
              "      <td>2207</td>\n",
              "      <td>Anna's</td>\n",
              "      <td>M</td>\n",
              "      <td>female</td>\n",
              "      <td>NaN</td>\n",
              "      <td>09:18:59.33-09:19:13.41</td>\n",
              "      <td>Garage</td>\n",
              "      <td>yes</td>\n",
              "      <td>3 ml</td>\n",
              "      <td>NaN</td>\n",
              "      <td>Walpurga</td>\n",
              "      <td>Schwalbe</td>\n",
              "    </tr>\n",
              "  </tbody>\n",
              "</table>\n",
              "</div>\n",
              "    <div class=\"colab-df-buttons\">\n",
              "\n",
              "  <div class=\"colab-df-container\">\n",
              "    <button class=\"colab-df-convert\" onclick=\"convertToInteractive('df-b49ec9ee-0524-43fe-b0bf-f45b56305bda')\"\n",
              "            title=\"Convert this dataframe to an interactive table.\"\n",
              "            style=\"display:none;\">\n",
              "\n",
              "  <svg xmlns=\"http://www.w3.org/2000/svg\" height=\"24px\" viewBox=\"0 -960 960 960\">\n",
              "    <path d=\"M120-120v-720h720v720H120Zm60-500h600v-160H180v160Zm220 220h160v-160H400v160Zm0 220h160v-160H400v160ZM180-400h160v-160H180v160Zm440 0h160v-160H620v160ZM180-180h160v-160H180v160Zm440 0h160v-160H620v160Z\"/>\n",
              "  </svg>\n",
              "    </button>\n",
              "\n",
              "  <style>\n",
              "    .colab-df-container {\n",
              "      display:flex;\n",
              "      gap: 12px;\n",
              "    }\n",
              "\n",
              "    .colab-df-convert {\n",
              "      background-color: #E8F0FE;\n",
              "      border: none;\n",
              "      border-radius: 50%;\n",
              "      cursor: pointer;\n",
              "      display: none;\n",
              "      fill: #1967D2;\n",
              "      height: 32px;\n",
              "      padding: 0 0 0 0;\n",
              "      width: 32px;\n",
              "    }\n",
              "\n",
              "    .colab-df-convert:hover {\n",
              "      background-color: #E2EBFA;\n",
              "      box-shadow: 0px 1px 2px rgba(60, 64, 67, 0.3), 0px 1px 3px 1px rgba(60, 64, 67, 0.15);\n",
              "      fill: #174EA6;\n",
              "    }\n",
              "\n",
              "    .colab-df-buttons div {\n",
              "      margin-bottom: 4px;\n",
              "    }\n",
              "\n",
              "    [theme=dark] .colab-df-convert {\n",
              "      background-color: #3B4455;\n",
              "      fill: #D2E3FC;\n",
              "    }\n",
              "\n",
              "    [theme=dark] .colab-df-convert:hover {\n",
              "      background-color: #434B5C;\n",
              "      box-shadow: 0px 1px 3px 1px rgba(0, 0, 0, 0.15);\n",
              "      filter: drop-shadow(0px 1px 2px rgba(0, 0, 0, 0.3));\n",
              "      fill: #FFFFFF;\n",
              "    }\n",
              "  </style>\n",
              "\n",
              "    <script>\n",
              "      const buttonEl =\n",
              "        document.querySelector('#df-b49ec9ee-0524-43fe-b0bf-f45b56305bda button.colab-df-convert');\n",
              "      buttonEl.style.display =\n",
              "        google.colab.kernel.accessAllowed ? 'block' : 'none';\n",
              "\n",
              "      async function convertToInteractive(key) {\n",
              "        const element = document.querySelector('#df-b49ec9ee-0524-43fe-b0bf-f45b56305bda');\n",
              "        const dataTable =\n",
              "          await google.colab.kernel.invokeFunction('convertToInteractive',\n",
              "                                                    [key], {});\n",
              "        if (!dataTable) return;\n",
              "\n",
              "        const docLinkHtml = 'Like what you see? Visit the ' +\n",
              "          '<a target=\"_blank\" href=https://colab.research.google.com/notebooks/data_table.ipynb>data table notebook</a>'\n",
              "          + ' to learn more about interactive tables.';\n",
              "        element.innerHTML = '';\n",
              "        dataTable['output_type'] = 'display_data';\n",
              "        await google.colab.output.renderOutput(dataTable, element);\n",
              "        const docLink = document.createElement('div');\n",
              "        docLink.innerHTML = docLinkHtml;\n",
              "        element.appendChild(docLink);\n",
              "      }\n",
              "    </script>\n",
              "  </div>\n",
              "\n",
              "\n",
              "<div id=\"df-bf6e182e-7541-4f22-89d1-5ae545fea79a\">\n",
              "  <button class=\"colab-df-quickchart\" onclick=\"quickchart('df-bf6e182e-7541-4f22-89d1-5ae545fea79a')\"\n",
              "            title=\"Suggest charts\"\n",
              "            style=\"display:none;\">\n",
              "\n",
              "<svg xmlns=\"http://www.w3.org/2000/svg\" height=\"24px\"viewBox=\"0 0 24 24\"\n",
              "     width=\"24px\">\n",
              "    <g>\n",
              "        <path d=\"M19 3H5c-1.1 0-2 .9-2 2v14c0 1.1.9 2 2 2h14c1.1 0 2-.9 2-2V5c0-1.1-.9-2-2-2zM9 17H7v-7h2v7zm4 0h-2V7h2v10zm4 0h-2v-4h2v4z\"/>\n",
              "    </g>\n",
              "</svg>\n",
              "  </button>\n",
              "\n",
              "<style>\n",
              "  .colab-df-quickchart {\n",
              "      --bg-color: #E8F0FE;\n",
              "      --fill-color: #1967D2;\n",
              "      --hover-bg-color: #E2EBFA;\n",
              "      --hover-fill-color: #174EA6;\n",
              "      --disabled-fill-color: #AAA;\n",
              "      --disabled-bg-color: #DDD;\n",
              "  }\n",
              "\n",
              "  [theme=dark] .colab-df-quickchart {\n",
              "      --bg-color: #3B4455;\n",
              "      --fill-color: #D2E3FC;\n",
              "      --hover-bg-color: #434B5C;\n",
              "      --hover-fill-color: #FFFFFF;\n",
              "      --disabled-bg-color: #3B4455;\n",
              "      --disabled-fill-color: #666;\n",
              "  }\n",
              "\n",
              "  .colab-df-quickchart {\n",
              "    background-color: var(--bg-color);\n",
              "    border: none;\n",
              "    border-radius: 50%;\n",
              "    cursor: pointer;\n",
              "    display: none;\n",
              "    fill: var(--fill-color);\n",
              "    height: 32px;\n",
              "    padding: 0;\n",
              "    width: 32px;\n",
              "  }\n",
              "\n",
              "  .colab-df-quickchart:hover {\n",
              "    background-color: var(--hover-bg-color);\n",
              "    box-shadow: 0 1px 2px rgba(60, 64, 67, 0.3), 0 1px 3px 1px rgba(60, 64, 67, 0.15);\n",
              "    fill: var(--button-hover-fill-color);\n",
              "  }\n",
              "\n",
              "  .colab-df-quickchart-complete:disabled,\n",
              "  .colab-df-quickchart-complete:disabled:hover {\n",
              "    background-color: var(--disabled-bg-color);\n",
              "    fill: var(--disabled-fill-color);\n",
              "    box-shadow: none;\n",
              "  }\n",
              "\n",
              "  .colab-df-spinner {\n",
              "    border: 2px solid var(--fill-color);\n",
              "    border-color: transparent;\n",
              "    border-bottom-color: var(--fill-color);\n",
              "    animation:\n",
              "      spin 1s steps(1) infinite;\n",
              "  }\n",
              "\n",
              "  @keyframes spin {\n",
              "    0% {\n",
              "      border-color: transparent;\n",
              "      border-bottom-color: var(--fill-color);\n",
              "      border-left-color: var(--fill-color);\n",
              "    }\n",
              "    20% {\n",
              "      border-color: transparent;\n",
              "      border-left-color: var(--fill-color);\n",
              "      border-top-color: var(--fill-color);\n",
              "    }\n",
              "    30% {\n",
              "      border-color: transparent;\n",
              "      border-left-color: var(--fill-color);\n",
              "      border-top-color: var(--fill-color);\n",
              "      border-right-color: var(--fill-color);\n",
              "    }\n",
              "    40% {\n",
              "      border-color: transparent;\n",
              "      border-right-color: var(--fill-color);\n",
              "      border-top-color: var(--fill-color);\n",
              "    }\n",
              "    60% {\n",
              "      border-color: transparent;\n",
              "      border-right-color: var(--fill-color);\n",
              "    }\n",
              "    80% {\n",
              "      border-color: transparent;\n",
              "      border-right-color: var(--fill-color);\n",
              "      border-bottom-color: var(--fill-color);\n",
              "    }\n",
              "    90% {\n",
              "      border-color: transparent;\n",
              "      border-bottom-color: var(--fill-color);\n",
              "    }\n",
              "  }\n",
              "</style>\n",
              "\n",
              "  <script>\n",
              "    async function quickchart(key) {\n",
              "      const quickchartButtonEl =\n",
              "        document.querySelector('#' + key + ' button');\n",
              "      quickchartButtonEl.disabled = true;  // To prevent multiple clicks.\n",
              "      quickchartButtonEl.classList.add('colab-df-spinner');\n",
              "      try {\n",
              "        const charts = await google.colab.kernel.invokeFunction(\n",
              "            'suggestCharts', [key], {});\n",
              "      } catch (error) {\n",
              "        console.error('Error during call to suggestCharts:', error);\n",
              "      }\n",
              "      quickchartButtonEl.classList.remove('colab-df-spinner');\n",
              "      quickchartButtonEl.classList.add('colab-df-quickchart-complete');\n",
              "    }\n",
              "    (() => {\n",
              "      let quickchartButtonEl =\n",
              "        document.querySelector('#df-bf6e182e-7541-4f22-89d1-5ae545fea79a button');\n",
              "      quickchartButtonEl.style.display =\n",
              "        google.colab.kernel.accessAllowed ? 'block' : 'none';\n",
              "    })();\n",
              "  </script>\n",
              "</div>\n",
              "    </div>\n",
              "  </div>\n"
            ]
          },
          "metadata": {},
          "execution_count": 4
        }
      ],
      "source": [
        "#replace with code to split column, updating column names and delimiter type (cheat sheet)\n",
        "df[['BirdFirstName','BirdLastName']] = df['BirdName'].str.split(' ', expand=True)\n",
        "#replace with code to drop birdname column\n",
        "df = df.drop('BirdName', axis = 1)\n",
        "#replace with code to show df heading\n",
        "df.head()"
      ]
    },
    {
      "cell_type": "markdown",
      "id": "b6f368ad",
      "metadata": {
        "id": "b6f368ad"
      },
      "source": [
        "### 4C\n",
        "Ensure that data values are standardized in each column (pay particular attention to the textual columns, BirdName, BirdType, BirdSize, Gender, Location, and Hoverfeed) so that each “idea” (e.g., a species of bird) is specified (i.e., spelled) the same way.\n",
        "\n",
        "This can be checked for each column by using the .value_counts() method! After applying the standarization, show that the correction has been made by using the .value_counts() method to display all categories for each column of interest."
      ]
    },
    {
      "cell_type": "code",
      "execution_count": 5,
      "id": "3a5e1e24",
      "metadata": {
        "id": "3a5e1e24",
        "colab": {
          "base_uri": "https://localhost:8080/",
          "height": 0
        },
        "outputId": "bb8ea153-8c3b-4ce6-935a-8ceceed3ebd9"
      },
      "outputs": [
        {
          "output_type": "execute_result",
          "data": {
            "text/plain": [
              "Rufous      103\n",
              "Anna's       85\n",
              "Calliope     61\n",
              "Rufus        18\n",
              "Prefect      14\n",
              "Name: BirdType, dtype: int64"
            ]
          },
          "metadata": {},
          "execution_count": 5
        }
      ],
      "source": [
        "#Replace with code to examine levels in BirdType using the value_counts() method, update column name\n",
        "df['BirdType'].value_counts()"
      ]
    },
    {
      "cell_type": "code",
      "execution_count": 6,
      "id": "e041b67b",
      "metadata": {
        "id": "e041b67b"
      },
      "outputs": [],
      "source": [
        "#Replace with code to replace redundant value in BirdType, for only 1 original and new label\n",
        "df = df.replace('Rufus','Rufous')"
      ]
    },
    {
      "cell_type": "code",
      "execution_count": 7,
      "id": "28cbde29",
      "metadata": {
        "id": "28cbde29",
        "colab": {
          "base_uri": "https://localhost:8080/",
          "height": 0
        },
        "outputId": "e7902fb0-cdd4-44ad-d6ae-2ff65418ef18"
      },
      "outputs": [
        {
          "output_type": "execute_result",
          "data": {
            "text/plain": [
              "M         162\n",
              "S          48\n",
              "L          33\n",
              "XL         23\n",
              "medium     13\n",
              "20 ml       5\n",
              "Name: BirdSize, dtype: int64"
            ]
          },
          "metadata": {},
          "execution_count": 7
        }
      ],
      "source": [
        "#Replace with code to examine levels of BirdSize. Ignore null, \"medium\" and 20ml lines; these will be fixed later.\n",
        "df['BirdSize'].value_counts()"
      ]
    },
    {
      "cell_type": "code",
      "execution_count": 8,
      "id": "5c0847f3",
      "metadata": {
        "id": "5c0847f3"
      },
      "outputs": [],
      "source": [
        "#Replace with code to replace redundant value in BirdSize\n",
        "df = df.replace('medium','M')"
      ]
    },
    {
      "cell_type": "code",
      "execution_count": 15,
      "id": "87ee6892",
      "metadata": {
        "id": "87ee6892",
        "colab": {
          "base_uri": "https://localhost:8080/",
          "height": 0
        },
        "outputId": "fb4092c2-46b7-48ee-9457-a4f56df14c8c"
      },
      "outputs": [
        {
          "output_type": "execute_result",
          "data": {
            "text/plain": [
              "Back Patio                 76\n",
              "Deck 2                     61\n",
              "Deck 1                     46\n",
              "NE Corner                  44\n",
              "Garage                     29\n",
              "Entry                      29\n",
              "15:16:40.19-15:16:55.98     4\n",
              "13:14:33.36-13:15:09.25     2\n",
              "Name: Location, dtype: int64"
            ]
          },
          "metadata": {},
          "execution_count": 15
        }
      ],
      "source": [
        "#Replace with code to examine levels of Location. Ignore two lines with all numerical output; these will be fixed later.\n",
        "df['Location'].value_counts()"
      ]
    },
    {
      "cell_type": "code",
      "execution_count": 14,
      "id": "a53541fc",
      "metadata": {
        "id": "a53541fc"
      },
      "outputs": [],
      "source": [
        "#Replace with code to replace redundant values of Location, for 2 original and new labels\n",
        "df = df.replace({'Back  Patio':'Back Patio','Deck. 2':'Deck 2'})"
      ]
    },
    {
      "cell_type": "markdown",
      "id": "38acbc02",
      "metadata": {
        "id": "38acbc02"
      },
      "source": [
        "### 4D\n",
        "The amount eaten is very important to our analysis. Where this value is null (blank), omit the record. Note that values of 0 are not the same as null. Retain (don’t delete) the records where the value of Amount is 0. Other issues with this attribute will be addressed later.\n",
        "\n",
        "Before removing missing columns first examine the length of the dataset currently using the len() method. Then split the *Amount* column into two columns, *Amount_Eat* and *Unit*. Finally, change *Amount_Eat* to a float object using pd.to_numeric().\n",
        "\n",
        "Once missing values are dropped, view the length of the dataset again using the len() method to see how many observations were dropped."
      ]
    },
    {
      "cell_type": "code",
      "execution_count": 16,
      "id": "ab43e7b8",
      "metadata": {
        "id": "ab43e7b8",
        "colab": {
          "base_uri": "https://localhost:8080/",
          "height": 0
        },
        "outputId": "09198e0f-0a7b-4f97-da5b-12317b4dfb3a"
      },
      "outputs": [
        {
          "output_type": "execute_result",
          "data": {
            "text/plain": [
              "291"
            ]
          },
          "metadata": {},
          "execution_count": 16
        }
      ],
      "source": [
        "len(df) #return length of dataframe (i.e., number of rows), just run this code block"
      ]
    },
    {
      "cell_type": "code",
      "execution_count": null,
      "id": "09726b6f",
      "metadata": {
        "id": "09726b6f"
      },
      "outputs": [],
      "source": [
        "#Replace with code to create new split columns for 'Amount_Eat' and 'Unit' from the 'Amount' column, updating column names and delimiter type\n",
        "df[['Amount_Eat','Unit']] = df['Amount'].str.split(' ', expand=True)\n",
        "#Replace with code to drop 'Amount' column\n",
        "df = df.drop('Amount', axis = 1)\n",
        "#Replace with code to show header of dataframe\n",
        "df.head()"
      ]
    },
    {
      "cell_type": "code",
      "execution_count": null,
      "id": "c840be04",
      "metadata": {
        "scrolled": true,
        "id": "c840be04"
      },
      "outputs": [],
      "source": [
        "df['Amount_Eat'] = df['Amount_Eat'].apply(pd.to_numeric, errors='coerce') #convert Amount_Eat column variable dtype from object to float\n",
        "#just run this code block\n",
        "df"
      ]
    },
    {
      "cell_type": "code",
      "execution_count": 20,
      "id": "bb662493",
      "metadata": {
        "id": "bb662493",
        "colab": {
          "base_uri": "https://localhost:8080/",
          "height": 0
        },
        "outputId": "1a0cbe0c-bb6f-4f9c-bc36-e3880317f312"
      },
      "outputs": [
        {
          "output_type": "execute_result",
          "data": {
            "text/plain": [
              "283"
            ]
          },
          "metadata": {},
          "execution_count": 20
        }
      ],
      "source": [
        "#Replace with code to remove missing data for the 'Amount_Eat' column\n",
        "df = df[df['Amount_Eat'].notna()] # drop rows with missing data based on a specified column\n",
        "len(df) #check the new length of the dataset"
      ]
    },
    {
      "cell_type": "markdown",
      "id": "0b85b619",
      "metadata": {
        "id": "0b85b619"
      },
      "source": [
        "### 4E\n",
        "\n",
        "Ensure that each visit is unique. In other words, no visit should be recorded more than once (duplicated). Remove duplicates from the VisitSpan column  using the drop_duplicates() method.\n",
        "\n",
        "Then use the len() method to show how many observations were dropped."
      ]
    },
    {
      "cell_type": "code",
      "execution_count": 21,
      "id": "c2d28b15",
      "metadata": {
        "id": "c2d28b15",
        "colab": {
          "base_uri": "https://localhost:8080/",
          "height": 0
        },
        "outputId": "f80ce5b9-5bf9-48f7-ca1d-2edeb3ab93b9"
      },
      "outputs": [
        {
          "output_type": "execute_result",
          "data": {
            "text/plain": [
              "279"
            ]
          },
          "metadata": {},
          "execution_count": 21
        }
      ],
      "source": [
        "df = df.drop_duplicates(subset=['VisitSpan']) #drop duplicate records from the 'VisitSpan' column\n",
        "\n",
        "#Replace with code to check the new length of the dataset (see above)\n",
        "len(df)"
      ]
    },
    {
      "cell_type": "markdown",
      "id": "ebec3b72",
      "metadata": {
        "id": "ebec3b72"
      },
      "source": [
        "### 4F\n",
        "Split the VisitSpan column into two columns: rename them StartTime and EndTime.\n",
        "\n",
        "Then ensure that both time columns are set as datetime objects by using the pd.to_datetime() method."
      ]
    },
    {
      "cell_type": "code",
      "execution_count": null,
      "id": "caea6827",
      "metadata": {
        "id": "caea6827"
      },
      "outputs": [],
      "source": [
        "#Replace with code to split 'VisitSpan' based on the '-' delimiter, create a StartTime and EndTime column\n",
        "df[['StartTime', 'EndTime']] = df['VisitSpan'].str.split('-', expand = True) # split based on _ delimeter\n",
        "df['StartTime'] = pd.to_datetime(df['StartTime'], format='%H:%M:%S.%f') #converts StartTime to hours:minutes:seconds format\n",
        "df['EndTime'] = pd.to_datetime(df['EndTime'], format='%H:%M:%S.%f') #converts EndTime to hours:minutes:seconds format\n",
        "\n",
        "#Replace with code to drop the 'VisitSpan' column\n",
        "df = df.drop('VisitSpan', axis = 1)\n",
        "#Replace with code to show header of dataframte\n",
        "df.head()"
      ]
    },
    {
      "cell_type": "markdown",
      "id": "4819b0ab",
      "metadata": {
        "id": "4819b0ab"
      },
      "source": [
        "### 4G\n",
        "Some recordings of Amount appear to have been made in ounces rather than in milliliters. All of them should be in milliliters. Convert those in ounces to milliliters (1 oz. = 29.57 ml).\n",
        "\n",
        "Start by subsetting the data to only those observations containing oz, then apply the conversion to the *Amount_Eat* column and replace the values in the *Unit* column with ml.\n"
      ]
    },
    {
      "cell_type": "code",
      "execution_count": null,
      "id": "ea4c664c",
      "metadata": {
        "id": "ea4c664c"
      },
      "outputs": [],
      "source": [
        "df_oz = df[df['Unit'] == 'oz'] #subsets dataset to only contain oz\n",
        "df_oz['Amount_Eat'] = 29.57*df['Amount_Eat'] #applies conversion formula\n",
        "df_oz['Unit'] = df_oz['Unit'].replace('oz', 'ml') #replaces oz with ml\n",
        "df_oz.head() #just run this entire code block as is"
      ]
    },
    {
      "cell_type": "markdown",
      "source": [
        "###**4H**\n",
        "\n",
        "**Next, you'll combine your original dataframe with the new subset dataframe using the concat() method. Finally, drop rows containing 'oz' in the *Unit* column.**\n",
        "\n",
        "**Make sure you have the correct number of observations still by using the len() method.**"
      ],
      "metadata": {
        "id": "NncjHj__LVFW"
      },
      "id": "NncjHj__LVFW"
    },
    {
      "cell_type": "code",
      "execution_count": 24,
      "id": "4a29b798",
      "metadata": {
        "id": "4a29b798",
        "colab": {
          "base_uri": "https://localhost:8080/",
          "height": 0
        },
        "outputId": "c7913329-b9f3-4762-d103-d153aca87cad"
      },
      "outputs": [
        {
          "output_type": "execute_result",
          "data": {
            "text/plain": [
              "279"
            ]
          },
          "metadata": {},
          "execution_count": 24
        }
      ],
      "source": [
        "frames = [df, df_oz]\n",
        "df = pd.concat(frames) #combines the original df with the new subsetted df\n",
        "df = df[df.Unit != 'oz'] #removes rows containing oz\n",
        "\n",
        "#Replace with code to examine length of dataframe (see earlier portions of this assignment)\n",
        "len(df)"
      ]
    },
    {
      "cell_type": "markdown",
      "id": "f65ee35f",
      "metadata": {
        "id": "f65ee35f"
      },
      "source": [
        "### 4I\n",
        "\n",
        "Createa new column, called “IsFemale”. This column should include a 1 if the hummingbird that made the visit is female, or 0 if the hummingbird is male."
      ]
    },
    {
      "cell_type": "code",
      "execution_count": null,
      "id": "83340013",
      "metadata": {
        "id": "83340013"
      },
      "outputs": [],
      "source": [
        "#Replace with code to create new column called IsFemale using the np.where method\n",
        "df['IsFemale'] = np.where(df['Gender'] == 'female',1,0)\n",
        "df.head()"
      ]
    },
    {
      "cell_type": "markdown",
      "id": "22ee397a",
      "metadata": {
        "id": "22ee397a"
      },
      "source": [
        "### 4J\n",
        "Create a new column called Duration, which includes the duration of the visit in seconds. Creat this column from the *StartTime* and *EndTime* columns then convert to seconds using dt.total_seconds()."
      ]
    },
    {
      "cell_type": "code",
      "execution_count": 26,
      "id": "bee392ca",
      "metadata": {
        "id": "bee392ca"
      },
      "outputs": [],
      "source": [
        "df['Duration'] = df['EndTime'] - df['StartTime'] #creates new 'Duration' column by subtracting StartTime from EndTime"
      ]
    },
    {
      "cell_type": "code",
      "execution_count": null,
      "id": "68247fac",
      "metadata": {
        "id": "68247fac"
      },
      "outputs": [],
      "source": [
        "df['Duration'] = df['Duration'].dt.total_seconds() #converts 'Duration' to seconds\n",
        "df.head()"
      ]
    },
    {
      "cell_type": "markdown",
      "id": "499140a0",
      "metadata": {
        "id": "499140a0"
      },
      "source": [
        "### 4K\n",
        "\n",
        "View the full dataset, to spot check your cleaned data and address any remaining issues you notice."
      ]
    },
    {
      "cell_type": "code",
      "execution_count": null,
      "id": "7a9eeb1b",
      "metadata": {
        "id": "7a9eeb1b"
      },
      "outputs": [],
      "source": [
        "pd.set_option(\"display.max_rows\", None, \"display.max_columns\", None) #views full dataframe\n",
        "df"
      ]
    },
    {
      "cell_type": "code",
      "source": [
        "#Replace with code to remove any remaining unwanted columns\n",
        "df = df.drop('Unnamed: 10', axis = 1)\n",
        "df.head()"
      ],
      "metadata": {
        "id": "TpLqGAHGZtWz"
      },
      "id": "TpLqGAHGZtWz",
      "execution_count": null,
      "outputs": []
    },
    {
      "cell_type": "code",
      "source": [
        "pd.set_option(\"display.max_rows\", None, \"display.max_columns\", None) #views full dataframe\n",
        "df"
      ],
      "metadata": {
        "id": "PQB-DWsxqfee"
      },
      "id": "PQB-DWsxqfee",
      "execution_count": null,
      "outputs": []
    },
    {
      "cell_type": "markdown",
      "id": "9d081d03",
      "metadata": {
        "id": "9d081d03"
      },
      "source": [
        "## Q5\n",
        "\n",
        "When you’re finished cleaning the datafile, sort the file by Visit ID (low to high), then save the cleaned file as an Excel document for submission via Canvas."
      ]
    },
    {
      "cell_type": "code",
      "execution_count": null,
      "id": "1ebe2359",
      "metadata": {
        "id": "1ebe2359"
      },
      "outputs": [],
      "source": [
        "#Replace with code to set index to VisitID\n",
        "df = df.set_index('VisitID')\n",
        "df.sort_index() #sorts index"
      ]
    },
    {
      "cell_type": "code",
      "execution_count": 35,
      "id": "3a2a7f92",
      "metadata": {
        "id": "3a2a7f92",
        "colab": {
          "base_uri": "https://localhost:8080/",
          "height": 35
        },
        "outputId": "25c3f92f-e69e-4e16-9bae-701fcc0a8991"
      },
      "outputs": [
        {
          "output_type": "display_data",
          "data": {
            "text/plain": [
              "<IPython.core.display.Javascript object>"
            ],
            "application/javascript": [
              "\n",
              "    async function download(id, filename, size) {\n",
              "      if (!google.colab.kernel.accessAllowed) {\n",
              "        return;\n",
              "      }\n",
              "      const div = document.createElement('div');\n",
              "      const label = document.createElement('label');\n",
              "      label.textContent = `Downloading \"${filename}\": `;\n",
              "      div.appendChild(label);\n",
              "      const progress = document.createElement('progress');\n",
              "      progress.max = size;\n",
              "      div.appendChild(progress);\n",
              "      document.body.appendChild(div);\n",
              "\n",
              "      const buffers = [];\n",
              "      let downloaded = 0;\n",
              "\n",
              "      const channel = await google.colab.kernel.comms.open(id);\n",
              "      // Send a message to notify the kernel that we're ready.\n",
              "      channel.send({})\n",
              "\n",
              "      for await (const message of channel.messages) {\n",
              "        // Send a message to notify the kernel that we're ready.\n",
              "        channel.send({})\n",
              "        if (message.buffers) {\n",
              "          for (const buffer of message.buffers) {\n",
              "            buffers.push(buffer);\n",
              "            downloaded += buffer.byteLength;\n",
              "            progress.value = downloaded;\n",
              "          }\n",
              "        }\n",
              "      }\n",
              "      const blob = new Blob(buffers, {type: 'application/binary'});\n",
              "      const a = document.createElement('a');\n",
              "      a.href = window.URL.createObjectURL(blob);\n",
              "      a.download = filename;\n",
              "      div.appendChild(a);\n",
              "      a.click();\n",
              "      div.remove();\n",
              "    }\n",
              "  "
            ]
          },
          "metadata": {}
        },
        {
          "output_type": "display_data",
          "data": {
            "text/plain": [
              "<IPython.core.display.Javascript object>"
            ],
            "application/javascript": [
              "download(\"download_66f7a99b-10f3-4286-bc0d-784391bb2844\", \"cleaned_data_HB.xlsx\", 27207)"
            ]
          },
          "metadata": {}
        },
        {
          "output_type": "stream",
          "name": "stdout",
          "text": [
            "Current Date and Time: 2024-01-18 22:00:32\n"
          ]
        }
      ],
      "source": [
        "#export your cleaned Excel file for submission, along with your notebook\n",
        "\n",
        "#For Google Colab\n",
        "from google.colab import files\n",
        "df.to_excel(\"cleaned_data_HB.xlsx\")\n",
        "files.download(\"cleaned_data_HB.xlsx\")\n",
        "\n",
        "#For JupyterNotebooks\n",
        "df.to_excel(\"/content/hbdata-orig24.xlsx\")\n",
        "\n",
        "#keep below code to verify date/time of your work\n",
        "from datetime import datetime\n",
        "now = datetime.now()\n",
        "formatted_time = now.strftime(\"%Y-%m-%d %H:%M:%S\")\n",
        "print(f\"Current Date and Time: {formatted_time}\")"
      ]
    },
    {
      "cell_type": "markdown",
      "source": [
        "For submission to Canvas: Download/Save your .ipynb file, print your .ipynb file to PDF, and export your cleaned dataset as an Excel file."
      ],
      "metadata": {
        "id": "1ZVvUIfLrk5j"
      },
      "id": "1ZVvUIfLrk5j"
    }
  ],
  "metadata": {
    "kernelspec": {
      "display_name": "Python 3 (ipykernel)",
      "language": "python",
      "name": "python3"
    },
    "language_info": {
      "codemirror_mode": {
        "name": "ipython",
        "version": 3
      },
      "file_extension": ".py",
      "mimetype": "text/x-python",
      "name": "python",
      "nbconvert_exporter": "python",
      "pygments_lexer": "ipython3",
      "version": "3.9.7"
    },
    "colab": {
      "provenance": []
    }
  },
  "nbformat": 4,
  "nbformat_minor": 5
}