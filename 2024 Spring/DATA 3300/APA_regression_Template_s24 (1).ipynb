{
  "nbformat": 4,
  "nbformat_minor": 0,
  "metadata": {
    "colab": {
      "provenance": []
    },
    "kernelspec": {
      "name": "python3",
      "display_name": "Python 3"
    },
    "language_info": {
      "name": "python"
    }
  },
  "cells": [
    {
      "cell_type": "markdown",
      "source": [
        "# **APA - Linear Regression**\n",
        "# DATA 3300\n",
        "\n",
        "\n",
        "\n"
      ],
      "metadata": {
        "id": "pCCwCRWMp66y"
      }
    },
    {
      "cell_type": "markdown",
      "source": [
        "## Name(s): Chance Wiese"
      ],
      "metadata": {
        "id": "Re6Zcdd0qC1E"
      }
    },
    {
      "cell_type": "markdown",
      "source": [
        "**When conducting a linear regression analysis, it’s critical to conduct exploratory analytics to identify if the assumptions of linear regression (relationship is linear, independent error values, error values are normally distributed, and residuals are homoscedastic) are met, or if data need to be modified to meet these assumptions. *For the linear regression exercise and this APA, assume this has already been done.***"
      ],
      "metadata": {
        "id": "PIi-I5JyqG8b"
      }
    },
    {
      "cell_type": "markdown",
      "source": [
        "# Q1\n",
        "\n",
        "**Begin by importing the required packages (provided below), and then importing the cinema.xlsx dataset. View the heading of your dataframe.**"
      ],
      "metadata": {
        "id": "sKHxFfjOqMn2"
      }
    },
    {
      "cell_type": "code",
      "source": [
        "import pandas as pd\n",
        "import numpy as np\n",
        "import matplotlib.pyplot as plt\n",
        "import statsmodels.api as sm\n",
        "from sklearn.model_selection import train_test_split\n",
        "from sklearn.linear_model import LinearRegression\n",
        "import sklearn.metrics as metric"
      ],
      "metadata": {
        "id": "TjirQYuhqdy7"
      },
      "execution_count": 1,
      "outputs": []
    },
    {
      "cell_type": "code",
      "source": [
        "# replace with code to read in and preview cinema.xlsx file\n",
        "df = pd.read_excel(\"cinema-s24.xlsx\")\n",
        "df.head()"
      ],
      "metadata": {
        "id": "p45HRU2rqnAR",
        "colab": {
          "base_uri": "https://localhost:8080/",
          "height": 226
        },
        "outputId": "32ca9e15-baa4-4a1f-b146-4004e829efd6"
      },
      "execution_count": 3,
      "outputs": [
        {
          "output_type": "execute_result",
          "data": {
            "text/plain": [
              "  rating  rottentom  metacrit  wks sportevent  budget   genre  attend\n",
              "0     pg       0.61        58   14          n     195  action     322\n",
              "1     pg       0.72        63   14          y     120   drama     265\n",
              "2      r       0.51        47   10          y     128   drama     231\n",
              "3   pg13       0.93        71   11          n     134  action     401\n",
              "4   pg13       0.32        36    8          n      32  comedy     285"
            ],
            "text/html": [
              "\n",
              "  <div id=\"df-1cfd3e67-1a17-44d8-b45c-c74ab7790d6b\" class=\"colab-df-container\">\n",
              "    <div>\n",
              "<style scoped>\n",
              "    .dataframe tbody tr th:only-of-type {\n",
              "        vertical-align: middle;\n",
              "    }\n",
              "\n",
              "    .dataframe tbody tr th {\n",
              "        vertical-align: top;\n",
              "    }\n",
              "\n",
              "    .dataframe thead th {\n",
              "        text-align: right;\n",
              "    }\n",
              "</style>\n",
              "<table border=\"1\" class=\"dataframe\">\n",
              "  <thead>\n",
              "    <tr style=\"text-align: right;\">\n",
              "      <th></th>\n",
              "      <th>rating</th>\n",
              "      <th>rottentom</th>\n",
              "      <th>metacrit</th>\n",
              "      <th>wks</th>\n",
              "      <th>sportevent</th>\n",
              "      <th>budget</th>\n",
              "      <th>genre</th>\n",
              "      <th>attend</th>\n",
              "    </tr>\n",
              "  </thead>\n",
              "  <tbody>\n",
              "    <tr>\n",
              "      <th>0</th>\n",
              "      <td>pg</td>\n",
              "      <td>0.61</td>\n",
              "      <td>58</td>\n",
              "      <td>14</td>\n",
              "      <td>n</td>\n",
              "      <td>195</td>\n",
              "      <td>action</td>\n",
              "      <td>322</td>\n",
              "    </tr>\n",
              "    <tr>\n",
              "      <th>1</th>\n",
              "      <td>pg</td>\n",
              "      <td>0.72</td>\n",
              "      <td>63</td>\n",
              "      <td>14</td>\n",
              "      <td>y</td>\n",
              "      <td>120</td>\n",
              "      <td>drama</td>\n",
              "      <td>265</td>\n",
              "    </tr>\n",
              "    <tr>\n",
              "      <th>2</th>\n",
              "      <td>r</td>\n",
              "      <td>0.51</td>\n",
              "      <td>47</td>\n",
              "      <td>10</td>\n",
              "      <td>y</td>\n",
              "      <td>128</td>\n",
              "      <td>drama</td>\n",
              "      <td>231</td>\n",
              "    </tr>\n",
              "    <tr>\n",
              "      <th>3</th>\n",
              "      <td>pg13</td>\n",
              "      <td>0.93</td>\n",
              "      <td>71</td>\n",
              "      <td>11</td>\n",
              "      <td>n</td>\n",
              "      <td>134</td>\n",
              "      <td>action</td>\n",
              "      <td>401</td>\n",
              "    </tr>\n",
              "    <tr>\n",
              "      <th>4</th>\n",
              "      <td>pg13</td>\n",
              "      <td>0.32</td>\n",
              "      <td>36</td>\n",
              "      <td>8</td>\n",
              "      <td>n</td>\n",
              "      <td>32</td>\n",
              "      <td>comedy</td>\n",
              "      <td>285</td>\n",
              "    </tr>\n",
              "  </tbody>\n",
              "</table>\n",
              "</div>\n",
              "    <div class=\"colab-df-buttons\">\n",
              "\n",
              "  <div class=\"colab-df-container\">\n",
              "    <button class=\"colab-df-convert\" onclick=\"convertToInteractive('df-1cfd3e67-1a17-44d8-b45c-c74ab7790d6b')\"\n",
              "            title=\"Convert this dataframe to an interactive table.\"\n",
              "            style=\"display:none;\">\n",
              "\n",
              "  <svg xmlns=\"http://www.w3.org/2000/svg\" height=\"24px\" viewBox=\"0 -960 960 960\">\n",
              "    <path d=\"M120-120v-720h720v720H120Zm60-500h600v-160H180v160Zm220 220h160v-160H400v160Zm0 220h160v-160H400v160ZM180-400h160v-160H180v160Zm440 0h160v-160H620v160ZM180-180h160v-160H180v160Zm440 0h160v-160H620v160Z\"/>\n",
              "  </svg>\n",
              "    </button>\n",
              "\n",
              "  <style>\n",
              "    .colab-df-container {\n",
              "      display:flex;\n",
              "      gap: 12px;\n",
              "    }\n",
              "\n",
              "    .colab-df-convert {\n",
              "      background-color: #E8F0FE;\n",
              "      border: none;\n",
              "      border-radius: 50%;\n",
              "      cursor: pointer;\n",
              "      display: none;\n",
              "      fill: #1967D2;\n",
              "      height: 32px;\n",
              "      padding: 0 0 0 0;\n",
              "      width: 32px;\n",
              "    }\n",
              "\n",
              "    .colab-df-convert:hover {\n",
              "      background-color: #E2EBFA;\n",
              "      box-shadow: 0px 1px 2px rgba(60, 64, 67, 0.3), 0px 1px 3px 1px rgba(60, 64, 67, 0.15);\n",
              "      fill: #174EA6;\n",
              "    }\n",
              "\n",
              "    .colab-df-buttons div {\n",
              "      margin-bottom: 4px;\n",
              "    }\n",
              "\n",
              "    [theme=dark] .colab-df-convert {\n",
              "      background-color: #3B4455;\n",
              "      fill: #D2E3FC;\n",
              "    }\n",
              "\n",
              "    [theme=dark] .colab-df-convert:hover {\n",
              "      background-color: #434B5C;\n",
              "      box-shadow: 0px 1px 3px 1px rgba(0, 0, 0, 0.15);\n",
              "      filter: drop-shadow(0px 1px 2px rgba(0, 0, 0, 0.3));\n",
              "      fill: #FFFFFF;\n",
              "    }\n",
              "  </style>\n",
              "\n",
              "    <script>\n",
              "      const buttonEl =\n",
              "        document.querySelector('#df-1cfd3e67-1a17-44d8-b45c-c74ab7790d6b button.colab-df-convert');\n",
              "      buttonEl.style.display =\n",
              "        google.colab.kernel.accessAllowed ? 'block' : 'none';\n",
              "\n",
              "      async function convertToInteractive(key) {\n",
              "        const element = document.querySelector('#df-1cfd3e67-1a17-44d8-b45c-c74ab7790d6b');\n",
              "        const dataTable =\n",
              "          await google.colab.kernel.invokeFunction('convertToInteractive',\n",
              "                                                    [key], {});\n",
              "        if (!dataTable) return;\n",
              "\n",
              "        const docLinkHtml = 'Like what you see? Visit the ' +\n",
              "          '<a target=\"_blank\" href=https://colab.research.google.com/notebooks/data_table.ipynb>data table notebook</a>'\n",
              "          + ' to learn more about interactive tables.';\n",
              "        element.innerHTML = '';\n",
              "        dataTable['output_type'] = 'display_data';\n",
              "        await google.colab.output.renderOutput(dataTable, element);\n",
              "        const docLink = document.createElement('div');\n",
              "        docLink.innerHTML = docLinkHtml;\n",
              "        element.appendChild(docLink);\n",
              "      }\n",
              "    </script>\n",
              "  </div>\n",
              "\n",
              "\n",
              "<div id=\"df-6e33112f-0b10-4ec5-ba5e-229c2bc38aa1\">\n",
              "  <button class=\"colab-df-quickchart\" onclick=\"quickchart('df-6e33112f-0b10-4ec5-ba5e-229c2bc38aa1')\"\n",
              "            title=\"Suggest charts\"\n",
              "            style=\"display:none;\">\n",
              "\n",
              "<svg xmlns=\"http://www.w3.org/2000/svg\" height=\"24px\"viewBox=\"0 0 24 24\"\n",
              "     width=\"24px\">\n",
              "    <g>\n",
              "        <path d=\"M19 3H5c-1.1 0-2 .9-2 2v14c0 1.1.9 2 2 2h14c1.1 0 2-.9 2-2V5c0-1.1-.9-2-2-2zM9 17H7v-7h2v7zm4 0h-2V7h2v10zm4 0h-2v-4h2v4z\"/>\n",
              "    </g>\n",
              "</svg>\n",
              "  </button>\n",
              "\n",
              "<style>\n",
              "  .colab-df-quickchart {\n",
              "      --bg-color: #E8F0FE;\n",
              "      --fill-color: #1967D2;\n",
              "      --hover-bg-color: #E2EBFA;\n",
              "      --hover-fill-color: #174EA6;\n",
              "      --disabled-fill-color: #AAA;\n",
              "      --disabled-bg-color: #DDD;\n",
              "  }\n",
              "\n",
              "  [theme=dark] .colab-df-quickchart {\n",
              "      --bg-color: #3B4455;\n",
              "      --fill-color: #D2E3FC;\n",
              "      --hover-bg-color: #434B5C;\n",
              "      --hover-fill-color: #FFFFFF;\n",
              "      --disabled-bg-color: #3B4455;\n",
              "      --disabled-fill-color: #666;\n",
              "  }\n",
              "\n",
              "  .colab-df-quickchart {\n",
              "    background-color: var(--bg-color);\n",
              "    border: none;\n",
              "    border-radius: 50%;\n",
              "    cursor: pointer;\n",
              "    display: none;\n",
              "    fill: var(--fill-color);\n",
              "    height: 32px;\n",
              "    padding: 0;\n",
              "    width: 32px;\n",
              "  }\n",
              "\n",
              "  .colab-df-quickchart:hover {\n",
              "    background-color: var(--hover-bg-color);\n",
              "    box-shadow: 0 1px 2px rgba(60, 64, 67, 0.3), 0 1px 3px 1px rgba(60, 64, 67, 0.15);\n",
              "    fill: var(--button-hover-fill-color);\n",
              "  }\n",
              "\n",
              "  .colab-df-quickchart-complete:disabled,\n",
              "  .colab-df-quickchart-complete:disabled:hover {\n",
              "    background-color: var(--disabled-bg-color);\n",
              "    fill: var(--disabled-fill-color);\n",
              "    box-shadow: none;\n",
              "  }\n",
              "\n",
              "  .colab-df-spinner {\n",
              "    border: 2px solid var(--fill-color);\n",
              "    border-color: transparent;\n",
              "    border-bottom-color: var(--fill-color);\n",
              "    animation:\n",
              "      spin 1s steps(1) infinite;\n",
              "  }\n",
              "\n",
              "  @keyframes spin {\n",
              "    0% {\n",
              "      border-color: transparent;\n",
              "      border-bottom-color: var(--fill-color);\n",
              "      border-left-color: var(--fill-color);\n",
              "    }\n",
              "    20% {\n",
              "      border-color: transparent;\n",
              "      border-left-color: var(--fill-color);\n",
              "      border-top-color: var(--fill-color);\n",
              "    }\n",
              "    30% {\n",
              "      border-color: transparent;\n",
              "      border-left-color: var(--fill-color);\n",
              "      border-top-color: var(--fill-color);\n",
              "      border-right-color: var(--fill-color);\n",
              "    }\n",
              "    40% {\n",
              "      border-color: transparent;\n",
              "      border-right-color: var(--fill-color);\n",
              "      border-top-color: var(--fill-color);\n",
              "    }\n",
              "    60% {\n",
              "      border-color: transparent;\n",
              "      border-right-color: var(--fill-color);\n",
              "    }\n",
              "    80% {\n",
              "      border-color: transparent;\n",
              "      border-right-color: var(--fill-color);\n",
              "      border-bottom-color: var(--fill-color);\n",
              "    }\n",
              "    90% {\n",
              "      border-color: transparent;\n",
              "      border-bottom-color: var(--fill-color);\n",
              "    }\n",
              "  }\n",
              "</style>\n",
              "\n",
              "  <script>\n",
              "    async function quickchart(key) {\n",
              "      const quickchartButtonEl =\n",
              "        document.querySelector('#' + key + ' button');\n",
              "      quickchartButtonEl.disabled = true;  // To prevent multiple clicks.\n",
              "      quickchartButtonEl.classList.add('colab-df-spinner');\n",
              "      try {\n",
              "        const charts = await google.colab.kernel.invokeFunction(\n",
              "            'suggestCharts', [key], {});\n",
              "      } catch (error) {\n",
              "        console.error('Error during call to suggestCharts:', error);\n",
              "      }\n",
              "      quickchartButtonEl.classList.remove('colab-df-spinner');\n",
              "      quickchartButtonEl.classList.add('colab-df-quickchart-complete');\n",
              "    }\n",
              "    (() => {\n",
              "      let quickchartButtonEl =\n",
              "        document.querySelector('#df-6e33112f-0b10-4ec5-ba5e-229c2bc38aa1 button');\n",
              "      quickchartButtonEl.style.display =\n",
              "        google.colab.kernel.accessAllowed ? 'block' : 'none';\n",
              "    })();\n",
              "  </script>\n",
              "</div>\n",
              "    </div>\n",
              "  </div>\n"
            ],
            "application/vnd.google.colaboratory.intrinsic+json": {
              "type": "dataframe",
              "variable_name": "df",
              "summary": "{\n  \"name\": \"df\",\n  \"rows\": 159,\n  \"fields\": [\n    {\n      \"column\": \"rating\",\n      \"properties\": {\n        \"dtype\": \"category\",\n        \"num_unique_values\": 3,\n        \"samples\": [\n          \"pg\",\n          \"r\",\n          \"pg13\"\n        ],\n        \"semantic_type\": \"\",\n        \"description\": \"\"\n      }\n    },\n    {\n      \"column\": \"rottentom\",\n      \"properties\": {\n        \"dtype\": \"number\",\n        \"std\": 0.20531301769748572,\n        \"min\": 0.11,\n        \"max\": 0.95,\n        \"num_unique_values\": 70,\n        \"samples\": [\n          0.22,\n          0.61,\n          0.75\n        ],\n        \"semantic_type\": \"\",\n        \"description\": \"\"\n      }\n    },\n    {\n      \"column\": \"metacrit\",\n      \"properties\": {\n        \"dtype\": \"number\",\n        \"std\": 14,\n        \"min\": 24,\n        \"max\": 92,\n        \"num_unique_values\": 51,\n        \"samples\": [\n          57,\n          35,\n          24\n        ],\n        \"semantic_type\": \"\",\n        \"description\": \"\"\n      }\n    },\n    {\n      \"column\": \"wks\",\n      \"properties\": {\n        \"dtype\": \"number\",\n        \"std\": 2,\n        \"min\": 6,\n        \"max\": 20,\n        \"num_unique_values\": 15,\n        \"samples\": [\n          7,\n          17,\n          14\n        ],\n        \"semantic_type\": \"\",\n        \"description\": \"\"\n      }\n    },\n    {\n      \"column\": \"sportevent\",\n      \"properties\": {\n        \"dtype\": \"category\",\n        \"num_unique_values\": 2,\n        \"samples\": [\n          \"y\",\n          \"n\"\n        ],\n        \"semantic_type\": \"\",\n        \"description\": \"\"\n      }\n    },\n    {\n      \"column\": \"budget\",\n      \"properties\": {\n        \"dtype\": \"number\",\n        \"std\": 41,\n        \"min\": 15,\n        \"max\": 204,\n        \"num_unique_values\": 100,\n        \"samples\": [\n          204,\n          89\n        ],\n        \"semantic_type\": \"\",\n        \"description\": \"\"\n      }\n    },\n    {\n      \"column\": \"genre\",\n      \"properties\": {\n        \"dtype\": \"category\",\n        \"num_unique_values\": 3,\n        \"samples\": [\n          \"action\",\n          \"drama\"\n        ],\n        \"semantic_type\": \"\",\n        \"description\": \"\"\n      }\n    },\n    {\n      \"column\": \"attend\",\n      \"properties\": {\n        \"dtype\": \"number\",\n        \"std\": 83,\n        \"min\": 81,\n        \"max\": 473,\n        \"num_unique_values\": 128,\n        \"samples\": [\n          340,\n          379\n        ],\n        \"semantic_type\": \"\",\n        \"description\": \"\"\n      }\n    }\n  ]\n}"
            }
          },
          "metadata": {},
          "execution_count": 3
        }
      ]
    },
    {
      "cell_type": "markdown",
      "source": [
        "## A\n",
        "**Assume all variables are normally distributed. Run a Pearson CORRELATION analysis on your variables to examine relationships amongst all non-categorical variables. Remember to drop all variables from the correlation analysis that cannot be included.**\n",
        "\n",
        "**Present your correlation matrix in a color-mapped table.**\n",
        "\n"
      ],
      "metadata": {
        "id": "DOwCyYjqqxcd"
      }
    },
    {
      "cell_type": "code",
      "source": [
        "# replace with code to create new dataframe that drops variables that can't be included in correlation\n",
        "df_cor = df.drop([\"rating\",\"sportevent\",\"genre\"], axis=1)\n",
        "# replace with code to run correlation matrix\n",
        "cor_matrix2 = df_cor.corr()\n",
        "# replace with code to display matrix in color-mapped table\n",
        "cor_matrix2.style.background_gradient(cmap='coolwarm', axis=None, vmin=-1, vmax=1)"
      ],
      "metadata": {
        "id": "EEjxVd3Rqw5m",
        "colab": {
          "base_uri": "https://localhost:8080/",
          "height": 206
        },
        "outputId": "c624752a-9c85-4c7f-b7ea-c12dba993939"
      },
      "execution_count": 6,
      "outputs": [
        {
          "output_type": "execute_result",
          "data": {
            "text/plain": [
              "<pandas.io.formats.style.Styler at 0x7e51c719de40>"
            ],
            "text/html": [
              "<style type=\"text/css\">\n",
              "#T_77d18_row0_col0, #T_77d18_row1_col1, #T_77d18_row2_col2, #T_77d18_row3_col3, #T_77d18_row4_col4 {\n",
              "  background-color: #b40426;\n",
              "  color: #f1f1f1;\n",
              "}\n",
              "#T_77d18_row0_col1, #T_77d18_row1_col0 {\n",
              "  background-color: #c32e31;\n",
              "  color: #f1f1f1;\n",
              "}\n",
              "#T_77d18_row0_col2, #T_77d18_row2_col0 {\n",
              "  background-color: #efcfbf;\n",
              "  color: #000000;\n",
              "}\n",
              "#T_77d18_row0_col3, #T_77d18_row3_col0 {\n",
              "  background-color: #e6d7cf;\n",
              "  color: #000000;\n",
              "}\n",
              "#T_77d18_row0_col4, #T_77d18_row4_col0 {\n",
              "  background-color: #e16751;\n",
              "  color: #f1f1f1;\n",
              "}\n",
              "#T_77d18_row1_col2, #T_77d18_row2_col1 {\n",
              "  background-color: #ebd3c6;\n",
              "  color: #000000;\n",
              "}\n",
              "#T_77d18_row1_col3, #T_77d18_row3_col1 {\n",
              "  background-color: #e3d9d3;\n",
              "  color: #000000;\n",
              "}\n",
              "#T_77d18_row1_col4, #T_77d18_row4_col1 {\n",
              "  background-color: #e36c55;\n",
              "  color: #f1f1f1;\n",
              "}\n",
              "#T_77d18_row2_col3, #T_77d18_row3_col2 {\n",
              "  background-color: #f5a081;\n",
              "  color: #000000;\n",
              "}\n",
              "#T_77d18_row2_col4, #T_77d18_row4_col2 {\n",
              "  background-color: #d8dce2;\n",
              "  color: #000000;\n",
              "}\n",
              "#T_77d18_row3_col4, #T_77d18_row4_col3 {\n",
              "  background-color: #dbdcde;\n",
              "  color: #000000;\n",
              "}\n",
              "</style>\n",
              "<table id=\"T_77d18\" class=\"dataframe\">\n",
              "  <thead>\n",
              "    <tr>\n",
              "      <th class=\"blank level0\" >&nbsp;</th>\n",
              "      <th id=\"T_77d18_level0_col0\" class=\"col_heading level0 col0\" >rottentom</th>\n",
              "      <th id=\"T_77d18_level0_col1\" class=\"col_heading level0 col1\" >metacrit</th>\n",
              "      <th id=\"T_77d18_level0_col2\" class=\"col_heading level0 col2\" >wks</th>\n",
              "      <th id=\"T_77d18_level0_col3\" class=\"col_heading level0 col3\" >budget</th>\n",
              "      <th id=\"T_77d18_level0_col4\" class=\"col_heading level0 col4\" >attend</th>\n",
              "    </tr>\n",
              "  </thead>\n",
              "  <tbody>\n",
              "    <tr>\n",
              "      <th id=\"T_77d18_level0_row0\" class=\"row_heading level0 row0\" >rottentom</th>\n",
              "      <td id=\"T_77d18_row0_col0\" class=\"data row0 col0\" >1.000000</td>\n",
              "      <td id=\"T_77d18_row0_col1\" class=\"data row0 col1\" >0.917039</td>\n",
              "      <td id=\"T_77d18_row0_col2\" class=\"data row0 col2\" >0.164026</td>\n",
              "      <td id=\"T_77d18_row0_col3\" class=\"data row0 col3\" >0.074880</td>\n",
              "      <td id=\"T_77d18_row0_col4\" class=\"data row0 col4\" >0.721148</td>\n",
              "    </tr>\n",
              "    <tr>\n",
              "      <th id=\"T_77d18_level0_row1\" class=\"row_heading level0 row1\" >metacrit</th>\n",
              "      <td id=\"T_77d18_row1_col0\" class=\"data row1 col0\" >0.917039</td>\n",
              "      <td id=\"T_77d18_row1_col1\" class=\"data row1 col1\" >1.000000</td>\n",
              "      <td id=\"T_77d18_row1_col2\" class=\"data row1 col2\" >0.118245</td>\n",
              "      <td id=\"T_77d18_row1_col3\" class=\"data row1 col3\" >0.050960</td>\n",
              "      <td id=\"T_77d18_row1_col4\" class=\"data row1 col4\" >0.699187</td>\n",
              "    </tr>\n",
              "    <tr>\n",
              "      <th id=\"T_77d18_level0_row2\" class=\"row_heading level0 row2\" >wks</th>\n",
              "      <td id=\"T_77d18_row2_col0\" class=\"data row2 col0\" >0.164026</td>\n",
              "      <td id=\"T_77d18_row2_col1\" class=\"data row2 col1\" >0.118245</td>\n",
              "      <td id=\"T_77d18_row2_col2\" class=\"data row2 col2\" >1.000000</td>\n",
              "      <td id=\"T_77d18_row2_col3\" class=\"data row2 col3\" >0.465320</td>\n",
              "      <td id=\"T_77d18_row2_col4\" class=\"data row2 col4\" >-0.031286</td>\n",
              "    </tr>\n",
              "    <tr>\n",
              "      <th id=\"T_77d18_level0_row3\" class=\"row_heading level0 row3\" >budget</th>\n",
              "      <td id=\"T_77d18_row3_col0\" class=\"data row3 col0\" >0.074880</td>\n",
              "      <td id=\"T_77d18_row3_col1\" class=\"data row3 col1\" >0.050960</td>\n",
              "      <td id=\"T_77d18_row3_col2\" class=\"data row3 col2\" >0.465320</td>\n",
              "      <td id=\"T_77d18_row3_col3\" class=\"data row3 col3\" >1.000000</td>\n",
              "      <td id=\"T_77d18_row3_col4\" class=\"data row3 col4\" >-0.011895</td>\n",
              "    </tr>\n",
              "    <tr>\n",
              "      <th id=\"T_77d18_level0_row4\" class=\"row_heading level0 row4\" >attend</th>\n",
              "      <td id=\"T_77d18_row4_col0\" class=\"data row4 col0\" >0.721148</td>\n",
              "      <td id=\"T_77d18_row4_col1\" class=\"data row4 col1\" >0.699187</td>\n",
              "      <td id=\"T_77d18_row4_col2\" class=\"data row4 col2\" >-0.031286</td>\n",
              "      <td id=\"T_77d18_row4_col3\" class=\"data row4 col3\" >-0.011895</td>\n",
              "      <td id=\"T_77d18_row4_col4\" class=\"data row4 col4\" >1.000000</td>\n",
              "    </tr>\n",
              "  </tbody>\n",
              "</table>\n"
            ]
          },
          "metadata": {},
          "execution_count": 6
        }
      ]
    },
    {
      "cell_type": "markdown",
      "source": [
        "## B\n",
        "\n",
        "**What percentage of the variance in `attend` is determined by the variance in `metacrit`? (Show your formula.) Interpret what the $r$ and $R^2$ values mean.**\n",
        "\n"
      ],
      "metadata": {
        "id": "68Q834HmsAgM"
      }
    },
    {
      "cell_type": "code",
      "source": [
        "# replace with code to calculate and show R^2 value\n",
        "0.699187**2"
      ],
      "metadata": {
        "id": "LE4H1HOVsY_w",
        "colab": {
          "base_uri": "https://localhost:8080/"
        },
        "outputId": "c07ed09e-d50b-4103-b28c-f8d687fced5d"
      },
      "execution_count": 7,
      "outputs": [
        {
          "output_type": "execute_result",
          "data": {
            "text/plain": [
              "0.488862460969"
            ]
          },
          "metadata": {},
          "execution_count": 7
        }
      ]
    },
    {
      "cell_type": "markdown",
      "source": [
        "* r = 0.699187\n",
        "* R^2 = 0.488862\n",
        "\n",
        "* r is the correlation between attend and metacrit, meaning they have a strong positive correlation\n",
        "* R^2 = 49%, meaning 49% of variance in attend is determined by the variance in metacrit"
      ],
      "metadata": {
        "id": "uU3Gt6QKsu8L"
      }
    },
    {
      "cell_type": "markdown",
      "source": [
        "## C\n",
        "\n",
        "**Using an $r$-value of 0.8 or greater to determine collinearity, identify one pair of IVs that appears collinear.**\n",
        "\n",
        "**Identify the pair, provide the corresponding coefficient, and briefly discuss whether it makes sense for that pair to be collinear.**\n"
      ],
      "metadata": {
        "id": "btA_xXBGtU_W"
      }
    },
    {
      "cell_type": "markdown",
      "source": [
        "* metacrit - rottentom, r = 0.917039\n",
        "This makes sense because the higher something rates on rottentomatoes, the higher it will probably rate on metacritic"
      ],
      "metadata": {
        "id": "vPunQw8wtiM3"
      }
    },
    {
      "cell_type": "markdown",
      "source": [
        "# Q2\n",
        "\n",
        "**Run a linear regression analysis to create an estimation model to predict the weekly attendance of a movie. Remember to:**\n",
        "\n",
        "* **Preprocess any variables as necessary (hint: categorical)**\n",
        "* **Remove `metacrit` from your analysis (due to collinearity)**\n",
        "* **Set the DV as y (we're interested in predicting movie attendance)**\n",
        "* **Create a training and test set for your IVs (x) and your DV (y) as was shown in the ICE and in the Cheat Sheet**\n",
        "\n",
        "\n"
      ],
      "metadata": {
        "id": "5PRU6R63twmV"
      }
    },
    {
      "cell_type": "code",
      "source": [
        "df.columns"
      ],
      "metadata": {
        "colab": {
          "base_uri": "https://localhost:8080/"
        },
        "id": "WjMHewuGsBtO",
        "outputId": "2fc692b5-4725-4703-e660-5f661743874b"
      },
      "execution_count": 8,
      "outputs": [
        {
          "output_type": "execute_result",
          "data": {
            "text/plain": [
              "Index(['rating', 'rottentom', 'metacrit', 'wks', 'sportevent', 'budget',\n",
              "       'genre', 'attend'],\n",
              "      dtype='object')"
            ]
          },
          "metadata": {},
          "execution_count": 8
        }
      ]
    },
    {
      "cell_type": "code",
      "source": [
        "# replace with code to select IVs to include in analysis, assign to object called 'x'\n",
        "x = df.drop(['metacrit','attend'], axis=1)\n",
        "# replace with code to dummy code categorical variables\n",
        "x = pd.get_dummies(data = x, drop_first = True)\n",
        "# replace with code to view x\n",
        "x.head()"
      ],
      "metadata": {
        "id": "yK83fSGbukVb",
        "colab": {
          "base_uri": "https://localhost:8080/",
          "height": 226
        },
        "outputId": "24a067cd-2826-4c28-922c-8b6ff3b5d62e"
      },
      "execution_count": 16,
      "outputs": [
        {
          "output_type": "execute_result",
          "data": {
            "text/plain": [
              "   rottentom  wks  budget  rating_pg13  rating_r  sportevent_y  genre_comedy  \\\n",
              "0       0.61   14     195            0         0             0             0   \n",
              "1       0.72   14     120            0         0             1             0   \n",
              "2       0.51   10     128            0         1             1             0   \n",
              "3       0.93   11     134            1         0             0             0   \n",
              "4       0.32    8      32            1         0             0             1   \n",
              "\n",
              "   genre_drama  \n",
              "0            0  \n",
              "1            1  \n",
              "2            1  \n",
              "3            0  \n",
              "4            0  "
            ],
            "text/html": [
              "\n",
              "  <div id=\"df-f18c7ecd-7e7e-4a1e-8fca-a62076afd765\" class=\"colab-df-container\">\n",
              "    <div>\n",
              "<style scoped>\n",
              "    .dataframe tbody tr th:only-of-type {\n",
              "        vertical-align: middle;\n",
              "    }\n",
              "\n",
              "    .dataframe tbody tr th {\n",
              "        vertical-align: top;\n",
              "    }\n",
              "\n",
              "    .dataframe thead th {\n",
              "        text-align: right;\n",
              "    }\n",
              "</style>\n",
              "<table border=\"1\" class=\"dataframe\">\n",
              "  <thead>\n",
              "    <tr style=\"text-align: right;\">\n",
              "      <th></th>\n",
              "      <th>rottentom</th>\n",
              "      <th>wks</th>\n",
              "      <th>budget</th>\n",
              "      <th>rating_pg13</th>\n",
              "      <th>rating_r</th>\n",
              "      <th>sportevent_y</th>\n",
              "      <th>genre_comedy</th>\n",
              "      <th>genre_drama</th>\n",
              "    </tr>\n",
              "  </thead>\n",
              "  <tbody>\n",
              "    <tr>\n",
              "      <th>0</th>\n",
              "      <td>0.61</td>\n",
              "      <td>14</td>\n",
              "      <td>195</td>\n",
              "      <td>0</td>\n",
              "      <td>0</td>\n",
              "      <td>0</td>\n",
              "      <td>0</td>\n",
              "      <td>0</td>\n",
              "    </tr>\n",
              "    <tr>\n",
              "      <th>1</th>\n",
              "      <td>0.72</td>\n",
              "      <td>14</td>\n",
              "      <td>120</td>\n",
              "      <td>0</td>\n",
              "      <td>0</td>\n",
              "      <td>1</td>\n",
              "      <td>0</td>\n",
              "      <td>1</td>\n",
              "    </tr>\n",
              "    <tr>\n",
              "      <th>2</th>\n",
              "      <td>0.51</td>\n",
              "      <td>10</td>\n",
              "      <td>128</td>\n",
              "      <td>0</td>\n",
              "      <td>1</td>\n",
              "      <td>1</td>\n",
              "      <td>0</td>\n",
              "      <td>1</td>\n",
              "    </tr>\n",
              "    <tr>\n",
              "      <th>3</th>\n",
              "      <td>0.93</td>\n",
              "      <td>11</td>\n",
              "      <td>134</td>\n",
              "      <td>1</td>\n",
              "      <td>0</td>\n",
              "      <td>0</td>\n",
              "      <td>0</td>\n",
              "      <td>0</td>\n",
              "    </tr>\n",
              "    <tr>\n",
              "      <th>4</th>\n",
              "      <td>0.32</td>\n",
              "      <td>8</td>\n",
              "      <td>32</td>\n",
              "      <td>1</td>\n",
              "      <td>0</td>\n",
              "      <td>0</td>\n",
              "      <td>1</td>\n",
              "      <td>0</td>\n",
              "    </tr>\n",
              "  </tbody>\n",
              "</table>\n",
              "</div>\n",
              "    <div class=\"colab-df-buttons\">\n",
              "\n",
              "  <div class=\"colab-df-container\">\n",
              "    <button class=\"colab-df-convert\" onclick=\"convertToInteractive('df-f18c7ecd-7e7e-4a1e-8fca-a62076afd765')\"\n",
              "            title=\"Convert this dataframe to an interactive table.\"\n",
              "            style=\"display:none;\">\n",
              "\n",
              "  <svg xmlns=\"http://www.w3.org/2000/svg\" height=\"24px\" viewBox=\"0 -960 960 960\">\n",
              "    <path d=\"M120-120v-720h720v720H120Zm60-500h600v-160H180v160Zm220 220h160v-160H400v160Zm0 220h160v-160H400v160ZM180-400h160v-160H180v160Zm440 0h160v-160H620v160ZM180-180h160v-160H180v160Zm440 0h160v-160H620v160Z\"/>\n",
              "  </svg>\n",
              "    </button>\n",
              "\n",
              "  <style>\n",
              "    .colab-df-container {\n",
              "      display:flex;\n",
              "      gap: 12px;\n",
              "    }\n",
              "\n",
              "    .colab-df-convert {\n",
              "      background-color: #E8F0FE;\n",
              "      border: none;\n",
              "      border-radius: 50%;\n",
              "      cursor: pointer;\n",
              "      display: none;\n",
              "      fill: #1967D2;\n",
              "      height: 32px;\n",
              "      padding: 0 0 0 0;\n",
              "      width: 32px;\n",
              "    }\n",
              "\n",
              "    .colab-df-convert:hover {\n",
              "      background-color: #E2EBFA;\n",
              "      box-shadow: 0px 1px 2px rgba(60, 64, 67, 0.3), 0px 1px 3px 1px rgba(60, 64, 67, 0.15);\n",
              "      fill: #174EA6;\n",
              "    }\n",
              "\n",
              "    .colab-df-buttons div {\n",
              "      margin-bottom: 4px;\n",
              "    }\n",
              "\n",
              "    [theme=dark] .colab-df-convert {\n",
              "      background-color: #3B4455;\n",
              "      fill: #D2E3FC;\n",
              "    }\n",
              "\n",
              "    [theme=dark] .colab-df-convert:hover {\n",
              "      background-color: #434B5C;\n",
              "      box-shadow: 0px 1px 3px 1px rgba(0, 0, 0, 0.15);\n",
              "      filter: drop-shadow(0px 1px 2px rgba(0, 0, 0, 0.3));\n",
              "      fill: #FFFFFF;\n",
              "    }\n",
              "  </style>\n",
              "\n",
              "    <script>\n",
              "      const buttonEl =\n",
              "        document.querySelector('#df-f18c7ecd-7e7e-4a1e-8fca-a62076afd765 button.colab-df-convert');\n",
              "      buttonEl.style.display =\n",
              "        google.colab.kernel.accessAllowed ? 'block' : 'none';\n",
              "\n",
              "      async function convertToInteractive(key) {\n",
              "        const element = document.querySelector('#df-f18c7ecd-7e7e-4a1e-8fca-a62076afd765');\n",
              "        const dataTable =\n",
              "          await google.colab.kernel.invokeFunction('convertToInteractive',\n",
              "                                                    [key], {});\n",
              "        if (!dataTable) return;\n",
              "\n",
              "        const docLinkHtml = 'Like what you see? Visit the ' +\n",
              "          '<a target=\"_blank\" href=https://colab.research.google.com/notebooks/data_table.ipynb>data table notebook</a>'\n",
              "          + ' to learn more about interactive tables.';\n",
              "        element.innerHTML = '';\n",
              "        dataTable['output_type'] = 'display_data';\n",
              "        await google.colab.output.renderOutput(dataTable, element);\n",
              "        const docLink = document.createElement('div');\n",
              "        docLink.innerHTML = docLinkHtml;\n",
              "        element.appendChild(docLink);\n",
              "      }\n",
              "    </script>\n",
              "  </div>\n",
              "\n",
              "\n",
              "<div id=\"df-b87eaced-550f-41ea-b09d-6007a1b05916\">\n",
              "  <button class=\"colab-df-quickchart\" onclick=\"quickchart('df-b87eaced-550f-41ea-b09d-6007a1b05916')\"\n",
              "            title=\"Suggest charts\"\n",
              "            style=\"display:none;\">\n",
              "\n",
              "<svg xmlns=\"http://www.w3.org/2000/svg\" height=\"24px\"viewBox=\"0 0 24 24\"\n",
              "     width=\"24px\">\n",
              "    <g>\n",
              "        <path d=\"M19 3H5c-1.1 0-2 .9-2 2v14c0 1.1.9 2 2 2h14c1.1 0 2-.9 2-2V5c0-1.1-.9-2-2-2zM9 17H7v-7h2v7zm4 0h-2V7h2v10zm4 0h-2v-4h2v4z\"/>\n",
              "    </g>\n",
              "</svg>\n",
              "  </button>\n",
              "\n",
              "<style>\n",
              "  .colab-df-quickchart {\n",
              "      --bg-color: #E8F0FE;\n",
              "      --fill-color: #1967D2;\n",
              "      --hover-bg-color: #E2EBFA;\n",
              "      --hover-fill-color: #174EA6;\n",
              "      --disabled-fill-color: #AAA;\n",
              "      --disabled-bg-color: #DDD;\n",
              "  }\n",
              "\n",
              "  [theme=dark] .colab-df-quickchart {\n",
              "      --bg-color: #3B4455;\n",
              "      --fill-color: #D2E3FC;\n",
              "      --hover-bg-color: #434B5C;\n",
              "      --hover-fill-color: #FFFFFF;\n",
              "      --disabled-bg-color: #3B4455;\n",
              "      --disabled-fill-color: #666;\n",
              "  }\n",
              "\n",
              "  .colab-df-quickchart {\n",
              "    background-color: var(--bg-color);\n",
              "    border: none;\n",
              "    border-radius: 50%;\n",
              "    cursor: pointer;\n",
              "    display: none;\n",
              "    fill: var(--fill-color);\n",
              "    height: 32px;\n",
              "    padding: 0;\n",
              "    width: 32px;\n",
              "  }\n",
              "\n",
              "  .colab-df-quickchart:hover {\n",
              "    background-color: var(--hover-bg-color);\n",
              "    box-shadow: 0 1px 2px rgba(60, 64, 67, 0.3), 0 1px 3px 1px rgba(60, 64, 67, 0.15);\n",
              "    fill: var(--button-hover-fill-color);\n",
              "  }\n",
              "\n",
              "  .colab-df-quickchart-complete:disabled,\n",
              "  .colab-df-quickchart-complete:disabled:hover {\n",
              "    background-color: var(--disabled-bg-color);\n",
              "    fill: var(--disabled-fill-color);\n",
              "    box-shadow: none;\n",
              "  }\n",
              "\n",
              "  .colab-df-spinner {\n",
              "    border: 2px solid var(--fill-color);\n",
              "    border-color: transparent;\n",
              "    border-bottom-color: var(--fill-color);\n",
              "    animation:\n",
              "      spin 1s steps(1) infinite;\n",
              "  }\n",
              "\n",
              "  @keyframes spin {\n",
              "    0% {\n",
              "      border-color: transparent;\n",
              "      border-bottom-color: var(--fill-color);\n",
              "      border-left-color: var(--fill-color);\n",
              "    }\n",
              "    20% {\n",
              "      border-color: transparent;\n",
              "      border-left-color: var(--fill-color);\n",
              "      border-top-color: var(--fill-color);\n",
              "    }\n",
              "    30% {\n",
              "      border-color: transparent;\n",
              "      border-left-color: var(--fill-color);\n",
              "      border-top-color: var(--fill-color);\n",
              "      border-right-color: var(--fill-color);\n",
              "    }\n",
              "    40% {\n",
              "      border-color: transparent;\n",
              "      border-right-color: var(--fill-color);\n",
              "      border-top-color: var(--fill-color);\n",
              "    }\n",
              "    60% {\n",
              "      border-color: transparent;\n",
              "      border-right-color: var(--fill-color);\n",
              "    }\n",
              "    80% {\n",
              "      border-color: transparent;\n",
              "      border-right-color: var(--fill-color);\n",
              "      border-bottom-color: var(--fill-color);\n",
              "    }\n",
              "    90% {\n",
              "      border-color: transparent;\n",
              "      border-bottom-color: var(--fill-color);\n",
              "    }\n",
              "  }\n",
              "</style>\n",
              "\n",
              "  <script>\n",
              "    async function quickchart(key) {\n",
              "      const quickchartButtonEl =\n",
              "        document.querySelector('#' + key + ' button');\n",
              "      quickchartButtonEl.disabled = true;  // To prevent multiple clicks.\n",
              "      quickchartButtonEl.classList.add('colab-df-spinner');\n",
              "      try {\n",
              "        const charts = await google.colab.kernel.invokeFunction(\n",
              "            'suggestCharts', [key], {});\n",
              "      } catch (error) {\n",
              "        console.error('Error during call to suggestCharts:', error);\n",
              "      }\n",
              "      quickchartButtonEl.classList.remove('colab-df-spinner');\n",
              "      quickchartButtonEl.classList.add('colab-df-quickchart-complete');\n",
              "    }\n",
              "    (() => {\n",
              "      let quickchartButtonEl =\n",
              "        document.querySelector('#df-b87eaced-550f-41ea-b09d-6007a1b05916 button');\n",
              "      quickchartButtonEl.style.display =\n",
              "        google.colab.kernel.accessAllowed ? 'block' : 'none';\n",
              "    })();\n",
              "  </script>\n",
              "</div>\n",
              "    </div>\n",
              "  </div>\n"
            ],
            "application/vnd.google.colaboratory.intrinsic+json": {
              "type": "dataframe",
              "variable_name": "x",
              "summary": "{\n  \"name\": \"x\",\n  \"rows\": 159,\n  \"fields\": [\n    {\n      \"column\": \"rottentom\",\n      \"properties\": {\n        \"dtype\": \"number\",\n        \"std\": 0.20531301769748572,\n        \"min\": 0.11,\n        \"max\": 0.95,\n        \"num_unique_values\": 70,\n        \"samples\": [\n          0.22,\n          0.61,\n          0.75\n        ],\n        \"semantic_type\": \"\",\n        \"description\": \"\"\n      }\n    },\n    {\n      \"column\": \"wks\",\n      \"properties\": {\n        \"dtype\": \"number\",\n        \"std\": 2,\n        \"min\": 6,\n        \"max\": 20,\n        \"num_unique_values\": 15,\n        \"samples\": [\n          7,\n          17,\n          14\n        ],\n        \"semantic_type\": \"\",\n        \"description\": \"\"\n      }\n    },\n    {\n      \"column\": \"budget\",\n      \"properties\": {\n        \"dtype\": \"number\",\n        \"std\": 41,\n        \"min\": 15,\n        \"max\": 204,\n        \"num_unique_values\": 100,\n        \"samples\": [\n          204,\n          89,\n          146\n        ],\n        \"semantic_type\": \"\",\n        \"description\": \"\"\n      }\n    },\n    {\n      \"column\": \"rating_pg13\",\n      \"properties\": {\n        \"dtype\": \"uint8\",\n        \"num_unique_values\": 2,\n        \"samples\": [\n          1,\n          0\n        ],\n        \"semantic_type\": \"\",\n        \"description\": \"\"\n      }\n    },\n    {\n      \"column\": \"rating_r\",\n      \"properties\": {\n        \"dtype\": \"uint8\",\n        \"num_unique_values\": 2,\n        \"samples\": [\n          1,\n          0\n        ],\n        \"semantic_type\": \"\",\n        \"description\": \"\"\n      }\n    },\n    {\n      \"column\": \"sportevent_y\",\n      \"properties\": {\n        \"dtype\": \"uint8\",\n        \"num_unique_values\": 2,\n        \"samples\": [\n          1,\n          0\n        ],\n        \"semantic_type\": \"\",\n        \"description\": \"\"\n      }\n    },\n    {\n      \"column\": \"genre_comedy\",\n      \"properties\": {\n        \"dtype\": \"uint8\",\n        \"num_unique_values\": 2,\n        \"samples\": [\n          1,\n          0\n        ],\n        \"semantic_type\": \"\",\n        \"description\": \"\"\n      }\n    },\n    {\n      \"column\": \"genre_drama\",\n      \"properties\": {\n        \"dtype\": \"uint8\",\n        \"num_unique_values\": 2,\n        \"samples\": [\n          1,\n          0\n        ],\n        \"semantic_type\": \"\",\n        \"description\": \"\"\n      }\n    }\n  ]\n}"
            }
          },
          "metadata": {},
          "execution_count": 16
        }
      ]
    },
    {
      "cell_type": "code",
      "source": [
        "# replace with code to set attendance as your DV, in an object called 'y'\n",
        "y = df['attend']"
      ],
      "metadata": {
        "id": "j4Isg-rgvCxi"
      },
      "execution_count": 17,
      "outputs": []
    },
    {
      "cell_type": "code",
      "source": [
        "# replace with code to create 4 dataframe objects x_train, x_test, y_train, y_test. Set test_size to 0.2, set random_state to 101\n",
        "x_train, x_test, y_train, y_test = train_test_split(x, y, test_size = 0.2, random_state = 101)"
      ],
      "metadata": {
        "id": "-A-IebVBvJY-"
      },
      "execution_count": 18,
      "outputs": []
    },
    {
      "cell_type": "code",
      "source": [
        "# replace with code to add constant to x_train, assign to object called x_train_Sm\n",
        "x_train_Sm = sm.add_constant(x_train)\n",
        "# replace with code to fit model to x_train_Sm and y_train, assign to object called ls\n",
        "ls = sm.OLS(y_train, x_train_Sm).fit()\n",
        "# replace with code to print summary of ls\n",
        "print(ls.summary())"
      ],
      "metadata": {
        "id": "Zr3Vtam4va-3",
        "colab": {
          "base_uri": "https://localhost:8080/"
        },
        "outputId": "96b7b5e0-2ced-462b-dbef-40145b686b65"
      },
      "execution_count": 21,
      "outputs": [
        {
          "output_type": "stream",
          "name": "stdout",
          "text": [
            "                            OLS Regression Results                            \n",
            "==============================================================================\n",
            "Dep. Variable:                 attend   R-squared:                       0.646\n",
            "Model:                            OLS   Adj. R-squared:                  0.622\n",
            "Method:                 Least Squares   F-statistic:                     26.93\n",
            "Date:                Thu, 07 Mar 2024   Prob (F-statistic):           2.54e-23\n",
            "Time:                        21:14:07   Log-Likelihood:                -680.99\n",
            "No. Observations:                 127   AIC:                             1380.\n",
            "Df Residuals:                     118   BIC:                             1406.\n",
            "Df Model:                           8                                         \n",
            "Covariance Type:            nonrobust                                         \n",
            "================================================================================\n",
            "                   coef    std err          t      P>|t|      [0.025      0.975]\n",
            "--------------------------------------------------------------------------------\n",
            "const          169.0673     32.731      5.165      0.000     104.252     233.883\n",
            "rottentom      326.3472     24.169     13.503      0.000     278.485     374.209\n",
            "wks             -3.5078      2.017     -1.739      0.085      -7.501       0.486\n",
            "budget          -0.0856      0.145     -0.592      0.555      -0.372       0.201\n",
            "rating_pg13      8.0052     13.411      0.597      0.552     -18.551      34.562\n",
            "rating_r        -2.8943     12.864     -0.225      0.822     -28.368      22.579\n",
            "sportevent_y   -44.6694      9.947     -4.491      0.000     -64.367     -24.972\n",
            "genre_comedy    14.1079     19.578      0.721      0.473     -24.662      52.878\n",
            "genre_drama    -19.7660     11.807     -1.674      0.097     -43.147       3.615\n",
            "==============================================================================\n",
            "Omnibus:                       39.466   Durbin-Watson:                   2.221\n",
            "Prob(Omnibus):                  0.000   Jarque-Bera (JB):               98.839\n",
            "Skew:                          -1.208   Prob(JB):                     3.45e-22\n",
            "Kurtosis:                       6.583   Cond. No.                         973.\n",
            "==============================================================================\n",
            "\n",
            "Notes:\n",
            "[1] Standard Errors assume that the covariance matrix of the errors is correctly specified.\n"
          ]
        }
      ]
    },
    {
      "cell_type": "markdown",
      "source": [
        "## A\n",
        "\n",
        "**Using a value of α = 0.1, identify the IVs with an *insignificant* relationship with the DV. For each, provide the IV and the corresponding p-value. *Note that if any part of a multi-part variable is significant, then the entire variable (including those that appear insignificant) is considered to have a significant relationship.***\n",
        "\n",
        "**How do you know each IV’s impact on the DV is insignificant?**\n"
      ],
      "metadata": {
        "id": "Z756Huw8wRZe"
      }
    },
    {
      "cell_type": "markdown",
      "source": [
        "budget, rating_pg13, rating_r, and genre_comedy are all insignificant because they have p-values greater than the threashhold of 0.1"
      ],
      "metadata": {
        "id": "xHc0dd5wFthu"
      }
    },
    {
      "cell_type": "markdown",
      "source": [
        "## B\n",
        "\n",
        "**Remove the variable with the highest p-value (note that if a multi-part variable is to be removed, all parts should be removed simultaneously), re-run the analysis, and include the summary table. Repeat this step until all IVs are significant at α = 0.1.**\n"
      ],
      "metadata": {
        "id": "XnekV6mdxXNi"
      }
    },
    {
      "cell_type": "code",
      "source": [
        "# replace with code to drop variable(s) with highest p-value\n",
        "x_train_Sm = x_train_Sm.drop(['budget'], axis=1)\n",
        "# replace with code to retrain the model\n",
        "ls = sm.OLS(y_train, x_train_Sm).fit()\n",
        "# replace with code to display summary statistics of model\n",
        "print(ls.summary())"
      ],
      "metadata": {
        "id": "KTPNxQDtxpdQ",
        "colab": {
          "base_uri": "https://localhost:8080/"
        },
        "outputId": "2ed2e527-0258-496d-a46d-fc95ed562c50"
      },
      "execution_count": 22,
      "outputs": [
        {
          "output_type": "stream",
          "name": "stdout",
          "text": [
            "                            OLS Regression Results                            \n",
            "==============================================================================\n",
            "Dep. Variable:                 attend   R-squared:                       0.645\n",
            "Model:                            OLS   Adj. R-squared:                  0.624\n",
            "Method:                 Least Squares   F-statistic:                     30.89\n",
            "Date:                Thu, 07 Mar 2024   Prob (F-statistic):           5.20e-24\n",
            "Time:                        21:14:18   Log-Likelihood:                -681.18\n",
            "No. Observations:                 127   AIC:                             1378.\n",
            "Df Residuals:                     119   BIC:                             1401.\n",
            "Df Model:                           7                                         \n",
            "Covariance Type:            nonrobust                                         \n",
            "================================================================================\n",
            "                   coef    std err          t      P>|t|      [0.025      0.975]\n",
            "--------------------------------------------------------------------------------\n",
            "const          165.8741     32.195      5.152      0.000     102.125     229.623\n",
            "rottentom      326.4333     24.103     13.543      0.000     278.707     374.159\n",
            "wks             -4.0153      1.820     -2.206      0.029      -7.619      -0.411\n",
            "rating_pg13      6.0734     12.972      0.468      0.640     -19.612      31.759\n",
            "rating_r        -4.4553     12.556     -0.355      0.723     -29.318      20.407\n",
            "sportevent_y   -44.2829      9.898     -4.474      0.000     -63.882     -24.683\n",
            "genre_comedy    18.2742     18.219      1.003      0.318     -17.802      54.350\n",
            "genre_drama    -19.5894     11.771     -1.664      0.099     -42.897       3.718\n",
            "==============================================================================\n",
            "Omnibus:                       38.263   Durbin-Watson:                   2.235\n",
            "Prob(Omnibus):                  0.000   Jarque-Bera (JB):               92.203\n",
            "Skew:                          -1.187   Prob(JB):                     9.52e-21\n",
            "Kurtosis:                       6.434   Cond. No.                         98.2\n",
            "==============================================================================\n",
            "\n",
            "Notes:\n",
            "[1] Standard Errors assume that the covariance matrix of the errors is correctly specified.\n"
          ]
        }
      ]
    },
    {
      "cell_type": "code",
      "source": [
        "# replace with code to drop remaining IV with p-value above 0.1\n",
        "x_train_Sm = x_train_Sm.drop(['rating_pg13','rating_r'], axis=1)\n",
        "# replace with code to retrain the model\n",
        "ls = sm.OLS(y_train, x_train_Sm).fit()\n",
        "# replace with code to display summary statistics of model\n",
        "print(ls.summary())"
      ],
      "metadata": {
        "id": "yd8id2msx__5",
        "colab": {
          "base_uri": "https://localhost:8080/"
        },
        "outputId": "001f6f14-2c8a-426e-a44f-25a02735be67"
      },
      "execution_count": 23,
      "outputs": [
        {
          "output_type": "stream",
          "name": "stdout",
          "text": [
            "                            OLS Regression Results                            \n",
            "==============================================================================\n",
            "Dep. Variable:                 attend   R-squared:                       0.643\n",
            "Model:                            OLS   Adj. R-squared:                  0.628\n",
            "Method:                 Least Squares   F-statistic:                     43.56\n",
            "Date:                Thu, 07 Mar 2024   Prob (F-statistic):           1.69e-25\n",
            "Time:                        21:15:08   Log-Likelihood:                -681.56\n",
            "No. Observations:                 127   AIC:                             1375.\n",
            "Df Residuals:                     121   BIC:                             1392.\n",
            "Df Model:                           5                                         \n",
            "Covariance Type:            nonrobust                                         \n",
            "================================================================================\n",
            "                   coef    std err          t      P>|t|      [0.025      0.975]\n",
            "--------------------------------------------------------------------------------\n",
            "const          169.2623     25.443      6.653      0.000     118.891     219.634\n",
            "rottentom      325.4425     23.458     13.874      0.000     279.002     371.883\n",
            "wks             -4.0788      1.702     -2.397      0.018      -7.448      -0.709\n",
            "sportevent_y   -45.0224      9.644     -4.669      0.000     -64.114     -25.930\n",
            "genre_comedy    16.4691     17.882      0.921      0.359     -18.934      51.872\n",
            "genre_drama    -22.8791     10.999     -2.080      0.040     -44.654      -1.104\n",
            "==============================================================================\n",
            "Omnibus:                       40.230   Durbin-Watson:                   2.250\n",
            "Prob(Omnibus):                  0.000   Jarque-Bera (JB):              105.105\n",
            "Skew:                          -1.213   Prob(JB):                     1.50e-23\n",
            "Kurtosis:                       6.738   Cond. No.                         81.2\n",
            "==============================================================================\n",
            "\n",
            "Notes:\n",
            "[1] Standard Errors assume that the covariance matrix of the errors is correctly specified.\n"
          ]
        }
      ]
    },
    {
      "cell_type": "markdown",
      "source": [
        "# Q3\n",
        "\n",
        "**Intepret the final data table. Specifically:**\n",
        "\n",
        "## A\n",
        "**How would you interpret the coefficient of `genre_drama`, knowing that `genre_action` is the reference group?**\n",
        "\n",
        "**Is there a statistically significant difference in attendance between `genre_drama` and `genre_action`? How about between `genre_comedy` and `genre action`?**\n",
        "\n"
      ],
      "metadata": {
        "id": "gUPVf--lyYGw"
      }
    },
    {
      "cell_type": "markdown",
      "source": [
        "* On average, about 22 less people attend drama movies, compared to action movies\n",
        "* There is a significant difference in attendance between drama and action as their p value is below 0.1.\n",
        "* there is not a significant difference between action and comedy, as the p value is above 0.1."
      ],
      "metadata": {
        "id": "nz92vex29hiN"
      }
    },
    {
      "cell_type": "markdown",
      "source": [
        "## B\n",
        "**Develop a data visualization that includes the data points with the line of best fit (linear regression model) that illustrates the relationship between `attend` and `rottentom`.**\n",
        "\n"
      ],
      "metadata": {
        "id": "joUSpab41tqK"
      }
    },
    {
      "cell_type": "code",
      "source": [
        "# replace with code to import seaborn as sns\n",
        "import seaborn as sns\n",
        "# replace with code to produce regression plot, pull x and y from df (e.g., y=df['attend'])\n",
        "sns.regplot(x = df['rottentom'], y = df['attend'])\n",
        "# replace with code to label x-axis\n",
        "plt.xlabel(\"Rottentom Score\")\n",
        "# replace with code to label y-axis\n",
        "plt.ylabel(\"Attendance\")"
      ],
      "metadata": {
        "id": "oBlHTQPW1o7S",
        "colab": {
          "base_uri": "https://localhost:8080/",
          "height": 467
        },
        "outputId": "1b8d3240-c4ff-4c91-fc80-1f2e9db56012"
      },
      "execution_count": 26,
      "outputs": [
        {
          "output_type": "execute_result",
          "data": {
            "text/plain": [
              "Text(0, 0.5, 'Attendance')"
            ]
          },
          "metadata": {},
          "execution_count": 26
        },
        {
          "output_type": "display_data",
          "data": {
            "text/plain": [
              "<Figure size 640x480 with 1 Axes>"
            ],
            "image/png": "[encoded data removed]"
          },
          "metadata": {}
        }
      ]
    },
    {
      "cell_type": "markdown",
      "source": [
        "## C\n",
        "\n",
        "**Evaluate the performance of your final model by fitting it to the test set, this will give us an idea of how well our model would generalize to new data.**\n",
        "\n",
        "**Print out both the mean squared error and the R-Squared of the model, fit to the test set data.**\n",
        "\n",
        "**How does the $R^2$ of test set compare to that of training set? Is it higher or lower, what could this indicate?**\n"
      ],
      "metadata": {
        "id": "VSlAsi0H2ggE"
      }
    },
    {
      "cell_type": "code",
      "source": [
        "# replace with code to set LinearRegression function as object called 'model'\n",
        "model = LinearRegression()\n",
        "# replace with code to fit your finalized training set to the model\n",
        "model.fit(x_train_Sm, y_train)"
      ],
      "metadata": {
        "id": "fUVEq1Ws3KEL",
        "colab": {
          "base_uri": "https://localhost:8080/",
          "height": 75
        },
        "outputId": "95dd6723-81c9-4063-836e-141e4d251664"
      },
      "execution_count": 27,
      "outputs": [
        {
          "output_type": "execute_result",
          "data": {
            "text/plain": [
              "LinearRegression()"
            ],
            "text/html": [
              "<style>#sk-container-id-1 {color: black;background-color: white;}#sk-container-id-1 pre{padding: 0;}#sk-container-id-1 div.sk-toggleable {background-color: white;}#sk-container-id-1 label.sk-toggleable__label {cursor: pointer;display: block;width: 100%;margin-bottom: 0;padding: 0.3em;box-sizing: border-box;text-align: center;}#sk-container-id-1 label.sk-toggleable__label-arrow:before {content: \"▸\";float: left;margin-right: 0.25em;color: #696969;}#sk-container-id-1 label.sk-toggleable__label-arrow:hover:before {color: black;}#sk-container-id-1 div.sk-estimator:hover label.sk-toggleable__label-arrow:before {color: black;}#sk-container-id-1 div.sk-toggleable__content {max-height: 0;max-width: 0;overflow: hidden;text-align: left;background-color: #f0f8ff;}#sk-container-id-1 div.sk-toggleable__content pre {margin: 0.2em;color: black;border-radius: 0.25em;background-color: #f0f8ff;}#sk-container-id-1 input.sk-toggleable__control:checked~div.sk-toggleable__content {max-height: 200px;max-width: 100%;overflow: auto;}#sk-container-id-1 input.sk-toggleable__control:checked~label.sk-toggleable__label-arrow:before {content: \"▾\";}#sk-container-id-1 div.sk-estimator input.sk-toggleable__control:checked~label.sk-toggleable__label {background-color: #d4ebff;}#sk-container-id-1 div.sk-label input.sk-toggleable__control:checked~label.sk-toggleable__label {background-color: #d4ebff;}#sk-container-id-1 input.sk-hidden--visually {border: 0;clip: rect(1px 1px 1px 1px);clip: rect(1px, 1px, 1px, 1px);height: 1px;margin: -1px;overflow: hidden;padding: 0;position: absolute;width: 1px;}#sk-container-id-1 div.sk-estimator {font-family: monospace;background-color: #f0f8ff;border: 1px dotted black;border-radius: 0.25em;box-sizing: border-box;margin-bottom: 0.5em;}#sk-container-id-1 div.sk-estimator:hover {background-color: #d4ebff;}#sk-container-id-1 div.sk-parallel-item::after {content: \"\";width: 100%;border-bottom: 1px solid gray;flex-grow: 1;}#sk-container-id-1 div.sk-label:hover label.sk-toggleable__label {background-color: #d4ebff;}#sk-container-id-1 div.sk-serial::before {content: \"\";position: absolute;border-left: 1px solid gray;box-sizing: border-box;top: 0;bottom: 0;left: 50%;z-index: 0;}#sk-container-id-1 div.sk-serial {display: flex;flex-direction: column;align-items: center;background-color: white;padding-right: 0.2em;padding-left: 0.2em;position: relative;}#sk-container-id-1 div.sk-item {position: relative;z-index: 1;}#sk-container-id-1 div.sk-parallel {display: flex;align-items: stretch;justify-content: center;background-color: white;position: relative;}#sk-container-id-1 div.sk-item::before, #sk-container-id-1 div.sk-parallel-item::before {content: \"\";position: absolute;border-left: 1px solid gray;box-sizing: border-box;top: 0;bottom: 0;left: 50%;z-index: -1;}#sk-container-id-1 div.sk-parallel-item {display: flex;flex-direction: column;z-index: 1;position: relative;background-color: white;}#sk-container-id-1 div.sk-parallel-item:first-child::after {align-self: flex-end;width: 50%;}#sk-container-id-1 div.sk-parallel-item:last-child::after {align-self: flex-start;width: 50%;}#sk-container-id-1 div.sk-parallel-item:only-child::after {width: 0;}#sk-container-id-1 div.sk-dashed-wrapped {border: 1px dashed gray;margin: 0 0.4em 0.5em 0.4em;box-sizing: border-box;padding-bottom: 0.4em;background-color: white;}#sk-container-id-1 div.sk-label label {font-family: monospace;font-weight: bold;display: inline-block;line-height: 1.2em;}#sk-container-id-1 div.sk-label-container {text-align: center;}#sk-container-id-1 div.sk-container {/* jupyter's `normalize.less` sets `[hidden] { display: none; }` but bootstrap.min.css set `[hidden] { display: none !important; }` so we also need the `!important` here to be able to override the default hidden behavior on the sphinx rendered scikit-learn.org. See: https://github.com/scikit-learn/scikit-learn/issues/21755 */display: inline-block !important;position: relative;}#sk-container-id-1 div.sk-text-repr-fallback {display: none;}</style><div id=\"sk-container-id-1\" class=\"sk-top-container\"><div class=\"sk-text-repr-fallback\"><pre>LinearRegression()</pre><b>In a Jupyter environment, please rerun this cell to show the HTML representation or trust the notebook. <br />On GitHub, the HTML representation is unable to render, please try loading this page with nbviewer.org.</b></div><div class=\"sk-container\" hidden><div class=\"sk-item\"><div class=\"sk-estimator sk-toggleable\"><input class=\"sk-toggleable__control sk-hidden--visually\" id=\"sk-estimator-id-1\" type=\"checkbox\" checked><label for=\"sk-estimator-id-1\" class=\"sk-toggleable__label sk-toggleable__label-arrow\">LinearRegression</label><div class=\"sk-toggleable__content\"><pre>LinearRegression()</pre></div></div></div></div></div>"
            ]
          },
          "metadata": {},
          "execution_count": 27
        }
      ]
    },
    {
      "cell_type": "code",
      "source": [
        "# replace with code to drop non-significant IVs from x_test\n",
        "x_test = x_test.drop(['budget','rating_r','rating_pg13'], axis=1)\n",
        "# replace with code to create object called x_test_Sm that adds a constant to x_test (intercept)\n",
        "x_test_Sm = sm.add_constant(x_test)"
      ],
      "metadata": {
        "id": "AyNLxkvc3dhA"
      },
      "execution_count": 29,
      "outputs": []
    },
    {
      "cell_type": "code",
      "source": [
        "# replace with code to make predictions using model trained on x_test_Sm\n",
        "predictions = model.predict(x_test_Sm)"
      ],
      "metadata": {
        "id": "sg-M4Dva396D"
      },
      "execution_count": 30,
      "outputs": []
    },
    {
      "cell_type": "code",
      "source": [
        "# replace with code to produce the mean-squared error\n",
        "print(\"Mean squared error =\", round(metric.mean_squared_error(y_test, predictions), 2))\n",
        "# replace with code to produce the R^2\n",
        "print(\"R2 score =\", round(metric.r2_score(y_test, predictions), 2))"
      ],
      "metadata": {
        "id": "LGaE4Fr84T92",
        "colab": {
          "base_uri": "https://localhost:8080/"
        },
        "outputId": "7b13778a-feda-456e-990b-7dd001863150"
      },
      "execution_count": 31,
      "outputs": [
        {
          "output_type": "stream",
          "name": "stdout",
          "text": [
            "Mean squared error = 2940.25\n",
            "R2 score = 0.36\n"
          ]
        }
      ]
    },
    {
      "cell_type": "markdown",
      "source": [
        "Our R-squared is much lower on our test set than our training set, indicating that our model will not generalize well."
      ],
      "metadata": {
        "id": "u70fGnJgFq5x"
      }
    },
    {
      "cell_type": "markdown",
      "source": [
        "## D\n",
        "\n",
        "**Write out the regression model using the names of variables and all the coefficients determined by your model.**"
      ],
      "metadata": {
        "id": "Lakk5cF95LCb"
      }
    },
    {
      "cell_type": "markdown",
      "source": [
        "$attend = 169.2623 + 325.4425*rottentom - 4.0788*wks - 45.0224*sportevent_y + 16.4691*genre_comedy - 22.8791*genre_drama$\n"
      ],
      "metadata": {
        "id": "fXXDTmXQ5Oqh"
      }
    },
    {
      "cell_type": "markdown",
      "source": [
        "## E\n",
        "\n",
        "**Using your formula in 3D, what would be the predicted attendance for:**\n",
        "\n",
        "1. **A PG-13 rated, six-week-old action movie, with a $200 million budget shown during a week with a sporting event that received a Rotten Tomatoes score of 45%?**\n",
        "\n",
        "2. **An R-rated, eight-week-old drama, with an $75 million budget, shown in a week with no sporting event that received a Rotten Tomatoes score of 65%.**\n",
        "\n"
      ],
      "metadata": {
        "id": "cMG2zrDy6CUi"
      }
    },
    {
      "cell_type": "code",
      "source": [
        "# replace with code to calculate attendance\n",
        "attend = 169.2623 + 325.4425*0.45 - 4.0788*6 - 45.0224*1 + 0\n",
        "print(attend)"
      ],
      "metadata": {
        "id": "lrtLVMm_6ZLi",
        "colab": {
          "base_uri": "https://localhost:8080/"
        },
        "outputId": "4bf27509-36fa-47ca-a64a-d0b5ba47e45d"
      },
      "execution_count": 33,
      "outputs": [
        {
          "output_type": "stream",
          "name": "stdout",
          "text": [
            "246.216225\n"
          ]
        }
      ]
    },
    {
      "cell_type": "code",
      "source": [
        "# replace with code to calculate attendance\n",
        "attend = 169.2623 + 325.4425*0.65 - 4.0788*8 - 45.0224*0 + 16.4691*0 - 22.8791*1\n",
        "print(attend)"
      ],
      "metadata": {
        "id": "Ax8t5_5e670g",
        "colab": {
          "base_uri": "https://localhost:8080/"
        },
        "outputId": "fb7bc329-5619-4e18-9396-6d822cc83423"
      },
      "execution_count": 34,
      "outputs": [
        {
          "output_type": "stream",
          "name": "stdout",
          "text": [
            "325.290425\n"
          ]
        }
      ]
    },
    {
      "cell_type": "markdown",
      "source": [
        "#Q4\n",
        "\n",
        "Make one business recommenation based on this analysis and its results."
      ],
      "metadata": {
        "id": "LHxRd09B-_dH"
      }
    },
    {
      "cell_type": "markdown",
      "source": [
        "Play the second movie because it will likely have more attendance than the first one"
      ],
      "metadata": {
        "id": "ATJZ2Xo0_C3e"
      }
    }
  ]
}