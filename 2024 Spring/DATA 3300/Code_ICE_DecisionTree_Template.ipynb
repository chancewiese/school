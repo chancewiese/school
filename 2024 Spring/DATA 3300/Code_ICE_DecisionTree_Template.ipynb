{
  "nbformat": 4,
  "nbformat_minor": 0,
  "metadata": {
    "colab": {
      "provenance": []
    },
    "kernelspec": {
      "name": "python3",
      "display_name": "Python 3"
    },
    "language_info": {
      "name": "python"
    }
  },
  "cells": [
    {
      "cell_type": "markdown",
      "source": [
        "# **Exercise - Decision Trees Analysis**\n",
        "# DATA 3300"
      ],
      "metadata": {
        "id": "yO0Lg34ik0cM"
      }
    },
    {
      "cell_type": "markdown",
      "source": [
        "## Name:"
      ],
      "metadata": {
        "id": "P9_agvH4k7wn"
      }
    },
    {
      "cell_type": "markdown",
      "source": [
        "**Begin by importing the required libraries and packages, as well as the full `griselmoor.csv` dataset.**\n",
        "\n",
        "**Then use the `train_test_split` function from `sklearn` to split your IVs and DV into training and test sets with a 80-20 split.**"
      ],
      "metadata": {
        "id": "WF21ZVZvlALv"
      }
    },
    {
      "cell_type": "code",
      "execution_count": null,
      "metadata": {
        "id": "CCqCrAj_kw-R"
      },
      "outputs": [],
      "source": [
        "import numpy as np\n",
        "import pandas as pd\n",
        "import matplotlib.pyplot as plt\n",
        "\n",
        "from sklearn.model_selection import train_test_split\n",
        "from sklearn.tree import DecisionTreeClassifier\n",
        "from sklearn.metrics import classification_report\n",
        "from sklearn import tree\n",
        "\n",
        "import seaborn as sns\n",
        "import graphviz"
      ]
    },
    {
      "cell_type": "code",
      "source": [
        "# replace with code to read in the dataset\n",
        "# replace with code to display the dataframe heading"
      ],
      "metadata": {
        "id": "7alfx8GTlnlH"
      },
      "execution_count": null,
      "outputs": []
    },
    {
      "cell_type": "code",
      "source": [
        "x = df.drop(['Primary Key', 'DV'], axis=1) # assigns IVs to object 'x'\n",
        "x = pd.get_dummies(data = x, drop_first=False) # creates dummy variables, in this case drop_first = False is used because collinearity isn't a concern\n",
        "y = df['DV'] # assigns DV to object 'y'\n",
        "\n",
        " # creates training and test sets for x and y, use 80-20 train-test split, random_state = 100\n",
        " x_train, x_test, y_train, y_test = train_test_split( \n",
        "    x, y, test_size = ?, random_state = 100)\n",
        "\n",
        "print(x_train.shape)\n",
        "print(x_test.shape)\n",
        "print(y_train.shape)\n",
        "print(y_test.shape)"
      ],
      "metadata": {
        "id": "h1ILRJe_mG1F"
      },
      "execution_count": null,
      "outputs": []
    },
    {
      "cell_type": "code",
      "source": [
        "df['DV'].value_counts() #creates value counts for DV"
      ],
      "metadata": {
        "id": "GL5kRI7OaBtg"
      },
      "execution_count": null,
      "outputs": []
    },
    {
      "cell_type": "code",
      "source": [
        "apriori = ?/len(df) #creates new object 'apriori' for highest proportion class of DV\n",
        "print('apriori = ', apriori) #produces apriori prediction for highest proportion class"
      ],
      "metadata": {
        "id": "CHut49_5aIt5"
      },
      "execution_count": null,
      "outputs": []
    },
    {
      "cell_type": "markdown",
      "source": [
        "# Q1\n",
        "\n",
        "**Using the `griselmoor.csv` dataset, create a decisiont tree  model to predict the guardian status of each bridge. Your model should use the gini_index criterion, have a maximal depth of 5 and minimal leaf size of 8.**"
      ],
      "metadata": {
        "id": "MV0iRC5SmqiW"
      }
    },
    {
      "cell_type": "code",
      "source": [
        "model = DecisionTreeClassifier(criterion = \"gini\", random_state=100, max_depth=?, min_samples_leaf=?) # assigsn DecisionTreeClassifer to 'model' set parameters described above\n",
        "\n",
        "model.fit(x_train, y_train) # fits model to training sets"
      ],
      "metadata": {
        "id": "_pswIqivm0Ao"
      },
      "execution_count": null,
      "outputs": []
    },
    {
      "cell_type": "code",
      "source": [
        "labels = y.value_counts() # sets labels to the value_counts() of y\n",
        "\n",
        "# uses export_graphviz function from tree library to visualize decision tree\n",
        "dot_data = tree.export_graphviz(model, out_file=None, \n",
        "                                feature_names=x.columns,  \n",
        "                                class_names=labels.index.values,\n",
        "                                filled=True)\n",
        "\n",
        "# Draws graph\n",
        "graph = graphviz.Source(dot_data, format=\"png\") \n",
        "graph"
      ],
      "metadata": {
        "id": "-zfFTXJiqYcB"
      },
      "execution_count": null,
      "outputs": []
    },
    {
      "cell_type": "markdown",
      "source": [
        "## A\n",
        "\n",
        "**Using your decision tree plot, determine the predicted guardian class for a bridge that is less than 2.05 epochs old, crosses over a marsh, is made of brick, and has 45% moss-cover.**"
      ],
      "metadata": {
        "id": "asNX1CRf9EPK"
      }
    },
    {
      "cell_type": "markdown",
      "source": [],
      "metadata": {
        "id": "ef0uU-JcDbSU"
      }
    },
    {
      "cell_type": "markdown",
      "source": [
        "# Q2 \n",
        "\n",
        "**Now test the accuracy of your model by applying it to the test set and using the `classification_report` function to evaluate accuracy.**\n",
        "\n",
        "**Let's also view the predicted vs actual class by adding on predictions and y_test as columns to x_test and view this data as a confusion matrix.**"
      ],
      "metadata": {
        "id": "qKEg1WJtvxOx"
      }
    },
    {
      "cell_type": "code",
      "source": [
        "predictions = model.predict(?) # predicts onto test set using model\n",
        "\n",
        "# adds columns from predictions and the y_test to x_test\n",
        "x_test['predicted_class'] = ?\n",
        "x_test['actual_class'] = ?\n",
        "\n"
      ],
      "metadata": {
        "id": "eIMnDqJyxUI-"
      },
      "execution_count": null,
      "outputs": []
    },
    {
      "cell_type": "code",
      "source": [
        "# creates subset of df object called 'conf' with just predicted and actual guardian classes\n",
        "conf = pd.DataFrame(x_test, columns=['?','?'])\n",
        "confusion_matrix = pd.crosstab(conf['?'], conf['?'], rownames=['Actual'], colnames=['Predicted'])\n",
        "\n",
        "# specifies confusion matrix paramters\n",
        "sns.heatmap(confusion_matrix, annot=True)\n",
        "sns.set(rc={'figure.figsize':(12,10)})\n",
        "\n",
        "# plots confusion matrix with sns using heatmap\n",
        "plt.show()"
      ],
      "metadata": {
        "id": "RqoCHU7zy2e9"
      },
      "execution_count": null,
      "outputs": []
    },
    {
      "cell_type": "code",
      "source": [
        "# prints classification report\n",
        "print(classification_report(?, ?))"
      ],
      "metadata": {
        "id": "dAK-3XmHwCVp"
      },
      "execution_count": null,
      "outputs": []
    },
    {
      "cell_type": "markdown",
      "source": [
        "## A\n",
        "\n",
        "**For which of the four guardian *predictions* (ogre, troll, squirrel, none) was your model most accurate? For which was it least? For each provide how often (i.e., what percentage class precision?) that prediction was accurate.**"
      ],
      "metadata": {
        "id": "yAcWWj8w1rha"
      }
    },
    {
      "cell_type": "markdown",
      "source": [],
      "metadata": {
        "id": "kbghNL_n1yQG"
      }
    },
    {
      "cell_type": "markdown",
      "source": [
        "## B\n",
        "\n",
        "**For which of the four *actual* guardian outcomes was your model most accurate? Least? For both, give the class recall.**"
      ],
      "metadata": {
        "id": "cULUs32W2ISd"
      }
    },
    {
      "cell_type": "markdown",
      "source": [],
      "metadata": {
        "id": "eHKud7P-2afh"
      }
    },
    {
      "cell_type": "markdown",
      "source": [
        "# Q3\n",
        "\n",
        "**Using the same dataset, create and performance-test a new decision tree model by adjusting at least two parameters of the Decision Tree (criterion, maximal depth, or minimal leaf size).**"
      ],
      "metadata": {
        "id": "smIKf3rK24h2"
      }
    },
    {
      "cell_type": "code",
      "source": [
        "# specifies DecisionTreeClassifier paramters for model_2\n",
        "model_2 = DecisionTreeClassifier(criterion = \"entropy\", random_state=100, max_depth=?, min_samples_leaf=?)\n",
        "\n",
        "model_2.fit(x_train, y_train) # fits model_2 to training sets"
      ],
      "metadata": {
        "id": "NSTtV0ki3C2u"
      },
      "execution_count": null,
      "outputs": []
    },
    {
      "cell_type": "code",
      "source": [
        "# drops out predicted and actual_class vars from x_test\n",
        "x_test = x_test.drop(columns = ['?', '?'])"
      ],
      "metadata": {
        "id": "-7bHrWE63Ysd"
      },
      "execution_count": null,
      "outputs": []
    },
    {
      "cell_type": "code",
      "source": [
        "predictions = model_2.predict(?) # fits model_2 to x_test\n",
        "print(classification_report(?, ?)) # prints classification report"
      ],
      "metadata": {
        "id": "fvp1A_Hz3ZYp"
      },
      "execution_count": null,
      "outputs": []
    },
    {
      "cell_type": "markdown",
      "source": [
        "## A\n",
        "\n",
        "**Was this model more or less accurate than your previous model? How did you make that determination?**"
      ],
      "metadata": {
        "id": "WLAfL-1G4-3A"
      }
    },
    {
      "cell_type": "markdown",
      "source": [],
      "metadata": {
        "id": "8iZDAyFb5FUF"
      }
    },
    {
      "cell_type": "markdown",
      "source": [
        "## B\n",
        "\n",
        "**Why might a model with more leaves (terminal nodes) on the decision tree itself actually end up being less accurate on testing data than one with fewer?**"
      ],
      "metadata": {
        "id": "8gQJ7aVf5Xt9"
      }
    },
    {
      "cell_type": "markdown",
      "source": [],
      "metadata": {
        "id": "VP8pN3n55i21"
      }
    },
    {
      "cell_type": "markdown",
      "source": [
        "# Q4\n",
        "\n",
        "**Using the `griselmoor-routes.csv` dataset, apply your best decision tree model to determine which of the three routes you would advise Snarl and companions to travel (assume that bridge encounters present the only death risk and that all routes are otherwise the same).** "
      ],
      "metadata": {
        "id": "de3GV_k_5u60"
      }
    },
    {
      "cell_type": "code",
      "source": [
        "# imports griselmoor-routes dataset to new dataframe 'df_2'\n",
        "df_2 = pd.read_csv('')\n",
        "# replace with code to view heading"
      ],
      "metadata": {
        "id": "mE-uo1s35had"
      },
      "execution_count": null,
      "outputs": []
    },
    {
      "cell_type": "code",
      "source": [
        "x = df_2.drop(['Primary Key'], axis=1) # assigns IVs to object x\n",
        "x = pd.get_dummies(data = x, drop_first=False) # produces dummy codes for categorical IVs in x\n",
        "\n",
        "# predicts on x using best performing model\n",
        "predictions = ?.predict(x)\n",
        "proba = np.max(?.predict_proba(x), axis=1)"
      ],
      "metadata": {
        "id": "toCvTBlj6AAc"
      },
      "execution_count": null,
      "outputs": []
    },
    {
      "cell_type": "code",
      "source": [
        "# adds predictions column to griselmoor-routes df\n",
        "df_2['predicted_class'] = ?\n",
        "df_2['predicted_prob'] = ?\n",
        "df_2"
      ],
      "metadata": {
        "id": "-J_n-o3L6pG4"
      },
      "execution_count": null,
      "outputs": []
    },
    {
      "cell_type": "markdown",
      "source": [
        "## A\n",
        "\n",
        "**Use the `groupby` function to provide an insight into the frequency of predicted encounters (i.e., `predicted_class`) with the different guardians by `routeid`.**"
      ],
      "metadata": {
        "id": "4fIjVGPy8NBA"
      }
    },
    {
      "cell_type": "code",
      "source": [
        "# uses groupby to view counts of predicted classes by route\n",
        "df_2.groupby(['routeid', 'predicted_class'])['?'].count().unstack(0)"
      ],
      "metadata": {
        "id": "GOGmjzGA7lHo"
      },
      "execution_count": null,
      "outputs": []
    },
    {
      "cell_type": "markdown",
      "source": [
        "## B \n",
        "**Which route would you recommend to Snarl and his companions to safely travel through Griselmoor? Explain why you chose to recommend this route.**"
      ],
      "metadata": {
        "id": "l4VHxFuN8ho2"
      }
    },
    {
      "cell_type": "markdown",
      "source": [],
      "metadata": {
        "id": "EgwpLBdm8kon"
      }
    }
  ]
}