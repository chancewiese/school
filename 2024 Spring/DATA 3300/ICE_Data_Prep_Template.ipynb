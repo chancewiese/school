{
  "cells": [
    {
      "cell_type": "markdown",
      "id": "1e9253f3",
      "metadata": {
        "id": "1e9253f3"
      },
      "source": [
        "# Name:"
      ]
    },
    {
      "cell_type": "markdown",
      "id": "9222547e",
      "metadata": {
        "id": "9222547e"
      },
      "source": [
        "# Exercise\n",
        "\n",
        "Import the *masonrybldg.xls* dataset into Notebooks, then complete the data cleaning activities noted below. Once complete, you’ll have a single Excel document that includes the scrubbed data. We will be performing all data cleaning activities using the pandas library!"
      ]
    },
    {
      "cell_type": "markdown",
      "id": "858132bb",
      "metadata": {
        "id": "858132bb"
      },
      "source": [
        "1. Remove any leading and trailing spaces from all text columns. *Note: The trim feature does not remove additional spaces between two words.*\n",
        "\n",
        "\n",
        "2. Eliminate any records that have no Address or Retrofit Level data.\n",
        "\n",
        "\n",
        "3. Ensure that the labels for Neighborhood and Retrofit Level are consistent (i.e., there’s shouldn’t be different spellings, abbreviations, or just multiple ways of saying the same thing).\n",
        "\n",
        "\n",
        "4. Many of the buildings are dual-use. This is indicated in the Building Use column. Create two separate columns from the Building Use column, one for the first use listed and the other for the second (if there is a second).\n",
        "\n",
        "\n",
        "5. Create a new column called “IsCritical” (next to the Preliminary Risk column). For those buildings shown with a preliminary risk value of “Critical Risk”, the value for “IsCritical” should be 1. For all others, the value should be 0.\n",
        "\n",
        "\n",
        "6. We’d like to be able to categorize the buildings’ ages. Create a new column next to Year Built and name it Era. Populate this column with information reflecting to which of the following “eras” each building belongs: “before 1920”, “1920-1939”, “1940-1959”, “1960-1979”, “after 1979”.\n"
      ]
    },
    {
      "cell_type": "code",
      "execution_count": null,
      "id": "979d31d2",
      "metadata": {
        "id": "979d31d2"
      },
      "outputs": [],
      "source": [
        "#import libraries"
      ]
    },
    {
      "cell_type": "code",
      "execution_count": null,
      "id": "be409972",
      "metadata": {
        "id": "be409972"
      },
      "outputs": [],
      "source": [
        "#read in excel file"
      ]
    },
    {
      "cell_type": "code",
      "execution_count": 1,
      "id": "f08a7707",
      "metadata": {
        "id": "f08a7707"
      },
      "outputs": [],
      "source": [
        "#preview dataset with .head()"
      ]
    },
    {
      "cell_type": "code",
      "execution_count": null,
      "id": "5368dbef",
      "metadata": {
        "id": "5368dbef"
      },
      "outputs": [],
      "source": [
        "#remove trailing and leading whitespaces from Retrofit Level, Neighborhood, and Confirmation Sources"
      ]
    },
    {
      "cell_type": "code",
      "execution_count": 2,
      "id": "6a12b168",
      "metadata": {
        "id": "6a12b168"
      },
      "outputs": [],
      "source": [
        "#retain only observations that are complete for address and retrofit level"
      ]
    },
    {
      "cell_type": "code",
      "execution_count": 3,
      "id": "45d4baa2",
      "metadata": {
        "id": "45d4baa2"
      },
      "outputs": [],
      "source": [
        "#examine levels of neighborhood to check for redundancies"
      ]
    },
    {
      "cell_type": "code",
      "execution_count": null,
      "id": "55d5534c",
      "metadata": {
        "id": "55d5534c"
      },
      "outputs": [],
      "source": [
        "#replace redundant neighborhood values"
      ]
    },
    {
      "cell_type": "code",
      "execution_count": 4,
      "id": "0dc9d477",
      "metadata": {
        "id": "0dc9d477"
      },
      "outputs": [],
      "source": [
        "#examine levels of retrofit for redundancies"
      ]
    },
    {
      "cell_type": "code",
      "execution_count": 5,
      "id": "a9eaeac1",
      "metadata": {
        "id": "a9eaeac1"
      },
      "outputs": [],
      "source": [
        "#replace redundant retrofit levels"
      ]
    },
    {
      "cell_type": "code",
      "execution_count": 6,
      "id": "20611f3c",
      "metadata": {
        "id": "20611f3c"
      },
      "outputs": [],
      "source": [
        "#split primary and secondary building use into a new column"
      ]
    },
    {
      "cell_type": "code",
      "execution_count": 7,
      "id": "340b0e13",
      "metadata": {
        "id": "340b0e13"
      },
      "outputs": [],
      "source": [
        "#create new IsCritical Variable"
      ]
    },
    {
      "cell_type": "code",
      "execution_count": 8,
      "id": "5fa2ee8d",
      "metadata": {
        "id": "5fa2ee8d"
      },
      "outputs": [],
      "source": [
        "#create new era variable"
      ]
    },
    {
      "cell_type": "code",
      "execution_count": 9,
      "id": "3d460c2c",
      "metadata": {
        "id": "3d460c2c"
      },
      "outputs": [],
      "source": [
        "#set index and sort by descending order of ObsID"
      ]
    },
    {
      "cell_type": "code",
      "execution_count": 10,
      "id": "b772fcfe",
      "metadata": {
        "id": "b772fcfe"
      },
      "outputs": [],
      "source": [
        "#export cleaned data to excel"
      ]
    }
  ],
  "metadata": {
    "kernelspec": {
      "display_name": "Python 3 (ipykernel)",
      "language": "python",
      "name": "python3"
    },
    "language_info": {
      "codemirror_mode": {
        "name": "ipython",
        "version": 3
      },
      "file_extension": ".py",
      "mimetype": "text/x-python",
      "name": "python",
      "nbconvert_exporter": "python",
      "pygments_lexer": "ipython3",
      "version": "3.9.7"
    },
    "colab": {
      "name": "ICE_Data_Prep_Template.ipynb",
      "provenance": []
    }
  },
  "nbformat": 4,
  "nbformat_minor": 5
}