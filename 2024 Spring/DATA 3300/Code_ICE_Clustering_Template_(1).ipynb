{
  "cells": [
    {
      "cell_type": "markdown",
      "source": [
        "# **DATA 3300**\n",
        "## **ICE - Clustering Analysis**"
      ],
      "metadata": {
        "id": "zwdpv2lXqjCk"
      },
      "id": "zwdpv2lXqjCk"
    },
    {
      "cell_type": "markdown",
      "id": "331cd519",
      "metadata": {
        "id": "331cd519"
      },
      "source": [
        "# Name: Chance Wiese\n"
      ]
    },
    {
      "cell_type": "markdown",
      "id": "b7a6fca6",
      "metadata": {
        "id": "b7a6fca6"
      },
      "source": [
        "### Q1\n",
        "**Load the required packages and then import the dataset**"
      ]
    },
    {
      "cell_type": "code",
      "source": [
        "# install a new library called kneed using pip installer\n",
        "!pip install kneed"
      ],
      "metadata": {
        "id": "8RphrGth9d1l",
        "colab": {
          "base_uri": "https://localhost:8080/",
          "height": 0
        },
        "outputId": "c120face-bdbc-4bb3-ef05-c547e9d1caf1"
      },
      "id": "8RphrGth9d1l",
      "execution_count": 1,
      "outputs": [
        {
          "output_type": "stream",
          "name": "stdout",
          "text": [
            "Collecting kneed\n",
            "  Downloading kneed-0.8.5-py3-none-any.whl (10 kB)\n",
            "Requirement already satisfied: numpy>=1.14.2 in /usr/local/lib/python3.10/dist-packages (from kneed) (1.23.5)\n",
            "Requirement already satisfied: scipy>=1.0.0 in /usr/local/lib/python3.10/dist-packages (from kneed) (1.11.4)\n",
            "Installing collected packages: kneed\n",
            "Successfully installed kneed-0.8.5\n"
          ]
        }
      ]
    },
    {
      "cell_type": "code",
      "execution_count": 2,
      "id": "17eb2121",
      "metadata": {
        "id": "17eb2121"
      },
      "outputs": [],
      "source": [
        "import matplotlib.pyplot as plt\n",
        "import pandas as pd\n",
        "import numpy as np\n",
        "from kneed import KneeLocator\n",
        "import sklearn.cluster\n",
        "from sklearn.cluster import KMeans\n",
        "from sklearn.metrics import silhouette_score\n",
        "from sklearn.preprocessing import StandardScaler"
      ]
    },
    {
      "cell_type": "code",
      "execution_count": 3,
      "id": "3b659c7f",
      "metadata": {
        "id": "3b659c7f",
        "colab": {
          "base_uri": "https://localhost:8080/",
          "height": 365
        },
        "outputId": "3f6efdc0-b77a-46c0-827d-6d62378c730d"
      },
      "outputs": [
        {
          "output_type": "execute_result",
          "data": {
            "text/plain": [
              "  Symbol                      Name                  Sector   Price  \\\n",
              "0      A  Agilent Technologies Inc             Health Care   51.21   \n",
              "1    AAL   American Airlines Group             Industrials   44.84   \n",
              "2    AAP        Advance Auto Parts  Consumer Discretionary  151.99   \n",
              "3   AAPL                Apple Inc.  Information Technology  139.52   \n",
              "4   ABBV                    AbbVie             Health Care   63.69   \n",
              "\n",
              "   Dividend Yield  Price/Earnings  Earnings/Share  Book Value  52 week low  \\\n",
              "0            1.02           32.85            1.56       13.35        37.62   \n",
              "1            0.85            9.32            4.81        7.46        24.85   \n",
              "2            0.15           24.51            6.20       39.66       132.98   \n",
              "3            1.63           16.75            8.33       25.19        89.47   \n",
              "4            4.04           17.55            3.63        2.91        54.41   \n",
              "\n",
              "   52 week high  Market Cap  EBITDA  Price/Sales  Price/Book  \n",
              "0         52.26       16.49   0.942         3.89        3.84  \n",
              "1         50.64       22.61   7.830         0.57        6.07  \n",
              "2        177.83       11.18   1.120         1.19        3.89  \n",
              "3        140.28      732.00  69.750         3.35        5.53  \n",
              "4         68.12      101.52  10.950         3.95       21.83  "
            ],
            "text/html": [
              "\n",
              "  <div id=\"df-ff8eac23-99a5-4adc-8996-017e26eb98b0\" class=\"colab-df-container\">\n",
              "    <div>\n",
              "<style scoped>\n",
              "    .dataframe tbody tr th:only-of-type {\n",
              "        vertical-align: middle;\n",
              "    }\n",
              "\n",
              "    .dataframe tbody tr th {\n",
              "        vertical-align: top;\n",
              "    }\n",
              "\n",
              "    .dataframe thead th {\n",
              "        text-align: right;\n",
              "    }\n",
              "</style>\n",
              "<table border=\"1\" class=\"dataframe\">\n",
              "  <thead>\n",
              "    <tr style=\"text-align: right;\">\n",
              "      <th></th>\n",
              "      <th>Symbol</th>\n",
              "      <th>Name</th>\n",
              "      <th>Sector</th>\n",
              "      <th>Price</th>\n",
              "      <th>Dividend Yield</th>\n",
              "      <th>Price/Earnings</th>\n",
              "      <th>Earnings/Share</th>\n",
              "      <th>Book Value</th>\n",
              "      <th>52 week low</th>\n",
              "      <th>52 week high</th>\n",
              "      <th>Market Cap</th>\n",
              "      <th>EBITDA</th>\n",
              "      <th>Price/Sales</th>\n",
              "      <th>Price/Book</th>\n",
              "    </tr>\n",
              "  </thead>\n",
              "  <tbody>\n",
              "    <tr>\n",
              "      <th>0</th>\n",
              "      <td>A</td>\n",
              "      <td>Agilent Technologies Inc</td>\n",
              "      <td>Health Care</td>\n",
              "      <td>51.21</td>\n",
              "      <td>1.02</td>\n",
              "      <td>32.85</td>\n",
              "      <td>1.56</td>\n",
              "      <td>13.35</td>\n",
              "      <td>37.62</td>\n",
              "      <td>52.26</td>\n",
              "      <td>16.49</td>\n",
              "      <td>0.942</td>\n",
              "      <td>3.89</td>\n",
              "      <td>3.84</td>\n",
              "    </tr>\n",
              "    <tr>\n",
              "      <th>1</th>\n",
              "      <td>AAL</td>\n",
              "      <td>American Airlines Group</td>\n",
              "      <td>Industrials</td>\n",
              "      <td>44.84</td>\n",
              "      <td>0.85</td>\n",
              "      <td>9.32</td>\n",
              "      <td>4.81</td>\n",
              "      <td>7.46</td>\n",
              "      <td>24.85</td>\n",
              "      <td>50.64</td>\n",
              "      <td>22.61</td>\n",
              "      <td>7.830</td>\n",
              "      <td>0.57</td>\n",
              "      <td>6.07</td>\n",
              "    </tr>\n",
              "    <tr>\n",
              "      <th>2</th>\n",
              "      <td>AAP</td>\n",
              "      <td>Advance Auto Parts</td>\n",
              "      <td>Consumer Discretionary</td>\n",
              "      <td>151.99</td>\n",
              "      <td>0.15</td>\n",
              "      <td>24.51</td>\n",
              "      <td>6.20</td>\n",
              "      <td>39.66</td>\n",
              "      <td>132.98</td>\n",
              "      <td>177.83</td>\n",
              "      <td>11.18</td>\n",
              "      <td>1.120</td>\n",
              "      <td>1.19</td>\n",
              "      <td>3.89</td>\n",
              "    </tr>\n",
              "    <tr>\n",
              "      <th>3</th>\n",
              "      <td>AAPL</td>\n",
              "      <td>Apple Inc.</td>\n",
              "      <td>Information Technology</td>\n",
              "      <td>139.52</td>\n",
              "      <td>1.63</td>\n",
              "      <td>16.75</td>\n",
              "      <td>8.33</td>\n",
              "      <td>25.19</td>\n",
              "      <td>89.47</td>\n",
              "      <td>140.28</td>\n",
              "      <td>732.00</td>\n",
              "      <td>69.750</td>\n",
              "      <td>3.35</td>\n",
              "      <td>5.53</td>\n",
              "    </tr>\n",
              "    <tr>\n",
              "      <th>4</th>\n",
              "      <td>ABBV</td>\n",
              "      <td>AbbVie</td>\n",
              "      <td>Health Care</td>\n",
              "      <td>63.69</td>\n",
              "      <td>4.04</td>\n",
              "      <td>17.55</td>\n",
              "      <td>3.63</td>\n",
              "      <td>2.91</td>\n",
              "      <td>54.41</td>\n",
              "      <td>68.12</td>\n",
              "      <td>101.52</td>\n",
              "      <td>10.950</td>\n",
              "      <td>3.95</td>\n",
              "      <td>21.83</td>\n",
              "    </tr>\n",
              "  </tbody>\n",
              "</table>\n",
              "</div>\n",
              "    <div class=\"colab-df-buttons\">\n",
              "\n",
              "  <div class=\"colab-df-container\">\n",
              "    <button class=\"colab-df-convert\" onclick=\"convertToInteractive('df-ff8eac23-99a5-4adc-8996-017e26eb98b0')\"\n",
              "            title=\"Convert this dataframe to an interactive table.\"\n",
              "            style=\"display:none;\">\n",
              "\n",
              "  <svg xmlns=\"http://www.w3.org/2000/svg\" height=\"24px\" viewBox=\"0 -960 960 960\">\n",
              "    <path d=\"M120-120v-720h720v720H120Zm60-500h600v-160H180v160Zm220 220h160v-160H400v160Zm0 220h160v-160H400v160ZM180-400h160v-160H180v160Zm440 0h160v-160H620v160ZM180-180h160v-160H180v160Zm440 0h160v-160H620v160Z\"/>\n",
              "  </svg>\n",
              "    </button>\n",
              "\n",
              "  <style>\n",
              "    .colab-df-container {\n",
              "      display:flex;\n",
              "      gap: 12px;\n",
              "    }\n",
              "\n",
              "    .colab-df-convert {\n",
              "      background-color: #E8F0FE;\n",
              "      border: none;\n",
              "      border-radius: 50%;\n",
              "      cursor: pointer;\n",
              "      display: none;\n",
              "      fill: #1967D2;\n",
              "      height: 32px;\n",
              "      padding: 0 0 0 0;\n",
              "      width: 32px;\n",
              "    }\n",
              "\n",
              "    .colab-df-convert:hover {\n",
              "      background-color: #E2EBFA;\n",
              "      box-shadow: 0px 1px 2px rgba(60, 64, 67, 0.3), 0px 1px 3px 1px rgba(60, 64, 67, 0.15);\n",
              "      fill: #174EA6;\n",
              "    }\n",
              "\n",
              "    .colab-df-buttons div {\n",
              "      margin-bottom: 4px;\n",
              "    }\n",
              "\n",
              "    [theme=dark] .colab-df-convert {\n",
              "      background-color: #3B4455;\n",
              "      fill: #D2E3FC;\n",
              "    }\n",
              "\n",
              "    [theme=dark] .colab-df-convert:hover {\n",
              "      background-color: #434B5C;\n",
              "      box-shadow: 0px 1px 3px 1px rgba(0, 0, 0, 0.15);\n",
              "      filter: drop-shadow(0px 1px 2px rgba(0, 0, 0, 0.3));\n",
              "      fill: #FFFFFF;\n",
              "    }\n",
              "  </style>\n",
              "\n",
              "    <script>\n",
              "      const buttonEl =\n",
              "        document.querySelector('#df-ff8eac23-99a5-4adc-8996-017e26eb98b0 button.colab-df-convert');\n",
              "      buttonEl.style.display =\n",
              "        google.colab.kernel.accessAllowed ? 'block' : 'none';\n",
              "\n",
              "      async function convertToInteractive(key) {\n",
              "        const element = document.querySelector('#df-ff8eac23-99a5-4adc-8996-017e26eb98b0');\n",
              "        const dataTable =\n",
              "          await google.colab.kernel.invokeFunction('convertToInteractive',\n",
              "                                                    [key], {});\n",
              "        if (!dataTable) return;\n",
              "\n",
              "        const docLinkHtml = 'Like what you see? Visit the ' +\n",
              "          '<a target=\"_blank\" href=https://colab.research.google.com/notebooks/data_table.ipynb>data table notebook</a>'\n",
              "          + ' to learn more about interactive tables.';\n",
              "        element.innerHTML = '';\n",
              "        dataTable['output_type'] = 'display_data';\n",
              "        await google.colab.output.renderOutput(dataTable, element);\n",
              "        const docLink = document.createElement('div');\n",
              "        docLink.innerHTML = docLinkHtml;\n",
              "        element.appendChild(docLink);\n",
              "      }\n",
              "    </script>\n",
              "  </div>\n",
              "\n",
              "\n",
              "<div id=\"df-528a0f3a-d24b-4fc2-82f8-0ed99b16a29f\">\n",
              "  <button class=\"colab-df-quickchart\" onclick=\"quickchart('df-528a0f3a-d24b-4fc2-82f8-0ed99b16a29f')\"\n",
              "            title=\"Suggest charts\"\n",
              "            style=\"display:none;\">\n",
              "\n",
              "<svg xmlns=\"http://www.w3.org/2000/svg\" height=\"24px\"viewBox=\"0 0 24 24\"\n",
              "     width=\"24px\">\n",
              "    <g>\n",
              "        <path d=\"M19 3H5c-1.1 0-2 .9-2 2v14c0 1.1.9 2 2 2h14c1.1 0 2-.9 2-2V5c0-1.1-.9-2-2-2zM9 17H7v-7h2v7zm4 0h-2V7h2v10zm4 0h-2v-4h2v4z\"/>\n",
              "    </g>\n",
              "</svg>\n",
              "  </button>\n",
              "\n",
              "<style>\n",
              "  .colab-df-quickchart {\n",
              "      --bg-color: #E8F0FE;\n",
              "      --fill-color: #1967D2;\n",
              "      --hover-bg-color: #E2EBFA;\n",
              "      --hover-fill-color: #174EA6;\n",
              "      --disabled-fill-color: #AAA;\n",
              "      --disabled-bg-color: #DDD;\n",
              "  }\n",
              "\n",
              "  [theme=dark] .colab-df-quickchart {\n",
              "      --bg-color: #3B4455;\n",
              "      --fill-color: #D2E3FC;\n",
              "      --hover-bg-color: #434B5C;\n",
              "      --hover-fill-color: #FFFFFF;\n",
              "      --disabled-bg-color: #3B4455;\n",
              "      --disabled-fill-color: #666;\n",
              "  }\n",
              "\n",
              "  .colab-df-quickchart {\n",
              "    background-color: var(--bg-color);\n",
              "    border: none;\n",
              "    border-radius: 50%;\n",
              "    cursor: pointer;\n",
              "    display: none;\n",
              "    fill: var(--fill-color);\n",
              "    height: 32px;\n",
              "    padding: 0;\n",
              "    width: 32px;\n",
              "  }\n",
              "\n",
              "  .colab-df-quickchart:hover {\n",
              "    background-color: var(--hover-bg-color);\n",
              "    box-shadow: 0 1px 2px rgba(60, 64, 67, 0.3), 0 1px 3px 1px rgba(60, 64, 67, 0.15);\n",
              "    fill: var(--button-hover-fill-color);\n",
              "  }\n",
              "\n",
              "  .colab-df-quickchart-complete:disabled,\n",
              "  .colab-df-quickchart-complete:disabled:hover {\n",
              "    background-color: var(--disabled-bg-color);\n",
              "    fill: var(--disabled-fill-color);\n",
              "    box-shadow: none;\n",
              "  }\n",
              "\n",
              "  .colab-df-spinner {\n",
              "    border: 2px solid var(--fill-color);\n",
              "    border-color: transparent;\n",
              "    border-bottom-color: var(--fill-color);\n",
              "    animation:\n",
              "      spin 1s steps(1) infinite;\n",
              "  }\n",
              "\n",
              "  @keyframes spin {\n",
              "    0% {\n",
              "      border-color: transparent;\n",
              "      border-bottom-color: var(--fill-color);\n",
              "      border-left-color: var(--fill-color);\n",
              "    }\n",
              "    20% {\n",
              "      border-color: transparent;\n",
              "      border-left-color: var(--fill-color);\n",
              "      border-top-color: var(--fill-color);\n",
              "    }\n",
              "    30% {\n",
              "      border-color: transparent;\n",
              "      border-left-color: var(--fill-color);\n",
              "      border-top-color: var(--fill-color);\n",
              "      border-right-color: var(--fill-color);\n",
              "    }\n",
              "    40% {\n",
              "      border-color: transparent;\n",
              "      border-right-color: var(--fill-color);\n",
              "      border-top-color: var(--fill-color);\n",
              "    }\n",
              "    60% {\n",
              "      border-color: transparent;\n",
              "      border-right-color: var(--fill-color);\n",
              "    }\n",
              "    80% {\n",
              "      border-color: transparent;\n",
              "      border-right-color: var(--fill-color);\n",
              "      border-bottom-color: var(--fill-color);\n",
              "    }\n",
              "    90% {\n",
              "      border-color: transparent;\n",
              "      border-bottom-color: var(--fill-color);\n",
              "    }\n",
              "  }\n",
              "</style>\n",
              "\n",
              "  <script>\n",
              "    async function quickchart(key) {\n",
              "      const quickchartButtonEl =\n",
              "        document.querySelector('#' + key + ' button');\n",
              "      quickchartButtonEl.disabled = true;  // To prevent multiple clicks.\n",
              "      quickchartButtonEl.classList.add('colab-df-spinner');\n",
              "      try {\n",
              "        const charts = await google.colab.kernel.invokeFunction(\n",
              "            'suggestCharts', [key], {});\n",
              "      } catch (error) {\n",
              "        console.error('Error during call to suggestCharts:', error);\n",
              "      }\n",
              "      quickchartButtonEl.classList.remove('colab-df-spinner');\n",
              "      quickchartButtonEl.classList.add('colab-df-quickchart-complete');\n",
              "    }\n",
              "    (() => {\n",
              "      let quickchartButtonEl =\n",
              "        document.querySelector('#df-528a0f3a-d24b-4fc2-82f8-0ed99b16a29f button');\n",
              "      quickchartButtonEl.style.display =\n",
              "        google.colab.kernel.accessAllowed ? 'block' : 'none';\n",
              "    })();\n",
              "  </script>\n",
              "</div>\n",
              "    </div>\n",
              "  </div>\n"
            ]
          },
          "metadata": {},
          "execution_count": 3
        }
      ],
      "source": [
        "# read in the dataframe\n",
        "df = pd.read_csv(\"/content/sandp500.csv\")\n",
        "# display a heading\n",
        "df.head()"
      ]
    },
    {
      "cell_type": "markdown",
      "id": "19cf2367",
      "metadata": {
        "id": "19cf2367"
      },
      "source": [
        "#### 1A\n",
        "**Before running the actual clustering analysis, you're going to exclude the Symbol and Name variables. Explain why this is important to do:**"
      ]
    },
    {
      "cell_type": "markdown",
      "source": [
        "These are both primary keys, and therefore won't contribute meaningful information to our analysis."
      ],
      "metadata": {
        "id": "1m6rd33Iqyqh"
      },
      "id": "1m6rd33Iqyqh"
    },
    {
      "cell_type": "markdown",
      "id": "851140cc",
      "metadata": {
        "id": "851140cc"
      },
      "source": [
        "#### 1B\n",
        "**Also there would be a problem with keeping all three of Price, 52 Week High, and 52 Week Low involved when the clustering analysis is run. Explain why this is the case.**"
      ]
    },
    {
      "cell_type": "code",
      "source": [
        "df.columns"
      ],
      "metadata": {
        "colab": {
          "base_uri": "https://localhost:8080/",
          "height": 0
        },
        "id": "bBKQyg1-Sv--",
        "outputId": "8054c9a8-bbf4-4518-f294-ac1611927ebf"
      },
      "id": "bBKQyg1-Sv--",
      "execution_count": 4,
      "outputs": [
        {
          "output_type": "execute_result",
          "data": {
            "text/plain": [
              "Index(['Symbol', 'Name', 'Sector', 'Price', 'Dividend Yield', 'Price/Earnings',\n",
              "       'Earnings/Share', 'Book Value', '52 week low', '52 week high',\n",
              "       'Market Cap', 'EBITDA', 'Price/Sales', 'Price/Book'],\n",
              "      dtype='object')"
            ]
          },
          "metadata": {},
          "execution_count": 4
        }
      ]
    },
    {
      "cell_type": "code",
      "execution_count": 5,
      "id": "4bd7e30e",
      "metadata": {
        "id": "4bd7e30e",
        "colab": {
          "base_uri": "https://localhost:8080/",
          "height": 224
        },
        "outputId": "44e93528-a0a0-40b2-ac32-9e27eb5a18f7"
      },
      "outputs": [
        {
          "output_type": "execute_result",
          "data": {
            "text/plain": [
              "    Price  Dividend Yield  Price/Earnings  Earnings/Share  Book Value  \\\n",
              "0   51.21            1.02           32.85            1.56       13.35   \n",
              "1   44.84            0.85            9.32            4.81        7.46   \n",
              "2  151.99            0.15           24.51            6.20       39.66   \n",
              "3  139.52            1.63           16.75            8.33       25.19   \n",
              "4   63.69            4.04           17.55            3.63        2.91   \n",
              "\n",
              "   Market Cap  EBITDA  Price/Sales  Price/Book  \n",
              "0       16.49   0.942         3.89        3.84  \n",
              "1       22.61   7.830         0.57        6.07  \n",
              "2       11.18   1.120         1.19        3.89  \n",
              "3      732.00  69.750         3.35        5.53  \n",
              "4      101.52  10.950         3.95       21.83  "
            ],
            "text/html": [
              "\n",
              "  <div id=\"df-f37c24f5-e311-4a70-b4d9-f17e2be4cd2b\" class=\"colab-df-container\">\n",
              "    <div>\n",
              "<style scoped>\n",
              "    .dataframe tbody tr th:only-of-type {\n",
              "        vertical-align: middle;\n",
              "    }\n",
              "\n",
              "    .dataframe tbody tr th {\n",
              "        vertical-align: top;\n",
              "    }\n",
              "\n",
              "    .dataframe thead th {\n",
              "        text-align: right;\n",
              "    }\n",
              "</style>\n",
              "<table border=\"1\" class=\"dataframe\">\n",
              "  <thead>\n",
              "    <tr style=\"text-align: right;\">\n",
              "      <th></th>\n",
              "      <th>Price</th>\n",
              "      <th>Dividend Yield</th>\n",
              "      <th>Price/Earnings</th>\n",
              "      <th>Earnings/Share</th>\n",
              "      <th>Book Value</th>\n",
              "      <th>Market Cap</th>\n",
              "      <th>EBITDA</th>\n",
              "      <th>Price/Sales</th>\n",
              "      <th>Price/Book</th>\n",
              "    </tr>\n",
              "  </thead>\n",
              "  <tbody>\n",
              "    <tr>\n",
              "      <th>0</th>\n",
              "      <td>51.21</td>\n",
              "      <td>1.02</td>\n",
              "      <td>32.85</td>\n",
              "      <td>1.56</td>\n",
              "      <td>13.35</td>\n",
              "      <td>16.49</td>\n",
              "      <td>0.942</td>\n",
              "      <td>3.89</td>\n",
              "      <td>3.84</td>\n",
              "    </tr>\n",
              "    <tr>\n",
              "      <th>1</th>\n",
              "      <td>44.84</td>\n",
              "      <td>0.85</td>\n",
              "      <td>9.32</td>\n",
              "      <td>4.81</td>\n",
              "      <td>7.46</td>\n",
              "      <td>22.61</td>\n",
              "      <td>7.830</td>\n",
              "      <td>0.57</td>\n",
              "      <td>6.07</td>\n",
              "    </tr>\n",
              "    <tr>\n",
              "      <th>2</th>\n",
              "      <td>151.99</td>\n",
              "      <td>0.15</td>\n",
              "      <td>24.51</td>\n",
              "      <td>6.20</td>\n",
              "      <td>39.66</td>\n",
              "      <td>11.18</td>\n",
              "      <td>1.120</td>\n",
              "      <td>1.19</td>\n",
              "      <td>3.89</td>\n",
              "    </tr>\n",
              "    <tr>\n",
              "      <th>3</th>\n",
              "      <td>139.52</td>\n",
              "      <td>1.63</td>\n",
              "      <td>16.75</td>\n",
              "      <td>8.33</td>\n",
              "      <td>25.19</td>\n",
              "      <td>732.00</td>\n",
              "      <td>69.750</td>\n",
              "      <td>3.35</td>\n",
              "      <td>5.53</td>\n",
              "    </tr>\n",
              "    <tr>\n",
              "      <th>4</th>\n",
              "      <td>63.69</td>\n",
              "      <td>4.04</td>\n",
              "      <td>17.55</td>\n",
              "      <td>3.63</td>\n",
              "      <td>2.91</td>\n",
              "      <td>101.52</td>\n",
              "      <td>10.950</td>\n",
              "      <td>3.95</td>\n",
              "      <td>21.83</td>\n",
              "    </tr>\n",
              "  </tbody>\n",
              "</table>\n",
              "</div>\n",
              "    <div class=\"colab-df-buttons\">\n",
              "\n",
              "  <div class=\"colab-df-container\">\n",
              "    <button class=\"colab-df-convert\" onclick=\"convertToInteractive('df-f37c24f5-e311-4a70-b4d9-f17e2be4cd2b')\"\n",
              "            title=\"Convert this dataframe to an interactive table.\"\n",
              "            style=\"display:none;\">\n",
              "\n",
              "  <svg xmlns=\"http://www.w3.org/2000/svg\" height=\"24px\" viewBox=\"0 -960 960 960\">\n",
              "    <path d=\"M120-120v-720h720v720H120Zm60-500h600v-160H180v160Zm220 220h160v-160H400v160Zm0 220h160v-160H400v160ZM180-400h160v-160H180v160Zm440 0h160v-160H620v160ZM180-180h160v-160H180v160Zm440 0h160v-160H620v160Z\"/>\n",
              "  </svg>\n",
              "    </button>\n",
              "\n",
              "  <style>\n",
              "    .colab-df-container {\n",
              "      display:flex;\n",
              "      gap: 12px;\n",
              "    }\n",
              "\n",
              "    .colab-df-convert {\n",
              "      background-color: #E8F0FE;\n",
              "      border: none;\n",
              "      border-radius: 50%;\n",
              "      cursor: pointer;\n",
              "      display: none;\n",
              "      fill: #1967D2;\n",
              "      height: 32px;\n",
              "      padding: 0 0 0 0;\n",
              "      width: 32px;\n",
              "    }\n",
              "\n",
              "    .colab-df-convert:hover {\n",
              "      background-color: #E2EBFA;\n",
              "      box-shadow: 0px 1px 2px rgba(60, 64, 67, 0.3), 0px 1px 3px 1px rgba(60, 64, 67, 0.15);\n",
              "      fill: #174EA6;\n",
              "    }\n",
              "\n",
              "    .colab-df-buttons div {\n",
              "      margin-bottom: 4px;\n",
              "    }\n",
              "\n",
              "    [theme=dark] .colab-df-convert {\n",
              "      background-color: #3B4455;\n",
              "      fill: #D2E3FC;\n",
              "    }\n",
              "\n",
              "    [theme=dark] .colab-df-convert:hover {\n",
              "      background-color: #434B5C;\n",
              "      box-shadow: 0px 1px 3px 1px rgba(0, 0, 0, 0.15);\n",
              "      filter: drop-shadow(0px 1px 2px rgba(0, 0, 0, 0.3));\n",
              "      fill: #FFFFFF;\n",
              "    }\n",
              "  </style>\n",
              "\n",
              "    <script>\n",
              "      const buttonEl =\n",
              "        document.querySelector('#df-f37c24f5-e311-4a70-b4d9-f17e2be4cd2b button.colab-df-convert');\n",
              "      buttonEl.style.display =\n",
              "        google.colab.kernel.accessAllowed ? 'block' : 'none';\n",
              "\n",
              "      async function convertToInteractive(key) {\n",
              "        const element = document.querySelector('#df-f37c24f5-e311-4a70-b4d9-f17e2be4cd2b');\n",
              "        const dataTable =\n",
              "          await google.colab.kernel.invokeFunction('convertToInteractive',\n",
              "                                                    [key], {});\n",
              "        if (!dataTable) return;\n",
              "\n",
              "        const docLinkHtml = 'Like what you see? Visit the ' +\n",
              "          '<a target=\"_blank\" href=https://colab.research.google.com/notebooks/data_table.ipynb>data table notebook</a>'\n",
              "          + ' to learn more about interactive tables.';\n",
              "        element.innerHTML = '';\n",
              "        dataTable['output_type'] = 'display_data';\n",
              "        await google.colab.output.renderOutput(dataTable, element);\n",
              "        const docLink = document.createElement('div');\n",
              "        docLink.innerHTML = docLinkHtml;\n",
              "        element.appendChild(docLink);\n",
              "      }\n",
              "    </script>\n",
              "  </div>\n",
              "\n",
              "\n",
              "<div id=\"df-d048fcc7-b1e2-4e7b-af54-76892399a6fc\">\n",
              "  <button class=\"colab-df-quickchart\" onclick=\"quickchart('df-d048fcc7-b1e2-4e7b-af54-76892399a6fc')\"\n",
              "            title=\"Suggest charts\"\n",
              "            style=\"display:none;\">\n",
              "\n",
              "<svg xmlns=\"http://www.w3.org/2000/svg\" height=\"24px\"viewBox=\"0 0 24 24\"\n",
              "     width=\"24px\">\n",
              "    <g>\n",
              "        <path d=\"M19 3H5c-1.1 0-2 .9-2 2v14c0 1.1.9 2 2 2h14c1.1 0 2-.9 2-2V5c0-1.1-.9-2-2-2zM9 17H7v-7h2v7zm4 0h-2V7h2v10zm4 0h-2v-4h2v4z\"/>\n",
              "    </g>\n",
              "</svg>\n",
              "  </button>\n",
              "\n",
              "<style>\n",
              "  .colab-df-quickchart {\n",
              "      --bg-color: #E8F0FE;\n",
              "      --fill-color: #1967D2;\n",
              "      --hover-bg-color: #E2EBFA;\n",
              "      --hover-fill-color: #174EA6;\n",
              "      --disabled-fill-color: #AAA;\n",
              "      --disabled-bg-color: #DDD;\n",
              "  }\n",
              "\n",
              "  [theme=dark] .colab-df-quickchart {\n",
              "      --bg-color: #3B4455;\n",
              "      --fill-color: #D2E3FC;\n",
              "      --hover-bg-color: #434B5C;\n",
              "      --hover-fill-color: #FFFFFF;\n",
              "      --disabled-bg-color: #3B4455;\n",
              "      --disabled-fill-color: #666;\n",
              "  }\n",
              "\n",
              "  .colab-df-quickchart {\n",
              "    background-color: var(--bg-color);\n",
              "    border: none;\n",
              "    border-radius: 50%;\n",
              "    cursor: pointer;\n",
              "    display: none;\n",
              "    fill: var(--fill-color);\n",
              "    height: 32px;\n",
              "    padding: 0;\n",
              "    width: 32px;\n",
              "  }\n",
              "\n",
              "  .colab-df-quickchart:hover {\n",
              "    background-color: var(--hover-bg-color);\n",
              "    box-shadow: 0 1px 2px rgba(60, 64, 67, 0.3), 0 1px 3px 1px rgba(60, 64, 67, 0.15);\n",
              "    fill: var(--button-hover-fill-color);\n",
              "  }\n",
              "\n",
              "  .colab-df-quickchart-complete:disabled,\n",
              "  .colab-df-quickchart-complete:disabled:hover {\n",
              "    background-color: var(--disabled-bg-color);\n",
              "    fill: var(--disabled-fill-color);\n",
              "    box-shadow: none;\n",
              "  }\n",
              "\n",
              "  .colab-df-spinner {\n",
              "    border: 2px solid var(--fill-color);\n",
              "    border-color: transparent;\n",
              "    border-bottom-color: var(--fill-color);\n",
              "    animation:\n",
              "      spin 1s steps(1) infinite;\n",
              "  }\n",
              "\n",
              "  @keyframes spin {\n",
              "    0% {\n",
              "      border-color: transparent;\n",
              "      border-bottom-color: var(--fill-color);\n",
              "      border-left-color: var(--fill-color);\n",
              "    }\n",
              "    20% {\n",
              "      border-color: transparent;\n",
              "      border-left-color: var(--fill-color);\n",
              "      border-top-color: var(--fill-color);\n",
              "    }\n",
              "    30% {\n",
              "      border-color: transparent;\n",
              "      border-left-color: var(--fill-color);\n",
              "      border-top-color: var(--fill-color);\n",
              "      border-right-color: var(--fill-color);\n",
              "    }\n",
              "    40% {\n",
              "      border-color: transparent;\n",
              "      border-right-color: var(--fill-color);\n",
              "      border-top-color: var(--fill-color);\n",
              "    }\n",
              "    60% {\n",
              "      border-color: transparent;\n",
              "      border-right-color: var(--fill-color);\n",
              "    }\n",
              "    80% {\n",
              "      border-color: transparent;\n",
              "      border-right-color: var(--fill-color);\n",
              "      border-bottom-color: var(--fill-color);\n",
              "    }\n",
              "    90% {\n",
              "      border-color: transparent;\n",
              "      border-bottom-color: var(--fill-color);\n",
              "    }\n",
              "  }\n",
              "</style>\n",
              "\n",
              "  <script>\n",
              "    async function quickchart(key) {\n",
              "      const quickchartButtonEl =\n",
              "        document.querySelector('#' + key + ' button');\n",
              "      quickchartButtonEl.disabled = true;  // To prevent multiple clicks.\n",
              "      quickchartButtonEl.classList.add('colab-df-spinner');\n",
              "      try {\n",
              "        const charts = await google.colab.kernel.invokeFunction(\n",
              "            'suggestCharts', [key], {});\n",
              "      } catch (error) {\n",
              "        console.error('Error during call to suggestCharts:', error);\n",
              "      }\n",
              "      quickchartButtonEl.classList.remove('colab-df-spinner');\n",
              "      quickchartButtonEl.classList.add('colab-df-quickchart-complete');\n",
              "    }\n",
              "    (() => {\n",
              "      let quickchartButtonEl =\n",
              "        document.querySelector('#df-d048fcc7-b1e2-4e7b-af54-76892399a6fc button');\n",
              "      quickchartButtonEl.style.display =\n",
              "        google.colab.kernel.accessAllowed ? 'block' : 'none';\n",
              "    })();\n",
              "  </script>\n",
              "</div>\n",
              "    </div>\n",
              "  </div>\n"
            ]
          },
          "metadata": {},
          "execution_count": 5
        }
      ],
      "source": [
        "df = df.drop(['Symbol', 'Name', '52 week low', '52 week high', 'Sector'], axis=1) #drop out redundant columns and text columns\n",
        "# drop missing values\n",
        "df = df.dropna()\n",
        "\n",
        "df.head()"
      ]
    },
    {
      "cell_type": "code",
      "source": [
        "# switch sector to dummy variables\n",
        "# df = pd.get_dummies(data = df, drop_first = False)\n",
        "\n",
        "# df.head()"
      ],
      "metadata": {
        "id": "D3ZkrP5kN0H1"
      },
      "id": "D3ZkrP5kN0H1",
      "execution_count": 6,
      "outputs": []
    },
    {
      "cell_type": "markdown",
      "source": [
        "Because it would be redundant and would overwieght this variable as it counts the same thing three different ways."
      ],
      "metadata": {
        "id": "YQbVxxAc2tEU"
      },
      "id": "YQbVxxAc2tEU"
    },
    {
      "cell_type": "markdown",
      "id": "7c2e3476",
      "metadata": {
        "id": "7c2e3476"
      },
      "source": [
        "### Q2\n",
        "**Run a clustering analysis in Python to find three groups of similar stocks.**\n",
        "\n",
        "**Your analysis should address each of the following considerations (pre-processing)**\n",
        "1. **It should remove variables not to be included in the analysis**\n",
        "2. **It should normalize all variables using the Z-transformation method**\n",
        "3. **It should utilize the K-means clustering method**"
      ]
    },
    {
      "cell_type": "code",
      "execution_count": null,
      "id": "e639a916",
      "metadata": {
        "id": "e639a916"
      },
      "outputs": [],
      "source": [
        "# use the standard scaler function\n",
        "scaler = StandardScaler()\n",
        "# normalize features\n",
        "scaled_features = scaler.fit_transform(df)\n",
        "scaled_features"
      ]
    },
    {
      "cell_type": "code",
      "execution_count": 8,
      "id": "316e82bb",
      "metadata": {
        "id": "316e82bb"
      },
      "outputs": [],
      "source": [
        "# add comments to explain the kmeans parameters\n",
        "kmeans = KMeans(\n",
        "    init=\"random\",      # init does\n",
        "    n_clusters=3,       # n_clusters does\n",
        "    n_init=10,          # n_init does\n",
        "    max_iter=300,       # max_iter does\n",
        "    random_state=42     # random_state does\n",
        ")"
      ]
    },
    {
      "cell_type": "code",
      "execution_count": 9,
      "id": "94e8eda2",
      "metadata": {
        "id": "94e8eda2",
        "colab": {
          "base_uri": "https://localhost:8080/",
          "height": 0
        },
        "outputId": "e349a54d-409f-4d8a-e73f-4afd2cea2d58"
      },
      "outputs": [
        {
          "output_type": "execute_result",
          "data": {
            "text/plain": [
              "2858.255995389018"
            ]
          },
          "metadata": {},
          "execution_count": 9
        }
      ],
      "source": [
        "kmeans.fit(scaled_features)\n",
        "# find SSE value or inertia value of the model\n",
        "kmeans.inertia_"
      ]
    },
    {
      "cell_type": "markdown",
      "id": "eb46f4fb",
      "metadata": {
        "id": "eb46f4fb"
      },
      "source": [
        "### Q3\n",
        "**Use the Elbow rule to determine the optimal number of clusters between 1-11 by:**\n",
        "1. **Running k-means iteratively on k of size 1-11**\n",
        "2. **Plotting the SSE curve by k size**\n",
        "3. **Using the Knee Locator method**"
      ]
    },
    {
      "cell_type": "code",
      "execution_count": null,
      "id": "c68fb4cb",
      "metadata": {
        "id": "c68fb4cb"
      },
      "outputs": [],
      "source": [
        "kmeans_kwargs = {\n",
        "    \"init\": \"random\",\n",
        "    \"n_init\": 10,\n",
        "    \"max_iter\": 300,\n",
        "    \"random_state\": 42,\n",
        "}\n",
        "\n",
        "sse = []\n",
        "# create empty list for SSE values\n",
        "for k in range(2,11):       # replace a and b with the range of values for the number of clusters\n",
        "    kmeans = KMeans(n_clusters=k, **kmeans_kwargs)\n",
        "    kmeans.fit(scaled_features)\n",
        "    sse.append(kmeans.inertia_)\n",
        "\n",
        "sse"
      ]
    },
    {
      "cell_type": "code",
      "execution_count": 11,
      "id": "f2a8efd3",
      "metadata": {
        "id": "f2a8efd3",
        "colab": {
          "base_uri": "https://localhost:8080/",
          "height": 478
        },
        "outputId": "3084aaf3-2d4c-4f56-db39-4cb4a47b65b2"
      },
      "outputs": [
        {
          "output_type": "display_data",
          "data": {
            "text/plain": [
              "<Figure size 640x480 with 1 Axes>"
            ],
            "image/png": "[encoded data removed]"
          },
          "metadata": {}
        }
      ],
      "source": [
        "plt.style.use(\"fivethirtyeight\")\n",
        "plt.plot(range(2,11), sse)\n",
        "plt.xticks(range(2,11))\n",
        "plt.xlabel(\"Number of Clusters\")\n",
        "plt.ylabel(\"Error\")\n",
        "plt.show()"
      ]
    },
    {
      "cell_type": "code",
      "execution_count": 12,
      "id": "37eb2979",
      "metadata": {
        "id": "37eb2979",
        "colab": {
          "base_uri": "https://localhost:8080/",
          "height": 0
        },
        "outputId": "fd181d54-e50d-4695-ff54-ce08c510e189"
      },
      "outputs": [
        {
          "output_type": "execute_result",
          "data": {
            "text/plain": [
              "7"
            ]
          },
          "metadata": {},
          "execution_count": 12
        }
      ],
      "source": [
        "kl = KneeLocator(\n",
        "    range(2,11), sse, curve=\"convex\", direction=\"decreasing\"                     # replace a and b with the appropriate values\n",
        ")\n",
        "\n",
        "# locate knee/elbow in the plot\n",
        "kl.elbow"
      ]
    },
    {
      "cell_type": "markdown",
      "id": "cb2405f0",
      "metadata": {
        "id": "cb2405f0"
      },
      "source": [
        "### Q4\n",
        "**Rerun kmeans with the optimal number of clusters and report its SSE value. Is it less than when k was set to 3? Why would this occur?**"
      ]
    },
    {
      "cell_type": "code",
      "execution_count": 13,
      "id": "c4d6a548",
      "metadata": {
        "id": "c4d6a548"
      },
      "outputs": [],
      "source": [
        "# copy down the initial kmeans parameters, what do we need to change to make 5 clusters instead of 3?\n",
        "kmeans = KMeans(\n",
        "    init=\"random\",      # init does\n",
        "    n_clusters=7,       # n_clusters does\n",
        "    n_init=10,          # n_init does\n",
        "    max_iter=300,       # max_iter does\n",
        "    random_state=42     # random_state does\n",
        ")"
      ]
    },
    {
      "cell_type": "code",
      "execution_count": 14,
      "id": "923c6f68",
      "metadata": {
        "id": "923c6f68",
        "colab": {
          "base_uri": "https://localhost:8080/",
          "height": 0
        },
        "outputId": "ca2d8a8c-2aea-4c86-9dbc-fdd1fd6d4719"
      },
      "outputs": [
        {
          "output_type": "execute_result",
          "data": {
            "text/plain": [
              "1735.1124862672036"
            ]
          },
          "metadata": {},
          "execution_count": 14
        }
      ],
      "source": [
        "kmeans.fit(scaled_features)\n",
        "kmeans.inertia_"
      ]
    },
    {
      "cell_type": "markdown",
      "source": [
        "The inertia did decrease by including more clusters. Generally by adding in more clusters leads to having more similar stocks grouped together"
      ],
      "metadata": {
        "id": "R5QTdbqW47vQ"
      },
      "id": "R5QTdbqW47vQ"
    },
    {
      "cell_type": "markdown",
      "id": "bfca5740",
      "metadata": {
        "id": "bfca5740"
      },
      "source": [
        "### Q5\n",
        "\n",
        "**Generate a centroid table using the cluster_centers_ feature from kmeans, convert the array into a dataframe. Which cluster of stocks are the highest price on average, how do you know?**"
      ]
    },
    {
      "cell_type": "code",
      "execution_count": null,
      "id": "e96db1de",
      "metadata": {
        "id": "e96db1de"
      },
      "outputs": [],
      "source": [
        "# save cluster centroids to an object called 'centroids'\n",
        "centroids = kmeans.cluster_centers_\n",
        "centroid_table = pd.DataFrame(centroids,\n",
        "                              columns = df.columns,\n",
        "                              index =['cl_0','cl_1','cl_2','cl_3','cl_4','cl_5','cl_6'])\n",
        "\n",
        "# display table\n",
        "centroid_table"
      ]
    },
    {
      "cell_type": "markdown",
      "source": [
        "Cluster 6 has the highest average stock prices. We know this because its centroid for price is almost 5x above the average. (4.65)"
      ],
      "metadata": {
        "id": "0synG5Xl7g6L"
      },
      "id": "0synG5Xl7g6L"
    },
    {
      "cell_type": "markdown",
      "id": "3b1e1186",
      "metadata": {
        "id": "3b1e1186"
      },
      "source": [
        "### Q6\n",
        "\n",
        "**Now create a new centroid table after de-normalizing the centroid values. Why is it important to de-normalize your centroids after the fact?**"
      ]
    },
    {
      "cell_type": "code",
      "execution_count": null,
      "id": "dd3996d7",
      "metadata": {
        "scrolled": true,
        "id": "dd3996d7"
      },
      "outputs": [],
      "source": [
        "# de-normalize centroid values from centroids object, called unscaled\n",
        "unscaled = scaler.inverse_transform(centroids)\n",
        "unscaled_centroid_table = pd.DataFrame(unscaled,\n",
        "                              columns = df.columns,\n",
        "                              index =['Cluster_0', 'Cluster_1', 'Cluster_2', 'Cluster_3', 'Cluster_4', 'Cluster_5', 'Cluster_6'])\n",
        "\n",
        "unscaled_centroid_table #produce a non-scaled centroid table\n"
      ]
    },
    {
      "cell_type": "markdown",
      "source": [
        "It's easier to communicate about findings and interpret your clusters when they are in tersm of their natural units (USD)"
      ],
      "metadata": {
        "id": "3NkgJ2-g8afs"
      },
      "id": "3NkgJ2-g8afs"
    },
    {
      "cell_type": "markdown",
      "id": "23267be8",
      "metadata": {
        "id": "23267be8"
      },
      "source": [
        "### Q7\n",
        "**Explore plotting the centroid values to examine differences between clusters across the different variables of interest. Then come up with a brief descriptive title for each of the 5 clusters of stocks:**\n",
        "\n",
        "1. **Cluser_0:** Average Joe Performers\n",
        "2. **Cluster_1:** Low Book Values\n",
        "3. **Cluster_6:** High Risk, High Reward\n"
      ]
    },
    {
      "cell_type": "code",
      "execution_count": 20,
      "id": "3eca9a21",
      "metadata": {
        "id": "3eca9a21",
        "colab": {
          "base_uri": "https://localhost:8080/",
          "height": 450
        },
        "outputId": "c0a1255a-ba32-47ef-f18a-a4d7c9e6a0d9"
      },
      "outputs": [
        {
          "output_type": "display_data",
          "data": {
            "text/plain": [
              "<Figure size 640x480 with 1 Axes>"
            ],
            "image/png": "[encoded data removed]"
          },
          "metadata": {}
        }
      ],
      "source": [
        "centroid_table.plot(kind = 'line', y = ['Price', 'Price/Earnings', 'Earnings/Share', 'Price/Book'], style = '--', marker = 'o')\n",
        "plt.show()\n"
      ]
    },
    {
      "cell_type": "markdown",
      "id": "790e7399",
      "metadata": {
        "id": "790e7399"
      },
      "source": [
        "### Q8\n",
        "\n",
        "**Based on your plot and centroid tables, describe which cluster of stocks you'd recommend and why. Create a visualization that supports your recommendation (pull from the data understanding module!). Briefly describe what the viz is showing and why it's relevant.**"
      ]
    },
    {
      "cell_type": "code",
      "execution_count": 22,
      "id": "45384344",
      "metadata": {
        "id": "45384344",
        "colab": {
          "base_uri": "https://localhost:8080/",
          "height": 552
        },
        "outputId": "53534b5c-b6fd-4f6b-d8de-5b69e4315a74"
      },
      "outputs": [
        {
          "output_type": "display_data",
          "data": {
            "text/plain": [
              "<Figure size 640x480 with 1 Axes>"
            ],
            "image/png": "[encoded data removed]"
          },
          "metadata": {}
        }
      ],
      "source": [
        "unscaled_centroid_table.plot(kind = 'bar', y = ['Price','Market Cap'])\n",
        "plt.title(\"Stock Cluster Price & Market Cap\")\n",
        "plt.ylabel(\"USD\")\n",
        "plt.show()"
      ]
    },
    {
      "cell_type": "markdown",
      "source": [
        "Cluster 0 would be the best investment because it has a low price but a higher market cap. High market cap typically represents a bigger company and it's a good price"
      ],
      "metadata": {
        "id": "9LHojSxC_PVQ"
      },
      "id": "9LHojSxC_PVQ"
    }
  ],
  "metadata": {
    "kernelspec": {
      "display_name": "Python 3 (ipykernel)",
      "language": "python",
      "name": "python3"
    },
    "language_info": {
      "codemirror_mode": {
        "name": "ipython",
        "version": 3
      },
      "file_extension": ".py",
      "mimetype": "text/x-python",
      "name": "python",
      "nbconvert_exporter": "python",
      "pygments_lexer": "ipython3",
      "version": "3.9.7"
    },
    "colab": {
      "provenance": []
    }
  },
  "nbformat": 4,
  "nbformat_minor": 5
}