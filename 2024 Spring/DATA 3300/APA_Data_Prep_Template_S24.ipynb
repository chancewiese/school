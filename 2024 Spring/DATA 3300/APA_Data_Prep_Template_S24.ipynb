{
  "cells": [
    {
      "cell_type": "markdown",
      "id": "f63c8e08",
      "metadata": {
        "id": "f63c8e08"
      },
      "source": [
        "# **APA - Data Preparation Template**\n",
        "## **DATA 3300**"
      ]
    },
    {
      "cell_type": "markdown",
      "id": "03daa935",
      "metadata": {
        "id": "03daa935"
      },
      "source": [
        "## **Name(s):**"
      ]
    },
    {
      "cell_type": "markdown",
      "id": "7342cd08",
      "metadata": {
        "id": "7342cd08"
      },
      "source": [
        "### **Read and follow these assignment instructions carefully! Ordinarily, we’d jump into cleansing data as needed and we’d each do it slightly differently. This is difficult to grade, so please go in the order of this document and follow these instructions.**\n",
        "\n",
        "**For this assignment students should submit one .ipynb file, one clean, sorted Excel file, and a PDF of this iPython notebook file. See the assignment background for attribute descriptions and the assignment requirements link on the Canvas assignment page.**\n",
        "\n",
        "**Students should alter code in lines with \"replace code...\" language. Otherwise, students do not need to alter the provided code.**"
      ]
    },
    {
      "cell_type": "markdown",
      "id": "a045b050",
      "metadata": {
        "id": "a045b050"
      },
      "source": [
        "## **Q1**\n",
        "\n",
        "**What does the term “data quality” refer to and why is it important within the context of using data to solve business problems?**"
      ]
    },
    {
      "cell_type": "markdown",
      "id": "b8b417e6",
      "metadata": {
        "id": "b8b417e6"
      },
      "source": [
        "### *To edit text cells, double-click the cell (like this one) and then type in your response*"
      ]
    },
    {
      "cell_type": "markdown",
      "id": "7f6a356a",
      "metadata": {
        "id": "7f6a356a"
      },
      "source": [
        "##**Q2**\n",
        "\n",
        "**The lecture and textbook discussed five characteristics of data quality: accuracy, completeness, consistency, timeliness, and uniqueness. While “accuracy” in this dataset is hard for us to gauge without further inquiry and“timeliness” kind of depends on what it is the data are to be used for, there are clear examples of problems with each of the other three characteristics.**\n",
        "\n",
        "**For each of the other three (completeness, consistency, uniqueness), identify a specific situation within the *hbdata-orig.csv* dataset (identify record numbers when applicable). Hint: For uniqueness, look at the VisitSpan attribute. Be sure your answers are clearly labelled and described.**\n",
        "\n",
        "**This can be done by viewing the data in Excel or importing it into Python. If using Python, begin by importing your libraries and then read in the .csv file.**"
      ]
    },
    {
      "cell_type": "code",
      "execution_count": null,
      "id": "c13aad94",
      "metadata": {
        "id": "c13aad94"
      },
      "outputs": [],
      "source": [
        "#replace with code for importing pandas (refer to the cheat sheet!)\n",
        "#replace code for importing numpy\n",
        "\n",
        "#just run this code block after importing libraries above, no need to alter the below code!\n",
        "from datetime import datetime #you'll also need this method to convert a variable to date-time later in the assignment\n",
        "import warnings\n",
        "warnings.filterwarnings(\"ignore\") #this can be removed but will help the code be a little cleaner by ignoring warnings"
      ]
    },
    {
      "cell_type": "code",
      "execution_count": null,
      "id": "c5f06718",
      "metadata": {
        "id": "c5f06718"
      },
      "outputs": [],
      "source": [
        "#replace with code for importing the dataset\n",
        "\n",
        "#run this code block after importing dataset above\n",
        "pd.set_option(\"display.max_rows\", None, \"display.max_columns\", None) #View full dataframe\n",
        "df"
      ]
    },
    {
      "cell_type": "markdown",
      "id": "1be578e6",
      "metadata": {
        "id": "1be578e6"
      },
      "source": [
        "Completeness: (double-click cell to enter text and respond to Q2)\n",
        "\n",
        "Consistency:\n",
        "\n",
        "Uniqueness:"
      ]
    },
    {
      "cell_type": "markdown",
      "id": "abe4dbab",
      "metadata": {
        "id": "abe4dbab"
      },
      "source": [
        "## **Q3**\n",
        "\n",
        "**Answer the following questions regarding the importance of each of the named data scrubbing steps.**\n",
        "\n",
        "### **3A**\n",
        "**What negative outcome would likely occur during data analysis if duplicated visits were not removed (consolidated)?**"
      ]
    },
    {
      "cell_type": "markdown",
      "id": "0cd097ab",
      "metadata": {
        "id": "0cd097ab"
      },
      "source": []
    },
    {
      "cell_type": "markdown",
      "id": "81b7e47c",
      "metadata": {
        "id": "81b7e47c"
      },
      "source": [
        "### **3B**\n",
        "\n",
        "**What negative outcome would likely occur during data analysis if Location entries were not standardized?**"
      ]
    },
    {
      "cell_type": "markdown",
      "id": "5fa6b9fe",
      "metadata": {
        "id": "5fa6b9fe"
      },
      "source": []
    },
    {
      "cell_type": "markdown",
      "id": "98971f48",
      "metadata": {
        "id": "98971f48"
      },
      "source": [
        "### **3C**\n",
        "\n",
        "**What negative outcome would likely occur during data analysis if, due to measurement issues, amount eaten values were not consistent?**"
      ]
    },
    {
      "cell_type": "markdown",
      "id": "592a8263",
      "metadata": {
        "id": "592a8263"
      },
      "source": []
    },
    {
      "cell_type": "markdown",
      "id": "8e04ef6e",
      "metadata": {
        "id": "8e04ef6e"
      },
      "source": [
        "## **Q4**\n",
        "\n",
        "**In scrubbing the data, you should address each of the following. It’s recommended to go through this assignment in the order of steps below.**"
      ]
    },
    {
      "cell_type": "markdown",
      "id": "4709e143",
      "metadata": {
        "id": "4709e143"
      },
      "source": [
        "### 4A\n",
        "\n",
        "In Python trim all text columns to ensure there are no leading or trailing spaces on any of the data values. If you still see two seemingly identical entries, remember that trimming does not trim internal spaces between two words."
      ]
    },
    {
      "cell_type": "code",
      "execution_count": null,
      "id": "3cb864bf",
      "metadata": {
        "id": "3cb864bf"
      },
      "outputs": [],
      "source": [
        "df_obj = df.select_dtypes(['object']) #select all columns containing text (of type object)\n",
        "df[df_obj.columns] = df_obj.apply(lambda x: x.str.strip()) #trim all selected columns\n",
        "#replace with code to view the header of the dataframe (cheat sheet!)\n",
        "\n",
        "#keep below code to verify date/time of your work\n",
        "from datetime import datetime\n",
        "now = datetime.now()\n",
        "formatted_time = now.strftime(\"%Y-%m-%d %H:%M:%S\")\n",
        "print(f\"Current Date and Time: {formatted_time}\")"
      ]
    },
    {
      "cell_type": "markdown",
      "id": "7fe826a7",
      "metadata": {
        "id": "7fe826a7"
      },
      "source": [
        "### 4B\n",
        "\n",
        "Ensure each bird’s first and last name should be included in separate fields (columns)."
      ]
    },
    {
      "cell_type": "code",
      "execution_count": null,
      "id": "545c9a32",
      "metadata": {
        "id": "545c9a32"
      },
      "outputs": [],
      "source": [
        "#replace with code to split column, updating column names and delimiter type (cheat sheet)\n",
        "#replace with code to drop birdname column\n",
        "\n",
        "#replace with code to show df heading\n"
      ]
    },
    {
      "cell_type": "markdown",
      "id": "b6f368ad",
      "metadata": {
        "id": "b6f368ad"
      },
      "source": [
        "### 4C\n",
        "Ensure that data values are standardized in each column (pay particular attention to the textual columns, BirdName, BirdType, BirdSize, Gender, Location, and Hoverfeed) so that each “idea” (e.g., a species of bird) is specified (i.e., spelled) the same way.\n",
        "\n",
        "This can be checked for each column by using the .value_counts() method! After applying the standarization, show that the correction has been made by using the .value_counts() method to display all categories for each column of interest."
      ]
    },
    {
      "cell_type": "code",
      "execution_count": null,
      "id": "3a5e1e24",
      "metadata": {
        "id": "3a5e1e24"
      },
      "outputs": [],
      "source": [
        "#Replace with code to examine levels in BirdType using the value_counts() method, update column name"
      ]
    },
    {
      "cell_type": "code",
      "execution_count": null,
      "id": "e041b67b",
      "metadata": {
        "id": "e041b67b"
      },
      "outputs": [],
      "source": [
        "#Replace with code to replace redundant value in BirdType, for only 1 original and new label"
      ]
    },
    {
      "cell_type": "code",
      "execution_count": null,
      "id": "28cbde29",
      "metadata": {
        "id": "28cbde29"
      },
      "outputs": [],
      "source": [
        "#Replace with code to examine levels of BirdSize. Ignore null, \"medium\" and 20ml lines; these will be fixed later."
      ]
    },
    {
      "cell_type": "code",
      "execution_count": null,
      "id": "5c0847f3",
      "metadata": {
        "id": "5c0847f3"
      },
      "outputs": [],
      "source": [
        "#Replace with code to replace redundant value in BirdSize"
      ]
    },
    {
      "cell_type": "code",
      "execution_count": null,
      "id": "87ee6892",
      "metadata": {
        "id": "87ee6892"
      },
      "outputs": [],
      "source": [
        "#Replace with code to examine levels of Location. Ignore two lines with all numerical output; these will be fixed later."
      ]
    },
    {
      "cell_type": "code",
      "execution_count": null,
      "id": "a53541fc",
      "metadata": {
        "id": "a53541fc"
      },
      "outputs": [],
      "source": [
        "#Replace with code to replace redundant values of Location, for 2 original and new labels"
      ]
    },
    {
      "cell_type": "markdown",
      "id": "38acbc02",
      "metadata": {
        "id": "38acbc02"
      },
      "source": [
        "### 4D\n",
        "The amount eaten is very important to our analysis. Where this value is null (blank), omit the record. Note that values of 0 are not the same as null. Retain (don’t delete) the records where the value of Amount is 0. Other issues with this attribute will be addressed later.\n",
        "\n",
        "Before removing missing columns first examine the length of the dataset currently using the len() method. Then split the *Amount* column into two columns, *Amount_Eat* and *Unit*. Finally, change *Amount_Eat* to a float object using pd.to_numeric().\n",
        "\n",
        "Once missing values are dropped, view the length of the dataset again using the len() method to see how many observations were dropped."
      ]
    },
    {
      "cell_type": "code",
      "execution_count": null,
      "id": "ab43e7b8",
      "metadata": {
        "id": "ab43e7b8"
      },
      "outputs": [],
      "source": [
        "len(df) #return length of dataframe (i.e., number of rows), just run this code block"
      ]
    },
    {
      "cell_type": "code",
      "execution_count": null,
      "id": "09726b6f",
      "metadata": {
        "id": "09726b6f"
      },
      "outputs": [],
      "source": [
        "#Replace with code to create new split columns for 'Amount_Eat' and 'Unit' from the 'Amount' column, updating column names and delimiter type\n",
        "#Replace with code to drop 'Amount' column\n",
        "#Replace with code to show header of dataframe"
      ]
    },
    {
      "cell_type": "code",
      "execution_count": null,
      "id": "c840be04",
      "metadata": {
        "scrolled": true,
        "id": "c840be04"
      },
      "outputs": [],
      "source": [
        "df['Amount_Eat'] = df['Amount_Eat'].apply(pd.to_numeric, errors='coerce') #convert Amount_Eat column variable dtype from object to float\n",
        "#just run this code block\n",
        "df"
      ]
    },
    {
      "cell_type": "code",
      "execution_count": null,
      "id": "bb662493",
      "metadata": {
        "id": "bb662493"
      },
      "outputs": [],
      "source": [
        "#Replace with code to remove missing data for the 'Amount_Eat' column\n",
        "len(df) #check the new length of the dataset"
      ]
    },
    {
      "cell_type": "markdown",
      "id": "0b85b619",
      "metadata": {
        "id": "0b85b619"
      },
      "source": [
        "### 4E\n",
        "\n",
        "Ensure that each visit is unique. In other words, no visit should be recorded more than once (duplicated). Remove duplicates from the VisitSpan column  using the drop_duplicates() method.\n",
        "\n",
        "Then use the len() method to show how many observations were dropped."
      ]
    },
    {
      "cell_type": "code",
      "execution_count": null,
      "id": "c2d28b15",
      "metadata": {
        "id": "c2d28b15"
      },
      "outputs": [],
      "source": [
        "df = df.drop_duplicates(subset=['VisitSpan']) #drop duplicate records from the 'VisitSpan' column\n",
        "\n",
        "#Replace with code to check the new length of the dataset (see above)"
      ]
    },
    {
      "cell_type": "markdown",
      "id": "ebec3b72",
      "metadata": {
        "id": "ebec3b72"
      },
      "source": [
        "### 4F\n",
        "Split the VisitSpan column into two columns: rename them StartTime and EndTime.\n",
        "\n",
        "Then ensure that both time columns are set as datetime objects by using the pd.to_datetime() method."
      ]
    },
    {
      "cell_type": "code",
      "execution_count": null,
      "id": "caea6827",
      "metadata": {
        "id": "caea6827"
      },
      "outputs": [],
      "source": [
        "#Replace with code to split 'VisitSpan' based on the '-' delimiter, create a StartTime and EndTime column\n",
        "\n",
        "df['StartTime'] = pd.to_datetime(df['StartTime'], format='%H:%M:%S.%f') #converts StartTime to hours:minutes:seconds format\n",
        "df['EndTime'] = pd.to_datetime(df['EndTime'], format='%H:%M:%S.%f') #converts EndTime to hours:minutes:seconds format\n",
        "\n",
        "#Replace with code to drop the 'VisitSpan' column\n",
        "#Replace with code to show header of dataframte"
      ]
    },
    {
      "cell_type": "markdown",
      "id": "4819b0ab",
      "metadata": {
        "id": "4819b0ab"
      },
      "source": [
        "### 4G\n",
        "Some recordings of Amount appear to have been made in ounces rather than in milliliters. All of them should be in milliliters. Convert those in ounces to milliliters (1 oz. = 29.57 ml).\n",
        "\n",
        "Start by subsetting the data to only those observations containing oz, then apply the conversion to the *Amount_Eat* column and replace the values in the *Unit* column with ml.\n"
      ]
    },
    {
      "cell_type": "code",
      "execution_count": null,
      "id": "ea4c664c",
      "metadata": {
        "id": "ea4c664c"
      },
      "outputs": [],
      "source": [
        "df_oz = df[df['Unit'] == 'oz'] #subsets dataset to only contain oz\n",
        "df_oz['Amount_Eat'] = 29.57*df['Amount_Eat'] #applies conversion formula\n",
        "df_oz['Unit'] = df_oz['Unit'].replace('oz', 'ml') #replaces oz with ml\n",
        "df_oz.head() #just run this entire code block as is"
      ]
    },
    {
      "cell_type": "markdown",
      "source": [
        "###**4H**\n",
        "\n",
        "**Next, you'll combine your original dataframe with the new subset dataframe using the concat() method. Finally, drop rows containing 'oz' in the *Unit* column.**\n",
        "\n",
        "**Make sure you have the correct number of observations still by using the len() method.**"
      ],
      "metadata": {
        "id": "NncjHj__LVFW"
      },
      "id": "NncjHj__LVFW"
    },
    {
      "cell_type": "code",
      "execution_count": null,
      "id": "4a29b798",
      "metadata": {
        "id": "4a29b798"
      },
      "outputs": [],
      "source": [
        "frames = [df, df_oz]\n",
        "df = pd.concat(frames) #combines the original df with the new subsetted df\n",
        "df = df[df.Unit != 'oz'] #removes rows containing oz\n",
        "\n",
        "#Replace with code to examine length of dataframe (see earlier portions of this assignment)"
      ]
    },
    {
      "cell_type": "markdown",
      "id": "f65ee35f",
      "metadata": {
        "id": "f65ee35f"
      },
      "source": [
        "### 4I\n",
        "\n",
        "Createa new column, called “IsFemale”. This column should include a 1 if the hummingbird that made the visit is female, or 0 if the hummingbird is male."
      ]
    },
    {
      "cell_type": "code",
      "execution_count": null,
      "id": "83340013",
      "metadata": {
        "id": "83340013"
      },
      "outputs": [],
      "source": [
        "#Replace with code to create new column called IsFemale using the np.where method\n",
        "df.head()"
      ]
    },
    {
      "cell_type": "markdown",
      "id": "22ee397a",
      "metadata": {
        "id": "22ee397a"
      },
      "source": [
        "### 4J\n",
        "Create a new column called Duration, which includes the duration of the visit in seconds. Creat this column from the *StartTime* and *EndTime* columns then convert to seconds using dt.total_seconds()."
      ]
    },
    {
      "cell_type": "code",
      "execution_count": null,
      "id": "bee392ca",
      "metadata": {
        "id": "bee392ca"
      },
      "outputs": [],
      "source": [
        "df['Duration'] = df['EndTime'] - df['StartTime'] #creates new 'Duration' column by subtracting StartTime from EndTime"
      ]
    },
    {
      "cell_type": "code",
      "execution_count": null,
      "id": "68247fac",
      "metadata": {
        "id": "68247fac"
      },
      "outputs": [],
      "source": [
        "df['Duration'] = df['Duration'].dt.total_seconds() #converts 'Duration' to seconds\n",
        "df.head()"
      ]
    },
    {
      "cell_type": "markdown",
      "id": "499140a0",
      "metadata": {
        "id": "499140a0"
      },
      "source": [
        "### 4K\n",
        "\n",
        "View the full dataset, to spot check your cleaned data and address any remaining issues you notice."
      ]
    },
    {
      "cell_type": "code",
      "execution_count": null,
      "id": "7a9eeb1b",
      "metadata": {
        "id": "7a9eeb1b"
      },
      "outputs": [],
      "source": [
        "pd.set_option(\"display.max_rows\", None, \"display.max_columns\", None) #views full dataframe\n",
        "df"
      ]
    },
    {
      "cell_type": "code",
      "source": [
        "#Replace with code to remove any remaining unwanted columns\n",
        "df.head()"
      ],
      "metadata": {
        "id": "TpLqGAHGZtWz"
      },
      "id": "TpLqGAHGZtWz",
      "execution_count": null,
      "outputs": []
    },
    {
      "cell_type": "code",
      "source": [
        "pd.set_option(\"display.max_rows\", None, \"display.max_columns\", None) #views full dataframe\n",
        "df"
      ],
      "metadata": {
        "id": "PQB-DWsxqfee"
      },
      "id": "PQB-DWsxqfee",
      "execution_count": null,
      "outputs": []
    },
    {
      "cell_type": "markdown",
      "id": "9d081d03",
      "metadata": {
        "id": "9d081d03"
      },
      "source": [
        "## Q5\n",
        "\n",
        "When you’re finished cleaning the datafile, sort the file by Visit ID (low to high), then save the cleaned file as an Excel document for submission via Canvas."
      ]
    },
    {
      "cell_type": "code",
      "execution_count": null,
      "id": "1ebe2359",
      "metadata": {
        "id": "1ebe2359"
      },
      "outputs": [],
      "source": [
        "#Replace with code to set index to VisitID\n",
        "df.sort_index() #sorts index"
      ]
    },
    {
      "cell_type": "code",
      "execution_count": null,
      "id": "3a2a7f92",
      "metadata": {
        "id": "3a2a7f92"
      },
      "outputs": [],
      "source": [
        "#export your cleaned Excel file for submission, along with your notebook\n",
        "\n",
        "#For Google Colab\n",
        "from google.colab import files\n",
        "df.to_excel(\"cleaned_data_HB.xlsx\")\n",
        "files.download(\"cleaned_data_HB.xlsx\")\n",
        "\n",
        "#For JupyterNotebooks\n",
        "df.to_excel(\"replace_with_file_path/file_name.xlsx\")\n",
        "\n",
        "#keep below code to verify date/time of your work\n",
        "from datetime import datetime\n",
        "now = datetime.now()\n",
        "formatted_time = now.strftime(\"%Y-%m-%d %H:%M:%S\")\n",
        "print(f\"Current Date and Time: {formatted_time}\")"
      ]
    },
    {
      "cell_type": "markdown",
      "source": [
        "For submission to Canvas: Download/Save your .ipynb file, print your .ipynb file to PDF, and export your cleaned dataset as an Excel file."
      ],
      "metadata": {
        "id": "1ZVvUIfLrk5j"
      },
      "id": "1ZVvUIfLrk5j"
    }
  ],
  "metadata": {
    "kernelspec": {
      "display_name": "Python 3 (ipykernel)",
      "language": "python",
      "name": "python3"
    },
    "language_info": {
      "codemirror_mode": {
        "name": "ipython",
        "version": 3
      },
      "file_extension": ".py",
      "mimetype": "text/x-python",
      "name": "python",
      "nbconvert_exporter": "python",
      "pygments_lexer": "ipython3",
      "version": "3.9.7"
    },
    "colab": {
      "provenance": []
    }
  },
  "nbformat": 4,
  "nbformat_minor": 5
}