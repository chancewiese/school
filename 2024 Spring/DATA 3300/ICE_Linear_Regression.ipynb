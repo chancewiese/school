{
  "cells": [
    {
      "cell_type": "markdown",
      "id": "c22e4f42",
      "metadata": {
        "id": "c22e4f42"
      },
      "source": [
        "# Exercise - Linear Regression\n",
        "# DATA 3300\n",
        "\n",
        "## Name: Chance Wiese"
      ]
    },
    {
      "cell_type": "markdown",
      "id": "d2f66f78",
      "metadata": {
        "id": "d2f66f78"
      },
      "source": [
        "### Q1\n",
        "\n",
        "**Begin by loading the required libraries and packages - including `pandas`, `numpy`, `matplotlib.pyplot`, `statsmodels.api`, `sklearn.model_selection`, and `sklearn.linear_model`. Then import the dataset as a pandas dataframe and remove any leading or trailing spaces from the columns.**"
      ]
    },
    {
      "cell_type": "code",
      "execution_count": 4,
      "id": "10cc16aa",
      "metadata": {
        "id": "10cc16aa"
      },
      "outputs": [],
      "source": [
        "import pandas as pd\n",
        "import numpy as np\n",
        "import matplotlib.pyplot as plt\n",
        "import statsmodels.api as sm\n",
        "from sklearn.model_selection import train_test_split\n",
        "from sklearn.linear_model import LinearRegression\n",
        "import sklearn.metrics as metric"
      ]
    },
    {
      "cell_type": "code",
      "execution_count": 5,
      "id": "cc2e8ece",
      "metadata": {
        "id": "cc2e8ece",
        "colab": {
          "base_uri": "https://localhost:8080/",
          "height": 206
        },
        "outputId": "4efe4ec6-e91e-4e8d-f31e-6c60dd154ee1"
      },
      "outputs": [
        {
          "output_type": "execute_result",
          "data": {
            "text/plain": [
              "   SPID  Age  Gender   Ex   Su   Brand HSGrad CollegeGrad Married   IQ  \\\n",
              "0     1   54  female  3.0  4.5   Honda      Y           N       Y   95   \n",
              "1     2   35    male  7.0  5.5  Subaru      Y           Y       Y   99   \n",
              "2     3   40    male  3.6  3.5   Honda      Y           N       Y  112   \n",
              "3     4   34  female  6.2  1.5   Honda      Y           N       N  109   \n",
              "4     5   40    male  6.4  1.5  Subaru      N           N       N   86   \n",
              "\n",
              "   WritExam  Months  \n",
              "0     0.727      24  \n",
              "1     0.809      16  \n",
              "2     0.945       9  \n",
              "3     0.844      11  \n",
              "4     0.703      24  "
            ],
            "text/html": [
              "\n",
              "  <div id=\"df-98fe3362-d93f-48a8-9655-409d34eb7625\" class=\"colab-df-container\">\n",
              "    <div>\n",
              "<style scoped>\n",
              "    .dataframe tbody tr th:only-of-type {\n",
              "        vertical-align: middle;\n",
              "    }\n",
              "\n",
              "    .dataframe tbody tr th {\n",
              "        vertical-align: top;\n",
              "    }\n",
              "\n",
              "    .dataframe thead th {\n",
              "        text-align: right;\n",
              "    }\n",
              "</style>\n",
              "<table border=\"1\" class=\"dataframe\">\n",
              "  <thead>\n",
              "    <tr style=\"text-align: right;\">\n",
              "      <th></th>\n",
              "      <th>SPID</th>\n",
              "      <th>Age</th>\n",
              "      <th>Gender</th>\n",
              "      <th>Ex</th>\n",
              "      <th>Su</th>\n",
              "      <th>Brand</th>\n",
              "      <th>HSGrad</th>\n",
              "      <th>CollegeGrad</th>\n",
              "      <th>Married</th>\n",
              "      <th>IQ</th>\n",
              "      <th>WritExam</th>\n",
              "      <th>Months</th>\n",
              "    </tr>\n",
              "  </thead>\n",
              "  <tbody>\n",
              "    <tr>\n",
              "      <th>0</th>\n",
              "      <td>1</td>\n",
              "      <td>54</td>\n",
              "      <td>female</td>\n",
              "      <td>3.0</td>\n",
              "      <td>4.5</td>\n",
              "      <td>Honda</td>\n",
              "      <td>Y</td>\n",
              "      <td>N</td>\n",
              "      <td>Y</td>\n",
              "      <td>95</td>\n",
              "      <td>0.727</td>\n",
              "      <td>24</td>\n",
              "    </tr>\n",
              "    <tr>\n",
              "      <th>1</th>\n",
              "      <td>2</td>\n",
              "      <td>35</td>\n",
              "      <td>male</td>\n",
              "      <td>7.0</td>\n",
              "      <td>5.5</td>\n",
              "      <td>Subaru</td>\n",
              "      <td>Y</td>\n",
              "      <td>Y</td>\n",
              "      <td>Y</td>\n",
              "      <td>99</td>\n",
              "      <td>0.809</td>\n",
              "      <td>16</td>\n",
              "    </tr>\n",
              "    <tr>\n",
              "      <th>2</th>\n",
              "      <td>3</td>\n",
              "      <td>40</td>\n",
              "      <td>male</td>\n",
              "      <td>3.6</td>\n",
              "      <td>3.5</td>\n",
              "      <td>Honda</td>\n",
              "      <td>Y</td>\n",
              "      <td>N</td>\n",
              "      <td>Y</td>\n",
              "      <td>112</td>\n",
              "      <td>0.945</td>\n",
              "      <td>9</td>\n",
              "    </tr>\n",
              "    <tr>\n",
              "      <th>3</th>\n",
              "      <td>4</td>\n",
              "      <td>34</td>\n",
              "      <td>female</td>\n",
              "      <td>6.2</td>\n",
              "      <td>1.5</td>\n",
              "      <td>Honda</td>\n",
              "      <td>Y</td>\n",
              "      <td>N</td>\n",
              "      <td>N</td>\n",
              "      <td>109</td>\n",
              "      <td>0.844</td>\n",
              "      <td>11</td>\n",
              "    </tr>\n",
              "    <tr>\n",
              "      <th>4</th>\n",
              "      <td>5</td>\n",
              "      <td>40</td>\n",
              "      <td>male</td>\n",
              "      <td>6.4</td>\n",
              "      <td>1.5</td>\n",
              "      <td>Subaru</td>\n",
              "      <td>N</td>\n",
              "      <td>N</td>\n",
              "      <td>N</td>\n",
              "      <td>86</td>\n",
              "      <td>0.703</td>\n",
              "      <td>24</td>\n",
              "    </tr>\n",
              "  </tbody>\n",
              "</table>\n",
              "</div>\n",
              "    <div class=\"colab-df-buttons\">\n",
              "\n",
              "  <div class=\"colab-df-container\">\n",
              "    <button class=\"colab-df-convert\" onclick=\"convertToInteractive('df-98fe3362-d93f-48a8-9655-409d34eb7625')\"\n",
              "            title=\"Convert this dataframe to an interactive table.\"\n",
              "            style=\"display:none;\">\n",
              "\n",
              "  <svg xmlns=\"http://www.w3.org/2000/svg\" height=\"24px\" viewBox=\"0 -960 960 960\">\n",
              "    <path d=\"M120-120v-720h720v720H120Zm60-500h600v-160H180v160Zm220 220h160v-160H400v160Zm0 220h160v-160H400v160ZM180-400h160v-160H180v160Zm440 0h160v-160H620v160ZM180-180h160v-160H180v160Zm440 0h160v-160H620v160Z\"/>\n",
              "  </svg>\n",
              "    </button>\n",
              "\n",
              "  <style>\n",
              "    .colab-df-container {\n",
              "      display:flex;\n",
              "      gap: 12px;\n",
              "    }\n",
              "\n",
              "    .colab-df-convert {\n",
              "      background-color: #E8F0FE;\n",
              "      border: none;\n",
              "      border-radius: 50%;\n",
              "      cursor: pointer;\n",
              "      display: none;\n",
              "      fill: #1967D2;\n",
              "      height: 32px;\n",
              "      padding: 0 0 0 0;\n",
              "      width: 32px;\n",
              "    }\n",
              "\n",
              "    .colab-df-convert:hover {\n",
              "      background-color: #E2EBFA;\n",
              "      box-shadow: 0px 1px 2px rgba(60, 64, 67, 0.3), 0px 1px 3px 1px rgba(60, 64, 67, 0.15);\n",
              "      fill: #174EA6;\n",
              "    }\n",
              "\n",
              "    .colab-df-buttons div {\n",
              "      margin-bottom: 4px;\n",
              "    }\n",
              "\n",
              "    [theme=dark] .colab-df-convert {\n",
              "      background-color: #3B4455;\n",
              "      fill: #D2E3FC;\n",
              "    }\n",
              "\n",
              "    [theme=dark] .colab-df-convert:hover {\n",
              "      background-color: #434B5C;\n",
              "      box-shadow: 0px 1px 3px 1px rgba(0, 0, 0, 0.15);\n",
              "      filter: drop-shadow(0px 1px 2px rgba(0, 0, 0, 0.3));\n",
              "      fill: #FFFFFF;\n",
              "    }\n",
              "  </style>\n",
              "\n",
              "    <script>\n",
              "      const buttonEl =\n",
              "        document.querySelector('#df-98fe3362-d93f-48a8-9655-409d34eb7625 button.colab-df-convert');\n",
              "      buttonEl.style.display =\n",
              "        google.colab.kernel.accessAllowed ? 'block' : 'none';\n",
              "\n",
              "      async function convertToInteractive(key) {\n",
              "        const element = document.querySelector('#df-98fe3362-d93f-48a8-9655-409d34eb7625');\n",
              "        const dataTable =\n",
              "          await google.colab.kernel.invokeFunction('convertToInteractive',\n",
              "                                                    [key], {});\n",
              "        if (!dataTable) return;\n",
              "\n",
              "        const docLinkHtml = 'Like what you see? Visit the ' +\n",
              "          '<a target=\"_blank\" href=https://colab.research.google.com/notebooks/data_table.ipynb>data table notebook</a>'\n",
              "          + ' to learn more about interactive tables.';\n",
              "        element.innerHTML = '';\n",
              "        dataTable['output_type'] = 'display_data';\n",
              "        await google.colab.output.renderOutput(dataTable, element);\n",
              "        const docLink = document.createElement('div');\n",
              "        docLink.innerHTML = docLinkHtml;\n",
              "        element.appendChild(docLink);\n",
              "      }\n",
              "    </script>\n",
              "  </div>\n",
              "\n",
              "\n",
              "<div id=\"df-9fcdc711-7bc0-49d5-8ada-9ef623187618\">\n",
              "  <button class=\"colab-df-quickchart\" onclick=\"quickchart('df-9fcdc711-7bc0-49d5-8ada-9ef623187618')\"\n",
              "            title=\"Suggest charts\"\n",
              "            style=\"display:none;\">\n",
              "\n",
              "<svg xmlns=\"http://www.w3.org/2000/svg\" height=\"24px\"viewBox=\"0 0 24 24\"\n",
              "     width=\"24px\">\n",
              "    <g>\n",
              "        <path d=\"M19 3H5c-1.1 0-2 .9-2 2v14c0 1.1.9 2 2 2h14c1.1 0 2-.9 2-2V5c0-1.1-.9-2-2-2zM9 17H7v-7h2v7zm4 0h-2V7h2v10zm4 0h-2v-4h2v4z\"/>\n",
              "    </g>\n",
              "</svg>\n",
              "  </button>\n",
              "\n",
              "<style>\n",
              "  .colab-df-quickchart {\n",
              "      --bg-color: #E8F0FE;\n",
              "      --fill-color: #1967D2;\n",
              "      --hover-bg-color: #E2EBFA;\n",
              "      --hover-fill-color: #174EA6;\n",
              "      --disabled-fill-color: #AAA;\n",
              "      --disabled-bg-color: #DDD;\n",
              "  }\n",
              "\n",
              "  [theme=dark] .colab-df-quickchart {\n",
              "      --bg-color: #3B4455;\n",
              "      --fill-color: #D2E3FC;\n",
              "      --hover-bg-color: #434B5C;\n",
              "      --hover-fill-color: #FFFFFF;\n",
              "      --disabled-bg-color: #3B4455;\n",
              "      --disabled-fill-color: #666;\n",
              "  }\n",
              "\n",
              "  .colab-df-quickchart {\n",
              "    background-color: var(--bg-color);\n",
              "    border: none;\n",
              "    border-radius: 50%;\n",
              "    cursor: pointer;\n",
              "    display: none;\n",
              "    fill: var(--fill-color);\n",
              "    height: 32px;\n",
              "    padding: 0;\n",
              "    width: 32px;\n",
              "  }\n",
              "\n",
              "  .colab-df-quickchart:hover {\n",
              "    background-color: var(--hover-bg-color);\n",
              "    box-shadow: 0 1px 2px rgba(60, 64, 67, 0.3), 0 1px 3px 1px rgba(60, 64, 67, 0.15);\n",
              "    fill: var(--button-hover-fill-color);\n",
              "  }\n",
              "\n",
              "  .colab-df-quickchart-complete:disabled,\n",
              "  .colab-df-quickchart-complete:disabled:hover {\n",
              "    background-color: var(--disabled-bg-color);\n",
              "    fill: var(--disabled-fill-color);\n",
              "    box-shadow: none;\n",
              "  }\n",
              "\n",
              "  .colab-df-spinner {\n",
              "    border: 2px solid var(--fill-color);\n",
              "    border-color: transparent;\n",
              "    border-bottom-color: var(--fill-color);\n",
              "    animation:\n",
              "      spin 1s steps(1) infinite;\n",
              "  }\n",
              "\n",
              "  @keyframes spin {\n",
              "    0% {\n",
              "      border-color: transparent;\n",
              "      border-bottom-color: var(--fill-color);\n",
              "      border-left-color: var(--fill-color);\n",
              "    }\n",
              "    20% {\n",
              "      border-color: transparent;\n",
              "      border-left-color: var(--fill-color);\n",
              "      border-top-color: var(--fill-color);\n",
              "    }\n",
              "    30% {\n",
              "      border-color: transparent;\n",
              "      border-left-color: var(--fill-color);\n",
              "      border-top-color: var(--fill-color);\n",
              "      border-right-color: var(--fill-color);\n",
              "    }\n",
              "    40% {\n",
              "      border-color: transparent;\n",
              "      border-right-color: var(--fill-color);\n",
              "      border-top-color: var(--fill-color);\n",
              "    }\n",
              "    60% {\n",
              "      border-color: transparent;\n",
              "      border-right-color: var(--fill-color);\n",
              "    }\n",
              "    80% {\n",
              "      border-color: transparent;\n",
              "      border-right-color: var(--fill-color);\n",
              "      border-bottom-color: var(--fill-color);\n",
              "    }\n",
              "    90% {\n",
              "      border-color: transparent;\n",
              "      border-bottom-color: var(--fill-color);\n",
              "    }\n",
              "  }\n",
              "</style>\n",
              "\n",
              "  <script>\n",
              "    async function quickchart(key) {\n",
              "      const quickchartButtonEl =\n",
              "        document.querySelector('#' + key + ' button');\n",
              "      quickchartButtonEl.disabled = true;  // To prevent multiple clicks.\n",
              "      quickchartButtonEl.classList.add('colab-df-spinner');\n",
              "      try {\n",
              "        const charts = await google.colab.kernel.invokeFunction(\n",
              "            'suggestCharts', [key], {});\n",
              "      } catch (error) {\n",
              "        console.error('Error during call to suggestCharts:', error);\n",
              "      }\n",
              "      quickchartButtonEl.classList.remove('colab-df-spinner');\n",
              "      quickchartButtonEl.classList.add('colab-df-quickchart-complete');\n",
              "    }\n",
              "    (() => {\n",
              "      let quickchartButtonEl =\n",
              "        document.querySelector('#df-9fcdc711-7bc0-49d5-8ada-9ef623187618 button');\n",
              "      quickchartButtonEl.style.display =\n",
              "        google.colab.kernel.accessAllowed ? 'block' : 'none';\n",
              "    })();\n",
              "  </script>\n",
              "</div>\n",
              "    </div>\n",
              "  </div>\n"
            ],
            "application/vnd.google.colaboratory.intrinsic+json": {
              "type": "dataframe",
              "variable_name": "df",
              "summary": "{\n  \"name\": \"df\",\n  \"rows\": 298,\n  \"fields\": [\n    {\n      \"column\": \"SPID\",\n      \"properties\": {\n        \"dtype\": \"number\",\n        \"std\": 86,\n        \"min\": 1,\n        \"max\": 298,\n        \"num_unique_values\": 298,\n        \"samples\": [\n          160,\n          265,\n          255\n        ],\n        \"semantic_type\": \"\",\n        \"description\": \"\"\n      }\n    },\n    {\n      \"column\": \"Age\",\n      \"properties\": {\n        \"dtype\": \"number\",\n        \"std\": 7,\n        \"min\": 22,\n        \"max\": 55,\n        \"num_unique_values\": 34,\n        \"samples\": [\n          51,\n          28,\n          45\n        ],\n        \"semantic_type\": \"\",\n        \"description\": \"\"\n      }\n    },\n    {\n      \"column\": \"Gender\",\n      \"properties\": {\n        \"dtype\": \"category\",\n        \"num_unique_values\": 2,\n        \"samples\": [\n          \"male\",\n          \"female\"\n        ],\n        \"semantic_type\": \"\",\n        \"description\": \"\"\n      }\n    },\n    {\n      \"column\": \"Ex\",\n      \"properties\": {\n        \"dtype\": \"number\",\n        \"std\": 1.725759541367752,\n        \"min\": 1.0,\n        \"max\": 7.0,\n        \"num_unique_values\": 31,\n        \"samples\": [\n          1.2,\n          4.6\n        ],\n        \"semantic_type\": \"\",\n        \"description\": \"\"\n      }\n    },\n    {\n      \"column\": \"Su\",\n      \"properties\": {\n        \"dtype\": \"number\",\n        \"std\": 1.7694175841825543,\n        \"min\": 1.0,\n        \"max\": 7.0,\n        \"num_unique_values\": 13,\n        \"samples\": [\n          5.0,\n          4.0\n        ],\n        \"semantic_type\": \"\",\n        \"description\": \"\"\n      }\n    },\n    {\n      \"column\": \"Brand\",\n      \"properties\": {\n        \"dtype\": \"category\",\n        \"num_unique_values\": 3,\n        \"samples\": [\n          \"Honda\",\n          \"Subaru\"\n        ],\n        \"semantic_type\": \"\",\n        \"description\": \"\"\n      }\n    },\n    {\n      \"column\": \"HSGrad\",\n      \"properties\": {\n        \"dtype\": \"category\",\n        \"num_unique_values\": 2,\n        \"samples\": [\n          \"N\",\n          \"Y\"\n        ],\n        \"semantic_type\": \"\",\n        \"description\": \"\"\n      }\n    },\n    {\n      \"column\": \"CollegeGrad\",\n      \"properties\": {\n        \"dtype\": \"category\",\n        \"num_unique_values\": 2,\n        \"samples\": [\n          \"Y\",\n          \"N\"\n        ],\n        \"semantic_type\": \"\",\n        \"description\": \"\"\n      }\n    },\n    {\n      \"column\": \"Married\",\n      \"properties\": {\n        \"dtype\": \"category\",\n        \"num_unique_values\": 2,\n        \"samples\": [\n          \"N\",\n          \"Y\"\n        ],\n        \"semantic_type\": \"\",\n        \"description\": \"\"\n      }\n    },\n    {\n      \"column\": \"IQ\",\n      \"properties\": {\n        \"dtype\": \"number\",\n        \"std\": 7,\n        \"min\": 85,\n        \"max\": 116,\n        \"num_unique_values\": 32,\n        \"samples\": [\n          114,\n          90\n        ],\n        \"semantic_type\": \"\",\n        \"description\": \"\"\n      }\n    },\n    {\n      \"column\": \"WritExam\",\n      \"properties\": {\n        \"dtype\": \"number\",\n        \"std\": 0.07061828401928175,\n        \"min\": 0.628,\n        \"max\": 1.009,\n        \"num_unique_values\": 142,\n        \"samples\": [\n          0.833,\n          0.826\n        ],\n        \"semantic_type\": \"\",\n        \"description\": \"\"\n      }\n    },\n    {\n      \"column\": \"Months\",\n      \"properties\": {\n        \"dtype\": \"number\",\n        \"std\": 7,\n        \"min\": 0,\n        \"max\": 24,\n        \"num_unique_values\": 25,\n        \"samples\": [\n          0,\n          18\n        ],\n        \"semantic_type\": \"\",\n        \"description\": \"\"\n      }\n    }\n  ]\n}"
            }
          },
          "metadata": {},
          "execution_count": 5
        }
      ],
      "source": [
        "df = pd.read_csv(\"/content/carsalesS19.csv\")\n",
        "df = df.rename(columns=lambda x: x.strip())       # let's remove any leading/trailing whitespace from column names too\n",
        "# pull up a heading\n",
        "df.head()"
      ]
    },
    {
      "cell_type": "markdown",
      "source": [
        "**Now let's create a new dataframe object that contains only the numerical variables so we can FIRST run a CORRELATION analysis. Let's call the new object df_cor.**\n",
        "\n",
        "**Generate a CORRELATION MATRIX to evaluate the relationships amongst the IVs and the IVs with the DV. Be sure to only include those variables that should be included for Pearson correlation analysis (e.g., should categorical variables be included or excluded?).**"
      ],
      "metadata": {
        "id": "47Jh6kkveqyR"
      },
      "id": "47Jh6kkveqyR"
    },
    {
      "cell_type": "code",
      "execution_count": 6,
      "id": "a6828ca3",
      "metadata": {
        "id": "a6828ca3",
        "colab": {
          "base_uri": "https://localhost:8080/",
          "height": 206
        },
        "outputId": "48f57175-9bac-4a59-a96f-a87452564661"
      },
      "outputs": [
        {
          "output_type": "execute_result",
          "data": {
            "text/plain": [
              "   Age   Ex   Su   IQ  WritExam  Months\n",
              "0   54  3.0  4.5   95     0.727      24\n",
              "1   35  7.0  5.5   99     0.809      16\n",
              "2   40  3.6  3.5  112     0.945       9\n",
              "3   34  6.2  1.5  109     0.844      11\n",
              "4   40  6.4  1.5   86     0.703      24"
            ],
            "text/html": [
              "\n",
              "  <div id=\"df-b79ec154-bca5-4da6-9b96-333701eab73e\" class=\"colab-df-container\">\n",
              "    <div>\n",
              "<style scoped>\n",
              "    .dataframe tbody tr th:only-of-type {\n",
              "        vertical-align: middle;\n",
              "    }\n",
              "\n",
              "    .dataframe tbody tr th {\n",
              "        vertical-align: top;\n",
              "    }\n",
              "\n",
              "    .dataframe thead th {\n",
              "        text-align: right;\n",
              "    }\n",
              "</style>\n",
              "<table border=\"1\" class=\"dataframe\">\n",
              "  <thead>\n",
              "    <tr style=\"text-align: right;\">\n",
              "      <th></th>\n",
              "      <th>Age</th>\n",
              "      <th>Ex</th>\n",
              "      <th>Su</th>\n",
              "      <th>IQ</th>\n",
              "      <th>WritExam</th>\n",
              "      <th>Months</th>\n",
              "    </tr>\n",
              "  </thead>\n",
              "  <tbody>\n",
              "    <tr>\n",
              "      <th>0</th>\n",
              "      <td>54</td>\n",
              "      <td>3.0</td>\n",
              "      <td>4.5</td>\n",
              "      <td>95</td>\n",
              "      <td>0.727</td>\n",
              "      <td>24</td>\n",
              "    </tr>\n",
              "    <tr>\n",
              "      <th>1</th>\n",
              "      <td>35</td>\n",
              "      <td>7.0</td>\n",
              "      <td>5.5</td>\n",
              "      <td>99</td>\n",
              "      <td>0.809</td>\n",
              "      <td>16</td>\n",
              "    </tr>\n",
              "    <tr>\n",
              "      <th>2</th>\n",
              "      <td>40</td>\n",
              "      <td>3.6</td>\n",
              "      <td>3.5</td>\n",
              "      <td>112</td>\n",
              "      <td>0.945</td>\n",
              "      <td>9</td>\n",
              "    </tr>\n",
              "    <tr>\n",
              "      <th>3</th>\n",
              "      <td>34</td>\n",
              "      <td>6.2</td>\n",
              "      <td>1.5</td>\n",
              "      <td>109</td>\n",
              "      <td>0.844</td>\n",
              "      <td>11</td>\n",
              "    </tr>\n",
              "    <tr>\n",
              "      <th>4</th>\n",
              "      <td>40</td>\n",
              "      <td>6.4</td>\n",
              "      <td>1.5</td>\n",
              "      <td>86</td>\n",
              "      <td>0.703</td>\n",
              "      <td>24</td>\n",
              "    </tr>\n",
              "  </tbody>\n",
              "</table>\n",
              "</div>\n",
              "    <div class=\"colab-df-buttons\">\n",
              "\n",
              "  <div class=\"colab-df-container\">\n",
              "    <button class=\"colab-df-convert\" onclick=\"convertToInteractive('df-b79ec154-bca5-4da6-9b96-333701eab73e')\"\n",
              "            title=\"Convert this dataframe to an interactive table.\"\n",
              "            style=\"display:none;\">\n",
              "\n",
              "  <svg xmlns=\"http://www.w3.org/2000/svg\" height=\"24px\" viewBox=\"0 -960 960 960\">\n",
              "    <path d=\"M120-120v-720h720v720H120Zm60-500h600v-160H180v160Zm220 220h160v-160H400v160Zm0 220h160v-160H400v160ZM180-400h160v-160H180v160Zm440 0h160v-160H620v160ZM180-180h160v-160H180v160Zm440 0h160v-160H620v160Z\"/>\n",
              "  </svg>\n",
              "    </button>\n",
              "\n",
              "  <style>\n",
              "    .colab-df-container {\n",
              "      display:flex;\n",
              "      gap: 12px;\n",
              "    }\n",
              "\n",
              "    .colab-df-convert {\n",
              "      background-color: #E8F0FE;\n",
              "      border: none;\n",
              "      border-radius: 50%;\n",
              "      cursor: pointer;\n",
              "      display: none;\n",
              "      fill: #1967D2;\n",
              "      height: 32px;\n",
              "      padding: 0 0 0 0;\n",
              "      width: 32px;\n",
              "    }\n",
              "\n",
              "    .colab-df-convert:hover {\n",
              "      background-color: #E2EBFA;\n",
              "      box-shadow: 0px 1px 2px rgba(60, 64, 67, 0.3), 0px 1px 3px 1px rgba(60, 64, 67, 0.15);\n",
              "      fill: #174EA6;\n",
              "    }\n",
              "\n",
              "    .colab-df-buttons div {\n",
              "      margin-bottom: 4px;\n",
              "    }\n",
              "\n",
              "    [theme=dark] .colab-df-convert {\n",
              "      background-color: #3B4455;\n",
              "      fill: #D2E3FC;\n",
              "    }\n",
              "\n",
              "    [theme=dark] .colab-df-convert:hover {\n",
              "      background-color: #434B5C;\n",
              "      box-shadow: 0px 1px 3px 1px rgba(0, 0, 0, 0.15);\n",
              "      filter: drop-shadow(0px 1px 2px rgba(0, 0, 0, 0.3));\n",
              "      fill: #FFFFFF;\n",
              "    }\n",
              "  </style>\n",
              "\n",
              "    <script>\n",
              "      const buttonEl =\n",
              "        document.querySelector('#df-b79ec154-bca5-4da6-9b96-333701eab73e button.colab-df-convert');\n",
              "      buttonEl.style.display =\n",
              "        google.colab.kernel.accessAllowed ? 'block' : 'none';\n",
              "\n",
              "      async function convertToInteractive(key) {\n",
              "        const element = document.querySelector('#df-b79ec154-bca5-4da6-9b96-333701eab73e');\n",
              "        const dataTable =\n",
              "          await google.colab.kernel.invokeFunction('convertToInteractive',\n",
              "                                                    [key], {});\n",
              "        if (!dataTable) return;\n",
              "\n",
              "        const docLinkHtml = 'Like what you see? Visit the ' +\n",
              "          '<a target=\"_blank\" href=https://colab.research.google.com/notebooks/data_table.ipynb>data table notebook</a>'\n",
              "          + ' to learn more about interactive tables.';\n",
              "        element.innerHTML = '';\n",
              "        dataTable['output_type'] = 'display_data';\n",
              "        await google.colab.output.renderOutput(dataTable, element);\n",
              "        const docLink = document.createElement('div');\n",
              "        docLink.innerHTML = docLinkHtml;\n",
              "        element.appendChild(docLink);\n",
              "      }\n",
              "    </script>\n",
              "  </div>\n",
              "\n",
              "\n",
              "<div id=\"df-b0f592a2-2dee-4c8f-80a6-74879570b40b\">\n",
              "  <button class=\"colab-df-quickchart\" onclick=\"quickchart('df-b0f592a2-2dee-4c8f-80a6-74879570b40b')\"\n",
              "            title=\"Suggest charts\"\n",
              "            style=\"display:none;\">\n",
              "\n",
              "<svg xmlns=\"http://www.w3.org/2000/svg\" height=\"24px\"viewBox=\"0 0 24 24\"\n",
              "     width=\"24px\">\n",
              "    <g>\n",
              "        <path d=\"M19 3H5c-1.1 0-2 .9-2 2v14c0 1.1.9 2 2 2h14c1.1 0 2-.9 2-2V5c0-1.1-.9-2-2-2zM9 17H7v-7h2v7zm4 0h-2V7h2v10zm4 0h-2v-4h2v4z\"/>\n",
              "    </g>\n",
              "</svg>\n",
              "  </button>\n",
              "\n",
              "<style>\n",
              "  .colab-df-quickchart {\n",
              "      --bg-color: #E8F0FE;\n",
              "      --fill-color: #1967D2;\n",
              "      --hover-bg-color: #E2EBFA;\n",
              "      --hover-fill-color: #174EA6;\n",
              "      --disabled-fill-color: #AAA;\n",
              "      --disabled-bg-color: #DDD;\n",
              "  }\n",
              "\n",
              "  [theme=dark] .colab-df-quickchart {\n",
              "      --bg-color: #3B4455;\n",
              "      --fill-color: #D2E3FC;\n",
              "      --hover-bg-color: #434B5C;\n",
              "      --hover-fill-color: #FFFFFF;\n",
              "      --disabled-bg-color: #3B4455;\n",
              "      --disabled-fill-color: #666;\n",
              "  }\n",
              "\n",
              "  .colab-df-quickchart {\n",
              "    background-color: var(--bg-color);\n",
              "    border: none;\n",
              "    border-radius: 50%;\n",
              "    cursor: pointer;\n",
              "    display: none;\n",
              "    fill: var(--fill-color);\n",
              "    height: 32px;\n",
              "    padding: 0;\n",
              "    width: 32px;\n",
              "  }\n",
              "\n",
              "  .colab-df-quickchart:hover {\n",
              "    background-color: var(--hover-bg-color);\n",
              "    box-shadow: 0 1px 2px rgba(60, 64, 67, 0.3), 0 1px 3px 1px rgba(60, 64, 67, 0.15);\n",
              "    fill: var(--button-hover-fill-color);\n",
              "  }\n",
              "\n",
              "  .colab-df-quickchart-complete:disabled,\n",
              "  .colab-df-quickchart-complete:disabled:hover {\n",
              "    background-color: var(--disabled-bg-color);\n",
              "    fill: var(--disabled-fill-color);\n",
              "    box-shadow: none;\n",
              "  }\n",
              "\n",
              "  .colab-df-spinner {\n",
              "    border: 2px solid var(--fill-color);\n",
              "    border-color: transparent;\n",
              "    border-bottom-color: var(--fill-color);\n",
              "    animation:\n",
              "      spin 1s steps(1) infinite;\n",
              "  }\n",
              "\n",
              "  @keyframes spin {\n",
              "    0% {\n",
              "      border-color: transparent;\n",
              "      border-bottom-color: var(--fill-color);\n",
              "      border-left-color: var(--fill-color);\n",
              "    }\n",
              "    20% {\n",
              "      border-color: transparent;\n",
              "      border-left-color: var(--fill-color);\n",
              "      border-top-color: var(--fill-color);\n",
              "    }\n",
              "    30% {\n",
              "      border-color: transparent;\n",
              "      border-left-color: var(--fill-color);\n",
              "      border-top-color: var(--fill-color);\n",
              "      border-right-color: var(--fill-color);\n",
              "    }\n",
              "    40% {\n",
              "      border-color: transparent;\n",
              "      border-right-color: var(--fill-color);\n",
              "      border-top-color: var(--fill-color);\n",
              "    }\n",
              "    60% {\n",
              "      border-color: transparent;\n",
              "      border-right-color: var(--fill-color);\n",
              "    }\n",
              "    80% {\n",
              "      border-color: transparent;\n",
              "      border-right-color: var(--fill-color);\n",
              "      border-bottom-color: var(--fill-color);\n",
              "    }\n",
              "    90% {\n",
              "      border-color: transparent;\n",
              "      border-bottom-color: var(--fill-color);\n",
              "    }\n",
              "  }\n",
              "</style>\n",
              "\n",
              "  <script>\n",
              "    async function quickchart(key) {\n",
              "      const quickchartButtonEl =\n",
              "        document.querySelector('#' + key + ' button');\n",
              "      quickchartButtonEl.disabled = true;  // To prevent multiple clicks.\n",
              "      quickchartButtonEl.classList.add('colab-df-spinner');\n",
              "      try {\n",
              "        const charts = await google.colab.kernel.invokeFunction(\n",
              "            'suggestCharts', [key], {});\n",
              "      } catch (error) {\n",
              "        console.error('Error during call to suggestCharts:', error);\n",
              "      }\n",
              "      quickchartButtonEl.classList.remove('colab-df-spinner');\n",
              "      quickchartButtonEl.classList.add('colab-df-quickchart-complete');\n",
              "    }\n",
              "    (() => {\n",
              "      let quickchartButtonEl =\n",
              "        document.querySelector('#df-b0f592a2-2dee-4c8f-80a6-74879570b40b button');\n",
              "      quickchartButtonEl.style.display =\n",
              "        google.colab.kernel.accessAllowed ? 'block' : 'none';\n",
              "    })();\n",
              "  </script>\n",
              "</div>\n",
              "    </div>\n",
              "  </div>\n"
            ],
            "application/vnd.google.colaboratory.intrinsic+json": {
              "type": "dataframe",
              "variable_name": "df_cor",
              "summary": "{\n  \"name\": \"df_cor\",\n  \"rows\": 298,\n  \"fields\": [\n    {\n      \"column\": \"Age\",\n      \"properties\": {\n        \"dtype\": \"number\",\n        \"std\": 7,\n        \"min\": 22,\n        \"max\": 55,\n        \"num_unique_values\": 34,\n        \"samples\": [\n          51,\n          28,\n          45\n        ],\n        \"semantic_type\": \"\",\n        \"description\": \"\"\n      }\n    },\n    {\n      \"column\": \"Ex\",\n      \"properties\": {\n        \"dtype\": \"number\",\n        \"std\": 1.725759541367752,\n        \"min\": 1.0,\n        \"max\": 7.0,\n        \"num_unique_values\": 31,\n        \"samples\": [\n          1.2,\n          4.6,\n          4.8\n        ],\n        \"semantic_type\": \"\",\n        \"description\": \"\"\n      }\n    },\n    {\n      \"column\": \"Su\",\n      \"properties\": {\n        \"dtype\": \"number\",\n        \"std\": 1.7694175841825543,\n        \"min\": 1.0,\n        \"max\": 7.0,\n        \"num_unique_values\": 13,\n        \"samples\": [\n          5.0,\n          4.0,\n          4.5\n        ],\n        \"semantic_type\": \"\",\n        \"description\": \"\"\n      }\n    },\n    {\n      \"column\": \"IQ\",\n      \"properties\": {\n        \"dtype\": \"number\",\n        \"std\": 7,\n        \"min\": 85,\n        \"max\": 116,\n        \"num_unique_values\": 32,\n        \"samples\": [\n          114,\n          90,\n          88\n        ],\n        \"semantic_type\": \"\",\n        \"description\": \"\"\n      }\n    },\n    {\n      \"column\": \"WritExam\",\n      \"properties\": {\n        \"dtype\": \"number\",\n        \"std\": 0.07061828401928175,\n        \"min\": 0.628,\n        \"max\": 1.009,\n        \"num_unique_values\": 142,\n        \"samples\": [\n          0.833,\n          0.826,\n          0.773\n        ],\n        \"semantic_type\": \"\",\n        \"description\": \"\"\n      }\n    },\n    {\n      \"column\": \"Months\",\n      \"properties\": {\n        \"dtype\": \"number\",\n        \"std\": 7,\n        \"min\": 0,\n        \"max\": 24,\n        \"num_unique_values\": 25,\n        \"samples\": [\n          0,\n          18,\n          24\n        ],\n        \"semantic_type\": \"\",\n        \"description\": \"\"\n      }\n    }\n  ]\n}"
            }
          },
          "metadata": {},
          "execution_count": 6
        }
      ],
      "source": [
        "df_cor = df.drop([\"SPID\", \"Gender\", \"Brand\", \"HSGrad\", \"CollegeGrad\", \"Married\"], axis=1)\n",
        "df_cor.head()"
      ]
    },
    {
      "cell_type": "code",
      "execution_count": 7,
      "id": "22b7869e",
      "metadata": {
        "id": "22b7869e",
        "colab": {
          "base_uri": "https://localhost:8080/",
          "height": 238
        },
        "outputId": "1c064347-67d3-45ff-ba67-b716f2e11ce9"
      },
      "outputs": [
        {
          "output_type": "execute_result",
          "data": {
            "text/plain": [
              "<pandas.io.formats.style.Styler at 0x78510b436e00>"
            ],
            "text/html": [
              "<style type=\"text/css\">\n",
              "#T_7383f_row0_col0, #T_7383f_row1_col1, #T_7383f_row2_col2, #T_7383f_row3_col3, #T_7383f_row4_col4, #T_7383f_row5_col5 {\n",
              "  background-color: #800000;\n",
              "  color: #f1f1f1;\n",
              "}\n",
              "#T_7383f_row0_col1, #T_7383f_row1_col0 {\n",
              "  background-color: #ffd1d1;\n",
              "  color: #000000;\n",
              "}\n",
              "#T_7383f_row0_col2, #T_7383f_row2_col0 {\n",
              "  background-color: #f5f5ff;\n",
              "  color: #000000;\n",
              "}\n",
              "#T_7383f_row0_col3, #T_7383f_row3_col0 {\n",
              "  background-color: #ffeded;\n",
              "  color: #000000;\n",
              "}\n",
              "#T_7383f_row0_col4, #T_7383f_row2_col4, #T_7383f_row4_col0, #T_7383f_row4_col2 {\n",
              "  background-color: #ffd5d5;\n",
              "  color: #000000;\n",
              "}\n",
              "#T_7383f_row0_col5, #T_7383f_row1_col3, #T_7383f_row3_col1, #T_7383f_row5_col0 {\n",
              "  background-color: #ffcdcd;\n",
              "  color: #000000;\n",
              "}\n",
              "#T_7383f_row1_col2, #T_7383f_row2_col1 {\n",
              "  background-color: #fff5f5;\n",
              "  color: #000000;\n",
              "}\n",
              "#T_7383f_row1_col4, #T_7383f_row4_col1 {\n",
              "  background-color: #ffdddd;\n",
              "  color: #000000;\n",
              "}\n",
              "#T_7383f_row1_col5, #T_7383f_row5_col1 {\n",
              "  background-color: #f00000;\n",
              "  color: #f1f1f1;\n",
              "}\n",
              "#T_7383f_row2_col3, #T_7383f_row3_col2 {\n",
              "  background-color: #ffd9d9;\n",
              "  color: #000000;\n",
              "}\n",
              "#T_7383f_row2_col5, #T_7383f_row5_col2 {\n",
              "  background-color: #ffe1e1;\n",
              "  color: #000000;\n",
              "}\n",
              "#T_7383f_row3_col4, #T_7383f_row4_col3 {\n",
              "  background-color: #ac0000;\n",
              "  color: #f1f1f1;\n",
              "}\n",
              "#T_7383f_row3_col5, #T_7383f_row5_col3 {\n",
              "  background-color: #6565ff;\n",
              "  color: #f1f1f1;\n",
              "}\n",
              "#T_7383f_row4_col5, #T_7383f_row5_col4 {\n",
              "  background-color: #8181ff;\n",
              "  color: #f1f1f1;\n",
              "}\n",
              "</style>\n",
              "<table id=\"T_7383f\" class=\"dataframe\">\n",
              "  <thead>\n",
              "    <tr>\n",
              "      <th class=\"blank level0\" >&nbsp;</th>\n",
              "      <th id=\"T_7383f_level0_col0\" class=\"col_heading level0 col0\" >Age</th>\n",
              "      <th id=\"T_7383f_level0_col1\" class=\"col_heading level0 col1\" >Ex</th>\n",
              "      <th id=\"T_7383f_level0_col2\" class=\"col_heading level0 col2\" >Su</th>\n",
              "      <th id=\"T_7383f_level0_col3\" class=\"col_heading level0 col3\" >IQ</th>\n",
              "      <th id=\"T_7383f_level0_col4\" class=\"col_heading level0 col4\" >WritExam</th>\n",
              "      <th id=\"T_7383f_level0_col5\" class=\"col_heading level0 col5\" >Months</th>\n",
              "    </tr>\n",
              "  </thead>\n",
              "  <tbody>\n",
              "    <tr>\n",
              "      <th id=\"T_7383f_level0_row0\" class=\"row_heading level0 row0\" >Age</th>\n",
              "      <td id=\"T_7383f_row0_col0\" class=\"data row0 col0\" >1.000000</td>\n",
              "      <td id=\"T_7383f_row0_col1\" class=\"data row0 col1\" >0.087810</td>\n",
              "      <td id=\"T_7383f_row0_col2\" class=\"data row0 col2\" >-0.019577</td>\n",
              "      <td id=\"T_7383f_row0_col3\" class=\"data row0 col3\" >0.037683</td>\n",
              "      <td id=\"T_7383f_row0_col4\" class=\"data row0 col4\" >0.083308</td>\n",
              "      <td id=\"T_7383f_row0_col5\" class=\"data row0 col5\" >0.100242</td>\n",
              "    </tr>\n",
              "    <tr>\n",
              "      <th id=\"T_7383f_level0_row1\" class=\"row_heading level0 row1\" >Ex</th>\n",
              "      <td id=\"T_7383f_row1_col0\" class=\"data row1 col0\" >0.087810</td>\n",
              "      <td id=\"T_7383f_row1_col1\" class=\"data row1 col1\" >1.000000</td>\n",
              "      <td id=\"T_7383f_row1_col2\" class=\"data row1 col2\" >0.017798</td>\n",
              "      <td id=\"T_7383f_row1_col3\" class=\"data row1 col3\" >0.098405</td>\n",
              "      <td id=\"T_7383f_row1_col4\" class=\"data row1 col4\" >0.063983</td>\n",
              "      <td id=\"T_7383f_row1_col5\" class=\"data row1 col5\" >0.555805</td>\n",
              "    </tr>\n",
              "    <tr>\n",
              "      <th id=\"T_7383f_level0_row2\" class=\"row_heading level0 row2\" >Su</th>\n",
              "      <td id=\"T_7383f_row2_col0\" class=\"data row2 col0\" >-0.019577</td>\n",
              "      <td id=\"T_7383f_row2_col1\" class=\"data row2 col1\" >0.017798</td>\n",
              "      <td id=\"T_7383f_row2_col2\" class=\"data row2 col2\" >1.000000</td>\n",
              "      <td id=\"T_7383f_row2_col3\" class=\"data row2 col3\" >0.075746</td>\n",
              "      <td id=\"T_7383f_row2_col4\" class=\"data row2 col4\" >0.081838</td>\n",
              "      <td id=\"T_7383f_row2_col5\" class=\"data row2 col5\" >0.057962</td>\n",
              "    </tr>\n",
              "    <tr>\n",
              "      <th id=\"T_7383f_level0_row3\" class=\"row_heading level0 row3\" >IQ</th>\n",
              "      <td id=\"T_7383f_row3_col0\" class=\"data row3 col0\" >0.037683</td>\n",
              "      <td id=\"T_7383f_row3_col1\" class=\"data row3 col1\" >0.098405</td>\n",
              "      <td id=\"T_7383f_row3_col2\" class=\"data row3 col2\" >0.075746</td>\n",
              "      <td id=\"T_7383f_row3_col3\" class=\"data row3 col3\" >1.000000</td>\n",
              "      <td id=\"T_7383f_row3_col4\" class=\"data row3 col4\" >0.823414</td>\n",
              "      <td id=\"T_7383f_row3_col5\" class=\"data row3 col5\" >-0.300422</td>\n",
              "    </tr>\n",
              "    <tr>\n",
              "      <th id=\"T_7383f_level0_row4\" class=\"row_heading level0 row4\" >WritExam</th>\n",
              "      <td id=\"T_7383f_row4_col0\" class=\"data row4 col0\" >0.083308</td>\n",
              "      <td id=\"T_7383f_row4_col1\" class=\"data row4 col1\" >0.063983</td>\n",
              "      <td id=\"T_7383f_row4_col2\" class=\"data row4 col2\" >0.081838</td>\n",
              "      <td id=\"T_7383f_row4_col3\" class=\"data row4 col3\" >0.823414</td>\n",
              "      <td id=\"T_7383f_row4_col4\" class=\"data row4 col4\" >1.000000</td>\n",
              "      <td id=\"T_7383f_row4_col5\" class=\"data row4 col5\" >-0.246135</td>\n",
              "    </tr>\n",
              "    <tr>\n",
              "      <th id=\"T_7383f_level0_row5\" class=\"row_heading level0 row5\" >Months</th>\n",
              "      <td id=\"T_7383f_row5_col0\" class=\"data row5 col0\" >0.100242</td>\n",
              "      <td id=\"T_7383f_row5_col1\" class=\"data row5 col1\" >0.555805</td>\n",
              "      <td id=\"T_7383f_row5_col2\" class=\"data row5 col2\" >0.057962</td>\n",
              "      <td id=\"T_7383f_row5_col3\" class=\"data row5 col3\" >-0.300422</td>\n",
              "      <td id=\"T_7383f_row5_col4\" class=\"data row5 col4\" >-0.246135</td>\n",
              "      <td id=\"T_7383f_row5_col5\" class=\"data row5 col5\" >1.000000</td>\n",
              "    </tr>\n",
              "  </tbody>\n",
              "</table>\n"
            ]
          },
          "metadata": {},
          "execution_count": 7
        }
      ],
      "source": [
        "# create correlation matrix\n",
        "cor_matrix = df_cor.corr()\n",
        "cor_matrix.style.background_gradient(cmap='seismic', axis=None, vmin=-1, vmax=1)"
      ]
    },
    {
      "cell_type": "markdown",
      "id": "18798d43",
      "metadata": {
        "id": "18798d43"
      },
      "source": [
        ">### 1A\n",
        "**Because the dealership is interested in predicting Months (how long an employee will stay in a position), consider Months to be the DV.**\n",
        "\n",
        "**Based on the correlation matrix, given a minimum correlation coefficient ($r$) value of 0.5 to determine collinearity, are there any collinear *independent variables*? If so, report the variable pair and their correlation coefficient.**"
      ]
    },
    {
      "cell_type": "markdown",
      "source": [
        "Written Exam and IQ are collinear because they have a r = 0.83, which passes our threshold"
      ],
      "metadata": {
        "id": "lUJBvOSDfK9N"
      },
      "id": "lUJBvOSDfK9N"
    },
    {
      "cell_type": "markdown",
      "id": "d0c41b76",
      "metadata": {
        "id": "d0c41b76"
      },
      "source": [
        ">### 1B\n",
        "**Based on the correlation matrix, which two independent variables appear to have the strongest relationship to the dependent variable? For each, report the variable, the correlation coefficient, and the $R^2$ value.**"
      ]
    },
    {
      "cell_type": "markdown",
      "source": [
        "* EX - Months, r = 0.555805 | r^2 = 0.30\n",
        "* IQ - Months, r = -0.300422 | r^2 = 0.09"
      ],
      "metadata": {
        "id": "cTOAjRnHfi3x"
      },
      "id": "cTOAjRnHfi3x"
    },
    {
      "cell_type": "markdown",
      "id": "70799250",
      "metadata": {
        "id": "70799250"
      },
      "source": [
        ">### 1C\n",
        "**Within this correlation context, what does the $R^2$ value tell us?**"
      ]
    },
    {
      "cell_type": "markdown",
      "source": [
        "The R^2 is variance explained, 30% of the variance or change in how long a salesperson stays can be explained by their extraversion score"
      ],
      "metadata": {
        "id": "XU5qi-BmfyZI"
      },
      "id": "XU5qi-BmfyZI"
    },
    {
      "cell_type": "markdown",
      "id": "4cb5a3b4",
      "metadata": {
        "id": "4cb5a3b4"
      },
      "source": [
        ">### 1D\n",
        "**For the collinear relationship reported in 1A, provide a hypothesis that could explain how the one variable value may be causing the other.\n",
        "How should we address this issue?**"
      ]
    },
    {
      "cell_type": "markdown",
      "source": [
        "Written Exam and IQ are likely collinear because they are both measuring some form of intelligence"
      ],
      "metadata": {
        "id": "wSUAgcyjf5xD"
      },
      "id": "wSUAgcyjf5xD"
    },
    {
      "cell_type": "markdown",
      "id": "3e5c1b58",
      "metadata": {
        "id": "3e5c1b58"
      },
      "source": [
        "## Q2\n",
        "**Run a LINEAR REGRESSION ANALYSIS to create a model predicting the number of months a newly hired sales associate at an Innergystic dealership will remain on the job. If you have two variables that appear to be collinear, only include one or the other (retaining the more broadly applicable of the two variables).**\n",
        "\n",
        "**Split the data into a training and a test set, use the training set to fit the model, and then evaluate its performance on the test set.**"
      ]
    },
    {
      "cell_type": "code",
      "source": [
        "df.columns"
      ],
      "metadata": {
        "colab": {
          "base_uri": "https://localhost:8080/"
        },
        "id": "_f3WTXylqHEU",
        "outputId": "d49df8c0-3d5f-4ad7-b5e4-232feaf640a4"
      },
      "id": "_f3WTXylqHEU",
      "execution_count": 8,
      "outputs": [
        {
          "output_type": "execute_result",
          "data": {
            "text/plain": [
              "Index(['SPID', 'Age', 'Gender', 'Ex', 'Su', 'Brand', 'HSGrad', 'CollegeGrad',\n",
              "       'Married', 'IQ', 'WritExam', 'Months'],\n",
              "      dtype='object')"
            ]
          },
          "metadata": {},
          "execution_count": 8
        }
      ]
    },
    {
      "cell_type": "code",
      "execution_count": 9,
      "id": "366607fd",
      "metadata": {
        "id": "366607fd",
        "colab": {
          "base_uri": "https://localhost:8080/",
          "height": 206
        },
        "outputId": "c63bab71-763b-4578-fe43-42e9f450863a"
      },
      "outputs": [
        {
          "output_type": "execute_result",
          "data": {
            "text/plain": [
              "   Age   Ex   Su   IQ  Gender_male  Brand_Honda  Brand_Subaru  HSGrad_Y  \\\n",
              "0   54  3.0  4.5   95            0            1             0         1   \n",
              "1   35  7.0  5.5   99            1            0             1         1   \n",
              "2   40  3.6  3.5  112            1            1             0         1   \n",
              "3   34  6.2  1.5  109            0            1             0         1   \n",
              "4   40  6.4  1.5   86            1            0             1         0   \n",
              "\n",
              "   CollegeGrad_Y  Married_Y  \n",
              "0              0          1  \n",
              "1              1          1  \n",
              "2              0          1  \n",
              "3              0          0  \n",
              "4              0          0  "
            ],
            "text/html": [
              "\n",
              "  <div id=\"df-5df1a9fc-31cf-4297-9f05-5ad1c62d55e5\" class=\"colab-df-container\">\n",
              "    <div>\n",
              "<style scoped>\n",
              "    .dataframe tbody tr th:only-of-type {\n",
              "        vertical-align: middle;\n",
              "    }\n",
              "\n",
              "    .dataframe tbody tr th {\n",
              "        vertical-align: top;\n",
              "    }\n",
              "\n",
              "    .dataframe thead th {\n",
              "        text-align: right;\n",
              "    }\n",
              "</style>\n",
              "<table border=\"1\" class=\"dataframe\">\n",
              "  <thead>\n",
              "    <tr style=\"text-align: right;\">\n",
              "      <th></th>\n",
              "      <th>Age</th>\n",
              "      <th>Ex</th>\n",
              "      <th>Su</th>\n",
              "      <th>IQ</th>\n",
              "      <th>Gender_male</th>\n",
              "      <th>Brand_Honda</th>\n",
              "      <th>Brand_Subaru</th>\n",
              "      <th>HSGrad_Y</th>\n",
              "      <th>CollegeGrad_Y</th>\n",
              "      <th>Married_Y</th>\n",
              "    </tr>\n",
              "  </thead>\n",
              "  <tbody>\n",
              "    <tr>\n",
              "      <th>0</th>\n",
              "      <td>54</td>\n",
              "      <td>3.0</td>\n",
              "      <td>4.5</td>\n",
              "      <td>95</td>\n",
              "      <td>0</td>\n",
              "      <td>1</td>\n",
              "      <td>0</td>\n",
              "      <td>1</td>\n",
              "      <td>0</td>\n",
              "      <td>1</td>\n",
              "    </tr>\n",
              "    <tr>\n",
              "      <th>1</th>\n",
              "      <td>35</td>\n",
              "      <td>7.0</td>\n",
              "      <td>5.5</td>\n",
              "      <td>99</td>\n",
              "      <td>1</td>\n",
              "      <td>0</td>\n",
              "      <td>1</td>\n",
              "      <td>1</td>\n",
              "      <td>1</td>\n",
              "      <td>1</td>\n",
              "    </tr>\n",
              "    <tr>\n",
              "      <th>2</th>\n",
              "      <td>40</td>\n",
              "      <td>3.6</td>\n",
              "      <td>3.5</td>\n",
              "      <td>112</td>\n",
              "      <td>1</td>\n",
              "      <td>1</td>\n",
              "      <td>0</td>\n",
              "      <td>1</td>\n",
              "      <td>0</td>\n",
              "      <td>1</td>\n",
              "    </tr>\n",
              "    <tr>\n",
              "      <th>3</th>\n",
              "      <td>34</td>\n",
              "      <td>6.2</td>\n",
              "      <td>1.5</td>\n",
              "      <td>109</td>\n",
              "      <td>0</td>\n",
              "      <td>1</td>\n",
              "      <td>0</td>\n",
              "      <td>1</td>\n",
              "      <td>0</td>\n",
              "      <td>0</td>\n",
              "    </tr>\n",
              "    <tr>\n",
              "      <th>4</th>\n",
              "      <td>40</td>\n",
              "      <td>6.4</td>\n",
              "      <td>1.5</td>\n",
              "      <td>86</td>\n",
              "      <td>1</td>\n",
              "      <td>0</td>\n",
              "      <td>1</td>\n",
              "      <td>0</td>\n",
              "      <td>0</td>\n",
              "      <td>0</td>\n",
              "    </tr>\n",
              "  </tbody>\n",
              "</table>\n",
              "</div>\n",
              "    <div class=\"colab-df-buttons\">\n",
              "\n",
              "  <div class=\"colab-df-container\">\n",
              "    <button class=\"colab-df-convert\" onclick=\"convertToInteractive('df-5df1a9fc-31cf-4297-9f05-5ad1c62d55e5')\"\n",
              "            title=\"Convert this dataframe to an interactive table.\"\n",
              "            style=\"display:none;\">\n",
              "\n",
              "  <svg xmlns=\"http://www.w3.org/2000/svg\" height=\"24px\" viewBox=\"0 -960 960 960\">\n",
              "    <path d=\"M120-120v-720h720v720H120Zm60-500h600v-160H180v160Zm220 220h160v-160H400v160Zm0 220h160v-160H400v160ZM180-400h160v-160H180v160Zm440 0h160v-160H620v160ZM180-180h160v-160H180v160Zm440 0h160v-160H620v160Z\"/>\n",
              "  </svg>\n",
              "    </button>\n",
              "\n",
              "  <style>\n",
              "    .colab-df-container {\n",
              "      display:flex;\n",
              "      gap: 12px;\n",
              "    }\n",
              "\n",
              "    .colab-df-convert {\n",
              "      background-color: #E8F0FE;\n",
              "      border: none;\n",
              "      border-radius: 50%;\n",
              "      cursor: pointer;\n",
              "      display: none;\n",
              "      fill: #1967D2;\n",
              "      height: 32px;\n",
              "      padding: 0 0 0 0;\n",
              "      width: 32px;\n",
              "    }\n",
              "\n",
              "    .colab-df-convert:hover {\n",
              "      background-color: #E2EBFA;\n",
              "      box-shadow: 0px 1px 2px rgba(60, 64, 67, 0.3), 0px 1px 3px 1px rgba(60, 64, 67, 0.15);\n",
              "      fill: #174EA6;\n",
              "    }\n",
              "\n",
              "    .colab-df-buttons div {\n",
              "      margin-bottom: 4px;\n",
              "    }\n",
              "\n",
              "    [theme=dark] .colab-df-convert {\n",
              "      background-color: #3B4455;\n",
              "      fill: #D2E3FC;\n",
              "    }\n",
              "\n",
              "    [theme=dark] .colab-df-convert:hover {\n",
              "      background-color: #434B5C;\n",
              "      box-shadow: 0px 1px 3px 1px rgba(0, 0, 0, 0.15);\n",
              "      filter: drop-shadow(0px 1px 2px rgba(0, 0, 0, 0.3));\n",
              "      fill: #FFFFFF;\n",
              "    }\n",
              "  </style>\n",
              "\n",
              "    <script>\n",
              "      const buttonEl =\n",
              "        document.querySelector('#df-5df1a9fc-31cf-4297-9f05-5ad1c62d55e5 button.colab-df-convert');\n",
              "      buttonEl.style.display =\n",
              "        google.colab.kernel.accessAllowed ? 'block' : 'none';\n",
              "\n",
              "      async function convertToInteractive(key) {\n",
              "        const element = document.querySelector('#df-5df1a9fc-31cf-4297-9f05-5ad1c62d55e5');\n",
              "        const dataTable =\n",
              "          await google.colab.kernel.invokeFunction('convertToInteractive',\n",
              "                                                    [key], {});\n",
              "        if (!dataTable) return;\n",
              "\n",
              "        const docLinkHtml = 'Like what you see? Visit the ' +\n",
              "          '<a target=\"_blank\" href=https://colab.research.google.com/notebooks/data_table.ipynb>data table notebook</a>'\n",
              "          + ' to learn more about interactive tables.';\n",
              "        element.innerHTML = '';\n",
              "        dataTable['output_type'] = 'display_data';\n",
              "        await google.colab.output.renderOutput(dataTable, element);\n",
              "        const docLink = document.createElement('div');\n",
              "        docLink.innerHTML = docLinkHtml;\n",
              "        element.appendChild(docLink);\n",
              "      }\n",
              "    </script>\n",
              "  </div>\n",
              "\n",
              "\n",
              "<div id=\"df-96aac17e-014a-4b57-b576-84bce78cded1\">\n",
              "  <button class=\"colab-df-quickchart\" onclick=\"quickchart('df-96aac17e-014a-4b57-b576-84bce78cded1')\"\n",
              "            title=\"Suggest charts\"\n",
              "            style=\"display:none;\">\n",
              "\n",
              "<svg xmlns=\"http://www.w3.org/2000/svg\" height=\"24px\"viewBox=\"0 0 24 24\"\n",
              "     width=\"24px\">\n",
              "    <g>\n",
              "        <path d=\"M19 3H5c-1.1 0-2 .9-2 2v14c0 1.1.9 2 2 2h14c1.1 0 2-.9 2-2V5c0-1.1-.9-2-2-2zM9 17H7v-7h2v7zm4 0h-2V7h2v10zm4 0h-2v-4h2v4z\"/>\n",
              "    </g>\n",
              "</svg>\n",
              "  </button>\n",
              "\n",
              "<style>\n",
              "  .colab-df-quickchart {\n",
              "      --bg-color: #E8F0FE;\n",
              "      --fill-color: #1967D2;\n",
              "      --hover-bg-color: #E2EBFA;\n",
              "      --hover-fill-color: #174EA6;\n",
              "      --disabled-fill-color: #AAA;\n",
              "      --disabled-bg-color: #DDD;\n",
              "  }\n",
              "\n",
              "  [theme=dark] .colab-df-quickchart {\n",
              "      --bg-color: #3B4455;\n",
              "      --fill-color: #D2E3FC;\n",
              "      --hover-bg-color: #434B5C;\n",
              "      --hover-fill-color: #FFFFFF;\n",
              "      --disabled-bg-color: #3B4455;\n",
              "      --disabled-fill-color: #666;\n",
              "  }\n",
              "\n",
              "  .colab-df-quickchart {\n",
              "    background-color: var(--bg-color);\n",
              "    border: none;\n",
              "    border-radius: 50%;\n",
              "    cursor: pointer;\n",
              "    display: none;\n",
              "    fill: var(--fill-color);\n",
              "    height: 32px;\n",
              "    padding: 0;\n",
              "    width: 32px;\n",
              "  }\n",
              "\n",
              "  .colab-df-quickchart:hover {\n",
              "    background-color: var(--hover-bg-color);\n",
              "    box-shadow: 0 1px 2px rgba(60, 64, 67, 0.3), 0 1px 3px 1px rgba(60, 64, 67, 0.15);\n",
              "    fill: var(--button-hover-fill-color);\n",
              "  }\n",
              "\n",
              "  .colab-df-quickchart-complete:disabled,\n",
              "  .colab-df-quickchart-complete:disabled:hover {\n",
              "    background-color: var(--disabled-bg-color);\n",
              "    fill: var(--disabled-fill-color);\n",
              "    box-shadow: none;\n",
              "  }\n",
              "\n",
              "  .colab-df-spinner {\n",
              "    border: 2px solid var(--fill-color);\n",
              "    border-color: transparent;\n",
              "    border-bottom-color: var(--fill-color);\n",
              "    animation:\n",
              "      spin 1s steps(1) infinite;\n",
              "  }\n",
              "\n",
              "  @keyframes spin {\n",
              "    0% {\n",
              "      border-color: transparent;\n",
              "      border-bottom-color: var(--fill-color);\n",
              "      border-left-color: var(--fill-color);\n",
              "    }\n",
              "    20% {\n",
              "      border-color: transparent;\n",
              "      border-left-color: var(--fill-color);\n",
              "      border-top-color: var(--fill-color);\n",
              "    }\n",
              "    30% {\n",
              "      border-color: transparent;\n",
              "      border-left-color: var(--fill-color);\n",
              "      border-top-color: var(--fill-color);\n",
              "      border-right-color: var(--fill-color);\n",
              "    }\n",
              "    40% {\n",
              "      border-color: transparent;\n",
              "      border-right-color: var(--fill-color);\n",
              "      border-top-color: var(--fill-color);\n",
              "    }\n",
              "    60% {\n",
              "      border-color: transparent;\n",
              "      border-right-color: var(--fill-color);\n",
              "    }\n",
              "    80% {\n",
              "      border-color: transparent;\n",
              "      border-right-color: var(--fill-color);\n",
              "      border-bottom-color: var(--fill-color);\n",
              "    }\n",
              "    90% {\n",
              "      border-color: transparent;\n",
              "      border-bottom-color: var(--fill-color);\n",
              "    }\n",
              "  }\n",
              "</style>\n",
              "\n",
              "  <script>\n",
              "    async function quickchart(key) {\n",
              "      const quickchartButtonEl =\n",
              "        document.querySelector('#' + key + ' button');\n",
              "      quickchartButtonEl.disabled = true;  // To prevent multiple clicks.\n",
              "      quickchartButtonEl.classList.add('colab-df-spinner');\n",
              "      try {\n",
              "        const charts = await google.colab.kernel.invokeFunction(\n",
              "            'suggestCharts', [key], {});\n",
              "      } catch (error) {\n",
              "        console.error('Error during call to suggestCharts:', error);\n",
              "      }\n",
              "      quickchartButtonEl.classList.remove('colab-df-spinner');\n",
              "      quickchartButtonEl.classList.add('colab-df-quickchart-complete');\n",
              "    }\n",
              "    (() => {\n",
              "      let quickchartButtonEl =\n",
              "        document.querySelector('#df-96aac17e-014a-4b57-b576-84bce78cded1 button');\n",
              "      quickchartButtonEl.style.display =\n",
              "        google.colab.kernel.accessAllowed ? 'block' : 'none';\n",
              "    })();\n",
              "  </script>\n",
              "</div>\n",
              "    </div>\n",
              "  </div>\n"
            ],
            "application/vnd.google.colaboratory.intrinsic+json": {
              "type": "dataframe",
              "variable_name": "x",
              "summary": "{\n  \"name\": \"x\",\n  \"rows\": 298,\n  \"fields\": [\n    {\n      \"column\": \"Age\",\n      \"properties\": {\n        \"dtype\": \"number\",\n        \"std\": 7,\n        \"min\": 22,\n        \"max\": 55,\n        \"num_unique_values\": 34,\n        \"samples\": [\n          51,\n          28,\n          45\n        ],\n        \"semantic_type\": \"\",\n        \"description\": \"\"\n      }\n    },\n    {\n      \"column\": \"Ex\",\n      \"properties\": {\n        \"dtype\": \"number\",\n        \"std\": 1.725759541367752,\n        \"min\": 1.0,\n        \"max\": 7.0,\n        \"num_unique_values\": 31,\n        \"samples\": [\n          1.2,\n          4.6,\n          4.8\n        ],\n        \"semantic_type\": \"\",\n        \"description\": \"\"\n      }\n    },\n    {\n      \"column\": \"Su\",\n      \"properties\": {\n        \"dtype\": \"number\",\n        \"std\": 1.7694175841825543,\n        \"min\": 1.0,\n        \"max\": 7.0,\n        \"num_unique_values\": 13,\n        \"samples\": [\n          5.0,\n          4.0,\n          4.5\n        ],\n        \"semantic_type\": \"\",\n        \"description\": \"\"\n      }\n    },\n    {\n      \"column\": \"IQ\",\n      \"properties\": {\n        \"dtype\": \"number\",\n        \"std\": 7,\n        \"min\": 85,\n        \"max\": 116,\n        \"num_unique_values\": 32,\n        \"samples\": [\n          114,\n          90,\n          88\n        ],\n        \"semantic_type\": \"\",\n        \"description\": \"\"\n      }\n    },\n    {\n      \"column\": \"Gender_male\",\n      \"properties\": {\n        \"dtype\": \"uint8\",\n        \"num_unique_values\": 2,\n        \"samples\": [\n          1,\n          0\n        ],\n        \"semantic_type\": \"\",\n        \"description\": \"\"\n      }\n    },\n    {\n      \"column\": \"Brand_Honda\",\n      \"properties\": {\n        \"dtype\": \"uint8\",\n        \"num_unique_values\": 2,\n        \"samples\": [\n          0,\n          1\n        ],\n        \"semantic_type\": \"\",\n        \"description\": \"\"\n      }\n    },\n    {\n      \"column\": \"Brand_Subaru\",\n      \"properties\": {\n        \"dtype\": \"uint8\",\n        \"num_unique_values\": 2,\n        \"samples\": [\n          1,\n          0\n        ],\n        \"semantic_type\": \"\",\n        \"description\": \"\"\n      }\n    },\n    {\n      \"column\": \"HSGrad_Y\",\n      \"properties\": {\n        \"dtype\": \"uint8\",\n        \"num_unique_values\": 2,\n        \"samples\": [\n          0,\n          1\n        ],\n        \"semantic_type\": \"\",\n        \"description\": \"\"\n      }\n    },\n    {\n      \"column\": \"CollegeGrad_Y\",\n      \"properties\": {\n        \"dtype\": \"uint8\",\n        \"num_unique_values\": 2,\n        \"samples\": [\n          1,\n          0\n        ],\n        \"semantic_type\": \"\",\n        \"description\": \"\"\n      }\n    },\n    {\n      \"column\": \"Married_Y\",\n      \"properties\": {\n        \"dtype\": \"uint8\",\n        \"num_unique_values\": 2,\n        \"samples\": [\n          0,\n          1\n        ],\n        \"semantic_type\": \"\",\n        \"description\": \"\"\n      }\n    }\n  ]\n}"
            }
          },
          "metadata": {},
          "execution_count": 9
        }
      ],
      "source": [
        "x = df.drop(['SPID','WritExam', 'Months'], axis=1) # select the IVs\n",
        "x = pd.get_dummies(data = x, drop_first = True)      # input parameters for creating dummy variables\n",
        "x.head()"
      ]
    },
    {
      "cell_type": "code",
      "execution_count": 10,
      "id": "6f6b083a",
      "metadata": {
        "id": "6f6b083a"
      },
      "outputs": [],
      "source": [
        "y = df['Months'] # set DV"
      ]
    },
    {
      "cell_type": "code",
      "execution_count": 11,
      "id": "5717ecc8",
      "metadata": {
        "id": "5717ecc8",
        "colab": {
          "base_uri": "https://localhost:8080/"
        },
        "outputId": "0c3144ae-fb9c-4c97-9747-233d59cd4984"
      },
      "outputs": [
        {
          "output_type": "stream",
          "name": "stdout",
          "text": [
            "(238, 10)\n",
            "(60, 10)\n",
            "(238,)\n",
            "(60,)\n"
          ]
        }
      ],
      "source": [
        "x_train, x_test, y_train, y_test = train_test_split(x, y, test_size = 0.20, random_state = 101) # set a test and training split parameters\n",
        "\n",
        "print(x_train.shape)                                               # print the shape of x_train, what does this show us?\n",
        "print(x_test.shape)\n",
        "print(y_train.shape)\n",
        "print(y_test.shape)"
      ]
    },
    {
      "cell_type": "markdown",
      "id": "f0a3ca59",
      "metadata": {
        "id": "f0a3ca59"
      },
      "source": [
        ">### 2A\n",
        "**Generate a table of the summary statistics of your regression model**"
      ]
    },
    {
      "cell_type": "code",
      "execution_count": 12,
      "id": "2f8dbe88",
      "metadata": {
        "id": "2f8dbe88",
        "colab": {
          "base_uri": "https://localhost:8080/"
        },
        "outputId": "93c21118-c87a-4b8e-c4fc-156678535d24"
      },
      "outputs": [
        {
          "output_type": "stream",
          "name": "stdout",
          "text": [
            "                            OLS Regression Results                            \n",
            "==============================================================================\n",
            "Dep. Variable:                 Months   R-squared:                       0.800\n",
            "Model:                            OLS   Adj. R-squared:                  0.792\n",
            "Method:                 Least Squares   F-statistic:                     91.06\n",
            "Date:                Tue, 05 Mar 2024   Prob (F-statistic):           1.12e-73\n",
            "Time:                        20:43:51   Log-Likelihood:                -625.95\n",
            "No. Observations:                 238   AIC:                             1274.\n",
            "Df Residuals:                     227   BIC:                             1312.\n",
            "Df Model:                          10                                         \n",
            "Covariance Type:            nonrobust                                         \n",
            "=================================================================================\n",
            "                    coef    std err          t      P>|t|      [0.025      0.975]\n",
            "---------------------------------------------------------------------------------\n",
            "const            29.4153      3.421      8.599      0.000      22.675      36.156\n",
            "Age               0.0406      0.032      1.289      0.199      -0.021       0.103\n",
            "Ex                2.6562      0.137     19.430      0.000       2.387       2.926\n",
            "Su                0.4382      0.127      3.443      0.001       0.187       0.689\n",
            "IQ               -0.3968      0.032    -12.547      0.000      -0.459      -0.334\n",
            "Gender_male       0.2629      0.527      0.499      0.618      -0.775       1.300\n",
            "Brand_Honda       5.5074      0.560      9.840      0.000       4.405       6.610\n",
            "Brand_Subaru      5.4110      0.551      9.813      0.000       4.324       6.498\n",
            "HSGrad_Y          6.3004      0.583     10.810      0.000       5.152       7.449\n",
            "CollegeGrad_Y    -7.2430      0.536    -13.504      0.000      -8.300      -6.186\n",
            "Married_Y        -1.0877      0.462     -2.352      0.020      -1.999      -0.176\n",
            "==============================================================================\n",
            "Omnibus:                       23.057   Durbin-Watson:                   1.911\n",
            "Prob(Omnibus):                  0.000   Jarque-Bera (JB):               34.419\n",
            "Skew:                           0.604   Prob(JB):                     3.36e-08\n",
            "Kurtosis:                       4.419   Cond. No.                     1.65e+03\n",
            "==============================================================================\n",
            "\n",
            "Notes:\n",
            "[1] Standard Errors assume that the covariance matrix of the errors is correctly specified.\n",
            "[2] The condition number is large, 1.65e+03. This might indicate that there are\n",
            "strong multicollinearity or other numerical problems.\n"
          ]
        }
      ],
      "source": [
        "x_train_Sm = sm.add_constant(x_train)\n",
        "ls = sm.OLS(y_train, x_train_Sm).fit()                             # input your x and y training sets to train the ols model\n",
        "# produce the summary statistics table\n",
        "print(ls.summary())"
      ]
    },
    {
      "cell_type": "markdown",
      "id": "d77b6a6f",
      "metadata": {
        "id": "d77b6a6f"
      },
      "source": [
        ">### 2B\n",
        "**Which if any IV are not significant at the $\\alpha = 0.05$ level? How do you know this?**"
      ]
    },
    {
      "cell_type": "markdown",
      "source": [
        "Age and Gender_male are not statistically significant, we know this because they have p values greater than 0.05"
      ],
      "metadata": {
        "id": "_PGe5kVbhPTh"
      },
      "id": "_PGe5kVbhPTh"
    },
    {
      "cell_type": "markdown",
      "id": "375e7d71",
      "metadata": {
        "id": "375e7d71"
      },
      "source": [
        ">### 2C\n",
        "**What is the value of the intercept coffiecient? What does this value tell us?**"
      ]
    },
    {
      "cell_type": "markdown",
      "source": [
        "Th eintercept is the average value of y when all Xs are set to 0, so in this case we'd expect a 0 year old, female, etc. to stay 29 months"
      ],
      "metadata": {
        "id": "Q2SN2w1GhiKz"
      },
      "id": "Q2SN2w1GhiKz"
    },
    {
      "cell_type": "markdown",
      "id": "c71af7b0",
      "metadata": {
        "id": "c71af7b0"
      },
      "source": [
        "## Q3\n",
        "**Based on your answer from 2B, formulate and apply the model developed above by responding to each of the following:**"
      ]
    },
    {
      "cell_type": "markdown",
      "id": "9eba93fe",
      "metadata": {
        "id": "9eba93fe"
      },
      "source": [
        ">### 3A\n",
        "**Remove the IV with the highest p-value, rerun the model, then generate the summary statistics table. Repeat as necessary until all non-significant IVs have been removed. With each iteration, state which IV has been removed.**"
      ]
    },
    {
      "cell_type": "code",
      "execution_count": 13,
      "id": "d70d6b6a",
      "metadata": {
        "id": "d70d6b6a",
        "colab": {
          "base_uri": "https://localhost:8080/"
        },
        "outputId": "a47c9d0b-1c1a-4687-ddff-34f3a37515b1"
      },
      "outputs": [
        {
          "output_type": "stream",
          "name": "stdout",
          "text": [
            "                            OLS Regression Results                            \n",
            "==============================================================================\n",
            "Dep. Variable:                 Months   R-squared:                       0.800\n",
            "Model:                            OLS   Adj. R-squared:                  0.792\n",
            "Method:                 Least Squares   F-statistic:                     101.5\n",
            "Date:                Tue, 05 Mar 2024   Prob (F-statistic):           1.22e-74\n",
            "Time:                        20:43:51   Log-Likelihood:                -626.08\n",
            "No. Observations:                 238   AIC:                             1272.\n",
            "Df Residuals:                     228   BIC:                             1307.\n",
            "Df Model:                           9                                         \n",
            "Covariance Type:            nonrobust                                         \n",
            "=================================================================================\n",
            "                    coef    std err          t      P>|t|      [0.025      0.975]\n",
            "---------------------------------------------------------------------------------\n",
            "const            29.7028      3.367      8.823      0.000      23.069      36.336\n",
            "Age               0.0407      0.031      1.292      0.198      -0.021       0.103\n",
            "Ex                2.6601      0.136     19.523      0.000       2.392       2.929\n",
            "Su                0.4294      0.126      3.412      0.001       0.181       0.677\n",
            "IQ               -0.3975      0.032    -12.605      0.000      -0.460      -0.335\n",
            "Brand_Honda       5.4968      0.558      9.844      0.000       4.397       6.597\n",
            "Brand_Subaru      5.3883      0.549      9.822      0.000       4.307       6.469\n",
            "HSGrad_Y          6.2977      0.582     10.823      0.000       5.151       7.444\n",
            "CollegeGrad_Y    -7.2472      0.535    -13.536      0.000      -8.302      -6.192\n",
            "Married_Y        -1.0663      0.460     -2.320      0.021      -1.972      -0.161\n",
            "==============================================================================\n",
            "Omnibus:                       20.303   Durbin-Watson:                   1.904\n",
            "Prob(Omnibus):                  0.000   Jarque-Bera (JB):               29.697\n",
            "Skew:                           0.548   Prob(JB):                     3.56e-07\n",
            "Kurtosis:                       4.339   Cond. No.                     1.62e+03\n",
            "==============================================================================\n",
            "\n",
            "Notes:\n",
            "[1] Standard Errors assume that the covariance matrix of the errors is correctly specified.\n",
            "[2] The condition number is large, 1.62e+03. This might indicate that there are\n",
            "strong multicollinearity or other numerical problems.\n"
          ]
        }
      ],
      "source": [
        "x_train_Sm = x_train_Sm.drop(['Gender_male'], axis=1)                              # drop the IV with the highest p-value\n",
        "ls=sm.OLS(y_train,x_train_Sm).fit()                                     # retrain the model\n",
        "# print the summary table\n",
        "print(ls.summary())"
      ]
    },
    {
      "cell_type": "code",
      "execution_count": 14,
      "id": "f69102b9",
      "metadata": {
        "id": "f69102b9",
        "colab": {
          "base_uri": "https://localhost:8080/"
        },
        "outputId": "ee20c363-9a10-4d88-b027-335bb1846036"
      },
      "outputs": [
        {
          "output_type": "stream",
          "name": "stdout",
          "text": [
            "                            OLS Regression Results                            \n",
            "==============================================================================\n",
            "Dep. Variable:                 Months   R-squared:                       0.799\n",
            "Model:                            OLS   Adj. R-squared:                  0.792\n",
            "Method:                 Least Squares   F-statistic:                     113.6\n",
            "Date:                Tue, 05 Mar 2024   Prob (F-statistic):           2.53e-75\n",
            "Time:                        20:43:51   Log-Likelihood:                -626.95\n",
            "No. Observations:                 238   AIC:                             1272.\n",
            "Df Residuals:                     229   BIC:                             1303.\n",
            "Df Model:                           8                                         \n",
            "Covariance Type:            nonrobust                                         \n",
            "=================================================================================\n",
            "                    coef    std err          t      P>|t|      [0.025      0.975]\n",
            "---------------------------------------------------------------------------------\n",
            "const            31.1721      3.173      9.823      0.000      24.919      37.425\n",
            "Ex                2.6784      0.136     19.735      0.000       2.411       2.946\n",
            "Su                0.4316      0.126      3.425      0.001       0.183       0.680\n",
            "IQ               -0.3987      0.032    -12.630      0.000      -0.461      -0.337\n",
            "Brand_Honda       5.5672      0.557     10.004      0.000       4.471       6.664\n",
            "Brand_Subaru      5.4733      0.545     10.034      0.000       4.399       6.548\n",
            "HSGrad_Y          6.2509      0.582     10.748      0.000       5.105       7.397\n",
            "CollegeGrad_Y    -7.2494      0.536    -13.520      0.000      -8.306      -6.193\n",
            "Married_Y        -0.9823      0.456     -2.155      0.032      -1.880      -0.084\n",
            "==============================================================================\n",
            "Omnibus:                       20.675   Durbin-Watson:                   1.912\n",
            "Prob(Omnibus):                  0.000   Jarque-Bera (JB):               29.494\n",
            "Skew:                           0.567   Prob(JB):                     3.94e-07\n",
            "Kurtosis:                       4.299   Cond. No.                     1.43e+03\n",
            "==============================================================================\n",
            "\n",
            "Notes:\n",
            "[1] Standard Errors assume that the covariance matrix of the errors is correctly specified.\n",
            "[2] The condition number is large, 1.43e+03. This might indicate that there are\n",
            "strong multicollinearity or other numerical problems.\n"
          ]
        }
      ],
      "source": [
        "x_train_Sm = x_train_Sm.drop(['Age'], axis=1)                              # drop the next non-significant IV\n",
        "ls=sm.OLS(y_train,x_train_Sm).fit()                                     # retrain the model\n",
        "print(ls.summary())                                                     # produce the summary statistics"
      ]
    },
    {
      "cell_type": "markdown",
      "id": "400d68be",
      "metadata": {
        "id": "400d68be"
      },
      "source": [
        "> ### 3B\n",
        "**Once you've run a regression in which all IVs are significant ($\\alpha = 0.05$), write out the full model in equation form.**"
      ]
    },
    {
      "cell_type": "markdown",
      "source": [
        "$Months = 31.1721 + 2.6784*Ex + 0.4316*Su - 0.3987*IQ + 5.4733*Brand_Honda + 5.3883*Brand_Subaru + 6.2509*HSGrad_Y - 7.2494*CollegeGrad_Y - 0.9823*Married_Y$"
      ],
      "metadata": {
        "id": "T49JWBtniHyA"
      },
      "id": "T49JWBtniHyA"
    },
    {
      "cell_type": "markdown",
      "id": "df46032d",
      "metadata": {
        "id": "df46032d"
      },
      "source": [
        ">### 3C\n",
        "**Let's say that a Suburu dealership owned by the company is considering hiring a certain job applicant into a sales position. Using the formula above, how long would you expect the applicant to stay in the position if they were a single, 20 year-old female high school grad with no college experience, a 100 IQ and WritExam score of 80%, an Extraverison score of 5, and an SuMind Score of 1?   Show your math.**"
      ]
    },
    {
      "cell_type": "code",
      "execution_count": 15,
      "id": "5a0b0a2f",
      "metadata": {
        "id": "5a0b0a2f",
        "colab": {
          "base_uri": "https://localhost:8080/"
        },
        "outputId": "5d44a510-0772-4b1a-bffd-3008d1d40be5"
      },
      "outputs": [
        {
          "output_type": "stream",
          "name": "stdout",
          "text": [
            "predicted_months = 16.8499\n"
          ]
        }
      ],
      "source": [
        "months = 31.1721 + (2.6784*5) + (0.4316*1) - (0.3987*100) + (5.5672*0) + (5.4733*1) + (6.2509*1) - (7.2494*0) - (0.9823*0)\n",
        "print(\"predicted_months =\", months)"
      ]
    },
    {
      "cell_type": "markdown",
      "source": [
        ">### 3D\n",
        "**Does HSGrad_Y have a postive or negative relationship with Months? What about CollegeGrad_Y? What does it mean in relation to the reference groups (HSGrad_N and CollegeGrad_N)?**"
      ],
      "metadata": {
        "id": "ccnaQZd0jMrL"
      },
      "id": "ccnaQZd0jMrL"
    },
    {
      "cell_type": "markdown",
      "source": [
        "HSGrad_Y has a positive relationship with months, meaning HS grads stay longer than non-HS grads on average. Specifically about 6 months longer.\n",
        "\n",
        "CollegeGrad_Y has a negative relationship with months, meaning college grads stay less time that non-college grads on average. About 7 months shorter."
      ],
      "metadata": {
        "id": "qbR4vQLLjP_q"
      },
      "id": "qbR4vQLLjP_q"
    },
    {
      "cell_type": "markdown",
      "id": "9a44b481",
      "metadata": {
        "id": "9a44b481"
      },
      "source": [
        "## Q4\n",
        "\n",
        "**Now let's evaluate the model performance on your test set to examine how well our model might generalize to new data:**"
      ]
    },
    {
      "cell_type": "markdown",
      "id": "27409550",
      "metadata": {
        "id": "27409550"
      },
      "source": [
        ">### 4A\n",
        "**Using the LinearRegression method in Scikit learn, fit the final model to the training data and then apply the model to the test data.**"
      ]
    },
    {
      "cell_type": "code",
      "execution_count": 20,
      "id": "9b7ac575",
      "metadata": {
        "id": "9b7ac575"
      },
      "outputs": [],
      "source": [
        "model = LinearRegression()\n",
        "model.fit(x_train_Sm, y_train)                                       # train the regression model on training data using the scikit learn version of regression\n",
        "\n",
        "x_test = x_test.drop(['Age', 'Gender_male'], axis=1)                # drop the two non-significant IVs from the test set\n",
        "x_test_Sm = sm.add_constant(x_test)              # add a constant (intercept) value to the test set"
      ]
    },
    {
      "cell_type": "code",
      "execution_count": 23,
      "id": "97ddf779",
      "metadata": {
        "scrolled": true,
        "id": "97ddf779"
      },
      "outputs": [],
      "source": [
        "# make predictions onto the test set\n",
        "predictions = model.predict(x_test_Sm)\n"
      ]
    },
    {
      "cell_type": "markdown",
      "id": "5016a0fb",
      "metadata": {
        "id": "5016a0fb"
      },
      "source": [
        ">### 4B\n",
        "**Using the metric method, produce the mean squared error and $R^2$ for the model, how does this $R^2$ compare to the value generated on the training data? What does this indicate?**"
      ]
    },
    {
      "cell_type": "code",
      "execution_count": 24,
      "id": "b146fa65",
      "metadata": {
        "id": "b146fa65",
        "colab": {
          "base_uri": "https://localhost:8080/"
        },
        "outputId": "938f8aff-970f-4925-d07b-f19d25223481"
      },
      "outputs": [
        {
          "output_type": "stream",
          "name": "stdout",
          "text": [
            "Mean squared error = 8.66\n",
            "R2 score = 0.85\n"
          ]
        }
      ],
      "source": [
        "print(\"Mean squared error =\", round(metric.mean_squared_error(y_test, predictions), 2))    # produce the MSE for observed vs predicted\n",
        "print(\"R2 score =\", round(metric.r2_score(y_test, predictions), 2))                        # produce the R^2 for observed vs predicted"
      ]
    },
    {
      "cell_type": "code",
      "source": [
        "print(\"RMSE = \", np.sqrt(8.66))"
      ],
      "metadata": {
        "colab": {
          "base_uri": "https://localhost:8080/"
        },
        "id": "-HdtywmghSge",
        "outputId": "8f12bddc-e26b-4925-8076-acf41e335f51"
      },
      "id": "-HdtywmghSge",
      "execution_count": 25,
      "outputs": [
        {
          "output_type": "stream",
          "name": "stdout",
          "text": [
            "RMSE =  2.9427877939124323\n"
          ]
        }
      ]
    },
    {
      "cell_type": "markdown",
      "source": [
        "We have an R-squared that is on par (if not a bit higher) for our test data, as compared to our training data, indicating that our model should generalize well when applied to new data"
      ],
      "metadata": {
        "id": "1EvJinAqpTmC"
      },
      "id": "1EvJinAqpTmC"
    },
    {
      "cell_type": "markdown",
      "id": "db09ff35",
      "metadata": {
        "id": "db09ff35"
      },
      "source": [
        ">### 4C\n",
        "**Produce a visualization of the relationship between the observed (actual) values of months in the test set and the predicted values of months**"
      ]
    },
    {
      "cell_type": "code",
      "execution_count": 26,
      "id": "c3271897",
      "metadata": {
        "id": "c3271897",
        "colab": {
          "base_uri": "https://localhost:8080/",
          "height": 450
        },
        "outputId": "586d3223-d3c5-40b5-baf7-6608928df60b"
      },
      "outputs": [
        {
          "output_type": "display_data",
          "data": {
            "text/plain": [
              "<Figure size 640x480 with 1 Axes>"
            ],
            "image/png": "[encoded data removed]"
          },
          "metadata": {}
        }
      ],
      "source": [
        "import seaborn as sns\n",
        "sns.regplot(x = y_test, y = predictions)                                     # insert what to plot on the x and y access\n",
        "plt.ylabel(\"Predicted Months\")\n",
        "plt.xlabel(\"Actual Months\")\n",
        "plt.show()"
      ]
    }
  ],
  "metadata": {
    "kernelspec": {
      "display_name": "Python 3 (ipykernel)",
      "language": "python",
      "name": "python3"
    },
    "language_info": {
      "codemirror_mode": {
        "name": "ipython",
        "version": 3
      },
      "file_extension": ".py",
      "mimetype": "text/x-python",
      "name": "python",
      "nbconvert_exporter": "python",
      "pygments_lexer": "ipython3",
      "version": "3.9.7"
    },
    "colab": {
      "provenance": []
    }
  },
  "nbformat": 4,
  "nbformat_minor": 5
}