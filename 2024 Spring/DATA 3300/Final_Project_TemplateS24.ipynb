{
  "nbformat": 4,
  "nbformat_minor": 0,
  "metadata": {
    "colab": {
      "provenance": []
    },
    "kernelspec": {
      "name": "python3",
      "display_name": "Python 3"
    },
    "language_info": {
      "name": "python"
    }
  },
  "cells": [
    {
      "cell_type": "markdown",
      "source": [
        "# **Final Project**\n",
        "# DATA 3300"
      ],
      "metadata": {
        "id": "vI3HQgIIpbop"
      }
    },
    {
      "cell_type": "markdown",
      "source": [
        "## Names: (list all group members, only one team member turns in the assignment per group)"
      ],
      "metadata": {
        "id": "QsznjXNDphHS"
      }
    },
    {
      "cell_type": "markdown",
      "source": [
        "## **Summary**\n",
        "\n",
        "**This assignment is broken down into five parts: 170 pts**\n",
        "\n",
        "1.   **Data Preparation & Data Understanding (40 pts)**\n",
        "2.   **Unsupervised DM (26 pts)**\n",
        "3.   **Supervised DM Technique 1 (27 pts)**\n",
        "4.   **Supervised DM Technique 2 (27 pts**)\n",
        "5.   **Evaluation of Moedls & Business Recommendations (50 pts)**\n",
        "\n",
        "***Each part can be started now, except Part 5. You complete Parts 3 and 4 in order to proceed with Part 5.***\n",
        "\n",
        "\n",
        "\n"
      ],
      "metadata": {
        "id": "FOfEKUMppuD_"
      }
    },
    {
      "cell_type": "markdown",
      "source": [
        "## **Part 1: Data Preparation & Understanding**\n",
        "\n",
        "### **A**\n",
        "### **Data Preparation (16 pts)**\n",
        "\n",
        "**Import the manager_performance dataset into Python, and clean/transform this data set. If you need some reminders about how to do this, revisit the data preparation module!**\n",
        "\n",
        "\n",
        "\n",
        "*   **Think about any ethical concerns regarding this dataset. Remove any columns that personally identify employees or could be used to discriminate against employees (sex, marital status, age, sexual orientation, etc.).**\n",
        "*   **Go through each attribute column and perform various data transformations necessary to cleanse the dataset. For each attribute/column, report each data cleansing step performed and the underlying assumption as to why the data cleansing action was performed.**\n",
        "  *   **Do not simply state that “all columns were trimmed” or restate the cleansing action itself.**\n",
        "  *   **State the assumption (e.g., “M” was changed to “Male” because it was assumed that “M” indicated “Male” in this dataset.).**\n",
        "  *   **Also, if no data transformations were made, state your assumption here as well (all data were assumed to be correct/clean).**\n",
        "\n",
        "\n",
        "*When you're finished performing all cleaning steps, please display a heading of your finalized df.*\n",
        "\n",
        "**For this portion of the assignment, fill in the information below to indicate the cleaning actions taken and the assumptions you made. `Manager_ID` has already been filled in, to provide an example.**"
      ],
      "metadata": {
        "id": "G9Nyy7B2qXl7"
      }
    },
    {
      "cell_type": "markdown",
      "source": [
        "## **Data Transformations & Assumptions Outline**\n",
        "\n",
        "* **Manager_ID**\n",
        "  * **Action**: None\n",
        "  * **Assumption**: All values appear correct with no duplicates\n",
        "* **First_Name**\n",
        "  * **Action**:\n",
        "  * **Assumption**:\n",
        "* **Last_Name**\n",
        "  * **Action**:\n",
        "  * **Asumption**:\n",
        "* **Age**\n",
        "  * **Action**:\n",
        "  * **Assumption**:\n",
        "* **Time_Employed**\n",
        "  * **Action**:\n",
        "  * **Assumption**:\n",
        "* **Num_Prev_Positions**\n",
        "  * **Action**:\n",
        "  * **Assumption**:\n",
        "* **Teamwork**\n",
        "  * **Action**:\n",
        "  * **Assumption**:\n",
        "* **Motivation**\n",
        "  * **Action**:\n",
        "  * **Assumption**:\n",
        "* **Leadership**\n",
        "  * **Action**:\n",
        "  * **Assumption**:\n",
        "* **Performance_Evaluation**\n",
        "  * **Action_1**:\n",
        "  * **Assumption_1**:\n",
        "  * **Action_2**:\n",
        "  * **Assumption_2**:\n",
        "  * **Action_3**:\n",
        "  * **Assumption_3**:\n"
      ],
      "metadata": {
        "id": "-6UdHR0DuFmb"
      }
    },
    {
      "cell_type": "code",
      "execution_count": null,
      "metadata": {
        "id": "24lUOG55pYL7"
      },
      "outputs": [],
      "source": [
        "# replace with code to import the libraries and packages required to import data, manipulate dataframes, and produce plots (visualize data): pandas, numpy, seaborn, and matplotlib.pyplot\n",
        "\n",
        "import warnings\n",
        "warnings.filterwarnings(\"ignore\")"
      ]
    },
    {
      "cell_type": "code",
      "source": [
        "# replace with code to import dataset\n",
        "pd.set_option(\"display.max_rows\", None, \"display.max_columns\", None)\n",
        "# replace with code to view the df headers"
      ],
      "metadata": {
        "id": "XjHTvFESy488"
      },
      "execution_count": null,
      "outputs": []
    },
    {
      "cell_type": "code",
      "source": [
        "# create new code cells as necessary. Remove columns based on instructions above; perform other data cleaning steps as necessary.\n",
        "# you might consider using a different code cell for each variable/column you make any changes to"
      ],
      "metadata": {
        "id": "JbqK66BizO3A"
      },
      "execution_count": null,
      "outputs": []
    },
    {
      "cell_type": "code",
      "source": [
        "# replace with code to display finalized clean dataset"
      ],
      "metadata": {
        "id": "L0CCUWdkDTCn"
      },
      "execution_count": null,
      "outputs": []
    },
    {
      "cell_type": "markdown",
      "source": [
        "### **B**\n",
        "### **Data Understanding (24 pts):**\n",
        "\n",
        "**Return to Canvas and download the `manager_performance_clean.csv`. This file is provided so that any errors potentially made during data cleansing do not result in subsequent errors/deductions for the remaining portions of the assignment. Thoroughly explore the data. Specifically:**\n",
        "\n",
        "**Look through this data set and, ignoring the ID, identify the types of data variables therein (nominal, ordinal, ratio, or interval).**"
      ],
      "metadata": {
        "id": "bBYpVmoM3qxn"
      }
    },
    {
      "cell_type": "markdown",
      "source": [
        "* **Time Employed:**\n",
        "* **Num Prev Positions:**\n",
        "* **Teamwork:**\n",
        "* **Motivation:**\n",
        "* **Leadership:**\n",
        "* **Performance Evaluation:**"
      ],
      "metadata": {
        "id": "OiS_aaOk4eA5"
      }
    },
    {
      "cell_type": "markdown",
      "source": [
        "**Produce a descriptive statistics table that excludes `Manager_ID` and groups by performance evaluation (i.e., high vs low). (*Hint: will need to use the groupby() and describe() functions*). Display below:**"
      ],
      "metadata": {
        "id": "lmBM-2wf41Be"
      }
    },
    {
      "cell_type": "code",
      "source": [
        "# replace with code to read in the manager_performance_clean.csv file\n",
        "# replace with code to view headers"
      ],
      "metadata": {
        "id": "2kwbBdHoC1jr"
      },
      "execution_count": null,
      "outputs": []
    },
    {
      "cell_type": "code",
      "source": [
        "# replace with code to drop the primary key\n",
        "# groupby performance_evaluation and produce descriptive statistics on all other variables"
      ],
      "metadata": {
        "id": "4zYADlSh6CXF"
      },
      "execution_count": null,
      "outputs": []
    },
    {
      "cell_type": "markdown",
      "source": [
        "**From this, create at least two hypotheses regarding factors driving employee performance evaluations. These hypotheses should not be simple restatements of the facts shown in the table, but instead should reflect your thoughts about the potential underlying causes of these results (i.e., what might be causing the results seen in the table?). Explain any rationale behind your hypotheses as needed to clarify your line of thinking.**"
      ],
      "metadata": {
        "id": "ViZow_AD_AvS"
      }
    },
    {
      "cell_type": "markdown",
      "source": [],
      "metadata": {
        "id": "KIvRcw1I_L86"
      }
    },
    {
      "cell_type": "markdown",
      "source": [
        "**Develop a data visualization that distinguishes between high-and low-performers in the dataset. Include a brief caption describing the figure.**"
      ],
      "metadata": {
        "id": "AzkyaYh6BL9H"
      }
    },
    {
      "cell_type": "code",
      "source": [
        "# replace with code to produce viz -- see Module 3 cheat sheet or ICE for code on producing visualizations"
      ],
      "metadata": {
        "id": "mpvn-KyIB3eq"
      },
      "execution_count": null,
      "outputs": []
    },
    {
      "cell_type": "markdown",
      "source": [
        "Caption:"
      ],
      "metadata": {
        "id": "FUVWtYW1CqYk"
      }
    },
    {
      "cell_type": "markdown",
      "source": [
        "**Develop a correlation matrix that includes all candidate independent variables, then display the correlation matrix in a color-mapped table. Assume all variables are normally distributed and DO NOT require transformations.**"
      ],
      "metadata": {
        "id": "cQEFe0OJDa1d"
      }
    },
    {
      "cell_type": "code",
      "source": [
        "# replace with code to drop the primary key and DV\n",
        "# replace with code to produce correlation matrix, and display in a color-mapped table"
      ],
      "metadata": {
        "id": "D3a6s5CrDqBu"
      },
      "execution_count": null,
      "outputs": []
    },
    {
      "cell_type": "markdown",
      "source": [
        "**Are there any variable pairs that are multicollinear based on a correlation coefficient value cut-off of 0.6? Explain your answer.**"
      ],
      "metadata": {
        "id": "JTaI-hEGFKfp"
      }
    },
    {
      "cell_type": "markdown",
      "source": [],
      "metadata": {
        "id": "IaJF3i9lFTZo"
      }
    },
    {
      "cell_type": "markdown",
      "source": [
        "# **Part 2: Unsupervised DM (26 pts)**\n",
        "\n",
        "**Download the `manager_performance_clean.csv` dataset from Canvas. This file is provided so that any errors potentially made during data cleansing do not result in subsequent errors/deductions for the remaining portions of the assignment.**\n",
        "\n",
        "**Import the clean dataset to Python (or use the clean file imported in 1B above), and name your df something different for Part 2! Conduct an unsupervised data mining technique appropriate for this dataset. Think about the data variable types in this dataset and the business question, *then choose from association rules analysis or clustering analysis*.**\n",
        "\n",
        "> ***HINT: Revisit the ‘summary slide’ for each of the unsupervised data mining techniques to remember what type(s) of data variables can be input into these models.***\n",
        "\n",
        "---\n",
        "\n",
        "**Choose an appropriate and informative unsupervised data mining model. Think about what we're interested in figuring out with this manager performance dataset (performance evaluation) and how many classes we have for this variable. Change one parameter in your unsupervised analysis, based on this. (Hint: the number of classes determined above will be used to change this parameter, instead of using some of the other methods we discussed in class.)**"
      ],
      "metadata": {
        "id": "MWDz1R0fFi2D"
      }
    },
    {
      "cell_type": "markdown",
      "source": [
        "### **A**\n",
        "\n",
        "**Identify which model was selected and why. The why should focus on the types of data variables in the manager performance dataset. Also discuss any parameters changed in the model and why.**"
      ],
      "metadata": {
        "id": "RhAGXXPuG5Pd"
      }
    },
    {
      "cell_type": "markdown",
      "source": [],
      "metadata": {
        "id": "OLgIrJbUHJ2r"
      }
    },
    {
      "cell_type": "markdown",
      "source": [
        "### **B**\n",
        "\n",
        "**Perform the unsupervised DM technqiue using your selected model and parameters. Make sure to take any necessary preprocessing steps to ensure the data are in the proper form before running the model (hint: step taken to ensure no variables are over-weighted due to having different units).**\n",
        "\n",
        "> **After running your analysis, include any relevant results and interpret what they mean. Revisit the previous exercises for the chosen model to remember what the relevant results and interpretations should focus on.**\n",
        "\n",
        "***Make sure to add dummy codes for high and low performers before running any preprocessing steps. This is done with the `pd.get_dummies()`, which we implemented in other modules. `drop_first` should be set to `true`. It's important to dummy code this categorical variable first, otherwise the next preprocessing step you take will result in an error.***"
      ],
      "metadata": {
        "id": "Sm2hrQxgHtdt"
      }
    },
    {
      "cell_type": "code",
      "source": [
        "# replace with code to import required libraries and packages to perform unsupervised technique -- see that module's cheat sheet or ICE assignment"
      ],
      "metadata": {
        "id": "mRJoE1oRIFhF"
      },
      "execution_count": null,
      "outputs": []
    },
    {
      "cell_type": "code",
      "source": [
        "# replace with code to dummy code categorical variables (rename df)"
      ],
      "metadata": {
        "id": "uWWSIADsfDGQ"
      },
      "execution_count": null,
      "outputs": []
    },
    {
      "cell_type": "code",
      "source": [
        "#replace with code to create an object called features that drops the ID\n",
        "#replace with code to preview features"
      ],
      "metadata": {
        "id": "vzthU-RuhEJs"
      },
      "execution_count": null,
      "outputs": []
    },
    {
      "cell_type": "code",
      "source": [
        "#replace with code to standardize and normalize features"
      ],
      "metadata": {
        "id": "JjweT4zwhUle"
      },
      "execution_count": null,
      "outputs": []
    },
    {
      "cell_type": "code",
      "source": [
        "# replace with code to set model parameters\n",
        "# replace with code to fit model to data"
      ],
      "metadata": {
        "id": "IeEpz5P2gIUg"
      },
      "execution_count": null,
      "outputs": []
    },
    {
      "cell_type": "code",
      "source": [
        "# replace with code to create table of relevant results, save to object called 'centroid_table'"
      ],
      "metadata": {
        "id": "vuTg6xjUgTLs"
      },
      "execution_count": null,
      "outputs": []
    },
    {
      "cell_type": "code",
      "source": [
        " # I've provided this code to indicate how to produce a centroid plot -- since it requires some additional steps from what was done in the ICE\n",
        " ax = centroid_table.plot()\n",
        " ax.set_xticks(range(0,len(centroid_table))) # this sets the number of ticks on the x-axis to your number of clusters\n",
        " ax.set_xticklabels(centroid_table.index.values, rotation=90) # this sets your tick labels on the x-axis to your cluster labels\n",
        " plt.show()"
      ],
      "metadata": {
        "id": "yZTeM3oFkZnh"
      },
      "execution_count": null,
      "outputs": []
    },
    {
      "cell_type": "markdown",
      "source": [
        "**Results interpretation for ALL results generated in 2B**:"
      ],
      "metadata": {
        "id": "mD1IebXFn82s"
      }
    },
    {
      "cell_type": "markdown",
      "source": [
        "### **C**\n",
        "\n",
        "**Create at least one visualization with a caption or description about how this visualization contributes towards a *meaningful* interpretation of the manager performance data. Refer to the data visualization (module 3) ICE or cheat sheet for code on how to produce relevant visualizations, then label it and provide a brief caption.**\n",
        "\n",
        "**You may choose to focus on only one or two variables, it does not need to include all variables. Imagine you're presenting this analysis to your supervisor or another stakeholder. Create a visualization you would use to illustrate a trend you noted in the Part 2 analysis.**"
      ],
      "metadata": {
        "id": "ICpWe-5zogky"
      }
    },
    {
      "cell_type": "code",
      "source": [
        "# replace with code to produce viz -- see Module 3 cheat sheet or ICE for code on producing visualizations"
      ],
      "metadata": {
        "id": "HlsZH3SNphUv"
      },
      "execution_count": null,
      "outputs": []
    },
    {
      "cell_type": "markdown",
      "source": [
        "Caption:"
      ],
      "metadata": {
        "id": "gKr067o_xLj5"
      }
    },
    {
      "cell_type": "markdown",
      "source": [
        "# **Part 3: Superviesd DM Technque 1 (27 pts)**\n",
        "\n",
        "**Using the `manager_performance_clean.csv` file from Canvas, develop a supervised data mining model in Python. You will compare this chosen supervised DM model to a different supervised DM model later on in the assignment (Part 5). Think about the dependent variable and its data type in this dataset, then for Part 3 of the final project *choose between linear regression or decision tree analysis.* Referring to the summary pages for each of these methods from the lecture slides would be useful here.**\n",
        "\n",
        "## A\n",
        "\n",
        "**First, identify which model (between linear regression and decision trees) you have chosen and *why*. Focus on the data variable types and the dependent variable in the manager performance dataset. HINT: Think about different types of supervised models we've learned about - regression vs classification.**\n"
      ],
      "metadata": {
        "id": "-zyqZKt8HYdX"
      }
    },
    {
      "cell_type": "markdown",
      "source": [],
      "metadata": {
        "id": "w2YziAmOMhoN"
      }
    },
    {
      "cell_type": "markdown",
      "source": [
        "## B\n",
        "\n",
        "**Train and evaluate your model using 10-fold cross-validation and provide any relevant plots and results. Interpret these results based on the positive class being `Performance_Evaluation_low`. DO NOT EVALUATE YOUR MODEL ON THE TEST SET UNTIL PART 5.**\n",
        "\n",
        "> **Use a 80-20 training and test-set split, then perform 10-fold cross validation on the training set. For this model, set `min_samples_leaf` to 4, `max_depth` to 6, and `criterion` to \"log_loss\". Do not set the min_impurity_decrease parameter (don't include this code). Evaluate the cross-validated accuracy, precision, recall, and f-measure; then generate a confusion matrix to compare the actual classes of the DV from the training set (e.g., y_train), against the predicted classes (y_pred).**\n",
        "\n",
        "> **When performing the `train_test_split`, set your `test_size = 0.2`, `random_state` to 100. Show the tree diagram/plot before running cross-validation.**\n",
        "\n",
        ">**When performing cross-validation, set your `random_state` to 1. Failing to complete this step may result in your group members having different training and test sets and different cross-validation results!!!**\n",
        "\n",
        "**Interpret the results; do not just restate the results. Tell me what these results *mean*. Revisit the previous exercises and cheat sheets for the chosen model and model performance module to remember what the relevant steps are and what the interpretation should focus on.**"
      ],
      "metadata": {
        "id": "mbx5F5LaNA9H"
      }
    },
    {
      "cell_type": "code",
      "source": [
        "# replace with code to import required libraries and packges to perform supervised technique -- refer to relevant module ICE and cheat sheet"
      ],
      "metadata": {
        "id": "FRzdu6N3Yy2K"
      },
      "execution_count": null,
      "outputs": []
    },
    {
      "cell_type": "code",
      "source": [
        "# replace with code to create x and y objects"
      ],
      "metadata": {
        "id": "G5m-oDq_YAxu"
      },
      "execution_count": null,
      "outputs": []
    },
    {
      "cell_type": "code",
      "source": [
        "# replace with code to perform training-test split"
      ],
      "metadata": {
        "id": "dKrfCMMxYhEb"
      },
      "execution_count": null,
      "outputs": []
    },
    {
      "cell_type": "code",
      "source": [
        "# replace with code to specify model and set parameters"
      ],
      "metadata": {
        "id": "7YBSeJqmZX9y"
      },
      "execution_count": null,
      "outputs": []
    },
    {
      "cell_type": "code",
      "source": [
        "# replace with code to produce tree plot on training data"
      ],
      "metadata": {
        "id": "P1ITgWhwcmEV"
      },
      "execution_count": null,
      "outputs": []
    },
    {
      "cell_type": "code",
      "source": [
        "# replace with code to specify cross-validatin parameters -- see model performance cheat sheet for these next few steps"
      ],
      "metadata": {
        "id": "nprW0L9cZRsr"
      },
      "execution_count": null,
      "outputs": []
    },
    {
      "cell_type": "code",
      "source": [
        "# replace with code to make cross-validated predictions"
      ],
      "metadata": {
        "id": "fol-fzmGaLR2"
      },
      "execution_count": null,
      "outputs": []
    },
    {
      "cell_type": "code",
      "source": [
        "# replace with code to print the classification report"
      ],
      "metadata": {
        "id": "14cd7mB-5IQA"
      },
      "execution_count": null,
      "outputs": []
    },
    {
      "cell_type": "code",
      "source": [
        "# replace with code to produce value counts of the DV"
      ],
      "metadata": {
        "id": "oPozuJNt5NrG"
      },
      "execution_count": null,
      "outputs": []
    },
    {
      "cell_type": "code",
      "source": [
        "# replace with code to calculate the baseline accuracy"
      ],
      "metadata": {
        "id": "8kNzZYiP5RgT"
      },
      "execution_count": null,
      "outputs": []
    },
    {
      "cell_type": "code",
      "source": [
        "# replace with code to produce confusion matrix"
      ],
      "metadata": {
        "id": "_o2AuJMvbED_"
      },
      "execution_count": null,
      "outputs": []
    },
    {
      "cell_type": "markdown",
      "source": [
        "**Results interpretation for ALL results generated in 3B:**"
      ],
      "metadata": {
        "id": "-D7XPjJjdMas"
      }
    },
    {
      "cell_type": "markdown",
      "source": [],
      "metadata": {
        "id": "C74BIIUzG33n"
      }
    },
    {
      "cell_type": "markdown",
      "source": [
        "## **C**\n",
        "\n",
        "**Create at least one visualization with a caption or description about how this visualization contributes towards a *meaningful* interpretation of the manager performance data. Draw from the visualization portion of this course, and create your own relevant visualization, label it, and include a brief caption.**\n",
        "\n",
        "**You may choose to focus on only one or two variables (i.e., it does not need to include all IVs). Imagine you're presenting this analysis to your supervisor or another stakeholder. Create a visualization you would use to illustrate a trend you noted in the Part 3 analysis.**"
      ],
      "metadata": {
        "id": "d4YPBNJIij5e"
      }
    },
    {
      "cell_type": "code",
      "source": [
        "# replace with code for producing viz -- see Module 3 ICE and cheat sheet for code on producing visualizations"
      ],
      "metadata": {
        "id": "BT9nXtrQjtHW"
      },
      "execution_count": null,
      "outputs": []
    },
    {
      "cell_type": "markdown",
      "source": [
        "Caption:"
      ],
      "metadata": {
        "id": "eXoj3beTj-k1"
      }
    },
    {
      "cell_type": "markdown",
      "source": [
        "# **Part 4: Supervised DM Technique 2**\n",
        "\n",
        "**Using the `manager_performance_clean.csv`, conduct another type of supervised data mining technique we covered in class. It cannot be decision tree or linear regression (from Part 3). But it should be a data mining technique that can be used on this dataset, so again think about the DV and its data variable type. Referring to the data mining flow chart from the supervised DM lecture might be helpful, or review the summary slides for the supervised DM technqiues covered in this class during lectures.**\n",
        "\n",
        "## A\n",
        "**First, identify which model you have chosen and why. Focus on the data variable types and the dependent variable in the manager performance dataset. HINT: Think about different types of supervised models we've learned about - regression vs classification, and don't reuse the model type used in Part 3.**"
      ],
      "metadata": {
        "id": "GKea83-zkPDv"
      }
    },
    {
      "cell_type": "markdown",
      "source": [],
      "metadata": {
        "id": "3BUojaU6a9BL"
      }
    },
    {
      "cell_type": "markdown",
      "source": [
        "## B\n",
        "\n",
        "**Train and evaluate your model using 10-fold cross-validation and provide any relevant plots and results. Interpret these results based on the positive class being `Performance_Evaluation_low`. DO NOT EVALUATE YOUR MODEL ON THE TEST SET UNTIL PART 5.**\n",
        "\n",
        "> **Use a 80-20 training and test-set split, then perform 10-fold cross validation on the training set. Evaluate the cross-validated accuracy, precision, recall, and f-measure; then generate a confusion matrix to compare the actual classes of the DV from the training set (e.g., y_train), against the predicted classes (y_pred).**\n",
        "\n",
        "> **Also note that we are focused on prediction for this assignment, not interpretation. Generation of a model summary table is NOT required.**\n",
        "\n",
        "> **When performing the `train_test_split`, set your `test_size = 0.2`, `random_state` to 100.**\n",
        "\n",
        "> **When performing cross-validation, set your random_state to 1. Failing to complete this step may results in your group members having different training and test sets and different cross-validation results!!!**\n",
        "\n",
        "**Do not just restate the results. Tell me what these results *mean*. Revisit the previous exercises and cheat sheets for the chosen model and model performance module to remember what the relevant steps are and what the interpretation should focus on.**"
      ],
      "metadata": {
        "id": "rIKSKO_UbPKe"
      }
    },
    {
      "cell_type": "code",
      "source": [
        "# replace with code to import required libraries and packges to perform supervised technique -- refer to relevant module ICE and cheat sheet\n",
        "# If you import the data set here, it's recommended to call it something different for Part 4\n",
        "# replace with code to view the headers"
      ],
      "metadata": {
        "id": "-uNm7XCcb64v"
      },
      "execution_count": null,
      "outputs": []
    },
    {
      "cell_type": "code",
      "source": [
        "# replace with code to create x and y objects -- perform any necessary preprocessing"
      ],
      "metadata": {
        "id": "9ALdwlr8cV8h"
      },
      "execution_count": null,
      "outputs": []
    },
    {
      "cell_type": "code",
      "source": [
        "# replace with code to perform training-test split"
      ],
      "metadata": {
        "id": "QL54jMblcj_G"
      },
      "execution_count": null,
      "outputs": []
    },
    {
      "cell_type": "code",
      "source": [
        "# replace with code to specify cross-validatin parameters -- see model performance cheat sheet for these next few steps\n",
        "# replace with code to specify model"
      ],
      "metadata": {
        "id": "I2eALQdde4J8"
      },
      "execution_count": null,
      "outputs": []
    },
    {
      "cell_type": "code",
      "source": [
        "# replace with code to create scoring dictionary"
      ],
      "metadata": {
        "id": "klosLCvrcw5T"
      },
      "execution_count": null,
      "outputs": []
    },
    {
      "cell_type": "code",
      "source": [
        "# replace with code to run cross-validated model and produce evaluation metric scores"
      ],
      "metadata": {
        "id": "BAU9OA5jcz-R"
      },
      "execution_count": null,
      "outputs": []
    },
    {
      "cell_type": "code",
      "source": [
        "# replace with code to show scores output"
      ],
      "metadata": {
        "id": "2sl8QMDcc48-"
      },
      "execution_count": null,
      "outputs": []
    },
    {
      "cell_type": "code",
      "source": [
        "# replace with code to calculate the baseline accuracy"
      ],
      "metadata": {
        "id": "j0QQUYbzdYNj"
      },
      "execution_count": null,
      "outputs": []
    },
    {
      "cell_type": "code",
      "source": [
        "# replace with code to produce confusion matrix"
      ],
      "metadata": {
        "id": "An_wkGB1c_zH"
      },
      "execution_count": null,
      "outputs": []
    },
    {
      "cell_type": "markdown",
      "source": [
        "**Results Interpretation for ALL of the results in 4B:**"
      ],
      "metadata": {
        "id": "FS64nWSddvY4"
      }
    },
    {
      "cell_type": "markdown",
      "source": [],
      "metadata": {
        "id": "eVgseJ4RHLlU"
      }
    },
    {
      "cell_type": "markdown",
      "source": [
        "## **C**\n",
        "\n",
        "**Create at least one visualization with a caption or description about how this visualization contributes towards a *meaningful* interpretation of the manager performance data. Draw from the visualization portion of this course, and create your own relevant visualization, label it, and include a brief caption.**\n",
        "\n",
        "**You may choose to focus on only one or two variables (i.e., it does not need to include all IVs). Imagine you're presenting this analysis to your supervisor or another stakeholder. Create a visualization you would use to illustrate a trend you noted in the Part 4 analysis.**"
      ],
      "metadata": {
        "id": "BjrRP7zYgqh6"
      }
    },
    {
      "cell_type": "code",
      "source": [
        "# replace with code to produce plot -- see Module 3 ICE or cheat sheet for how to produce visualizations"
      ],
      "metadata": {
        "id": "RFyHnxpBg1_y"
      },
      "execution_count": null,
      "outputs": []
    },
    {
      "cell_type": "markdown",
      "source": [
        "Caption:"
      ],
      "metadata": {
        "id": "ifHt4f-1iFmM"
      }
    },
    {
      "cell_type": "markdown",
      "source": [
        "# **Part 5: Evaluation of Models & Business Recommendations (50 points)**\n",
        "\n",
        "**Compare the results of the two supervised DM technqiues by presenting their scores in a dataframe in the form of a table. The index should be set to indicate the model (e.g., model_1, model_2), and the columns should indicate the evaluation metric (e.g., precision, recall, etc.). You may choose to include all evaluation metrics, or just the ones you deem relevant. Make sure to at least include those that are most critical in determining the best-performing model for this given dataset.**\n",
        "\n",
        "> **Save each relevant metric score to an object called model_ for each model, e.g. `model_1 = (0.1, 0.3, 0.4, 0.5)`**\n",
        "\n",
        "**Then combine each model scores into one `models` object, as was completed in the model performance ICE, to produce a comparison table.**"
      ],
      "metadata": {
        "id": "bIjQZQ6liYjJ"
      }
    },
    {
      "cell_type": "code",
      "source": [
        "# replace with code to display comparison of models on evaluation metrics (e.g., precision, recall, f-1, and accuracy)"
      ],
      "metadata": {
        "id": "v_TfLS00jYWw"
      },
      "execution_count": null,
      "outputs": []
    },
    {
      "cell_type": "markdown",
      "source": [
        "## **B**\n",
        "\n",
        "**Which model performed better and why? Which performance metrics (list their values) were used to determine this and why?**"
      ],
      "metadata": {
        "id": "U0OpTztXlAtw"
      }
    },
    {
      "cell_type": "markdown",
      "source": [],
      "metadata": {
        "id": "VApu2WlmlKIJ"
      }
    },
    {
      "cell_type": "markdown",
      "source": [
        "## C\n",
        "\n",
        "**Fit whichever model you chose as the best-performing model to the test-set, then run a classification report. Do the evaluation metrics drop considerably or not? What does this potentially indicate?**"
      ],
      "metadata": {
        "id": "8uL9EIjsl7IC"
      }
    },
    {
      "cell_type": "code",
      "source": [
        "# replace with code to specify model\n",
        "# replace with code to fit model to x_train and y_train\n",
        "\n",
        "# replace with code to predict onto x_test\n",
        "# replace with code to print the classification report"
      ],
      "metadata": {
        "id": "jQqqW_FemJKC"
      },
      "execution_count": null,
      "outputs": []
    },
    {
      "cell_type": "markdown",
      "source": [],
      "metadata": {
        "id": "kFShzYE2n6Dr"
      }
    },
    {
      "cell_type": "markdown",
      "source": [
        "## D\n",
        "\n",
        "**What business recommendations can be made after this analysis? Please write an Executive Summary (1 paragraph) including the following:**\n",
        "\n",
        "\n",
        "\n",
        "1.   **Note the business problem**\n",
        "2.   **Briefly describe the steps taken to resolve the business problem**\n",
        "3.   **Indicate your level of confidence that your best-performing model will generalize to new data on managers performance**\n",
        "4.   **Briefly describe your business recommendations; what might be some important characteristics (based on our IVs) for consider when hiring new managers?**\n",
        "\n"
      ],
      "metadata": {
        "id": "TSRJvUqpoHXf"
      }
    },
    {
      "cell_type": "markdown",
      "source": [],
      "metadata": {
        "id": "4JJbl8j_ok7p"
      }
    }
  ]
}