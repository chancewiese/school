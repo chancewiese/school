{
  "nbformat": 4,
  "nbformat_minor": 0,
  "metadata": {
    "colab": {
      "provenance": []
    },
    "kernelspec": {
      "name": "python3",
      "display_name": "Python 3"
    },
    "language_info": {
      "name": "python"
    }
  },
  "cells": [
    {
      "cell_type": "markdown",
      "source": [
        "# **APA - Decision Trees**\n",
        "# DATA 3300"
      ],
      "metadata": {
        "id": "tYu76npmPg1L"
      }
    },
    {
      "cell_type": "markdown",
      "source": [
        "## Name(s):\n",
        "\n",
        "## Assignment"
      ],
      "metadata": {
        "id": "eFHbnaK3Plcl"
      }
    },
    {
      "cell_type": "markdown",
      "source": [
        "# Q1\n",
        "\n",
        "**Import the `funded.xlsx` dataset and the required libraries and packages, and view the headers of the df.**\n"
      ],
      "metadata": {
        "id": "WKzFzTQfPpVx"
      }
    },
    {
      "cell_type": "code",
      "execution_count": null,
      "metadata": {
        "id": "Dh84syvWPUnF"
      },
      "outputs": [],
      "source": [
        "import numpy as np\n",
        "import pandas as pd\n",
        "import matplotlib.pyplot as plt\n",
        "\n",
        "from sklearn.model_selection import train_test_split\n",
        "from sklearn.tree import DecisionTreeClassifier\n",
        "from sklearn.metrics import classification_report\n",
        "from sklearn import tree #libraries and packages for training model and evaluating performance on test set\n",
        "\n",
        "import seaborn as sns\n",
        "import graphviz #libraries for producing visualizations"
      ]
    },
    {
      "cell_type": "code",
      "source": [
        "# replace with code to import funded.xlsx\n",
        "# replace with code to produce df heading"
      ],
      "metadata": {
        "id": "_lEYyK9gQM1r"
      },
      "execution_count": null,
      "outputs": []
    },
    {
      "cell_type": "markdown",
      "source": [
        "**Use the `value_counts` function to view the class distribution for `Outcome`.**"
      ],
      "metadata": {
        "id": "k5orSWgkXjgr"
      }
    },
    {
      "cell_type": "code",
      "source": [
        "# replace with code to view class distribution of 'outcome' (hint: value counts)"
      ],
      "metadata": {
        "id": "5qdkKEK6QXt1"
      },
      "execution_count": null,
      "outputs": []
    },
    {
      "cell_type": "markdown",
      "source": [
        "**Calculate the accuracy of an a priori (naive) prediction. Show your formula.\n",
        "\n",
        "What would you predict the `Outcome` to be for a new observation and why?**"
      ],
      "metadata": {
        "id": "fqhdYSUoX4_4"
      }
    },
    {
      "cell_type": "code",
      "source": [
        "# replace with code to compute apriori prediction accuracy"
      ],
      "metadata": {
        "id": "qnxDiBFsQalq"
      },
      "execution_count": null,
      "outputs": []
    },
    {
      "cell_type": "markdown",
      "source": [],
      "metadata": {
        "id": "cKb-Yop2OB8q"
      }
    },
    {
      "cell_type": "markdown",
      "source": [
        "# Q2\n",
        "\n",
        "**Assign your IVs to an x object and your DV to a y object, then split your data into a training and test set for x and y, using a 80-20 split. Remember to perform any preprocessing necessary on your IVs (*hint: any categorical variables?)***\n",
        "\n",
        "\n",
        "**Then train a `DecisionTreeClassifier` model from the training set, using \"gini\" as the criterion, with a max depth of 10, a minimum leaf size of 8, and `min_impurity_decrease = 0.002`.**"
      ],
      "metadata": {
        "id": "sbGMN8gYQpur"
      }
    },
    {
      "cell_type": "code",
      "source": [
        "# replace with code to select IVs to include in analysis, assign to object called 'x'\n",
        "# replace with code to dummy code categorical variables\n",
        "\n",
        "# replace with code to assign your DV to an object called 'y'\n",
        "\n",
        "# replace with code to create 4 dataframe objects x_train, x_test, y_train, y_test. Set test_size to 0.2, set random_state to 100"
      ],
      "metadata": {
        "id": "m5pmSrvtRBvc"
      },
      "execution_count": null,
      "outputs": []
    },
    {
      "cell_type": "code",
      "source": [
        "# replace with code set parameters based on instructions for DecisionTreeClassifier\n",
        "# replace with code to fit model to x_train and y_train"
      ],
      "metadata": {
        "id": "3zf58gmhRe_Y"
      },
      "execution_count": null,
      "outputs": []
    },
    {
      "cell_type": "markdown",
      "source": [
        "## A\n",
        "\n",
        "**Plot your decision tree using the `export_graphviz` function from the `tree` library.**"
      ],
      "metadata": {
        "id": "x-1gIkagS3G6"
      }
    },
    {
      "cell_type": "code",
      "source": [
        "# replace with code to generate tree plot of model"
      ],
      "metadata": {
        "id": "5_MJDzhhS_A5"
      },
      "execution_count": null,
      "outputs": []
    },
    {
      "cell_type": "markdown",
      "source": [
        "## B\n",
        "\n",
        "**Using your tree plot, what would be the predicted outcome for a defense company who has no patents and 4 elites?**\n",
        "\n",
        "**On how many observations would this prediction be based (i.e., how many observations are in the terminal node where the prediction was made)?**"
      ],
      "metadata": {
        "id": "HoENYZ-zTc_X"
      }
    },
    {
      "cell_type": "markdown",
      "source": [],
      "metadata": {
        "id": "u75gIAKEU3Qr"
      }
    },
    {
      "cell_type": "markdown",
      "source": [
        "# Q3\n",
        "\n",
        "**Apply your model to the test set to evaluate its accuracy. Create a confusion matrix and then respond to the prompts below.**"
      ],
      "metadata": {
        "id": "Oh_8NQ2iVIS9"
      }
    },
    {
      "cell_type": "code",
      "source": [
        "# replace with code to predict onto test set using model"
      ],
      "metadata": {
        "id": "ltouNpdNVXN6"
      },
      "execution_count": null,
      "outputs": []
    },
    {
      "cell_type": "code",
      "source": [
        "# replace with code to create new dataframe from x_test, called df_pred\n",
        "\n",
        "# replace with code to add predictions as a 'predicted_class' column to new dataframe\n",
        "# replace with code to add y_test as a 'actual_class' column to new dataframe"
      ],
      "metadata": {
        "id": "elZTSWEWViPe"
      },
      "execution_count": null,
      "outputs": []
    },
    {
      "cell_type": "code",
      "source": [
        "# replace with code to fit confusion matrix to 'predicted_class' and 'actual_class'\n",
        "# replace with code to visualize confusion matrix with a heatmap"
      ],
      "metadata": {
        "id": "a4-hAg1XVmFl"
      },
      "execution_count": null,
      "outputs": []
    },
    {
      "cell_type": "markdown",
      "source": [
        "## A\n",
        "\n",
        "**For each of the four outcomes, provide the number of times the model predicted it, the number of times it predicted accurately, and the % accuracy (ratio of the # of accurate predictions / # of predictions).**"
      ],
      "metadata": {
        "id": "3AKVcm4-XaNy"
      }
    },
    {
      "cell_type": "markdown",
      "source": [
        "* Prediction: **Bankrupt**\n",
        "  * Times Predicted:\n",
        "  * Predicted Accurately:\n",
        "  * % Accuracy:\n",
        "\n",
        "* Prediction: **Soldoff-Low**\n",
        "  * Times Predicted:\n",
        "  * Predicted Accurately:\n",
        "  * % Accuracy:\n",
        "\n",
        "* Prediction: **Soldoff-High**\n",
        "  * Times Predicted:\n",
        "  * Predicted Accurately:\n",
        "  * % Accuracy:\n",
        "\n",
        "* Prediction: **IPO**\n",
        "  * Times Predicted:\n",
        "  * Predicted Accurately:\n",
        "  * % Accuracy:\n"
      ],
      "metadata": {
        "id": "ltEStm3KYDWD"
      }
    },
    {
      "cell_type": "markdown",
      "source": [
        "## B\n",
        "\n",
        "**Considering *all* predictions, in what percentage of observations did the model make an accurate prediction? Show your formula.**\n"
      ],
      "metadata": {
        "id": "VRlGLP2caEwU"
      }
    },
    {
      "cell_type": "code",
      "source": [
        "# replace with code to calculate overall accuracy from values in confusion matrix"
      ],
      "metadata": {
        "id": "iIQ62qSCaSKB"
      },
      "execution_count": null,
      "outputs": []
    },
    {
      "cell_type": "markdown",
      "source": [
        "## C\n",
        "\n",
        "**Given this accuracy percentage, does it make more sense to use the *a priori* prediction approach or the decision tree model that was generated? Explain your answer.**\n"
      ],
      "metadata": {
        "id": "2SlFVHkdbXp4"
      }
    },
    {
      "cell_type": "markdown",
      "source": [],
      "metadata": {
        "id": "zEf85aaKbeQt"
      }
    },
    {
      "cell_type": "markdown",
      "source": [
        "## Q4\n",
        "\n",
        "**Next, compare this model's performance against three other possible decision tree models, each of which use different parameters. In a text cell placed before each new model, outline the `criterion` used (e.g., 'gini', 'entropy', or 'log_loss') , the `max_depth`, the `min_samples_leaf`, and the `min_impurity_decrease`.**\n",
        "\n",
        "**Remember that the first model used the following paramters:**\n",
        "\n",
        "* `criterion` = gini\n",
        "* `max_depth` = 10\n",
        "* `min_samples_leaf` = 8\n",
        "* `min_impurity_decrease` = 0.002\n",
        "\n",
        "**So change *at least* one of these parameters for each of your new models.**\n",
        "\n",
        "**For each model generate a `classification_report` to show its overall accuracy on the test_set.**\n"
      ],
      "metadata": {
        "id": "KoMgeVFtb8gR"
      }
    },
    {
      "cell_type": "markdown",
      "source": [
        "### **Model 1:**\n",
        "\n",
        "* `criterion` = gini\n",
        "* `max_depth` = 10\n",
        "* `min_samples_leaf` = 8\n",
        "* `min_impurity_decrease` = 0.002"
      ],
      "metadata": {
        "id": "1JQ-4bsAdVVt"
      }
    },
    {
      "cell_type": "code",
      "source": [
        "print(classification_report(y_test, predictions))"
      ],
      "metadata": {
        "id": "_Bl_11r1dcXE"
      },
      "execution_count": null,
      "outputs": []
    },
    {
      "cell_type": "markdown",
      "source": [
        "### **Model 2:**\n",
        "\n",
        "* `criterion` =\n",
        "* `max_depth` =\n",
        "* `min_samples_leaf` =\n",
        "* `min_impurity_decrease` ="
      ],
      "metadata": {
        "id": "tftOkzA6djuW"
      }
    },
    {
      "cell_type": "code",
      "source": [
        "# replace with code to specify DecisionTreeClassifier parameters\n",
        "# replace with code to fit model2 to training data"
      ],
      "metadata": {
        "id": "X0T4GJdRdq3N"
      },
      "execution_count": null,
      "outputs": []
    },
    {
      "cell_type": "code",
      "source": [
        "# replace with code to drop 'predicted_class' and 'actual_class' columns from x_test\n",
        "# replace with code to fit model2 to x_test"
      ],
      "metadata": {
        "id": "TObL_o6LdrVw"
      },
      "execution_count": null,
      "outputs": []
    },
    {
      "cell_type": "code",
      "source": [
        "# replace with code to print classification report"
      ],
      "metadata": {
        "id": "VfkaGIP9dsQi"
      },
      "execution_count": null,
      "outputs": []
    },
    {
      "cell_type": "markdown",
      "source": [
        "### **Model 3:**\n",
        "\n",
        "* `criterion` =\n",
        "* `max_depth` =\n",
        "* `min_samples_leaf` =\n",
        "* `min_impurity_decrease` ="
      ],
      "metadata": {
        "id": "2yM0Fa89dsr9"
      }
    },
    {
      "cell_type": "code",
      "source": [
        "# replace with code to specify DecisionTreeClassifier parameters\n",
        "# replace with code to fit model to training data"
      ],
      "metadata": {
        "id": "tgu87Wx_d0lZ"
      },
      "execution_count": null,
      "outputs": []
    },
    {
      "cell_type": "code",
      "source": [
        "# replace with code to predict model3 onto x_test"
      ],
      "metadata": {
        "id": "Xn9cFhhFd1FG"
      },
      "execution_count": null,
      "outputs": []
    },
    {
      "cell_type": "code",
      "source": [
        "# replace with code to print classification report"
      ],
      "metadata": {
        "id": "BAgRXt-Jd08F"
      },
      "execution_count": null,
      "outputs": []
    },
    {
      "cell_type": "markdown",
      "source": [
        "### **Model 4:**\n",
        "\n",
        "* `criterion` =\n",
        "* `max_depth` =\n",
        "* `min_samples_leaf` =\n",
        "* `min_impurity_decrease` ="
      ],
      "metadata": {
        "id": "UMFVCnYad1e0"
      }
    },
    {
      "cell_type": "code",
      "source": [
        "# replace with code to specify DecisionTreeClassifier parameters\n",
        "# replace with code to fit model to training data"
      ],
      "metadata": {
        "id": "qIubs97ed3bh"
      },
      "execution_count": null,
      "outputs": []
    },
    {
      "cell_type": "code",
      "source": [
        "# replace with code to predict model4 onto x_test"
      ],
      "metadata": {
        "id": "W-CKoPIhd3UW"
      },
      "execution_count": null,
      "outputs": []
    },
    {
      "cell_type": "code",
      "source": [
        "# replace with code to print classification report"
      ],
      "metadata": {
        "id": "OtMF2OfFd3Lm"
      },
      "execution_count": null,
      "outputs": []
    },
    {
      "cell_type": "markdown",
      "source": [
        "## A\n",
        "\n",
        "**What parameters led to the best-performing (highest overall accuracy) model? What was the highest accuracy achieved?**"
      ],
      "metadata": {
        "id": "Xp9N_pe3eX0o"
      }
    },
    {
      "cell_type": "markdown",
      "source": [],
      "metadata": {
        "id": "eayDeM8pegVK"
      }
    },
    {
      "cell_type": "markdown",
      "source": [
        "## B\n",
        "\n",
        "**Plot your best performing decision tree using the `export_graphviz` function from the `tree` library.**"
      ],
      "metadata": {
        "id": "dE5B_sRheuXD"
      }
    },
    {
      "cell_type": "code",
      "source": [
        "# replace with code to plot tree of best performing model"
      ],
      "metadata": {
        "id": "JTyoOrSOgDPm"
      },
      "execution_count": null,
      "outputs": []
    },
    {
      "cell_type": "markdown",
      "source": [
        "# Q5\n",
        "\n",
        "**Arcturus has $11.5 million to invest and is considering from among 23 applicant firms. Create a Decision Trees model using your most accurate model (i.e., whichever model from Model 1-4 has the highest accuracy percentage), then apply the model as necessary to make predictions regarding the applicant firms.**\n",
        "\n",
        "**Data regarding these applicant firms can be found in the `fund-applicants.csv` data file. Note that there is no “outcome” column (the outcome hasn’t happened yet!).**\n",
        "\n",
        "**However, there is an `amount` column, which indicates the requested funding amount. Arcturus wants to make as much money as possible by investing its \\$11.5 million, which may require this amount be spread across multiple companies. However, for any specific applicant company, Arcturus must either invest the full requested amount or not at all (e.g., if a company has requested $2,500,000, then Arcturus must either invest \\$2,500,000 or make no investment in the company).**\n",
        "\n",
        "**Begin by importing the `fund-applicant.csv` file, then apply your best model to this new data (after taking any required preprocessing steps).**\n"
      ],
      "metadata": {
        "id": "9-5BKgd5e9sR"
      }
    },
    {
      "cell_type": "code",
      "source": [
        "# replace with code to import fund-applicants.csv dataset, name this df something different (df_2)\n",
        "# replace with code to produce heading"
      ],
      "metadata": {
        "id": "6wdDlWEBg59s"
      },
      "execution_count": null,
      "outputs": []
    },
    {
      "cell_type": "code",
      "source": [
        "# replace with code to select IVs to include in analysis, assign to object called 'x'\n",
        "# replace with code to dummy code categorical variables"
      ],
      "metadata": {
        "id": "C5iydLj4hDik"
      },
      "execution_count": null,
      "outputs": []
    },
    {
      "cell_type": "markdown",
      "source": [
        "## A\n",
        "\n",
        "**In addition to producing the predicted outcomes, also compute the predicted probabilities of the outcome using the `model.predict_proba()` function.**\n",
        "\n",
        "**Add both the predicted outcome and the predicted probability as columns to the your dataframe.**"
      ],
      "metadata": {
        "id": "ORzTzbO9l3og"
      }
    },
    {
      "cell_type": "code",
      "source": [
        "# replace with code to fit final model to x, assign to object called 'predictions'\n",
        "# replace with code to produce predicted probabilities of outcome classes, assign to object called 'proba'"
      ],
      "metadata": {
        "id": "DCcLF2ZqhQrE"
      },
      "execution_count": null,
      "outputs": []
    },
    {
      "cell_type": "code",
      "source": [
        "# replace with code to assign predictions to a new column in new df (dataset you just imported) called 'Predicted_Class'\n",
        "# replace with code to assign proba to a new column in new df (dataset you just imported) called 'Predicted_Prob'"
      ],
      "metadata": {
        "id": "bbcFG76Ph8C7"
      },
      "execution_count": null,
      "outputs": []
    },
    {
      "cell_type": "markdown",
      "source": [
        "## B\n",
        "\n",
        "**Describe what the predicted probabilities colum indicates (i.e., what do those values mean?). Are these probabilities based on the training or the test set?**"
      ],
      "metadata": {
        "id": "cWiAEabIlxF2"
      }
    },
    {
      "cell_type": "markdown",
      "source": [],
      "metadata": {
        "id": "iCV2WcoYmpmE"
      }
    },
    {
      "cell_type": "markdown",
      "source": [
        "## C\n",
        "\n",
        "**Using the info provided from the predicted probabilities and predicted outcomes, indicate the companies' project IDs that Arcturus should invest in if, for the sake of diversification, they wanted to invest their \\$11.5 million in one project in each of the four industries: media, tech, healthcare, and defense.**\n",
        "\n",
        "**Give the IDs of the projects and explain why you’d recommend each project.**"
      ],
      "metadata": {
        "id": "_ycg2f3Tm0pt"
      }
    },
    {
      "cell_type": "markdown",
      "source": [
        "* **Healthcare:**\n",
        "\n",
        "* **Defense:**\n",
        "\n",
        "* **Media:**\n",
        "\n",
        "* **Tech:**"
      ],
      "metadata": {
        "id": "4ZowaFZvnJHF"
      }
    }
  ]
}