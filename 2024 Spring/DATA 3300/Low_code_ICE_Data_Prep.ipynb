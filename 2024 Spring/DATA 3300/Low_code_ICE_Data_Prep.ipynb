{
  "cells": [
    {
      "cell_type": "markdown",
      "id": "1e9253f3",
      "metadata": {
        "id": "1e9253f3"
      },
      "source": [
        "# **Module 2 - ICE**\n",
        "## Name:\n",
        "## *DATA 3300*"
      ]
    },
    {
      "cell_type": "markdown",
      "id": "9222547e",
      "metadata": {
        "id": "9222547e"
      },
      "source": [
        "# Exercise\n",
        "\n",
        "**Import the *masonrybldg.xls* dataset into Notebooks, then complete the data cleaning activities noted below. Once complete, you’ll have a single Excel document that includes the scrubbed data. We will be performing all data cleaning activities using the pandas and numpy libraries!**"
      ]
    },
    {
      "cell_type": "code",
      "execution_count": null,
      "id": "979d31d2",
      "metadata": {
        "id": "979d31d2"
      },
      "outputs": [],
      "source": [
        "# import required libraries - pandas and numpy"
      ]
    },
    {
      "cell_type": "code",
      "execution_count": null,
      "id": "be409972",
      "metadata": {
        "id": "be409972"
      },
      "outputs": [],
      "source": [
        "mason = pd.read_('') # add in file path and specify read_ type"
      ]
    },
    {
      "cell_type": "code",
      "execution_count": null,
      "id": "f08a7707",
      "metadata": {
        "id": "f08a7707"
      },
      "outputs": [],
      "source": [
        "# produce a dataframe heading"
      ]
    },
    {
      "cell_type": "markdown",
      "source": [
        "1. **Remove any leading and trailing spaces from all text columns. *Note: The trim feature does not remove additional spaces between two words.***"
      ],
      "metadata": {
        "id": "RuumZg75ORxk"
      },
      "id": "RuumZg75ORxk"
    },
    {
      "cell_type": "code",
      "execution_count": null,
      "id": "5368dbef",
      "metadata": {
        "id": "5368dbef"
      },
      "outputs": [],
      "source": [
        "mason['Retrofit Level'] = # remove trailing and leading whitespaces\n",
        "mason['Neighborhood'] =\n",
        "mason['Confirmation Source'] ="
      ]
    },
    {
      "cell_type": "markdown",
      "source": [
        "2. **Eliminate any records that have no Address or Retrofit Level data.**"
      ],
      "metadata": {
        "id": "KklMSqOcOZt2"
      },
      "id": "KklMSqOcOZt2"
    },
    {
      "cell_type": "code",
      "execution_count": null,
      "id": "6a12b168",
      "metadata": {
        "id": "6a12b168"
      },
      "outputs": [],
      "source": [
        "mason_full = # retain only observations that are complete for address and retrofit level\n",
        "mason_full =\n",
        "# print out mason_full"
      ]
    },
    {
      "cell_type": "markdown",
      "source": [
        "3. **Ensure that the labels for Neighborhood and Retrofit Level are consistent (i.e., there’s shouldn’t be different spellings, abbreviations, or just multiple ways of saying the same thing).**"
      ],
      "metadata": {
        "id": "TixhgonOOeMc"
      },
      "id": "TixhgonOOeMc"
    },
    {
      "cell_type": "code",
      "execution_count": null,
      "id": "45d4baa2",
      "metadata": {
        "id": "45d4baa2"
      },
      "outputs": [],
      "source": [
        "mason_full['Neighborhood'].             # examine levels of neighborhood via value counts"
      ]
    },
    {
      "cell_type": "code",
      "execution_count": null,
      "id": "55d5534c",
      "metadata": {
        "id": "55d5534c"
      },
      "outputs": [],
      "source": [
        "mason_full = mason_full.replace(['', '', ''], ['', '', ''])   # replace redundant neighborhood values"
      ]
    },
    {
      "cell_type": "code",
      "execution_count": null,
      "id": "0dc9d477",
      "metadata": {
        "id": "0dc9d477"
      },
      "outputs": [],
      "source": [
        "mason_full['Retrofit Level'].                       # examine levels of retrofit via value counts"
      ]
    },
    {
      "cell_type": "code",
      "execution_count": null,
      "id": "a9eaeac1",
      "metadata": {
        "id": "a9eaeac1"
      },
      "outputs": [],
      "source": [
        "mason_full = mason_full.replace('', '')             # replace redundant retrofit levels"
      ]
    },
    {
      "cell_type": "markdown",
      "source": [
        "4. **Many of the buildings are dual-use. This is indicated in the Building Use column. Create two separate columns from the Building Use column, one for the first use listed and the other for the second.**"
      ],
      "metadata": {
        "id": "xTXHMyZpOnb-"
      },
      "id": "xTXHMyZpOnb-"
    },
    {
      "cell_type": "code",
      "execution_count": null,
      "id": "20611f3c",
      "metadata": {
        "id": "20611f3c"
      },
      "outputs": [],
      "source": [
        "mason_full[['', '']] = mason_full['Building Use'].          # split building use into two new columns"
      ]
    },
    {
      "cell_type": "markdown",
      "source": [
        "5. **Create a new column called “IsCritical”. For those buildings shown with a preliminary risk value of “Critical Risk”, the value for “IsCritical” should be 1. For all others, the value should be 0.**"
      ],
      "metadata": {
        "id": "rehOWyzJOuey"
      },
      "id": "rehOWyzJOuey"
    },
    {
      "cell_type": "code",
      "execution_count": null,
      "id": "340b0e13",
      "metadata": {
        "id": "340b0e13"
      },
      "outputs": [],
      "source": [
        "mason_full['IsCritical'] = (mason_full[''] == '',,)         # create new 'IsCritical' column"
      ]
    },
    {
      "cell_type": "markdown",
      "source": [
        "6. **We'd like to be able to categorize the buildings' age. Create a new column and name it Era. Populate this column with information reflecting to which of the following 'eras' each building belongs: \"before 1920\", \"1920-1939\", \"1940-1959\", \"1960-1979\", or \"after 1979\".**"
      ],
      "metadata": {
        "id": "oXjpuPrjOzZ-"
      },
      "id": "oXjpuPrjOzZ-"
    },
    {
      "cell_type": "code",
      "execution_count": null,
      "id": "5fa2ee8d",
      "metadata": {
        "id": "5fa2ee8d"
      },
      "outputs": [],
      "source": [
        "conditions = [\n",
        "    (mason_full['Year Built'] < ),\n",
        "    (mason_full['Year Built'] < ),\n",
        "    (mason_full['Year Built'] < ),\n",
        "    (mason_full['Year Built'] < ),\n",
        "    (mason_full['Year Built'] > )\n",
        "]\n",
        "\n",
        "values = ['', '', '', '', '']\n",
        "\n",
        "mason_full[''] =                                            # create new era variable"
      ]
    },
    {
      "cell_type": "markdown",
      "source": [
        "7. **Delete any unnecessary columns and SORT the data by Observation ID.**\n",
        "\n",
        "8. **Save this .ipynb file, print it to a PDF, and export the cleaned data as an Excel file. You'll upload all three files to this Canvas assignment!**"
      ],
      "metadata": {
        "id": "8xAjA9j3O9rW"
      },
      "id": "8xAjA9j3O9rW"
    },
    {
      "cell_type": "code",
      "execution_count": null,
      "id": "3d460c2c",
      "metadata": {
        "id": "3d460c2c"
      },
      "outputs": [],
      "source": [
        "mason_full =\n",
        "mason_full =                                                # set index and sort by descending order of ObsID"
      ]
    },
    {
      "cell_type": "code",
      "execution_count": null,
      "id": "b772fcfe",
      "metadata": {
        "id": "b772fcfe"
      },
      "outputs": [],
      "source": [
        "mason_full.to_excel(\"\")                                     # export cleaned data to excel"
      ]
    }
  ],
  "metadata": {
    "kernelspec": {
      "display_name": "Python 3 (ipykernel)",
      "language": "python",
      "name": "python3"
    },
    "language_info": {
      "codemirror_mode": {
        "name": "ipython",
        "version": 3
      },
      "file_extension": ".py",
      "mimetype": "text/x-python",
      "name": "python",
      "nbconvert_exporter": "python",
      "pygments_lexer": "ipython3",
      "version": "3.9.7"
    },
    "colab": {
      "provenance": []
    }
  },
  "nbformat": 4,
  "nbformat_minor": 5
}