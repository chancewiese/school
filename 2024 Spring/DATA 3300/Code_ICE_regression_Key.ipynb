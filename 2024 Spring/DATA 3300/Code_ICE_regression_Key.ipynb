{
  "cells": [
    {
      "cell_type": "markdown",
      "id": "c22e4f42",
      "metadata": {
        "id": "c22e4f42"
      },
      "source": [
        "# Exercise - Linear Regression\n",
        "# DATA 3300\n",
        "\n",
        "## Name: "
      ]
    },
    {
      "cell_type": "markdown",
      "id": "d2f66f78",
      "metadata": {
        "id": "d2f66f78"
      },
      "source": [
        "### Q1\n",
        "\n",
        "**Begin by loading the required libraries and packages - including `pandas`, `numpy`, `matplotlib.pyplot`, `statsmodels.api`, `sklearn.model_selection`, and `sklearn.linear_model`. Then import the dataset as a pandas dataframe and remove any leading or trailing spaces from the columns.**"
      ]
    },
    {
      "cell_type": "code",
      "execution_count": null,
      "id": "10cc16aa",
      "metadata": {
        "id": "10cc16aa"
      },
      "outputs": [],
      "source": [
        "import pandas as pd\n",
        "import numpy as np\n",
        "import matplotlib.pyplot as plt\n",
        "import statsmodels.api as sm\n",
        "from sklearn.model_selection import train_test_split\n",
        "from sklearn.linear_model import LinearRegression\n",
        "import sklearn.metrics as metric"
      ]
    },
    {
      "cell_type": "code",
      "execution_count": null,
      "id": "cc2e8ece",
      "metadata": {
        "id": "cc2e8ece"
      },
      "outputs": [],
      "source": [
        "df = pd.read_csv(\"\")\n",
        "df = df.rename()                                          # let's remove any leading/trailing whitespace from column names too\n",
        "# pull up a heading"
      ]
    },
    {
      "cell_type": "markdown",
      "source": [
        "**Now let's create a new dataframe object that contains only the numerical variables so we can FIRST run a CORRELATION analysis. Let's call the new object df_cor.**\n",
        "\n",
        "**Generate a CORRELATION MATRIX to evaluate the relationships amongst the IVs and the IVs with the DV. Be sure to only include those variables that should be included for Pearson correlation analysis (e.g., should categorical variables be included or excluded?).**"
      ],
      "metadata": {
        "id": "47Jh6kkveqyR"
      },
      "id": "47Jh6kkveqyR"
    },
    {
      "cell_type": "code",
      "execution_count": null,
      "id": "a6828ca3",
      "metadata": {
        "id": "a6828ca3"
      },
      "outputs": [],
      "source": [
        "df_cor = df.drop([\"\", \"\", \"\", \"HSGrad\", \"CollegeGrad\", \"Married\"], axis=1) "
      ]
    },
    {
      "cell_type": "code",
      "execution_count": null,
      "id": "22b7869e",
      "metadata": {
        "id": "22b7869e"
      },
      "outputs": [],
      "source": [
        "# create correlation matrix\n",
        "cor_matrix.style.background_gradient(cmap='seismic', axis=None, vmin=-1, vmax=1)"
      ]
    },
    {
      "cell_type": "markdown",
      "id": "18798d43",
      "metadata": {
        "id": "18798d43"
      },
      "source": [
        ">### 1A\n",
        "**Because the dealership is interested in predicting Months (how long an employee will stay in a position), consider Months to be the DV.**\n",
        "\n",
        "**Based on the correlation matrix, given a minimum correlation coefficient ($r$) value of 0.5 to determine collinearity, are there any collinear *independent variables*? If so, report the variable pair and their correlation coefficient.**"
      ]
    },
    {
      "cell_type": "markdown",
      "source": [],
      "metadata": {
        "id": "lUJBvOSDfK9N"
      },
      "id": "lUJBvOSDfK9N"
    },
    {
      "cell_type": "markdown",
      "id": "d0c41b76",
      "metadata": {
        "id": "d0c41b76"
      },
      "source": [
        ">### 1B\n",
        "**Based on the correlation matrix, which two independent variables appear to have the strongest relationship to the dependent variable? For each, report the variable, the correlation coefficient, and the $R^2$ value.**"
      ]
    },
    {
      "cell_type": "markdown",
      "source": [
        "* var 1\n",
        "* var 2"
      ],
      "metadata": {
        "id": "cTOAjRnHfi3x"
      },
      "id": "cTOAjRnHfi3x"
    },
    {
      "cell_type": "markdown",
      "id": "70799250",
      "metadata": {
        "id": "70799250"
      },
      "source": [
        ">### 1C\n",
        "**Within this correlation context, what does the $R^2$ value tell us?**"
      ]
    },
    {
      "cell_type": "markdown",
      "source": [],
      "metadata": {
        "id": "XU5qi-BmfyZI"
      },
      "id": "XU5qi-BmfyZI"
    },
    {
      "cell_type": "markdown",
      "id": "4cb5a3b4",
      "metadata": {
        "id": "4cb5a3b4"
      },
      "source": [
        ">### 1D\n",
        "**For the collinear relationship reported in 1A, provide a hypothesis that could explain how the one variable value may be causing the other.\n",
        "How should we address this issue?**"
      ]
    },
    {
      "cell_type": "markdown",
      "source": [],
      "metadata": {
        "id": "wSUAgcyjf5xD"
      },
      "id": "wSUAgcyjf5xD"
    },
    {
      "cell_type": "markdown",
      "id": "3e5c1b58",
      "metadata": {
        "id": "3e5c1b58"
      },
      "source": [
        "## Q2\n",
        "**Run a LINEAR REGRESSION ANALYSIS to create a model predicting the number of months a newly hired sales associate at an Innergystic dealership will remain on the job. If you have two variables that appear to be collinear, only include one or the other (retaining the more broadly applicable of the two variables).**\n",
        "\n",
        "**Split the data into a training and a test set, use the training set to fit the model, and then evaluate its performance on the test set.**"
      ]
    },
    {
      "cell_type": "code",
      "execution_count": null,
      "id": "366607fd",
      "metadata": {
        "id": "366607fd"
      },
      "outputs": [],
      "source": [
        "x = df.drop([''], axis=1) # select the IVs\n",
        "x = pd.get_dummies()      # input parameters for creating dummy variables"
      ]
    },
    {
      "cell_type": "code",
      "execution_count": null,
      "id": "6f6b083a",
      "metadata": {
        "id": "6f6b083a"
      },
      "outputs": [],
      "source": [
        "y =                       # set DV"
      ]
    },
    {
      "cell_type": "code",
      "execution_count": null,
      "id": "5717ecc8",
      "metadata": {
        "id": "5717ecc8"
      },
      "outputs": [],
      "source": [
        "x_train, x_test, y_train, y_test = train_test_split() # set a test and training split parameters\n",
        "\n",
        "print()                                               # print the shape of x_train, what does this show us?\n",
        "print(x_test.shape)\n",
        "print(y_train.shape)\n",
        "print(y_test.shape)"
      ]
    },
    {
      "cell_type": "markdown",
      "id": "f0a3ca59",
      "metadata": {
        "id": "f0a3ca59"
      },
      "source": [
        ">### 2A\n",
        "**Generate a table of the summary statistics of your regression model**"
      ]
    },
    {
      "cell_type": "code",
      "execution_count": null,
      "id": "2f8dbe88",
      "metadata": {
        "id": "2f8dbe88"
      },
      "outputs": [],
      "source": [
        "x_train_Sm = sm.add_constant(x_train) \n",
        "ls = sm.OLS().fit()                             # input your x and y training sets to train the ols model\n",
        "# produce the summary statistics table"
      ]
    },
    {
      "cell_type": "markdown",
      "id": "d77b6a6f",
      "metadata": {
        "id": "d77b6a6f"
      },
      "source": [
        ">### 2B\n",
        "**Which if any IV are not significant at the $\\alpha = 0.05$ level? How do you know this?**"
      ]
    },
    {
      "cell_type": "markdown",
      "source": [],
      "metadata": {
        "id": "_PGe5kVbhPTh"
      },
      "id": "_PGe5kVbhPTh"
    },
    {
      "cell_type": "markdown",
      "id": "375e7d71",
      "metadata": {
        "id": "375e7d71"
      },
      "source": [
        ">### 2C\n",
        "**What is the value of the intercept coffiecient? What does this value tell us?**"
      ]
    },
    {
      "cell_type": "markdown",
      "source": [],
      "metadata": {
        "id": "Q2SN2w1GhiKz"
      },
      "id": "Q2SN2w1GhiKz"
    },
    {
      "cell_type": "markdown",
      "id": "c71af7b0",
      "metadata": {
        "id": "c71af7b0"
      },
      "source": [
        "## Q3\n",
        "**Based on your answer from 2B, formulate and apply the model developed above by responding to each of the following:**"
      ]
    },
    {
      "cell_type": "markdown",
      "id": "9eba93fe",
      "metadata": {
        "id": "9eba93fe"
      },
      "source": [
        ">### 3A\n",
        "**Remove the IV with the highest p-value, rerun the model, then generate the summary statistics table. Repeat as necessary until all non-significant IVs have been removed. With each iteration, state which IV has been removed.**"
      ]
    },
    {
      "cell_type": "code",
      "execution_count": null,
      "id": "d70d6b6a",
      "metadata": {
        "id": "d70d6b6a"
      },
      "outputs": [],
      "source": [
        "x_train_Sm = x_train_Sm.drop([''], axis=1)                              # drop the IV with the highest p-value\n",
        "ls=sm.OLS(y_train,x_train_Sm).fit()                                     # retrain the model\n",
        "# print the summary table"
      ]
    },
    {
      "cell_type": "code",
      "execution_count": null,
      "id": "f69102b9",
      "metadata": {
        "id": "f69102b9"
      },
      "outputs": [],
      "source": [
        "x_train_Sm = x_train_Sm.drop([''], axis=1)                              # drop the next non-significant IV\n",
        "ls=sm.OLS(y_train,x_train_Sm).fit()                                     # retrain the model\n",
        "print(ls.summary())                                                     # produce the summary statistics"
      ]
    },
    {
      "cell_type": "markdown",
      "id": "400d68be",
      "metadata": {
        "id": "400d68be"
      },
      "source": [
        "> ### 3B\n",
        "**Once you've run a regression in which all IVs are significant ($\\alpha = 0.05$), write out the full model in equation form.**"
      ]
    },
    {
      "cell_type": "markdown",
      "source": [],
      "metadata": {
        "id": "T49JWBtniHyA"
      },
      "id": "T49JWBtniHyA"
    },
    {
      "cell_type": "markdown",
      "id": "df46032d",
      "metadata": {
        "id": "df46032d"
      },
      "source": [
        ">### 3C\n",
        "**Let's say that a Suburu dealership owned by the company is considering hiring a certain job applicant into a sales position. Using the formula above, how long would you expect the applicant to stay in the position if they were a single, 20 year-old female high school grad with no college experience, a 100 IQ and WritExam score of 80%, an Extraverison score of 5, and an SuMind Score of 1?   Show your math.**"
      ]
    },
    {
      "cell_type": "code",
      "execution_count": null,
      "id": "5a0b0a2f",
      "metadata": {
        "id": "5a0b0a2f"
      },
      "outputs": [],
      "source": [
        "months = \n",
        "print(\"predicted_months =\", months)"
      ]
    },
    {
      "cell_type": "markdown",
      "source": [
        ">### 3D\n",
        "**Does HSGrad_Y have a postive or negative relationship with Months? What about CollegeGrad_Y? What does it mean in relation to the reference groups (HSGrad_N and CollegeGrad_N)?**"
      ],
      "metadata": {
        "id": "ccnaQZd0jMrL"
      },
      "id": "ccnaQZd0jMrL"
    },
    {
      "cell_type": "markdown",
      "source": [],
      "metadata": {
        "id": "qbR4vQLLjP_q"
      },
      "id": "qbR4vQLLjP_q"
    },
    {
      "cell_type": "markdown",
      "id": "9a44b481",
      "metadata": {
        "id": "9a44b481"
      },
      "source": [
        "## Q4 \n",
        "\n",
        "**Now let's evaluate the model performance on your test set to examine how well our model might generalize to new data:**"
      ]
    },
    {
      "cell_type": "markdown",
      "id": "27409550",
      "metadata": {
        "id": "27409550"
      },
      "source": [
        ">### 4A \n",
        "**Using the LinearRegression method in Scikit learn, fit the final model to the training data and then apply the model to the test data.**"
      ]
    },
    {
      "cell_type": "code",
      "execution_count": null,
      "id": "9b7ac575",
      "metadata": {
        "id": "9b7ac575"
      },
      "outputs": [],
      "source": [
        "model = LinearRegression()\n",
        "model.fit()                                       # train the regression model on training data using the scikit learn version of regression\n",
        "\n",
        "x_test = x_test.drop([''], axis=1)                # drop the two non-significant IVs from the test set\n",
        "x_test_Sm = sm.add_constant(x_test)               # add a constant (intercept) value to the test set"
      ]
    },
    {
      "cell_type": "code",
      "execution_count": null,
      "id": "97ddf779",
      "metadata": {
        "scrolled": true,
        "id": "97ddf779"
      },
      "outputs": [],
      "source": [
        "# make predictions onto the test set"
      ]
    },
    {
      "cell_type": "markdown",
      "id": "5016a0fb",
      "metadata": {
        "id": "5016a0fb"
      },
      "source": [
        ">### 4B\n",
        "**Using the metric method, produce the mean squared error and $R^2$ for the model, how does this $R^2$ compare to the value generated on the training data? What does this indicate?**"
      ]
    },
    {
      "cell_type": "code",
      "execution_count": null,
      "id": "b146fa65",
      "metadata": {
        "id": "b146fa65"
      },
      "outputs": [],
      "source": [
        "print(\"Mean squared error =\", round(metric.mean_squared_error(), 2))    # produce the MSE for observed vs predicted\n",
        "print(\"R2 score =\", round(metric.r2_score(), 2))                        # produce the R^2 for observed vs predicted"
      ]
    },
    {
      "cell_type": "markdown",
      "source": [],
      "metadata": {
        "id": "1EvJinAqpTmC"
      },
      "id": "1EvJinAqpTmC"
    },
    {
      "cell_type": "markdown",
      "id": "db09ff35",
      "metadata": {
        "id": "db09ff35"
      },
      "source": [
        ">### 4C\n",
        "**Produce a visualization of the relationship between the observed (actual) values of months in the test set and the predicted values of months**"
      ]
    },
    {
      "cell_type": "code",
      "execution_count": null,
      "id": "c3271897",
      "metadata": {
        "id": "c3271897"
      },
      "outputs": [],
      "source": [
        "import seaborn as sns\n",
        "sns.regplot()                                     # insert what to plot on the x and y access\n",
        "plt.ylabel(\"A useful label\")\n",
        "plt.xlabel(\"A useful label\")\n",
        "plt.show()"
      ]
    }
  ],
  "metadata": {
    "kernelspec": {
      "display_name": "Python 3 (ipykernel)",
      "language": "python",
      "name": "python3"
    },
    "language_info": {
      "codemirror_mode": {
        "name": "ipython",
        "version": 3
      },
      "file_extension": ".py",
      "mimetype": "text/x-python",
      "name": "python",
      "nbconvert_exporter": "python",
      "pygments_lexer": "ipython3",
      "version": "3.9.7"
    },
    "colab": {
      "provenance": []
    }
  },
  "nbformat": 4,
  "nbformat_minor": 5
}