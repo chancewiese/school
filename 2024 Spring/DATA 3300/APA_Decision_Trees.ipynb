{
  "nbformat": 4,
  "nbformat_minor": 0,
  "metadata": {
    "colab": {
      "provenance": []
    },
    "kernelspec": {
      "name": "python3",
      "display_name": "Python 3"
    },
    "language_info": {
      "name": "python"
    }
  },
  "cells": [
    {
      "cell_type": "markdown",
      "source": [
        "# **APA - Decision Trees**\n",
        "# DATA 3300"
      ],
      "metadata": {
        "id": "tYu76npmPg1L"
      }
    },
    {
      "cell_type": "markdown",
      "source": [
        "## Name: Chance Wiese\n",
        "\n",
        "## Assignment"
      ],
      "metadata": {
        "id": "eFHbnaK3Plcl"
      }
    },
    {
      "cell_type": "markdown",
      "source": [
        "# Q1\n",
        "\n",
        "**Import the `funded.xlsx` dataset and the required libraries and packages, and view the headers of the df.**\n"
      ],
      "metadata": {
        "id": "WKzFzTQfPpVx"
      }
    },
    {
      "cell_type": "code",
      "execution_count": null,
      "metadata": {
        "id": "Dh84syvWPUnF"
      },
      "outputs": [],
      "source": [
        "import numpy as np\n",
        "import pandas as pd\n",
        "import matplotlib.pyplot as plt\n",
        "\n",
        "from sklearn.model_selection import train_test_split\n",
        "from sklearn.tree import DecisionTreeClassifier\n",
        "from sklearn.metrics import classification_report\n",
        "from sklearn import tree #libraries and packages for training model and evaluating performance on test set\n",
        "\n",
        "import seaborn as sns\n",
        "import graphviz #libraries for producing visualizations"
      ]
    },
    {
      "cell_type": "code",
      "source": [
        "# replace with code to import funded.xlsx\n",
        "df = pd.read_excel('/content/funded.xlsx')\n",
        "# replace with code to produce df heading\n",
        "df.head()"
      ],
      "metadata": {
        "id": "_lEYyK9gQM1r",
        "colab": {
          "base_uri": "https://localhost:8080/",
          "height": 206
        },
        "outputId": "bfbef384-41ab-45dd-b606-419058719bd5"
      },
      "execution_count": null,
      "outputs": [
        {
          "output_type": "execute_result",
          "data": {
            "text/plain": [
              "   id    industry  months  pfunding  patents  smember  elites       outcome\n",
              "0   1  healthcare      36   2900000        0        0       5   soldoff-low\n",
              "1   2  healthcare      31   5500000        0        0       0           ipo\n",
              "2   3     defense      29    500000        0        0       4      bankrupt\n",
              "3   4        tech      29   2400000        1        0       5  soldoff-high\n",
              "4   5  healthcare      31   5300000        0        1       5           ipo"
            ],
            "text/html": [
              "\n",
              "  <div id=\"df-6a6bc34a-4b6e-41a4-a6d7-e13a201e6dbc\" class=\"colab-df-container\">\n",
              "    <div>\n",
              "<style scoped>\n",
              "    .dataframe tbody tr th:only-of-type {\n",
              "        vertical-align: middle;\n",
              "    }\n",
              "\n",
              "    .dataframe tbody tr th {\n",
              "        vertical-align: top;\n",
              "    }\n",
              "\n",
              "    .dataframe thead th {\n",
              "        text-align: right;\n",
              "    }\n",
              "</style>\n",
              "<table border=\"1\" class=\"dataframe\">\n",
              "  <thead>\n",
              "    <tr style=\"text-align: right;\">\n",
              "      <th></th>\n",
              "      <th>id</th>\n",
              "      <th>industry</th>\n",
              "      <th>months</th>\n",
              "      <th>pfunding</th>\n",
              "      <th>patents</th>\n",
              "      <th>smember</th>\n",
              "      <th>elites</th>\n",
              "      <th>outcome</th>\n",
              "    </tr>\n",
              "  </thead>\n",
              "  <tbody>\n",
              "    <tr>\n",
              "      <th>0</th>\n",
              "      <td>1</td>\n",
              "      <td>healthcare</td>\n",
              "      <td>36</td>\n",
              "      <td>2900000</td>\n",
              "      <td>0</td>\n",
              "      <td>0</td>\n",
              "      <td>5</td>\n",
              "      <td>soldoff-low</td>\n",
              "    </tr>\n",
              "    <tr>\n",
              "      <th>1</th>\n",
              "      <td>2</td>\n",
              "      <td>healthcare</td>\n",
              "      <td>31</td>\n",
              "      <td>5500000</td>\n",
              "      <td>0</td>\n",
              "      <td>0</td>\n",
              "      <td>0</td>\n",
              "      <td>ipo</td>\n",
              "    </tr>\n",
              "    <tr>\n",
              "      <th>2</th>\n",
              "      <td>3</td>\n",
              "      <td>defense</td>\n",
              "      <td>29</td>\n",
              "      <td>500000</td>\n",
              "      <td>0</td>\n",
              "      <td>0</td>\n",
              "      <td>4</td>\n",
              "      <td>bankrupt</td>\n",
              "    </tr>\n",
              "    <tr>\n",
              "      <th>3</th>\n",
              "      <td>4</td>\n",
              "      <td>tech</td>\n",
              "      <td>29</td>\n",
              "      <td>2400000</td>\n",
              "      <td>1</td>\n",
              "      <td>0</td>\n",
              "      <td>5</td>\n",
              "      <td>soldoff-high</td>\n",
              "    </tr>\n",
              "    <tr>\n",
              "      <th>4</th>\n",
              "      <td>5</td>\n",
              "      <td>healthcare</td>\n",
              "      <td>31</td>\n",
              "      <td>5300000</td>\n",
              "      <td>0</td>\n",
              "      <td>1</td>\n",
              "      <td>5</td>\n",
              "      <td>ipo</td>\n",
              "    </tr>\n",
              "  </tbody>\n",
              "</table>\n",
              "</div>\n",
              "    <div class=\"colab-df-buttons\">\n",
              "\n",
              "  <div class=\"colab-df-container\">\n",
              "    <button class=\"colab-df-convert\" onclick=\"convertToInteractive('df-6a6bc34a-4b6e-41a4-a6d7-e13a201e6dbc')\"\n",
              "            title=\"Convert this dataframe to an interactive table.\"\n",
              "            style=\"display:none;\">\n",
              "\n",
              "  <svg xmlns=\"http://www.w3.org/2000/svg\" height=\"24px\" viewBox=\"0 -960 960 960\">\n",
              "    <path d=\"M120-120v-720h720v720H120Zm60-500h600v-160H180v160Zm220 220h160v-160H400v160Zm0 220h160v-160H400v160ZM180-400h160v-160H180v160Zm440 0h160v-160H620v160ZM180-180h160v-160H180v160Zm440 0h160v-160H620v160Z\"/>\n",
              "  </svg>\n",
              "    </button>\n",
              "\n",
              "  <style>\n",
              "    .colab-df-container {\n",
              "      display:flex;\n",
              "      gap: 12px;\n",
              "    }\n",
              "\n",
              "    .colab-df-convert {\n",
              "      background-color: #E8F0FE;\n",
              "      border: none;\n",
              "      border-radius: 50%;\n",
              "      cursor: pointer;\n",
              "      display: none;\n",
              "      fill: #1967D2;\n",
              "      height: 32px;\n",
              "      padding: 0 0 0 0;\n",
              "      width: 32px;\n",
              "    }\n",
              "\n",
              "    .colab-df-convert:hover {\n",
              "      background-color: #E2EBFA;\n",
              "      box-shadow: 0px 1px 2px rgba(60, 64, 67, 0.3), 0px 1px 3px 1px rgba(60, 64, 67, 0.15);\n",
              "      fill: #174EA6;\n",
              "    }\n",
              "\n",
              "    .colab-df-buttons div {\n",
              "      margin-bottom: 4px;\n",
              "    }\n",
              "\n",
              "    [theme=dark] .colab-df-convert {\n",
              "      background-color: #3B4455;\n",
              "      fill: #D2E3FC;\n",
              "    }\n",
              "\n",
              "    [theme=dark] .colab-df-convert:hover {\n",
              "      background-color: #434B5C;\n",
              "      box-shadow: 0px 1px 3px 1px rgba(0, 0, 0, 0.15);\n",
              "      filter: drop-shadow(0px 1px 2px rgba(0, 0, 0, 0.3));\n",
              "      fill: #FFFFFF;\n",
              "    }\n",
              "  </style>\n",
              "\n",
              "    <script>\n",
              "      const buttonEl =\n",
              "        document.querySelector('#df-6a6bc34a-4b6e-41a4-a6d7-e13a201e6dbc button.colab-df-convert');\n",
              "      buttonEl.style.display =\n",
              "        google.colab.kernel.accessAllowed ? 'block' : 'none';\n",
              "\n",
              "      async function convertToInteractive(key) {\n",
              "        const element = document.querySelector('#df-6a6bc34a-4b6e-41a4-a6d7-e13a201e6dbc');\n",
              "        const dataTable =\n",
              "          await google.colab.kernel.invokeFunction('convertToInteractive',\n",
              "                                                    [key], {});\n",
              "        if (!dataTable) return;\n",
              "\n",
              "        const docLinkHtml = 'Like what you see? Visit the ' +\n",
              "          '<a target=\"_blank\" href=https://colab.research.google.com/notebooks/data_table.ipynb>data table notebook</a>'\n",
              "          + ' to learn more about interactive tables.';\n",
              "        element.innerHTML = '';\n",
              "        dataTable['output_type'] = 'display_data';\n",
              "        await google.colab.output.renderOutput(dataTable, element);\n",
              "        const docLink = document.createElement('div');\n",
              "        docLink.innerHTML = docLinkHtml;\n",
              "        element.appendChild(docLink);\n",
              "      }\n",
              "    </script>\n",
              "  </div>\n",
              "\n",
              "\n",
              "<div id=\"df-1e56e2c7-865a-4523-b669-dea6c7b49da9\">\n",
              "  <button class=\"colab-df-quickchart\" onclick=\"quickchart('df-1e56e2c7-865a-4523-b669-dea6c7b49da9')\"\n",
              "            title=\"Suggest charts\"\n",
              "            style=\"display:none;\">\n",
              "\n",
              "<svg xmlns=\"http://www.w3.org/2000/svg\" height=\"24px\"viewBox=\"0 0 24 24\"\n",
              "     width=\"24px\">\n",
              "    <g>\n",
              "        <path d=\"M19 3H5c-1.1 0-2 .9-2 2v14c0 1.1.9 2 2 2h14c1.1 0 2-.9 2-2V5c0-1.1-.9-2-2-2zM9 17H7v-7h2v7zm4 0h-2V7h2v10zm4 0h-2v-4h2v4z\"/>\n",
              "    </g>\n",
              "</svg>\n",
              "  </button>\n",
              "\n",
              "<style>\n",
              "  .colab-df-quickchart {\n",
              "      --bg-color: #E8F0FE;\n",
              "      --fill-color: #1967D2;\n",
              "      --hover-bg-color: #E2EBFA;\n",
              "      --hover-fill-color: #174EA6;\n",
              "      --disabled-fill-color: #AAA;\n",
              "      --disabled-bg-color: #DDD;\n",
              "  }\n",
              "\n",
              "  [theme=dark] .colab-df-quickchart {\n",
              "      --bg-color: #3B4455;\n",
              "      --fill-color: #D2E3FC;\n",
              "      --hover-bg-color: #434B5C;\n",
              "      --hover-fill-color: #FFFFFF;\n",
              "      --disabled-bg-color: #3B4455;\n",
              "      --disabled-fill-color: #666;\n",
              "  }\n",
              "\n",
              "  .colab-df-quickchart {\n",
              "    background-color: var(--bg-color);\n",
              "    border: none;\n",
              "    border-radius: 50%;\n",
              "    cursor: pointer;\n",
              "    display: none;\n",
              "    fill: var(--fill-color);\n",
              "    height: 32px;\n",
              "    padding: 0;\n",
              "    width: 32px;\n",
              "  }\n",
              "\n",
              "  .colab-df-quickchart:hover {\n",
              "    background-color: var(--hover-bg-color);\n",
              "    box-shadow: 0 1px 2px rgba(60, 64, 67, 0.3), 0 1px 3px 1px rgba(60, 64, 67, 0.15);\n",
              "    fill: var(--button-hover-fill-color);\n",
              "  }\n",
              "\n",
              "  .colab-df-quickchart-complete:disabled,\n",
              "  .colab-df-quickchart-complete:disabled:hover {\n",
              "    background-color: var(--disabled-bg-color);\n",
              "    fill: var(--disabled-fill-color);\n",
              "    box-shadow: none;\n",
              "  }\n",
              "\n",
              "  .colab-df-spinner {\n",
              "    border: 2px solid var(--fill-color);\n",
              "    border-color: transparent;\n",
              "    border-bottom-color: var(--fill-color);\n",
              "    animation:\n",
              "      spin 1s steps(1) infinite;\n",
              "  }\n",
              "\n",
              "  @keyframes spin {\n",
              "    0% {\n",
              "      border-color: transparent;\n",
              "      border-bottom-color: var(--fill-color);\n",
              "      border-left-color: var(--fill-color);\n",
              "    }\n",
              "    20% {\n",
              "      border-color: transparent;\n",
              "      border-left-color: var(--fill-color);\n",
              "      border-top-color: var(--fill-color);\n",
              "    }\n",
              "    30% {\n",
              "      border-color: transparent;\n",
              "      border-left-color: var(--fill-color);\n",
              "      border-top-color: var(--fill-color);\n",
              "      border-right-color: var(--fill-color);\n",
              "    }\n",
              "    40% {\n",
              "      border-color: transparent;\n",
              "      border-right-color: var(--fill-color);\n",
              "      border-top-color: var(--fill-color);\n",
              "    }\n",
              "    60% {\n",
              "      border-color: transparent;\n",
              "      border-right-color: var(--fill-color);\n",
              "    }\n",
              "    80% {\n",
              "      border-color: transparent;\n",
              "      border-right-color: var(--fill-color);\n",
              "      border-bottom-color: var(--fill-color);\n",
              "    }\n",
              "    90% {\n",
              "      border-color: transparent;\n",
              "      border-bottom-color: var(--fill-color);\n",
              "    }\n",
              "  }\n",
              "</style>\n",
              "\n",
              "  <script>\n",
              "    async function quickchart(key) {\n",
              "      const quickchartButtonEl =\n",
              "        document.querySelector('#' + key + ' button');\n",
              "      quickchartButtonEl.disabled = true;  // To prevent multiple clicks.\n",
              "      quickchartButtonEl.classList.add('colab-df-spinner');\n",
              "      try {\n",
              "        const charts = await google.colab.kernel.invokeFunction(\n",
              "            'suggestCharts', [key], {});\n",
              "      } catch (error) {\n",
              "        console.error('Error during call to suggestCharts:', error);\n",
              "      }\n",
              "      quickchartButtonEl.classList.remove('colab-df-spinner');\n",
              "      quickchartButtonEl.classList.add('colab-df-quickchart-complete');\n",
              "    }\n",
              "    (() => {\n",
              "      let quickchartButtonEl =\n",
              "        document.querySelector('#df-1e56e2c7-865a-4523-b669-dea6c7b49da9 button');\n",
              "      quickchartButtonEl.style.display =\n",
              "        google.colab.kernel.accessAllowed ? 'block' : 'none';\n",
              "    })();\n",
              "  </script>\n",
              "</div>\n",
              "    </div>\n",
              "  </div>\n"
            ],
            "application/vnd.google.colaboratory.intrinsic+json": {
              "type": "dataframe",
              "variable_name": "df",
              "summary": "{\n  \"name\": \"df\",\n  \"rows\": 1209,\n  \"fields\": [\n    {\n      \"column\": \"id\",\n      \"properties\": {\n        \"dtype\": \"number\",\n        \"std\": 349,\n        \"min\": 1,\n        \"max\": 1209,\n        \"num_unique_values\": 1209,\n        \"samples\": [\n          102,\n          433,\n          310\n        ],\n        \"semantic_type\": \"\",\n        \"description\": \"\"\n      }\n    },\n    {\n      \"column\": \"industry\",\n      \"properties\": {\n        \"dtype\": \"category\",\n        \"num_unique_values\": 4,\n        \"samples\": [\n          \"defense\",\n          \"media\",\n          \"healthcare\"\n        ],\n        \"semantic_type\": \"\",\n        \"description\": \"\"\n      }\n    },\n    {\n      \"column\": \"months\",\n      \"properties\": {\n        \"dtype\": \"number\",\n        \"std\": 7,\n        \"min\": 12,\n        \"max\": 48,\n        \"num_unique_values\": 37,\n        \"samples\": [\n          28,\n          21,\n          30\n        ],\n        \"semantic_type\": \"\",\n        \"description\": \"\"\n      }\n    },\n    {\n      \"column\": \"pfunding\",\n      \"properties\": {\n        \"dtype\": \"number\",\n        \"std\": 2481080,\n        \"min\": 500000,\n        \"max\": 9900000,\n        \"num_unique_values\": 93,\n        \"samples\": [\n          1800000,\n          1500000,\n          2000000\n        ],\n        \"semantic_type\": \"\",\n        \"description\": \"\"\n      }\n    },\n    {\n      \"column\": \"patents\",\n      \"properties\": {\n        \"dtype\": \"number\",\n        \"std\": 0,\n        \"min\": 0,\n        \"max\": 1,\n        \"num_unique_values\": 2,\n        \"samples\": [\n          1,\n          0\n        ],\n        \"semantic_type\": \"\",\n        \"description\": \"\"\n      }\n    },\n    {\n      \"column\": \"smember\",\n      \"properties\": {\n        \"dtype\": \"number\",\n        \"std\": 0,\n        \"min\": 0,\n        \"max\": 1,\n        \"num_unique_values\": 2,\n        \"samples\": [\n          1,\n          0\n        ],\n        \"semantic_type\": \"\",\n        \"description\": \"\"\n      }\n    },\n    {\n      \"column\": \"elites\",\n      \"properties\": {\n        \"dtype\": \"number\",\n        \"std\": 2,\n        \"min\": 0,\n        \"max\": 10,\n        \"num_unique_values\": 11,\n        \"samples\": [\n          8,\n          5\n        ],\n        \"semantic_type\": \"\",\n        \"description\": \"\"\n      }\n    },\n    {\n      \"column\": \"outcome\",\n      \"properties\": {\n        \"dtype\": \"category\",\n        \"num_unique_values\": 4,\n        \"samples\": [\n          \"ipo\",\n          \"soldoff-high\"\n        ],\n        \"semantic_type\": \"\",\n        \"description\": \"\"\n      }\n    }\n  ]\n}"
            }
          },
          "metadata": {},
          "execution_count": 2
        }
      ]
    },
    {
      "cell_type": "markdown",
      "source": [
        "**Use the `value_counts` function to view the class distribution for `Outcome`.**"
      ],
      "metadata": {
        "id": "k5orSWgkXjgr"
      }
    },
    {
      "cell_type": "code",
      "source": [
        "# replace with code to view class distribution of 'outcome' (hint: value counts)\n",
        "df.value_counts('outcome')"
      ],
      "metadata": {
        "id": "5qdkKEK6QXt1",
        "colab": {
          "base_uri": "https://localhost:8080/"
        },
        "outputId": "38967f5d-d3a3-40ab-f74a-a563d65532ec"
      },
      "execution_count": null,
      "outputs": [
        {
          "output_type": "execute_result",
          "data": {
            "text/plain": [
              "outcome\n",
              "soldoff-high    417\n",
              "bankrupt        354\n",
              "soldoff-low     260\n",
              "ipo             178\n",
              "dtype: int64"
            ]
          },
          "metadata": {},
          "execution_count": 3
        }
      ]
    },
    {
      "cell_type": "markdown",
      "source": [
        "**Calculate the accuracy of an a priori (naive) prediction. Show your formula.\n",
        "\n",
        "What would you predict the `Outcome` to be for a new observation and why?**"
      ],
      "metadata": {
        "id": "fqhdYSUoX4_4"
      }
    },
    {
      "cell_type": "code",
      "source": [
        "# replace with code to compute apriori prediction accuracy\n",
        "apriori = 417/len(df)\n",
        "print('apriori = ', apriori)"
      ],
      "metadata": {
        "id": "qnxDiBFsQalq",
        "colab": {
          "base_uri": "https://localhost:8080/"
        },
        "outputId": "58328588-48ab-4fb0-d4f3-78f70b0a95ad"
      },
      "execution_count": null,
      "outputs": [
        {
          "output_type": "stream",
          "name": "stdout",
          "text": [
            "apriori =  0.34491315136476425\n"
          ]
        }
      ]
    },
    {
      "cell_type": "markdown",
      "source": [
        "For a new outcome, I would predict that it's going to be soldoff-high, becase 34% of the time the outcome is soldoff-high, and it is the most common outcome."
      ],
      "metadata": {
        "id": "cKb-Yop2OB8q"
      }
    },
    {
      "cell_type": "markdown",
      "source": [
        "# Q2\n",
        "\n",
        "**Assign your IVs to an x object and your DV to a y object, then split your data into a training and test set for x and y, using a 80-20 split. Remember to perform any preprocessing necessary on your IVs (*hint: any categorical variables?)***\n",
        "\n",
        "\n",
        "**Then train a `DecisionTreeClassifier` model from the training set, using \"gini\" as the criterion, with a max depth of 10, a minimum leaf size of 8, and `min_impurity_decrease = 0.002`.**"
      ],
      "metadata": {
        "id": "sbGMN8gYQpur"
      }
    },
    {
      "cell_type": "code",
      "source": [
        "# replace with code to select IVs to include in analysis, assign to object called 'x'\n",
        "x = df.drop(['id', 'outcome'], axis=1)\n",
        "# replace with code to dummy code categorical variables\n",
        "x = pd.get_dummies(data = x, drop_first=False)\n",
        "# replace with code to assign your DV to an object called 'y'\n",
        "y = df['outcome']\n",
        "# replace with code to create 4 dataframe objects x_train, x_test, y_train, y_test. Set test_size to 0.2, set random_state to 100\n",
        "x_train, x_test, y_train, y_test = train_test_split(x, y, test_size = 0.2, random_state = 100)"
      ],
      "metadata": {
        "id": "m5pmSrvtRBvc"
      },
      "execution_count": null,
      "outputs": []
    },
    {
      "cell_type": "code",
      "source": [
        "print(x_train.shape)\n",
        "print(x_test.shape)\n",
        "print(y_train.shape)\n",
        "print(y_test.shape)"
      ],
      "metadata": {
        "colab": {
          "base_uri": "https://localhost:8080/"
        },
        "id": "KrLnuYjXq73w",
        "outputId": "e57c5e47-fead-4034-aaaa-b6c8f8e9202b"
      },
      "execution_count": null,
      "outputs": [
        {
          "output_type": "stream",
          "name": "stdout",
          "text": [
            "(967, 9)\n",
            "(242, 9)\n",
            "(967,)\n",
            "(242,)\n"
          ]
        }
      ]
    },
    {
      "cell_type": "code",
      "source": [
        "# replace with code set parameters based on instructions for DecisionTreeClassifier\n",
        "model = DecisionTreeClassifier(criterion = \"gini\", random_state=100, max_depth=10, min_samples_leaf=8, min_impurity_decrease=0.002)\n",
        "# replace with code to fit model to x_train and y_train\n",
        "model.fit(x_train, y_train)"
      ],
      "metadata": {
        "id": "3zf58gmhRe_Y",
        "colab": {
          "base_uri": "https://localhost:8080/",
          "height": 92
        },
        "outputId": "647babbb-1065-41b8-b32f-89a6b114cc42"
      },
      "execution_count": null,
      "outputs": [
        {
          "output_type": "execute_result",
          "data": {
            "text/plain": [
              "DecisionTreeClassifier(max_depth=10, min_impurity_decrease=0.002,\n",
              "                       min_samples_leaf=8, random_state=100)"
            ],
            "text/html": [
              "<style>#sk-container-id-1 {color: black;background-color: white;}#sk-container-id-1 pre{padding: 0;}#sk-container-id-1 div.sk-toggleable {background-color: white;}#sk-container-id-1 label.sk-toggleable__label {cursor: pointer;display: block;width: 100%;margin-bottom: 0;padding: 0.3em;box-sizing: border-box;text-align: center;}#sk-container-id-1 label.sk-toggleable__label-arrow:before {content: \"▸\";float: left;margin-right: 0.25em;color: #696969;}#sk-container-id-1 label.sk-toggleable__label-arrow:hover:before {color: black;}#sk-container-id-1 div.sk-estimator:hover label.sk-toggleable__label-arrow:before {color: black;}#sk-container-id-1 div.sk-toggleable__content {max-height: 0;max-width: 0;overflow: hidden;text-align: left;background-color: #f0f8ff;}#sk-container-id-1 div.sk-toggleable__content pre {margin: 0.2em;color: black;border-radius: 0.25em;background-color: #f0f8ff;}#sk-container-id-1 input.sk-toggleable__control:checked~div.sk-toggleable__content {max-height: 200px;max-width: 100%;overflow: auto;}#sk-container-id-1 input.sk-toggleable__control:checked~label.sk-toggleable__label-arrow:before {content: \"▾\";}#sk-container-id-1 div.sk-estimator input.sk-toggleable__control:checked~label.sk-toggleable__label {background-color: #d4ebff;}#sk-container-id-1 div.sk-label input.sk-toggleable__control:checked~label.sk-toggleable__label {background-color: #d4ebff;}#sk-container-id-1 input.sk-hidden--visually {border: 0;clip: rect(1px 1px 1px 1px);clip: rect(1px, 1px, 1px, 1px);height: 1px;margin: -1px;overflow: hidden;padding: 0;position: absolute;width: 1px;}#sk-container-id-1 div.sk-estimator {font-family: monospace;background-color: #f0f8ff;border: 1px dotted black;border-radius: 0.25em;box-sizing: border-box;margin-bottom: 0.5em;}#sk-container-id-1 div.sk-estimator:hover {background-color: #d4ebff;}#sk-container-id-1 div.sk-parallel-item::after {content: \"\";width: 100%;border-bottom: 1px solid gray;flex-grow: 1;}#sk-container-id-1 div.sk-label:hover label.sk-toggleable__label {background-color: #d4ebff;}#sk-container-id-1 div.sk-serial::before {content: \"\";position: absolute;border-left: 1px solid gray;box-sizing: border-box;top: 0;bottom: 0;left: 50%;z-index: 0;}#sk-container-id-1 div.sk-serial {display: flex;flex-direction: column;align-items: center;background-color: white;padding-right: 0.2em;padding-left: 0.2em;position: relative;}#sk-container-id-1 div.sk-item {position: relative;z-index: 1;}#sk-container-id-1 div.sk-parallel {display: flex;align-items: stretch;justify-content: center;background-color: white;position: relative;}#sk-container-id-1 div.sk-item::before, #sk-container-id-1 div.sk-parallel-item::before {content: \"\";position: absolute;border-left: 1px solid gray;box-sizing: border-box;top: 0;bottom: 0;left: 50%;z-index: -1;}#sk-container-id-1 div.sk-parallel-item {display: flex;flex-direction: column;z-index: 1;position: relative;background-color: white;}#sk-container-id-1 div.sk-parallel-item:first-child::after {align-self: flex-end;width: 50%;}#sk-container-id-1 div.sk-parallel-item:last-child::after {align-self: flex-start;width: 50%;}#sk-container-id-1 div.sk-parallel-item:only-child::after {width: 0;}#sk-container-id-1 div.sk-dashed-wrapped {border: 1px dashed gray;margin: 0 0.4em 0.5em 0.4em;box-sizing: border-box;padding-bottom: 0.4em;background-color: white;}#sk-container-id-1 div.sk-label label {font-family: monospace;font-weight: bold;display: inline-block;line-height: 1.2em;}#sk-container-id-1 div.sk-label-container {text-align: center;}#sk-container-id-1 div.sk-container {/* jupyter's `normalize.less` sets `[hidden] { display: none; }` but bootstrap.min.css set `[hidden] { display: none !important; }` so we also need the `!important` here to be able to override the default hidden behavior on the sphinx rendered scikit-learn.org. See: https://github.com/scikit-learn/scikit-learn/issues/21755 */display: inline-block !important;position: relative;}#sk-container-id-1 div.sk-text-repr-fallback {display: none;}</style><div id=\"sk-container-id-1\" class=\"sk-top-container\"><div class=\"sk-text-repr-fallback\"><pre>DecisionTreeClassifier(max_depth=10, min_impurity_decrease=0.002,\n",
              "                       min_samples_leaf=8, random_state=100)</pre><b>In a Jupyter environment, please rerun this cell to show the HTML representation or trust the notebook. <br />On GitHub, the HTML representation is unable to render, please try loading this page with nbviewer.org.</b></div><div class=\"sk-container\" hidden><div class=\"sk-item\"><div class=\"sk-estimator sk-toggleable\"><input class=\"sk-toggleable__control sk-hidden--visually\" id=\"sk-estimator-id-1\" type=\"checkbox\" checked><label for=\"sk-estimator-id-1\" class=\"sk-toggleable__label sk-toggleable__label-arrow\">DecisionTreeClassifier</label><div class=\"sk-toggleable__content\"><pre>DecisionTreeClassifier(max_depth=10, min_impurity_decrease=0.002,\n",
              "                       min_samples_leaf=8, random_state=100)</pre></div></div></div></div></div>"
            ]
          },
          "metadata": {},
          "execution_count": 7
        }
      ]
    },
    {
      "cell_type": "markdown",
      "source": [
        "## A\n",
        "\n",
        "**Plot your decision tree using the `export_graphviz` function from the `tree` library.**"
      ],
      "metadata": {
        "id": "x-1gIkagS3G6"
      }
    },
    {
      "cell_type": "code",
      "source": [
        "# replace with code to generate tree plot of model\n",
        "labels = y.value_counts()\n",
        "dot_data = tree.export_graphviz(model, out_file=None,\n",
        "                                feature_names=x.columns,\n",
        "                                class_names=labels.index.values,\n",
        "                                filled=True)\n",
        "\n",
        "# Draws graph\n",
        "graph = graphviz.Source(dot_data, format=\"png\")\n",
        "graph"
      ],
      "metadata": {
        "id": "5_MJDzhhS_A5"
      },
      "execution_count": null,
      "outputs": []
    },
    {
      "cell_type": "markdown",
      "source": [
        "## B\n",
        "\n",
        "**Using your tree plot, what would be the predicted outcome for a defense company who has no patents and 4 elites?**\n",
        "\n",
        "**On how many observations would this prediction be based (i.e., how many observations are in the terminal node where the prediction was made)?**"
      ],
      "metadata": {
        "id": "HoENYZ-zTc_X"
      }
    },
    {
      "cell_type": "markdown",
      "source": [
        "gini = 0.596\n",
        "samples = 120\n",
        "value = [67, 4, 17, 32]\n",
        "class = soldoff-high\n",
        "\n",
        "We would predict this would be a soldoff-high, because 32 of the 120 samples that met this criteria had an outcome of soldoff-high, which was the most common outcome."
      ],
      "metadata": {
        "id": "u75gIAKEU3Qr"
      }
    },
    {
      "cell_type": "markdown",
      "source": [
        "# Q3\n",
        "\n",
        "**Apply your model to the test set to evaluate its accuracy. Create a confusion matrix and then respond to the prompts below.**"
      ],
      "metadata": {
        "id": "Oh_8NQ2iVIS9"
      }
    },
    {
      "cell_type": "code",
      "source": [
        "# replace with code to predict onto test set using model\n",
        "predictions = model.predict(x_test)"
      ],
      "metadata": {
        "id": "ltouNpdNVXN6"
      },
      "execution_count": null,
      "outputs": []
    },
    {
      "cell_type": "code",
      "source": [
        "# replace with code to create new dataframe from x_test, called df_pred\n",
        "df_pred = x_test\n",
        "# replace with code to add predictions as a 'predicted_class' column to new dataframe\n",
        "df_pred['predicted_class'] = predictions\n",
        "# replace with code to add y_test as a 'actual_class' column to new dataframe\n",
        "df_pred['actual_class'] = y_test"
      ],
      "metadata": {
        "id": "elZTSWEWViPe"
      },
      "execution_count": null,
      "outputs": []
    },
    {
      "cell_type": "code",
      "source": [
        "# replace with code to fit confusion matrix to 'predicted_class' and 'actual_class'\n",
        "conf = pd.DataFrame(x_test, columns=['actual_class','predicted_class'])\n",
        "confusion_matrix = pd.crosstab(conf['actual_class'], conf['predicted_class'], rownames=['Actual'], colnames=['Predicted'])\n",
        "# replace with code to visualize confusion matrix with a heatmap\n",
        "sns.heatmap(confusion_matrix, annot=True)\n",
        "sns.set(rc={'figure.figsize':(12,10)})\n",
        "plt.show"
      ],
      "metadata": {
        "id": "a4-hAg1XVmFl"
      },
      "execution_count": null,
      "outputs": []
    },
    {
      "cell_type": "markdown",
      "source": [
        "## A\n",
        "\n",
        "**For each of the four outcomes, provide the number of times the model predicted it, the number of times it predicted accurately, and the % accuracy (ratio of the # of accurate predictions / # of predictions).**"
      ],
      "metadata": {
        "id": "3AKVcm4-XaNy"
      }
    },
    {
      "cell_type": "markdown",
      "source": [
        "* Prediction: **Bankrupt**\n",
        "  * Times Predicted: 114\n",
        "  * Predicted Accurately: 52\n",
        "  * % Accuracy: 46%\n",
        "\n",
        "* Prediction: **Soldoff-Low**\n",
        "  * Times Predicted: 31\n",
        "  * Predicted Accurately: 17\n",
        "  * % Accuracy: 55%\n",
        "\n",
        "* Prediction: **Soldoff-High**\n",
        "  * Times Predicted: 74\n",
        "  * Predicted Accurately: 46\n",
        "  * % Accuracy: 62%\n",
        "\n",
        "* Prediction: **IPO**\n",
        "  * Times Predicted: 23\n",
        "  * Predicted Accurately: 17\n",
        "  * % Accuracy: 74%\n"
      ],
      "metadata": {
        "id": "ltEStm3KYDWD"
      }
    },
    {
      "cell_type": "markdown",
      "source": [
        "## B\n",
        "\n",
        "**Considering *all* predictions, in what percentage of observations did the model make an accurate prediction? Show your formula.**\n"
      ],
      "metadata": {
        "id": "VRlGLP2caEwU"
      }
    },
    {
      "cell_type": "code",
      "source": [
        "# replace with code to calculate overall accuracy from values in confusion matrix\n",
        "print(classification_report(y_test, predictions))"
      ],
      "metadata": {
        "id": "iIQ62qSCaSKB",
        "colab": {
          "base_uri": "https://localhost:8080/"
        },
        "outputId": "80315974-ccf2-49c1-cb1d-d0db95dd9dd5"
      },
      "execution_count": null,
      "outputs": [
        {
          "output_type": "stream",
          "name": "stdout",
          "text": [
            "              precision    recall  f1-score   support\n",
            "\n",
            "    bankrupt       0.46      0.76      0.57        68\n",
            "         ipo       0.74      0.47      0.58        36\n",
            "soldoff-high       0.62      0.53      0.57        87\n",
            " soldoff-low       0.55      0.33      0.41        51\n",
            "\n",
            "    accuracy                           0.55       242\n",
            "   macro avg       0.59      0.52      0.53       242\n",
            "weighted avg       0.58      0.55      0.54       242\n",
            "\n"
          ]
        }
      ]
    },
    {
      "cell_type": "markdown",
      "source": [
        "## C\n",
        "\n",
        "**Given this accuracy percentage, does it make more sense to use the *a priori* prediction approach or the decision tree model that was generated? Explain your answer.**\n"
      ],
      "metadata": {
        "id": "2SlFVHkdbXp4"
      }
    },
    {
      "cell_type": "markdown",
      "source": [
        "It makes more sense to use a decision tree model as it was correct around 55% of the time, whereas the a priori method was only right around 34% of the time."
      ],
      "metadata": {
        "id": "zEf85aaKbeQt"
      }
    },
    {
      "cell_type": "markdown",
      "source": [
        "## Q4\n",
        "\n",
        "**Next, compare this model's performance against three other possible decision tree models, each of which use different parameters. In a text cell placed before each new model, outline the `criterion` used (e.g., 'gini', 'entropy', or 'log_loss') , the `max_depth`, the `min_samples_leaf`, and the `min_impurity_decrease`.**\n",
        "\n",
        "**Remember that the first model used the following paramters:**\n",
        "\n",
        "* `criterion` = gini\n",
        "* `max_depth` = 10\n",
        "* `min_samples_leaf` = 8\n",
        "* `min_impurity_decrease` = 0.002\n",
        "\n",
        "**So change *at least* one of these parameters for each of your new models.**\n",
        "\n",
        "**For each model generate a `classification_report` to show its overall accuracy on the test_set.**\n"
      ],
      "metadata": {
        "id": "KoMgeVFtb8gR"
      }
    },
    {
      "cell_type": "markdown",
      "source": [
        "### **Model 1:**\n",
        "\n",
        "* `criterion` = gini\n",
        "* `max_depth` = 10\n",
        "* `min_samples_leaf` = 8\n",
        "* `min_impurity_decrease` = 0.002"
      ],
      "metadata": {
        "id": "1JQ-4bsAdVVt"
      }
    },
    {
      "cell_type": "code",
      "source": [
        "print(classification_report(y_test, predictions))"
      ],
      "metadata": {
        "id": "_Bl_11r1dcXE",
        "colab": {
          "base_uri": "https://localhost:8080/"
        },
        "outputId": "ac38b8df-a7dc-4565-e46b-00d7541b612e"
      },
      "execution_count": null,
      "outputs": [
        {
          "output_type": "stream",
          "name": "stdout",
          "text": [
            "              precision    recall  f1-score   support\n",
            "\n",
            "    bankrupt       0.46      0.76      0.57        68\n",
            "         ipo       0.74      0.47      0.58        36\n",
            "soldoff-high       0.62      0.53      0.57        87\n",
            " soldoff-low       0.55      0.33      0.41        51\n",
            "\n",
            "    accuracy                           0.55       242\n",
            "   macro avg       0.59      0.52      0.53       242\n",
            "weighted avg       0.58      0.55      0.54       242\n",
            "\n"
          ]
        }
      ]
    },
    {
      "cell_type": "markdown",
      "source": [
        "### **Model 2:**\n",
        "\n",
        "* `criterion` = entropy\n",
        "* `max_depth` = 10\n",
        "* `min_samples_leaf` = 8\n",
        "* `min_impurity_decrease` = 0.002"
      ],
      "metadata": {
        "id": "tftOkzA6djuW"
      }
    },
    {
      "cell_type": "code",
      "source": [
        "# replace with code to specify DecisionTreeClassifier parameters\n",
        "model2 = DecisionTreeClassifier(criterion = \"entropy\", random_state=100, max_depth=10, min_samples_leaf=8, min_impurity_decrease=0.002)\n",
        "# replace with code to fit model2 to training data\n",
        "model2.fit(x_train, y_train)"
      ],
      "metadata": {
        "id": "X0T4GJdRdq3N",
        "colab": {
          "base_uri": "https://localhost:8080/",
          "height": 109
        },
        "outputId": "e7c30e4a-96aa-4db6-ac3b-ffd26c627c1d"
      },
      "execution_count": null,
      "outputs": [
        {
          "output_type": "execute_result",
          "data": {
            "text/plain": [
              "DecisionTreeClassifier(criterion='entropy', max_depth=10,\n",
              "                       min_impurity_decrease=0.002, min_samples_leaf=8,\n",
              "                       random_state=100)"
            ],
            "text/html": [
              "<style>#sk-container-id-2 {color: black;background-color: white;}#sk-container-id-2 pre{padding: 0;}#sk-container-id-2 div.sk-toggleable {background-color: white;}#sk-container-id-2 label.sk-toggleable__label {cursor: pointer;display: block;width: 100%;margin-bottom: 0;padding: 0.3em;box-sizing: border-box;text-align: center;}#sk-container-id-2 label.sk-toggleable__label-arrow:before {content: \"▸\";float: left;margin-right: 0.25em;color: #696969;}#sk-container-id-2 label.sk-toggleable__label-arrow:hover:before {color: black;}#sk-container-id-2 div.sk-estimator:hover label.sk-toggleable__label-arrow:before {color: black;}#sk-container-id-2 div.sk-toggleable__content {max-height: 0;max-width: 0;overflow: hidden;text-align: left;background-color: #f0f8ff;}#sk-container-id-2 div.sk-toggleable__content pre {margin: 0.2em;color: black;border-radius: 0.25em;background-color: #f0f8ff;}#sk-container-id-2 input.sk-toggleable__control:checked~div.sk-toggleable__content {max-height: 200px;max-width: 100%;overflow: auto;}#sk-container-id-2 input.sk-toggleable__control:checked~label.sk-toggleable__label-arrow:before {content: \"▾\";}#sk-container-id-2 div.sk-estimator input.sk-toggleable__control:checked~label.sk-toggleable__label {background-color: #d4ebff;}#sk-container-id-2 div.sk-label input.sk-toggleable__control:checked~label.sk-toggleable__label {background-color: #d4ebff;}#sk-container-id-2 input.sk-hidden--visually {border: 0;clip: rect(1px 1px 1px 1px);clip: rect(1px, 1px, 1px, 1px);height: 1px;margin: -1px;overflow: hidden;padding: 0;position: absolute;width: 1px;}#sk-container-id-2 div.sk-estimator {font-family: monospace;background-color: #f0f8ff;border: 1px dotted black;border-radius: 0.25em;box-sizing: border-box;margin-bottom: 0.5em;}#sk-container-id-2 div.sk-estimator:hover {background-color: #d4ebff;}#sk-container-id-2 div.sk-parallel-item::after {content: \"\";width: 100%;border-bottom: 1px solid gray;flex-grow: 1;}#sk-container-id-2 div.sk-label:hover label.sk-toggleable__label {background-color: #d4ebff;}#sk-container-id-2 div.sk-serial::before {content: \"\";position: absolute;border-left: 1px solid gray;box-sizing: border-box;top: 0;bottom: 0;left: 50%;z-index: 0;}#sk-container-id-2 div.sk-serial {display: flex;flex-direction: column;align-items: center;background-color: white;padding-right: 0.2em;padding-left: 0.2em;position: relative;}#sk-container-id-2 div.sk-item {position: relative;z-index: 1;}#sk-container-id-2 div.sk-parallel {display: flex;align-items: stretch;justify-content: center;background-color: white;position: relative;}#sk-container-id-2 div.sk-item::before, #sk-container-id-2 div.sk-parallel-item::before {content: \"\";position: absolute;border-left: 1px solid gray;box-sizing: border-box;top: 0;bottom: 0;left: 50%;z-index: -1;}#sk-container-id-2 div.sk-parallel-item {display: flex;flex-direction: column;z-index: 1;position: relative;background-color: white;}#sk-container-id-2 div.sk-parallel-item:first-child::after {align-self: flex-end;width: 50%;}#sk-container-id-2 div.sk-parallel-item:last-child::after {align-self: flex-start;width: 50%;}#sk-container-id-2 div.sk-parallel-item:only-child::after {width: 0;}#sk-container-id-2 div.sk-dashed-wrapped {border: 1px dashed gray;margin: 0 0.4em 0.5em 0.4em;box-sizing: border-box;padding-bottom: 0.4em;background-color: white;}#sk-container-id-2 div.sk-label label {font-family: monospace;font-weight: bold;display: inline-block;line-height: 1.2em;}#sk-container-id-2 div.sk-label-container {text-align: center;}#sk-container-id-2 div.sk-container {/* jupyter's `normalize.less` sets `[hidden] { display: none; }` but bootstrap.min.css set `[hidden] { display: none !important; }` so we also need the `!important` here to be able to override the default hidden behavior on the sphinx rendered scikit-learn.org. See: https://github.com/scikit-learn/scikit-learn/issues/21755 */display: inline-block !important;position: relative;}#sk-container-id-2 div.sk-text-repr-fallback {display: none;}</style><div id=\"sk-container-id-2\" class=\"sk-top-container\"><div class=\"sk-text-repr-fallback\"><pre>DecisionTreeClassifier(criterion=&#x27;entropy&#x27;, max_depth=10,\n",
              "                       min_impurity_decrease=0.002, min_samples_leaf=8,\n",
              "                       random_state=100)</pre><b>In a Jupyter environment, please rerun this cell to show the HTML representation or trust the notebook. <br />On GitHub, the HTML representation is unable to render, please try loading this page with nbviewer.org.</b></div><div class=\"sk-container\" hidden><div class=\"sk-item\"><div class=\"sk-estimator sk-toggleable\"><input class=\"sk-toggleable__control sk-hidden--visually\" id=\"sk-estimator-id-2\" type=\"checkbox\" checked><label for=\"sk-estimator-id-2\" class=\"sk-toggleable__label sk-toggleable__label-arrow\">DecisionTreeClassifier</label><div class=\"sk-toggleable__content\"><pre>DecisionTreeClassifier(criterion=&#x27;entropy&#x27;, max_depth=10,\n",
              "                       min_impurity_decrease=0.002, min_samples_leaf=8,\n",
              "                       random_state=100)</pre></div></div></div></div></div>"
            ]
          },
          "metadata": {},
          "execution_count": 14
        }
      ]
    },
    {
      "cell_type": "code",
      "source": [
        "# replace with code to drop 'predicted_class' and 'actual_class' columns from x_test\n",
        "x_test = x_test.drop(columns = ['predicted_class', 'actual_class'])\n",
        "# replace with code to fit model2 to x_test\n",
        "predictions = model2.predict(x_test)"
      ],
      "metadata": {
        "id": "TObL_o6LdrVw"
      },
      "execution_count": null,
      "outputs": []
    },
    {
      "cell_type": "code",
      "source": [
        "# replace with code to print classification report\n",
        "print(classification_report(y_test, predictions))"
      ],
      "metadata": {
        "id": "VfkaGIP9dsQi",
        "colab": {
          "base_uri": "https://localhost:8080/"
        },
        "outputId": "beff43ce-548c-4d6f-ac34-df749370b5ac"
      },
      "execution_count": null,
      "outputs": [
        {
          "output_type": "stream",
          "name": "stdout",
          "text": [
            "              precision    recall  f1-score   support\n",
            "\n",
            "    bankrupt       0.45      0.74      0.56        68\n",
            "         ipo       0.56      0.50      0.53        36\n",
            "soldoff-high       0.65      0.46      0.54        87\n",
            " soldoff-low       0.57      0.41      0.48        51\n",
            "\n",
            "    accuracy                           0.53       242\n",
            "   macro avg       0.56      0.53      0.53       242\n",
            "weighted avg       0.56      0.53      0.53       242\n",
            "\n"
          ]
        }
      ]
    },
    {
      "cell_type": "markdown",
      "source": [
        "### **Model 3:**\n",
        "\n",
        "* `criterion` = gini\n",
        "* `max_depth` = 8\n",
        "* `min_samples_leaf` = 6\n",
        "* `min_impurity_decrease` = 0.003"
      ],
      "metadata": {
        "id": "2yM0Fa89dsr9"
      }
    },
    {
      "cell_type": "code",
      "source": [
        "# replace with code to specify DecisionTreeClassifier parameters\n",
        "model3 = DecisionTreeClassifier(criterion = \"gini\", random_state=100, max_depth=8, min_samples_leaf=6, min_impurity_decrease=0.003)\n",
        "# replace with code to fit model to training data\n",
        "model3.fit(x_train, y_train)"
      ],
      "metadata": {
        "id": "tgu87Wx_d0lZ",
        "colab": {
          "base_uri": "https://localhost:8080/",
          "height": 92
        },
        "outputId": "f8ead533-1d97-4469-cf54-e0dbb8644719"
      },
      "execution_count": null,
      "outputs": [
        {
          "output_type": "execute_result",
          "data": {
            "text/plain": [
              "DecisionTreeClassifier(max_depth=8, min_impurity_decrease=0.003,\n",
              "                       min_samples_leaf=6, random_state=100)"
            ],
            "text/html": [
              "<style>#sk-container-id-3 {color: black;background-color: white;}#sk-container-id-3 pre{padding: 0;}#sk-container-id-3 div.sk-toggleable {background-color: white;}#sk-container-id-3 label.sk-toggleable__label {cursor: pointer;display: block;width: 100%;margin-bottom: 0;padding: 0.3em;box-sizing: border-box;text-align: center;}#sk-container-id-3 label.sk-toggleable__label-arrow:before {content: \"▸\";float: left;margin-right: 0.25em;color: #696969;}#sk-container-id-3 label.sk-toggleable__label-arrow:hover:before {color: black;}#sk-container-id-3 div.sk-estimator:hover label.sk-toggleable__label-arrow:before {color: black;}#sk-container-id-3 div.sk-toggleable__content {max-height: 0;max-width: 0;overflow: hidden;text-align: left;background-color: #f0f8ff;}#sk-container-id-3 div.sk-toggleable__content pre {margin: 0.2em;color: black;border-radius: 0.25em;background-color: #f0f8ff;}#sk-container-id-3 input.sk-toggleable__control:checked~div.sk-toggleable__content {max-height: 200px;max-width: 100%;overflow: auto;}#sk-container-id-3 input.sk-toggleable__control:checked~label.sk-toggleable__label-arrow:before {content: \"▾\";}#sk-container-id-3 div.sk-estimator input.sk-toggleable__control:checked~label.sk-toggleable__label {background-color: #d4ebff;}#sk-container-id-3 div.sk-label input.sk-toggleable__control:checked~label.sk-toggleable__label {background-color: #d4ebff;}#sk-container-id-3 input.sk-hidden--visually {border: 0;clip: rect(1px 1px 1px 1px);clip: rect(1px, 1px, 1px, 1px);height: 1px;margin: -1px;overflow: hidden;padding: 0;position: absolute;width: 1px;}#sk-container-id-3 div.sk-estimator {font-family: monospace;background-color: #f0f8ff;border: 1px dotted black;border-radius: 0.25em;box-sizing: border-box;margin-bottom: 0.5em;}#sk-container-id-3 div.sk-estimator:hover {background-color: #d4ebff;}#sk-container-id-3 div.sk-parallel-item::after {content: \"\";width: 100%;border-bottom: 1px solid gray;flex-grow: 1;}#sk-container-id-3 div.sk-label:hover label.sk-toggleable__label {background-color: #d4ebff;}#sk-container-id-3 div.sk-serial::before {content: \"\";position: absolute;border-left: 1px solid gray;box-sizing: border-box;top: 0;bottom: 0;left: 50%;z-index: 0;}#sk-container-id-3 div.sk-serial {display: flex;flex-direction: column;align-items: center;background-color: white;padding-right: 0.2em;padding-left: 0.2em;position: relative;}#sk-container-id-3 div.sk-item {position: relative;z-index: 1;}#sk-container-id-3 div.sk-parallel {display: flex;align-items: stretch;justify-content: center;background-color: white;position: relative;}#sk-container-id-3 div.sk-item::before, #sk-container-id-3 div.sk-parallel-item::before {content: \"\";position: absolute;border-left: 1px solid gray;box-sizing: border-box;top: 0;bottom: 0;left: 50%;z-index: -1;}#sk-container-id-3 div.sk-parallel-item {display: flex;flex-direction: column;z-index: 1;position: relative;background-color: white;}#sk-container-id-3 div.sk-parallel-item:first-child::after {align-self: flex-end;width: 50%;}#sk-container-id-3 div.sk-parallel-item:last-child::after {align-self: flex-start;width: 50%;}#sk-container-id-3 div.sk-parallel-item:only-child::after {width: 0;}#sk-container-id-3 div.sk-dashed-wrapped {border: 1px dashed gray;margin: 0 0.4em 0.5em 0.4em;box-sizing: border-box;padding-bottom: 0.4em;background-color: white;}#sk-container-id-3 div.sk-label label {font-family: monospace;font-weight: bold;display: inline-block;line-height: 1.2em;}#sk-container-id-3 div.sk-label-container {text-align: center;}#sk-container-id-3 div.sk-container {/* jupyter's `normalize.less` sets `[hidden] { display: none; }` but bootstrap.min.css set `[hidden] { display: none !important; }` so we also need the `!important` here to be able to override the default hidden behavior on the sphinx rendered scikit-learn.org. See: https://github.com/scikit-learn/scikit-learn/issues/21755 */display: inline-block !important;position: relative;}#sk-container-id-3 div.sk-text-repr-fallback {display: none;}</style><div id=\"sk-container-id-3\" class=\"sk-top-container\"><div class=\"sk-text-repr-fallback\"><pre>DecisionTreeClassifier(max_depth=8, min_impurity_decrease=0.003,\n",
              "                       min_samples_leaf=6, random_state=100)</pre><b>In a Jupyter environment, please rerun this cell to show the HTML representation or trust the notebook. <br />On GitHub, the HTML representation is unable to render, please try loading this page with nbviewer.org.</b></div><div class=\"sk-container\" hidden><div class=\"sk-item\"><div class=\"sk-estimator sk-toggleable\"><input class=\"sk-toggleable__control sk-hidden--visually\" id=\"sk-estimator-id-3\" type=\"checkbox\" checked><label for=\"sk-estimator-id-3\" class=\"sk-toggleable__label sk-toggleable__label-arrow\">DecisionTreeClassifier</label><div class=\"sk-toggleable__content\"><pre>DecisionTreeClassifier(max_depth=8, min_impurity_decrease=0.003,\n",
              "                       min_samples_leaf=6, random_state=100)</pre></div></div></div></div></div>"
            ]
          },
          "metadata": {},
          "execution_count": 17
        }
      ]
    },
    {
      "cell_type": "code",
      "source": [
        "# replace with code to predict model3 onto x_test\n",
        "predictions = model3.predict(x_test)"
      ],
      "metadata": {
        "id": "Xn9cFhhFd1FG"
      },
      "execution_count": null,
      "outputs": []
    },
    {
      "cell_type": "code",
      "source": [
        "# replace with code to print classification report\n",
        "print(classification_report(y_test, predictions))"
      ],
      "metadata": {
        "id": "BAgRXt-Jd08F",
        "colab": {
          "base_uri": "https://localhost:8080/"
        },
        "outputId": "7f8b1c77-c5bf-4f0d-ae8a-b3b3d8b650f1"
      },
      "execution_count": null,
      "outputs": [
        {
          "output_type": "stream",
          "name": "stdout",
          "text": [
            "              precision    recall  f1-score   support\n",
            "\n",
            "    bankrupt       0.53      0.75      0.62        68\n",
            "         ipo       0.94      0.42      0.58        36\n",
            "soldoff-high       0.60      0.57      0.59        87\n",
            " soldoff-low       0.47      0.43      0.45        51\n",
            "\n",
            "    accuracy                           0.57       242\n",
            "   macro avg       0.63      0.54      0.56       242\n",
            "weighted avg       0.60      0.57      0.57       242\n",
            "\n"
          ]
        }
      ]
    },
    {
      "cell_type": "markdown",
      "source": [
        "### **Model 4:**\n",
        "\n",
        "* `criterion` = log_loss\n",
        "* `max_depth` = 8\n",
        "* `min_samples_leaf` = 6\n",
        "* `min_impurity_decrease` = 0.002"
      ],
      "metadata": {
        "id": "UMFVCnYad1e0"
      }
    },
    {
      "cell_type": "code",
      "source": [
        "# replace with code to specify DecisionTreeClassifier parameters\n",
        "model4 = DecisionTreeClassifier(criterion = \"log_loss\", random_state=100, max_depth=8, min_samples_leaf=6, min_impurity_decrease=0.002)\n",
        "# replace with code to fit model to training data\n",
        "model4.fit(x_train, y_train)"
      ],
      "metadata": {
        "id": "qIubs97ed3bh",
        "colab": {
          "base_uri": "https://localhost:8080/",
          "height": 109
        },
        "outputId": "94146964-692b-4e41-dfac-fbea082440a6"
      },
      "execution_count": null,
      "outputs": [
        {
          "output_type": "execute_result",
          "data": {
            "text/plain": [
              "DecisionTreeClassifier(criterion='log_loss', max_depth=8,\n",
              "                       min_impurity_decrease=0.002, min_samples_leaf=6,\n",
              "                       random_state=100)"
            ],
            "text/html": [
              "<style>#sk-container-id-4 {color: black;background-color: white;}#sk-container-id-4 pre{padding: 0;}#sk-container-id-4 div.sk-toggleable {background-color: white;}#sk-container-id-4 label.sk-toggleable__label {cursor: pointer;display: block;width: 100%;margin-bottom: 0;padding: 0.3em;box-sizing: border-box;text-align: center;}#sk-container-id-4 label.sk-toggleable__label-arrow:before {content: \"▸\";float: left;margin-right: 0.25em;color: #696969;}#sk-container-id-4 label.sk-toggleable__label-arrow:hover:before {color: black;}#sk-container-id-4 div.sk-estimator:hover label.sk-toggleable__label-arrow:before {color: black;}#sk-container-id-4 div.sk-toggleable__content {max-height: 0;max-width: 0;overflow: hidden;text-align: left;background-color: #f0f8ff;}#sk-container-id-4 div.sk-toggleable__content pre {margin: 0.2em;color: black;border-radius: 0.25em;background-color: #f0f8ff;}#sk-container-id-4 input.sk-toggleable__control:checked~div.sk-toggleable__content {max-height: 200px;max-width: 100%;overflow: auto;}#sk-container-id-4 input.sk-toggleable__control:checked~label.sk-toggleable__label-arrow:before {content: \"▾\";}#sk-container-id-4 div.sk-estimator input.sk-toggleable__control:checked~label.sk-toggleable__label {background-color: #d4ebff;}#sk-container-id-4 div.sk-label input.sk-toggleable__control:checked~label.sk-toggleable__label {background-color: #d4ebff;}#sk-container-id-4 input.sk-hidden--visually {border: 0;clip: rect(1px 1px 1px 1px);clip: rect(1px, 1px, 1px, 1px);height: 1px;margin: -1px;overflow: hidden;padding: 0;position: absolute;width: 1px;}#sk-container-id-4 div.sk-estimator {font-family: monospace;background-color: #f0f8ff;border: 1px dotted black;border-radius: 0.25em;box-sizing: border-box;margin-bottom: 0.5em;}#sk-container-id-4 div.sk-estimator:hover {background-color: #d4ebff;}#sk-container-id-4 div.sk-parallel-item::after {content: \"\";width: 100%;border-bottom: 1px solid gray;flex-grow: 1;}#sk-container-id-4 div.sk-label:hover label.sk-toggleable__label {background-color: #d4ebff;}#sk-container-id-4 div.sk-serial::before {content: \"\";position: absolute;border-left: 1px solid gray;box-sizing: border-box;top: 0;bottom: 0;left: 50%;z-index: 0;}#sk-container-id-4 div.sk-serial {display: flex;flex-direction: column;align-items: center;background-color: white;padding-right: 0.2em;padding-left: 0.2em;position: relative;}#sk-container-id-4 div.sk-item {position: relative;z-index: 1;}#sk-container-id-4 div.sk-parallel {display: flex;align-items: stretch;justify-content: center;background-color: white;position: relative;}#sk-container-id-4 div.sk-item::before, #sk-container-id-4 div.sk-parallel-item::before {content: \"\";position: absolute;border-left: 1px solid gray;box-sizing: border-box;top: 0;bottom: 0;left: 50%;z-index: -1;}#sk-container-id-4 div.sk-parallel-item {display: flex;flex-direction: column;z-index: 1;position: relative;background-color: white;}#sk-container-id-4 div.sk-parallel-item:first-child::after {align-self: flex-end;width: 50%;}#sk-container-id-4 div.sk-parallel-item:last-child::after {align-self: flex-start;width: 50%;}#sk-container-id-4 div.sk-parallel-item:only-child::after {width: 0;}#sk-container-id-4 div.sk-dashed-wrapped {border: 1px dashed gray;margin: 0 0.4em 0.5em 0.4em;box-sizing: border-box;padding-bottom: 0.4em;background-color: white;}#sk-container-id-4 div.sk-label label {font-family: monospace;font-weight: bold;display: inline-block;line-height: 1.2em;}#sk-container-id-4 div.sk-label-container {text-align: center;}#sk-container-id-4 div.sk-container {/* jupyter's `normalize.less` sets `[hidden] { display: none; }` but bootstrap.min.css set `[hidden] { display: none !important; }` so we also need the `!important` here to be able to override the default hidden behavior on the sphinx rendered scikit-learn.org. See: https://github.com/scikit-learn/scikit-learn/issues/21755 */display: inline-block !important;position: relative;}#sk-container-id-4 div.sk-text-repr-fallback {display: none;}</style><div id=\"sk-container-id-4\" class=\"sk-top-container\"><div class=\"sk-text-repr-fallback\"><pre>DecisionTreeClassifier(criterion=&#x27;log_loss&#x27;, max_depth=8,\n",
              "                       min_impurity_decrease=0.002, min_samples_leaf=6,\n",
              "                       random_state=100)</pre><b>In a Jupyter environment, please rerun this cell to show the HTML representation or trust the notebook. <br />On GitHub, the HTML representation is unable to render, please try loading this page with nbviewer.org.</b></div><div class=\"sk-container\" hidden><div class=\"sk-item\"><div class=\"sk-estimator sk-toggleable\"><input class=\"sk-toggleable__control sk-hidden--visually\" id=\"sk-estimator-id-4\" type=\"checkbox\" checked><label for=\"sk-estimator-id-4\" class=\"sk-toggleable__label sk-toggleable__label-arrow\">DecisionTreeClassifier</label><div class=\"sk-toggleable__content\"><pre>DecisionTreeClassifier(criterion=&#x27;log_loss&#x27;, max_depth=8,\n",
              "                       min_impurity_decrease=0.002, min_samples_leaf=6,\n",
              "                       random_state=100)</pre></div></div></div></div></div>"
            ]
          },
          "metadata": {},
          "execution_count": 20
        }
      ]
    },
    {
      "cell_type": "code",
      "source": [
        "# replace with code to predict model4 onto x_test\n",
        "predictions = model4.predict(x_test)"
      ],
      "metadata": {
        "id": "W-CKoPIhd3UW"
      },
      "execution_count": null,
      "outputs": []
    },
    {
      "cell_type": "code",
      "source": [
        "# replace with code to print classification report\n",
        "print(classification_report(y_test, predictions))"
      ],
      "metadata": {
        "id": "OtMF2OfFd3Lm",
        "colab": {
          "base_uri": "https://localhost:8080/"
        },
        "outputId": "6b4f3321-77ca-4279-94cd-676d921a427e"
      },
      "execution_count": null,
      "outputs": [
        {
          "output_type": "stream",
          "name": "stdout",
          "text": [
            "              precision    recall  f1-score   support\n",
            "\n",
            "    bankrupt       0.48      0.66      0.56        68\n",
            "         ipo       0.59      0.53      0.56        36\n",
            "soldoff-high       0.60      0.60      0.60        87\n",
            " soldoff-low       0.55      0.31      0.40        51\n",
            "\n",
            "    accuracy                           0.55       242\n",
            "   macro avg       0.56      0.53      0.53       242\n",
            "weighted avg       0.55      0.55      0.54       242\n",
            "\n"
          ]
        }
      ]
    },
    {
      "cell_type": "markdown",
      "source": [
        "## A\n",
        "\n",
        "**What parameters led to the best-performing (highest overall accuracy) model? What was the highest accuracy achieved?**"
      ],
      "metadata": {
        "id": "Xp9N_pe3eX0o"
      }
    },
    {
      "cell_type": "markdown",
      "source": [
        "* criterion = gini\n",
        "* max_depth = 8\n",
        "* min_samples_leaf = 6\n",
        "* min_impurity_decrease = 0.003\n",
        "\n",
        "\n",
        "---\n",
        "\n",
        "\n",
        "* This model (model3) let to the highest accuracy, of 57%"
      ],
      "metadata": {
        "id": "eayDeM8pegVK"
      }
    },
    {
      "cell_type": "markdown",
      "source": [
        "## B\n",
        "\n",
        "**Plot your best performing decision tree using the `export_graphviz` function from the `tree` library.**"
      ],
      "metadata": {
        "id": "dE5B_sRheuXD"
      }
    },
    {
      "cell_type": "code",
      "source": [
        "# replace with code to plot tree of best performing model\n",
        "labels = y.value_counts()\n",
        "dot_data = tree.export_graphviz(model3, out_file=None,\n",
        "                                feature_names=x.columns,\n",
        "                                class_names=labels.index.values,\n",
        "                                filled=True)\n",
        "\n",
        "# Draws graph\n",
        "graph = graphviz.Source(dot_data, format=\"png\")\n",
        "graph"
      ],
      "metadata": {
        "id": "JTyoOrSOgDPm"
      },
      "execution_count": null,
      "outputs": []
    },
    {
      "cell_type": "markdown",
      "source": [
        "# Q5\n",
        "\n",
        "**Arcturus has $11.5 million to invest and is considering from among 23 applicant firms. Create a Decision Trees model using your most accurate model (i.e., whichever model from Model 1-4 has the highest accuracy percentage), then apply the model as necessary to make predictions regarding the applicant firms.**\n",
        "\n",
        "**Data regarding these applicant firms can be found in the `fund-applicants.csv` data file. Note that there is no “outcome” column (the outcome hasn’t happened yet!).**\n",
        "\n",
        "**However, there is an `amount` column, which indicates the requested funding amount. Arcturus wants to make as much money as possible by investing its \\$11.5 million, which may require this amount be spread across multiple companies. However, for any specific applicant company, Arcturus must either invest the full requested amount or not at all (e.g., if a company has requested $2,500,000, then Arcturus must either invest \\$2,500,000 or make no investment in the company).**\n",
        "\n",
        "**Begin by importing the `fund-applicant.csv` file, then apply your best model to this new data (after taking any required preprocessing steps).**\n"
      ],
      "metadata": {
        "id": "9-5BKgd5e9sR"
      }
    },
    {
      "cell_type": "code",
      "source": [
        "# replace with code to import fund-applicants.csv dataset, name this df something different (df_2)\n",
        "df_2 = pd.read_csv('/content/fund-applicants.csv')\n",
        "# replace with code to produce heading\n",
        "df_2.head()"
      ],
      "metadata": {
        "id": "6wdDlWEBg59s",
        "colab": {
          "base_uri": "https://localhost:8080/",
          "height": 206
        },
        "outputId": "11efb1e1-b60a-4ba9-cb32-7fd93daa672c"
      },
      "execution_count": null,
      "outputs": [
        {
          "output_type": "execute_result",
          "data": {
            "text/plain": [
              "   id    industry  months  pfunding  patents  smember  elites   amount\n",
              "0   1        tech      36   6800000        1        0       4  4000000\n",
              "1   2       media      23   6300000        0        1       3  1700000\n",
              "2   3  healthcare      27   6100000        0        1       0  3000000\n",
              "3   4        tech      18   3500000        0        0       8  2500000\n",
              "4   5        tech      24   4800000        0        1       6  4000000"
            ],
            "text/html": [
              "\n",
              "  <div id=\"df-18b5d77a-b050-4595-9379-17d44119d9bb\" class=\"colab-df-container\">\n",
              "    <div>\n",
              "<style scoped>\n",
              "    .dataframe tbody tr th:only-of-type {\n",
              "        vertical-align: middle;\n",
              "    }\n",
              "\n",
              "    .dataframe tbody tr th {\n",
              "        vertical-align: top;\n",
              "    }\n",
              "\n",
              "    .dataframe thead th {\n",
              "        text-align: right;\n",
              "    }\n",
              "</style>\n",
              "<table border=\"1\" class=\"dataframe\">\n",
              "  <thead>\n",
              "    <tr style=\"text-align: right;\">\n",
              "      <th></th>\n",
              "      <th>id</th>\n",
              "      <th>industry</th>\n",
              "      <th>months</th>\n",
              "      <th>pfunding</th>\n",
              "      <th>patents</th>\n",
              "      <th>smember</th>\n",
              "      <th>elites</th>\n",
              "      <th>amount</th>\n",
              "    </tr>\n",
              "  </thead>\n",
              "  <tbody>\n",
              "    <tr>\n",
              "      <th>0</th>\n",
              "      <td>1</td>\n",
              "      <td>tech</td>\n",
              "      <td>36</td>\n",
              "      <td>6800000</td>\n",
              "      <td>1</td>\n",
              "      <td>0</td>\n",
              "      <td>4</td>\n",
              "      <td>4000000</td>\n",
              "    </tr>\n",
              "    <tr>\n",
              "      <th>1</th>\n",
              "      <td>2</td>\n",
              "      <td>media</td>\n",
              "      <td>23</td>\n",
              "      <td>6300000</td>\n",
              "      <td>0</td>\n",
              "      <td>1</td>\n",
              "      <td>3</td>\n",
              "      <td>1700000</td>\n",
              "    </tr>\n",
              "    <tr>\n",
              "      <th>2</th>\n",
              "      <td>3</td>\n",
              "      <td>healthcare</td>\n",
              "      <td>27</td>\n",
              "      <td>6100000</td>\n",
              "      <td>0</td>\n",
              "      <td>1</td>\n",
              "      <td>0</td>\n",
              "      <td>3000000</td>\n",
              "    </tr>\n",
              "    <tr>\n",
              "      <th>3</th>\n",
              "      <td>4</td>\n",
              "      <td>tech</td>\n",
              "      <td>18</td>\n",
              "      <td>3500000</td>\n",
              "      <td>0</td>\n",
              "      <td>0</td>\n",
              "      <td>8</td>\n",
              "      <td>2500000</td>\n",
              "    </tr>\n",
              "    <tr>\n",
              "      <th>4</th>\n",
              "      <td>5</td>\n",
              "      <td>tech</td>\n",
              "      <td>24</td>\n",
              "      <td>4800000</td>\n",
              "      <td>0</td>\n",
              "      <td>1</td>\n",
              "      <td>6</td>\n",
              "      <td>4000000</td>\n",
              "    </tr>\n",
              "  </tbody>\n",
              "</table>\n",
              "</div>\n",
              "    <div class=\"colab-df-buttons\">\n",
              "\n",
              "  <div class=\"colab-df-container\">\n",
              "    <button class=\"colab-df-convert\" onclick=\"convertToInteractive('df-18b5d77a-b050-4595-9379-17d44119d9bb')\"\n",
              "            title=\"Convert this dataframe to an interactive table.\"\n",
              "            style=\"display:none;\">\n",
              "\n",
              "  <svg xmlns=\"http://www.w3.org/2000/svg\" height=\"24px\" viewBox=\"0 -960 960 960\">\n",
              "    <path d=\"M120-120v-720h720v720H120Zm60-500h600v-160H180v160Zm220 220h160v-160H400v160Zm0 220h160v-160H400v160ZM180-400h160v-160H180v160Zm440 0h160v-160H620v160ZM180-180h160v-160H180v160Zm440 0h160v-160H620v160Z\"/>\n",
              "  </svg>\n",
              "    </button>\n",
              "\n",
              "  <style>\n",
              "    .colab-df-container {\n",
              "      display:flex;\n",
              "      gap: 12px;\n",
              "    }\n",
              "\n",
              "    .colab-df-convert {\n",
              "      background-color: #E8F0FE;\n",
              "      border: none;\n",
              "      border-radius: 50%;\n",
              "      cursor: pointer;\n",
              "      display: none;\n",
              "      fill: #1967D2;\n",
              "      height: 32px;\n",
              "      padding: 0 0 0 0;\n",
              "      width: 32px;\n",
              "    }\n",
              "\n",
              "    .colab-df-convert:hover {\n",
              "      background-color: #E2EBFA;\n",
              "      box-shadow: 0px 1px 2px rgba(60, 64, 67, 0.3), 0px 1px 3px 1px rgba(60, 64, 67, 0.15);\n",
              "      fill: #174EA6;\n",
              "    }\n",
              "\n",
              "    .colab-df-buttons div {\n",
              "      margin-bottom: 4px;\n",
              "    }\n",
              "\n",
              "    [theme=dark] .colab-df-convert {\n",
              "      background-color: #3B4455;\n",
              "      fill: #D2E3FC;\n",
              "    }\n",
              "\n",
              "    [theme=dark] .colab-df-convert:hover {\n",
              "      background-color: #434B5C;\n",
              "      box-shadow: 0px 1px 3px 1px rgba(0, 0, 0, 0.15);\n",
              "      filter: drop-shadow(0px 1px 2px rgba(0, 0, 0, 0.3));\n",
              "      fill: #FFFFFF;\n",
              "    }\n",
              "  </style>\n",
              "\n",
              "    <script>\n",
              "      const buttonEl =\n",
              "        document.querySelector('#df-18b5d77a-b050-4595-9379-17d44119d9bb button.colab-df-convert');\n",
              "      buttonEl.style.display =\n",
              "        google.colab.kernel.accessAllowed ? 'block' : 'none';\n",
              "\n",
              "      async function convertToInteractive(key) {\n",
              "        const element = document.querySelector('#df-18b5d77a-b050-4595-9379-17d44119d9bb');\n",
              "        const dataTable =\n",
              "          await google.colab.kernel.invokeFunction('convertToInteractive',\n",
              "                                                    [key], {});\n",
              "        if (!dataTable) return;\n",
              "\n",
              "        const docLinkHtml = 'Like what you see? Visit the ' +\n",
              "          '<a target=\"_blank\" href=https://colab.research.google.com/notebooks/data_table.ipynb>data table notebook</a>'\n",
              "          + ' to learn more about interactive tables.';\n",
              "        element.innerHTML = '';\n",
              "        dataTable['output_type'] = 'display_data';\n",
              "        await google.colab.output.renderOutput(dataTable, element);\n",
              "        const docLink = document.createElement('div');\n",
              "        docLink.innerHTML = docLinkHtml;\n",
              "        element.appendChild(docLink);\n",
              "      }\n",
              "    </script>\n",
              "  </div>\n",
              "\n",
              "\n",
              "<div id=\"df-a0336232-efa6-4137-bb87-6e3430bae598\">\n",
              "  <button class=\"colab-df-quickchart\" onclick=\"quickchart('df-a0336232-efa6-4137-bb87-6e3430bae598')\"\n",
              "            title=\"Suggest charts\"\n",
              "            style=\"display:none;\">\n",
              "\n",
              "<svg xmlns=\"http://www.w3.org/2000/svg\" height=\"24px\"viewBox=\"0 0 24 24\"\n",
              "     width=\"24px\">\n",
              "    <g>\n",
              "        <path d=\"M19 3H5c-1.1 0-2 .9-2 2v14c0 1.1.9 2 2 2h14c1.1 0 2-.9 2-2V5c0-1.1-.9-2-2-2zM9 17H7v-7h2v7zm4 0h-2V7h2v10zm4 0h-2v-4h2v4z\"/>\n",
              "    </g>\n",
              "</svg>\n",
              "  </button>\n",
              "\n",
              "<style>\n",
              "  .colab-df-quickchart {\n",
              "      --bg-color: #E8F0FE;\n",
              "      --fill-color: #1967D2;\n",
              "      --hover-bg-color: #E2EBFA;\n",
              "      --hover-fill-color: #174EA6;\n",
              "      --disabled-fill-color: #AAA;\n",
              "      --disabled-bg-color: #DDD;\n",
              "  }\n",
              "\n",
              "  [theme=dark] .colab-df-quickchart {\n",
              "      --bg-color: #3B4455;\n",
              "      --fill-color: #D2E3FC;\n",
              "      --hover-bg-color: #434B5C;\n",
              "      --hover-fill-color: #FFFFFF;\n",
              "      --disabled-bg-color: #3B4455;\n",
              "      --disabled-fill-color: #666;\n",
              "  }\n",
              "\n",
              "  .colab-df-quickchart {\n",
              "    background-color: var(--bg-color);\n",
              "    border: none;\n",
              "    border-radius: 50%;\n",
              "    cursor: pointer;\n",
              "    display: none;\n",
              "    fill: var(--fill-color);\n",
              "    height: 32px;\n",
              "    padding: 0;\n",
              "    width: 32px;\n",
              "  }\n",
              "\n",
              "  .colab-df-quickchart:hover {\n",
              "    background-color: var(--hover-bg-color);\n",
              "    box-shadow: 0 1px 2px rgba(60, 64, 67, 0.3), 0 1px 3px 1px rgba(60, 64, 67, 0.15);\n",
              "    fill: var(--button-hover-fill-color);\n",
              "  }\n",
              "\n",
              "  .colab-df-quickchart-complete:disabled,\n",
              "  .colab-df-quickchart-complete:disabled:hover {\n",
              "    background-color: var(--disabled-bg-color);\n",
              "    fill: var(--disabled-fill-color);\n",
              "    box-shadow: none;\n",
              "  }\n",
              "\n",
              "  .colab-df-spinner {\n",
              "    border: 2px solid var(--fill-color);\n",
              "    border-color: transparent;\n",
              "    border-bottom-color: var(--fill-color);\n",
              "    animation:\n",
              "      spin 1s steps(1) infinite;\n",
              "  }\n",
              "\n",
              "  @keyframes spin {\n",
              "    0% {\n",
              "      border-color: transparent;\n",
              "      border-bottom-color: var(--fill-color);\n",
              "      border-left-color: var(--fill-color);\n",
              "    }\n",
              "    20% {\n",
              "      border-color: transparent;\n",
              "      border-left-color: var(--fill-color);\n",
              "      border-top-color: var(--fill-color);\n",
              "    }\n",
              "    30% {\n",
              "      border-color: transparent;\n",
              "      border-left-color: var(--fill-color);\n",
              "      border-top-color: var(--fill-color);\n",
              "      border-right-color: var(--fill-color);\n",
              "    }\n",
              "    40% {\n",
              "      border-color: transparent;\n",
              "      border-right-color: var(--fill-color);\n",
              "      border-top-color: var(--fill-color);\n",
              "    }\n",
              "    60% {\n",
              "      border-color: transparent;\n",
              "      border-right-color: var(--fill-color);\n",
              "    }\n",
              "    80% {\n",
              "      border-color: transparent;\n",
              "      border-right-color: var(--fill-color);\n",
              "      border-bottom-color: var(--fill-color);\n",
              "    }\n",
              "    90% {\n",
              "      border-color: transparent;\n",
              "      border-bottom-color: var(--fill-color);\n",
              "    }\n",
              "  }\n",
              "</style>\n",
              "\n",
              "  <script>\n",
              "    async function quickchart(key) {\n",
              "      const quickchartButtonEl =\n",
              "        document.querySelector('#' + key + ' button');\n",
              "      quickchartButtonEl.disabled = true;  // To prevent multiple clicks.\n",
              "      quickchartButtonEl.classList.add('colab-df-spinner');\n",
              "      try {\n",
              "        const charts = await google.colab.kernel.invokeFunction(\n",
              "            'suggestCharts', [key], {});\n",
              "      } catch (error) {\n",
              "        console.error('Error during call to suggestCharts:', error);\n",
              "      }\n",
              "      quickchartButtonEl.classList.remove('colab-df-spinner');\n",
              "      quickchartButtonEl.classList.add('colab-df-quickchart-complete');\n",
              "    }\n",
              "    (() => {\n",
              "      let quickchartButtonEl =\n",
              "        document.querySelector('#df-a0336232-efa6-4137-bb87-6e3430bae598 button');\n",
              "      quickchartButtonEl.style.display =\n",
              "        google.colab.kernel.accessAllowed ? 'block' : 'none';\n",
              "    })();\n",
              "  </script>\n",
              "</div>\n",
              "    </div>\n",
              "  </div>\n"
            ],
            "application/vnd.google.colaboratory.intrinsic+json": {
              "type": "dataframe",
              "variable_name": "df_2",
              "summary": "{\n  \"name\": \"df_2\",\n  \"rows\": 23,\n  \"fields\": [\n    {\n      \"column\": \"id\",\n      \"properties\": {\n        \"dtype\": \"number\",\n        \"std\": 6,\n        \"min\": 1,\n        \"max\": 23,\n        \"num_unique_values\": 23,\n        \"samples\": [\n          16,\n          10,\n          1\n        ],\n        \"semantic_type\": \"\",\n        \"description\": \"\"\n      }\n    },\n    {\n      \"column\": \"industry\",\n      \"properties\": {\n        \"dtype\": \"category\",\n        \"num_unique_values\": 4,\n        \"samples\": [\n          \"media\",\n          \"defense\",\n          \"tech\"\n        ],\n        \"semantic_type\": \"\",\n        \"description\": \"\"\n      }\n    },\n    {\n      \"column\": \"months\",\n      \"properties\": {\n        \"dtype\": \"number\",\n        \"std\": 6,\n        \"min\": 18,\n        \"max\": 41,\n        \"num_unique_values\": 16,\n        \"samples\": [\n          36,\n          23,\n          39\n        ],\n        \"semantic_type\": \"\",\n        \"description\": \"\"\n      }\n    },\n    {\n      \"column\": \"pfunding\",\n      \"properties\": {\n        \"dtype\": \"number\",\n        \"std\": 1980198,\n        \"min\": 500000,\n        \"max\": 7900000,\n        \"num_unique_values\": 22,\n        \"samples\": [\n          6800000,\n          2500000,\n          7800000\n        ],\n        \"semantic_type\": \"\",\n        \"description\": \"\"\n      }\n    },\n    {\n      \"column\": \"patents\",\n      \"properties\": {\n        \"dtype\": \"number\",\n        \"std\": 0,\n        \"min\": 0,\n        \"max\": 1,\n        \"num_unique_values\": 2,\n        \"samples\": [\n          0,\n          1\n        ],\n        \"semantic_type\": \"\",\n        \"description\": \"\"\n      }\n    },\n    {\n      \"column\": \"smember\",\n      \"properties\": {\n        \"dtype\": \"number\",\n        \"std\": 0,\n        \"min\": 0,\n        \"max\": 1,\n        \"num_unique_values\": 2,\n        \"samples\": [\n          1,\n          0\n        ],\n        \"semantic_type\": \"\",\n        \"description\": \"\"\n      }\n    },\n    {\n      \"column\": \"elites\",\n      \"properties\": {\n        \"dtype\": \"number\",\n        \"std\": 3,\n        \"min\": 0,\n        \"max\": 10,\n        \"num_unique_values\": 10,\n        \"samples\": [\n          5,\n          3\n        ],\n        \"semantic_type\": \"\",\n        \"description\": \"\"\n      }\n    },\n    {\n      \"column\": \"amount\",\n      \"properties\": {\n        \"dtype\": \"number\",\n        \"std\": 1284600,\n        \"min\": 1000000,\n        \"max\": 5000000,\n        \"num_unique_values\": 12,\n        \"samples\": [\n          2000000,\n          3600000\n        ],\n        \"semantic_type\": \"\",\n        \"description\": \"\"\n      }\n    }\n  ]\n}"
            }
          },
          "metadata": {},
          "execution_count": 24
        }
      ]
    },
    {
      "cell_type": "code",
      "source": [
        "# replace with code to select IVs to include in analysis, assign to object called 'x'\n",
        "x = df_2.drop(['id', 'amount'], axis=1)\n",
        "# replace with code to dummy code categorical variables\n",
        "x = pd.get_dummies(data = x, drop_first=False)"
      ],
      "metadata": {
        "id": "C5iydLj4hDik"
      },
      "execution_count": null,
      "outputs": []
    },
    {
      "cell_type": "markdown",
      "source": [
        "## A\n",
        "\n",
        "**In addition to producing the predicted outcomes, also compute the predicted probabilities of the outcome using the `model.predict_proba()` function.**\n",
        "\n",
        "**Add both the predicted outcome and the predicted probability as columns to the your dataframe.**"
      ],
      "metadata": {
        "id": "ORzTzbO9l3og"
      }
    },
    {
      "cell_type": "code",
      "source": [
        "# replace with code to fit final model to x, assign to object called 'predictions'\n",
        "predictions = model3.predict(x)\n",
        "# replace with code to produce predicted probabilities of outcome classes, assign to object called 'proba'\n",
        "proba = np.max(model3.predict_proba(x), axis=1)"
      ],
      "metadata": {
        "id": "DCcLF2ZqhQrE"
      },
      "execution_count": null,
      "outputs": []
    },
    {
      "cell_type": "code",
      "source": [
        "# replace with code to assign predictions to a new column in new df (dataset you just imported) called 'Predicted_Class'\n",
        "df_2['predicted_class'] = predictions\n",
        "# replace with code to assign proba to a new column in new df (dataset you just imported) called 'Predicted_Prob'\n",
        "df_2['predicted_prob'] = proba"
      ],
      "metadata": {
        "id": "bbcFG76Ph8C7"
      },
      "execution_count": null,
      "outputs": []
    },
    {
      "cell_type": "markdown",
      "source": [
        "## B\n",
        "\n",
        "**Describe what the predicted probabilities colum indicates (i.e., what do those values mean?). Are these probabilities based on the training or the test set?**"
      ],
      "metadata": {
        "id": "cWiAEabIlxF2"
      }
    },
    {
      "cell_type": "markdown",
      "source": [
        "The probabilities column displays how confident we are that the predicted outcome will occur. The they display the probability that the corresponding predicted outcome will occur. They are based off the training set."
      ],
      "metadata": {
        "id": "iCV2WcoYmpmE"
      }
    },
    {
      "cell_type": "markdown",
      "source": [
        "## C\n",
        "\n",
        "**Using the info provided from the predicted probabilities and predicted outcomes, indicate the companies' project IDs that Arcturus should invest in if, for the sake of diversification, they wanted to invest their \\$11.5 million in one project in each of the four industries: media, tech, healthcare, and defense.**\n",
        "\n",
        "**Give the IDs of the projects and explain why you’d recommend each project.**"
      ],
      "metadata": {
        "id": "_ycg2f3Tm0pt"
      }
    },
    {
      "cell_type": "markdown",
      "source": [
        "* **Healthcare:** ID 21 because it has 100% probability that ipo will be the outcome. They have been around a while, have a good number of elites, and have experience in offering IPOs. The return is very high.\n",
        "\n",
        "* **Defense:** Of the 2 defense companies that don't go bankrupt, ID 15 is the better investment. It's more affordable for the possible outcome, and if anything would be an investment we're limiting losses on.\n",
        "\n",
        "* **Media:** ID 2 because we are 87% sure the predicted outcome will be soldoff-high. It already has lots of funding and return is high.\n",
        "\n",
        "* **Tech:** ID 7. To maximize spending of the $11.5 million, this is the best tech investment. We are 59% confident it will be a soldoff-high outcome. It has a high number of elites and has patents. It's been around a while as well."
      ],
      "metadata": {
        "id": "4ZowaFZvnJHF"
      }
    },
    {
      "cell_type": "code",
      "source": [
        "df_2"
      ],
      "metadata": {
        "id": "BHh9tqFYRa6H"
      },
      "execution_count": null,
      "outputs": []
    }
  ]
}