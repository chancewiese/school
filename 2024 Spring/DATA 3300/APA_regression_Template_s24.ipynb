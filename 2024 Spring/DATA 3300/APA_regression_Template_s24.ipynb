{
  "nbformat": 4,
  "nbformat_minor": 0,
  "metadata": {
    "colab": {
      "provenance": []
    },
    "kernelspec": {
      "name": "python3",
      "display_name": "Python 3"
    },
    "language_info": {
      "name": "python"
    }
  },
  "cells": [
    {
      "cell_type": "markdown",
      "source": [
        "# **APA - Linear Regression**\n",
        "# DATA 3300\n",
        "\n",
        "\n",
        "\n"
      ],
      "metadata": {
        "id": "pCCwCRWMp66y"
      }
    },
    {
      "cell_type": "markdown",
      "source": [
        "## Name(s):"
      ],
      "metadata": {
        "id": "Re6Zcdd0qC1E"
      }
    },
    {
      "cell_type": "markdown",
      "source": [
        "**When conducting a linear regression analysis, it’s critical to conduct exploratory analytics to identify if the assumptions of linear regression (relationship is linear, independent error values, error values are normally distributed, and residuals are homoscedastic) are met, or if data need to be modified to meet these assumptions. *For the linear regression exercise and this APA, assume this has already been done.***"
      ],
      "metadata": {
        "id": "PIi-I5JyqG8b"
      }
    },
    {
      "cell_type": "markdown",
      "source": [
        "# Q1\n",
        "\n",
        "**Begin by importing the required packages (provided below), and then importing the cinema.xlsx dataset. View the heading of your dataframe.**"
      ],
      "metadata": {
        "id": "sKHxFfjOqMn2"
      }
    },
    {
      "cell_type": "code",
      "source": [
        "import pandas as pd\n",
        "import numpy as np\n",
        "import matplotlib.pyplot as plt\n",
        "import statsmodels.api as sm\n",
        "from sklearn.model_selection import train_test_split\n",
        "from sklearn.linear_model import LinearRegression\n",
        "import sklearn.metrics as metric"
      ],
      "metadata": {
        "id": "TjirQYuhqdy7"
      },
      "execution_count": null,
      "outputs": []
    },
    {
      "cell_type": "code",
      "source": [
        "# replace with code to read in and preview cinema.xlsx file"
      ],
      "metadata": {
        "id": "p45HRU2rqnAR"
      },
      "execution_count": null,
      "outputs": []
    },
    {
      "cell_type": "markdown",
      "source": [
        "## A\n",
        "**Assume all variables are normally distributed. Run a Pearson CORRELATION analysis on your variables to examine relationships amongst all non-categorical variables. Remember to drop all variables from the correlation analysis that cannot be included.**\n",
        "\n",
        "**Present your correlation matrix in a color-mapped table.**\n",
        "\n"
      ],
      "metadata": {
        "id": "DOwCyYjqqxcd"
      }
    },
    {
      "cell_type": "code",
      "source": [
        "# replace with code to create new dataframe that drops variables that can't be included in correlation\n",
        "# replace with code to run correlation matrix\n",
        "# replace with code to display matrix in color-mapped table"
      ],
      "metadata": {
        "id": "EEjxVd3Rqw5m"
      },
      "execution_count": null,
      "outputs": []
    },
    {
      "cell_type": "markdown",
      "source": [
        "## B\n",
        "\n",
        "**What percentage of the variance in `attend` is determined by the variance in `metacrit`? (Show your formula.) Interpret what the $r$ and $R^2$ values mean.**\n",
        "\n"
      ],
      "metadata": {
        "id": "68Q834HmsAgM"
      }
    },
    {
      "cell_type": "code",
      "source": [
        "# replace with code to calculate and show R^2 value"
      ],
      "metadata": {
        "id": "LE4H1HOVsY_w"
      },
      "execution_count": null,
      "outputs": []
    },
    {
      "cell_type": "markdown",
      "source": [],
      "metadata": {
        "id": "uU3Gt6QKsu8L"
      }
    },
    {
      "cell_type": "markdown",
      "source": [
        "## C\n",
        "\n",
        "**Using an $r$-value of 0.8 or greater to determine collinearity, identify one pair of IVs that appears collinear.**\n",
        "\n",
        "**Identify the pair, provide the corresponding coefficient, and briefly discuss whether it makes sense for that pair to be collinear.**\n"
      ],
      "metadata": {
        "id": "btA_xXBGtU_W"
      }
    },
    {
      "cell_type": "markdown",
      "source": [],
      "metadata": {
        "id": "vPunQw8wtiM3"
      }
    },
    {
      "cell_type": "markdown",
      "source": [
        "# Q2\n",
        "\n",
        "**Run a linear regression analysis to create an estimation model to predict the weekly attendance of a movie. Remember to:**\n",
        "\n",
        "* **Preprocess any variables as necessary (hint: categorical)**\n",
        "* **Remove `metacrit` from your analysis (due to collinearity)**\n",
        "* **Set the DV as y (we're interested in predicting movie attendance)**\n",
        "* **Create a training and test set for your IVs (x) and your DV (y) as was shown in the ICE and in the Cheat Sheet**\n",
        "\n",
        "\n"
      ],
      "metadata": {
        "id": "5PRU6R63twmV"
      }
    },
    {
      "cell_type": "code",
      "source": [
        "# replace with code to select IVs to include in analysis, assign to object called 'x'\n",
        "# replace with code to dummy code categorical variables\n",
        "# replace with code to view x"
      ],
      "metadata": {
        "id": "yK83fSGbukVb"
      },
      "execution_count": null,
      "outputs": []
    },
    {
      "cell_type": "code",
      "source": [
        "# replace with code to set attendance as your DV, in an object called 'y'"
      ],
      "metadata": {
        "id": "j4Isg-rgvCxi"
      },
      "execution_count": null,
      "outputs": []
    },
    {
      "cell_type": "code",
      "source": [
        "# replace with code to create 4 dataframe objects x_train, x_test, y_train, y_test. Set test_size to 0.2, set random_state to 101"
      ],
      "metadata": {
        "id": "-A-IebVBvJY-"
      },
      "execution_count": null,
      "outputs": []
    },
    {
      "cell_type": "code",
      "source": [
        "# replace with code to add constant to x_train, assign to object called x_train_Sm\n",
        "# replace with code to fit model to x_train_Sm and y_train, assign to object called ls\n",
        "# replace with code to print summary of ls"
      ],
      "metadata": {
        "id": "Zr3Vtam4va-3"
      },
      "execution_count": null,
      "outputs": []
    },
    {
      "cell_type": "markdown",
      "source": [
        "## A\n",
        "\n",
        "**Using a value of α = 0.1, identify the IVs with an *insignificant* relationship with the DV. For each, provide the IV and the corresponding p-value. *Note that if any part of a multi-part variable is significant, then the entire variable (including those that appear insignificant) is considered to have a significant relationship.***\n",
        "\n",
        "**How do you know each IV’s impact on the DV is insignificant?**\n"
      ],
      "metadata": {
        "id": "Z756Huw8wRZe"
      }
    },
    {
      "cell_type": "markdown",
      "source": [],
      "metadata": {
        "id": "xHc0dd5wFthu"
      }
    },
    {
      "cell_type": "markdown",
      "source": [
        "## B\n",
        "\n",
        "**Remove the variable with the highest p-value (note that if a multi-part variable is to be removed, all parts should be removed simultaneously), re-run the analysis, and include the summary table. Repeat this step until all IVs are significant at α = 0.1.**\n"
      ],
      "metadata": {
        "id": "XnekV6mdxXNi"
      }
    },
    {
      "cell_type": "code",
      "source": [
        "# replace with code to drop variable(s) with highest p-value\n",
        "# replace with code to retrain the model\n",
        "# replace with code to display summary statistics of model"
      ],
      "metadata": {
        "id": "KTPNxQDtxpdQ"
      },
      "execution_count": null,
      "outputs": []
    },
    {
      "cell_type": "code",
      "source": [
        "# replace with code to drop remaining IV with p-value above 0.1\n",
        "# replace with code to retrain the model\n",
        "# replace with code to display summary statistics of model"
      ],
      "metadata": {
        "id": "yd8id2msx__5"
      },
      "execution_count": null,
      "outputs": []
    },
    {
      "cell_type": "markdown",
      "source": [
        "# Q3\n",
        "\n",
        "**Intepret the final data table. Specifically:**\n",
        "\n",
        "## A\n",
        "**How would you interpret the coefficient of `genre_drama`, knowing that `genre_action` is the reference group?**\n",
        "\n",
        "**Is there a statistically significant difference in attendance between `genre_drama` and `genre_action`? How about between `genre_comedy` and `genre action`?**\n",
        "\n"
      ],
      "metadata": {
        "id": "gUPVf--lyYGw"
      }
    },
    {
      "cell_type": "markdown",
      "source": [],
      "metadata": {
        "id": "nz92vex29hiN"
      }
    },
    {
      "cell_type": "markdown",
      "source": [
        "## B\n",
        "**Develop a data visualization that includes the data points with the line of best fit (linear regression model) that illustrates the relationship between `attend` and `rottentom`.**\n",
        "\n"
      ],
      "metadata": {
        "id": "joUSpab41tqK"
      }
    },
    {
      "cell_type": "code",
      "source": [
        "# replace with code to import seaborn as sns\n",
        "# replace with code to produce regression plot, pull x and y from df (e.g., y=df['attend'])\n",
        "# replace with code to label x-axis\n",
        "# replace with code to label y-axis"
      ],
      "metadata": {
        "id": "oBlHTQPW1o7S"
      },
      "execution_count": null,
      "outputs": []
    },
    {
      "cell_type": "markdown",
      "source": [
        "## C\n",
        "\n",
        "**Evaluate the performance of your final model by fitting it to the test set, this will give us an idea of how well our model would generalize to new data.**\n",
        "\n",
        "**Print out both the mean squared error and the R-Squared of the model, fit to the test set data.**\n",
        "\n",
        "**How does the $R^2$ of test set compare to that of training set? Is it higher or lower, what could this indicate?**\n"
      ],
      "metadata": {
        "id": "VSlAsi0H2ggE"
      }
    },
    {
      "cell_type": "code",
      "source": [
        "# replace with code to set LinearRegression function as object called 'model'\n",
        "# replace with code to fit your finalized training set to the model"
      ],
      "metadata": {
        "id": "fUVEq1Ws3KEL"
      },
      "execution_count": null,
      "outputs": []
    },
    {
      "cell_type": "code",
      "source": [
        "# replace with code to drop non-significant IVs from x_test\n",
        "# replace with code to create object called x_test_Sm that adds a constant to x_test (intercept)"
      ],
      "metadata": {
        "id": "AyNLxkvc3dhA"
      },
      "execution_count": null,
      "outputs": []
    },
    {
      "cell_type": "code",
      "source": [
        "# replace with code to make predictions using model trained on x_test_Sm"
      ],
      "metadata": {
        "id": "sg-M4Dva396D"
      },
      "execution_count": null,
      "outputs": []
    },
    {
      "cell_type": "code",
      "source": [
        "# replace with code to produce the mean-squared error\n",
        "# replace with code to produce the R^2"
      ],
      "metadata": {
        "id": "LGaE4Fr84T92"
      },
      "execution_count": null,
      "outputs": []
    },
    {
      "cell_type": "markdown",
      "source": [],
      "metadata": {
        "id": "u70fGnJgFq5x"
      }
    },
    {
      "cell_type": "markdown",
      "source": [
        "## D\n",
        "\n",
        "**Write out the regression model using the names of variables and all the coefficients determined by your model.**"
      ],
      "metadata": {
        "id": "Lakk5cF95LCb"
      }
    },
    {
      "cell_type": "markdown",
      "source": [],
      "metadata": {
        "id": "fXXDTmXQ5Oqh"
      }
    },
    {
      "cell_type": "markdown",
      "source": [
        "## E\n",
        "\n",
        "**Using your formula in 3D, what would be the predicted attendance for:**\n",
        "\n",
        "1. **A PG-13 rated, six-week-old action movie, with a $200 million budget shown during a week with a sporting event that received a Rotten Tomatoes score of 45%?**\n",
        "\n",
        "2. **An R-rated, eight-week-old drama, with an $75 million budget, shown in a week with no sporting event that received a Rotten Tomatoes score of 65%.**\n",
        "\n"
      ],
      "metadata": {
        "id": "cMG2zrDy6CUi"
      }
    },
    {
      "cell_type": "code",
      "source": [
        "# replace with code to calculate attendance"
      ],
      "metadata": {
        "id": "lrtLVMm_6ZLi"
      },
      "execution_count": null,
      "outputs": []
    },
    {
      "cell_type": "code",
      "source": [
        "# replace with code to calculate attendance"
      ],
      "metadata": {
        "id": "Ax8t5_5e670g"
      },
      "execution_count": null,
      "outputs": []
    },
    {
      "cell_type": "markdown",
      "source": [
        "#Q4\n",
        "\n",
        "Make one business recommenation based on this analysis and its results."
      ],
      "metadata": {
        "id": "LHxRd09B-_dH"
      }
    },
    {
      "cell_type": "markdown",
      "source": [],
      "metadata": {
        "id": "ATJZ2Xo0_C3e"
      }
    }
  ]
}