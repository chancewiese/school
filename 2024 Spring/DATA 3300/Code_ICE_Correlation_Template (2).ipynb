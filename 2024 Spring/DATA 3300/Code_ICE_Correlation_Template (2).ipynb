{
  "cells": [
    {
      "cell_type": "markdown",
      "id": "fa220470",
      "metadata": {
        "id": "fa220470"
      },
      "source": [
        "# **Name:** \n",
        "# **Exercise**\n",
        "# **Q1** \n",
        "\n",
        "We will first examine some of the properites of the `cache homes` dataset and make some decisions about preprocessing prior to running the analysis.\n",
        "\n",
        "First load in the required dependencies and then import the dataframe. Pull up `df.head` to view a preview of the dataset."
      ]
    },
    {
      "cell_type": "code",
      "execution_count": null,
      "id": "c009f1f0",
      "metadata": {
        "id": "c009f1f0"
      },
      "outputs": [],
      "source": [
        "import pandas as pd\n",
        "import numpy as np\n",
        "import matplotlib.pyplot as plt"
      ]
    },
    {
      "cell_type": "code",
      "execution_count": null,
      "id": "e69f061b",
      "metadata": {
        "id": "e69f061b"
      },
      "outputs": [],
      "source": [
        "# replace with code to import the data\n",
        "# replace with code to preview data"
      ]
    },
    {
      "cell_type": "code",
      "source": [
        "# replace with code to drop rows with missing data\n",
        "df = df.drop(['Primary Key', 'SINGLE-FAMILY', 'QUADRANT', 'CITY', 'ZIP', 'YEAR BUILT', 'LATITUDE', 'LONGITUDE'], axis=1) # removes categorical variables and primary key\n",
        "df.head() #previews data"
      ],
      "metadata": {
        "id": "T2WASRjgfccE"
      },
      "id": "T2WASRjgfccE",
      "execution_count": null,
      "outputs": []
    },
    {
      "cell_type": "markdown",
      "source": [
        "> ### A\n",
        " **Considering the dataset, which variables should not be included in a linear correlation analysis, and why?**"
      ],
      "metadata": {
        "id": "etls5d1EaF8L"
      },
      "id": "etls5d1EaF8L"
    },
    {
      "cell_type": "markdown",
      "source": [],
      "metadata": {
        "id": "1A4mwl4VmW6r"
      },
      "id": "1A4mwl4VmW6r"
    },
    {
      "cell_type": "markdown",
      "id": "318ce2c3",
      "metadata": {
        "id": "318ce2c3"
      },
      "source": [
        ">### B\n",
        "**Would it make sense to include both `Year Built` and `Age` variables in a correlation analysis? Explain**"
      ]
    },
    {
      "cell_type": "markdown",
      "source": [],
      "metadata": {
        "id": "1RXu7IEQmXlo"
      },
      "id": "1RXu7IEQmXlo"
    },
    {
      "cell_type": "markdown",
      "id": "4aba72b9",
      "metadata": {
        "id": "4aba72b9"
      },
      "source": [
        "> ### C\n",
        "**Thinking about the variables in the dataset, which variable tells us about whether a property is \"difficult to sell\"?**"
      ]
    },
    {
      "cell_type": "markdown",
      "source": [],
      "metadata": {
        "id": "QVVFCx-SmYaC"
      },
      "id": "QVVFCx-SmYaC"
    },
    {
      "cell_type": "markdown",
      "id": "e9f28335",
      "metadata": {
        "id": "e9f28335"
      },
      "source": [
        "> ### D\n",
        "**Using the histogram method from `pandas`, visualize the distribution of the remaining variables to check assumptions about the data *(hint: normal distribution assumption)***"
      ]
    },
    {
      "cell_type": "code",
      "execution_count": null,
      "id": "a7afa84e",
      "metadata": {
        "scrolled": true,
        "id": "a7afa84e"
      },
      "outputs": [],
      "source": [
        "df.hist(layout=(4,3), figsize=(16,24), bins=15) #generates histograms of remaining numerical vars or variables\n",
        "#replace with code to show plot"
      ]
    },
    {
      "cell_type": "markdown",
      "id": "31df79b4",
      "metadata": {
        "id": "31df79b4"
      },
      "source": [
        "> ### E \n",
        "**State which variables follow a *roughly* normal distribution. Does it matter that the remaining variables don't have a normal distribution?**"
      ]
    },
    {
      "cell_type": "markdown",
      "source": [],
      "metadata": {
        "id": "3mWI674dmVTX"
      },
      "id": "3mWI674dmVTX"
    },
    {
      "cell_type": "markdown",
      "id": "1b964eee",
      "metadata": {
        "id": "1b964eee"
      },
      "source": [
        "# 2\n",
        "**Run a correlation analysis using the following variables: `Price`, `Beds`, `Baths`, `Square Feet`, `Lot Size`, `Age`, `Days on Market`, `HOA/Month`, `B1`, `B2`, and `B3`**"
      ]
    },
    {
      "cell_type": "markdown",
      "id": "e6886a09",
      "metadata": {
        "id": "e6886a09"
      },
      "source": [
        "> ### A \n",
        "**Transform your variables that do not follow a *roughly* normal distribution (e.g., all except `Beds` and `B2`)**"
      ]
    },
    {
      "cell_type": "code",
      "execution_count": null,
      "id": "d0d59486",
      "metadata": {
        "id": "d0d59486"
      },
      "outputs": [],
      "source": [
        "# replace with code to create a log transformed version of price\n",
        "df['SQUARE FEET_lg'] = np.log(df['SQUARE FEET'])\n",
        "df['LOT SIZE_lg'] = np.log(df['LOT SIZE'])\n",
        "\n",
        "# replace with code to create a square root transformed version of B1\n",
        "df['BATHS_sq'] = np.sqrt(df['BATHS'])\n",
        "df['AGE_sq'] = np.sqrt(df['AGE'])\n",
        "df['DAYS ON MARKET_sq'] = np.sqrt(df['DAYS ON MARKET'])\n",
        "df['HOA/MONTH_sq'] = np.sqrt(df['HOA/MONTH'])\n",
        "df['B3_sq'] = np.sqrt(df['B3'])"
      ]
    },
    {
      "cell_type": "code",
      "execution_count": null,
      "id": "a71b4770",
      "metadata": {
        "id": "a71b4770"
      },
      "outputs": [],
      "source": [
        "df_T = df.drop(['PRICE', 'SQUARE FEET', 'LOT SIZE', 'B1', 'BATHS', 'AGE', 'DAYS ON MARKET', 'HOA/MONTH', 'B3', '$/SQUARE FEET'], axis=1)\n",
        "#line 1 creates a new dataset that contains only the transformed vars, as well as B2 and Beds\n",
        "# replace with code to create histograms to examine the distributions of new vars (copy from 1D)\n",
        "plt.show()"
      ]
    },
    {
      "cell_type": "code",
      "execution_count": null,
      "id": "5627c4f1",
      "metadata": {
        "id": "5627c4f1"
      },
      "outputs": [],
      "source": [
        "# replace with code to drop out HOA because even transformed it's still super skewed"
      ]
    },
    {
      "cell_type": "markdown",
      "id": "271324cb",
      "metadata": {
        "id": "271324cb"
      },
      "source": [
        "> ### B\n",
        "**How did performing these transformations (e.g., log, square root) change the distributions of the data? Did some distributions not change significantly (i.e., stay skewed/kurtotic)?**"
      ]
    },
    {
      "cell_type": "markdown",
      "source": [],
      "metadata": {
        "id": "UFv1p4tlmS3g"
      },
      "id": "UFv1p4tlmS3g"
    },
    {
      "cell_type": "markdown",
      "id": "c33b46c6",
      "metadata": {
        "id": "c33b46c6"
      },
      "source": [
        ">### C\n",
        "**Generate a correlation matrix on the selected variables; ignoring the B1-B3 variables, which two variables have the strongest correlation? Which two have the weakest?**"
      ]
    },
    {
      "cell_type": "code",
      "execution_count": null,
      "id": "b683190e",
      "metadata": {
        "scrolled": true,
        "id": "b683190e"
      },
      "outputs": [],
      "source": [
        "# replace with code to create correlation matrix\n",
        "cor_matrix.style.background_gradient(cmap='seismic', axis=None, vmin=-1, vmax=1)"
      ]
    },
    {
      "cell_type": "markdown",
      "source": [],
      "metadata": {
        "id": "iKc0K9vCptno"
      },
      "id": "iKc0K9vCptno"
    },
    {
      "cell_type": "markdown",
      "id": "72107712",
      "metadata": {
        "id": "72107712"
      },
      "source": [
        ">### D\n",
        "**What are the corresponding $R^2$ values for the strongest and weakest pairs (round to three decimal places)? What do these values mean?**"
      ]
    },
    {
      "cell_type": "code",
      "execution_count": null,
      "id": "7e5ec41b",
      "metadata": {
        "id": "7e5ec41b"
      },
      "outputs": [],
      "source": [
        "# sqaure the r-values"
      ]
    },
    {
      "cell_type": "markdown",
      "source": [],
      "metadata": {
        "id": "Xvw7zwKAdd6w"
      },
      "id": "Xvw7zwKAdd6w"
    },
    {
      "cell_type": "markdown",
      "id": "68bae74c",
      "metadata": {
        "id": "68bae74c"
      },
      "source": [
        "# 3\n",
        ">### A\n",
        "**Assuming the threshold for covergent validity is $r = 0.1$ or greater, do the B1-B3 variables converge? If not, which ones don't and what are their correlation coefficient values?**"
      ]
    },
    {
      "cell_type": "markdown",
      "source": [],
      "metadata": {
        "id": "lapwtn-wmRTt"
      },
      "id": "lapwtn-wmRTt"
    },
    {
      "cell_type": "markdown",
      "id": "0d7360d0",
      "metadata": {
        "id": "0d7360d0"
      },
      "source": [
        ">### B \n",
        "**Aggregate the converging B variables into a new variable called `Beauty` by averaging them togther. Then rerun the correlation matrix with the new aggregate measure.**"
      ]
    },
    {
      "cell_type": "code",
      "execution_count": null,
      "id": "5a664b49",
      "metadata": {
        "scrolled": true,
        "id": "5a664b49"
      },
      "outputs": [],
      "source": [
        "df_T['Beauty'] =  # replace with code to create new variable Beauty that averages B1 and B2 together\n",
        "df_T = df_T.drop(['B2', 'B1_sq', 'B3_sq'], axis=1) # drops B1, B2, B3 from dataset\n",
        "df_T.head()"
      ]
    },
    {
      "cell_type": "code",
      "execution_count": null,
      "id": "533f4a3b",
      "metadata": {
        "id": "533f4a3b"
      },
      "outputs": [],
      "source": [
        "# replace with code to rerun correlation matrix\n",
        "cor_matrix2.style.background_gradient(cmap='seismic', axis=None, vmin=-1, vmax=1)"
      ]
    },
    {
      "cell_type": "markdown",
      "id": "65ef7d32",
      "metadata": {
        "id": "65ef7d32"
      },
      "source": [
        ">### C\n",
        "**What would be the problem if we didn't aggregate the converging B variables?**"
      ]
    },
    {
      "cell_type": "markdown",
      "source": [],
      "metadata": {
        "id": "I4gULBW_mle0"
      },
      "id": "I4gULBW_mle0"
    },
    {
      "cell_type": "markdown",
      "id": "7e21b640",
      "metadata": {
        "id": "7e21b640"
      },
      "source": [
        "# 4\n",
        "**The company would like to infer some things from this matrix regarding what other factors appear to be strongly related to Price.**\n",
        ">### A\n",
        "**What percentage of the variance in price is explained by the home square footage?**\n"
      ]
    },
    {
      "cell_type": "code",
      "execution_count": null,
      "id": "e893a327",
      "metadata": {
        "id": "e893a327"
      },
      "outputs": [],
      "source": []
    },
    {
      "cell_type": "markdown",
      "id": "040a0f6a",
      "metadata": {
        "id": "040a0f6a"
      },
      "source": [
        ">### B\n",
        "**Based strictly on correlation coefficients, which potential independent variable appears to be least likely to have a significant effect on the home selling price?** \n",
        "\n",
        ">**How do you know this IV is least likely to have a significant effect on Price?**"
      ]
    },
    {
      "cell_type": "markdown",
      "source": [],
      "metadata": {
        "id": "IcTmOy8lmuiy"
      },
      "id": "IcTmOy8lmuiy"
    },
    {
      "cell_type": "markdown",
      "id": "dbcceedb",
      "metadata": {
        "id": "dbcceedb"
      },
      "source": [
        "# 5\n",
        "**The company would like to infer some things from this matrix regarding which homes are difficult to sell.**\n",
        ">### A\n",
        "**Using Days on Market as a measure of difficulty to sell, which other variable is most closely related to a home being difficult to sell?**"
      ]
    },
    {
      "cell_type": "markdown",
      "source": [],
      "metadata": {
        "id": "KYsPqnWBm2D8"
      },
      "id": "KYsPqnWBm2D8"
    },
    {
      "cell_type": "markdown",
      "id": "e14b08bb",
      "metadata": {
        "id": "e14b08bb"
      },
      "source": [
        ">### B\n",
        "**Hypothesize a possible cause for the previous answer.**"
      ]
    },
    {
      "cell_type": "markdown",
      "source": [],
      "metadata": {
        "id": "wM4v0-Njm0wY"
      },
      "id": "wM4v0-Njm0wY"
    },
    {
      "cell_type": "markdown",
      "id": "0efc73e9",
      "metadata": {
        "id": "0efc73e9"
      },
      "source": [
        "> ### C\n",
        "**What is the correlation coefficient between `Beauty` and `Days on Market`?**"
      ]
    },
    {
      "cell_type": "markdown",
      "source": [],
      "metadata": {
        "id": "yfbAA9OlnEaP"
      },
      "id": "yfbAA9OlnEaP"
    },
    {
      "cell_type": "markdown",
      "id": "d5ba044b",
      "metadata": {
        "id": "d5ba044b"
      },
      "source": [
        "> ### D\n",
        "**Is the sign of the coefficient in the previous answer positive or negative?**\n",
        "\n",
        ">**Within the context of this dataset, interpret what this sign tells us about the relationship between the two variables.**"
      ]
    },
    {
      "cell_type": "markdown",
      "source": [],
      "metadata": {
        "id": "pFUPtf5XnFGg"
      },
      "id": "pFUPtf5XnFGg"
    },
    {
      "cell_type": "markdown",
      "id": "95d01326",
      "metadata": {
        "id": "95d01326"
      },
      "source": [
        "> ### E\n",
        "**Hypothesize a possible explanation for the previous answer.**"
      ]
    },
    {
      "cell_type": "markdown",
      "source": [],
      "metadata": {
        "id": "ug7OJ55NnGKn"
      },
      "id": "ug7OJ55NnGKn"
    },
    {
      "cell_type": "markdown",
      "id": "8c475cff",
      "metadata": {
        "id": "8c475cff"
      },
      "source": [
        "# 6\n",
        "**Among the homes in this dataset, do newer homes tend to have more or fewer bedrooms compared to older homes? Explain how you know.**"
      ]
    },
    {
      "cell_type": "markdown",
      "source": [],
      "metadata": {
        "id": "RpGgB9YxnLpc"
      },
      "id": "RpGgB9YxnLpc"
    }
  ],
  "metadata": {
    "kernelspec": {
      "display_name": "Python 3 (ipykernel)",
      "language": "python",
      "name": "python3"
    },
    "language_info": {
      "codemirror_mode": {
        "name": "ipython",
        "version": 3
      },
      "file_extension": ".py",
      "mimetype": "text/x-python",
      "name": "python",
      "nbconvert_exporter": "python",
      "pygments_lexer": "ipython3",
      "version": "3.9.7"
    },
    "colab": {
      "provenance": []
    }
  },
  "nbformat": 4,
  "nbformat_minor": 5
}