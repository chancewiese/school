{
  "nbformat": 4,
  "nbformat_minor": 0,
  "metadata": {
    "colab": {
      "provenance": []
    },
    "kernelspec": {
      "name": "python3",
      "display_name": "Python 3"
    },
    "language_info": {
      "name": "python"
    }
  },
  "cells": [
    {
      "cell_type": "markdown",
      "source": [
        "# **APA - Correlation Analysis**\n",
        "# DATA 3300\n"
      ],
      "metadata": {
        "id": "gBaWQEWNMDcG"
      }
    },
    {
      "cell_type": "markdown",
      "source": [
        "## Name:\n",
        "\n",
        "## Q1\n",
        "\n",
        "First, load the required libraries then import the dataset. Produce a heading of the data and then consider which variables need to be removed prior to running a correlation analysis. Subset the dataframe to include only those variables that can be included, then generate histograms for each of those variables.\n"
      ],
      "metadata": {
        "id": "klUOb8jnMLRz"
      }
    },
    {
      "cell_type": "code",
      "execution_count": null,
      "metadata": {
        "id": "xVpw_8uBL3xL"
      },
      "outputs": [],
      "source": [
        "# replace with code to load pandas, matplotlib.pyplot, and numpy\n",
        "from scipy import stats #this library will be used to transform variables"
      ]
    },
    {
      "cell_type": "code",
      "source": [
        "# replace with code to import dataset\n",
        "# replace with code to preview dataset (heading)"
      ],
      "metadata": {
        "id": "NIzVzmnkMc0j"
      },
      "execution_count": null,
      "outputs": []
    },
    {
      "cell_type": "markdown",
      "source": [
        "Explain which columns need to be dropped (and why) prior to a correlation analysis."
      ],
      "metadata": {
        "id": "XtTLqGNhWitw"
      }
    },
    {
      "cell_type": "code",
      "source": [
        "# replace with code to select only columns that can be included in a correlation analysis OR drop out columns that cannot be included\n",
        "df.head()"
      ],
      "metadata": {
        "id": "vQX60aYbJHDp"
      },
      "execution_count": null,
      "outputs": []
    },
    {
      "cell_type": "code",
      "source": [
        "# replace with code to generate histograms on remaining 14 variables/columns. Hint: Change the layout values to accomodate 14 histograms."
      ],
      "metadata": {
        "id": "vsLTA3sSJUsE"
      },
      "execution_count": null,
      "outputs": []
    },
    {
      "cell_type": "markdown",
      "source": [
        "List the variables that are not normally distributed:\n",
        "\n",
        "How will you address these non-normally distributed vars?"
      ],
      "metadata": {
        "id": "xc0SLUkOMcPk"
      }
    },
    {
      "cell_type": "markdown",
      "source": [
        "# Q2\n",
        "\n",
        "**Generate correlation matrix colormap table, making sure to include all necessary steps:**\n",
        "\n",
        "## A\n",
        "\n",
        "**Transform skewed variables using a Box-Cox transformation, including `n4`, `courserate`, `m2`, and `m4`.**"
      ],
      "metadata": {
        "id": "e5rfYQNcM8cV"
      }
    },
    {
      "cell_type": "code",
      "source": [
        "# replace with code to create new transformed variables for n4, courserate, m2, and m4. Use the Box-Cox method.\n",
        "#preview the headers"
      ],
      "metadata": {
        "id": "jeW2tBtOJFsQ"
      },
      "execution_count": null,
      "outputs": []
    },
    {
      "cell_type": "code",
      "source": [
        "# replace with code to view histograms of transformed variables (it's okay to include the other variables as well, in which case use layout=(5,4))"
      ],
      "metadata": {
        "id": "K7sdUQAYKU3G"
      },
      "execution_count": null,
      "outputs": []
    },
    {
      "cell_type": "markdown",
      "source": [
        "**Are there any variables with distributions that cannot be made roughly normal? How could this impact the validity of the correlation analysis?**\n",
        "\n",
        "**Note: Not all variables will be normally distributed after transformation. For the scope of this assignment, discuss which are or are not normally distributed and which did or did not improve.**\n",
        "\n"
      ],
      "metadata": {
        "id": "tsVySaFUOQFR"
      }
    },
    {
      "cell_type": "markdown",
      "source": [
        "## B\n",
        "\n",
        "**Create a new data object subset (e.g., call it df_T) that contains your new transformed variables, and the original normally distributed variables.**\n",
        "\n",
        "**Then, run the correlation matrix and display it in a color mapped table.**\n"
      ],
      "metadata": {
        "id": "1mbCSqw_PqPn"
      }
    },
    {
      "cell_type": "code",
      "source": [
        "# replace with code to create new data subset object that drops n4, courserate, m2, and m4\n",
        "#preview the new data object subset"
      ],
      "metadata": {
        "id": "3wssj6_XJzbM"
      },
      "execution_count": null,
      "outputs": []
    },
    {
      "cell_type": "code",
      "source": [
        "# replace with code to create correlation matrix\n",
        "# replace with code to create color map table (cool-warm to show positive and negative correlations)"
      ],
      "metadata": {
        "id": "60R7a1l9QI8h"
      },
      "execution_count": null,
      "outputs": []
    },
    {
      "cell_type": "markdown",
      "source": [
        "## C\n",
        "\n",
        "**Based on your correlation analysis, what are the *three strongest positive* correlations? Next identify the *three strongest negative* correlations in the dataset. Provide both the item pairs as well as their correlation coefficient.**\n",
        "\n"
      ],
      "metadata": {
        "id": "1KJ48plcQdga"
      }
    },
    {
      "cell_type": "markdown",
      "source": [
        "**3 strongest positive**\n",
        "*\n",
        "*\n",
        "*\n",
        "\n",
        "**3 strongest negative**\n",
        "*\n",
        "*\n",
        "*"
      ],
      "metadata": {
        "id": "V7qHRDZsQxWh"
      }
    },
    {
      "cell_type": "markdown",
      "source": [
        "## D\n",
        "**What is the *third* highest $R^2$ value for any variable pair in the analysis?\n",
        "What does this $R^2$ value tell us about the relationship between the two variables?**\n",
        "\n"
      ],
      "metadata": {
        "id": "6pFbG1EwSEIg"
      }
    },
    {
      "cell_type": "code",
      "source": [
        "# replace with code to calculate R^2 from r value"
      ],
      "metadata": {
        "id": "Tz72kfgKSalQ"
      },
      "execution_count": null,
      "outputs": []
    },
    {
      "cell_type": "markdown",
      "source": [],
      "metadata": {
        "id": "IUxhTagrSq0M"
      }
    },
    {
      "cell_type": "markdown",
      "source": [
        "## E\n",
        "**What is convergent validity and when does it matter?**\n"
      ],
      "metadata": {
        "id": "5WHrlkb3S2tV"
      }
    },
    {
      "cell_type": "markdown",
      "source": [],
      "metadata": {
        "id": "Kj3rURX1TDqU"
      }
    },
    {
      "cell_type": "markdown",
      "source": [
        "## F\n",
        "\n",
        "**Assuming that an $r$ of 0.3 is required to demonstrate convergent validity, do the multiple items that make up each of the Narcissism (the *n* variables), Machiavellianism (the *m* variables), and Sociopathy (the *s* variables) measurements demonstrate convergent validity? Identify any attributes that do not converge adequately and report their $r$ values.**\n",
        "\n",
        "\n"
      ],
      "metadata": {
        "id": "1oodzDQUTI0t"
      }
    },
    {
      "cell_type": "markdown",
      "source": [],
      "metadata": {
        "id": "MGx1WmboTp-N"
      }
    },
    {
      "cell_type": "markdown",
      "source": [
        "# Q3\n",
        "\n",
        "## A\n",
        "Create three new aggregate variables by averaging the coverging *m* variables to represent Machiavellianism, converging *n* variables to represent Narcissim, and the converging *s* variables to represent Sociopathy.\n",
        "\n",
        "Next replace *df_T* with a new subset containing only those variables you want to run in the new correlation analysis *(hint: do we need s1-s3 if we include Sociopathy?)*\n",
        "\n",
        "**Then run a new correlation matrix and display it in a colormap table.**\n"
      ],
      "metadata": {
        "id": "-GhjZqH_UBl7"
      }
    },
    {
      "cell_type": "code",
      "source": [
        "df_T['Mach'] = df[['m1','m2_bc','m3','m4_bc']].mean(axis=1) #create Machiavellianism aggregate\n",
        "df_T['Nar'] = df[['n1','n3','n4_bc']].mean(axis=1) #create Narcicissm aggregate\n",
        "df_T['Socio'] = df[['s1','s2','s3']].mean(axis=1) #create Sociopathy aggregate\n",
        "df_T = df_T[['gpa', 'lrnoutcome', 'courserate_bc', 'Mach', 'Nar', 'Socio']] #subset to only include necessary variables in correlation matrix\n",
        "df_T"
      ],
      "metadata": {
        "id": "f8OFxFWUU1Bl"
      },
      "execution_count": null,
      "outputs": []
    },
    {
      "cell_type": "code",
      "source": [
        "# replace with code to create correlation matrix\n",
        "# replace with code to create color map table (cool-warm to show positive and negative correlations)"
      ],
      "metadata": {
        "id": "HEeJaEFsW5sE"
      },
      "execution_count": null,
      "outputs": []
    },
    {
      "cell_type": "markdown",
      "source": [
        "## B\n",
        "\n",
        "**What are the *four* strongest correlations in the matrix? For each, give the item pair as well as the correlation coefficient.**\n",
        "\n"
      ],
      "metadata": {
        "id": "aP9cnLCXXDnT"
      }
    },
    {
      "cell_type": "markdown",
      "source": [
        "*\n",
        "*\n",
        "*\n",
        "*"
      ],
      "metadata": {
        "id": "5y8MLa2_XZXv"
      }
    },
    {
      "cell_type": "markdown",
      "source": [
        "## C\n",
        "\n",
        "**What hypotheses might you come up with based on the correlation coefficients found in your analysis? List three, include the relevant correlation coefficient(s), and suggest why the relationship(s) noted may exist (e.g., if you were to find a strong correlation between daytime temperature and lemonade sales, you might suggest that when the weather is hot, people may become more thirsty and therefore more interested in purchasing potentially refreshing drinks).**\n"
      ],
      "metadata": {
        "id": "VIo568gBXt4i"
      }
    },
    {
      "cell_type": "markdown",
      "source": [
        "*\n",
        "*\n",
        "*"
      ],
      "metadata": {
        "id": "Qfi3tw-IX6hB"
      }
    },
    {
      "cell_type": "markdown",
      "source": [
        "# Q4\n",
        "\n",
        "**Assume that we will want to use the *Learning Outcome variable as a dependent variable in a future analysis*. Using the correlation matrix from Part 3...**"
      ],
      "metadata": {
        "id": "uXmHkrmSYFTT"
      }
    },
    {
      "cell_type": "markdown",
      "source": [
        "## A\n",
        "**Which independent variable (IV, any variable other than Learning Outcome) has the least influence on Learning Outcome? Indicate both the variable and the coefficient or $r$-value.**\n",
        "\n"
      ],
      "metadata": {
        "id": "ka24uteAYNA-"
      }
    },
    {
      "cell_type": "markdown",
      "source": [],
      "metadata": {
        "id": "gZ_3smKoYUpI"
      }
    },
    {
      "cell_type": "markdown",
      "source": [
        "## B\n",
        "\n",
        "**Based on a multicollinearity threshold of $r = 0.57$, which IV pair would you want to check for multicollinearity? Indicate both the pair and the coefficient value.**\n",
        "\n",
        "**Does it make sense that these two variables might be collinear?**\n"
      ],
      "metadata": {
        "id": "NfQy8TFkYejA"
      }
    },
    {
      "cell_type": "markdown",
      "source": [],
      "metadata": {
        "id": "JOh9YvTcY25t"
      }
    },
    {
      "cell_type": "markdown",
      "source": [
        "**Create a visualization to illustrate evidence of this correlation.**"
      ],
      "metadata": {
        "id": "99zqcFG3fa7z"
      }
    },
    {
      "cell_type": "code",
      "source": [
        "plt.scatter(df['Col_1'], df['Col_2']) # replace 'Col_1' and 'Col_2' with the two variables you want to plot\n",
        "# replace with code to add x-axis label\n",
        "# replace with code to add y-axis label\n",
        "plt.show()"
      ],
      "metadata": {
        "id": "lQCnyMEYZIgo"
      },
      "execution_count": null,
      "outputs": []
    }
  ]
}