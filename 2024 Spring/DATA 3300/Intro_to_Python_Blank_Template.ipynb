{
  "nbformat": 4,
  "nbformat_minor": 0,
  "metadata": {
    "colab": {
      "provenance": []
    },
    "kernelspec": {
      "name": "python3",
      "display_name": "Python 3"
    },
    "language_info": {
      "name": "python"
    }
  },
  "cells": [
    {
      "cell_type": "markdown",
      "source": [
        "This is a text/markdown cell"
      ],
      "metadata": {
        "id": "evzg6Uywi83w"
      }
    },
    {
      "cell_type": "code",
      "execution_count": null,
      "metadata": {
        "id": "mIJzJDFpi42D"
      },
      "outputs": [],
      "source": [
        "# This is a code cell"
      ]
    }
  ]
}