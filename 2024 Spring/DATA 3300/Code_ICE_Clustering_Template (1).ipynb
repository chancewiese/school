{
  "cells": [
    {
      "cell_type": "markdown",
      "source": [
        "# **DATA 3300**\n",
        "## **ICE - Clustering Analysis**"
      ],
      "metadata": {
        "id": "zwdpv2lXqjCk"
      },
      "id": "zwdpv2lXqjCk"
    },
    {
      "cell_type": "markdown",
      "id": "331cd519",
      "metadata": {
        "id": "331cd519"
      },
      "source": [
        "# Name: "
      ]
    },
    {
      "cell_type": "markdown",
      "id": "b7a6fca6",
      "metadata": {
        "id": "b7a6fca6"
      },
      "source": [
        "### Q1\n",
        "**Load the required packages and then import the dataset**"
      ]
    },
    {
      "cell_type": "code",
      "source": [
        "# install a new library called kneed using pip installer"
      ],
      "metadata": {
        "id": "8RphrGth9d1l"
      },
      "id": "8RphrGth9d1l",
      "execution_count": null,
      "outputs": []
    },
    {
      "cell_type": "code",
      "execution_count": null,
      "id": "17eb2121",
      "metadata": {
        "id": "17eb2121"
      },
      "outputs": [],
      "source": [
        "import matplotlib.pyplot as plt \n",
        "import pandas as pd\n",
        "import numpy as np\n",
        "from kneed import KneeLocator\n",
        "import sklearn.cluster\n",
        "from sklearn.cluster import KMeans\n",
        "from sklearn.metrics import silhouette_score\n",
        "from sklearn.preprocessing import StandardScaler"
      ]
    },
    {
      "cell_type": "code",
      "execution_count": null,
      "id": "3b659c7f",
      "metadata": {
        "id": "3b659c7f"
      },
      "outputs": [],
      "source": [
        "# read in the dataframe\n",
        "# display a heading"
      ]
    },
    {
      "cell_type": "markdown",
      "id": "19cf2367",
      "metadata": {
        "id": "19cf2367"
      },
      "source": [
        "#### 1A \n",
        "**Before running the actual clustering analysis, you're going to exclude the Symbol and Name variables. Explain why this is important to do:**"
      ]
    },
    {
      "cell_type": "markdown",
      "source": [],
      "metadata": {
        "id": "1m6rd33Iqyqh"
      },
      "id": "1m6rd33Iqyqh"
    },
    {
      "cell_type": "markdown",
      "id": "851140cc",
      "metadata": {
        "id": "851140cc"
      },
      "source": [
        "#### 1B\n",
        "**Also there would be a problem with keeping all three of Price, 52 Week High, and 52 Week Low involved when the clustering analysis is run. Explain why this is the case.**"
      ]
    },
    {
      "cell_type": "code",
      "execution_count": null,
      "id": "4bd7e30e",
      "metadata": {
        "id": "4bd7e30e"
      },
      "outputs": [],
      "source": [
        "df = df.drop(['col 1', 'col 2', ''], axis=1) #drop out redundant columns and text columns\n",
        "# drop missing values"
      ]
    },
    {
      "cell_type": "markdown",
      "source": [],
      "metadata": {
        "id": "YQbVxxAc2tEU"
      },
      "id": "YQbVxxAc2tEU"
    },
    {
      "cell_type": "markdown",
      "id": "7c2e3476",
      "metadata": {
        "id": "7c2e3476"
      },
      "source": [
        "### Q2\n",
        "**Run a clustering analysis in Python to find three groups of similar stocks.**\n",
        "\n",
        "**Your analysis should address each of the following considerations (pre-processing)**\n",
        "1. **It should remove variables not to be included in the analysis**\n",
        "2. **It should normalize all variables using the Z-transformation method**\n",
        "3. **It should utilize the K-means clustering method**"
      ]
    },
    {
      "cell_type": "code",
      "execution_count": null,
      "id": "e639a916",
      "metadata": {
        "id": "e639a916"
      },
      "outputs": [],
      "source": [
        "# use the standard scaler function \n",
        "# normalize features"
      ]
    },
    {
      "cell_type": "code",
      "execution_count": null,
      "id": "316e82bb",
      "metadata": {
        "id": "316e82bb"
      },
      "outputs": [],
      "source": [
        "# add comments to explain the kmeans parameters\n",
        "kmeans = KMeans(\n",
        "    init=\"random\",      # init does\n",
        "    n_clusters=3,       # n_clusters does\n",
        "    n_init=10,          # n_init does\n",
        "    max_iter=300,       # max_iter does\n",
        "    random_state=42     # random_state does\n",
        ")"
      ]
    },
    {
      "cell_type": "code",
      "execution_count": null,
      "id": "94e8eda2",
      "metadata": {
        "id": "94e8eda2"
      },
      "outputs": [],
      "source": [
        "kmeans.fit('replace with features object')\n",
        "# find SSE value or inertia value of the model"
      ]
    },
    {
      "cell_type": "markdown",
      "id": "eb46f4fb",
      "metadata": {
        "id": "eb46f4fb"
      },
      "source": [
        "### Q3\n",
        "**Use the Elbow rule to determine the optimal number of clusters between 1-11 by:**\n",
        "1. **Running k-means iteratively on k of size 1-11**\n",
        "2. **Plotting the SSE curve by k size**\n",
        "3. **Using the Knee Locator method**"
      ]
    },
    {
      "cell_type": "code",
      "execution_count": null,
      "id": "c68fb4cb",
      "metadata": {
        "id": "c68fb4cb"
      },
      "outputs": [],
      "source": [
        "kmeans_kwargs = {\n",
        "    \"init\": \"random\",\n",
        "    \"n_init\": 10,\n",
        "    \"max_iter\": 300,\n",
        "    \"random_state\": 42,\n",
        "} \n",
        "\n",
        "\n",
        "# create empty list for SSE values\n",
        "for k in range('a','b'):                             # replace a and b with the range of values for the number of clusters\n",
        "    kmeans = KMeans(n_clusters=k, **kmeans_kwargs)\n",
        "    kmeans.fit(scaled_features)\n",
        "    sse.append(kmeans.inertia_)"
      ]
    },
    {
      "cell_type": "code",
      "execution_count": null,
      "id": "f2a8efd3",
      "metadata": {
        "id": "f2a8efd3"
      },
      "outputs": [],
      "source": [
        "plt.style.use(\"fivethirtyeight\")\n",
        "plt.plot(range(1,11), sse)\n",
        "plt.xticks(range(1,11))\n",
        "plt.xlabel(\"a good x-axis label\")\n",
        "plt.ylabel(\"a good y-axis label\")\n",
        "plt.show()"
      ]
    },
    {
      "cell_type": "code",
      "execution_count": null,
      "id": "37eb2979",
      "metadata": {
        "id": "37eb2979"
      },
      "outputs": [],
      "source": [
        "kl = KneeLocator(\n",
        "    range('a','b'), sse, curve=\"convex\", direction=\"decreasing\"                     # replace a and b with the appropriate values\n",
        ")\n",
        "\n",
        "# locate knee/elbow in the plot"
      ]
    },
    {
      "cell_type": "markdown",
      "id": "cb2405f0",
      "metadata": {
        "id": "cb2405f0"
      },
      "source": [
        "### Q4\n",
        "**Rerun kmeans with the optimal number of clusters and report its SSE value. Is it less than when k was set to 3? Why would this occur?**"
      ]
    },
    {
      "cell_type": "code",
      "execution_count": null,
      "id": "c4d6a548",
      "metadata": {
        "id": "c4d6a548"
      },
      "outputs": [],
      "source": [
        "# copy down the initial kmeans parameters, what do we need to change to make 5 clusters instead of 3?"
      ]
    },
    {
      "cell_type": "code",
      "execution_count": null,
      "id": "923c6f68",
      "metadata": {
        "id": "923c6f68"
      },
      "outputs": [],
      "source": [
        "kmeans.fit(scaled_features)\n",
        "kmeans.inertia_ "
      ]
    },
    {
      "cell_type": "markdown",
      "source": [],
      "metadata": {
        "id": "R5QTdbqW47vQ"
      },
      "id": "R5QTdbqW47vQ"
    },
    {
      "cell_type": "markdown",
      "id": "bfca5740",
      "metadata": {
        "id": "bfca5740"
      },
      "source": [
        "### Q5\n",
        "\n",
        "**Generate a centroid table using the cluster_centers_ feature from kmeans, convert the array into a dataframe. Which cluster of stocks are the highest price on average, how do you know?**"
      ]
    },
    {
      "cell_type": "code",
      "execution_count": null,
      "id": "e96db1de",
      "metadata": {
        "id": "e96db1de"
      },
      "outputs": [],
      "source": [
        "# save cluster centroids to an object called 'centroids'\n",
        "centroid_table = pd.DataFrame(centroids, \n",
        "                              columns = 'columns to display',\n",
        "                              index =['create an index for each cluster']) \n",
        "\n",
        "# display table"
      ]
    },
    {
      "cell_type": "markdown",
      "source": [],
      "metadata": {
        "id": "0synG5Xl7g6L"
      },
      "id": "0synG5Xl7g6L"
    },
    {
      "cell_type": "markdown",
      "id": "3b1e1186",
      "metadata": {
        "id": "3b1e1186"
      },
      "source": [
        "### Q6 \n",
        "\n",
        "**Now create a new centroid table after de-normalizing the centroid values. Why is it important to de-normalize your centroids after the fact?**"
      ]
    },
    {
      "cell_type": "code",
      "execution_count": null,
      "id": "dd3996d7",
      "metadata": {
        "scrolled": true,
        "id": "dd3996d7"
      },
      "outputs": [],
      "source": [
        "# de-normalize centroid values from centroids object, called unscaled\n",
        "unscaled_centroid_table = pd.DataFrame(unscaled, \n",
        "                              columns = df.columns,\n",
        "                              index =['Cluster_0', 'Cluster_1', 'Cluster_2', 'Cluster_3', 'Cluster_4']) \n",
        "\n",
        "unscaled_centroid_table #produce a non-scaled centroid table "
      ]
    },
    {
      "cell_type": "markdown",
      "source": [],
      "metadata": {
        "id": "3NkgJ2-g8afs"
      },
      "id": "3NkgJ2-g8afs"
    },
    {
      "cell_type": "markdown",
      "id": "23267be8",
      "metadata": {
        "id": "23267be8"
      },
      "source": [
        "### Q7 \n",
        "**Explore plotting the centroid values to examine differences between clusters across the different variables of interest. Then come up with a brief descriptive title for each of the 5 clusters of stocks:**\n",
        "\n",
        "1. **Cluser_0:** \n",
        "2. **Cluster_1:** \n",
        "3. **Cluster_2:**\n",
        "4. **Cluster_3:** \n",
        "5. **Cluster_4** "
      ]
    },
    {
      "cell_type": "code",
      "execution_count": null,
      "id": "3eca9a21",
      "metadata": {
        "id": "3eca9a21"
      },
      "outputs": [],
      "source": [
        "centroid_table.plot(kind = 'line', y = ['list any columns to display, separated by commas for multiple'])\n",
        "plt.show()\n"
      ]
    },
    {
      "cell_type": "markdown",
      "id": "790e7399",
      "metadata": {
        "id": "790e7399"
      },
      "source": [
        "### Q8 \n",
        "\n",
        "**Based on your plot and centroid tables, describe which cluster of stocks you'd recommend and why. Create a visualization that supports your recommendation (pull from the data understanding module!). Briefly describe what the viz is showing and why it's relevant.**"
      ]
    },
    {
      "cell_type": "code",
      "execution_count": null,
      "id": "45384344",
      "metadata": {
        "id": "45384344"
      },
      "outputs": [],
      "source": [
        "unscaled_centroid_table.plot(kind = 'bar', y = ['list any columns to display, separated by commas for multiple'])\n",
        "plt.title(\"an informative title\")\n",
        "plt.ylabel(\"an informative y-axis label\")\n",
        "plt.show()"
      ]
    },
    {
      "cell_type": "markdown",
      "source": [],
      "metadata": {
        "id": "9LHojSxC_PVQ"
      },
      "id": "9LHojSxC_PVQ"
    }
  ],
  "metadata": {
    "kernelspec": {
      "display_name": "Python 3 (ipykernel)",
      "language": "python",
      "name": "python3"
    },
    "language_info": {
      "codemirror_mode": {
        "name": "ipython",
        "version": 3
      },
      "file_extension": ".py",
      "mimetype": "text/x-python",
      "name": "python",
      "nbconvert_exporter": "python",
      "pygments_lexer": "ipython3",
      "version": "3.9.7"
    },
    "colab": {
      "provenance": []
    }
  },
  "nbformat": 4,
  "nbformat_minor": 5
}