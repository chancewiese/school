{
  "nbformat": 4,
  "nbformat_minor": 0,
  "metadata": {
    "colab": {
      "provenance": []
    },
    "kernelspec": {
      "name": "python3",
      "display_name": "Python 3"
    },
    "language_info": {
      "name": "python"
    }
  },
  "cells": [
    {
      "cell_type": "markdown",
      "source": [
        "# **Final Project**\n",
        "# DATA 3300"
      ],
      "metadata": {
        "id": "vI3HQgIIpbop"
      }
    },
    {
      "cell_type": "markdown",
      "source": [
        "## Names: Chance Wiese, Natalee Bevan, Ryan Nkunda, Tyler Blackham"
      ],
      "metadata": {
        "id": "QsznjXNDphHS"
      }
    },
    {
      "cell_type": "markdown",
      "source": [
        "## **Summary**\n",
        "\n",
        "**This assignment is broken down into five parts: 170 pts**\n",
        "\n",
        "1.   **Data Preparation & Data Understanding (40 pts)**\n",
        "2.   **Unsupervised DM (26 pts)**\n",
        "3.   **Supervised DM Technique 1 (27 pts)**\n",
        "4.   **Supervised DM Technique 2 (27 pts**)\n",
        "5.   **Evaluation of Moedls & Business Recommendations (50 pts)**\n",
        "\n",
        "***Each part can be started now, except Part 5. You complete Parts 3 and 4 in order to proceed with Part 5.***\n",
        "\n",
        "\n",
        "\n"
      ],
      "metadata": {
        "id": "FOfEKUMppuD_"
      }
    },
    {
      "cell_type": "markdown",
      "source": [
        "## **Part 1: Data Preparation & Understanding**\n",
        "\n",
        "### **A**\n",
        "### **Data Preparation (16 pts)**\n",
        "\n",
        "**Import the manager_performance dataset into Python, and clean/transform this data set. If you need some reminders about how to do this, revisit the data preparation module!**\n",
        "\n",
        "\n",
        "\n",
        "*   **Think about any ethical concerns regarding this dataset. Remove any columns that personally identify employees or could be used to discriminate against employees (sex, marital status, age, sexual orientation, etc.).**\n",
        "*   **Go through each attribute column and perform various data transformations necessary to cleanse the dataset. For each attribute/column, report each data cleansing step performed and the underlying assumption as to why the data cleansing action was performed.**\n",
        "  *   **Do not simply state that “all columns were trimmed” or restate the cleansing action itself.**\n",
        "  *   **State the assumption (e.g., “M” was changed to “Male” because it was assumed that “M” indicated “Male” in this dataset.).**\n",
        "  *   **Also, if no data transformations were made, state your assumption here as well (all data were assumed to be correct/clean).**\n",
        "\n",
        "\n",
        "*When you're finished performing all cleaning steps, please display a heading of your finalized df.*\n",
        "\n",
        "**For this portion of the assignment, fill in the information below to indicate the cleaning actions taken and the assumptions you made. `Manager_ID` has already been filled in, to provide an example.**"
      ],
      "metadata": {
        "id": "G9Nyy7B2qXl7"
      }
    },
    {
      "cell_type": "markdown",
      "source": [
        "## **Data Transformations & Assumptions Outline**\n",
        "\n",
        "* **Manager_ID**\n",
        "  * **Action**: None\n",
        "  * **Assumption**: All values appear correct with no duplicates\n",
        "* **First_Name**\n",
        "  * **Action**:\n",
        "  * **Assumption**:\n",
        "* **Last_Name**\n",
        "  * **Action**:\n",
        "  * **Asumption**:\n",
        "* **Age**\n",
        "  * **Action**:\n",
        "  * **Assumption**:\n",
        "* **Time_Employed**\n",
        "  * **Action**:\n",
        "  * **Assumption**:\n",
        "* **Num_Prev_Positions**\n",
        "  * **Action**:\n",
        "  * **Assumption**:\n",
        "* **Teamwork**\n",
        "  * **Action**:\n",
        "  * **Assumption**:\n",
        "* **Motivation**\n",
        "  * **Action**:\n",
        "  * **Assumption**:\n",
        "* **Leadership**\n",
        "  * **Action**:\n",
        "  * **Assumption**:\n",
        "* **Performance_Evaluation**\n",
        "  * **Action_1**:\n",
        "  * **Assumption_1**:\n",
        "  * **Action_2**:\n",
        "  * **Assumption_2**:\n",
        "  * **Action_3**:\n",
        "  * **Assumption_3**:\n"
      ],
      "metadata": {
        "id": "-6UdHR0DuFmb"
      }
    },
    {
      "cell_type": "code",
      "execution_count": 1,
      "metadata": {
        "id": "24lUOG55pYL7"
      },
      "outputs": [],
      "source": [
        "# replace with code to import the libraries and packages required to import data, manipulate dataframes, and produce plots (visualize data): pandas, numpy, seaborn, and matplotlib.pyplot\n",
        "# import matplotlib.pyplot as plt\n",
        "# import pandas as pd\n",
        "# import numpy as np\n",
        "# import seaborn as sns\n",
        "\n",
        "# import warnings\n",
        "# warnings.filterwarnings(\"ignore\")"
      ]
    },
    {
      "cell_type": "code",
      "source": [
        "# replace with code to import dataset\n",
        "# df = pd.read_csv('/content/manager_performance_cleanS24.csv')\n",
        "# pd.set_option(\"display.max_rows\", None, \"display.max_columns\", None)\n",
        "# replace with code to view the df headers\n",
        "# df.head()"
      ],
      "metadata": {
        "id": "XjHTvFESy488"
      },
      "execution_count": 2,
      "outputs": []
    },
    {
      "cell_type": "code",
      "source": [
        "# create new code cells as necessary. Remove columns based on instructions above; perform other data cleaning steps as necessary.\n",
        "# df = df.drop(['Manager_ID'], axis=1) #drop out redundant columns and text columns\n",
        "# drop missing values\n",
        "# df = df.dropna()\n",
        "\n",
        "# switch Performance_Evaluation to dummy variables\n",
        "# df = pd.get_dummies(data = df, drop_first = False, dtype = 'int')\n",
        "\n",
        "# df.head()\n",
        "# you might consider using a different code cell for each variable/column you make any changes to\n"
      ],
      "metadata": {
        "id": "JbqK66BizO3A"
      },
      "execution_count": 3,
      "outputs": []
    },
    {
      "cell_type": "code",
      "source": [
        "# replace with code to display finalized clean dataset"
      ],
      "metadata": {
        "id": "L0CCUWdkDTCn"
      },
      "execution_count": 4,
      "outputs": []
    },
    {
      "cell_type": "markdown",
      "source": [
        "### **B**\n",
        "### **Data Understanding (24 pts):**\n",
        "\n",
        "**Return to Canvas and download the `manager_performance_clean.csv`. This file is provided so that any errors potentially made during data cleansing do not result in subsequent errors/deductions for the remaining portions of the assignment. Thoroughly explore the data. Specifically:**\n",
        "\n",
        "**Look through this data set and, ignoring the ID, identify the types of data variables therein (nominal, ordinal, ratio, or interval).**"
      ],
      "metadata": {
        "id": "bBYpVmoM3qxn"
      }
    },
    {
      "cell_type": "markdown",
      "source": [
        "* **Time Employed:**\n",
        "* **Num Prev Positions:**\n",
        "* **Teamwork:**\n",
        "* **Motivation:**\n",
        "* **Leadership:**\n",
        "* **Performance Evaluation:**"
      ],
      "metadata": {
        "id": "OiS_aaOk4eA5"
      }
    },
    {
      "cell_type": "markdown",
      "source": [
        "**Produce a descriptive statistics table that excludes `Manager_ID` and groups by performance evaluation (i.e., high vs low). (*Hint: will need to use the groupby() and describe() functions*). Display below:**"
      ],
      "metadata": {
        "id": "lmBM-2wf41Be"
      }
    },
    {
      "cell_type": "code",
      "source": [
        "# # replace with code to read in the manager_performance_clean.csv file\n",
        "# df = pd.read_csv('/content/manager_performance_cleanS24.csv')\n",
        "# # replace with code to view headers\n",
        "# df.head()"
      ],
      "metadata": {
        "id": "2kwbBdHoC1jr"
      },
      "execution_count": 5,
      "outputs": []
    },
    {
      "cell_type": "code",
      "source": [
        "# replace with code to drop the primary key\n",
        "# df = df.drop(['Manager_ID'], axis=1)\n"
      ],
      "metadata": {
        "id": "4zYADlSh6CXF"
      },
      "execution_count": 6,
      "outputs": []
    },
    {
      "cell_type": "code",
      "source": [
        "# groupby performance_evaluation and produce descriptive statistics on all other variables\n",
        "# performance_stats = df.groupby('Performance_Evaluation').describe()\n",
        "# print(performance_stats)"
      ],
      "metadata": {
        "id": "Xunl-sQrs7kP"
      },
      "execution_count": 7,
      "outputs": []
    },
    {
      "cell_type": "markdown",
      "source": [
        "**From this, create at least two hypotheses regarding factors driving employee performance evaluations. These hypotheses should not be simple restatements of the facts shown in the table, but instead should reflect your thoughts about the potential underlying causes of these results (i.e., what might be causing the results seen in the table?). Explain any rationale behind your hypotheses as needed to clarify your line of thinking.**"
      ],
      "metadata": {
        "id": "ViZow_AD_AvS"
      }
    },
    {
      "cell_type": "markdown",
      "source": [],
      "metadata": {
        "id": "KIvRcw1I_L86"
      }
    },
    {
      "cell_type": "markdown",
      "source": [
        "**Develop a data visualization that distinguishes between high-and low-performers in the dataset. Include a brief caption describing the figure.**"
      ],
      "metadata": {
        "id": "AzkyaYh6BL9H"
      }
    },
    {
      "cell_type": "code",
      "source": [
        "# replace with code to produce viz -- see Module 3 cheat sheet or ICE for code on producing visualizations"
      ],
      "metadata": {
        "id": "mpvn-KyIB3eq"
      },
      "execution_count": 8,
      "outputs": []
    },
    {
      "cell_type": "markdown",
      "source": [
        "Caption:"
      ],
      "metadata": {
        "id": "FUVWtYW1CqYk"
      }
    },
    {
      "cell_type": "markdown",
      "source": [
        "**Develop a correlation matrix that includes all candidate independent variables, then display the correlation matrix in a color-mapped table. Assume all variables are normally distributed and DO NOT require transformations.**"
      ],
      "metadata": {
        "id": "cQEFe0OJDa1d"
      }
    },
    {
      "cell_type": "code",
      "source": [
        "# replace with code to drop the primary key and DV\n",
        "# replace with code to produce correlation matrix, and display in a color-mapped table"
      ],
      "metadata": {
        "id": "D3a6s5CrDqBu"
      },
      "execution_count": 9,
      "outputs": []
    },
    {
      "cell_type": "markdown",
      "source": [
        "**Are there any variable pairs that are multicollinear based on a correlation coefficient value cut-off of 0.6? Explain your answer.**"
      ],
      "metadata": {
        "id": "JTaI-hEGFKfp"
      }
    },
    {
      "cell_type": "markdown",
      "source": [],
      "metadata": {
        "id": "IaJF3i9lFTZo"
      }
    },
    {
      "cell_type": "markdown",
      "source": [
        "# **Part 2: Unsupervised DM (26 pts)**\n",
        "\n",
        "**Download the `manager_performance_clean.csv` dataset from Canvas. This file is provided so that any errors potentially made during data cleansing do not result in subsequent errors/deductions for the remaining portions of the assignment.**\n",
        "\n",
        "**Import the clean dataset to Python (or use the clean file imported in 1B above), and name your df something different for Part 2! Conduct an unsupervised data mining technique appropriate for this dataset. Think about the data variable types in this dataset and the business question, *then choose from association rules analysis or clustering analysis*.**\n",
        "\n",
        "> ***HINT: Revisit the ‘summary slide’ for each of the unsupervised data mining techniques to remember what type(s) of data variables can be input into these models.***\n",
        "\n",
        "---\n",
        "\n",
        "**Choose an appropriate and informative unsupervised data mining model. Think about what we're interested in figuring out with this manager performance dataset (performance evaluation) and how many classes we have for this variable. Change one parameter in your unsupervised analysis, based on this. (Hint: the number of classes determined above will be used to change this parameter, instead of using some of the other methods we discussed in class.)**"
      ],
      "metadata": {
        "id": "MWDz1R0fFi2D"
      }
    },
    {
      "cell_type": "markdown",
      "source": [
        "### **A**\n",
        "\n",
        "**Identify which model was selected and why. The why should focus on the types of data variables in the manager performance dataset. Also discuss any parameters changed in the model and why.**"
      ],
      "metadata": {
        "id": "RhAGXXPuG5Pd"
      }
    },
    {
      "cell_type": "markdown",
      "source": [],
      "metadata": {
        "id": "OLgIrJbUHJ2r"
      }
    },
    {
      "cell_type": "markdown",
      "source": [
        "### **B**\n",
        "\n",
        "**Perform the unsupervised DM technqiue using your selected model and parameters. Make sure to take any necessary preprocessing steps to ensure the data are in the proper form before running the model (hint: step taken to ensure no variables are over-weighted due to having different units).**\n",
        "\n",
        "> **After running your analysis, include any relevant results and interpret what they mean. Revisit the previous exercises for the chosen model to remember what the relevant results and interpretations should focus on.**\n",
        "\n",
        "***Make sure to add dummy codes for high and low performers before running any preprocessing steps. This is done with the `pd.get_dummies()`, which we implemented in other modules. `drop_first` should be set to `true`. It's important to dummy code this categorical variable first, otherwise the next preprocessing step you take will result in an error.***"
      ],
      "metadata": {
        "id": "Sm2hrQxgHtdt"
      }
    },
    {
      "cell_type": "code",
      "source": [
        "# replace with code to import required libraries and packages to perform unsupervised technique -- see that module's cheat sheet or ICE assignment\n",
        "!pip install kneed\n",
        "import matplotlib.pyplot as plt\n",
        "import pandas as pd\n",
        "import numpy as np\n",
        "import seaborn as sns\n",
        "from kneed import KneeLocator\n",
        "import sklearn.cluster\n",
        "from sklearn.cluster import KMeans\n",
        "from sklearn.metrics import silhouette_score\n",
        "from sklearn.preprocessing import StandardScaler\n",
        "\n",
        "import warnings\n",
        "warnings.filterwarnings(\"ignore\")"
      ],
      "metadata": {
        "id": "mRJoE1oRIFhF",
        "colab": {
          "base_uri": "https://localhost:8080/"
        },
        "outputId": "d674c480-a61c-430c-8734-3cb10a8284e4"
      },
      "execution_count": 10,
      "outputs": [
        {
          "output_type": "stream",
          "name": "stdout",
          "text": [
            "Requirement already satisfied: kneed in /usr/local/lib/python3.10/dist-packages (0.8.5)\n",
            "Requirement already satisfied: numpy>=1.14.2 in /usr/local/lib/python3.10/dist-packages (from kneed) (1.25.2)\n",
            "Requirement already satisfied: scipy>=1.0.0 in /usr/local/lib/python3.10/dist-packages (from kneed) (1.11.4)\n"
          ]
        }
      ]
    },
    {
      "cell_type": "code",
      "source": [
        "# replace with code to read in the manager_performance_clean.csv file\n",
        "df_cluster = pd.read_csv('/content/manager_performance_cleanS24.csv')\n",
        "# replace with code to view headers\n",
        "df_cluster.head()"
      ],
      "metadata": {
        "colab": {
          "base_uri": "https://localhost:8080/",
          "height": 206
        },
        "id": "9PkL15S6t0rq",
        "outputId": "016547c2-c943-49a8-9b8e-a6f9e2feff80"
      },
      "execution_count": 11,
      "outputs": [
        {
          "output_type": "execute_result",
          "data": {
            "text/plain": [
              "   Manager_ID  Time_Employed  Num_Prev_Positions  Teamwork  Motivation  \\\n",
              "0           1              8                   2         4          10   \n",
              "1           2              4                   3         8           7   \n",
              "2           3              3                   3         1           7   \n",
              "3           4              9                   1         4           4   \n",
              "4           5              7                   3         3           2   \n",
              "\n",
              "   Leadership Performance_Evaluation  \n",
              "0           8                   high  \n",
              "1           8                   high  \n",
              "2           5                    low  \n",
              "3           5                    low  \n",
              "4          10                    low  "
            ],
            "text/html": [
              "\n",
              "  <div id=\"df-82971dec-0090-4483-87c5-825659ea466d\" class=\"colab-df-container\">\n",
              "    <div>\n",
              "<style scoped>\n",
              "    .dataframe tbody tr th:only-of-type {\n",
              "        vertical-align: middle;\n",
              "    }\n",
              "\n",
              "    .dataframe tbody tr th {\n",
              "        vertical-align: top;\n",
              "    }\n",
              "\n",
              "    .dataframe thead th {\n",
              "        text-align: right;\n",
              "    }\n",
              "</style>\n",
              "<table border=\"1\" class=\"dataframe\">\n",
              "  <thead>\n",
              "    <tr style=\"text-align: right;\">\n",
              "      <th></th>\n",
              "      <th>Manager_ID</th>\n",
              "      <th>Time_Employed</th>\n",
              "      <th>Num_Prev_Positions</th>\n",
              "      <th>Teamwork</th>\n",
              "      <th>Motivation</th>\n",
              "      <th>Leadership</th>\n",
              "      <th>Performance_Evaluation</th>\n",
              "    </tr>\n",
              "  </thead>\n",
              "  <tbody>\n",
              "    <tr>\n",
              "      <th>0</th>\n",
              "      <td>1</td>\n",
              "      <td>8</td>\n",
              "      <td>2</td>\n",
              "      <td>4</td>\n",
              "      <td>10</td>\n",
              "      <td>8</td>\n",
              "      <td>high</td>\n",
              "    </tr>\n",
              "    <tr>\n",
              "      <th>1</th>\n",
              "      <td>2</td>\n",
              "      <td>4</td>\n",
              "      <td>3</td>\n",
              "      <td>8</td>\n",
              "      <td>7</td>\n",
              "      <td>8</td>\n",
              "      <td>high</td>\n",
              "    </tr>\n",
              "    <tr>\n",
              "      <th>2</th>\n",
              "      <td>3</td>\n",
              "      <td>3</td>\n",
              "      <td>3</td>\n",
              "      <td>1</td>\n",
              "      <td>7</td>\n",
              "      <td>5</td>\n",
              "      <td>low</td>\n",
              "    </tr>\n",
              "    <tr>\n",
              "      <th>3</th>\n",
              "      <td>4</td>\n",
              "      <td>9</td>\n",
              "      <td>1</td>\n",
              "      <td>4</td>\n",
              "      <td>4</td>\n",
              "      <td>5</td>\n",
              "      <td>low</td>\n",
              "    </tr>\n",
              "    <tr>\n",
              "      <th>4</th>\n",
              "      <td>5</td>\n",
              "      <td>7</td>\n",
              "      <td>3</td>\n",
              "      <td>3</td>\n",
              "      <td>2</td>\n",
              "      <td>10</td>\n",
              "      <td>low</td>\n",
              "    </tr>\n",
              "  </tbody>\n",
              "</table>\n",
              "</div>\n",
              "    <div class=\"colab-df-buttons\">\n",
              "\n",
              "  <div class=\"colab-df-container\">\n",
              "    <button class=\"colab-df-convert\" onclick=\"convertToInteractive('df-82971dec-0090-4483-87c5-825659ea466d')\"\n",
              "            title=\"Convert this dataframe to an interactive table.\"\n",
              "            style=\"display:none;\">\n",
              "\n",
              "  <svg xmlns=\"http://www.w3.org/2000/svg\" height=\"24px\" viewBox=\"0 -960 960 960\">\n",
              "    <path d=\"M120-120v-720h720v720H120Zm60-500h600v-160H180v160Zm220 220h160v-160H400v160Zm0 220h160v-160H400v160ZM180-400h160v-160H180v160Zm440 0h160v-160H620v160ZM180-180h160v-160H180v160Zm440 0h160v-160H620v160Z\"/>\n",
              "  </svg>\n",
              "    </button>\n",
              "\n",
              "  <style>\n",
              "    .colab-df-container {\n",
              "      display:flex;\n",
              "      gap: 12px;\n",
              "    }\n",
              "\n",
              "    .colab-df-convert {\n",
              "      background-color: #E8F0FE;\n",
              "      border: none;\n",
              "      border-radius: 50%;\n",
              "      cursor: pointer;\n",
              "      display: none;\n",
              "      fill: #1967D2;\n",
              "      height: 32px;\n",
              "      padding: 0 0 0 0;\n",
              "      width: 32px;\n",
              "    }\n",
              "\n",
              "    .colab-df-convert:hover {\n",
              "      background-color: #E2EBFA;\n",
              "      box-shadow: 0px 1px 2px rgba(60, 64, 67, 0.3), 0px 1px 3px 1px rgba(60, 64, 67, 0.15);\n",
              "      fill: #174EA6;\n",
              "    }\n",
              "\n",
              "    .colab-df-buttons div {\n",
              "      margin-bottom: 4px;\n",
              "    }\n",
              "\n",
              "    [theme=dark] .colab-df-convert {\n",
              "      background-color: #3B4455;\n",
              "      fill: #D2E3FC;\n",
              "    }\n",
              "\n",
              "    [theme=dark] .colab-df-convert:hover {\n",
              "      background-color: #434B5C;\n",
              "      box-shadow: 0px 1px 3px 1px rgba(0, 0, 0, 0.15);\n",
              "      filter: drop-shadow(0px 1px 2px rgba(0, 0, 0, 0.3));\n",
              "      fill: #FFFFFF;\n",
              "    }\n",
              "  </style>\n",
              "\n",
              "    <script>\n",
              "      const buttonEl =\n",
              "        document.querySelector('#df-82971dec-0090-4483-87c5-825659ea466d button.colab-df-convert');\n",
              "      buttonEl.style.display =\n",
              "        google.colab.kernel.accessAllowed ? 'block' : 'none';\n",
              "\n",
              "      async function convertToInteractive(key) {\n",
              "        const element = document.querySelector('#df-82971dec-0090-4483-87c5-825659ea466d');\n",
              "        const dataTable =\n",
              "          await google.colab.kernel.invokeFunction('convertToInteractive',\n",
              "                                                    [key], {});\n",
              "        if (!dataTable) return;\n",
              "\n",
              "        const docLinkHtml = 'Like what you see? Visit the ' +\n",
              "          '<a target=\"_blank\" href=https://colab.research.google.com/notebooks/data_table.ipynb>data table notebook</a>'\n",
              "          + ' to learn more about interactive tables.';\n",
              "        element.innerHTML = '';\n",
              "        dataTable['output_type'] = 'display_data';\n",
              "        await google.colab.output.renderOutput(dataTable, element);\n",
              "        const docLink = document.createElement('div');\n",
              "        docLink.innerHTML = docLinkHtml;\n",
              "        element.appendChild(docLink);\n",
              "      }\n",
              "    </script>\n",
              "  </div>\n",
              "\n",
              "\n",
              "<div id=\"df-3b1c2a7b-a553-476a-9719-52f105b5480f\">\n",
              "  <button class=\"colab-df-quickchart\" onclick=\"quickchart('df-3b1c2a7b-a553-476a-9719-52f105b5480f')\"\n",
              "            title=\"Suggest charts\"\n",
              "            style=\"display:none;\">\n",
              "\n",
              "<svg xmlns=\"http://www.w3.org/2000/svg\" height=\"24px\"viewBox=\"0 0 24 24\"\n",
              "     width=\"24px\">\n",
              "    <g>\n",
              "        <path d=\"M19 3H5c-1.1 0-2 .9-2 2v14c0 1.1.9 2 2 2h14c1.1 0 2-.9 2-2V5c0-1.1-.9-2-2-2zM9 17H7v-7h2v7zm4 0h-2V7h2v10zm4 0h-2v-4h2v4z\"/>\n",
              "    </g>\n",
              "</svg>\n",
              "  </button>\n",
              "\n",
              "<style>\n",
              "  .colab-df-quickchart {\n",
              "      --bg-color: #E8F0FE;\n",
              "      --fill-color: #1967D2;\n",
              "      --hover-bg-color: #E2EBFA;\n",
              "      --hover-fill-color: #174EA6;\n",
              "      --disabled-fill-color: #AAA;\n",
              "      --disabled-bg-color: #DDD;\n",
              "  }\n",
              "\n",
              "  [theme=dark] .colab-df-quickchart {\n",
              "      --bg-color: #3B4455;\n",
              "      --fill-color: #D2E3FC;\n",
              "      --hover-bg-color: #434B5C;\n",
              "      --hover-fill-color: #FFFFFF;\n",
              "      --disabled-bg-color: #3B4455;\n",
              "      --disabled-fill-color: #666;\n",
              "  }\n",
              "\n",
              "  .colab-df-quickchart {\n",
              "    background-color: var(--bg-color);\n",
              "    border: none;\n",
              "    border-radius: 50%;\n",
              "    cursor: pointer;\n",
              "    display: none;\n",
              "    fill: var(--fill-color);\n",
              "    height: 32px;\n",
              "    padding: 0;\n",
              "    width: 32px;\n",
              "  }\n",
              "\n",
              "  .colab-df-quickchart:hover {\n",
              "    background-color: var(--hover-bg-color);\n",
              "    box-shadow: 0 1px 2px rgba(60, 64, 67, 0.3), 0 1px 3px 1px rgba(60, 64, 67, 0.15);\n",
              "    fill: var(--button-hover-fill-color);\n",
              "  }\n",
              "\n",
              "  .colab-df-quickchart-complete:disabled,\n",
              "  .colab-df-quickchart-complete:disabled:hover {\n",
              "    background-color: var(--disabled-bg-color);\n",
              "    fill: var(--disabled-fill-color);\n",
              "    box-shadow: none;\n",
              "  }\n",
              "\n",
              "  .colab-df-spinner {\n",
              "    border: 2px solid var(--fill-color);\n",
              "    border-color: transparent;\n",
              "    border-bottom-color: var(--fill-color);\n",
              "    animation:\n",
              "      spin 1s steps(1) infinite;\n",
              "  }\n",
              "\n",
              "  @keyframes spin {\n",
              "    0% {\n",
              "      border-color: transparent;\n",
              "      border-bottom-color: var(--fill-color);\n",
              "      border-left-color: var(--fill-color);\n",
              "    }\n",
              "    20% {\n",
              "      border-color: transparent;\n",
              "      border-left-color: var(--fill-color);\n",
              "      border-top-color: var(--fill-color);\n",
              "    }\n",
              "    30% {\n",
              "      border-color: transparent;\n",
              "      border-left-color: var(--fill-color);\n",
              "      border-top-color: var(--fill-color);\n",
              "      border-right-color: var(--fill-color);\n",
              "    }\n",
              "    40% {\n",
              "      border-color: transparent;\n",
              "      border-right-color: var(--fill-color);\n",
              "      border-top-color: var(--fill-color);\n",
              "    }\n",
              "    60% {\n",
              "      border-color: transparent;\n",
              "      border-right-color: var(--fill-color);\n",
              "    }\n",
              "    80% {\n",
              "      border-color: transparent;\n",
              "      border-right-color: var(--fill-color);\n",
              "      border-bottom-color: var(--fill-color);\n",
              "    }\n",
              "    90% {\n",
              "      border-color: transparent;\n",
              "      border-bottom-color: var(--fill-color);\n",
              "    }\n",
              "  }\n",
              "</style>\n",
              "\n",
              "  <script>\n",
              "    async function quickchart(key) {\n",
              "      const quickchartButtonEl =\n",
              "        document.querySelector('#' + key + ' button');\n",
              "      quickchartButtonEl.disabled = true;  // To prevent multiple clicks.\n",
              "      quickchartButtonEl.classList.add('colab-df-spinner');\n",
              "      try {\n",
              "        const charts = await google.colab.kernel.invokeFunction(\n",
              "            'suggestCharts', [key], {});\n",
              "      } catch (error) {\n",
              "        console.error('Error during call to suggestCharts:', error);\n",
              "      }\n",
              "      quickchartButtonEl.classList.remove('colab-df-spinner');\n",
              "      quickchartButtonEl.classList.add('colab-df-quickchart-complete');\n",
              "    }\n",
              "    (() => {\n",
              "      let quickchartButtonEl =\n",
              "        document.querySelector('#df-3b1c2a7b-a553-476a-9719-52f105b5480f button');\n",
              "      quickchartButtonEl.style.display =\n",
              "        google.colab.kernel.accessAllowed ? 'block' : 'none';\n",
              "    })();\n",
              "  </script>\n",
              "</div>\n",
              "    </div>\n",
              "  </div>\n"
            ],
            "application/vnd.google.colaboratory.intrinsic+json": {
              "type": "dataframe",
              "variable_name": "df_cluster",
              "summary": "{\n  \"name\": \"df_cluster\",\n  \"rows\": 1025,\n  \"fields\": [\n    {\n      \"column\": \"Manager_ID\",\n      \"properties\": {\n        \"dtype\": \"number\",\n        \"std\": 296,\n        \"min\": 1,\n        \"max\": 1025,\n        \"num_unique_values\": 1025,\n        \"samples\": [\n          528,\n          360,\n          448\n        ],\n        \"semantic_type\": \"\",\n        \"description\": \"\"\n      }\n    },\n    {\n      \"column\": \"Time_Employed\",\n      \"properties\": {\n        \"dtype\": \"number\",\n        \"std\": 4,\n        \"min\": 0,\n        \"max\": 18,\n        \"num_unique_values\": 18,\n        \"samples\": [\n          8,\n          4,\n          12\n        ],\n        \"semantic_type\": \"\",\n        \"description\": \"\"\n      }\n    },\n    {\n      \"column\": \"Num_Prev_Positions\",\n      \"properties\": {\n        \"dtype\": \"number\",\n        \"std\": 1,\n        \"min\": 0,\n        \"max\": 3,\n        \"num_unique_values\": 4,\n        \"samples\": [\n          3,\n          0,\n          2\n        ],\n        \"semantic_type\": \"\",\n        \"description\": \"\"\n      }\n    },\n    {\n      \"column\": \"Teamwork\",\n      \"properties\": {\n        \"dtype\": \"number\",\n        \"std\": 2,\n        \"min\": 1,\n        \"max\": 10,\n        \"num_unique_values\": 10,\n        \"samples\": [\n          5,\n          8,\n          6\n        ],\n        \"semantic_type\": \"\",\n        \"description\": \"\"\n      }\n    },\n    {\n      \"column\": \"Motivation\",\n      \"properties\": {\n        \"dtype\": \"number\",\n        \"std\": 2,\n        \"min\": 1,\n        \"max\": 10,\n        \"num_unique_values\": 10,\n        \"samples\": [\n          5,\n          7,\n          9\n        ],\n        \"semantic_type\": \"\",\n        \"description\": \"\"\n      }\n    },\n    {\n      \"column\": \"Leadership\",\n      \"properties\": {\n        \"dtype\": \"number\",\n        \"std\": 2,\n        \"min\": 1,\n        \"max\": 10,\n        \"num_unique_values\": 10,\n        \"samples\": [\n          2,\n          5,\n          4\n        ],\n        \"semantic_type\": \"\",\n        \"description\": \"\"\n      }\n    },\n    {\n      \"column\": \"Performance_Evaluation\",\n      \"properties\": {\n        \"dtype\": \"category\",\n        \"num_unique_values\": 2,\n        \"samples\": [\n          \"low\",\n          \"high\"\n        ],\n        \"semantic_type\": \"\",\n        \"description\": \"\"\n      }\n    }\n  ]\n}"
            }
          },
          "metadata": {},
          "execution_count": 11
        }
      ]
    },
    {
      "cell_type": "code",
      "source": [
        "# replace with code to dummy code categorical variables (rename df)\n",
        "df_cluster = pd.get_dummies(data = df_cluster, drop_first = True, dtype = 'int')\n",
        "\n",
        "df_cluster.head()"
      ],
      "metadata": {
        "id": "uWWSIADsfDGQ",
        "colab": {
          "base_uri": "https://localhost:8080/",
          "height": 206
        },
        "outputId": "7b29ae0d-4c1f-4aa4-aeba-e9de2141da86"
      },
      "execution_count": 12,
      "outputs": [
        {
          "output_type": "execute_result",
          "data": {
            "text/plain": [
              "   Manager_ID  Time_Employed  Num_Prev_Positions  Teamwork  Motivation  \\\n",
              "0           1              8                   2         4          10   \n",
              "1           2              4                   3         8           7   \n",
              "2           3              3                   3         1           7   \n",
              "3           4              9                   1         4           4   \n",
              "4           5              7                   3         3           2   \n",
              "\n",
              "   Leadership  Performance_Evaluation_low  \n",
              "0           8                           0  \n",
              "1           8                           0  \n",
              "2           5                           1  \n",
              "3           5                           1  \n",
              "4          10                           1  "
            ],
            "text/html": [
              "\n",
              "  <div id=\"df-01fb9db3-1778-46f9-9a49-25e9234ef9d8\" class=\"colab-df-container\">\n",
              "    <div>\n",
              "<style scoped>\n",
              "    .dataframe tbody tr th:only-of-type {\n",
              "        vertical-align: middle;\n",
              "    }\n",
              "\n",
              "    .dataframe tbody tr th {\n",
              "        vertical-align: top;\n",
              "    }\n",
              "\n",
              "    .dataframe thead th {\n",
              "        text-align: right;\n",
              "    }\n",
              "</style>\n",
              "<table border=\"1\" class=\"dataframe\">\n",
              "  <thead>\n",
              "    <tr style=\"text-align: right;\">\n",
              "      <th></th>\n",
              "      <th>Manager_ID</th>\n",
              "      <th>Time_Employed</th>\n",
              "      <th>Num_Prev_Positions</th>\n",
              "      <th>Teamwork</th>\n",
              "      <th>Motivation</th>\n",
              "      <th>Leadership</th>\n",
              "      <th>Performance_Evaluation_low</th>\n",
              "    </tr>\n",
              "  </thead>\n",
              "  <tbody>\n",
              "    <tr>\n",
              "      <th>0</th>\n",
              "      <td>1</td>\n",
              "      <td>8</td>\n",
              "      <td>2</td>\n",
              "      <td>4</td>\n",
              "      <td>10</td>\n",
              "      <td>8</td>\n",
              "      <td>0</td>\n",
              "    </tr>\n",
              "    <tr>\n",
              "      <th>1</th>\n",
              "      <td>2</td>\n",
              "      <td>4</td>\n",
              "      <td>3</td>\n",
              "      <td>8</td>\n",
              "      <td>7</td>\n",
              "      <td>8</td>\n",
              "      <td>0</td>\n",
              "    </tr>\n",
              "    <tr>\n",
              "      <th>2</th>\n",
              "      <td>3</td>\n",
              "      <td>3</td>\n",
              "      <td>3</td>\n",
              "      <td>1</td>\n",
              "      <td>7</td>\n",
              "      <td>5</td>\n",
              "      <td>1</td>\n",
              "    </tr>\n",
              "    <tr>\n",
              "      <th>3</th>\n",
              "      <td>4</td>\n",
              "      <td>9</td>\n",
              "      <td>1</td>\n",
              "      <td>4</td>\n",
              "      <td>4</td>\n",
              "      <td>5</td>\n",
              "      <td>1</td>\n",
              "    </tr>\n",
              "    <tr>\n",
              "      <th>4</th>\n",
              "      <td>5</td>\n",
              "      <td>7</td>\n",
              "      <td>3</td>\n",
              "      <td>3</td>\n",
              "      <td>2</td>\n",
              "      <td>10</td>\n",
              "      <td>1</td>\n",
              "    </tr>\n",
              "  </tbody>\n",
              "</table>\n",
              "</div>\n",
              "    <div class=\"colab-df-buttons\">\n",
              "\n",
              "  <div class=\"colab-df-container\">\n",
              "    <button class=\"colab-df-convert\" onclick=\"convertToInteractive('df-01fb9db3-1778-46f9-9a49-25e9234ef9d8')\"\n",
              "            title=\"Convert this dataframe to an interactive table.\"\n",
              "            style=\"display:none;\">\n",
              "\n",
              "  <svg xmlns=\"http://www.w3.org/2000/svg\" height=\"24px\" viewBox=\"0 -960 960 960\">\n",
              "    <path d=\"M120-120v-720h720v720H120Zm60-500h600v-160H180v160Zm220 220h160v-160H400v160Zm0 220h160v-160H400v160ZM180-400h160v-160H180v160Zm440 0h160v-160H620v160ZM180-180h160v-160H180v160Zm440 0h160v-160H620v160Z\"/>\n",
              "  </svg>\n",
              "    </button>\n",
              "\n",
              "  <style>\n",
              "    .colab-df-container {\n",
              "      display:flex;\n",
              "      gap: 12px;\n",
              "    }\n",
              "\n",
              "    .colab-df-convert {\n",
              "      background-color: #E8F0FE;\n",
              "      border: none;\n",
              "      border-radius: 50%;\n",
              "      cursor: pointer;\n",
              "      display: none;\n",
              "      fill: #1967D2;\n",
              "      height: 32px;\n",
              "      padding: 0 0 0 0;\n",
              "      width: 32px;\n",
              "    }\n",
              "\n",
              "    .colab-df-convert:hover {\n",
              "      background-color: #E2EBFA;\n",
              "      box-shadow: 0px 1px 2px rgba(60, 64, 67, 0.3), 0px 1px 3px 1px rgba(60, 64, 67, 0.15);\n",
              "      fill: #174EA6;\n",
              "    }\n",
              "\n",
              "    .colab-df-buttons div {\n",
              "      margin-bottom: 4px;\n",
              "    }\n",
              "\n",
              "    [theme=dark] .colab-df-convert {\n",
              "      background-color: #3B4455;\n",
              "      fill: #D2E3FC;\n",
              "    }\n",
              "\n",
              "    [theme=dark] .colab-df-convert:hover {\n",
              "      background-color: #434B5C;\n",
              "      box-shadow: 0px 1px 3px 1px rgba(0, 0, 0, 0.15);\n",
              "      filter: drop-shadow(0px 1px 2px rgba(0, 0, 0, 0.3));\n",
              "      fill: #FFFFFF;\n",
              "    }\n",
              "  </style>\n",
              "\n",
              "    <script>\n",
              "      const buttonEl =\n",
              "        document.querySelector('#df-01fb9db3-1778-46f9-9a49-25e9234ef9d8 button.colab-df-convert');\n",
              "      buttonEl.style.display =\n",
              "        google.colab.kernel.accessAllowed ? 'block' : 'none';\n",
              "\n",
              "      async function convertToInteractive(key) {\n",
              "        const element = document.querySelector('#df-01fb9db3-1778-46f9-9a49-25e9234ef9d8');\n",
              "        const dataTable =\n",
              "          await google.colab.kernel.invokeFunction('convertToInteractive',\n",
              "                                                    [key], {});\n",
              "        if (!dataTable) return;\n",
              "\n",
              "        const docLinkHtml = 'Like what you see? Visit the ' +\n",
              "          '<a target=\"_blank\" href=https://colab.research.google.com/notebooks/data_table.ipynb>data table notebook</a>'\n",
              "          + ' to learn more about interactive tables.';\n",
              "        element.innerHTML = '';\n",
              "        dataTable['output_type'] = 'display_data';\n",
              "        await google.colab.output.renderOutput(dataTable, element);\n",
              "        const docLink = document.createElement('div');\n",
              "        docLink.innerHTML = docLinkHtml;\n",
              "        element.appendChild(docLink);\n",
              "      }\n",
              "    </script>\n",
              "  </div>\n",
              "\n",
              "\n",
              "<div id=\"df-b2a97470-838c-4644-b617-e023016a0076\">\n",
              "  <button class=\"colab-df-quickchart\" onclick=\"quickchart('df-b2a97470-838c-4644-b617-e023016a0076')\"\n",
              "            title=\"Suggest charts\"\n",
              "            style=\"display:none;\">\n",
              "\n",
              "<svg xmlns=\"http://www.w3.org/2000/svg\" height=\"24px\"viewBox=\"0 0 24 24\"\n",
              "     width=\"24px\">\n",
              "    <g>\n",
              "        <path d=\"M19 3H5c-1.1 0-2 .9-2 2v14c0 1.1.9 2 2 2h14c1.1 0 2-.9 2-2V5c0-1.1-.9-2-2-2zM9 17H7v-7h2v7zm4 0h-2V7h2v10zm4 0h-2v-4h2v4z\"/>\n",
              "    </g>\n",
              "</svg>\n",
              "  </button>\n",
              "\n",
              "<style>\n",
              "  .colab-df-quickchart {\n",
              "      --bg-color: #E8F0FE;\n",
              "      --fill-color: #1967D2;\n",
              "      --hover-bg-color: #E2EBFA;\n",
              "      --hover-fill-color: #174EA6;\n",
              "      --disabled-fill-color: #AAA;\n",
              "      --disabled-bg-color: #DDD;\n",
              "  }\n",
              "\n",
              "  [theme=dark] .colab-df-quickchart {\n",
              "      --bg-color: #3B4455;\n",
              "      --fill-color: #D2E3FC;\n",
              "      --hover-bg-color: #434B5C;\n",
              "      --hover-fill-color: #FFFFFF;\n",
              "      --disabled-bg-color: #3B4455;\n",
              "      --disabled-fill-color: #666;\n",
              "  }\n",
              "\n",
              "  .colab-df-quickchart {\n",
              "    background-color: var(--bg-color);\n",
              "    border: none;\n",
              "    border-radius: 50%;\n",
              "    cursor: pointer;\n",
              "    display: none;\n",
              "    fill: var(--fill-color);\n",
              "    height: 32px;\n",
              "    padding: 0;\n",
              "    width: 32px;\n",
              "  }\n",
              "\n",
              "  .colab-df-quickchart:hover {\n",
              "    background-color: var(--hover-bg-color);\n",
              "    box-shadow: 0 1px 2px rgba(60, 64, 67, 0.3), 0 1px 3px 1px rgba(60, 64, 67, 0.15);\n",
              "    fill: var(--button-hover-fill-color);\n",
              "  }\n",
              "\n",
              "  .colab-df-quickchart-complete:disabled,\n",
              "  .colab-df-quickchart-complete:disabled:hover {\n",
              "    background-color: var(--disabled-bg-color);\n",
              "    fill: var(--disabled-fill-color);\n",
              "    box-shadow: none;\n",
              "  }\n",
              "\n",
              "  .colab-df-spinner {\n",
              "    border: 2px solid var(--fill-color);\n",
              "    border-color: transparent;\n",
              "    border-bottom-color: var(--fill-color);\n",
              "    animation:\n",
              "      spin 1s steps(1) infinite;\n",
              "  }\n",
              "\n",
              "  @keyframes spin {\n",
              "    0% {\n",
              "      border-color: transparent;\n",
              "      border-bottom-color: var(--fill-color);\n",
              "      border-left-color: var(--fill-color);\n",
              "    }\n",
              "    20% {\n",
              "      border-color: transparent;\n",
              "      border-left-color: var(--fill-color);\n",
              "      border-top-color: var(--fill-color);\n",
              "    }\n",
              "    30% {\n",
              "      border-color: transparent;\n",
              "      border-left-color: var(--fill-color);\n",
              "      border-top-color: var(--fill-color);\n",
              "      border-right-color: var(--fill-color);\n",
              "    }\n",
              "    40% {\n",
              "      border-color: transparent;\n",
              "      border-right-color: var(--fill-color);\n",
              "      border-top-color: var(--fill-color);\n",
              "    }\n",
              "    60% {\n",
              "      border-color: transparent;\n",
              "      border-right-color: var(--fill-color);\n",
              "    }\n",
              "    80% {\n",
              "      border-color: transparent;\n",
              "      border-right-color: var(--fill-color);\n",
              "      border-bottom-color: var(--fill-color);\n",
              "    }\n",
              "    90% {\n",
              "      border-color: transparent;\n",
              "      border-bottom-color: var(--fill-color);\n",
              "    }\n",
              "  }\n",
              "</style>\n",
              "\n",
              "  <script>\n",
              "    async function quickchart(key) {\n",
              "      const quickchartButtonEl =\n",
              "        document.querySelector('#' + key + ' button');\n",
              "      quickchartButtonEl.disabled = true;  // To prevent multiple clicks.\n",
              "      quickchartButtonEl.classList.add('colab-df-spinner');\n",
              "      try {\n",
              "        const charts = await google.colab.kernel.invokeFunction(\n",
              "            'suggestCharts', [key], {});\n",
              "      } catch (error) {\n",
              "        console.error('Error during call to suggestCharts:', error);\n",
              "      }\n",
              "      quickchartButtonEl.classList.remove('colab-df-spinner');\n",
              "      quickchartButtonEl.classList.add('colab-df-quickchart-complete');\n",
              "    }\n",
              "    (() => {\n",
              "      let quickchartButtonEl =\n",
              "        document.querySelector('#df-b2a97470-838c-4644-b617-e023016a0076 button');\n",
              "      quickchartButtonEl.style.display =\n",
              "        google.colab.kernel.accessAllowed ? 'block' : 'none';\n",
              "    })();\n",
              "  </script>\n",
              "</div>\n",
              "    </div>\n",
              "  </div>\n"
            ],
            "application/vnd.google.colaboratory.intrinsic+json": {
              "type": "dataframe",
              "variable_name": "df_cluster",
              "summary": "{\n  \"name\": \"df_cluster\",\n  \"rows\": 1025,\n  \"fields\": [\n    {\n      \"column\": \"Manager_ID\",\n      \"properties\": {\n        \"dtype\": \"number\",\n        \"std\": 296,\n        \"min\": 1,\n        \"max\": 1025,\n        \"num_unique_values\": 1025,\n        \"samples\": [\n          528,\n          360,\n          448\n        ],\n        \"semantic_type\": \"\",\n        \"description\": \"\"\n      }\n    },\n    {\n      \"column\": \"Time_Employed\",\n      \"properties\": {\n        \"dtype\": \"number\",\n        \"std\": 4,\n        \"min\": 0,\n        \"max\": 18,\n        \"num_unique_values\": 18,\n        \"samples\": [\n          8,\n          4,\n          12\n        ],\n        \"semantic_type\": \"\",\n        \"description\": \"\"\n      }\n    },\n    {\n      \"column\": \"Num_Prev_Positions\",\n      \"properties\": {\n        \"dtype\": \"number\",\n        \"std\": 1,\n        \"min\": 0,\n        \"max\": 3,\n        \"num_unique_values\": 4,\n        \"samples\": [\n          3,\n          0,\n          2\n        ],\n        \"semantic_type\": \"\",\n        \"description\": \"\"\n      }\n    },\n    {\n      \"column\": \"Teamwork\",\n      \"properties\": {\n        \"dtype\": \"number\",\n        \"std\": 2,\n        \"min\": 1,\n        \"max\": 10,\n        \"num_unique_values\": 10,\n        \"samples\": [\n          5,\n          8,\n          6\n        ],\n        \"semantic_type\": \"\",\n        \"description\": \"\"\n      }\n    },\n    {\n      \"column\": \"Motivation\",\n      \"properties\": {\n        \"dtype\": \"number\",\n        \"std\": 2,\n        \"min\": 1,\n        \"max\": 10,\n        \"num_unique_values\": 10,\n        \"samples\": [\n          5,\n          7,\n          9\n        ],\n        \"semantic_type\": \"\",\n        \"description\": \"\"\n      }\n    },\n    {\n      \"column\": \"Leadership\",\n      \"properties\": {\n        \"dtype\": \"number\",\n        \"std\": 2,\n        \"min\": 1,\n        \"max\": 10,\n        \"num_unique_values\": 10,\n        \"samples\": [\n          2,\n          5,\n          4\n        ],\n        \"semantic_type\": \"\",\n        \"description\": \"\"\n      }\n    },\n    {\n      \"column\": \"Performance_Evaluation_low\",\n      \"properties\": {\n        \"dtype\": \"number\",\n        \"std\": 0,\n        \"min\": 0,\n        \"max\": 1,\n        \"num_unique_values\": 2,\n        \"samples\": [\n          1,\n          0\n        ],\n        \"semantic_type\": \"\",\n        \"description\": \"\"\n      }\n    }\n  ]\n}"
            }
          },
          "metadata": {},
          "execution_count": 12
        }
      ]
    },
    {
      "cell_type": "code",
      "source": [
        "#replace with code to create an object called features that drops the ID\n",
        "features = df_cluster.drop(['Manager_ID'], axis=1)\n",
        "#replace with code to preview features\n",
        "features.head()"
      ],
      "metadata": {
        "id": "vzthU-RuhEJs",
        "colab": {
          "base_uri": "https://localhost:8080/",
          "height": 206
        },
        "outputId": "13a01896-626f-4f2b-9902-4c5e8f7ac2c1"
      },
      "execution_count": 13,
      "outputs": [
        {
          "output_type": "execute_result",
          "data": {
            "text/plain": [
              "   Time_Employed  Num_Prev_Positions  Teamwork  Motivation  Leadership  \\\n",
              "0              8                   2         4          10           8   \n",
              "1              4                   3         8           7           8   \n",
              "2              3                   3         1           7           5   \n",
              "3              9                   1         4           4           5   \n",
              "4              7                   3         3           2          10   \n",
              "\n",
              "   Performance_Evaluation_low  \n",
              "0                           0  \n",
              "1                           0  \n",
              "2                           1  \n",
              "3                           1  \n",
              "4                           1  "
            ],
            "text/html": [
              "\n",
              "  <div id=\"df-9483a05f-3e71-4039-be97-954f293875c3\" class=\"colab-df-container\">\n",
              "    <div>\n",
              "<style scoped>\n",
              "    .dataframe tbody tr th:only-of-type {\n",
              "        vertical-align: middle;\n",
              "    }\n",
              "\n",
              "    .dataframe tbody tr th {\n",
              "        vertical-align: top;\n",
              "    }\n",
              "\n",
              "    .dataframe thead th {\n",
              "        text-align: right;\n",
              "    }\n",
              "</style>\n",
              "<table border=\"1\" class=\"dataframe\">\n",
              "  <thead>\n",
              "    <tr style=\"text-align: right;\">\n",
              "      <th></th>\n",
              "      <th>Time_Employed</th>\n",
              "      <th>Num_Prev_Positions</th>\n",
              "      <th>Teamwork</th>\n",
              "      <th>Motivation</th>\n",
              "      <th>Leadership</th>\n",
              "      <th>Performance_Evaluation_low</th>\n",
              "    </tr>\n",
              "  </thead>\n",
              "  <tbody>\n",
              "    <tr>\n",
              "      <th>0</th>\n",
              "      <td>8</td>\n",
              "      <td>2</td>\n",
              "      <td>4</td>\n",
              "      <td>10</td>\n",
              "      <td>8</td>\n",
              "      <td>0</td>\n",
              "    </tr>\n",
              "    <tr>\n",
              "      <th>1</th>\n",
              "      <td>4</td>\n",
              "      <td>3</td>\n",
              "      <td>8</td>\n",
              "      <td>7</td>\n",
              "      <td>8</td>\n",
              "      <td>0</td>\n",
              "    </tr>\n",
              "    <tr>\n",
              "      <th>2</th>\n",
              "      <td>3</td>\n",
              "      <td>3</td>\n",
              "      <td>1</td>\n",
              "      <td>7</td>\n",
              "      <td>5</td>\n",
              "      <td>1</td>\n",
              "    </tr>\n",
              "    <tr>\n",
              "      <th>3</th>\n",
              "      <td>9</td>\n",
              "      <td>1</td>\n",
              "      <td>4</td>\n",
              "      <td>4</td>\n",
              "      <td>5</td>\n",
              "      <td>1</td>\n",
              "    </tr>\n",
              "    <tr>\n",
              "      <th>4</th>\n",
              "      <td>7</td>\n",
              "      <td>3</td>\n",
              "      <td>3</td>\n",
              "      <td>2</td>\n",
              "      <td>10</td>\n",
              "      <td>1</td>\n",
              "    </tr>\n",
              "  </tbody>\n",
              "</table>\n",
              "</div>\n",
              "    <div class=\"colab-df-buttons\">\n",
              "\n",
              "  <div class=\"colab-df-container\">\n",
              "    <button class=\"colab-df-convert\" onclick=\"convertToInteractive('df-9483a05f-3e71-4039-be97-954f293875c3')\"\n",
              "            title=\"Convert this dataframe to an interactive table.\"\n",
              "            style=\"display:none;\">\n",
              "\n",
              "  <svg xmlns=\"http://www.w3.org/2000/svg\" height=\"24px\" viewBox=\"0 -960 960 960\">\n",
              "    <path d=\"M120-120v-720h720v720H120Zm60-500h600v-160H180v160Zm220 220h160v-160H400v160Zm0 220h160v-160H400v160ZM180-400h160v-160H180v160Zm440 0h160v-160H620v160ZM180-180h160v-160H180v160Zm440 0h160v-160H620v160Z\"/>\n",
              "  </svg>\n",
              "    </button>\n",
              "\n",
              "  <style>\n",
              "    .colab-df-container {\n",
              "      display:flex;\n",
              "      gap: 12px;\n",
              "    }\n",
              "\n",
              "    .colab-df-convert {\n",
              "      background-color: #E8F0FE;\n",
              "      border: none;\n",
              "      border-radius: 50%;\n",
              "      cursor: pointer;\n",
              "      display: none;\n",
              "      fill: #1967D2;\n",
              "      height: 32px;\n",
              "      padding: 0 0 0 0;\n",
              "      width: 32px;\n",
              "    }\n",
              "\n",
              "    .colab-df-convert:hover {\n",
              "      background-color: #E2EBFA;\n",
              "      box-shadow: 0px 1px 2px rgba(60, 64, 67, 0.3), 0px 1px 3px 1px rgba(60, 64, 67, 0.15);\n",
              "      fill: #174EA6;\n",
              "    }\n",
              "\n",
              "    .colab-df-buttons div {\n",
              "      margin-bottom: 4px;\n",
              "    }\n",
              "\n",
              "    [theme=dark] .colab-df-convert {\n",
              "      background-color: #3B4455;\n",
              "      fill: #D2E3FC;\n",
              "    }\n",
              "\n",
              "    [theme=dark] .colab-df-convert:hover {\n",
              "      background-color: #434B5C;\n",
              "      box-shadow: 0px 1px 3px 1px rgba(0, 0, 0, 0.15);\n",
              "      filter: drop-shadow(0px 1px 2px rgba(0, 0, 0, 0.3));\n",
              "      fill: #FFFFFF;\n",
              "    }\n",
              "  </style>\n",
              "\n",
              "    <script>\n",
              "      const buttonEl =\n",
              "        document.querySelector('#df-9483a05f-3e71-4039-be97-954f293875c3 button.colab-df-convert');\n",
              "      buttonEl.style.display =\n",
              "        google.colab.kernel.accessAllowed ? 'block' : 'none';\n",
              "\n",
              "      async function convertToInteractive(key) {\n",
              "        const element = document.querySelector('#df-9483a05f-3e71-4039-be97-954f293875c3');\n",
              "        const dataTable =\n",
              "          await google.colab.kernel.invokeFunction('convertToInteractive',\n",
              "                                                    [key], {});\n",
              "        if (!dataTable) return;\n",
              "\n",
              "        const docLinkHtml = 'Like what you see? Visit the ' +\n",
              "          '<a target=\"_blank\" href=https://colab.research.google.com/notebooks/data_table.ipynb>data table notebook</a>'\n",
              "          + ' to learn more about interactive tables.';\n",
              "        element.innerHTML = '';\n",
              "        dataTable['output_type'] = 'display_data';\n",
              "        await google.colab.output.renderOutput(dataTable, element);\n",
              "        const docLink = document.createElement('div');\n",
              "        docLink.innerHTML = docLinkHtml;\n",
              "        element.appendChild(docLink);\n",
              "      }\n",
              "    </script>\n",
              "  </div>\n",
              "\n",
              "\n",
              "<div id=\"df-3fdf1982-f8ec-45e5-9fc4-3c6842a959de\">\n",
              "  <button class=\"colab-df-quickchart\" onclick=\"quickchart('df-3fdf1982-f8ec-45e5-9fc4-3c6842a959de')\"\n",
              "            title=\"Suggest charts\"\n",
              "            style=\"display:none;\">\n",
              "\n",
              "<svg xmlns=\"http://www.w3.org/2000/svg\" height=\"24px\"viewBox=\"0 0 24 24\"\n",
              "     width=\"24px\">\n",
              "    <g>\n",
              "        <path d=\"M19 3H5c-1.1 0-2 .9-2 2v14c0 1.1.9 2 2 2h14c1.1 0 2-.9 2-2V5c0-1.1-.9-2-2-2zM9 17H7v-7h2v7zm4 0h-2V7h2v10zm4 0h-2v-4h2v4z\"/>\n",
              "    </g>\n",
              "</svg>\n",
              "  </button>\n",
              "\n",
              "<style>\n",
              "  .colab-df-quickchart {\n",
              "      --bg-color: #E8F0FE;\n",
              "      --fill-color: #1967D2;\n",
              "      --hover-bg-color: #E2EBFA;\n",
              "      --hover-fill-color: #174EA6;\n",
              "      --disabled-fill-color: #AAA;\n",
              "      --disabled-bg-color: #DDD;\n",
              "  }\n",
              "\n",
              "  [theme=dark] .colab-df-quickchart {\n",
              "      --bg-color: #3B4455;\n",
              "      --fill-color: #D2E3FC;\n",
              "      --hover-bg-color: #434B5C;\n",
              "      --hover-fill-color: #FFFFFF;\n",
              "      --disabled-bg-color: #3B4455;\n",
              "      --disabled-fill-color: #666;\n",
              "  }\n",
              "\n",
              "  .colab-df-quickchart {\n",
              "    background-color: var(--bg-color);\n",
              "    border: none;\n",
              "    border-radius: 50%;\n",
              "    cursor: pointer;\n",
              "    display: none;\n",
              "    fill: var(--fill-color);\n",
              "    height: 32px;\n",
              "    padding: 0;\n",
              "    width: 32px;\n",
              "  }\n",
              "\n",
              "  .colab-df-quickchart:hover {\n",
              "    background-color: var(--hover-bg-color);\n",
              "    box-shadow: 0 1px 2px rgba(60, 64, 67, 0.3), 0 1px 3px 1px rgba(60, 64, 67, 0.15);\n",
              "    fill: var(--button-hover-fill-color);\n",
              "  }\n",
              "\n",
              "  .colab-df-quickchart-complete:disabled,\n",
              "  .colab-df-quickchart-complete:disabled:hover {\n",
              "    background-color: var(--disabled-bg-color);\n",
              "    fill: var(--disabled-fill-color);\n",
              "    box-shadow: none;\n",
              "  }\n",
              "\n",
              "  .colab-df-spinner {\n",
              "    border: 2px solid var(--fill-color);\n",
              "    border-color: transparent;\n",
              "    border-bottom-color: var(--fill-color);\n",
              "    animation:\n",
              "      spin 1s steps(1) infinite;\n",
              "  }\n",
              "\n",
              "  @keyframes spin {\n",
              "    0% {\n",
              "      border-color: transparent;\n",
              "      border-bottom-color: var(--fill-color);\n",
              "      border-left-color: var(--fill-color);\n",
              "    }\n",
              "    20% {\n",
              "      border-color: transparent;\n",
              "      border-left-color: var(--fill-color);\n",
              "      border-top-color: var(--fill-color);\n",
              "    }\n",
              "    30% {\n",
              "      border-color: transparent;\n",
              "      border-left-color: var(--fill-color);\n",
              "      border-top-color: var(--fill-color);\n",
              "      border-right-color: var(--fill-color);\n",
              "    }\n",
              "    40% {\n",
              "      border-color: transparent;\n",
              "      border-right-color: var(--fill-color);\n",
              "      border-top-color: var(--fill-color);\n",
              "    }\n",
              "    60% {\n",
              "      border-color: transparent;\n",
              "      border-right-color: var(--fill-color);\n",
              "    }\n",
              "    80% {\n",
              "      border-color: transparent;\n",
              "      border-right-color: var(--fill-color);\n",
              "      border-bottom-color: var(--fill-color);\n",
              "    }\n",
              "    90% {\n",
              "      border-color: transparent;\n",
              "      border-bottom-color: var(--fill-color);\n",
              "    }\n",
              "  }\n",
              "</style>\n",
              "\n",
              "  <script>\n",
              "    async function quickchart(key) {\n",
              "      const quickchartButtonEl =\n",
              "        document.querySelector('#' + key + ' button');\n",
              "      quickchartButtonEl.disabled = true;  // To prevent multiple clicks.\n",
              "      quickchartButtonEl.classList.add('colab-df-spinner');\n",
              "      try {\n",
              "        const charts = await google.colab.kernel.invokeFunction(\n",
              "            'suggestCharts', [key], {});\n",
              "      } catch (error) {\n",
              "        console.error('Error during call to suggestCharts:', error);\n",
              "      }\n",
              "      quickchartButtonEl.classList.remove('colab-df-spinner');\n",
              "      quickchartButtonEl.classList.add('colab-df-quickchart-complete');\n",
              "    }\n",
              "    (() => {\n",
              "      let quickchartButtonEl =\n",
              "        document.querySelector('#df-3fdf1982-f8ec-45e5-9fc4-3c6842a959de button');\n",
              "      quickchartButtonEl.style.display =\n",
              "        google.colab.kernel.accessAllowed ? 'block' : 'none';\n",
              "    })();\n",
              "  </script>\n",
              "</div>\n",
              "    </div>\n",
              "  </div>\n"
            ],
            "application/vnd.google.colaboratory.intrinsic+json": {
              "type": "dataframe",
              "variable_name": "features",
              "summary": "{\n  \"name\": \"features\",\n  \"rows\": 1025,\n  \"fields\": [\n    {\n      \"column\": \"Time_Employed\",\n      \"properties\": {\n        \"dtype\": \"number\",\n        \"std\": 4,\n        \"min\": 0,\n        \"max\": 18,\n        \"num_unique_values\": 18,\n        \"samples\": [\n          8,\n          4,\n          12\n        ],\n        \"semantic_type\": \"\",\n        \"description\": \"\"\n      }\n    },\n    {\n      \"column\": \"Num_Prev_Positions\",\n      \"properties\": {\n        \"dtype\": \"number\",\n        \"std\": 1,\n        \"min\": 0,\n        \"max\": 3,\n        \"num_unique_values\": 4,\n        \"samples\": [\n          3,\n          0,\n          2\n        ],\n        \"semantic_type\": \"\",\n        \"description\": \"\"\n      }\n    },\n    {\n      \"column\": \"Teamwork\",\n      \"properties\": {\n        \"dtype\": \"number\",\n        \"std\": 2,\n        \"min\": 1,\n        \"max\": 10,\n        \"num_unique_values\": 10,\n        \"samples\": [\n          5,\n          8,\n          6\n        ],\n        \"semantic_type\": \"\",\n        \"description\": \"\"\n      }\n    },\n    {\n      \"column\": \"Motivation\",\n      \"properties\": {\n        \"dtype\": \"number\",\n        \"std\": 2,\n        \"min\": 1,\n        \"max\": 10,\n        \"num_unique_values\": 10,\n        \"samples\": [\n          5,\n          7,\n          9\n        ],\n        \"semantic_type\": \"\",\n        \"description\": \"\"\n      }\n    },\n    {\n      \"column\": \"Leadership\",\n      \"properties\": {\n        \"dtype\": \"number\",\n        \"std\": 2,\n        \"min\": 1,\n        \"max\": 10,\n        \"num_unique_values\": 10,\n        \"samples\": [\n          2,\n          5,\n          4\n        ],\n        \"semantic_type\": \"\",\n        \"description\": \"\"\n      }\n    },\n    {\n      \"column\": \"Performance_Evaluation_low\",\n      \"properties\": {\n        \"dtype\": \"number\",\n        \"std\": 0,\n        \"min\": 0,\n        \"max\": 1,\n        \"num_unique_values\": 2,\n        \"samples\": [\n          1,\n          0\n        ],\n        \"semantic_type\": \"\",\n        \"description\": \"\"\n      }\n    }\n  ]\n}"
            }
          },
          "metadata": {},
          "execution_count": 13
        }
      ]
    },
    {
      "cell_type": "code",
      "source": [
        "#replace with code to standardize and normalize features\n",
        "scaler = StandardScaler()\n",
        "scaled_features = scaler.fit_transform(features)\n",
        "scaled_features"
      ],
      "metadata": {
        "id": "JjweT4zwhUle",
        "colab": {
          "base_uri": "https://localhost:8080/"
        },
        "outputId": "b28ff31a-21b8-417f-f068-cdd9aadf6035"
      },
      "execution_count": 14,
      "outputs": [
        {
          "output_type": "execute_result",
          "data": {
            "text/plain": [
              "array([[ 0.11423933,  0.45270002, -0.46134637,  1.61749055,  0.90465129,\n",
              "        -1.47091137],\n",
              "       [-0.75635779,  1.3399228 ,  0.94394347,  0.56794773,  0.90465129,\n",
              "        -1.47091137],\n",
              "       [-0.97400706,  1.3399228 , -1.51531375,  0.56794773, -0.13294763,\n",
              "         0.67985062],\n",
              "       ...,\n",
              "       [-1.19165634, -1.32174555, -0.46134637,  0.21810012, -0.82468025,\n",
              "         0.67985062],\n",
              "       [ 0.54953789,  0.45270002, -0.11002391,  0.91779534,  1.59638391,\n",
              "        -1.47091137],\n",
              "       [-0.32105923,  1.3399228 , -0.46134637,  0.56794773,  0.21291867,\n",
              "         0.67985062]])"
            ]
          },
          "metadata": {},
          "execution_count": 14
        }
      ]
    },
    {
      "cell_type": "code",
      "source": [
        "# replace with code to set model parameters\n",
        "kmeans = KMeans(\n",
        "    init=\"random\",\n",
        "    n_clusters=2,\n",
        "    n_init=10,\n",
        "    max_iter=300,\n",
        "    random_state=42\n",
        ")\n",
        "# replace with code to fit model to data\n",
        "kmeans.fit(scaled_features)"
      ],
      "metadata": {
        "id": "IeEpz5P2gIUg",
        "colab": {
          "base_uri": "https://localhost:8080/",
          "height": 75
        },
        "outputId": "7d9d0ef0-b3d9-4a77-f177-d8f4bcb5898f"
      },
      "execution_count": 15,
      "outputs": [
        {
          "output_type": "execute_result",
          "data": {
            "text/plain": [
              "KMeans(init='random', n_clusters=2, n_init=10, random_state=42)"
            ],
            "text/html": [
              "<style>#sk-container-id-1 {color: black;background-color: white;}#sk-container-id-1 pre{padding: 0;}#sk-container-id-1 div.sk-toggleable {background-color: white;}#sk-container-id-1 label.sk-toggleable__label {cursor: pointer;display: block;width: 100%;margin-bottom: 0;padding: 0.3em;box-sizing: border-box;text-align: center;}#sk-container-id-1 label.sk-toggleable__label-arrow:before {content: \"▸\";float: left;margin-right: 0.25em;color: #696969;}#sk-container-id-1 label.sk-toggleable__label-arrow:hover:before {color: black;}#sk-container-id-1 div.sk-estimator:hover label.sk-toggleable__label-arrow:before {color: black;}#sk-container-id-1 div.sk-toggleable__content {max-height: 0;max-width: 0;overflow: hidden;text-align: left;background-color: #f0f8ff;}#sk-container-id-1 div.sk-toggleable__content pre {margin: 0.2em;color: black;border-radius: 0.25em;background-color: #f0f8ff;}#sk-container-id-1 input.sk-toggleable__control:checked~div.sk-toggleable__content {max-height: 200px;max-width: 100%;overflow: auto;}#sk-container-id-1 input.sk-toggleable__control:checked~label.sk-toggleable__label-arrow:before {content: \"▾\";}#sk-container-id-1 div.sk-estimator input.sk-toggleable__control:checked~label.sk-toggleable__label {background-color: #d4ebff;}#sk-container-id-1 div.sk-label input.sk-toggleable__control:checked~label.sk-toggleable__label {background-color: #d4ebff;}#sk-container-id-1 input.sk-hidden--visually {border: 0;clip: rect(1px 1px 1px 1px);clip: rect(1px, 1px, 1px, 1px);height: 1px;margin: -1px;overflow: hidden;padding: 0;position: absolute;width: 1px;}#sk-container-id-1 div.sk-estimator {font-family: monospace;background-color: #f0f8ff;border: 1px dotted black;border-radius: 0.25em;box-sizing: border-box;margin-bottom: 0.5em;}#sk-container-id-1 div.sk-estimator:hover {background-color: #d4ebff;}#sk-container-id-1 div.sk-parallel-item::after {content: \"\";width: 100%;border-bottom: 1px solid gray;flex-grow: 1;}#sk-container-id-1 div.sk-label:hover label.sk-toggleable__label {background-color: #d4ebff;}#sk-container-id-1 div.sk-serial::before {content: \"\";position: absolute;border-left: 1px solid gray;box-sizing: border-box;top: 0;bottom: 0;left: 50%;z-index: 0;}#sk-container-id-1 div.sk-serial {display: flex;flex-direction: column;align-items: center;background-color: white;padding-right: 0.2em;padding-left: 0.2em;position: relative;}#sk-container-id-1 div.sk-item {position: relative;z-index: 1;}#sk-container-id-1 div.sk-parallel {display: flex;align-items: stretch;justify-content: center;background-color: white;position: relative;}#sk-container-id-1 div.sk-item::before, #sk-container-id-1 div.sk-parallel-item::before {content: \"\";position: absolute;border-left: 1px solid gray;box-sizing: border-box;top: 0;bottom: 0;left: 50%;z-index: -1;}#sk-container-id-1 div.sk-parallel-item {display: flex;flex-direction: column;z-index: 1;position: relative;background-color: white;}#sk-container-id-1 div.sk-parallel-item:first-child::after {align-self: flex-end;width: 50%;}#sk-container-id-1 div.sk-parallel-item:last-child::after {align-self: flex-start;width: 50%;}#sk-container-id-1 div.sk-parallel-item:only-child::after {width: 0;}#sk-container-id-1 div.sk-dashed-wrapped {border: 1px dashed gray;margin: 0 0.4em 0.5em 0.4em;box-sizing: border-box;padding-bottom: 0.4em;background-color: white;}#sk-container-id-1 div.sk-label label {font-family: monospace;font-weight: bold;display: inline-block;line-height: 1.2em;}#sk-container-id-1 div.sk-label-container {text-align: center;}#sk-container-id-1 div.sk-container {/* jupyter's `normalize.less` sets `[hidden] { display: none; }` but bootstrap.min.css set `[hidden] { display: none !important; }` so we also need the `!important` here to be able to override the default hidden behavior on the sphinx rendered scikit-learn.org. See: https://github.com/scikit-learn/scikit-learn/issues/21755 */display: inline-block !important;position: relative;}#sk-container-id-1 div.sk-text-repr-fallback {display: none;}</style><div id=\"sk-container-id-1\" class=\"sk-top-container\"><div class=\"sk-text-repr-fallback\"><pre>KMeans(init=&#x27;random&#x27;, n_clusters=2, n_init=10, random_state=42)</pre><b>In a Jupyter environment, please rerun this cell to show the HTML representation or trust the notebook. <br />On GitHub, the HTML representation is unable to render, please try loading this page with nbviewer.org.</b></div><div class=\"sk-container\" hidden><div class=\"sk-item\"><div class=\"sk-estimator sk-toggleable\"><input class=\"sk-toggleable__control sk-hidden--visually\" id=\"sk-estimator-id-1\" type=\"checkbox\" checked><label for=\"sk-estimator-id-1\" class=\"sk-toggleable__label sk-toggleable__label-arrow\">KMeans</label><div class=\"sk-toggleable__content\"><pre>KMeans(init=&#x27;random&#x27;, n_clusters=2, n_init=10, random_state=42)</pre></div></div></div></div></div>"
            ]
          },
          "metadata": {},
          "execution_count": 15
        }
      ]
    },
    {
      "cell_type": "code",
      "source": [
        "# replace with code to create table of relevant results, save to object called 'centroid_table'\n",
        "centroids = kmeans.cluster_centers_\n",
        "centroid_table = pd.DataFrame(centroids,\n",
        "                              columns = features.columns,\n",
        "                              index =['cl_0','cl_1'])\n",
        "centroid_table"
      ],
      "metadata": {
        "id": "vuTg6xjUgTLs",
        "colab": {
          "base_uri": "https://localhost:8080/",
          "height": 112
        },
        "outputId": "beab624e-7897-4e5a-841c-75bee12eee99"
      },
      "execution_count": 16,
      "outputs": [
        {
          "output_type": "execute_result",
          "data": {
            "text/plain": [
              "      Time_Employed  Num_Prev_Positions  Teamwork  Motivation  Leadership  \\\n",
              "cl_0      -0.149362           -0.194049  -0.24484   -0.261006   -0.215837   \n",
              "cl_1       0.323156            0.419840   0.52973    0.564708    0.466981   \n",
              "\n",
              "      Performance_Evaluation_low  \n",
              "cl_0                    0.679851  \n",
              "cl_1                   -1.470911  "
            ],
            "text/html": [
              "\n",
              "  <div id=\"df-6b4e1450-4078-4be8-bcdc-865f47c72444\" class=\"colab-df-container\">\n",
              "    <div>\n",
              "<style scoped>\n",
              "    .dataframe tbody tr th:only-of-type {\n",
              "        vertical-align: middle;\n",
              "    }\n",
              "\n",
              "    .dataframe tbody tr th {\n",
              "        vertical-align: top;\n",
              "    }\n",
              "\n",
              "    .dataframe thead th {\n",
              "        text-align: right;\n",
              "    }\n",
              "</style>\n",
              "<table border=\"1\" class=\"dataframe\">\n",
              "  <thead>\n",
              "    <tr style=\"text-align: right;\">\n",
              "      <th></th>\n",
              "      <th>Time_Employed</th>\n",
              "      <th>Num_Prev_Positions</th>\n",
              "      <th>Teamwork</th>\n",
              "      <th>Motivation</th>\n",
              "      <th>Leadership</th>\n",
              "      <th>Performance_Evaluation_low</th>\n",
              "    </tr>\n",
              "  </thead>\n",
              "  <tbody>\n",
              "    <tr>\n",
              "      <th>cl_0</th>\n",
              "      <td>-0.149362</td>\n",
              "      <td>-0.194049</td>\n",
              "      <td>-0.24484</td>\n",
              "      <td>-0.261006</td>\n",
              "      <td>-0.215837</td>\n",
              "      <td>0.679851</td>\n",
              "    </tr>\n",
              "    <tr>\n",
              "      <th>cl_1</th>\n",
              "      <td>0.323156</td>\n",
              "      <td>0.419840</td>\n",
              "      <td>0.52973</td>\n",
              "      <td>0.564708</td>\n",
              "      <td>0.466981</td>\n",
              "      <td>-1.470911</td>\n",
              "    </tr>\n",
              "  </tbody>\n",
              "</table>\n",
              "</div>\n",
              "    <div class=\"colab-df-buttons\">\n",
              "\n",
              "  <div class=\"colab-df-container\">\n",
              "    <button class=\"colab-df-convert\" onclick=\"convertToInteractive('df-6b4e1450-4078-4be8-bcdc-865f47c72444')\"\n",
              "            title=\"Convert this dataframe to an interactive table.\"\n",
              "            style=\"display:none;\">\n",
              "\n",
              "  <svg xmlns=\"http://www.w3.org/2000/svg\" height=\"24px\" viewBox=\"0 -960 960 960\">\n",
              "    <path d=\"M120-120v-720h720v720H120Zm60-500h600v-160H180v160Zm220 220h160v-160H400v160Zm0 220h160v-160H400v160ZM180-400h160v-160H180v160Zm440 0h160v-160H620v160ZM180-180h160v-160H180v160Zm440 0h160v-160H620v160Z\"/>\n",
              "  </svg>\n",
              "    </button>\n",
              "\n",
              "  <style>\n",
              "    .colab-df-container {\n",
              "      display:flex;\n",
              "      gap: 12px;\n",
              "    }\n",
              "\n",
              "    .colab-df-convert {\n",
              "      background-color: #E8F0FE;\n",
              "      border: none;\n",
              "      border-radius: 50%;\n",
              "      cursor: pointer;\n",
              "      display: none;\n",
              "      fill: #1967D2;\n",
              "      height: 32px;\n",
              "      padding: 0 0 0 0;\n",
              "      width: 32px;\n",
              "    }\n",
              "\n",
              "    .colab-df-convert:hover {\n",
              "      background-color: #E2EBFA;\n",
              "      box-shadow: 0px 1px 2px rgba(60, 64, 67, 0.3), 0px 1px 3px 1px rgba(60, 64, 67, 0.15);\n",
              "      fill: #174EA6;\n",
              "    }\n",
              "\n",
              "    .colab-df-buttons div {\n",
              "      margin-bottom: 4px;\n",
              "    }\n",
              "\n",
              "    [theme=dark] .colab-df-convert {\n",
              "      background-color: #3B4455;\n",
              "      fill: #D2E3FC;\n",
              "    }\n",
              "\n",
              "    [theme=dark] .colab-df-convert:hover {\n",
              "      background-color: #434B5C;\n",
              "      box-shadow: 0px 1px 3px 1px rgba(0, 0, 0, 0.15);\n",
              "      filter: drop-shadow(0px 1px 2px rgba(0, 0, 0, 0.3));\n",
              "      fill: #FFFFFF;\n",
              "    }\n",
              "  </style>\n",
              "\n",
              "    <script>\n",
              "      const buttonEl =\n",
              "        document.querySelector('#df-6b4e1450-4078-4be8-bcdc-865f47c72444 button.colab-df-convert');\n",
              "      buttonEl.style.display =\n",
              "        google.colab.kernel.accessAllowed ? 'block' : 'none';\n",
              "\n",
              "      async function convertToInteractive(key) {\n",
              "        const element = document.querySelector('#df-6b4e1450-4078-4be8-bcdc-865f47c72444');\n",
              "        const dataTable =\n",
              "          await google.colab.kernel.invokeFunction('convertToInteractive',\n",
              "                                                    [key], {});\n",
              "        if (!dataTable) return;\n",
              "\n",
              "        const docLinkHtml = 'Like what you see? Visit the ' +\n",
              "          '<a target=\"_blank\" href=https://colab.research.google.com/notebooks/data_table.ipynb>data table notebook</a>'\n",
              "          + ' to learn more about interactive tables.';\n",
              "        element.innerHTML = '';\n",
              "        dataTable['output_type'] = 'display_data';\n",
              "        await google.colab.output.renderOutput(dataTable, element);\n",
              "        const docLink = document.createElement('div');\n",
              "        docLink.innerHTML = docLinkHtml;\n",
              "        element.appendChild(docLink);\n",
              "      }\n",
              "    </script>\n",
              "  </div>\n",
              "\n",
              "\n",
              "<div id=\"df-f35916ad-de85-46e2-8149-59dd5f9de0f1\">\n",
              "  <button class=\"colab-df-quickchart\" onclick=\"quickchart('df-f35916ad-de85-46e2-8149-59dd5f9de0f1')\"\n",
              "            title=\"Suggest charts\"\n",
              "            style=\"display:none;\">\n",
              "\n",
              "<svg xmlns=\"http://www.w3.org/2000/svg\" height=\"24px\"viewBox=\"0 0 24 24\"\n",
              "     width=\"24px\">\n",
              "    <g>\n",
              "        <path d=\"M19 3H5c-1.1 0-2 .9-2 2v14c0 1.1.9 2 2 2h14c1.1 0 2-.9 2-2V5c0-1.1-.9-2-2-2zM9 17H7v-7h2v7zm4 0h-2V7h2v10zm4 0h-2v-4h2v4z\"/>\n",
              "    </g>\n",
              "</svg>\n",
              "  </button>\n",
              "\n",
              "<style>\n",
              "  .colab-df-quickchart {\n",
              "      --bg-color: #E8F0FE;\n",
              "      --fill-color: #1967D2;\n",
              "      --hover-bg-color: #E2EBFA;\n",
              "      --hover-fill-color: #174EA6;\n",
              "      --disabled-fill-color: #AAA;\n",
              "      --disabled-bg-color: #DDD;\n",
              "  }\n",
              "\n",
              "  [theme=dark] .colab-df-quickchart {\n",
              "      --bg-color: #3B4455;\n",
              "      --fill-color: #D2E3FC;\n",
              "      --hover-bg-color: #434B5C;\n",
              "      --hover-fill-color: #FFFFFF;\n",
              "      --disabled-bg-color: #3B4455;\n",
              "      --disabled-fill-color: #666;\n",
              "  }\n",
              "\n",
              "  .colab-df-quickchart {\n",
              "    background-color: var(--bg-color);\n",
              "    border: none;\n",
              "    border-radius: 50%;\n",
              "    cursor: pointer;\n",
              "    display: none;\n",
              "    fill: var(--fill-color);\n",
              "    height: 32px;\n",
              "    padding: 0;\n",
              "    width: 32px;\n",
              "  }\n",
              "\n",
              "  .colab-df-quickchart:hover {\n",
              "    background-color: var(--hover-bg-color);\n",
              "    box-shadow: 0 1px 2px rgba(60, 64, 67, 0.3), 0 1px 3px 1px rgba(60, 64, 67, 0.15);\n",
              "    fill: var(--button-hover-fill-color);\n",
              "  }\n",
              "\n",
              "  .colab-df-quickchart-complete:disabled,\n",
              "  .colab-df-quickchart-complete:disabled:hover {\n",
              "    background-color: var(--disabled-bg-color);\n",
              "    fill: var(--disabled-fill-color);\n",
              "    box-shadow: none;\n",
              "  }\n",
              "\n",
              "  .colab-df-spinner {\n",
              "    border: 2px solid var(--fill-color);\n",
              "    border-color: transparent;\n",
              "    border-bottom-color: var(--fill-color);\n",
              "    animation:\n",
              "      spin 1s steps(1) infinite;\n",
              "  }\n",
              "\n",
              "  @keyframes spin {\n",
              "    0% {\n",
              "      border-color: transparent;\n",
              "      border-bottom-color: var(--fill-color);\n",
              "      border-left-color: var(--fill-color);\n",
              "    }\n",
              "    20% {\n",
              "      border-color: transparent;\n",
              "      border-left-color: var(--fill-color);\n",
              "      border-top-color: var(--fill-color);\n",
              "    }\n",
              "    30% {\n",
              "      border-color: transparent;\n",
              "      border-left-color: var(--fill-color);\n",
              "      border-top-color: var(--fill-color);\n",
              "      border-right-color: var(--fill-color);\n",
              "    }\n",
              "    40% {\n",
              "      border-color: transparent;\n",
              "      border-right-color: var(--fill-color);\n",
              "      border-top-color: var(--fill-color);\n",
              "    }\n",
              "    60% {\n",
              "      border-color: transparent;\n",
              "      border-right-color: var(--fill-color);\n",
              "    }\n",
              "    80% {\n",
              "      border-color: transparent;\n",
              "      border-right-color: var(--fill-color);\n",
              "      border-bottom-color: var(--fill-color);\n",
              "    }\n",
              "    90% {\n",
              "      border-color: transparent;\n",
              "      border-bottom-color: var(--fill-color);\n",
              "    }\n",
              "  }\n",
              "</style>\n",
              "\n",
              "  <script>\n",
              "    async function quickchart(key) {\n",
              "      const quickchartButtonEl =\n",
              "        document.querySelector('#' + key + ' button');\n",
              "      quickchartButtonEl.disabled = true;  // To prevent multiple clicks.\n",
              "      quickchartButtonEl.classList.add('colab-df-spinner');\n",
              "      try {\n",
              "        const charts = await google.colab.kernel.invokeFunction(\n",
              "            'suggestCharts', [key], {});\n",
              "      } catch (error) {\n",
              "        console.error('Error during call to suggestCharts:', error);\n",
              "      }\n",
              "      quickchartButtonEl.classList.remove('colab-df-spinner');\n",
              "      quickchartButtonEl.classList.add('colab-df-quickchart-complete');\n",
              "    }\n",
              "    (() => {\n",
              "      let quickchartButtonEl =\n",
              "        document.querySelector('#df-f35916ad-de85-46e2-8149-59dd5f9de0f1 button');\n",
              "      quickchartButtonEl.style.display =\n",
              "        google.colab.kernel.accessAllowed ? 'block' : 'none';\n",
              "    })();\n",
              "  </script>\n",
              "</div>\n",
              "    </div>\n",
              "  </div>\n"
            ],
            "application/vnd.google.colaboratory.intrinsic+json": {
              "type": "dataframe",
              "variable_name": "centroid_table",
              "summary": "{\n  \"name\": \"centroid_table\",\n  \"rows\": 2,\n  \"fields\": [\n    {\n      \"column\": \"Time_Employed\",\n      \"properties\": {\n        \"dtype\": \"number\",\n        \"std\": 0.33412022004112707,\n        \"min\": -0.14936158079322873,\n        \"max\": 0.32315576585201594,\n        \"num_unique_values\": 2,\n        \"samples\": [\n          0.32315576585201594,\n          -0.14936158079322873\n        ],\n        \"semantic_type\": \"\",\n        \"description\": \"\"\n      }\n    },\n    {\n      \"column\": \"Num_Prev_Positions\",\n      \"properties\": {\n        \"dtype\": \"number\",\n        \"std\": 0.4340847936202214,\n        \"min\": -0.19404868991597687,\n        \"max\": 0.41983991244166624,\n        \"num_unique_values\": 2,\n        \"samples\": [\n          0.41983991244166624,\n          -0.19404868991597687\n        ],\n        \"semantic_type\": \"\",\n        \"description\": \"\"\n      }\n    },\n    {\n      \"column\": \"Teamwork\",\n      \"properties\": {\n        \"dtype\": \"number\",\n        \"std\": 0.547703325462826,\n        \"min\": -0.24483952059760655,\n        \"max\": 0.5297299504287671,\n        \"num_unique_values\": 2,\n        \"samples\": [\n          0.5297299504287671,\n          -0.24483952059760655\n        ],\n        \"semantic_type\": \"\",\n        \"description\": \"\"\n      }\n    },\n    {\n      \"column\": \"Motivation\",\n      \"properties\": {\n        \"dtype\": \"number\",\n        \"std\": 0.5838685677970842,\n        \"min\": -0.2610064492682201,\n        \"max\": 0.5647083979537713,\n        \"num_unique_values\": 2,\n        \"samples\": [\n          0.5647083979537713,\n          -0.2610064492682201\n        ],\n        \"semantic_type\": \"\",\n        \"description\": \"\"\n      }\n    },\n    {\n      \"column\": \"Leadership\",\n      \"properties\": {\n        \"dtype\": \"number\",\n        \"std\": 0.48282530719540623,\n        \"min\": -0.2158371352706679,\n        \"max\": 0.46698096242203146,\n        \"num_unique_values\": 2,\n        \"samples\": [\n          0.46698096242203146,\n          -0.2158371352706679\n        ],\n        \"semantic_type\": \"\",\n        \"description\": \"\"\n      }\n    },\n    {\n      \"column\": \"Performance_Evaluation_low\",\n      \"properties\": {\n        \"dtype\": \"number\",\n        \"std\": 1.520818383065489,\n        \"min\": -1.470911366097083,\n        \"max\": 0.6798506171404526,\n        \"num_unique_values\": 2,\n        \"samples\": [\n          -1.470911366097083,\n          0.6798506171404526\n        ],\n        \"semantic_type\": \"\",\n        \"description\": \"\"\n      }\n    }\n  ]\n}"
            }
          },
          "metadata": {},
          "execution_count": 16
        }
      ]
    },
    {
      "cell_type": "code",
      "source": [
        " # I've provided this code to indicate how to produce a centroid plot -- since it requires some additional steps from what was done in the ICE\n",
        " ax = centroid_table.plot()\n",
        " ax.set_xticks(range(0,len(centroid_table))) # this sets the number of ticks on the x-axis to your number of clusters\n",
        " ax.set_xticklabels(centroid_table.index.values, rotation=90) # this sets your tick labels on the x-axis to your cluster labels\n",
        " plt.show()"
      ],
      "metadata": {
        "id": "yZTeM3oFkZnh",
        "colab": {
          "base_uri": "https://localhost:8080/",
          "height": 443
        },
        "outputId": "84930a22-c723-435a-fb87-443475c57bb2"
      },
      "execution_count": 17,
      "outputs": [
        {
          "output_type": "display_data",
          "data": {
            "text/plain": [
              "<Figure size 640x480 with 1 Axes>"
            ],
            "image/png": "[encoded data removed]"
          },
          "metadata": {}
        }
      ]
    },
    {
      "cell_type": "markdown",
      "source": [
        "**Results interpretation for ALL results generated in 2B**:"
      ],
      "metadata": {
        "id": "mD1IebXFn82s"
      }
    },
    {
      "cell_type": "markdown",
      "source": [
        "This centroid plot shows each independent variable, being Time_Employed, Motivation, Leadership etc., as well as the dependent variable, Performance_Evaluation_Low. With a great Low_Performance_Value in cluser 0, all attributes of managers have lower values than those in cluster 1. As Performance Evaluation is High in cluster 1, all other attributes also display slightly higher values than Low Performance Evaluation.\n"
      ],
      "metadata": {
        "id": "2otBi2GQ3ohu"
      }
    },
    {
      "cell_type": "markdown",
      "source": [
        "### **C**\n",
        "\n",
        "**Create at least one visualization with a caption or description about how this visualization contributes towards a *meaningful* interpretation of the manager performance data. Refer to the data visualization (module 3) ICE or cheat sheet for code on how to produce relevant visualizations, then label it and provide a brief caption.**\n",
        "\n",
        "**You may choose to focus on only one or two variables, it does not need to include all variables. Imagine you're presenting this analysis to your supervisor or another stakeholder. Create a visualization you would use to illustrate a trend you noted in the Part 2 analysis.**"
      ],
      "metadata": {
        "id": "ICpWe-5zogky"
      }
    },
    {
      "cell_type": "code",
      "source": [
        "# replace with code to produce viz -- see Module 3 cheat sheet or ICE for code on producing visualizations\n",
        "centroid_table.plot(kind = 'line', y = ['Time_Employed', 'Teamwork'], style = '--', marker = 'o') #select which variables from clustering analysis to evaluate to show average value for each cluster\n",
        "plt.title(\"Performance per Variable\")\n",
        "plt.ylabel(\"Performance\")\n",
        "plt.show()"
      ],
      "metadata": {
        "id": "HlsZH3SNphUv",
        "colab": {
          "base_uri": "https://localhost:8080/",
          "height": 452
        },
        "outputId": "cfec586e-bd4f-4a06-9ce9-4002d286d193"
      },
      "execution_count": 18,
      "outputs": [
        {
          "output_type": "display_data",
          "data": {
            "text/plain": [
              "<Figure size 640x480 with 1 Axes>"
            ],
            "image/png": "[encoded data removed]"
          },
          "metadata": {}
        }
      ]
    },
    {
      "cell_type": "markdown",
      "source": [
        "Caption: Manager perfomance based on levels of Time Employed and Teamwork"
      ],
      "metadata": {
        "id": "gKr067o_xLj5"
      }
    },
    {
      "cell_type": "markdown",
      "source": [
        "# **Part 3: Superviesd DM Technque 1 (27 pts)**\n",
        "\n",
        "**Using the `manager_performance_clean.csv` file from Canvas, develop a supervised data mining model in Python. You will compare this chosen supervised DM model to a different supervised DM model later on in the assignment (Part 5). Think about the dependent variable and its data type in this dataset, then for Part 3 of the final project *choose between linear regression or decision tree analysis.* Referring to the summary pages for each of these methods from the lecture slides would be useful here.**\n",
        "\n",
        "## A\n",
        "\n",
        "**First, identify which model (between linear regression and decision trees) you have chosen and *why*. Focus on the data variable types and the dependent variable in the manager performance dataset. HINT: Think about different types of supervised models we've learned about - regression vs classification.**\n"
      ],
      "metadata": {
        "id": "-zyqZKt8HYdX"
      }
    },
    {
      "cell_type": "markdown",
      "source": [],
      "metadata": {
        "id": "w2YziAmOMhoN"
      }
    },
    {
      "cell_type": "markdown",
      "source": [
        "## B\n",
        "\n",
        "**Train and evaluate your model using 10-fold cross-validation and provide any relevant plots and results. Interpret these results based on the positive class being `Performance_Evaluation_low`. DO NOT EVALUATE YOUR MODEL ON THE TEST SET UNTIL PART 5.**\n",
        "\n",
        "> **Use a 80-20 training and test-set split, then perform 10-fold cross validation on the training set. For this model, set `min_samples_leaf` to 4, `max_depth` to 6, and `criterion` to \"log_loss\". Do not set the min_impurity_decrease parameter (don't include this code). Evaluate the cross-validated accuracy, precision, recall, and f-measure; then generate a confusion matrix to compare the actual classes of the DV from the training set (e.g., y_train), against the predicted classes (y_pred).**\n",
        "\n",
        "> **When performing the `train_test_split`, set your `test_size = 0.2`, `random_state` to 100. Show the tree diagram/plot before running cross-validation.**\n",
        "\n",
        ">**When performing cross-validation, set your `random_state` to 1. Failing to complete this step may result in your group members having different training and test sets and different cross-validation results!!!**\n",
        "\n",
        "**Interpret the results; do not just restate the results. Tell me what these results *mean*. Revisit the previous exercises and cheat sheets for the chosen model and model performance module to remember what the relevant steps are and what the interpretation should focus on.**"
      ],
      "metadata": {
        "id": "mbx5F5LaNA9H"
      }
    },
    {
      "cell_type": "code",
      "source": [
        "# replace with code to import required libraries and packges to perform supervised technique -- refer to relevant module ICE and cheat sheet"
      ],
      "metadata": {
        "id": "FRzdu6N3Yy2K"
      },
      "execution_count": 19,
      "outputs": []
    },
    {
      "cell_type": "code",
      "source": [
        "# replace with code to create x and y objects"
      ],
      "metadata": {
        "id": "G5m-oDq_YAxu"
      },
      "execution_count": 20,
      "outputs": []
    },
    {
      "cell_type": "code",
      "source": [
        "# replace with code to perform training-test split"
      ],
      "metadata": {
        "id": "dKrfCMMxYhEb"
      },
      "execution_count": 21,
      "outputs": []
    },
    {
      "cell_type": "code",
      "source": [
        "# replace with code to specify model and set parameters"
      ],
      "metadata": {
        "id": "7YBSeJqmZX9y"
      },
      "execution_count": 22,
      "outputs": []
    },
    {
      "cell_type": "code",
      "source": [
        "# replace with code to produce tree plot on training data"
      ],
      "metadata": {
        "id": "P1ITgWhwcmEV"
      },
      "execution_count": 23,
      "outputs": []
    },
    {
      "cell_type": "code",
      "source": [
        "# replace with code to specify cross-validatin parameters -- see model performance cheat sheet for these next few steps"
      ],
      "metadata": {
        "id": "nprW0L9cZRsr"
      },
      "execution_count": 24,
      "outputs": []
    },
    {
      "cell_type": "code",
      "source": [
        "# replace with code to make cross-validated predictions"
      ],
      "metadata": {
        "id": "fol-fzmGaLR2"
      },
      "execution_count": 25,
      "outputs": []
    },
    {
      "cell_type": "code",
      "source": [
        "# replace with code to print the classification report"
      ],
      "metadata": {
        "id": "14cd7mB-5IQA"
      },
      "execution_count": 26,
      "outputs": []
    },
    {
      "cell_type": "code",
      "source": [
        "# replace with code to produce value counts of the DV"
      ],
      "metadata": {
        "id": "oPozuJNt5NrG"
      },
      "execution_count": 27,
      "outputs": []
    },
    {
      "cell_type": "code",
      "source": [
        "# replace with code to calculate the baseline accuracy"
      ],
      "metadata": {
        "id": "8kNzZYiP5RgT"
      },
      "execution_count": 28,
      "outputs": []
    },
    {
      "cell_type": "code",
      "source": [
        "# replace with code to produce confusion matrix"
      ],
      "metadata": {
        "id": "_o2AuJMvbED_"
      },
      "execution_count": 29,
      "outputs": []
    },
    {
      "cell_type": "markdown",
      "source": [
        "**Results interpretation for ALL results generated in 3B:**"
      ],
      "metadata": {
        "id": "-D7XPjJjdMas"
      }
    },
    {
      "cell_type": "markdown",
      "source": [],
      "metadata": {
        "id": "C74BIIUzG33n"
      }
    },
    {
      "cell_type": "markdown",
      "source": [
        "## **C**\n",
        "\n",
        "**Create at least one visualization with a caption or description about how this visualization contributes towards a *meaningful* interpretation of the manager performance data. Draw from the visualization portion of this course, and create your own relevant visualization, label it, and include a brief caption.**\n",
        "\n",
        "**You may choose to focus on only one or two variables (i.e., it does not need to include all IVs). Imagine you're presenting this analysis to your supervisor or another stakeholder. Create a visualization you would use to illustrate a trend you noted in the Part 3 analysis.**"
      ],
      "metadata": {
        "id": "d4YPBNJIij5e"
      }
    },
    {
      "cell_type": "code",
      "source": [
        "# replace with code for producing viz -- see Module 3 ICE and cheat sheet for code on producing visualizations"
      ],
      "metadata": {
        "id": "BT9nXtrQjtHW"
      },
      "execution_count": 30,
      "outputs": []
    },
    {
      "cell_type": "markdown",
      "source": [
        "Caption:"
      ],
      "metadata": {
        "id": "eXoj3beTj-k1"
      }
    },
    {
      "cell_type": "markdown",
      "source": [
        "# **Part 4: Supervised DM Technique 2**\n",
        "\n",
        "**Using the `manager_performance_clean.csv`, conduct another type of supervised data mining technique we covered in class. It cannot be decision tree or linear regression (from Part 3). But it should be a data mining technique that can be used on this dataset, so again think about the DV and its data variable type. Referring to the data mining flow chart from the supervised DM lecture might be helpful, or review the summary slides for the supervised DM technqiues covered in this class during lectures.**\n",
        "\n",
        "## A\n",
        "**First, identify which model you have chosen and why. Focus on the data variable types and the dependent variable in the manager performance dataset. HINT: Think about different types of supervised models we've learned about - regression vs classification, and don't reuse the model type used in Part 3.**"
      ],
      "metadata": {
        "id": "GKea83-zkPDv"
      }
    },
    {
      "cell_type": "markdown",
      "source": [],
      "metadata": {
        "id": "3BUojaU6a9BL"
      }
    },
    {
      "cell_type": "markdown",
      "source": [
        "## B\n",
        "\n",
        "**Train and evaluate your model using 10-fold cross-validation and provide any relevant plots and results. Interpret these results based on the positive class being `Performance_Evaluation_low`. DO NOT EVALUATE YOUR MODEL ON THE TEST SET UNTIL PART 5.**\n",
        "\n",
        "> **Use a 80-20 training and test-set split, then perform 10-fold cross validation on the training set. Evaluate the cross-validated accuracy, precision, recall, and f-measure; then generate a confusion matrix to compare the actual classes of the DV from the training set (e.g., y_train), against the predicted classes (y_pred).**\n",
        "\n",
        "> **Also note that we are focused on prediction for this assignment, not interpretation. Generation of a model summary table is NOT required.**\n",
        "\n",
        "> **When performing the `train_test_split`, set your `test_size = 0.2`, `random_state` to 100.**\n",
        "\n",
        "> **When performing cross-validation, set your random_state to 1. Failing to complete this step may results in your group members having different training and test sets and different cross-validation results!!!**\n",
        "\n",
        "**Do not just restate the results. Tell me what these results *mean*. Revisit the previous exercises and cheat sheets for the chosen model and model performance module to remember what the relevant steps are and what the interpretation should focus on.**"
      ],
      "metadata": {
        "id": "rIKSKO_UbPKe"
      }
    },
    {
      "cell_type": "code",
      "source": [
        "# replace with code to import required libraries and packges to perform supervised technique -- refer to relevant module ICE and cheat sheet\n",
        "# If you import the data set here, it's recommended to call it something different for Part 4\n",
        "# replace with code to view the headers"
      ],
      "metadata": {
        "id": "-uNm7XCcb64v"
      },
      "execution_count": 31,
      "outputs": []
    },
    {
      "cell_type": "code",
      "source": [
        "# replace with code to create x and y objects -- perform any necessary preprocessing"
      ],
      "metadata": {
        "id": "9ALdwlr8cV8h"
      },
      "execution_count": 32,
      "outputs": []
    },
    {
      "cell_type": "code",
      "source": [
        "# replace with code to perform training-test split"
      ],
      "metadata": {
        "id": "QL54jMblcj_G"
      },
      "execution_count": 33,
      "outputs": []
    },
    {
      "cell_type": "code",
      "source": [
        "# replace with code to specify cross-validatin parameters -- see model performance cheat sheet for these next few steps\n",
        "# replace with code to specify model"
      ],
      "metadata": {
        "id": "I2eALQdde4J8"
      },
      "execution_count": 34,
      "outputs": []
    },
    {
      "cell_type": "code",
      "source": [
        "# replace with code to create scoring dictionary"
      ],
      "metadata": {
        "id": "klosLCvrcw5T"
      },
      "execution_count": 35,
      "outputs": []
    },
    {
      "cell_type": "code",
      "source": [
        "# replace with code to run cross-validated model and produce evaluation metric scores"
      ],
      "metadata": {
        "id": "BAU9OA5jcz-R"
      },
      "execution_count": 36,
      "outputs": []
    },
    {
      "cell_type": "code",
      "source": [
        "# replace with code to show scores output"
      ],
      "metadata": {
        "id": "2sl8QMDcc48-"
      },
      "execution_count": 37,
      "outputs": []
    },
    {
      "cell_type": "code",
      "source": [
        "# replace with code to calculate the baseline accuracy"
      ],
      "metadata": {
        "id": "j0QQUYbzdYNj"
      },
      "execution_count": 38,
      "outputs": []
    },
    {
      "cell_type": "code",
      "source": [
        "# replace with code to produce confusion matrix"
      ],
      "metadata": {
        "id": "An_wkGB1c_zH"
      },
      "execution_count": 39,
      "outputs": []
    },
    {
      "cell_type": "markdown",
      "source": [
        "**Results Interpretation for ALL of the results in 4B:**"
      ],
      "metadata": {
        "id": "FS64nWSddvY4"
      }
    },
    {
      "cell_type": "markdown",
      "source": [],
      "metadata": {
        "id": "eVgseJ4RHLlU"
      }
    },
    {
      "cell_type": "markdown",
      "source": [
        "## **C**\n",
        "\n",
        "**Create at least one visualization with a caption or description about how this visualization contributes towards a *meaningful* interpretation of the manager performance data. Draw from the visualization portion of this course, and create your own relevant visualization, label it, and include a brief caption.**\n",
        "\n",
        "**You may choose to focus on only one or two variables (i.e., it does not need to include all IVs). Imagine you're presenting this analysis to your supervisor or another stakeholder. Create a visualization you would use to illustrate a trend you noted in the Part 4 analysis.**"
      ],
      "metadata": {
        "id": "BjrRP7zYgqh6"
      }
    },
    {
      "cell_type": "code",
      "source": [
        "# replace with code to produce plot -- see Module 3 ICE or cheat sheet for how to produce visualizations"
      ],
      "metadata": {
        "id": "RFyHnxpBg1_y"
      },
      "execution_count": 40,
      "outputs": []
    },
    {
      "cell_type": "markdown",
      "source": [
        "Caption:"
      ],
      "metadata": {
        "id": "ifHt4f-1iFmM"
      }
    },
    {
      "cell_type": "markdown",
      "source": [
        "# **Part 5: Evaluation of Models & Business Recommendations (50 points)**\n",
        "\n",
        "**Compare the results of the two supervised DM technqiues by presenting their scores in a dataframe in the form of a table. The index should be set to indicate the model (e.g., model_1, model_2), and the columns should indicate the evaluation metric (e.g., precision, recall, etc.). You may choose to include all evaluation metrics, or just the ones you deem relevant. Make sure to at least include those that are most critical in determining the best-performing model for this given dataset.**\n",
        "\n",
        "> **Save each relevant metric score to an object called model_ for each model, e.g. `model_1 = (0.1, 0.3, 0.4, 0.5)`**\n",
        "\n",
        "**Then combine each model scores into one `models` object, as was completed in the model performance ICE, to produce a comparison table.**"
      ],
      "metadata": {
        "id": "bIjQZQ6liYjJ"
      }
    },
    {
      "cell_type": "code",
      "source": [
        "# replace with code to display comparison of models on evaluation metrics (e.g., precision, recall, f-1, and accuracy)"
      ],
      "metadata": {
        "id": "v_TfLS00jYWw"
      },
      "execution_count": 41,
      "outputs": []
    },
    {
      "cell_type": "markdown",
      "source": [
        "## **B**\n",
        "\n",
        "**Which model performed better and why? Which performance metrics (list their values) were used to determine this and why?**"
      ],
      "metadata": {
        "id": "U0OpTztXlAtw"
      }
    },
    {
      "cell_type": "markdown",
      "source": [],
      "metadata": {
        "id": "VApu2WlmlKIJ"
      }
    },
    {
      "cell_type": "markdown",
      "source": [
        "## C\n",
        "\n",
        "**Fit whichever model you chose as the best-performing model to the test-set, then run a classification report. Do the evaluation metrics drop considerably or not? What does this potentially indicate?**"
      ],
      "metadata": {
        "id": "8uL9EIjsl7IC"
      }
    },
    {
      "cell_type": "code",
      "source": [
        "# replace with code to specify model\n",
        "# replace with code to fit model to x_train and y_train\n",
        "\n",
        "# replace with code to predict onto x_test\n",
        "# replace with code to print the classification report"
      ],
      "metadata": {
        "id": "jQqqW_FemJKC"
      },
      "execution_count": 42,
      "outputs": []
    },
    {
      "cell_type": "markdown",
      "source": [],
      "metadata": {
        "id": "kFShzYE2n6Dr"
      }
    },
    {
      "cell_type": "markdown",
      "source": [
        "## D\n",
        "\n",
        "**What business recommendations can be made after this analysis? Please write an Executive Summary (1 paragraph) including the following:**\n",
        "\n",
        "\n",
        "\n",
        "1.   **Note the business problem**\n",
        "2.   **Briefly describe the steps taken to resolve the business problem**\n",
        "3.   **Indicate your level of confidence that your best-performing model will generalize to new data on managers performance**\n",
        "4.   **Briefly describe your business recommendations; what might be some important characteristics (based on our IVs) for consider when hiring new managers?**\n",
        "\n"
      ],
      "metadata": {
        "id": "TSRJvUqpoHXf"
      }
    },
    {
      "cell_type": "markdown",
      "source": [],
      "metadata": {
        "id": "4JJbl8j_ok7p"
      }
    }
  ]
}