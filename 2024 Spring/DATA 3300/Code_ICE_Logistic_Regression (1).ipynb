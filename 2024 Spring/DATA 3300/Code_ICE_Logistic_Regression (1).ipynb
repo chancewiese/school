{
  "nbformat": 4,
  "nbformat_minor": 0,
  "metadata": {
    "colab": {
      "provenance": []
    },
    "kernelspec": {
      "name": "python3",
      "display_name": "Python 3"
    },
    "language_info": {
      "name": "python"
    }
  },
  "cells": [
    {
      "cell_type": "markdown",
      "source": [
        "# **Exercise - Logistic Regression**\n",
        "# DATA 3300"
      ],
      "metadata": {
        "id": "x_TS8BUqpy1K"
      }
    },
    {
      "cell_type": "markdown",
      "source": [
        "## Name: "
      ],
      "metadata": {
        "id": "pbQBHdGCp8RS"
      }
    },
    {
      "cell_type": "markdown",
      "source": [
        "#Q1\n",
        "\n",
        "**Using the (full) voters.csv dataset, conduct a logistic regression analysis in Python. Assume the data set has already been checked for collinear independent variables, and found none.**\n",
        "\n",
        "Be sure to:\n",
        "* Load in required libraries and import dataset\n",
        "* Dummy code all categorical variables, leaving out a reference group\n",
        "* Dummy code DV variable\n",
        "* Create an object for your IVs ('x') and an object for your DV ('y')\n",
        "* Exclude unwanted variables from analysis"
      ],
      "metadata": {
        "id": "71Y2GSGMp_Wt"
      }
    },
    {
      "cell_type": "code",
      "source": [
        "import warnings\n",
        "warnings.filterwarnings(\"ignore\")"
      ],
      "metadata": {
        "id": "eYNB3Ppg6MPn"
      },
      "execution_count": null,
      "outputs": []
    },
    {
      "cell_type": "code",
      "execution_count": null,
      "metadata": {
        "id": "ooTr9WIqpxxV"
      },
      "outputs": [],
      "source": [
        "import matplotlib.pyplot as plt\n",
        "import numpy as np\n",
        "import pandas as pd\n",
        "from sklearn.linear_model import LogisticRegression\n",
        "from sklearn.metrics import classification_report, confusion_matrix\n",
        "from sklearn.model_selection import train_test_split\n",
        "import statsmodels.api as sm"
      ]
    },
    {
      "cell_type": "code",
      "source": [
        "# read in and display the dataset"
      ],
      "metadata": {
        "id": "tjc0gqPyq7Mz"
      },
      "execution_count": null,
      "outputs": []
    },
    {
      "cell_type": "code",
      "source": [
        "x = df.drop(['PrimaryKey', 'DV'], axis=1)         # replace with code to remove vars that shouldn't be included in x\n",
        "x = pd.get_dummies(data = x, drop_first = True)   # dummy codes categorical IVs\n",
        "#replace with code to preview this x object"
      ],
      "metadata": {
        "id": "1wbFz7gurTm9"
      },
      "execution_count": null,
      "outputs": []
    },
    {
      "cell_type": "code",
      "source": [
        "y = df['DV'] # replace with code to create y object\n",
        "y = pd.get_dummies() # replace with code to fill in get_dummies parameters\n",
        "y"
      ],
      "metadata": {
        "id": "g6JII6iUrktL"
      },
      "execution_count": null,
      "outputs": []
    },
    {
      "cell_type": "code",
      "source": [
        "x_train, x_test, y_train, y_test = train_test_split(x,y,test_size = ?, random_state=101) # sets a test and training split\n",
        "\n",
        "print(x_train.shape)\n",
        "print(x_test.shape)\n",
        "print(y_train.shape)\n",
        "print(y_test.shape)"
      ],
      "metadata": {
        "id": "Q5OICLYPrzxH"
      },
      "execution_count": null,
      "outputs": []
    },
    {
      "cell_type": "code",
      "source": [
        "x_train_Sm = sm.add_constant(x_train) # adds a constant (y-intercept) to x_train                  \n",
        "log_reg = sm.Logit(y_train, x_train_Sm).fit() # fits a Logit model\n",
        "# replace with code to print the summary"
      ],
      "metadata": {
        "id": "oqic-A2XsTWZ"
      },
      "execution_count": null,
      "outputs": []
    },
    {
      "cell_type": "markdown",
      "source": [
        "## 1A\n",
        "**Are there any *non-significant* variables at the α = 0.1 level? State how you know this (list the metric, its value, and its interpretation).**\n",
        "\n",
        "***Note that if one class of a categorical variable is significant, the entire variable is significant.***"
      ],
      "metadata": {
        "id": "r7ZJnqqjtkuT"
      }
    },
    {
      "cell_type": "markdown",
      "source": [],
      "metadata": {
        "id": "Bf62blZqt6hO"
      }
    },
    {
      "cell_type": "markdown",
      "source": [
        "## 1B\n",
        "**If all of the IVs had a value of 0, for which candidate would the model predict a voter would intend to vote? How do we know this?**"
      ],
      "metadata": {
        "id": "yVzEPTG1uXPJ"
      }
    },
    {
      "cell_type": "markdown",
      "source": [],
      "metadata": {
        "id": "kcNHp5aIui_h"
      }
    },
    {
      "cell_type": "markdown",
      "source": [
        "## 1C\n",
        "\n",
        "**The reference group for Marital Status is divorced. Are married individuals significantly different in their likelihood of voting for Kodos as compared to divorced individuals? How do you know this, and are they more on less likely on average to vote for Kodos?**"
      ],
      "metadata": {
        "id": "IFzHbO6KvB7m"
      }
    },
    {
      "cell_type": "markdown",
      "source": [],
      "metadata": {
        "id": "B2WQ9nU0vjom"
      }
    },
    {
      "cell_type": "markdown",
      "source": [
        "## 1D \n",
        "**Rerun the model dropping out any non-significant variables, then produce the summary table.**"
      ],
      "metadata": {
        "id": "uVNJwG2uwHbl"
      }
    },
    {
      "cell_type": "code",
      "source": [
        "x_train_Sm = x_train_Sm.drop(['?'], axis=1) # add in var name to be dropped\n",
        "log_reg = sm.Logit(y_train, x_train_Sm).fit()\n",
        "print(log_reg.summary())"
      ],
      "metadata": {
        "id": "zsqThHLvt53y"
      },
      "execution_count": null,
      "outputs": []
    },
    {
      "cell_type": "markdown",
      "source": [
        "## 1E\n",
        "**Using the coefficients, write out the full model in equation form.**"
      ],
      "metadata": {
        "id": "JTYH6Vt9wdzK"
      }
    },
    {
      "cell_type": "markdown",
      "source": [
        "$Logit_{?} = ? - Age*? - IncomeCat*? - Healthcare*0.5527 + Privacy*0.3253 + Education*0.6280 - MStatus_married*1.0036 + MStatus_single*1.0926 - MStatus_widowed*2.0613 - Religion_Christian*1.6095 - Religion_Jewish*0.4361 - Religion_Muslim*1.4138 - Religion_Other*1.2881 - Homeowner_y*1.1718$"
      ],
      "metadata": {
        "id": "hw3Xa8rjwjj0"
      }
    },
    {
      "cell_type": "markdown",
      "source": [
        "# Q2\n",
        "\n",
        "**Consider a voter who is Jewish, single, owns a home, 40 years old, falls into Income Category 4, and is lukewarm on the importance of defense, healthcare, privacy, and education (i.e., has a value of \"3\" for each of these).**"
      ],
      "metadata": {
        "id": "ur6zjaVMxkIQ"
      }
    },
    {
      "cell_type": "markdown",
      "source": [
        "## 2A \n",
        "**What would be the *log-odds* of this voter voting for Kodos? (Show the equation you used for this calculation; perform this calculation using your formula)**"
      ],
      "metadata": {
        "id": "XzyQg0c96aIi"
      }
    },
    {
      "cell_type": "code",
      "source": [
        "Logit_Kodos = 4.3016 - ?*0.0410 - ?*0.7262 - ?*0.5527 + ?*0.3253 + ?*0.6280 - ?*1.0036 + ?*1.0926 - ?*2.0613 - ?*1.6095 - ?*0.4361 - ?*1.4138 - ?*1.2881 - ?*1.1718\n",
        "print(\"Logit(Kodos) =\", Logit_Kodos)"
      ],
      "metadata": {
        "id": "9kWhDQAewisu"
      },
      "execution_count": null,
      "outputs": []
    },
    {
      "cell_type": "markdown",
      "source": [
        "## 2B\n",
        "\n",
        "**What would be the *odds* of this voter voting for Kodos? (Show your formula; use 2.718 as the value of $e$.)**"
      ],
      "metadata": {
        "id": "-QqaR6qY7KEO"
      }
    },
    {
      "cell_type": "code",
      "source": [
        "odds = \n",
        "print(\"odds(Kodos) =\", odds)"
      ],
      "metadata": {
        "colab": {
          "base_uri": "https://localhost:8080/"
        },
        "id": "EoXZOlP47Qma",
        "outputId": "e53b2d38-fa0d-40f1-99ec-8db2e90fac73"
      },
      "execution_count": null,
      "outputs": [
        {
          "output_type": "stream",
          "name": "stdout",
          "text": [
            "odds(Kodos) = 1.5573008025528459\n"
          ]
        }
      ]
    },
    {
      "cell_type": "code",
      "source": [
        "np.exp(?)# using np.exp "
      ],
      "metadata": {
        "id": "QvRM1xCZ8Df-"
      },
      "execution_count": null,
      "outputs": []
    },
    {
      "cell_type": "markdown",
      "source": [
        "## 2C\n",
        "\n",
        "**What would be the *probability* of this voter voting for Kodos? (Show your formula).**"
      ],
      "metadata": {
        "id": "MMFsrtJu8J9N"
      }
    },
    {
      "cell_type": "code",
      "source": [
        "p = \n",
        "print(\"P(Kodos) = \", p)"
      ],
      "metadata": {
        "id": "d2E_1QMx8L4n"
      },
      "execution_count": null,
      "outputs": []
    },
    {
      "cell_type": "markdown",
      "source": [],
      "metadata": {
        "id": "OgyQtI8c80xU"
      }
    },
    {
      "cell_type": "markdown",
      "source": [
        "# Q3\n",
        "**Now that we've interpretted our model, let's see how it performs on the test set to get an idea of how accurate our model would be in predicting the voter intent of new voters.**"
      ],
      "metadata": {
        "id": "_LvsMbRADQEA"
      }
    },
    {
      "cell_type": "code",
      "source": [
        "x_test = x_test.drop([''], axis=1) # which variable(s) need(s) to be dropped from x_test?\n",
        "# replace with code to add a constant to x_test"
      ],
      "metadata": {
        "id": "xJhZJmTN_vTg"
      },
      "execution_count": null,
      "outputs": []
    },
    {
      "cell_type": "code",
      "source": [
        "model = LogisticRegression() # brings in LogisticRegression predictive model from sklearn\n",
        "model.fit(x_train_Sm, y_train) # fits the model to the training data\n",
        "\n",
        "predictions = model.predict(?) # make predictions onto x_test_Sm"
      ],
      "metadata": {
        "id": "Mhc5gUULAE3M"
      },
      "execution_count": null,
      "outputs": []
    },
    {
      "cell_type": "code",
      "source": [
        "print(classification_report(?, ?)) # replace with code to add in parameters"
      ],
      "metadata": {
        "id": "kEWhnA_HCzgF"
      },
      "execution_count": null,
      "outputs": []
    },
    {
      "cell_type": "markdown",
      "source": [
        "# Q4\n",
        "\n",
        "**Develop a data visualization illustrating which candidate received the majority of votes from voters in this dataset. Provide a caption for your figure.**"
      ],
      "metadata": {
        "id": "1DgDYU-48-qF"
      }
    },
    {
      "cell_type": "code",
      "source": [
        "# create a voter_counts object to display in a pie chart\n",
        "\n",
        "plt.pie(voter_counts.values, labels = voter_counts.index.values, autopct = '%1.1f')\n",
        "plt.legend()\n",
        "plt.show()"
      ],
      "metadata": {
        "id": "0dzkzVUM9Qgx"
      },
      "execution_count": null,
      "outputs": []
    },
    {
      "cell_type": "markdown",
      "source": [],
      "metadata": {
        "id": "tWWOksB_98Pr"
      }
    }
  ]
}