{
  "nbformat": 4,
  "nbformat_minor": 0,
  "metadata": {
    "colab": {
      "provenance": [],
      "collapsed_sections": [
        "zzdA8wONEWh3",
        "vtLKxwCFEcWw"
      ]
    },
    "kernelspec": {
      "name": "python3",
      "display_name": "Python 3"
    },
    "language_info": {
      "name": "python"
    }
  },
  "cells": [
    {
      "cell_type": "markdown",
      "source": [
        "# ICE - Association Rules Analysis\n",
        "## *DATA 3300*"
      ],
      "metadata": {
        "id": "aMSfCCpPf-Ai"
      }
    },
    {
      "cell_type": "markdown",
      "source": [
        "## Student Name:"
      ],
      "metadata": {
        "id": "-cgS37MEgG_c"
      }
    },
    {
      "cell_type": "markdown",
      "source": [
        "**In this version of the ICE template, most of the code has been provided. Follow along and add in comments (i.e. `# this code imports pandas`) as well as answers to the interpretation questions as we walk through this exercise.**"
      ],
      "metadata": {
        "id": "T9qaXkyDB4-_"
      }
    },
    {
      "cell_type": "markdown",
      "source": [
        "#**Q1**\n",
        "\n",
        "**Load the following libaries: Pandas, NumPy, Matplotlib.pyplot and ... then import the skiut dataset**"
      ],
      "metadata": {
        "id": "XGBcfZ09gL1y"
      }
    },
    {
      "cell_type": "code",
      "execution_count": null,
      "metadata": {
        "id": "NMPkHgyNflRR"
      },
      "outputs": [],
      "source": [
        "import pandas as pd\n",
        "import numpy as np\n",
        "import matplotlib.pyplot as plt\n",
        "from mlxtend.frequent_patterns import apriori, association_rules"
      ]
    },
    {
      "cell_type": "code",
      "source": [
        "df = pd.read_csv(\"\")\n",
        "df.head()"
      ],
      "metadata": {
        "id": "jr7LIZTNksGp"
      },
      "execution_count": null,
      "outputs": []
    },
    {
      "cell_type": "markdown",
      "source": [
        "#Q2\n",
        "\n",
        "**You might notice that because the survey question related to ski resort visitation was in a \"select all that apply\" form, there is only one column that lists all of the ski resorts attended, deliminated by a comma.**\n",
        "\n",
        "**This is not in a usable format for data analysis, so we need to create a dummy variable column for each of the 10 ski resorts, to indicate which of the 10 resorts each skier visited.**\n",
        "\n",
        "## A\n",
        "**Create a series of lambda functions to search for the text string labels of each ski resort in each response, then create a new column for each resort containing \"True\" or \"False\" depending on whether the resort was listed in the response.**"
      ],
      "metadata": {
        "id": "VPAsk2_Dr3c3"
      }
    },
    {
      "cell_type": "code",
      "source": [
        "df[''] = df.apply(lambda x: \"\" in x.Select_All_That_Apply, axis=1) # Find Beaver Mountain\n",
        "\n",
        "\n",
        "df['Sbasn'] = df.apply(lambda x: \"sbasn\" in x.Select_All_That_Apply, axis=1)\n",
        "df['Powmo'] = df.apply(lambda x: \"powmo\" in x.Select_All_That_Apply, axis=1)\n",
        "df['Solit'] = df.apply(lambda x: \"solit\" in x.Select_All_That_Apply, axis=1)\n",
        "df['Brton'] = df.apply(lambda x: \"brton\" in x.Select_All_That_Apply, axis=1)\n",
        "df['Sbird'] = df.apply(lambda x: \"sbird\" in x.Select_All_That_Apply, axis=1)\n",
        "df['Altax'] = df.apply(lambda x: \"altax\" in x.Select_All_That_Apply, axis=1)\n",
        "df['ParkC'] = df.apply(lambda x: \"parkc\" in x.Select_All_That_Apply, axis=1)\n",
        "df['Deerv'] = df.apply(lambda x: \"deerv\" in x.Select_All_That_Apply, axis=1)\n",
        "df['Canyo'] = df.apply(lambda x: \"canyo\" in x.Select_All_That_Apply, axis=1)"
      ],
      "metadata": {
        "id": "7SQiw-XvmcM7"
      },
      "execution_count": null,
      "outputs": []
    },
    {
      "cell_type": "markdown",
      "source": [
        "## B\n",
        "\n",
        "**Now, convert the \"True\" and \"False\" label to a 1 or 0 for each column using the replace function. Replace the gender column with a gender=f column**\n",
        "\n",
        "**Also, there's no need to keep in the 'Select_All_That_Apply' column, so let's drop that.**"
      ],
      "metadata": {
        "id": "DJbcc91cs_q6"
      }
    },
    {
      "cell_type": "code",
      "source": [
        "df = df.drop('', axis=1)\n",
        "df.replace({False: , True: }, inplace=True)\n",
        "df['gender=f'] = np.where(df[''] == '', 1,0)\n",
        "\n",
        "df.drop('', axis = 1, inplace = True)\n",
        "\n",
        "df.head()"
      ],
      "metadata": {
        "id": "_9hPO-1ppsXT"
      },
      "execution_count": null,
      "outputs": []
    },
    {
      "cell_type": "markdown",
      "source": [
        "## **C**\n",
        "\n",
        "**Before running any actual analysis, we should exclude the SkierID variable by setting it as our index. Do so below and then explain why.**"
      ],
      "metadata": {
        "id": "XxJrYM8gtRSD"
      }
    },
    {
      "cell_type": "markdown",
      "source": [],
      "metadata": {
        "id": "yMau2LT4te3A"
      }
    },
    {
      "cell_type": "code",
      "source": [
        "df = df.set_index('')\n",
        "df.head()"
      ],
      "metadata": {
        "id": "OM74H6gptfLn"
      },
      "execution_count": null,
      "outputs": []
    },
    {
      "cell_type": "markdown",
      "source": [
        "## **D**\n",
        "\n",
        "**Use the desribe() function to determine which resort in this dataset was visited most frequently. Identify the metric, its value, and its interpretation.**"
      ],
      "metadata": {
        "id": "EO3b5CC4uA26"
      }
    },
    {
      "cell_type": "code",
      "source": [
        "# describe df"
      ],
      "metadata": {
        "id": "Mz7IvBSduHqs"
      },
      "execution_count": null,
      "outputs": []
    },
    {
      "cell_type": "markdown",
      "source": [],
      "metadata": {
        "id": "0GaibsPEudyq"
      }
    },
    {
      "cell_type": "markdown",
      "source": [
        "# **Q3**\n",
        "\n",
        "**Generate frequent itemsets using the Apriori model in the mlxtend library. Set the minimum support threshold to 20%.**"
      ],
      "metadata": {
        "id": "1zCNBKpm27EQ"
      }
    },
    {
      "cell_type": "code",
      "source": [
        "freq_rs = apriori(, min_support = , use_colnames=True)\n",
        "freq_rs"
      ],
      "metadata": {
        "id": "iMaFGXQ9usrT"
      },
      "execution_count": null,
      "outputs": []
    },
    {
      "cell_type": "markdown",
      "source": [
        "## **A**\n",
        "\n",
        "**Which ski resort was visited by the highest percentage of survey respondents? What metric tells you this? Then write a formula to calculate support:**"
      ],
      "metadata": {
        "id": "XO2l_N6o4uAH"
      }
    },
    {
      "cell_type": "markdown",
      "source": [],
      "metadata": {
        "id": "ZWYwn7XM44nD"
      }
    },
    {
      "cell_type": "code",
      "source": [
        "sc = df[''].sum()\n",
        "s =\n",
        "s"
      ],
      "metadata": {
        "id": "dvwIK78wiM-N"
      },
      "execution_count": null,
      "outputs": []
    },
    {
      "cell_type": "markdown",
      "source": [
        "## **B**\n",
        "\n",
        "**Is it suprising that this resort has the highest support value of all the resorts in the database? Explain.**"
      ],
      "metadata": {
        "id": "k7_8uXYE49H7"
      }
    },
    {
      "cell_type": "markdown",
      "source": [],
      "metadata": {
        "id": "y_z81mla5Cm3"
      }
    },
    {
      "cell_type": "markdown",
      "source": [
        "## **C**\n",
        "\n",
        "**What is the support value for {Alta, Snowbird}? What does this support value indicate?**"
      ],
      "metadata": {
        "id": "Dz4ApP567pmX"
      }
    },
    {
      "cell_type": "markdown",
      "source": [],
      "metadata": {
        "id": "0-1MvxTA7wxr"
      }
    },
    {
      "cell_type": "markdown",
      "source": [
        "## **D**\n",
        "\n",
        "**Let's try to replicate these findings by writing our own formula for calculating support:**"
      ],
      "metadata": {
        "id": "po0acTFK52mL"
      }
    },
    {
      "cell_type": "code",
      "source": [
        "itemset = df[(df[''] == 1) & (df[''] == 1)]\n",
        "support = len()/len()\n",
        "support"
      ],
      "metadata": {
        "id": "pvsJQeKUzO6_"
      },
      "execution_count": null,
      "outputs": []
    },
    {
      "cell_type": "markdown",
      "source": [
        "#**Q4**\n",
        "\n",
        "**Now run an association rules analysis on your frequent rulesets object, set the minimum confidence threshold to 0.80.**\n",
        "##**A**\n",
        "**How many rules are there?**"
      ],
      "metadata": {
        "id": "tnXKyyBv8-Vy"
      }
    },
    {
      "cell_type": "code",
      "source": [
        "association_rules(, metric = \"confidence\", min_threshold = )"
      ],
      "metadata": {
        "id": "n9m6UGk543c7"
      },
      "execution_count": null,
      "outputs": []
    },
    {
      "cell_type": "markdown",
      "source": [],
      "metadata": {
        "id": "GLz_HmJS9wHc"
      }
    },
    {
      "cell_type": "markdown",
      "source": [
        "## B\n",
        "\n",
        "Okay, looks like 80% confidence was too high. Let's re-generate our frequent itemsets to have a minimum support of 0.05 and then rerun the analysis with a mimum confidence of 0%."
      ],
      "metadata": {
        "id": "bNUeaESP-An1"
      }
    },
    {
      "cell_type": "code",
      "source": [
        "freq_rs2 = apriori(df, min_support = , use_colnames=True)"
      ],
      "metadata": {
        "id": "FGvMM4bQ95LW"
      },
      "execution_count": null,
      "outputs": []
    },
    {
      "cell_type": "code",
      "source": [
        "ar_table = association_rules(, metric = \"confidence\", min_threshold = )\n",
        "ar_table"
      ],
      "metadata": {
        "id": "eWl155Oh9ydM"
      },
      "execution_count": null,
      "outputs": []
    },
    {
      "cell_type": "markdown",
      "source": [
        "## C\n",
        "\n",
        "**Which three resorts were most frequently visited by the same respondent? Report the support value that tells you this. *Hint: Sort support from high to low.***"
      ],
      "metadata": {
        "id": "KzDQwERB_2ws"
      }
    },
    {
      "cell_type": "code",
      "source": [
        "ar_table"
      ],
      "metadata": {
        "id": "rh-mbPrdAq6N"
      },
      "execution_count": null,
      "outputs": []
    },
    {
      "cell_type": "markdown",
      "source": [],
      "metadata": {
        "id": "Hi_mnAuUA1IB"
      }
    },
    {
      "cell_type": "markdown",
      "source": [
        "## **D**\n",
        "\n",
        "**Does it make sense that those three would be frequently visted together? Explain?**"
      ],
      "metadata": {
        "id": "kWHJZcxYA90p"
      }
    },
    {
      "cell_type": "markdown",
      "source": [],
      "metadata": {
        "id": "8scYeUUuBDUP"
      }
    },
    {
      "cell_type": "markdown",
      "source": [
        "#**Q5**\n",
        "\n",
        "**Let's switch gears and focus on the confidence of rulesets.**\n",
        "\n",
        "##**A**\n",
        "\n",
        "**What is the confidence for {Snowbasin} → {Beaver Mountain}? What does this value tell you?**"
      ],
      "metadata": {
        "id": "sUpVQkJ4B4ML"
      }
    },
    {
      "cell_type": "markdown",
      "source": [],
      "metadata": {
        "id": "TQoqARy2Cf4P"
      }
    },
    {
      "cell_type": "markdown",
      "source": [
        "## **B**\n",
        "\n",
        "**Let's see if we can replicate these findings writing our own formula for calculating confidence:**"
      ],
      "metadata": {
        "id": "q-x1SwOk4_D2"
      }
    },
    {
      "cell_type": "code",
      "source": [
        "sc_x = df[''].sum()\n",
        "sc_xy = len(df[(df[''] == 1) & (df[''] == 1)])\n",
        "confidence =\n",
        "confidence"
      ],
      "metadata": {
        "id": "dVQDC1Lq1tDm"
      },
      "execution_count": null,
      "outputs": []
    },
    {
      "cell_type": "markdown",
      "source": [
        "##**C**\n",
        "\n",
        "**What is the confidence for {Beaver Mountain} → {Snowbasin}? What does this value tell you?**"
      ],
      "metadata": {
        "id": "vOu5VqV0Cjhk"
      }
    },
    {
      "cell_type": "markdown",
      "source": [],
      "metadata": {
        "id": "0BljJ_egC5xu"
      }
    },
    {
      "cell_type": "markdown",
      "source": [
        "##**D**\n",
        "\n",
        "**Knowing that Snowbasin is near Ogden and Beaver Mountain is near Logan, create a hypothesis that explains the difference in confidence values reported in A and B.**"
      ],
      "metadata": {
        "id": "JJcJVNozC82U"
      }
    },
    {
      "cell_type": "markdown",
      "source": [],
      "metadata": {
        "id": "78MFPkPpDNzt"
      }
    },
    {
      "cell_type": "markdown",
      "source": [
        "## **E**\n",
        "\n",
        "**What is the confidence for {Alta, Snowbird, Snowbasin, Solitude} → {Powder Mountain}? What does this value tell you?**"
      ],
      "metadata": {
        "id": "6e0-B12gDUO7"
      }
    },
    {
      "cell_type": "markdown",
      "source": [],
      "metadata": {
        "id": "Zh-hRP5BDwPz"
      }
    },
    {
      "cell_type": "markdown",
      "source": [
        "## **F**\n",
        "\n",
        "**What is the Lift for {Alta, Snowbird, Snowbasin, Solitude} → {Powder Mountain}? What does this mean?**"
      ],
      "metadata": {
        "id": "y7bbXkjnD0O-"
      }
    },
    {
      "cell_type": "markdown",
      "source": [],
      "metadata": {
        "id": "h5_RqfxGD_is"
      }
    },
    {
      "cell_type": "markdown",
      "source": [
        "## G\n",
        "\n",
        "**Let's see if we can replicate this finding writing our own formula for calculating Lift:**"
      ],
      "metadata": {
        "id": "hy8vncv05N1V"
      }
    },
    {
      "cell_type": "code",
      "source": [
        "sc_y = df[''].sum()\n",
        "\n",
        "s_y = sc_y/len(df)\n",
        "\n",
        "sc_x = len(df[(df[''] == 1) & (df[''] == 1) & (df[''] == 1) & (df[''] == 1)])\n",
        "\n",
        "sc_xy = len(df[(df['Altax'] == 1) & (df['Sbird'] == 1) & (df['Sbasn'] == 1) & (df['Solit'] == 1) & (df['Powmo'] == 1)])\n",
        "\n",
        "confidence = sc_xy/sc_x\n",
        "confidence\n",
        "\n",
        "Lift = confidence/s_y\n",
        "Lift"
      ],
      "metadata": {
        "id": "GKjOZyJ_2zk2"
      },
      "execution_count": null,
      "outputs": []
    },
    {
      "cell_type": "markdown",
      "source": [
        "#**Q6**\n",
        "\n",
        "**Explore the data to find a surprising confidence or lift value in the dataset, then recommend something that could be done about it to the benefit of one or more of the ski resorts. In doing so:**\n",
        "\n",
        "## **A**\n",
        "\n",
        "**Report the surprising value and its association rule. Note, you may also find surprise in a comparison of values (e.g., one confidence is high and another low) — if so, report all relevant values in the comparison.**"
      ],
      "metadata": {
        "id": "RQqSY8U6ELi_"
      }
    },
    {
      "cell_type": "markdown",
      "source": [],
      "metadata": {
        "id": "I3MoCeBPET5D"
      }
    },
    {
      "cell_type": "markdown",
      "source": [
        "## **B**\n",
        "\n",
        "**Why do you find it surprising?**"
      ],
      "metadata": {
        "id": "zzdA8wONEWh3"
      }
    },
    {
      "cell_type": "markdown",
      "source": [],
      "metadata": {
        "id": "lhvN4_UAEcC4"
      }
    },
    {
      "cell_type": "markdown",
      "source": [
        "## C\n",
        "\n",
        "**What would you recommend be done about this (to the benefit of one or more ski resorts?)**"
      ],
      "metadata": {
        "id": "vtLKxwCFEcWw"
      }
    },
    {
      "cell_type": "markdown",
      "source": [],
      "metadata": {
        "id": "daZ_6mTxEjUQ"
      }
    }
  ]
}