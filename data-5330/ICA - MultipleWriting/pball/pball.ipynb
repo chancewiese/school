{
 "cells": [
  {
   "cell_type": "code",
   "execution_count": 28,
   "id": "58f700e8-e961-485c-89f3-513647a5b7d9",
   "metadata": {
    "tags": []
   },
   "outputs": [
    {
     "name": "stderr",
     "output_type": "stream",
     "text": [
      "/var/folders/96/kzlzzx2556jf68c57bc_gc180000gn/T/ipykernel_70885/890234789.py:27: UserWarning: pandas only supports SQLAlchemy connectable (engine/connection) or database string URI or sqlite3 DBAPI2 connection. Other DBAPI2 objects are not tested. Please consider using SQLAlchemy.\n",
      "  df = pd.read_sql(query, conn, index_col='column_name')\n",
      "/var/folders/96/kzlzzx2556jf68c57bc_gc180000gn/T/ipykernel_70885/890234789.py:27: UserWarning: pandas only supports SQLAlchemy connectable (engine/connection) or database string URI or sqlite3 DBAPI2 connection. Other DBAPI2 objects are not tested. Please consider using SQLAlchemy.\n",
      "  df = pd.read_sql(query, conn, index_col='column_name')\n"
     ]
    },
    {
     "name": "stdout",
     "output_type": "stream",
     "text": [
      "player:\n",
      "                      data_type  maxlen  numeric_precision is_nullable\n",
      "column_name                                                          \n",
      "pnum                   integer     NaN               32.0          NO\n",
      "level                 smallint     NaN               16.0         YES\n",
      "first        character varying    80.0                NaN         YES\n",
      "last         character varying    80.0                NaN          NO\n",
      "result:\n",
      "             data_type maxlen  numeric_precision is_nullable\n",
      "column_name                                                \n",
      "resultid      integer   None                 32          NO\n",
      "homeid        integer   None                 32         YES\n",
      "awayid        integer   None                 32         YES\n",
      "venueid       integer   None                 32         YES\n",
      "hscore       smallint   None                 16         YES\n",
      "ascore       smallint   None                 16         YES\n",
      "venue:\n",
      "                      data_type  maxlen  numeric_precision is_nullable\n",
      "column_name                                                          \n",
      "venueid                integer     NaN               32.0          NO\n",
      "locname      character varying   100.0                NaN          NO\n",
      "city         character varying   100.0                NaN         YES\n"
     ]
    },
    {
     "name": "stderr",
     "output_type": "stream",
     "text": [
      "/var/folders/96/kzlzzx2556jf68c57bc_gc180000gn/T/ipykernel_70885/890234789.py:27: UserWarning: pandas only supports SQLAlchemy connectable (engine/connection) or database string URI or sqlite3 DBAPI2 connection. Other DBAPI2 objects are not tested. Please consider using SQLAlchemy.\n",
      "  df = pd.read_sql(query, conn, index_col='column_name')\n"
     ]
    }
   ],
   "source": [
    "# 1\n",
    "import pandas as pd\n",
    "import psycopg2\n",
    "\n",
    "conn = psycopg2.connect(\n",
    "    database=\"pball\", \n",
    "    user='dw_chancewiese',\n",
    "    password='Spikeball2020',\n",
    "    host='database-1.czsooswggscz.us-east-2.rds.amazonaws.com',\n",
    "    port='5432'\n",
    ")\n",
    "\n",
    "cursor = conn.cursor()\n",
    "\n",
    "tables = ['player', 'result', 'venue']\n",
    "for table in tables:\n",
    "    query = f'''\n",
    "    SELECT \n",
    "        COLUMN_NAME,\n",
    "        DATA_TYPE,\n",
    "        CHARACTER_MAXIMUM_LENGTH as MaxLen,\n",
    "        NUMERIC_PRECISION,\n",
    "        IS_NULLABLE\n",
    "    FROM INFORMATION_SCHEMA.COLUMNS \n",
    "    WHERE TABLE_NAME = '{table}';\n",
    "    '''\n",
    "    df = pd.read_sql(query, conn, index_col='column_name')\n",
    "    print(f\"{table}:\\n\", df)"
   ]
  },
  {
   "cell_type": "code",
   "execution_count": 30,
   "id": "41b5e738-f87f-4126-bfa1-1c7831f6a68e",
   "metadata": {
    "tags": []
   },
   "outputs": [],
   "source": [
    "# 2\n",
    "# Create sequence\n",
    "cursor.execute(''' \n",
    "CREATE SEQUENCE IF NOT EXISTS pnum_sequence;\n",
    "SELECT setval('pnum_sequence', (SELECT MAX(pnum) FROM player));\n",
    "''')\n",
    "conn.commit()"
   ]
  },
  {
   "cell_type": "code",
   "execution_count": 36,
   "id": "0f067c9e-8d66-4d7a-b8f4-141d95674ed4",
   "metadata": {
    "tags": []
   },
   "outputs": [
    {
     "name": "stdout",
     "output_type": "stream",
     "text": [
      "               Home  Hlevel  Score             Away  Alevel  Score.1  \\\n",
      "0     Lucas Johnson       3     11  Smanatha Parker       2        5   \n",
      "1   Marucs Williams       3      9    Doris Mortron       3       11   \n",
      "2       Noah Wilson       1      3       Ava Garcia       3       11   \n",
      "3    Emily Martinez       2     11      Ethna Brown       2        7   \n",
      "4    Scooter Murphy       1      5    Lucas Johnson       3       11   \n",
      "5    Emily Martinez       2     11       Ava Garcia       3        9   \n",
      "6         Owen Pham       3     11  Mike Stonehower       2        8   \n",
      "7     Phil Thompson       2     11   Emily Martinez       2        1   \n",
      "8       Noah Wilson       1      4  Marucs Williams       3       11   \n",
      "9  Uwe Kleinschmidt       2     11  Smanatha Parker       2        9   \n",
      "\n",
      "         Location         City  \n",
      "0  The Pickledome       Wuffel  \n",
      "1  The Pickledome       Wuffel  \n",
      "2  The Pickledome       Wuffel  \n",
      "3  The Pickledome       Wuffel  \n",
      "4      Thwackside     Smashton  \n",
      "5      Thwackside     Smashton  \n",
      "6      Thwackside     Smashton  \n",
      "7  Phils Basement   Plasticton  \n",
      "8       The Aerie  Paddle City  \n",
      "9       The Aerie  Paddle City  \n",
      "\n",
      "Home: player, result\n",
      "Hlevel: player\n",
      "Score: result\n",
      "Away: player, result\n",
      "Alevel: player\n",
      "Score.1: result\n",
      "Location: venue, result\n",
      "City: venue, result\n",
      "\n"
     ]
    }
   ],
   "source": [
    "# 3\n",
    "df = pd.read_csv('lastweek.csv')\n",
    "print(df)\n",
    "\n",
    "print('''\n",
    "Home: player, result\n",
    "Hlevel: player\n",
    "Score: result\n",
    "Away: player, result\n",
    "Alevel: player\n",
    "Score.1: result\n",
    "Location: venue, result\n",
    "City: venue, result\n",
    "''')"
   ]
  },
  {
   "cell_type": "code",
   "execution_count": 47,
   "id": "807902c9-cd8c-4ce6-8bfc-36b7a7d3cbfe",
   "metadata": {
    "tags": []
   },
   "outputs": [
    {
     "name": "stdout",
     "output_type": "stream",
     "text": [
      "['Lucas Johnson', 'Smanatha Parker', 'Marucs Williams', 'Olivia Smith', 'Noah Wilson', 'Emily Martinez', 'Ava Garcia', 'Ethna Brown', 'John Fischer', 'Scooter Murphy']\n"
     ]
    },
    {
     "name": "stderr",
     "output_type": "stream",
     "text": [
      "/var/folders/96/kzlzzx2556jf68c57bc_gc180000gn/T/ipykernel_70885/1264480137.py:8: UserWarning: pandas only supports SQLAlchemy connectable (engine/connection) or database string URI or sqlite3 DBAPI2 connection. Other DBAPI2 objects are not tested. Please consider using SQLAlchemy.\n",
      "  current_players_df = pd.read_sql(\"SELECT CONCAT(first, ' ', last) AS full_name from player;\", conn)\n"
     ]
    }
   ],
   "source": [
    "# 4\n",
    "df = pd.read_csv('lastweek.csv')\n",
    "\n",
    "\n",
    "# for x in df.index():\n",
    "    \n",
    "# Home\n",
    "current_players_df = pd.read_sql(\"SELECT CONCAT(first, ' ', last) AS full_name from player;\", conn)\n",
    "current_players_list = current_players_df['full_name'].tolist()\n",
    "print(current_players_list)\n",
    "conn.close()"
   ]
  }
 ],
 "metadata": {
  "kernelspec": {
   "display_name": "Python 3 (ipykernel)",
   "language": "python",
   "name": "python3"
  },
  "language_info": {
   "codemirror_mode": {
    "name": "ipython",
    "version": 3
   },
   "file_extension": ".py",
   "mimetype": "text/x-python",
   "name": "python",
   "nbconvert_exporter": "python",
   "pygments_lexer": "ipython3",
   "version": "3.11.5"
  }
 },
 "nbformat": 4,
 "nbformat_minor": 5
}
