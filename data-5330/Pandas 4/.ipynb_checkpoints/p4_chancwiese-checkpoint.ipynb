{
 "cells": [
  {
   "cell_type": "code",
   "execution_count": 3,
   "id": "7756b06f-5a39-4248-980b-7c8fbba9d6b4",
   "metadata": {},
   "outputs": [],
   "source": [
    "# 1\n",
    "# Chance Wiese"
   ]
  },
  {
   "cell_type": "code",
   "execution_count": 4,
   "id": "4b384c2e-59b4-4666-aaf2-932a8f7ff49e",
   "metadata": {},
   "outputs": [],
   "source": [
    "# 2\n",
    "thiscsv = 'fdderby.csv'"
   ]
  },
  {
   "cell_type": "code",
   "execution_count": 5,
   "id": "0c33a574-4d0b-4b76-850f-39f9ebbe0b30",
   "metadata": {},
   "outputs": [
    {
     "name": "stdout",
     "output_type": "stream",
     "text": [
      "               Name (Age)     Breed Gender  Weight     Time\n",
      "Place                                                      \n",
      "1      Foxy Stumptail (6)  Pembroke     NM    29.0  0:50.11\n",
      "2          Cowboy Dan (6)  Pembroke      M    27.0  0:50.13\n",
      "3        Miss Juniper (3)  Pembroke     SF    21.5  0:52.88\n",
      "4        Bork Widow (2.5)  Pembroke      F    23.0  0:55.29\n",
      "5            Fruitcup (3)  Cardigan      F    23.0  0:55.48\n",
      "6           Optimus (4.5)  Pembroke      M    26.0  0:59.72\n",
      "7         Snarla June (4)  Pembroke     SF    29.0  0:59.92\n",
      "8        Prometheus (5.5)  Pembroke      M    27.0  1:00.05\n",
      "9         Sweet Dee (5.5)  Pembroke     SF    21.0  1:08.84\n",
      "10      Winston Smith (5)  Cardigan      M    32.0  1:44.45\n",
      "11             Crow (2.5)  Pembroke      M    28.0      DNF\n"
     ]
    }
   ],
   "source": [
    "# 3\n",
    "import pandas as pd\n",
    "import datetime\n",
    "\n",
    "df = pd.read_csv(thiscsv, skiprows=1, index_col='Place')\n",
    "print(df)"
   ]
  },
  {
   "cell_type": "code",
   "execution_count": 6,
   "id": "61f85630-16b7-4c59-bab1-983f6ee8233c",
   "metadata": {},
   "outputs": [
    {
     "name": "stdout",
     "output_type": "stream",
     "text": [
      "               Name (Age)     Breed Gender  Weight     Time\n",
      "Place                                                      \n",
      "1      Foxy Stumptail (6)  Pembroke     NM      29  0:50.11\n",
      "2          Cowboy Dan (6)  Pembroke      M      27  0:50.13\n",
      "3        Miss Juniper (3)  Pembroke     SF      22  0:52.88\n",
      "4        Bork Widow (2.5)  Pembroke      F      23  0:55.29\n",
      "5            Fruitcup (3)  Cardigan      F      23  0:55.48\n",
      "6           Optimus (4.5)  Pembroke      M      26  0:59.72\n",
      "7         Snarla June (4)  Pembroke     SF      29  0:59.92\n",
      "8        Prometheus (5.5)  Pembroke      M      27  1:00.05\n",
      "9         Sweet Dee (5.5)  Pembroke     SF      21  1:08.84\n",
      "10      Winston Smith (5)  Cardigan      M      32  1:44.45\n",
      "11             Crow (2.5)  Pembroke      M      28      DNF\n"
     ]
    }
   ],
   "source": [
    "# 4\n",
    "df['Weight'] = df['Weight'].round().astype(int)\n",
    "print(df)"
   ]
  },
  {
   "cell_type": "code",
   "execution_count": 7,
   "id": "42eeee54-59d0-4d43-95c6-73c484a83bfd",
   "metadata": {},
   "outputs": [
    {
     "name": "stdout",
     "output_type": "stream",
     "text": [
      "               Name (Age)  Breed Gender  Weight     Time\n",
      "Place                                                   \n",
      "1      Foxy Stumptail (6)    Pem     NM      29  0:50.11\n",
      "2          Cowboy Dan (6)    Pem      M      27  0:50.13\n",
      "3        Miss Juniper (3)    Pem     SF      22  0:52.88\n",
      "4        Bork Widow (2.5)    Pem      F      23  0:55.29\n",
      "5            Fruitcup (3)  Cardi      F      23  0:55.48\n",
      "6           Optimus (4.5)    Pem      M      26  0:59.72\n",
      "7         Snarla June (4)    Pem     SF      29  0:59.92\n",
      "8        Prometheus (5.5)    Pem      M      27  1:00.05\n",
      "9         Sweet Dee (5.5)    Pem     SF      21  1:08.84\n",
      "10      Winston Smith (5)  Cardi      M      32  1:44.45\n",
      "11             Crow (2.5)    Pem      M      28      DNF\n"
     ]
    },
    {
     "name": "stderr",
     "output_type": "stream",
     "text": [
      "C:\\Users\\Chanc\\AppData\\Local\\Temp\\ipykernel_4396\\4043021977.py:2: FutureWarning: A value is trying to be set on a copy of a DataFrame or Series through chained assignment using an inplace method.\n",
      "The behavior will change in pandas 3.0. This inplace method will never work because the intermediate object on which we are setting values always behaves as a copy.\n",
      "\n",
      "For example, when doing 'df[col].method(value, inplace=True)', try using 'df.method({col: value}, inplace=True)' or df[col] = df[col].method(value) instead, to perform the operation inplace on the original object.\n",
      "\n",
      "\n",
      "  df['Breed'].replace(to_replace=['Pembroke', 'Cardigan'], value=['Pem', 'Cardi'], inplace=True)\n"
     ]
    }
   ],
   "source": [
    "# 5\n",
    "df['Breed'].replace(to_replace=['Pembroke', 'Cardigan'], value=['Pem', 'Cardi'], inplace=True)\n",
    "print(df)"
   ]
  },
  {
   "cell_type": "code",
   "execution_count": 8,
   "id": "1e03a957-30b5-472b-a1fb-68533c401387",
   "metadata": {},
   "outputs": [
    {
     "name": "stdout",
     "output_type": "stream",
     "text": [
      "       Breed Gender  Weight     Time             Name  Age\n",
      "Place                                                     \n",
      "1        Pem     NM      29  0:50.11  Foxy Stumptail   6.0\n",
      "2        Pem      M      27  0:50.13      Cowboy Dan   6.0\n",
      "3        Pem     SF      22  0:52.88    Miss Juniper   3.0\n",
      "4        Pem      F      23  0:55.29      Bork Widow   2.5\n",
      "5      Cardi      F      23  0:55.48        Fruitcup   3.0\n",
      "6        Pem      M      26  0:59.72         Optimus   4.5\n",
      "7        Pem     SF      29  0:59.92     Snarla June   4.0\n",
      "8        Pem      M      27  1:00.05      Prometheus   5.5\n",
      "9        Pem     SF      21  1:08.84       Sweet Dee   5.5\n",
      "10     Cardi      M      32  1:44.45   Winston Smith   5.0\n",
      "11       Pem      M      28      DNF            Crow   2.5\n"
     ]
    }
   ],
   "source": [
    "# 6\n",
    "df[['Name', 'Age']] = df['Name (Age)'].str.split('(', expand=True)\n",
    "\n",
    "df['Age'] = df['Age'].str.replace(')', '').astype(float)\n",
    "\n",
    "df = df.drop(columns=['Name (Age)'])\n",
    "\n",
    "print(df)"
   ]
  },
  {
   "cell_type": "code",
   "execution_count": 9,
   "id": "c64c792d-5ee5-4122-8923-895ba4fe076f",
   "metadata": {},
   "outputs": [
    {
     "name": "stdout",
     "output_type": "stream",
     "text": [
      "       Breed Gender  Weight    Time             Name  Age  Min    Sec\n",
      "Place                                                                \n",
      "1        Pem     NM      29   50.11  Foxy Stumptail   6.0    0  50.11\n",
      "2        Pem      M      27   50.13      Cowboy Dan   6.0    0  50.13\n",
      "3        Pem     SF      22   52.88    Miss Juniper   3.0    0  52.88\n",
      "4        Pem      F      23   55.29      Bork Widow   2.5    0  55.29\n",
      "5      Cardi      F      23   55.48        Fruitcup   3.0    0  55.48\n",
      "6        Pem      M      26   59.72         Optimus   4.5    0  59.72\n",
      "7        Pem     SF      29   59.92     Snarla June   4.0    0  59.92\n",
      "8        Pem      M      27   60.05      Prometheus   5.5    1   0.05\n",
      "9        Pem     SF      21   68.84       Sweet Dee   5.5    1   8.84\n",
      "10     Cardi      M      32  104.45   Winston Smith   5.0    1  44.45\n",
      "11       Pem      M      28   -1.00            Crow   2.5   -1   0.00\n"
     ]
    }
   ],
   "source": [
    "# 7\n",
    "import numpy as np \n",
    "\n",
    "df['Time'] = df['Time'].replace('DNF', '-1:00.00')\n",
    "\n",
    "df[['Min', 'Sec']] = df['Time'].str.split(':', expand=True)\n",
    "df['Min'] = pd.to_numeric(df['Min'])\n",
    "df['Sec'] = pd.to_numeric(df['Sec'])\n",
    "\n",
    "df['Time'] = (df['Min'] * 60) + df['Sec']\n",
    "\n",
    "df['Time'] = np.where(df['Time'] < 0, -1.00, df['Time'])\n",
    "\n",
    "print(df)"
   ]
  },
  {
   "cell_type": "code",
   "execution_count": 10,
   "id": "0646ff64-523c-4279-8627-c28796b4b5b0",
   "metadata": {},
   "outputs": [
    {
     "name": "stdout",
     "output_type": "stream",
     "text": [
      "                  Name  Breed Gender  Age  Weight    Time\n",
      "Place                                                    \n",
      "1      Foxy Stumptail     Pem     NM  6.0      29   50.11\n",
      "2          Cowboy Dan     Pem      M  6.0      27   50.13\n",
      "3        Miss Juniper     Pem     SF  3.0      22   52.88\n",
      "4          Bork Widow     Pem      F  2.5      23   55.29\n",
      "5            Fruitcup   Cardi      F  3.0      23   55.48\n",
      "6             Optimus     Pem      M  4.5      26   59.72\n",
      "7         Snarla June     Pem     SF  4.0      29   59.92\n",
      "8          Prometheus     Pem      M  5.5      27   60.05\n",
      "9           Sweet Dee     Pem     SF  5.5      21   68.84\n",
      "10      Winston Smith   Cardi      M  5.0      32  104.45\n",
      "11               Crow     Pem      M  2.5      28   -1.00\n"
     ]
    }
   ],
   "source": [
    "# 8\n",
    "df.drop(columns=['Min', 'Sec'], inplace=True)\n",
    "df = df[['Name', 'Breed', 'Gender', 'Age', 'Weight', 'Time']]\n",
    "print(df)"
   ]
  },
  {
   "cell_type": "code",
   "execution_count": 11,
   "id": "10bb84b7-2413-455e-93f6-33de3650a473",
   "metadata": {},
   "outputs": [
    {
     "name": "stdout",
     "output_type": "stream",
     "text": [
      "\n",
      "Race Info:\n",
      "Race Name: First Dam Derby\n",
      "Race State: Utah\n",
      "Race Date: 20240627\n",
      "Weather: Sunny\n",
      "Temperature: 85Â°\n",
      "Track Condition: Dry Track\n",
      "\n",
      "                  Name  Breed Gender  Age  Weight    Time\n",
      "Place                                                    \n",
      "1      Foxy Stumptail     Pem     NM  6.0      29   50.11\n",
      "2          Cowboy Dan     Pem      M  6.0      27   50.13\n",
      "3        Miss Juniper     Pem     SF  3.0      22   52.88\n",
      "4          Bork Widow     Pem      F  2.5      23   55.29\n",
      "5            Fruitcup   Cardi      F  3.0      23   55.48\n",
      "6             Optimus     Pem      M  4.5      26   59.72\n",
      "7         Snarla June     Pem     SF  4.0      29   59.92\n",
      "8          Prometheus     Pem      M  5.5      27   60.05\n",
      "9           Sweet Dee     Pem     SF  5.5      21   68.84\n",
      "10      Winston Smith   Cardi      M  5.0      32  104.45\n",
      "11               Crow     Pem      M  2.5      28   -1.00\n"
     ]
    }
   ],
   "source": [
    "# 9\n",
    "from datetime import datetime\n",
    "with open(thiscsv, 'r') as file:\n",
    "    first_line = file.readline().strip()\n",
    "\n",
    "race_info = first_line.split(', ')\n",
    "race_name = race_info[0].split(': ')[1]\n",
    "race_state = race_info[1]\n",
    "\n",
    "date_str = race_info[2]\n",
    "month, day = date_str.split()\n",
    "day = ''.join(filter(str.isdigit, day))\n",
    "current_year = datetime.today().year\n",
    "race_date = datetime(current_year, datetime.strptime(month, '%B').month, int(day))\n",
    "formatted_date = race_date.strftime('%Y%m%d')\n",
    "\n",
    "weather, temperature = race_info[3].split(' and ')\n",
    "race_track = race_info[4]\n",
    "print(f\"\"\"\n",
    "Race Info:\n",
    "Race Name: {race_name}\n",
    "Race State: {race_state}\n",
    "Race Date: {formatted_date}\n",
    "Weather: {weather}\n",
    "Temperature: {temperature}\n",
    "Track Condition: {race_track}\n",
    "\"\"\")\n",
    "\n",
    "output_filename = f\"race-{formatted_date}.csv\"\n",
    "df.to_csv(output_filename, index=True)\n",
    "dftest = pd.read_csv(output_filename, index_col='Place')\n",
    "print(dftest)"
   ]
  },
  {
   "cell_type": "code",
   "execution_count": 12,
   "id": "6f2ce843-b5d4-405f-bc6e-dbdda32fa2f2",
   "metadata": {},
   "outputs": [
    {
     "name": "stdout",
     "output_type": "stream",
     "text": [
      "\n",
      "Three additional steps to fit the data\n",
      "1. Assign IDs to each of the Corgis in the races.\n",
      "2. Create more columns such as 'Breakfast' for the Corgi table.\n",
      "3. Add the race information to the output to be included in the tables. \n",
      "\n"
     ]
    }
   ],
   "source": [
    "# 10\n",
    "print(\"\"\"\n",
    "Three additional steps to fit the data\n",
    "1. Assign IDs to each of the Corgis in the races.\n",
    "2. Create more columns such as 'Breakfast' for the Corgi table.\n",
    "3. Add the race information to the output to be included in the tables. \n",
    "\"\"\")"
   ]
  }
 ],
 "metadata": {
  "kernelspec": {
   "display_name": "Python 3 (ipykernel)",
   "language": "python",
   "name": "python3"
  },
  "language_info": {
   "codemirror_mode": {
    "name": "ipython",
    "version": 3
   },
   "file_extension": ".py",
   "mimetype": "text/x-python",
   "name": "python",
   "nbconvert_exporter": "python",
   "pygments_lexer": "ipython3",
   "version": "3.12.4"
  }
 },
 "nbformat": 4,
 "nbformat_minor": 5
}
