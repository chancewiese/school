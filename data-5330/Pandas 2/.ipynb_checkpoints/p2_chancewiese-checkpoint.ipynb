{
 "cells": [
  {
   "cell_type": "code",
   "execution_count": 1,
   "metadata": {},
   "outputs": [],
   "source": [
    "import pandas as pd\n",
    "import numpy as np"
   ]
  },
  {
   "cell_type": "code",
   "execution_count": 2,
   "metadata": {},
   "outputs": [
    {
     "name": "stdout",
     "output_type": "stream",
     "text": [
      "         material  age  length  mosscover covered cursed waterbody  guardian\n",
      "bridgeid                                                                    \n",
      "1           stone  2.5     4.5        0.8       n      y     river     troll\n",
      "2           stone  3.8     3.1        0.5       n      y     marsh       NaN\n",
      "3         unknown  2.1     4.4        0.6       n      n     marsh     troll\n",
      "4            wood  1.2     2.2        0.6       n      n     creek  squirrel\n",
      "5           brick  2.6     3.8        0.9       n      n     river     troll\n",
      "...           ...  ...     ...        ...     ...    ...       ...       ...\n",
      "929         brick  1.6     1.9        0.7       n      y     marsh  squirrel\n",
      "930         stone  3.7     4.2        0.5       n      y     marsh  squirrel\n",
      "931         brick  2.0     2.7        0.4       n      n     river      none\n",
      "932          wood  1.7     2.5        0.9       n      n     river  squirrel\n",
      "933         stone  4.4     3.9        0.6       n      y     marsh      ogre\n",
      "\n",
      "[933 rows x 8 columns]\n"
     ]
    },
    {
     "name": "stderr",
     "output_type": "stream",
     "text": [
      "C:\\Users\\Chanc\\AppData\\Local\\Temp\\ipykernel_35580\\306154101.py:3: FutureWarning: A value is trying to be set on a copy of a DataFrame or Series through chained assignment using an inplace method.\n",
      "The behavior will change in pandas 3.0. This inplace method will never work because the intermediate object on which we are setting values always behaves as a copy.\n",
      "\n",
      "For example, when doing 'df[col].method(value, inplace=True)', try using 'df.method({col: value}, inplace=True)' or df[col] = df[col].method(value) instead, to perform the operation inplace on the original object.\n",
      "\n",
      "\n",
      "  df['material'].replace(to_replace=np.nan, value='unknown', inplace=True)\n"
     ]
    }
   ],
   "source": [
    "# 1\n",
    "df = pd.read_csv('griselbridge.csv', index_col=0)\n",
    "df['material'].replace(to_replace=np.nan, value='unknown', inplace=True)\n",
    "print(df)"
   ]
  },
  {
   "cell_type": "code",
   "execution_count": 3,
   "metadata": {},
   "outputs": [
    {
     "name": "stdout",
     "output_type": "stream",
     "text": [
      "            length       \n",
      "              mean median\n",
      "material                 \n",
      "brick     2.906173    2.8\n",
      "stone     3.041315    3.1\n",
      "unknown   4.080000    4.2\n",
      "wood      2.948851    2.9\n",
      "The average length of a brick bridge is 2.906 and the median length is 2.800\n",
      "The average length of a stone bridge is 3.041 and the median length is 3.100\n",
      "The average length of a wood bridge is 2.949 and the median length is 2.900\n",
      "The average length of a unknown bridge is 4.080 and the median length is 4.200\n",
      "\n",
      "             age  mosscover\n",
      "cursed                     \n",
      "n       2.117427   0.488581\n",
      "y       2.434921   0.728617\n",
      "Cursed bridges tend to be older and more mosscovered.\n"
     ]
    },
    {
     "name": "stderr",
     "output_type": "stream",
     "text": [
      "C:\\Users\\Chanc\\AppData\\Local\\Temp\\ipykernel_35580\\2365535241.py:6: FutureWarning: Series.__getitem__ treating keys as positions is deprecated. In a future version, integer keys will always be treated as labels (consistent with DataFrame behavior). To access a value by position, use `ser.iloc[pos]`\n",
      "  avg_length = df_materials.loc[mat][0]\n",
      "C:\\Users\\Chanc\\AppData\\Local\\Temp\\ipykernel_35580\\2365535241.py:7: FutureWarning: Series.__getitem__ treating keys as positions is deprecated. In a future version, integer keys will always be treated as labels (consistent with DataFrame behavior). To access a value by position, use `ser.iloc[pos]`\n",
      "  median_length = df_materials.loc[mat][1]\n"
     ]
    }
   ],
   "source": [
    "# 2\n",
    "df_materials = df[['material', 'length']].groupby('material').agg(['mean', 'median'])\n",
    "print(df_materials)\n",
    "materials = ['brick', 'stone', 'wood', 'unknown']\n",
    "for mat in materials:\n",
    "    avg_length = df_materials.loc[mat][0]\n",
    "    median_length = df_materials.loc[mat][1]\n",
    "    print(f\"The average length of a {mat} bridge is {avg_length:.3f} and the median length is {median_length:.3f}\")\n",
    "\n",
    "print()\n",
    "print(df[['age', 'cursed', 'mosscover']].groupby('cursed').agg('mean'))\n",
    "print('Cursed bridges tend to be older and more mosscovered.')"
   ]
  },
  {
   "cell_type": "code",
   "execution_count": 4,
   "metadata": {},
   "outputs": [
    {
     "name": "stdout",
     "output_type": "stream",
     "text": [
      "          mosscover  length  age  mossqty  mossrate\n",
      "bridgeid                                           \n",
      "1               0.8     4.5  2.5     3.60  1.440000\n",
      "2               0.5     3.1  3.8     1.55  0.407895\n",
      "3               0.6     4.4  2.1     2.64  1.257143\n",
      "4               0.6     2.2  1.2     1.32  1.100000\n",
      "5               0.9     3.8  2.6     3.42  1.315385\n",
      "...             ...     ...  ...      ...       ...\n",
      "929             0.7     1.9  1.6     1.33  0.831250\n",
      "930             0.5     4.2  3.7     2.10  0.567568\n",
      "931             0.4     2.7  2.0     1.08  0.540000\n",
      "932             0.9     2.5  1.7     2.25  1.323529\n",
      "933             0.6     3.9  4.4     2.34  0.531818\n",
      "\n",
      "[933 rows x 5 columns]\n",
      "          mossrate\n",
      "              mean\n",
      "material          \n",
      "brick     0.857133\n",
      "stone     0.890560\n",
      "unknown   0.984254\n",
      "wood      1.403203\n",
      "Moss grows at a rate of 0.857 on bridges of brick\n",
      "Moss grows at a rate of 0.891 on bridges of stone\n",
      "Moss grows at a rate of 1.403 on bridges of wood\n",
      "Moss grows at a rate of 0.984 on bridges of unknown\n",
      "Material with the fastest growth rate: wood\n",
      "Material with the slowest growth rate: brick\n",
      "\n",
      "         mossrate\n",
      "covered          \n",
      "n        1.007567\n",
      "y        0.815901\n",
      "Covered bridges encourage slower moss growth\n"
     ]
    },
    {
     "name": "stderr",
     "output_type": "stream",
     "text": [
      "C:\\Users\\Chanc\\AppData\\Local\\Temp\\ipykernel_35580\\986228237.py:7: FutureWarning: Series.__getitem__ treating keys as positions is deprecated. In a future version, integer keys will always be treated as labels (consistent with DataFrame behavior). To access a value by position, use `ser.iloc[pos]`\n",
      "  print(f\"Moss grows at a rate of {df[['material', 'mossrate']].groupby('material').agg(['mean']).loc[mat][0]:.3f} on bridges of {mat}\")\n",
      "C:\\Users\\Chanc\\AppData\\Local\\Temp\\ipykernel_35580\\986228237.py:7: FutureWarning: Series.__getitem__ treating keys as positions is deprecated. In a future version, integer keys will always be treated as labels (consistent with DataFrame behavior). To access a value by position, use `ser.iloc[pos]`\n",
      "  print(f\"Moss grows at a rate of {df[['material', 'mossrate']].groupby('material').agg(['mean']).loc[mat][0]:.3f} on bridges of {mat}\")\n",
      "C:\\Users\\Chanc\\AppData\\Local\\Temp\\ipykernel_35580\\986228237.py:7: FutureWarning: Series.__getitem__ treating keys as positions is deprecated. In a future version, integer keys will always be treated as labels (consistent with DataFrame behavior). To access a value by position, use `ser.iloc[pos]`\n",
      "  print(f\"Moss grows at a rate of {df[['material', 'mossrate']].groupby('material').agg(['mean']).loc[mat][0]:.3f} on bridges of {mat}\")\n",
      "C:\\Users\\Chanc\\AppData\\Local\\Temp\\ipykernel_35580\\986228237.py:7: FutureWarning: Series.__getitem__ treating keys as positions is deprecated. In a future version, integer keys will always be treated as labels (consistent with DataFrame behavior). To access a value by position, use `ser.iloc[pos]`\n",
      "  print(f\"Moss grows at a rate of {df[['material', 'mossrate']].groupby('material').agg(['mean']).loc[mat][0]:.3f} on bridges of {mat}\")\n"
     ]
    }
   ],
   "source": [
    "# 3\n",
    "df['mossqty'] = df['mosscover'] * df['length']\n",
    "df['mossrate'] = df['mossqty'] / df['age']\n",
    "print(df[['mosscover', 'length', 'age', 'mossqty', 'mossrate']])\n",
    "print(df[['material', 'mossrate']].groupby('material').agg(['mean']))\n",
    "for mat in materials:\n",
    "    print(f\"Moss grows at a rate of {df[['material', 'mossrate']].groupby('material').agg(['mean']).loc[mat][0]:.3f} on bridges of {mat}\")\n",
    "print(\"Material with the fastest growth rate: wood\")\n",
    "print(\"Material with the slowest growth rate: brick\\n\")\n",
    "print(df[['covered', 'mossrate']].groupby('covered').agg('mean'))\n",
    "print(\"Covered bridges encourage slower moss growth\")\n",
    "\n"
   ]
  },
  {
   "cell_type": "code",
   "execution_count": 5,
   "metadata": {},
   "outputs": [
    {
     "name": "stdout",
     "output_type": "stream",
     "text": [
      "         waterbody flow  guardian  threatlvl\n",
      "bridgeid                                    \n",
      "1            river    y     troll       0.20\n",
      "2            marsh    n       NaN       0.00\n",
      "3            marsh    n     troll       0.20\n",
      "4            creek    y  squirrel       0.01\n",
      "5            river    y     troll       0.20\n",
      "...            ...  ...       ...        ...\n",
      "929          marsh    n  squirrel       0.01\n",
      "930          marsh    n  squirrel       0.01\n",
      "931          river    y      none       0.00\n",
      "932          river    y  squirrel       0.01\n",
      "933          marsh    n      ogre       0.10\n",
      "\n",
      "[933 rows x 4 columns]\n"
     ]
    }
   ],
   "source": [
    "# 4\n",
    "df['guardian'].dropna(inplace=True)\n",
    "df['flow'] = np.where((df['waterbody'] == 'river') | (df['waterbody'] == 'creek'), 'y', 'n')\n",
    "\n",
    "conditions = [\n",
    "    df['guardian'] == 'ogre',\n",
    "    df['guardian'] == 'troll',\n",
    "    df['guardian'] == 'squirrel',\n",
    "    df['guardian'] == True,\n",
    "]\n",
    "\n",
    "values = [\n",
    "    0.1, 0.2, 0.01, 0\n",
    "]\n",
    "\n",
    "df['threatlvl'] = np.select(conditions, values)\n",
    "print(df[['waterbody', 'flow', 'guardian', 'threatlvl']])"
   ]
  },
  {
   "cell_type": "code",
   "execution_count": 6,
   "metadata": {},
   "outputs": [
    {
     "name": "stdout",
     "output_type": "stream",
     "text": [
      "      threatlvl\n",
      "flow           \n",
      "n      0.117584\n",
      "y      0.099262\n",
      "Bridges over flowing water are less dangerous on average\n",
      "\n",
      "          threatlvl\n",
      "material           \n",
      "brick      0.099660\n",
      "stone      0.110164\n",
      "unknown    0.104000\n",
      "wood       0.099886\n",
      "Stone bridges are the most dangerous bridges\n",
      "\n",
      "               threatlvl\n",
      "material flow           \n",
      "brick    n      0.126667\n",
      "         y      0.089274\n",
      "stone    n      0.112397\n",
      "         y      0.109283\n",
      "unknown  n      0.200000\n",
      "         y      0.080000\n",
      "wood     n      0.112807\n",
      "         y      0.093697\n",
      "Brick bridges with no flow yield the highest threat level\n"
     ]
    }
   ],
   "source": [
    "# 5\n",
    "print(df[['flow', 'threatlvl']].groupby('flow').agg('mean'))\n",
    "print('Bridges over flowing water are less dangerous on average')\n",
    "print()\n",
    "print(df[['material', 'threatlvl']].groupby('material').agg('mean'))\n",
    "print('Stone bridges are the most dangerous bridges')\n",
    "print()\n",
    "print(df[['material', 'flow', 'threatlvl']].groupby(['material', 'flow']).agg('mean'))\n",
    "print('Brick bridges with no flow yield the highest threat level')"
   ]
  },
  {
   "cell_type": "code",
   "execution_count": 7,
   "metadata": {},
   "outputs": [
    {
     "name": "stdout",
     "output_type": "stream",
     "text": [
      "         material  age  length  mosscover covered cursed waterbody  guardian  \\\n",
      "bridgeid                                                                       \n",
      "1           stone  2.5     4.5        0.8       n      y     river     troll   \n",
      "8           brick  3.1     4.3        0.8       n      n     marsh      ogre   \n",
      "17          stone  2.9     4.3        1.0       n      n     river     troll   \n",
      "21          stone  3.3     4.3        0.9       n      n     marsh  squirrel   \n",
      "25          stone  1.5     4.2        0.8       n      n     river     troll   \n",
      "...           ...  ...     ...        ...     ...    ...       ...       ...   \n",
      "906         brick  2.9     4.2        0.8       n      y     marsh     troll   \n",
      "911         stone  3.6     4.3        0.4       n      n     river      ogre   \n",
      "912         stone  3.8     4.2        0.4       n      n     river      ogre   \n",
      "914         brick  1.5     4.3        0.6       n      n     river     troll   \n",
      "930         stone  3.7     4.2        0.5       n      y     marsh  squirrel   \n",
      "\n",
      "          mossqty  mossrate flow  threatlvl  \n",
      "bridgeid                                     \n",
      "1            3.60  1.440000    y       0.20  \n",
      "8            3.44  1.109677    n       0.10  \n",
      "17           4.30  1.482759    y       0.20  \n",
      "21           3.87  1.172727    n       0.01  \n",
      "25           3.36  2.240000    y       0.20  \n",
      "...           ...       ...  ...        ...  \n",
      "906          3.36  1.158621    n       0.20  \n",
      "911          1.72  0.477778    y       0.10  \n",
      "912          1.68  0.442105    y       0.10  \n",
      "914          2.58  1.720000    y       0.20  \n",
      "930          2.10  0.567568    n       0.01  \n",
      "\n",
      "[117 rows x 12 columns]\n",
      "material     117\n",
      "age          117\n",
      "length       117\n",
      "mosscover    117\n",
      "covered      116\n",
      "cursed       117\n",
      "waterbody    117\n",
      "guardian     116\n",
      "mossqty      117\n",
      "mossrate     117\n",
      "flow         117\n",
      "threatlvl    117\n",
      "dtype: int64\n"
     ]
    }
   ],
   "source": [
    "# 6\n",
    "print(df[(df['age'] > 1) & ((df['material'] == 'stone') | (df['material'] == 'brick')) & (df['length'] >= 4.2)])\n",
    "print(df[(df['age'] > 1) & ((df['material'] == 'stone') | (df['material'] == 'brick')) & (df['length'] >= 4.2)].count())"
   ]
  },
  {
   "cell_type": "code",
   "execution_count": 8,
   "metadata": {},
   "outputs": [
    {
     "name": "stdout",
     "output_type": "stream",
     "text": [
      "         material  age  length  mosscover covered cursed waterbody  guardian  \\\n",
      "bridgeid                                                                       \n",
      "1           stone  2.5     4.5        0.8       n      y     river     troll   \n",
      "3         unknown  2.1     4.4        0.6       n      n     marsh     troll   \n",
      "4            wood  1.2     2.2        0.6       n      n     creek  squirrel   \n",
      "5           brick  2.6     3.8        0.9       n      n     river     troll   \n",
      "6           stone  2.4     2.4        0.8       y      n     river  squirrel   \n",
      "...           ...  ...     ...        ...     ...    ...       ...       ...   \n",
      "929         brick  1.6     1.9        0.7       n      y     marsh  squirrel   \n",
      "930         stone  3.7     4.2        0.5       n      y     marsh  squirrel   \n",
      "931         brick  2.0     2.7        0.4       n      n     river      none   \n",
      "932          wood  1.7     2.5        0.9       n      n     river  squirrel   \n",
      "933         stone  4.4     3.9        0.6       n      y     marsh      ogre   \n",
      "\n",
      "          mossqty  mossrate flow  threatlvl  \n",
      "bridgeid                                     \n",
      "1            3.60  1.440000    y       0.20  \n",
      "3            2.64  1.257143    n       0.20  \n",
      "4            1.32  1.100000    y       0.01  \n",
      "5            3.42  1.315385    y       0.20  \n",
      "6            1.92  0.800000    y       0.01  \n",
      "...           ...       ...  ...        ...  \n",
      "929          1.33  0.831250    n       0.01  \n",
      "930          2.10  0.567568    n       0.01  \n",
      "931          1.08  0.540000    y       0.00  \n",
      "932          2.25  1.323529    y       0.01  \n",
      "933          2.34  0.531818    n       0.10  \n",
      "\n",
      "[907 rows x 12 columns]\n",
      "material     907\n",
      "age          907\n",
      "length       907\n",
      "mosscover    907\n",
      "covered      907\n",
      "cursed       907\n",
      "waterbody    907\n",
      "guardian     907\n",
      "mossqty      907\n",
      "mossrate     907\n",
      "flow         907\n",
      "threatlvl    907\n",
      "dtype: int64\n",
      "The new dataframe has a count of 907\n"
     ]
    }
   ],
   "source": [
    "# 7\n",
    "dfa = df.dropna()\n",
    "print(dfa)\n",
    "print(dfa.count())\n",
    "print('The new dataframe has a count of 907')"
   ]
  },
  {
   "cell_type": "code",
   "execution_count": 27,
   "metadata": {},
   "outputs": [
    {
     "name": "stdout",
     "output_type": "stream",
     "text": [
      "Bridge A:\n",
      "                     threatlvl\n",
      "material waterbody           \n",
      "wood     river       0.100471\n",
      "Bridge B:\n",
      "                     threatlvl\n",
      "material waterbody           \n",
      "brick    creek       0.109344\n",
      "Bridge C:\n",
      "                     threatlvl\n",
      "material waterbody           \n",
      "stone    marsh       0.116207\n",
      "\n",
      "I would prefer to cross Bridge A, as it has the lowest threat level of 10.05%, compared to B's 10.93% and C's 11.62%\n"
     ]
    }
   ],
   "source": [
    "# 8\n",
    "bridge_a = dfa[(dfa['material'] == 'wood') & (dfa['waterbody'] == 'river')][['material', 'waterbody', 'threatlvl']].groupby(['material', 'waterbody']).agg('mean')\n",
    "bridge_b = dfa[(dfa['material'] == 'brick') & (dfa['waterbody'] == 'creek')][['material', 'waterbody', 'threatlvl']].groupby(['material', 'waterbody']).agg('mean')\n",
    "bridge_c = dfa[(dfa['material'] == 'stone') & (dfa['waterbody'] == 'marsh')][['material', 'waterbody', 'threatlvl']].groupby(['material', 'waterbody']).agg('mean')\n",
    "\n",
    "print('Bridge A:\\n', bridge_a)\n",
    "print('Bridge B:\\n', bridge_b)\n",
    "print('Bridge C:\\n', bridge_c)\n",
    "print(\"\\nI would prefer to cross Bridge A, as it has the lowest threat level of 10.05%, compared to B's 10.93% and C's 11.62%\")"
   ]
  },
  {
   "cell_type": "code",
   "execution_count": 36,
   "metadata": {},
   "outputs": [
    {
     "name": "stdout",
     "output_type": "stream",
     "text": [
      "       Material  Mosscat Waterbody  ThreatLevel\n",
      "Bridge                                         \n",
      "D         stone  average     marsh       0.1227\n",
      "E         brick  average     river       0.0868\n",
      "F         brick  average     creek       0.1237\n",
      "G         stone      low     creek       0.0600\n",
      "H          wood     high     river       0.1281\n",
      "\n",
      " You should cross bridge G because it has the lowest probability of being attacked, of 8.68%\n"
     ]
    }
   ],
   "source": [
    "# 9\n",
    "mean_moss = dfa['mosscover'].agg('mean')\n",
    "std_moss = dfa['mosscover'].agg('std')\n",
    "\n",
    "conditions = [\n",
    "    dfa['mosscover'] < mean_moss - std_moss,\n",
    "    dfa['mosscover'] <= mean_moss + std_moss,\n",
    "    dfa['mosscover'] > mean_moss + std_moss\n",
    "]\n",
    "\n",
    "values = ['low', 'average', 'high']\n",
    "\n",
    "dfa.loc[:, 'mosscat'] = np.select(conditions, values)\n",
    "\n",
    "bridges = [\n",
    "    {\n",
    "        \"bridge\": \"D\",\n",
    "        \"material\": \"stone\",\n",
    "        \"mosscover\": .67,\n",
    "        \"waterbody\": \"marsh\"\n",
    "     },\n",
    "     {\n",
    "        \"bridge\": \"E\",\n",
    "        \"material\": \"brick\",\n",
    "        \"mosscover\": .45,\n",
    "        \"waterbody\": \"river\"\n",
    "     },\n",
    "     {\n",
    "        \"bridge\": \"F\",\n",
    "        \"material\": \"brick\",\n",
    "        \"mosscover\": .60,\n",
    "        \"waterbody\": \"creek\"\n",
    "     },\n",
    "     {\n",
    "        \"bridge\": \"G\",\n",
    "        \"material\": \"stone\",\n",
    "        \"mosscover\": .15,\n",
    "        \"waterbody\": \"creek\"\n",
    "     },\n",
    "     {\n",
    "        \"bridge\": \"H\",\n",
    "        \"material\": \"wood\",\n",
    "        \"mosscover\": .88,\n",
    "        \"waterbody\": \"river\"\n",
    "     }\n",
    "]\n",
    "\n",
    "results =[]\n",
    "for bridge in bridges:\n",
    "    bridge_name = bridge['bridge']\n",
    "    material = bridge['material']\n",
    "    mosscover = bridge['mosscover']\n",
    "    waterbody = bridge['waterbody']\n",
    "\n",
    "    if mosscover < mean_moss - std_moss:\n",
    "        mosscat = 'low'\n",
    "    elif mosscover <= mean_moss + std_moss:\n",
    "        mosscat = 'average'\n",
    "    else:\n",
    "        mosscat = 'high'\n",
    "\n",
    "    threat_level = dfa[(dfa['material'] == material) & (dfa['mosscat'] == mosscat) & (dfa['waterbody'] == waterbody)][['material', 'mosscat', 'waterbody', 'threatlvl']].groupby(['material', 'mosscat', 'waterbody']).agg('mean').values[0][0]\n",
    "    threat_level = np.round(threat_level, 4)\n",
    "\n",
    "    results.append({\n",
    "        'Bridge': bridge_name,\n",
    "        'Material': material,\n",
    "        'Mosscat': mosscat,\n",
    "        'Waterbody': waterbody,\n",
    "        'ThreatLevel': threat_level\n",
    "    })\n",
    "\n",
    "result_df = pd.DataFrame(results).set_index('Bridge')\n",
    "print(result_df)\n",
    "print('\\n You should cross bridge G because it has the lowest probability of being attacked, of 8.68%')"
   ]
  }
 ],
 "metadata": {
  "kernelspec": {
   "display_name": "base",
   "language": "python",
   "name": "python3"
  },
  "language_info": {
   "codemirror_mode": {
    "name": "ipython",
    "version": 3
   },
   "file_extension": ".py",
   "mimetype": "text/x-python",
   "name": "python",
   "nbconvert_exporter": "python",
   "pygments_lexer": "ipython3",
   "version": "3.12.4"
  }
 },
 "nbformat": 4,
 "nbformat_minor": 2
}
