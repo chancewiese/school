{
 "cells": [
  {
   "cell_type": "code",
   "execution_count": 87,
   "id": "d3a19ec7-de27-4436-ba88-3b86b438f257",
   "metadata": {
    "tags": []
   },
   "outputs": [],
   "source": [
    "# 1\n",
    "# Chance Wiese"
   ]
  },
  {
   "cell_type": "code",
   "execution_count": 89,
   "id": "393ab764-ffa1-40ba-9c88-2f8992b3e9de",
   "metadata": {
    "tags": []
   },
   "outputs": [
    {
     "name": "stdout",
     "output_type": "stream",
     "text": [
      "102121-7380.csv\n",
      "pdx623.csv\n",
      "102121-5390.csv\n",
      "portlandeventjun22.csv\n",
      "newreg-062822.csv\n",
      "102123-3428.csv\n",
      "102124-9377.csv\n",
      "Icon\n",
      "newcorgis-20220619.csv\n",
      "newcorgis-20220618.csv\n",
      "signupsjune272022.csv\n",
      "102124-3988.csv\n",
      "102119-8469.csv\n",
      "tacoma-062322.csv\n",
      "102122-4015.csv\n",
      "102120-8243.csv\n"
     ]
    }
   ],
   "source": [
    "# 2\n",
    "import os\n",
    "import pandas as pd\n",
    "\n",
    "path = '/Users/chancewiese/Dropbox/5330corgis'\n",
    "files = os.listdir(path)\n",
    "\n",
    "for file in files:\n",
    "    print(file)"
   ]
  },
  {
   "cell_type": "code",
   "execution_count": 91,
   "id": "f97fe162-0ddc-4db8-b554-19a6ba788c24",
   "metadata": {
    "tags": []
   },
   "outputs": [
    {
     "name": "stdout",
     "output_type": "stream",
     "text": [
      "102121-7380.csv has already been processed.\n",
      "pdx623.csv has already been processed.\n",
      "102121-5390.csv has already been processed.\n",
      "portlandeventjun22.csv has already been processed.\n",
      "newreg-062822.csv has already been processed.\n",
      "102123-3428.csv has already been processed.\n",
      "102124-9377.csv has already been processed.\n",
      "newcorgis-20220619.csv has already been processed.\n",
      "newcorgis-20220618.csv has already been processed.\n",
      "signupsjune272022.csv has already been processed.\n",
      "102124-3988.csv has already been processed.\n",
      "102119-8469.csv has already been processed.\n",
      "tacoma-062322.csv has already been processed.\n",
      "102122-4015.csv has already been processed.\n",
      "Processing 102120-8243.csv:\n",
      "file: 102120-8243.csv, name: Megawoof, issues: ['Weight Too High', 'Age Too High']\n",
      "file: 102120-8243.csv, name: Charles, issues: ['Gender Col Issue', 'Weight Too High']\n",
      "file: 102120-8243.csv, name: Mabel the Claw, issues: []\n",
      "file: 102120-8243.csv, name: Instant Breakfast, issues: []\n",
      "file: 102120-8243.csv, name: Willow The Dust Storm Corgifriend, issues: []\n",
      "file: 102120-8243.csv, name: Empanada, issues: []\n",
      "file: 102120-8243.csv, name: Leatherface, issues: []\n",
      "file: 102120-8243.csv, name: Corgi Elliot, issues: []\n",
      "file: 102120-8243.csv, name: Tobias, issues: []\n",
      "file: 102120-8243.csv, name: Nature Girl Nala, issues: ['Gender Col Issue', 'Weight Non-Numeric']\n",
      "file: 102120-8243.csv, name: Mountain Man, issues: []\n",
      "file: 102120-8243.csv, name: Loofah, issues: []\n",
      "file: 102120-8243.csv, name: Amelia the Woof, issues: ['Breed Issue', 'Gender Col Issue']\n"
     ]
    },
    {
     "name": "stderr",
     "output_type": "stream",
     "text": [
      "/var/folders/96/kzlzzx2556jf68c57bc_gc180000gn/T/ipykernel_17427/739805483.py:15: UserWarning: pandas only supports SQLAlchemy connectable (engine/connection) or database string URI or sqlite3 DBAPI2 connection. Other DBAPI2 objects are not tested. Please consider using SQLAlchemy.\n",
      "  df_ingest = pd.read_sql_query(query, conn)\n"
     ]
    }
   ],
   "source": [
    "# 3\n",
    "import psycopg2\n",
    "\n",
    "conn = psycopg2.connect(\n",
    "    database='corgirace',\n",
    "    user='dw_chancewiese',\n",
    "    password='Spikeball2020',\n",
    "    host='database-1.czsooswggscz.us-east-2.rds.amazonaws.com',\n",
    "    port='5432'\n",
    ")\n",
    "\n",
    "cursor = conn.cursor()\n",
    "\n",
    "query = \"SELECT * FROM ingest;\"\n",
    "df_ingest = pd.read_sql_query(query, conn)\n",
    "\n",
    "for file in files:\n",
    "    file_path = os.path.join(path, file)\n",
    "    file_lower = file.lower()\n",
    "    \n",
    "    if not file.endswith('.csv'):\n",
    "        continue\n",
    "    \n",
    "    if file_lower in df_ingest['filename'].values:\n",
    "        print(f\"{file_lower} has already been processed.\")\n",
    "        continue\n",
    "        \n",
    "    with open(file_path, 'r') as newfile:\n",
    "        next(newfile)\n",
    "        print(f\"Processing {file_lower}:\")\n",
    "        for line in newfile:\n",
    "            issueslist = []\n",
    "            \n",
    "            line = line.strip()\n",
    "            columns = line.split(',')\n",
    "            \n",
    "            if len(columns) > 5:\n",
    "                issueslist.append(\"Too Many Columns\")\n",
    "            elif len(columns) < 5:\n",
    "                issueslist.append(\"Too Few Columns\")\n",
    "            \n",
    "            name = columns[0]\n",
    "            if len(name) < 1:\n",
    "                issueslist.append(\"Name Too Short\")\n",
    "            elif len(name) > 100:\n",
    "                issueslist.append(\"Name Too Long\")\n",
    "            \n",
    "            breed = columns[1]\n",
    "            if not breed.upper().startswith(('P', 'C')):\n",
    "                issueslist.append(\"Breed Issue\")\n",
    "                \n",
    "            gender = columns[2]\n",
    "            if gender.upper() not in ['M', 'F', 'SF', 'NM']:\n",
    "                issueslist.append(\"Gender Col Issue\")\n",
    "                \n",
    "            try:\n",
    "                weight = float(columns[3])\n",
    "                if weight < 15:\n",
    "                    issueslist.append(\"Weight Too Low\")\n",
    "                elif weight > 35:\n",
    "                    issueslist.append(\"Weight Too High\")\n",
    "            except ValueError:\n",
    "                issueslist.append(\"Weight Non-Numeric\")\n",
    "                \n",
    "            try:\n",
    "                age = float(columns[4])\n",
    "                if age < 1:\n",
    "                    issueslist.append(\"Age Too Low\")\n",
    "                elif age > 10:\n",
    "                    issueslist.append(\"Age Too High\")\n",
    "            except ValueError:\n",
    "                issueslist.append(\"Age Non-Numeric\")\n",
    "                \n",
    "            print(f\"file: {file_lower}, name: {name if name else 'no_name'}, issues: {issueslist}\")"
   ]
  },
  {
   "cell_type": "code",
   "execution_count": 74,
   "id": "4ebc9868-6927-4b29-8b18-d5a2bd949b33",
   "metadata": {
    "tags": []
   },
   "outputs": [],
   "source": [
    "# 4\n",
    "cursor.execute('''\n",
    "CREATE TABLE IF NOT EXISTS corgi_exception (\n",
    "    exceptid SERIAL PRIMARY KEY,\n",
    "    except_record TEXT,\n",
    "    origin_file VARCHAR(100) NOT NULL,\n",
    "    issues TEXT,\n",
    "    except_timestamp TIMESTAMP,\n",
    "    fixed_timestamp TIMESTAMP\n",
    ");\n",
    "''')\n",
    "\n",
    "conn.commit()"
   ]
  },
  {
   "cell_type": "code",
   "execution_count": 93,
   "id": "762778bb-069b-46e4-8376-365d2ce50596",
   "metadata": {
    "tags": []
   },
   "outputs": [
    {
     "name": "stdout",
     "output_type": "stream",
     "text": [
      "102121-7380.csv has already been processed.\n",
      "pdx623.csv has already been processed.\n",
      "102121-5390.csv has already been processed.\n",
      "portlandeventjun22.csv has already been processed.\n",
      "newreg-062822.csv has already been processed.\n",
      "102123-3428.csv has already been processed.\n",
      "102124-9377.csv has already been processed.\n",
      "newcorgis-20220619.csv has already been processed.\n",
      "newcorgis-20220618.csv has already been processed.\n",
      "signupsjune272022.csv has already been processed.\n",
      "102124-3988.csv has already been processed.\n",
      "102119-8469.csv has already been processed.\n",
      "tacoma-062322.csv has already been processed.\n",
      "102122-4015.csv has already been processed.\n",
      "Record for Megawoof had these issues: ['Weight Issue', 'Age Issue']\n",
      "Record for Charles had these issues: ['Gender Issue', 'Weight Issue']\n",
      "Record created for Mabel the Claw\n",
      "Record created for Instant Breakfast\n",
      "Record created for Willow The Dust Storm Corgifriend\n",
      "Record created for Empanada\n",
      "Record created for Leatherface\n",
      "Record created for Corgi Elliot\n",
      "Record created for Tobias\n",
      "Record for Nature Girl Nala had these issues: ['Gender Issue', 'Weight Non-Numeric']\n",
      "Record created for Mountain Man\n",
      "Record created for Loofah\n",
      "Record for Amelia the Woof had these issues: ['Breed Issue', 'Gender Issue']\n",
      "Ingestion complete for 102120-8243.csv.\n"
     ]
    }
   ],
   "source": [
    "# 5\n",
    "for file in files:\n",
    "    file_path = os.path.join(path, file)\n",
    "    file_lower = file.lower()\n",
    "    \n",
    "    if not file.endswith('.csv'):\n",
    "        continue\n",
    "       \n",
    "    if file_lower in df_ingest['filename'].values:\n",
    "        print(f\"{file_lower} has already been processed.\")\n",
    "        continue\n",
    "    \n",
    "    with open(file_path, 'r') as newfile:\n",
    "        next(newfile)\n",
    "        \n",
    "        for line in newfile:\n",
    "            issueslist = []\n",
    "            \n",
    "            line = line.strip()\n",
    "            columns = line.split(',')\n",
    "            \n",
    "            compliant = True\n",
    "            \n",
    "            if len(columns) != 5:\n",
    "                compliant = False\n",
    "                issueslist.append(\"Column Issue\")\n",
    "            else:\n",
    "                name = columns[0].replace(\"'\", \"\")\n",
    "                if len(name) < 1 or len(name) > 100:\n",
    "                    compliant = False\n",
    "                    issueslist.append(\"Name Issue\")\n",
    "                \n",
    "                breed = columns[1].lower()\n",
    "                if breed.startswith('p'):\n",
    "                    breed = 'Pem'\n",
    "                elif breed.startswith('c'):\n",
    "                    breed = 'Cardi'\n",
    "                else:\n",
    "                    compliant = False\n",
    "                    issueslist.append(\"Breed Issue\")\n",
    "                \n",
    "                gender = columns[2].upper()\n",
    "                if gender not in ['M', 'F', 'NM', 'SF']:\n",
    "                    compliant = False\n",
    "                    issueslist.append(\"Gender Issue\")\n",
    "                \n",
    "                try:\n",
    "                    weight = float(columns[3])\n",
    "                    if weight < 15 or weight > 35:\n",
    "                        compliant = False\n",
    "                        issueslist.append(\"Weight Issue\")\n",
    "                    else:\n",
    "                        weight = round(weight)\n",
    "                except ValueError:\n",
    "                    compliant = False\n",
    "                    issueslist.append(\"Weight Non-Numeric\")\n",
    "                \n",
    "                try:\n",
    "                    age = float(columns[4])\n",
    "                    if age < 1 or age > 10:\n",
    "                        compliant = False\n",
    "                        issueslist.append(\"Age Issue\")\n",
    "                    else:\n",
    "                        age = round(age * 2) / 2\n",
    "                except ValueError:\n",
    "                    compliant = False\n",
    "                    issueslist.append(\"Age Non-Numeric\")\n",
    "            \n",
    "            if compliant:\n",
    "                cursor.execute(f'''\n",
    "                    INSERT INTO corgi (corgname, breed, gender, weight, age, fromfile)\n",
    "                    VALUES ('{name}', '{breed}', '{gender}', {weight}, {age}, '{file_lower}');\n",
    "                ''')\n",
    "                conn.commit()\n",
    "                print(f\"Record created for {name}\")\n",
    "            else:\n",
    "                record_string = '|'.join(columns)\n",
    "                issues_string = '|'.join(issueslist)\n",
    "                \n",
    "                cursor.execute(f'''\n",
    "                    INSERT INTO corgi_exception \n",
    "                    (except_record, origin_file, issues, except_timestamp)\n",
    "                    VALUES ('{record_string}', '{file_lower}', '{issues_string}', current_timestamp);\n",
    "                ''')\n",
    "                conn.commit()\n",
    "                print(f\"Record for {columns[0] if columns[0] else 'no_name'} had these issues: {issueslist}\")\n",
    "    \n",
    "    cursor.execute(f'''\n",
    "        INSERT INTO ingest (filename, whendone)\n",
    "        VALUES ('{file_lower}', current_timestamp);\n",
    "    ''')\n",
    "    conn.commit()\n",
    "    print(f\"Ingestion complete for {file_lower}.\")"
   ]
  },
  {
   "cell_type": "code",
   "execution_count": 95,
   "id": "4445117d-b115-478a-b5ba-f10bf167eea4",
   "metadata": {
    "tags": []
   },
   "outputs": [
    {
     "name": "stdout",
     "output_type": "stream",
     "text": [
      "\n",
      "corgi_exception table:\n",
      "                             except_record      origin_file\n",
      "exceptid                                                  \n",
      "37                 Amelia the Woof|||27|3  102120-8243.csv\n",
      "12               Baby Congrats|PWC|M|36|4  102123-3428.csv\n",
      "3         Bailey Barkbark|Cardi|SF|26|2||  102121-7380.csv\n",
      "2                     Bandit|Pem|M|31|4||  102121-7380.csv\n",
      "8                    Bowser|Pem|NM|27|4||  102121-7380.csv\n",
      "13                       |Cardi|SF|26|4.5  102123-3428.csv\n",
      "35                    Charles|Pem||36|2.5  102120-8243.csv\n",
      "33                    Charles|Pem||36|2.5  102120-8243.csv\n",
      "26                Crossbow Jo|Pem|R|5|2.7  102124-3988.csv\n",
      "24         Double-Dragon|Cardi|NM|32|3.5|  102124-9377.csv\n"
     ]
    },
    {
     "name": "stderr",
     "output_type": "stream",
     "text": [
      "/var/folders/96/kzlzzx2556jf68c57bc_gc180000gn/T/ipykernel_17427/1888758769.py:9: UserWarning: pandas only supports SQLAlchemy connectable (engine/connection) or database string URI or sqlite3 DBAPI2 connection. Other DBAPI2 objects are not tested. Please consider using SQLAlchemy.\n",
      "  df_exceptions = pd.read_sql_query(query, conn, index_col='exceptid')\n"
     ]
    }
   ],
   "source": [
    "# 6\n",
    "query = '''\n",
    "SELECT exceptid, except_record, origin_file \n",
    "FROM corgi_exception \n",
    "ORDER BY except_record \n",
    "LIMIT 10;\n",
    "'''\n",
    "\n",
    "df_exceptions = pd.read_sql_query(query, conn, index_col='exceptid')\n",
    "print(\"\\ncorgi_exception table:\\n\", df_exceptions)"
   ]
  },
  {
   "cell_type": "code",
   "execution_count": 117,
   "id": "2a98c0d5-0a49-4c0b-a3d9-08474b488db6",
   "metadata": {
    "tags": []
   },
   "outputs": [
    {
     "name": "stdout",
     "output_type": "stream",
     "text": [
      "\n",
      "corgi table:\n",
      "                    corgname                fromfile\n",
      "corgid                                             \n",
      "43       Amber Waves of Fur  portlandeventjun22.csv\n",
      "96                Baby Bear         102122-4015.csv\n",
      "46             Bag o Donuts  portlandeventjun22.csv\n",
      "59      Betty Doggy Sprinty       newreg-062822.csv\n",
      "74               Briar Rose       tacoma-062322.csv\n",
      "82             Brunchkiller         102123-3428.csv\n",
      "85                Campstove         102123-3428.csv\n",
      "37          CanCan of Beans              pdx623.csv\n",
      "65               Cashew Nut   signupsjune272022.csv\n",
      "73                Cleopupra       tacoma-062322.csv\n"
     ]
    },
    {
     "name": "stderr",
     "output_type": "stream",
     "text": [
      "/var/folders/96/kzlzzx2556jf68c57bc_gc180000gn/T/ipykernel_17427/1168531242.py:12: UserWarning: pandas only supports SQLAlchemy connectable (engine/connection) or database string URI or sqlite3 DBAPI2 connection. Other DBAPI2 objects are not tested. Please consider using SQLAlchemy.\n",
      "  df_corgi = pd.read_sql_query(query, conn, index_col='corgid')\n"
     ]
    }
   ],
   "source": [
    "# 7\n",
    "query = '''\n",
    "SELECT corgid, corgname, fromfile\n",
    "FROM corgi c\n",
    "JOIN ingest i ON c.fromfile = i.filename\n",
    "WHERE EXTRACT(YEAR FROM whendone) = EXTRACT(YEAR FROM CURRENT_DATE)\n",
    "AND EXTRACT(MONTH FROM whendone) = EXTRACT(MONTH FROM CURRENT_DATE)\n",
    "ORDER BY corgname\n",
    "LIMIT 10;\n",
    "'''\n",
    "\n",
    "df_corgi = pd.read_sql_query(query, conn, index_col='corgid')\n",
    "print(\"\\ncorgi table:\\n\", df_corgi)"
   ]
  },
  {
   "cell_type": "code",
   "execution_count": 119,
   "id": "9264a6c2-e273-4ede-9eed-f4fbc341996b",
   "metadata": {
    "tags": []
   },
   "outputs": [],
   "source": [
    "cursor.close()\n",
    "conn.close()"
   ]
  }
 ],
 "metadata": {
  "kernelspec": {
   "display_name": "Python 3 (ipykernel)",
   "language": "python",
   "name": "python3"
  },
  "language_info": {
   "codemirror_mode": {
    "name": "ipython",
    "version": 3
   },
   "file_extension": ".py",
   "mimetype": "text/x-python",
   "name": "python",
   "nbconvert_exporter": "python",
   "pygments_lexer": "ipython3",
   "version": "3.11.5"
  }
 },
 "nbformat": 4,
 "nbformat_minor": 5
}
