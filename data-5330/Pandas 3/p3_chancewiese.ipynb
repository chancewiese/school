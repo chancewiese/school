{
 "cells": [
  {
   "cell_type": "code",
   "execution_count": 1,
   "metadata": {},
   "outputs": [],
   "source": [
    "# 1\n",
    "# Chance Wiese"
   ]
  },
  {
   "cell_type": "code",
   "execution_count": 2,
   "metadata": {},
   "outputs": [
    {
     "name": "stdout",
     "output_type": "stream",
     "text": [
      "Requirement already satisfied: pymssql in /Users/chancewiese/Local Documents/school/data-5330/pymssql_env/lib/python3.10/site-packages (2.3.1)\n",
      "\n",
      "\u001b[1m[\u001b[0m\u001b[34;49mnotice\u001b[0m\u001b[1;39;49m]\u001b[0m\u001b[39;49m A new release of pip is available: \u001b[0m\u001b[31;49m23.0.1\u001b[0m\u001b[39;49m -> \u001b[0m\u001b[32;49m24.2\u001b[0m\n",
      "\u001b[1m[\u001b[0m\u001b[34;49mnotice\u001b[0m\u001b[1;39;49m]\u001b[0m\u001b[39;49m To update, run: \u001b[0m\u001b[32;49m/Users/chancewiese/Local Documents/school/data-5330/pymssql_env/bin/python3 -m pip install --upgrade pip\u001b[0m\n",
      "Note: you may need to restart the kernel to use updated packages.\n"
     ]
    }
   ],
   "source": [
    "pip install pymssql"
   ]
  },
  {
   "cell_type": "code",
   "execution_count": 6,
   "metadata": {},
   "outputs": [
    {
     "ename": "OperationalError",
     "evalue": "(20009, b'DB-Lib error message 20009, severity 9:\\nUnable to connect: Adaptive Server is unavailable or does not exist (stairway.usu.edu)\\nNet-Lib error during Operation timed out (60)\\nDB-Lib error message 20009, severity 9:\\nUnable to connect: Adaptive Server is unavailable or does not exist (stairway.usu.edu)\\nNet-Lib error during Operation timed out (60)\\n')",
     "output_type": "error",
     "traceback": [
      "\u001b[0;31m---------------------------------------------------------------------------\u001b[0m",
      "\u001b[0;31mMSSQLDatabaseException\u001b[0m                    Traceback (most recent call last)",
      "File \u001b[0;32msrc/pymssql/_pymssql.pyx:650\u001b[0m, in \u001b[0;36mpymssql._pymssql.connect\u001b[0;34m()\u001b[0m\n",
      "File \u001b[0;32msrc/pymssql/_mssql.pyx:2158\u001b[0m, in \u001b[0;36mpymssql._mssql.connect\u001b[0;34m()\u001b[0m\n",
      "File \u001b[0;32msrc/pymssql/_mssql.pyx:712\u001b[0m, in \u001b[0;36mpymssql._mssql.MSSQLConnection.__init__\u001b[0;34m()\u001b[0m\n",
      "File \u001b[0;32msrc/pymssql/_mssql.pyx:1884\u001b[0m, in \u001b[0;36mpymssql._mssql.maybe_raise_MSSQLDatabaseException\u001b[0;34m()\u001b[0m\n",
      "File \u001b[0;32msrc/pymssql/_mssql.pyx:1901\u001b[0m, in \u001b[0;36mpymssql._mssql.raise_MSSQLDatabaseException\u001b[0;34m()\u001b[0m\n",
      "\u001b[0;31mMSSQLDatabaseException\u001b[0m: (20009, b'DB-Lib error message 20009, severity 9:\\nUnable to connect: Adaptive Server is unavailable or does not exist (stairway.usu.edu)\\nNet-Lib error during Operation timed out (60)\\nDB-Lib error message 20009, severity 9:\\nUnable to connect: Adaptive Server is unavailable or does not exist (stairway.usu.edu)\\nNet-Lib error during Operation timed out (60)\\n')",
      "\nDuring handling of the above exception, another exception occurred:\n",
      "\u001b[0;31mOperationalError\u001b[0m                          Traceback (most recent call last)",
      "Cell \u001b[0;32mIn[6], line 5\u001b[0m\n\u001b[1;32m      2\u001b[0m \u001b[38;5;28;01mimport\u001b[39;00m \u001b[38;5;21;01mpandas\u001b[39;00m \u001b[38;5;28;01mas\u001b[39;00m \u001b[38;5;21;01mpd\u001b[39;00m\n\u001b[1;32m      3\u001b[0m \u001b[38;5;28;01mimport\u001b[39;00m \u001b[38;5;21;01mpymssql\u001b[39;00m\n\u001b[0;32m----> 5\u001b[0m conn \u001b[38;5;241m=\u001b[39m \u001b[43mpymssql\u001b[49m\u001b[38;5;241;43m.\u001b[39;49m\u001b[43mconnect\u001b[49m\u001b[43m(\u001b[49m\n\u001b[1;32m      6\u001b[0m \u001b[43m     \u001b[49m\u001b[43mhost\u001b[49m\u001b[38;5;241;43m=\u001b[39;49m\u001b[38;5;124;43m'\u001b[39;49m\u001b[38;5;124;43mstairway.usu.edu\u001b[39;49m\u001b[38;5;124;43m'\u001b[39;49m\u001b[43m,\u001b[49m\u001b[43m \u001b[49m\u001b[38;5;66;43;03m# Server name goes in quotes.\u001b[39;49;00m\n\u001b[1;32m      7\u001b[0m \u001b[43m     \u001b[49m\u001b[43muser\u001b[49m\u001b[38;5;241;43m=\u001b[39;49m\u001b[38;5;124;43m'\u001b[39;49m\u001b[38;5;124;43mdunn2100\u001b[39;49m\u001b[38;5;124;43m'\u001b[39;49m\u001b[43m,\u001b[49m\u001b[43m \u001b[49m\u001b[38;5;66;43;03m# Username goes in quotes.\u001b[39;49;00m\n\u001b[1;32m      8\u001b[0m \u001b[43m     \u001b[49m\u001b[43mpassword\u001b[49m\u001b[38;5;241;43m=\u001b[39;49m\u001b[38;5;124;43m'\u001b[39;49m\u001b[38;5;124;43mdatabases4ever\u001b[39;49m\u001b[38;5;124;43m'\u001b[39;49m\u001b[43m,\u001b[49m\u001b[43m \u001b[49m\u001b[38;5;66;43;03m# Password goes in quotes\u001b[39;49;00m\n\u001b[1;32m      9\u001b[0m \u001b[43m     \u001b[49m\u001b[43mdatabase\u001b[49m\u001b[38;5;241;43m=\u001b[39;49m\u001b[38;5;124;43m'\u001b[39;49m\u001b[38;5;124;43moverland\u001b[39;49m\u001b[38;5;124;43m'\u001b[39;49m\u001b[43m)\u001b[49m \u001b[38;5;66;03m# Database to use goes in quotes\u001b[39;00m\n\u001b[1;32m     11\u001b[0m query \u001b[38;5;241m=\u001b[39m \u001b[38;5;124m\"\"\"\u001b[39m\n\u001b[1;32m     12\u001b[0m \u001b[38;5;124mWith MemberCount AS (\u001b[39m\n\u001b[1;32m     13\u001b[0m \u001b[38;5;124m    SELECT HHID, COUNT(*) AS Members\u001b[39m\n\u001b[0;32m   (...)\u001b[0m\n\u001b[1;32m     42\u001b[0m \u001b[38;5;124mORDER BY h.HHID;\u001b[39m\n\u001b[1;32m     43\u001b[0m \u001b[38;5;124m\"\"\"\u001b[39m\n\u001b[1;32m     45\u001b[0m df \u001b[38;5;241m=\u001b[39m pd\u001b[38;5;241m.\u001b[39mread_sql(query, conn, index_col\u001b[38;5;241m=\u001b[39m\u001b[38;5;124m'\u001b[39m\u001b[38;5;124mHHID\u001b[39m\u001b[38;5;124m'\u001b[39m)\n",
      "File \u001b[0;32msrc/pymssql/_pymssql.pyx:659\u001b[0m, in \u001b[0;36mpymssql._pymssql.connect\u001b[0;34m()\u001b[0m\n",
      "\u001b[0;31mOperationalError\u001b[0m: (20009, b'DB-Lib error message 20009, severity 9:\\nUnable to connect: Adaptive Server is unavailable or does not exist (stairway.usu.edu)\\nNet-Lib error during Operation timed out (60)\\nDB-Lib error message 20009, severity 9:\\nUnable to connect: Adaptive Server is unavailable or does not exist (stairway.usu.edu)\\nNet-Lib error during Operation timed out (60)\\n')"
     ]
    }
   ],
   "source": [
    "# 2\n",
    "import pandas as pd\n",
    "import pymssql\n",
    "\n",
    "conn = pymssql.connect(\n",
    "     host='stairway.usu.edu', # Server name goes in quotes.\n",
    "     user='dunn2100', # Username goes in quotes.\n",
    "     password='databases4ever', # Password goes in quotes\n",
    "     database='overland') # Database to use goes in quotes\n",
    "\n",
    "query = \"\"\"\n",
    "With MemberCount AS (\n",
    "    SELECT HHID, COUNT(*) AS Members\n",
    "    FROM Guest\n",
    "    GROUP BY HHID\n",
    "),\n",
    "SeasonPassCount AS (\n",
    "    SELECT HHID, COUNT(*) AS SPCount\n",
    "    FROM Guest\n",
    "    WHERE SeasonPass = 'y'\n",
    "    GROUP BY HHID\n",
    "),\n",
    "Under18Count AS (\n",
    "    SELECT HHID, COUNT(*) AS U18Count\n",
    "    FROM Guest\n",
    "    WHERE Age < 18\n",
    "    GROUP BY HHID\n",
    "),\n",
    "VisitCount AS (\n",
    "    SELECT HHID, COUNT(DISTINCT VisID) AS VisitCt\n",
    "    FROM Guest g\n",
    "    JOIN Visit v ON g.GuestID = v.CustID\n",
    "    GROUP BY g.HHID\n",
    ")\n",
    "SELECT h.HHID, Region, HHI AS Income, Lname AS Lname, m.Members, sp.SPCount, u.U18Count, v.VisitCt\n",
    "FROM Household h\n",
    "JOIN Guest g ON h.HHID = g.HHID\n",
    "JOIN MemberCount m ON h.HHID = m.HHID\n",
    "LEFT JOIN SeasonPassCount sp ON h.HHID = sp.HHID\n",
    "LEFT JOIN Under18Count u ON h.HHID = u.HHID\n",
    "LEFT JOIN VisitCount v ON h.HHID = v.HHID\n",
    "GROUP BY h.HHID, Region, HHI, Lname, m.Members, sp.SPCount, u.U18Count, v.VisitCt\n",
    "ORDER BY h.HHID;\n",
    "\"\"\"\n",
    "\n",
    "df = pd.read_sql(query, conn, index_col='HHID')\n",
    "print(df)"
   ]
  },
  {
   "cell_type": "code",
   "execution_count": null,
   "metadata": {},
   "outputs": [],
   "source": [
    "# 3\n",
    "import numpy as np\n",
    "df['SPCount'] = df['SPCount'].replace(np.nan, 0)\n",
    "df['U18Count'] = df['U18Count'].replace(np.nan, 0)\n",
    "df['VisitCt'] = df['VisitCt'].replace(np.nan, 0)\n",
    "print(df)"
   ]
  },
  {
   "cell_type": "code",
   "execution_count": null,
   "metadata": {},
   "outputs": [],
   "source": [
    "# 4\n",
    "df['VisPP'] = df['VisitCt'] / df['Members']\n",
    "print(df[['Lname', 'Members', 'VisitCt', 'VisPP']])"
   ]
  },
  {
   "cell_type": "code",
   "execution_count": null,
   "metadata": {},
   "outputs": [],
   "source": [
    "# 5\n",
    "df['IsLocal'] = np.where(\n",
    "    df['Region'] == 'Central PA',\n",
    "    1, 0)\n",
    "print(df[['Lname', 'Region', 'IsLocal']])"
   ]
  },
  {
   "cell_type": "code",
   "execution_count": null,
   "metadata": {},
   "outputs": [],
   "source": [
    "# 6\n",
    "dflocal = df[df['IsLocal'] == 1]\n",
    "print(dflocal)"
   ]
  },
  {
   "cell_type": "code",
   "execution_count": null,
   "metadata": {},
   "outputs": [],
   "source": [
    "# 7\n",
    "dflocal.drop(columns=['IsLocal', 'Region'], inplace=True)\n",
    "print(dflocal)"
   ]
  },
  {
   "cell_type": "code",
   "execution_count": null,
   "metadata": {},
   "outputs": [],
   "source": [
    "# 8\n",
    "dflocal.dropna(inplace=True)\n",
    "\n",
    "conditions = [\n",
    "    dflocal['Income'] < 50000,\n",
    "    dflocal['Income'] < 100000,\n",
    "    dflocal['Income'] < 150000,\n",
    "    True\n",
    "]\n",
    "values = ['Under $50K', '$50-100K', '$100-150K', 'Over $150K']\n",
    "dflocal['IncomeCat'] = np.select(conditions, values)\n",
    "print(dflocal[['Lname', 'Income', 'IncomeCat', 'VisPP']])"
   ]
  },
  {
   "cell_type": "code",
   "execution_count": null,
   "metadata": {},
   "outputs": [],
   "source": [
    "# 9\n",
    "analysis = dflocal[['VisPP', 'IncomeCat']].groupby('IncomeCat').agg(['mean', 'median', 'count'])\n",
    "print(analysis, \n",
    "\"\"\"\\n\n",
    "Yes, there is a relationship between income and number of visits per person among local customers. \n",
    "The analysis shows that average VisPP consistently increases with income, from 3.89 for 'Under $50K' to 7.53 for 'Over $150K'.\n",
    "This shows a positive correlation between income and visit frequency.\n",
    "\"\"\")"
   ]
  },
  {
   "cell_type": "code",
   "execution_count": null,
   "metadata": {},
   "outputs": [],
   "source": [
    "# 10\n",
    "df_corr = dflocal[['Income', 'Members', 'SPCount', 'U18Count', 'VisPP']].corr()\n",
    "print(df_corr['VisPP'],\n",
    "\"\"\"\\n\n",
    "The variable with the strongest positive relationship to visits per person (VisPP) is Income (0.286).\n",
    "The variable with the weakest relationship is Members (-0.118).\n",
    "This shows that higher income is associated with more visits, while number of members has very little impact on visit frequency.\n",
    "\"\"\"\n",
    ")"
   ]
  }
 ],
 "metadata": {
  "kernelspec": {
   "display_name": "Python 3.10 (pymssql)",
   "language": "python",
   "name": "pymssql_kernel"
  },
  "language_info": {
   "codemirror_mode": {
    "name": "ipython",
    "version": 3
   },
   "file_extension": ".py",
   "mimetype": "text/x-python",
   "name": "python",
   "nbconvert_exporter": "python",
   "pygments_lexer": "ipython3",
   "version": "3.10.13"
  }
 },
 "nbformat": 4,
 "nbformat_minor": 4
}
