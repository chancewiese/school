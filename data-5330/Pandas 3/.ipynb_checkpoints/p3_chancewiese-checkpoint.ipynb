{
 "cells": [
  {
   "cell_type": "code",
   "execution_count": 2,
   "metadata": {},
   "outputs": [],
   "source": [
    "# 1\n",
    "# Chance Wiese"
   ]
  },
  {
   "cell_type": "code",
   "execution_count": 3,
   "metadata": {},
   "outputs": [
    {
     "name": "stdout",
     "output_type": "stream",
     "text": [
      "Requirement already satisfied: pymssql in c:\\users\\chanc\\anaconda3\\lib\\site-packages (2.3.1)\n",
      "Note: you may need to restart the kernel to use updated packages.\n"
     ]
    }
   ],
   "source": [
    "pip install pymssql"
   ]
  },
  {
   "cell_type": "code",
   "execution_count": 4,
   "metadata": {},
   "outputs": [
    {
     "name": "stdout",
     "output_type": "stream",
     "text": [
      "          Region  Income        Lname  Members  SPCount  U18Count  VisitCt\n",
      "HHID                                                                      \n",
      "1     Western PA  153000       Willis        2      NaN       1.0     12.0\n",
      "2     Western PA  129000      Simpson        3      NaN       2.0      6.0\n",
      "3          Other   68000  Sonic-Smith        1      NaN       NaN      6.0\n",
      "4     Central PA   98000      Elliott        1      NaN       NaN      3.0\n",
      "5     Central PA   52000        Owens        1      1.0       NaN      6.0\n",
      "...          ...     ...          ...      ...      ...       ...      ...\n",
      "7151  Central PA   36000     Mitchell        1      NaN       NaN      2.0\n",
      "7152  Western PA   85000     Mitchell        1      NaN       NaN      6.0\n",
      "7153     DC Area   72000        Green        1      NaN       NaN      5.0\n",
      "7154  Central PA   48000    Schroeder        1      NaN       NaN      3.0\n",
      "7155  Western PA  111000         Carr        1      NaN       1.0      3.0\n",
      "\n",
      "[7155 rows x 7 columns]\n"
     ]
    },
    {
     "name": "stderr",
     "output_type": "stream",
     "text": [
      "C:\\Users\\Chanc\\AppData\\Local\\Temp\\ipykernel_12996\\4280545926.py:46: UserWarning: pandas only supports SQLAlchemy connectable (engine/connection) or database string URI or sqlite3 DBAPI2 connection. Other DBAPI2 objects are not tested. Please consider using SQLAlchemy.\n",
      "  df = pd.read_sql(query, conn, index_col='HHID')\n"
     ]
    }
   ],
   "source": [
    "# 2\n",
    "import pandas as pd\n",
    "import pymssql\n",
    "\n",
    "conn = pymssql.connect(\n",
    "     host='stairway.usu.edu', # Server name goes in quotes.\n",
    "     user='dunn2100', # Username goes in quotes.\n",
    "     password='databases4ever', # Password goes in quotes\n",
    "     database='overland') # Database to use goes in quotes\n",
    "\n",
    "query = \"\"\"\n",
    "With MemberCount AS (\n",
    "    SELECT HHID, COUNT(*) AS Members\n",
    "    FROM Guest\n",
    "    GROUP BY HHID\n",
    "),\n",
    "SeasonPassCount AS (\n",
    "    SELECT HHID, COUNT(*) AS SPCount\n",
    "    FROM Guest\n",
    "    WHERE SeasonPass = 'y'\n",
    "    GROUP BY HHID\n",
    "),\n",
    "Under18Count AS (\n",
    "    SELECT HHID, COUNT(*) AS U18Count\n",
    "    FROM Guest\n",
    "    WHERE Age < 18\n",
    "    GROUP BY HHID\n",
    "),\n",
    "VisitCount AS (\n",
    "    SELECT HHID, COUNT(DISTINCT VisID) AS VisitCt\n",
    "    FROM Guest g\n",
    "    JOIN Visit v ON g.GuestID = v.CustID\n",
    "    GROUP BY g.HHID\n",
    ")\n",
    "SELECT h.HHID, Region, HHI AS Income, Lname AS Lname, m.Members, sp.SPCount, u.U18Count, v.VisitCt\n",
    "FROM Household h\n",
    "JOIN Guest g ON h.HHID = g.HHID\n",
    "JOIN MemberCount m ON h.HHID = m.HHID\n",
    "LEFT JOIN SeasonPassCount sp ON h.HHID = sp.HHID\n",
    "LEFT JOIN Under18Count u ON h.HHID = u.HHID\n",
    "LEFT JOIN VisitCount v ON h.HHID = v.HHID\n",
    "GROUP BY h.HHID, Region, HHI, Lname, m.Members, sp.SPCount, u.U18Count, v.VisitCt\n",
    "ORDER BY h.HHID;\n",
    "\"\"\"\n",
    "\n",
    "df = pd.read_sql(query, conn, index_col='HHID')\n",
    "print(df)"
   ]
  },
  {
   "cell_type": "code",
   "execution_count": 5,
   "metadata": {},
   "outputs": [
    {
     "name": "stdout",
     "output_type": "stream",
     "text": [
      "          Region  Income        Lname  Members  SPCount  U18Count  VisitCt\n",
      "HHID                                                                      \n",
      "1     Western PA  153000       Willis        2      0.0       1.0     12.0\n",
      "2     Western PA  129000      Simpson        3      0.0       2.0      6.0\n",
      "3          Other   68000  Sonic-Smith        1      0.0       0.0      6.0\n",
      "4     Central PA   98000      Elliott        1      0.0       0.0      3.0\n",
      "5     Central PA   52000        Owens        1      1.0       0.0      6.0\n",
      "...          ...     ...          ...      ...      ...       ...      ...\n",
      "7151  Central PA   36000     Mitchell        1      0.0       0.0      2.0\n",
      "7152  Western PA   85000     Mitchell        1      0.0       0.0      6.0\n",
      "7153     DC Area   72000        Green        1      0.0       0.0      5.0\n",
      "7154  Central PA   48000    Schroeder        1      0.0       0.0      3.0\n",
      "7155  Western PA  111000         Carr        1      0.0       1.0      3.0\n",
      "\n",
      "[7155 rows x 7 columns]\n"
     ]
    }
   ],
   "source": [
    "# 3\n",
    "import numpy as np\n",
    "df['SPCount'] = df['SPCount'].replace(np.nan, 0)\n",
    "df['U18Count'] = df['U18Count'].replace(np.nan, 0)\n",
    "df['VisitCt'] = df['VisitCt'].replace(np.nan, 0)\n",
    "print(df)"
   ]
  },
  {
   "cell_type": "code",
   "execution_count": 6,
   "metadata": {},
   "outputs": [
    {
     "name": "stdout",
     "output_type": "stream",
     "text": [
      "            Lname  Members  VisitCt  VisPP\n",
      "HHID                                      \n",
      "1          Willis        2     12.0    6.0\n",
      "2         Simpson        3      6.0    2.0\n",
      "3     Sonic-Smith        1      6.0    6.0\n",
      "4         Elliott        1      3.0    3.0\n",
      "5           Owens        1      6.0    6.0\n",
      "...           ...      ...      ...    ...\n",
      "7151     Mitchell        1      2.0    2.0\n",
      "7152     Mitchell        1      6.0    6.0\n",
      "7153        Green        1      5.0    5.0\n",
      "7154    Schroeder        1      3.0    3.0\n",
      "7155         Carr        1      3.0    3.0\n",
      "\n",
      "[7155 rows x 4 columns]\n"
     ]
    }
   ],
   "source": [
    "# 4\n",
    "df['VisPP'] = df['VisitCt'] / df['Members']\n",
    "print(df[['Lname', 'Members', 'VisitCt', 'VisPP']])"
   ]
  },
  {
   "cell_type": "code",
   "execution_count": 7,
   "metadata": {},
   "outputs": [
    {
     "name": "stdout",
     "output_type": "stream",
     "text": [
      "            Lname      Region  IsLocal\n",
      "HHID                                  \n",
      "1          Willis  Western PA        0\n",
      "2         Simpson  Western PA        0\n",
      "3     Sonic-Smith       Other        0\n",
      "4         Elliott  Central PA        1\n",
      "5           Owens  Central PA        1\n",
      "...           ...         ...      ...\n",
      "7151     Mitchell  Central PA        1\n",
      "7152     Mitchell  Western PA        0\n",
      "7153        Green     DC Area        0\n",
      "7154    Schroeder  Central PA        1\n",
      "7155         Carr  Western PA        0\n",
      "\n",
      "[7155 rows x 3 columns]\n"
     ]
    }
   ],
   "source": [
    "# 5\n",
    "df['IsLocal'] = np.where(\n",
    "    df['Region'] == 'Central PA',\n",
    "    1, 0)\n",
    "print(df[['Lname', 'Region', 'IsLocal']])"
   ]
  },
  {
   "cell_type": "code",
   "execution_count": 8,
   "metadata": {},
   "outputs": [
    {
     "name": "stdout",
     "output_type": "stream",
     "text": [
      "          Region  Income      Lname  Members  SPCount  U18Count  VisitCt  \\\n",
      "HHID                                                                       \n",
      "4     Central PA   98000    Elliott        1      0.0       0.0      3.0   \n",
      "5     Central PA   52000      Owens        1      1.0       0.0      6.0   \n",
      "6     Central PA  159000  Underwood        2      2.0       1.0     18.0   \n",
      "7     Central PA  138000       Wise        1      0.0       1.0      5.0   \n",
      "8     Central PA   78000      Tyler        6      0.0       4.0     22.0   \n",
      "...          ...     ...        ...      ...      ...       ...      ...   \n",
      "7143  Central PA   80000     Molina        1      0.0       0.0      9.0   \n",
      "7145  Central PA  134000      Scott        5      0.0       4.0     33.0   \n",
      "7149  Central PA  139000     Watson        2      0.0       0.0     71.0   \n",
      "7151  Central PA   36000   Mitchell        1      0.0       0.0      2.0   \n",
      "7154  Central PA   48000  Schroeder        1      0.0       0.0      3.0   \n",
      "\n",
      "          VisPP  IsLocal  \n",
      "HHID                      \n",
      "4      3.000000        1  \n",
      "5      6.000000        1  \n",
      "6      9.000000        1  \n",
      "7      5.000000        1  \n",
      "8      3.666667        1  \n",
      "...         ...      ...  \n",
      "7143   9.000000        1  \n",
      "7145   6.600000        1  \n",
      "7149  35.500000        1  \n",
      "7151   2.000000        1  \n",
      "7154   3.000000        1  \n",
      "\n",
      "[2877 rows x 9 columns]\n"
     ]
    }
   ],
   "source": [
    "# 6\n",
    "dflocal = df[df['IsLocal'] == 1]\n",
    "print(dflocal)"
   ]
  },
  {
   "cell_type": "code",
   "execution_count": 9,
   "metadata": {},
   "outputs": [
    {
     "name": "stdout",
     "output_type": "stream",
     "text": [
      "      Income      Lname  Members  SPCount  U18Count  VisitCt      VisPP\n",
      "HHID                                                                   \n",
      "4      98000    Elliott        1      0.0       0.0      3.0   3.000000\n",
      "5      52000      Owens        1      1.0       0.0      6.0   6.000000\n",
      "6     159000  Underwood        2      2.0       1.0     18.0   9.000000\n",
      "7     138000       Wise        1      0.0       1.0      5.0   5.000000\n",
      "8      78000      Tyler        6      0.0       4.0     22.0   3.666667\n",
      "...      ...        ...      ...      ...       ...      ...        ...\n",
      "7143   80000     Molina        1      0.0       0.0      9.0   9.000000\n",
      "7145  134000      Scott        5      0.0       4.0     33.0   6.600000\n",
      "7149  139000     Watson        2      0.0       0.0     71.0  35.500000\n",
      "7151   36000   Mitchell        1      0.0       0.0      2.0   2.000000\n",
      "7154   48000  Schroeder        1      0.0       0.0      3.0   3.000000\n",
      "\n",
      "[2877 rows x 7 columns]\n"
     ]
    },
    {
     "name": "stderr",
     "output_type": "stream",
     "text": [
      "C:\\Users\\Chanc\\AppData\\Local\\Temp\\ipykernel_12996\\3600868607.py:2: SettingWithCopyWarning: \n",
      "A value is trying to be set on a copy of a slice from a DataFrame\n",
      "\n",
      "See the caveats in the documentation: https://pandas.pydata.org/pandas-docs/stable/user_guide/indexing.html#returning-a-view-versus-a-copy\n",
      "  dflocal.drop(columns=['IsLocal', 'Region'], inplace=True)\n"
     ]
    }
   ],
   "source": [
    "# 7\n",
    "dflocal.drop(columns=['IsLocal', 'Region'], inplace=True)\n",
    "print(dflocal)"
   ]
  },
  {
   "cell_type": "code",
   "execution_count": 10,
   "metadata": {},
   "outputs": [
    {
     "name": "stdout",
     "output_type": "stream",
     "text": [
      "          Lname  Income   IncomeCat      VisPP\n",
      "HHID                                          \n",
      "4       Elliott   98000    $50-100K   3.000000\n",
      "5         Owens   52000    $50-100K   6.000000\n",
      "6     Underwood  159000  Over $150K   9.000000\n",
      "7          Wise  138000   $100-150K   5.000000\n",
      "8         Tyler   78000    $50-100K   3.666667\n",
      "...         ...     ...         ...        ...\n",
      "7143     Molina   80000    $50-100K   9.000000\n",
      "7145      Scott  134000   $100-150K   6.600000\n",
      "7149     Watson  139000   $100-150K  35.500000\n",
      "7151   Mitchell   36000  Under $50K   2.000000\n",
      "7154  Schroeder   48000  Under $50K   3.000000\n",
      "\n",
      "[2877 rows x 4 columns]\n"
     ]
    },
    {
     "name": "stderr",
     "output_type": "stream",
     "text": [
      "C:\\Users\\Chanc\\AppData\\Local\\Temp\\ipykernel_12996\\4115604726.py:2: SettingWithCopyWarning: \n",
      "A value is trying to be set on a copy of a slice from a DataFrame\n",
      "\n",
      "See the caveats in the documentation: https://pandas.pydata.org/pandas-docs/stable/user_guide/indexing.html#returning-a-view-versus-a-copy\n",
      "  dflocal.dropna(inplace=True)\n",
      "C:\\Users\\Chanc\\AppData\\Local\\Temp\\ipykernel_12996\\4115604726.py:11: SettingWithCopyWarning: \n",
      "A value is trying to be set on a copy of a slice from a DataFrame.\n",
      "Try using .loc[row_indexer,col_indexer] = value instead\n",
      "\n",
      "See the caveats in the documentation: https://pandas.pydata.org/pandas-docs/stable/user_guide/indexing.html#returning-a-view-versus-a-copy\n",
      "  dflocal['IncomeCat'] = np.select(conditions, values)\n"
     ]
    }
   ],
   "source": [
    "# 8\n",
    "dflocal.dropna(inplace=True)\n",
    "\n",
    "conditions = [\n",
    "    dflocal['Income'] < 50000,\n",
    "    dflocal['Income'] < 100000,\n",
    "    dflocal['Income'] < 150000,\n",
    "    True\n",
    "]\n",
    "values = ['Under $50K', '$50-100K', '$100-150K', 'Over $150K']\n",
    "dflocal['IncomeCat'] = np.select(conditions, values)\n",
    "print(dflocal[['Lname', 'Income', 'IncomeCat', 'VisPP']])"
   ]
  },
  {
   "cell_type": "code",
   "execution_count": 50,
   "metadata": {},
   "outputs": [
    {
     "name": "stdout",
     "output_type": "stream",
     "text": [
      "               VisPP                \n",
      "                mean    median count\n",
      "IncomeCat                           \n",
      "$100-150K   6.030133  5.333333  1122\n",
      "$50-100K    4.806644  4.000000  1250\n",
      "Over $150K  7.532885  7.000000   446\n",
      "Under $50K  3.891525  4.000000    59 \n",
      "\n",
      "Yes, there is a relationship between income and number of visits per person among local customers. \n",
      "The analysis shows that average VisPP consistently increases with income, from 3.89 for 'Under $50K' to 7.53 for 'Over $150K'.\n",
      "This shows a positive correlation between income and visit frequency.\n",
      "\n"
     ]
    }
   ],
   "source": [
    "# 9\n",
    "analysis = dflocal[['VisPP', 'IncomeCat']].groupby('IncomeCat').agg(['mean', 'median', 'count'])\n",
    "print(analysis, \n",
    "\"\"\"\\n\n",
    "Yes, there is a relationship between income and number of visits per person among local customers. \n",
    "The analysis shows that average VisPP consistently increases with income, from 3.89 for 'Under $50K' to 7.53 for 'Over $150K'.\n",
    "This shows a positive correlation between income and visit frequency.\n",
    "\"\"\")"
   ]
  },
  {
   "cell_type": "code",
   "execution_count": 76,
   "metadata": {},
   "outputs": [
    {
     "name": "stdout",
     "output_type": "stream",
     "text": [
      "Income      0.285967\n",
      "Members    -0.118143\n",
      "SPCount     0.233857\n",
      "U18Count   -0.119280\n",
      "VisPP       1.000000\n",
      "Name: VisPP, dtype: float64 \n",
      "\n",
      "The variable with the strongest positive relationship to visits per person (VisPP) is Income (0.286).\n",
      "The variable with the weakest relationship is Members (-0.118).\n",
      "This shows that higher income is associated with more visits, while number of members has very little impact on visit frequency.\n",
      "\n"
     ]
    }
   ],
   "source": [
    "# 10\n",
    "df_corr = dflocal[['Income', 'Members', 'SPCount', 'U18Count', 'VisPP']].corr()\n",
    "print(df_corr['VisPP'],\n",
    "\"\"\"\\n\n",
    "The variable with the strongest positive relationship to visits per person (VisPP) is Income (0.286).\n",
    "The variable with the weakest relationship is Members (-0.118).\n",
    "This shows that higher income is associated with more visits, while number of members has very little impact on visit frequency.\n",
    "\"\"\"\n",
    ")"
   ]
  }
 ],
 "metadata": {
  "kernelspec": {
   "display_name": "Python 3 (ipykernel)",
   "language": "python",
   "name": "python3"
  },
  "language_info": {
   "codemirror_mode": {
    "name": "ipython",
    "version": 3
   },
   "file_extension": ".py",
   "mimetype": "text/x-python",
   "name": "python",
   "nbconvert_exporter": "python",
   "pygments_lexer": "ipython3",
   "version": "3.10.13"
  }
 },
 "nbformat": 4,
 "nbformat_minor": 4
}
