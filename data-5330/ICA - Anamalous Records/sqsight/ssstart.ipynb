{
 "cells": [
  {
   "cell_type": "code",
   "execution_count": 3,
   "id": "e8590f7d",
   "metadata": {
    "tags": []
   },
   "outputs": [],
   "source": [
    "import pandas as pd\n",
    "import psycopg2\n",
    "\n",
    "#establishing the connection\n",
    "conn = psycopg2.connect(\n",
    "    database='sqsight',\n",
    "    user='dw_chancewiese',\n",
    "    password='Spikeball2020',\n",
    "    host='database-1.czsooswggscz.us-east-2.rds.amazonaws.com',\n",
    "    port='5432'\n",
    ")\n",
    "#Creating a cursor object using the cursor() method\n",
    "cursor = conn.cursor()\n",
    "\n",
    "query = '''CREATE TABLE IF NOT EXISTS ingest (\n",
    "           ingestfile VARCHAR(30) PRIMARY KEY, \n",
    "           istamp TIMESTAMP\n",
    "        );'''\n",
    "\n",
    "cursor.execute(query)\n",
    "conn.commit()\n",
    "\n",
    "query = '''CREATE TABLE IF NOT EXISTS issue (\n",
    "            issueid CHAR(2) PRIMARY KEY,\n",
    "            iname VARCHAR(50) NOT NULL\n",
    "        );'''\n",
    "\n",
    "cursor.execute(query)\n",
    "conn.commit()\n",
    "\n",
    "query = '''CREATE TABLE IF NOT EXISTS quarantine (\n",
    "            quarid SERIAL PRIMARY KEY,\n",
    "            ingestid VARCHAR(30),\n",
    "            record TEXT NOT NULL\n",
    "        );'''\n",
    "\n",
    "cursor.execute(query)\n",
    "conn.commit()\n",
    "\n",
    "query = '''CREATE TABLE IF NOT EXISTS quarissue (\n",
    "            qiid SERIAL PRIMARY KEY,\n",
    "            quarid INT NOT NULL,\n",
    "            issueid CHAR(2) NOT NULL\n",
    "        );'''\n",
    "\n",
    "cursor.execute(query)\n",
    "conn.commit()\n",
    "\n",
    "query = '''CREATE TABLE IF NOT EXISTS sighting (\n",
    "            sightingid SERIAL PRIMARY KEY,\n",
    "            squoutid INT NOT NULL,\n",
    "            staproid CHAR(2) NOT NULL,\n",
    "            quarid INT,\n",
    "            ingestid VARCHAR(30),\n",
    "            sightdate DATE,\n",
    "            evidence VARCHAR(30),\n",
    "            footsize SMALLINT\n",
    "        );'''\n",
    "\n",
    "cursor.execute(query)\n",
    "conn.commit()\n",
    "\n",
    "query = '''CREATE TABLE IF NOT EXISTS squout (\n",
    "            squoutid SERIAL PRIMARY KEY,\n",
    "            fname VARCHAR(50) NOT NULL,\n",
    "            lname VARCHAR(50) NOT NULL\n",
    "        );'''\n",
    "\n",
    "cursor.execute(query)\n",
    "conn.commit()\n",
    "\n",
    "query = '''CREATE TABLE IF NOT EXISTS stapro (\n",
    "            staproid CHAR(2) PRIMARY KEY,\n",
    "            spname VARCHAR(50) NOT NULL,\n",
    "            timezone VARCHAR(20)\n",
    "        );'''\n",
    "\n",
    "cursor.execute(query)\n",
    "conn.commit()"
   ]
  },
  {
   "cell_type": "code",
   "execution_count": 5,
   "id": "62a3f191",
   "metadata": {
    "tags": []
   },
   "outputs": [],
   "source": [
    "import pandas as pd\n",
    "df = pd.read_csv('ingest.csv')\n",
    "\n",
    "for x in df.index:\n",
    "    query = '''INSERT INTO ingest (ingestfile, istamp)\n",
    "            VALUES ('%s', '%s')''' % (df['ingestfile'].loc[x], df['istamp'].loc[x])\n",
    "    cursor.execute(query)\n",
    "    conn.commit()\n"
   ]
  },
  {
   "cell_type": "code",
   "execution_count": 7,
   "id": "ad3fd3a5",
   "metadata": {
    "tags": []
   },
   "outputs": [],
   "source": [
    "df = pd.read_csv('issue.csv')\n",
    "\n",
    "for x in df.index:\n",
    "    query = '''INSERT INTO issue (issueid, iname)\n",
    "    VALUES ('%s', '%s')''' % (df['issueid'].loc[x], df['iname'].loc[x])\n",
    "    cursor.execute(query)\n",
    "    conn.commit()"
   ]
  },
  {
   "cell_type": "code",
   "execution_count": 9,
   "id": "c556b675",
   "metadata": {
    "tags": []
   },
   "outputs": [],
   "source": [
    "df = pd.read_csv('sighting.csv')\n",
    "\n",
    "for x in df.index:\n",
    "    query = '''INSERT INTO sighting (squoutid, staproid, ingestid, sightdate, evidence, footsize)\n",
    "    VALUES (%s, '%s', '%s', '%s', '%s', %s)''' % (df['squoutid'].loc[x], df['staproid'].loc[x],\n",
    "                                                 df['ingestid'].loc[x], df['sightdate'].loc[x],\n",
    "                                                 df['evidence'].loc[x], df['footsize'].loc[x])\n",
    "    cursor.execute(query)\n",
    "    conn.commit()"
   ]
  },
  {
   "cell_type": "code",
   "execution_count": 10,
   "id": "db8ba37b",
   "metadata": {
    "tags": []
   },
   "outputs": [],
   "source": [
    "df = pd.read_csv('squout.csv')\n",
    "\n",
    "for x in df.index:\n",
    "    query = '''INSERT INTO squout (fname, lname)\n",
    "    VALUES ('%s', '%s')''' % (df['fname'].loc[x], df['lname'].loc[x])\n",
    "    \n",
    "    cursor.execute(query)\n",
    "    conn.commit()"
   ]
  },
  {
   "cell_type": "code",
   "execution_count": 13,
   "id": "ac304204",
   "metadata": {
    "tags": []
   },
   "outputs": [],
   "source": [
    "df = pd.read_csv('stapro.csv')\n",
    "\n",
    "for x in df.index:\n",
    "    query = '''INSERT INTO stapro (staproid, spname, timezone)\n",
    "    VALUES ('%s', '%s', '%s')''' % (df['staproid'].loc[x], df['name'].loc[x],\n",
    "                                   df['timezone'].loc[x])\n",
    "    \n",
    "    cursor.execute(query)\n",
    "    conn.commit()"
   ]
  },
  {
   "cell_type": "code",
   "execution_count": 15,
   "id": "2e682810",
   "metadata": {
    "tags": []
   },
   "outputs": [
    {
     "name": "stdout",
     "output_type": "stream",
     "text": [
      "            squoutid staproid quarid       ingestid   sightdate evidence  \\\n",
      "sightingid                                                                 \n",
      "1                 11       UT   None   someweek.csv  2023-06-10   Visual   \n",
      "2                 19       WY   None   someweek.csv  2023-06-11   Visual   \n",
      "3                  2       AB   None   someweek.csv  2023-06-11  Audible   \n",
      "4                  2       OR   None   someweek.csv  2023-06-11    Photo   \n",
      "5                 18       ID   None   someweek.csv  2023-06-12   Visual   \n",
      "6                 24       AK   None   someweek.csv  2023-06-14   Visual   \n",
      "7                 21       CA   None   someweek.csv  2023-06-14    Photo   \n",
      "8                 11       AB   None   someweek.csv  2023-06-14  Audible   \n",
      "9                 12       BC   None  otherweek.csv  2023-06-16    Video   \n",
      "10                11       AB   None  otherweek.csv  2023-06-16  Audible   \n",
      "\n",
      "            footsize staproid            spname  timezone  squoutid     fname  \\\n",
      "sightingid                                                                      \n",
      "1                 38       UT              Utah  Mountain        11     Jaxon   \n",
      "2                 29       WY           Wyoming  Mountain        19  Angelina   \n",
      "3                 27       AB           Alberta  Mountain         2     Bryce   \n",
      "4                 30       OR            Oregon   Pacific         2     Bryce   \n",
      "5                 27       ID             Idaho  Mountain        18      Seth   \n",
      "6                 29       AK            Alaska    Alaska        24  Theodore   \n",
      "7                 27       CA        California   Pacific        21     Colby   \n",
      "8                 30       AB           Alberta  Mountain        11     Jaxon   \n",
      "9                 33       BC  British Columbia   Pacific        12      Ross   \n",
      "10                28       AB           Alberta  Mountain        11     Jaxon   \n",
      "\n",
      "                lname  \n",
      "sightingid             \n",
      "1               White  \n",
      "2               Lopez  \n",
      "3                Pope  \n",
      "4                Pope  \n",
      "5             Freeman  \n",
      "6              Fuller  \n",
      "7              Harris  \n",
      "8               White  \n",
      "9           Hernandez  \n",
      "10              White  \n"
     ]
    },
    {
     "name": "stderr",
     "output_type": "stream",
     "text": [
      "/var/folders/96/kzlzzx2556jf68c57bc_gc180000gn/T/ipykernel_30307/957881540.py:6: UserWarning: pandas only supports SQLAlchemy connectable (engine/connection) or database string URI or sqlite3 DBAPI2 connection. Other DBAPI2 objects are not tested. Please consider using SQLAlchemy.\n",
      "  df = pd.read_sql(query, conn, index_col='sightingid')\n"
     ]
    }
   ],
   "source": [
    "query = '''SELECT *\n",
    "        FROM sighting si, stapro sp, squout sq\n",
    "        WHERE si.squoutid = sq.squoutid AND si.staproid = sp.staproid\n",
    "        ORDER BY sightdate;'''\n",
    "\n",
    "df = pd.read_sql(query, conn, index_col='sightingid')\n",
    "print(df.head(10))"
   ]
  },
  {
   "cell_type": "code",
   "execution_count": null,
   "id": "0df23347",
   "metadata": {},
   "outputs": [],
   "source": []
  }
 ],
 "metadata": {
  "kernelspec": {
   "display_name": "Python 3 (ipykernel)",
   "language": "python",
   "name": "python3"
  },
  "language_info": {
   "codemirror_mode": {
    "name": "ipython",
    "version": 3
   },
   "file_extension": ".py",
   "mimetype": "text/x-python",
   "name": "python",
   "nbconvert_exporter": "python",
   "pygments_lexer": "ipython3",
   "version": "3.11.5"
  }
 },
 "nbformat": 4,
 "nbformat_minor": 5
}
