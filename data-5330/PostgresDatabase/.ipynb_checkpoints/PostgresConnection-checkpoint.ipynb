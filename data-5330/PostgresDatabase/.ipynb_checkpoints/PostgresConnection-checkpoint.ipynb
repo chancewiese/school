{
 "cells": [
  {
   "cell_type": "code",
   "execution_count": 1,
   "id": "8ab84ac8-3d61-4a6d-8383-7018a066d126",
   "metadata": {},
   "outputs": [],
   "source": [
    "# 1. Chance Wiese"
   ]
  },
  {
   "cell_type": "code",
   "execution_count": 2,
   "id": "f3e3f44f-6a73-4656-8f54-f034fd16d597",
   "metadata": {},
   "outputs": [],
   "source": [
    "# 2. CREATE DATABASE corgirace;"
   ]
  },
  {
   "cell_type": "code",
   "execution_count": 3,
   "id": "d53fec92-8593-40fa-9b15-d7a01c08a089",
   "metadata": {
    "tags": []
   },
   "outputs": [
    {
     "name": "stdout",
     "output_type": "stream",
     "text": [
      "Requirement already satisfied: psycopg2-binary in /Users/chancewiese/anaconda3/lib/python3.11/site-packages (2.9.9)\n",
      "Note: you may need to restart the kernel to use updated packages.\n"
     ]
    }
   ],
   "source": [
    "pip install psycopg2-binary"
   ]
  },
  {
   "cell_type": "code",
   "execution_count": 4,
   "id": "dec16708-5b42-4c61-8a1d-0c6b8270f8e8",
   "metadata": {
    "tags": []
   },
   "outputs": [],
   "source": [
    "import pandas as pd\n",
    "import psycopg2"
   ]
  },
  {
   "cell_type": "code",
   "execution_count": 5,
   "id": "90f84c62-4214-4f8f-81dc-871a604f64d9",
   "metadata": {
    "tags": []
   },
   "outputs": [],
   "source": [
    "# 3\n",
    "conn = psycopg2.connect(\n",
    "    database='corgirace',\n",
    "    user='dw_chancewiese',\n",
    "    password='Spikeball2020',\n",
    "    host='database-1.czsooswggscz.us-east-2.rds.amazonaws.com',\n",
    "    port='5432'\n",
    ")\n",
    "\n",
    "cursor = conn.cursor()"
   ]
  },
  {
   "cell_type": "code",
   "execution_count": 6,
   "id": "dd2abd0a-50d0-4fc0-bfac-16420a44fd84",
   "metadata": {
    "tags": []
   },
   "outputs": [],
   "source": [
    "# 3 corgi\n",
    "create_corgi_query = '''\n",
    "CREATE TABLE IF NOT EXISTS \"corgi\" (\n",
    "    \"CorgID\" SERIAL PRIMARY KEY,\n",
    "    \"CorgName\" VARCHAR(30),\n",
    "    \"Breed\" VARCHAR(5),\n",
    "    \"Gender\" VARCHAR(2),\n",
    "    \"Weight\" SMALLINT,\n",
    "    \"Age\" DECIMAL(3,1)\n",
    ");\n",
    "'''\n",
    "cursor.execute(create_corgi_query)\n",
    "conn.commit()"
   ]
  },
  {
   "cell_type": "code",
   "execution_count": 7,
   "id": "a7c6c3cd-5b37-458f-b946-1c7d085987ec",
   "metadata": {},
   "outputs": [],
   "source": [
    "# 3 race\n",
    "create_race_query = '''\n",
    "CREATE TABLE IF NOT EXISTS \"race\" (\n",
    "    \"RaceID\" SERIAL PRIMARY KEY,\n",
    "    \"RaceName\" VARCHAR(30),\n",
    "    \"RaceState\" CHAR(2),\n",
    "    \"RaceDate\" DATE,\n",
    "    \"RaceTemp\" SMALLINT\n",
    ");\n",
    "'''\n",
    "cursor.execute(create_race_query)\n",
    "conn.commit()"
   ]
  },
  {
   "cell_type": "code",
   "execution_count": 8,
   "id": "0651b321-4d6e-443c-b06d-8336d2782722",
   "metadata": {},
   "outputs": [],
   "source": [
    "# 3 outcome\n",
    "create_outcome_query = '''\n",
    "CREATE TABLE IF NOT EXISTS \"outcome\" (\n",
    "    \"OutcomeID\" SERIAL PRIMARY KEY,\n",
    "    \"CorgID\" INT,\n",
    "    \"RaceID\" INT,\n",
    "    \"RaceTime\" DECIMAL(5,2)\n",
    ");\n",
    "'''\n",
    "cursor.execute(create_outcome_query)\n",
    "conn.commit()"
   ]
  },
  {
   "cell_type": "code",
   "execution_count": 11,
   "id": "e894b118-3b6b-418f-98de-1d79276b58b4",
   "metadata": {
    "tags": []
   },
   "outputs": [
    {
     "name": "stdout",
     "output_type": "stream",
     "text": [
      "                     CorgName  Breed Gender  Weight  Age\n",
      "0               Snappy Ginger    Pem      F      21  3.5\n",
      "1               Golden Graham    Pem      M      30  2.0\n",
      "2                      Kraken    Pem     SF      22  3.5\n",
      "3                 Snarla June    Pem     SF      29  3.5\n",
      "4             Smiley Shortdog  Cardi     NM      33  4.5\n",
      "5                     Stanley    Pem      M      33  3.5\n",
      "6            Holden Corgfield    Pem      M      25  4.0\n",
      "7       Penny the Shedmonster    Pem      F      20  5.0\n",
      "8   Baroness von Fluffyshanks    Pem     SF      22  4.0\n",
      "9                  Prometheus    Pem      M      27  5.0\n",
      "10             Foxy Stumptail    Pem     NM      29  5.5\n",
      "11                  Drederick    Pem      M      29  4.5\n",
      "12          Lady Wigglebottom    Pem      F      28  4.0\n",
      "13                   Jedediah    Pem     NM      30  4.0\n",
      "14               Miss Juniper    Pem     SF      21  2.5\n",
      "15        Mary Queen of Corgs    Pem     SF      23  4.5\n",
      "16                    Oatmeal    Pem     SF      26  5.5\n",
      "17                 Cowboy Dan    Pem      M      26  5.5\n",
      "18                Gareth Bale    Pem     NM      31  5.0\n",
      "19              Winston Smith  Cardi      M      32  4.5\n",
      "20                      Bucco    Pem      M      32  4.0\n",
      "21                   Fruitcup  Cardi      F      23  2.5\n",
      "22                  Sweet Dee    Pem     SF      20  5.0\n",
      "23                  Stonewall    Pem     NM      29  2.5\n",
      "24             Hywel the Woof    Pem      M      28  2.0\n"
     ]
    }
   ],
   "source": [
    "# 4\n",
    "df_corgi = pd.read_csv(\"corgi.csv\")\n",
    "print(df_corgi)"
   ]
  }
 ],
 "metadata": {
  "kernelspec": {
   "display_name": "Python 3 (ipykernel)",
   "language": "python",
   "name": "python3"
  },
  "language_info": {
   "codemirror_mode": {
    "name": "ipython",
    "version": 3
   },
   "file_extension": ".py",
   "mimetype": "text/x-python",
   "name": "python",
   "nbconvert_exporter": "python",
   "pygments_lexer": "ipython3",
   "version": "3.11.5"
  }
 },
 "nbformat": 4,
 "nbformat_minor": 5
}
