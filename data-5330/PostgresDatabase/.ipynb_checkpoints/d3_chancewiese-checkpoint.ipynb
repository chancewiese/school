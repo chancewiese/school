{
 "cells": [
  {
   "cell_type": "code",
   "execution_count": 1,
   "id": "8ab84ac8-3d61-4a6d-8383-7018a066d126",
   "metadata": {},
   "outputs": [],
   "source": [
    "# 1. Chance Wiese"
   ]
  },
  {
   "cell_type": "code",
   "execution_count": 2,
   "id": "f3e3f44f-6a73-4656-8f54-f034fd16d597",
   "metadata": {},
   "outputs": [],
   "source": [
    "# 2. CREATE DATABASE corgirace;"
   ]
  },
  {
   "cell_type": "code",
   "execution_count": 3,
   "id": "d53fec92-8593-40fa-9b15-d7a01c08a089",
   "metadata": {
    "tags": []
   },
   "outputs": [
    {
     "name": "stdout",
     "output_type": "stream",
     "text": [
      "Collecting psycopg2-binary\n",
      "  Downloading psycopg2_binary-2.9.9-cp312-cp312-win_amd64.whl.metadata (4.6 kB)\n",
      "Downloading psycopg2_binary-2.9.9-cp312-cp312-win_amd64.whl (1.2 MB)\n",
      "   ---------------------------------------- 0.0/1.2 MB ? eta -:--:--\n",
      "   - -------------------------------------- 0.0/1.2 MB 660.6 kB/s eta 0:00:02\n",
      "   ---------- ----------------------------- 0.3/1.2 MB 3.9 MB/s eta 0:00:01\n",
      "   ------------------- -------------------- 0.6/1.2 MB 5.2 MB/s eta 0:00:01\n",
      "   ------------------------------------- -- 1.1/1.2 MB 6.3 MB/s eta 0:00:01\n",
      "   ---------------------------------------- 1.2/1.2 MB 5.3 MB/s eta 0:00:00\n",
      "Installing collected packages: psycopg2-binary\n",
      "Successfully installed psycopg2-binary-2.9.9\n",
      "Note: you may need to restart the kernel to use updated packages.\n"
     ]
    }
   ],
   "source": [
    "pip install psycopg2-binary"
   ]
  },
  {
   "cell_type": "code",
   "execution_count": 4,
   "id": "dec16708-5b42-4c61-8a1d-0c6b8270f8e8",
   "metadata": {
    "tags": []
   },
   "outputs": [],
   "source": [
    "import pandas as pd\n",
    "import psycopg2"
   ]
  },
  {
   "cell_type": "code",
   "execution_count": 5,
   "id": "90f84c62-4214-4f8f-81dc-871a604f64d9",
   "metadata": {
    "tags": []
   },
   "outputs": [],
   "source": [
    "# 3\n",
    "conn = psycopg2.connect(\n",
    "    database='corgirace',\n",
    "    user='dw_chancewiese',\n",
    "    password='Spikeball2020',\n",
    "    host='database-1.czsooswggscz.us-east-2.rds.amazonaws.com',\n",
    "    port='5432'\n",
    ")\n",
    "\n",
    "cursor = conn.cursor()"
   ]
  },
  {
   "cell_type": "code",
   "execution_count": 6,
   "id": "dd2abd0a-50d0-4fc0-bfac-16420a44fd84",
   "metadata": {
    "tags": []
   },
   "outputs": [],
   "source": [
    "# 3 corgi\n",
    "cursor.execute('''\n",
    "CREATE TABLE IF NOT EXISTS corgi (\n",
    "    CorgID SERIAL PRIMARY KEY,\n",
    "    CorgName VARCHAR(30),\n",
    "    Breed VARCHAR(5),\n",
    "    Gender VARCHAR(2),\n",
    "    Weight SMALLINT,\n",
    "    Age DECIMAL(3,1)\n",
    ");\n",
    "''')\n",
    "\n",
    "conn.commit()"
   ]
  },
  {
   "cell_type": "code",
   "execution_count": 7,
   "id": "a7c6c3cd-5b37-458f-b946-1c7d085987ec",
   "metadata": {},
   "outputs": [],
   "source": [
    "# 3 race\n",
    "cursor.execute('''\n",
    "CREATE TABLE IF NOT EXISTS race (\n",
    "    RaceID SERIAL PRIMARY KEY,\n",
    "    RaceName VARCHAR(30),\n",
    "    RaceState CHAR(2),\n",
    "    RaceDate DATE,\n",
    "    RaceTemp SMALLINT\n",
    ");\n",
    "''')\n",
    "\n",
    "conn.commit()"
   ]
  },
  {
   "cell_type": "code",
   "execution_count": 8,
   "id": "0651b321-4d6e-443c-b06d-8336d2782722",
   "metadata": {},
   "outputs": [],
   "source": [
    "# 3 outcome\n",
    "cursor.execute('''\n",
    "CREATE TABLE IF NOT EXISTS outcome (\n",
    "    OutcomeID SERIAL PRIMARY KEY,\n",
    "    CorgID INT,\n",
    "    RaceID INT,\n",
    "    RaceTime DECIMAL(5,2)\n",
    ");\n",
    "''')\n",
    "\n",
    "conn.commit()"
   ]
  },
  {
   "cell_type": "code",
   "execution_count": 9,
   "id": "e894b118-3b6b-418f-98de-1d79276b58b4",
   "metadata": {
    "tags": []
   },
   "outputs": [],
   "source": [
    "# 4\n",
    "df_corgi = pd.read_csv(\"corgi.csv\")\n",
    "\n",
    "for x in df_corgi.index:\n",
    "    cursor.execute(f'''\n",
    "    INSERT INTO corgi (CorgName, Breed, Gender, Weight, Age)\n",
    "    VALUES ('{df_corgi.loc[x]['CorgName']}', '{df_corgi.loc[x]['Breed']}', \n",
    "            '{df_corgi.loc[x]['Gender']}', {df_corgi.loc[x]['Weight']}, \n",
    "            {df_corgi.loc[x]['Age']});\n",
    "    ''')\n",
    "\n",
    "conn.commit()"
   ]
  },
  {
   "cell_type": "code",
   "execution_count": 10,
   "id": "6d1230a7-d00e-4c9f-825b-786d0ce3a562",
   "metadata": {},
   "outputs": [
    {
     "name": "stdout",
     "output_type": "stream",
     "text": [
      "   corgid                   corgname breed gender  weight  age\n",
      "0       9  Baroness von Fluffyshanks   Pem     SF      22  4.0\n",
      "1      34  Baroness von Fluffyshanks   Pem     SF      22  4.0\n",
      "2      46                      Bucco   Pem      M      32  4.0\n",
      "3      21                      Bucco   Pem      M      32  4.0\n",
      "4      18                 Cowboy Dan   Pem      M      26  5.5\n",
      "5      43                 Cowboy Dan   Pem      M      26  5.5\n",
      "6      12                  Drederick   Pem      M      29  4.5\n",
      "7      37                  Drederick   Pem      M      29  4.5\n",
      "8      11             Foxy Stumptail   Pem     NM      29  5.5\n",
      "9      36             Foxy Stumptail   Pem     NM      29  5.5\n"
     ]
    },
    {
     "name": "stderr",
     "output_type": "stream",
     "text": [
      "C:\\Users\\Chanc\\AppData\\Local\\Temp\\ipykernel_31280\\3078762746.py:9: UserWarning: pandas only supports SQLAlchemy connectable (engine/connection) or database string URI or sqlite3 DBAPI2 connection. Other DBAPI2 objects are not tested. Please consider using SQLAlchemy.\n",
      "  validation_df = pd.read_sql(query, conn)\n"
     ]
    }
   ],
   "source": [
    "# 5\n",
    "query = '''\n",
    "SELECT *\n",
    "FROM corgi\n",
    "ORDER BY CorgName\n",
    "LIMIT 10\n",
    "'''\n",
    "\n",
    "validation_df = pd.read_sql(query, conn)\n",
    "print(validation_df)"
   ]
  },
  {
   "cell_type": "code",
   "execution_count": 11,
   "id": "68b1a2ea-7cc6-49a1-931b-67bd0480740b",
   "metadata": {},
   "outputs": [],
   "source": [
    "# 6\n",
    "df_race = pd.read_csv(\"race.csv\")\n",
    "\n",
    "for x in df_race.index:\n",
    "    cursor.execute(f'''\n",
    "    INSERT INTO race (RaceName, RaceState, RaceDate, RaceTemp)\n",
    "    VALUES ('{df_race.loc[x]['RaceName']}', '{df_race.loc[x]['RaceState']}', \n",
    "            '{df_race.loc[x]['RaceDate']}', {df_race.loc[x]['RaceTemp']});\n",
    "    ''')\n",
    "    \n",
    "conn.commit()"
   ]
  },
  {
   "cell_type": "code",
   "execution_count": 12,
   "id": "d425c14b-0940-4555-b2a1-28ba7699bed3",
   "metadata": {},
   "outputs": [
    {
     "name": "stdout",
     "output_type": "stream",
     "text": [
      "   raceid         racename racestate    racedate  racetemp\n",
      "0      12   Del Mar Trophy        CA  2018-06-03        80\n",
      "1       1   Del Mar Trophy        CA  2018-06-03        80\n",
      "2       2   Memorial Derby        WA  2018-06-17        77\n",
      "3      13   Memorial Derby        WA  2018-06-17        77\n",
      "4       3      Dixie Derby        UT  2018-06-24        95\n",
      "5      14      Dixie Derby        UT  2018-06-24        95\n",
      "6      15     Missions Cup        CA  2018-06-30        73\n",
      "7       4     Missions Cup        CA  2018-06-30        73\n",
      "8       5  Borderside Dash        WA  2018-07-21        74\n",
      "9      16  Borderside Dash        WA  2018-07-21        74\n"
     ]
    },
    {
     "name": "stderr",
     "output_type": "stream",
     "text": [
      "C:\\Users\\Chanc\\AppData\\Local\\Temp\\ipykernel_31280\\3849244801.py:9: UserWarning: pandas only supports SQLAlchemy connectable (engine/connection) or database string URI or sqlite3 DBAPI2 connection. Other DBAPI2 objects are not tested. Please consider using SQLAlchemy.\n",
      "  validation_df = pd.read_sql(query, conn)\n"
     ]
    }
   ],
   "source": [
    "# 7\n",
    "query = '''\n",
    "SELECT *\n",
    "FROM race\n",
    "ORDER BY RaceDate\n",
    "LIMIT 10\n",
    "'''\n",
    "\n",
    "validation_df = pd.read_sql(query, conn)\n",
    "print(validation_df)"
   ]
  },
  {
   "cell_type": "code",
   "execution_count": 13,
   "id": "427302cf-150b-4f22-886b-864a51f2e13d",
   "metadata": {},
   "outputs": [],
   "source": [
    "# 8\n",
    "df_outcome = pd.read_csv(\"outcome.csv\")\n",
    "\n",
    "for x in df_outcome.index:\n",
    "    cursor.execute(f'''\n",
    "    INSERT INTO outcome (CorgID, RaceID, RaceTime)\n",
    "    VALUES ({df_outcome.loc[x]['CorgID']}, {df_outcome.loc[x]['RaceID']}, \n",
    "            {df_outcome.loc[x]['RaceTime']});\n",
    "    ''')\n",
    "    \n",
    "conn.commit()"
   ]
  },
  {
   "cell_type": "code",
   "execution_count": 14,
   "id": "1d28fdcf-7d23-46ae-8dc1-8bf0f7664267",
   "metadata": {
    "tags": []
   },
   "outputs": [
    {
     "name": "stdout",
     "output_type": "stream",
     "text": [
      "   outcomeid  corgid  raceid  racetime\n",
      "0        116      14      10     40.07\n",
      "1        250      14      10     40.07\n",
      "2        123       4      11     40.10\n",
      "3        257       4      11     40.10\n",
      "4         45      21       4     40.73\n",
      "5        179      21       4     40.73\n",
      "6         28       9       3     40.74\n",
      "7        162       9       3     40.74\n",
      "8        161       8       3     40.94\n",
      "9         27       8       3     40.94\n"
     ]
    },
    {
     "name": "stderr",
     "output_type": "stream",
     "text": [
      "C:\\Users\\Chanc\\AppData\\Local\\Temp\\ipykernel_31280\\809598693.py:9: UserWarning: pandas only supports SQLAlchemy connectable (engine/connection) or database string URI or sqlite3 DBAPI2 connection. Other DBAPI2 objects are not tested. Please consider using SQLAlchemy.\n",
      "  validation_df = pd.read_sql(query, conn)\n"
     ]
    }
   ],
   "source": [
    "# 9\n",
    "query = '''\n",
    "SELECT *\n",
    "FROM outcome\n",
    "ORDER BY RaceTime\n",
    "LIMIT 10\n",
    "'''\n",
    "\n",
    "validation_df = pd.read_sql(query, conn)\n",
    "print(validation_df)"
   ]
  },
  {
   "cell_type": "code",
   "execution_count": 29,
   "id": "66b47044-0058-4212-a926-4cb91dc7eeb3",
   "metadata": {},
   "outputs": [],
   "source": [
    "conn.close()"
   ]
  }
 ],
 "metadata": {
  "kernelspec": {
   "display_name": "Python 3 (ipykernel)",
   "language": "python",
   "name": "python3"
  },
  "language_info": {
   "codemirror_mode": {
    "name": "ipython",
    "version": 3
   },
   "file_extension": ".py",
   "mimetype": "text/x-python",
   "name": "python",
   "nbconvert_exporter": "python",
   "pygments_lexer": "ipython3",
   "version": "3.12.4"
  }
 },
 "nbformat": 4,
 "nbformat_minor": 5
}
