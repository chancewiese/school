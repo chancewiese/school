{
 "cells": [
  {
   "cell_type": "code",
   "execution_count": 2,
   "id": "962db20a-6b43-4d3a-aadc-abd2b790f081",
   "metadata": {},
   "outputs": [],
   "source": [
    "# 1\n",
    "# Chance Wiese"
   ]
  },
  {
   "cell_type": "code",
   "execution_count": 3,
   "id": "12db060e-a9ea-4d99-ae2b-b3e062af4dc6",
   "metadata": {},
   "outputs": [
    {
     "name": "stderr",
     "output_type": "stream",
     "text": [
      "C:\\Users\\Chanc\\AppData\\Local\\Temp\\ipykernel_6976\\1924361383.py:20: UserWarning: pandas only supports SQLAlchemy connectable (engine/connection) or database string URI or sqlite3 DBAPI2 connection. Other DBAPI2 objects are not tested. Please consider using SQLAlchemy.\n",
      "  df = pd.read_sql(query, conn, index_col='corgid')\n"
     ]
    },
    {
     "name": "stdout",
     "output_type": "stream",
     "text": [
      "                         corgname  breed gender  weight  age fromfile\n",
      "corgid                                                               \n",
      "1                   Snappy Ginger    Pem      F      21  3.5     None\n",
      "2                   Golden Graham    Pem      M      30  2.0     None\n",
      "3                          Kraken    Pem     SF      22  3.5     None\n",
      "4                     Snarla June    Pem     SF      29  3.5     None\n",
      "5                 Smiley Shortdog  Cardi     NM      33  4.5     None\n",
      "6                         Stanley    Pem      M      33  3.5     None\n",
      "7                Holden Corgfield    Pem      M      25  4.0     None\n",
      "8           Penny the Shedmonster    Pem      F      20  5.0     None\n",
      "9       Baroness von Fluffyshanks    Pem     SF      22  4.0     None\n",
      "10                     Prometheus    Pem      M      27  5.0     None\n",
      "11                 Foxy Stumptail    Pem     NM      29  5.5     None\n",
      "12                      Drederick    Pem      M      29  4.5     None\n",
      "13              Lady Wigglebottom    Pem      F      28  4.0     None\n",
      "14                       Jedediah    Pem     NM      30  4.0     None\n",
      "15                   Miss Juniper    Pem     SF      21  2.5     None\n",
      "16            Mary Queen of Corgs    Pem     SF      23  4.5     None\n",
      "17                        Oatmeal    Pem     SF      26  5.5     None\n",
      "18                     Cowboy Dan    Pem      M      26  5.5     None\n",
      "19                    Gareth Bale    Pem     NM      31  5.0     None\n",
      "20                  Winston Smith  Cardi      M      32  4.5     None\n",
      "21                          Bucco    Pem      M      32  4.0     None\n",
      "22                       Fruitcup  Cardi      F      23  2.5     None\n",
      "23                      Sweet Dee    Pem     SF      20  5.0     None\n",
      "24                      Stonewall    Pem     NM      29  2.5     None\n",
      "25                 Hywel the Woof    Pem      M      28  2.0     None\n"
     ]
    }
   ],
   "source": [
    "# 2\n",
    "import pandas as pd\n",
    "import psycopg2\n",
    "\n",
    "conn = psycopg2.connect(\n",
    "    database='corgirace',\n",
    "    user='dw_chancewiese',\n",
    "    password='Spikeball2020',\n",
    "    host='database-1.czsooswggscz.us-east-2.rds.amazonaws.com',\n",
    "    port='5432'\n",
    ")\n",
    "\n",
    "cursor = conn.cursor()\n",
    "\n",
    "query = '''\n",
    "SELECT *\n",
    "FROM corgi;\n",
    "'''\n",
    "\n",
    "df = pd.read_sql(query, conn, index_col='corgid')\n",
    "print(df)"
   ]
  },
  {
   "cell_type": "code",
   "execution_count": 4,
   "id": "c86a49d4-b27c-4492-972c-3a50701b7e8d",
   "metadata": {},
   "outputs": [
    {
     "name": "stdout",
     "output_type": "stream",
     "text": [
      "corgname: Can be a string of up to 30 characters.\n",
      "breed: Can only be 1 of 2 options: 'Pem' or 'Cardi.'\n",
      "gender: Can only be 1 of 4 options: SF, NM, M, F.\n",
      "weight: Positive integer less than 50, as corgis don't get that big.\n",
      "age: Positive number with 1 decimal place, allowing for half-year precision (e.g., 3.0 or 3.5 years).\n"
     ]
    }
   ],
   "source": [
    "# 3\n",
    "print(\"corgname: Can be a string of up to 30 characters.\")\n",
    "print(\"breed: Can only be 1 of 2 options: 'Pem' or 'Cardi.'\")\n",
    "print(\"gender: Can only be 1 of 4 options: SF, NM, M, F.\")\n",
    "print(\"weight: Positive integer less than 50, as corgis don't get that big.\")\n",
    "print(\"age: Positive number with 1 decimal place, allowing for half-year precision (e.g., 3.0 or 3.5 years).\")"
   ]
  },
  {
   "cell_type": "code",
   "execution_count": 5,
   "id": "a3976d1e-2a51-470f-8df9-fa97fc40fcc6",
   "metadata": {},
   "outputs": [],
   "source": [
    "# 4\n",
    "cursor.execute('''\n",
    "CREATE TABLE IF NOT EXISTS ingest (\n",
    "    filename VARCHAR(255) PRIMARY KEY,\n",
    "    whendone TIMESTAMP NOT NULL\n",
    ");\n",
    "''')\n",
    "\n",
    "conn.commit()"
   ]
  },
  {
   "cell_type": "code",
   "execution_count": 6,
   "id": "e6ca3c5b-c3ed-4a72-b2e3-8dc716aa0072",
   "metadata": {},
   "outputs": [
    {
     "name": "stderr",
     "output_type": "stream",
     "text": [
      "C:\\Users\\Chanc\\AppData\\Local\\Temp\\ipykernel_6976\\2746114488.py:14: UserWarning: pandas only supports SQLAlchemy connectable (engine/connection) or database string URI or sqlite3 DBAPI2 connection. Other DBAPI2 objects are not tested. Please consider using SQLAlchemy.\n",
      "  df = pd.read_sql(query, conn)\n"
     ]
    },
    {
     "name": "stdout",
     "output_type": "stream",
     "text": [
      "                     corgname fromfile\n",
      "0               Snappy Ginger     None\n",
      "1               Golden Graham     None\n",
      "2                      Kraken     None\n",
      "3                 Snarla June     None\n",
      "4             Smiley Shortdog     None\n",
      "5                     Stanley     None\n",
      "6            Holden Corgfield     None\n",
      "7       Penny the Shedmonster     None\n",
      "8   Baroness von Fluffyshanks     None\n",
      "9                  Prometheus     None\n",
      "10             Foxy Stumptail     None\n",
      "11                  Drederick     None\n",
      "12          Lady Wigglebottom     None\n",
      "13                   Jedediah     None\n",
      "14               Miss Juniper     None\n",
      "15        Mary Queen of Corgs     None\n",
      "16                    Oatmeal     None\n",
      "17                 Cowboy Dan     None\n",
      "18                Gareth Bale     None\n",
      "19              Winston Smith     None\n",
      "20                      Bucco     None\n",
      "21                   Fruitcup     None\n",
      "22                  Sweet Dee     None\n",
      "23                  Stonewall     None\n",
      "24             Hywel the Woof     None\n"
     ]
    }
   ],
   "source": [
    "# 5\n",
    "cursor.execute('''\n",
    "ALTER TABLE corgi\n",
    "ADD COLUMN IF NOT EXISTS fromfile VARCHAR(255);\n",
    "''')\n",
    "\n",
    "conn.commit()\n",
    "\n",
    "query = '''\n",
    "SELECT corgname, fromfile\n",
    "FROM corgi;\n",
    "'''\n",
    "\n",
    "df = pd.read_sql(query, conn)\n",
    "print(df)"
   ]
  },
  {
   "cell_type": "code",
   "execution_count": 7,
   "id": "6b2ab4c5-7c47-4813-91af-0966d22404aa",
   "metadata": {},
   "outputs": [
    {
     "name": "stdout",
     "output_type": "stream",
     "text": [
      "The file 'newcorgis-20220618.csv' has been accepted for processing.\n",
      "              Name  Breed Gender  Weight  Age\n",
      "0         Francine    Pem      F      24  3.5\n",
      "1         Prudence    Pem     SF      29  4.0\n",
      "2        Fort Knox  Cardi     NM      34  3.3\n",
      "3          Gruyere    Pem     SF      22  1.5\n",
      "4     Sir Barxalot    Pem      M      26  2.0\n",
      "5      Tuning Fork  Cardi     NM      29  1.8\n",
      "6          Wiffles    Pem     SF      23  5.0\n",
      "7           Wumpus    Pem      F      26  1.2\n",
      "8  Qween Kanonball    Pem      F      29  3.5\n"
     ]
    },
    {
     "name": "stderr",
     "output_type": "stream",
     "text": [
      "C:\\Users\\Chanc\\AppData\\Local\\Temp\\ipykernel_6976\\2520592936.py:21: FutureWarning: A value is trying to be set on a copy of a DataFrame or Series through chained assignment using an inplace method.\n",
      "The behavior will change in pandas 3.0. This inplace method will never work because the intermediate object on which we are setting values always behaves as a copy.\n",
      "\n",
      "For example, when doing 'df[col].method(value, inplace=True)', try using 'df.method({col: value}, inplace=True)' or df[col] = df[col].method(value) instead, to perform the operation inplace on the original object.\n",
      "\n",
      "\n",
      "  df2['Breed'].replace(\n",
      "C:\\Users\\Chanc\\AppData\\Local\\Temp\\ipykernel_6976\\2520592936.py:28: FutureWarning: A value is trying to be set on a copy of a DataFrame or Series through chained assignment using an inplace method.\n",
      "The behavior will change in pandas 3.0. This inplace method will never work because the intermediate object on which we are setting values always behaves as a copy.\n",
      "\n",
      "For example, when doing 'df[col].method(value, inplace=True)', try using 'df.method({col: value}, inplace=True)' or df[col] = df[col].method(value) instead, to perform the operation inplace on the original object.\n",
      "\n",
      "\n",
      "  df2['Gender'].replace(\n"
     ]
    }
   ],
   "source": [
    "# 6\n",
    "csvname = \"newcorgis-20220618.csv\"\n",
    "\n",
    "query = f'''\n",
    "SELECT COUNT(*)\n",
    "FROM ingest\n",
    "WHERE filename = '{csvname}'\n",
    "'''\n",
    "\n",
    "cursor.execute(query)\n",
    "count = cursor.fetchone()[0]\n",
    "\n",
    "if count > 0:\n",
    "    print(f\"The file '{csvname}' has already been processed.\")\n",
    "else:\n",
    "    print(f\"The file '{csvname}' has been accepted for processing.\")\n",
    "\n",
    "    df2 = pd.read_csv(csvname)\n",
    "\n",
    "    # Data Cleaning\n",
    "        # Breed\n",
    "    df2['Breed'] = df2['Breed'].replace(\n",
    "        to_replace=['PWC', 'CWC'],\n",
    "        value=['Pem', 'Cardi'],\n",
    "        inplace=True\n",
    "    ) \n",
    "        # Gender\n",
    "    df2['Gender'] = df2['Gender'].replace({'Fem': 'F'}) # error suggested this method\n",
    "        # Weight\n",
    "    df2['Weight'] = df2['Weight'].round().astype(int)\n",
    "        # Age\n",
    "    df2['Age'] = df2['Age'].round(1)\n",
    "\n",
    "    print(df2)"
   ]
  },
  {
   "cell_type": "code",
   "execution_count": null,
   "id": "c61e9973-f60d-459b-a1a3-eb35d57f79c1",
   "metadata": {},
   "outputs": [],
   "source": [
    "conn.close()"
   ]
  }
 ],
 "metadata": {
  "kernelspec": {
   "display_name": "Python 3 (ipykernel)",
   "language": "python",
   "name": "python3"
  },
  "language_info": {
   "codemirror_mode": {
    "name": "ipython",
    "version": 3
   },
   "file_extension": ".py",
   "mimetype": "text/x-python",
   "name": "python",
   "nbconvert_exporter": "python",
   "pygments_lexer": "ipython3",
   "version": "3.12.4"
  }
 },
 "nbformat": 4,
 "nbformat_minor": 5
}
