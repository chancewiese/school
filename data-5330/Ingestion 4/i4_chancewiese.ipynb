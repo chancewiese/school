{
 "cells": [
  {
   "cell_type": "code",
   "execution_count": 1,
   "id": "6eecbece-255e-43a8-b2f7-633397c68309",
   "metadata": {
    "tags": []
   },
   "outputs": [],
   "source": [
    "# 1\n",
    "# Chance Wiese"
   ]
  },
  {
   "cell_type": "code",
   "execution_count": 56,
   "id": "b0989a23-c3c0-48e0-a658-53233a1c5994",
   "metadata": {
    "tags": []
   },
   "outputs": [
    {
     "name": "stdout",
     "output_type": "stream",
     "text": [
      "    exceptid                                             record fixstamp\n",
      "0          1  Elizabeth Marsh||Gettysburg|2024-01-17|721|Fau...     None\n",
      "1          2  Amanda||Hudson|2024-01-17||Mighty cold sucking...     None\n",
      "2          3       Tracey Thompson|doors|Hudson|2024-01-18|893|     None\n",
      "3          6  Teri Perry|windows|Detroit|2024-01-20|486|Stuc...     None\n",
      "4          8  Jerry Massey|plumbing|Detroit||431|No hot wate...     None\n",
      "5          9  John Clark||Antietam|2024-01-21|105|Unexpected...     None\n",
      "6         10  Shannon Ramos|connectivity||2024-01-22|753|Slo...     None\n",
      "7         11  Court Boone|connectivity|Charleston|2024-01-22...     None\n",
      "8         12  Darryl Vazquez|doors|Antietam|2024-01-23|176|D...     None\n",
      "9         13  Billy Walker||Antietam|2024-01-24|146|Experien...     None\n",
      "10        14  Laurie Lopez|electrical||2024-01-25|413|Hopele...     None\n",
      "11        15  Shane-O|electrical|Frederick|2024-01-26|685|Da...     None\n",
      "12        16        Sandra Garcia|||2024-01-26||Having trouble.     None\n",
      "13        17  Sandra Glass|plumbing|Bull Run|2024-01-26||Wit...     None\n",
      "14        18  Gina Edwards|connectivity||2024-01-26||Wireles...     None\n",
      "15        19  Gabriela Carter|outlets|Bull Run|2024-01-26|29...     None\n",
      "16        20  |doors|Hudson|2024-01-27|841|Might might highl...     None\n",
      "17         4  Rhonda Carter|hvac||2024-01-18|268|Aircon soun...     None\n",
      "18         5  Willie Greene||Charleston|2024-01-19|331|Inter...     None\n",
      "19         7  Victoria Ward|doors||2024-01-21|345|Door bashe...     None\n"
     ]
    },
    {
     "name": "stderr",
     "output_type": "stream",
     "text": [
      "/var/folders/96/kzlzzx2556jf68c57bc_gc180000gn/T/ipykernel_56612/2144117380.py:16: UserWarning: pandas only supports SQLAlchemy connectable (engine/connection) or database string URI or sqlite3 DBAPI2 connection. Other DBAPI2 objects are not tested. Please consider using SQLAlchemy.\n",
      "  df = pd.read_sql(query, conn)\n"
     ]
    }
   ],
   "source": [
    "# 2\n",
    "import pandas as pd\n",
    "import psycopg2\n",
    "\n",
    "conn = psycopg2.connect(\n",
    "    database=\"loftsvc\", \n",
    "    user='dw_chancewiese',\n",
    "    password='Spikeball2020',\n",
    "    host='database-1.czsooswggscz.us-east-2.rds.amazonaws.com',\n",
    "    port='5432'\n",
    ")\n",
    "\n",
    "cursor = conn.cursor()\n",
    "\n",
    "query = '''SELECT * FROM exceptionlog where fixstamp is null;'''\n",
    "df = pd.read_sql(query, conn)\n",
    "print(df)"
   ]
  },
  {
   "cell_type": "code",
   "execution_count": 3,
   "id": "13c352da-a95e-4665-8033-9ec3d87cfdc7",
   "metadata": {
    "tags": []
   },
   "outputs": [
    {
     "name": "stdout",
     "output_type": "stream",
     "text": [
      "Rhonda Carter: Building name is missing. Could use their unit number to find what building they live in.\n",
      "Willie Greene: Type is missing. We can look for keywords like internet in the description to find a new one.\n",
      "Jerry Massey: Record is missing the date field. Can use the previous record's date to get a close estimate.\n",
      "Gabriela Carter: Outlets is not a valid type. Can set it to electrical.\n"
     ]
    }
   ],
   "source": [
    "# 3\n",
    "print(\"Rhonda Carter: Building name is missing. Could use their unit number to find what building they live in.\")\n",
    "print(\"Willie Greene: Type is missing. We can look for keywords like internet in the description to find a new one.\") \n",
    "print(\"Jerry Massey: Record is missing the date field. Can use the previous record's date to get a close estimate.\")\n",
    "print(\"Gabriela Carter: Outlets is not a valid type. Can set it to electrical.\")"
   ]
  },
  {
   "cell_type": "code",
   "execution_count": 4,
   "id": "e70a3243-3798-45c2-9642-e2bbc53bf43a",
   "metadata": {
    "tags": []
   },
   "outputs": [
    {
     "name": "stdout",
     "output_type": "stream",
     "text": [
      "   srid exceptid\n",
      "0     1     None\n",
      "1     2     None\n",
      "2     3     None\n"
     ]
    },
    {
     "name": "stderr",
     "output_type": "stream",
     "text": [
      "/var/folders/96/kzlzzx2556jf68c57bc_gc180000gn/T/ipykernel_56612/103347601.py:16: UserWarning: pandas only supports SQLAlchemy connectable (engine/connection) or database string URI or sqlite3 DBAPI2 connection. Other DBAPI2 objects are not tested. Please consider using SQLAlchemy.\n",
      "  df_check = pd.read_sql(query, conn)\n"
     ]
    }
   ],
   "source": [
    "# 4\n",
    "cursor.execute('''\n",
    "ALTER TABLE servreq \n",
    "ADD COLUMN IF NOT EXISTS exceptid INTEGER \n",
    "REFERENCES exceptionlog(exceptid);\n",
    "''')\n",
    "\n",
    "conn.commit()\n",
    "\n",
    "query = '''\n",
    "SELECT srid, exceptid\n",
    "FROM servreq\n",
    "LIMIT 3;\n",
    "'''\n",
    "\n",
    "df_check = pd.read_sql(query, conn)\n",
    "print(df_check)"
   ]
  },
  {
   "cell_type": "code",
   "execution_count": 45,
   "id": "79a92ea6-41bb-481d-b819-9d05eb4930c6",
   "metadata": {
    "tags": []
   },
   "outputs": [
    {
     "name": "stderr",
     "output_type": "stream",
     "text": [
      "/var/folders/96/kzlzzx2556jf68c57bc_gc180000gn/T/ipykernel_56612/3762647138.py:27: UserWarning: pandas only supports SQLAlchemy connectable (engine/connection) or database string URI or sqlite3 DBAPI2 connection. Other DBAPI2 objects are not tested. Please consider using SQLAlchemy.\n",
      "  tenants = pd.read_sql(\"SELECT tenantid, CONCAT(fname, ' ', lname) AS full_name FROM tenant;\", conn)\n",
      "/var/folders/96/kzlzzx2556jf68c57bc_gc180000gn/T/ipykernel_56612/3762647138.py:40: UserWarning: pandas only supports SQLAlchemy connectable (engine/connection) or database string URI or sqlite3 DBAPI2 connection. Other DBAPI2 objects are not tested. Please consider using SQLAlchemy.\n",
      "  types = pd.read_sql(\"SELECT * FROM reqtype\", conn)\n",
      "/var/folders/96/kzlzzx2556jf68c57bc_gc180000gn/T/ipykernel_56612/3762647138.py:74: UserWarning: pandas only supports SQLAlchemy connectable (engine/connection) or database string URI or sqlite3 DBAPI2 connection. Other DBAPI2 objects are not tested. Please consider using SQLAlchemy.\n",
      "  bldgid = pd.read_sql(f\"SELECT bldgid FROM building WHERE bldgname = '{building}'\", conn)['bldgid'].iloc[0]\n"
     ]
    },
    {
     "name": "stdout",
     "output_type": "stream",
     "text": [
      "Can't Fix (Unknown Type): ['Elizabeth Marsh', '', 'Gettysburg', '2024-01-17', '721', 'Faucet dripping, dripping forever, dripping highly, morosely.']\n",
      "Can't Fix (No Unit #, One Name, Unknown Type): ['Amanda', '', 'Hudson', '2024-01-17', '', 'Mighty cold sucking from thermostat; @#$%*&! fan.']\n",
      "Can't Fix (No Description): ['Tracey Thompson', 'doors', 'Hudson', '2024-01-18', '893', '']\n"
     ]
    },
    {
     "name": "stderr",
     "output_type": "stream",
     "text": [
      "/var/folders/96/kzlzzx2556jf68c57bc_gc180000gn/T/ipykernel_56612/3762647138.py:63: UserWarning: pandas only supports SQLAlchemy connectable (engine/connection) or database string URI or sqlite3 DBAPI2 connection. Other DBAPI2 objects are not tested. Please consider using SQLAlchemy.\n",
      "  bldgid = pd.read_sql(f'''\n"
     ]
    },
    {
     "name": "stdout",
     "output_type": "stream",
     "text": [
      "Can fix record with values:\n",
      "        tenantid = 455,\n",
      "        rtid = 5,\n",
      "        bldgid = 2,\n",
      "        reqdate = '2024-01-18',\n",
      "        unit = 268,\n",
      "        reqdescription = 'Aircon sounds like a ghost lives inside it.',\n",
      "        exceptid = 4\n",
      "Can fix record with values:\n",
      "        tenantid = 593,\n",
      "        rtid = 1,\n",
      "        bldgid = 3,\n",
      "        reqdate = '2024-01-19',\n",
      "        unit = 331,\n",
      "        reqdescription = 'Internet running at 270 bits per second.',\n",
      "        exceptid = 5\n",
      "Can't Fix (Unknown Name): ['Teri Perry', 'windows', 'Detroit', '2024-01-20', '486', 'Stuck and injured @#$%*&!, lock @#$%*&! handle will not open.']\n",
      "Can fix record with values:\n",
      "        tenantid = 504,\n",
      "        rtid = 2,\n",
      "        bldgid = 3,\n",
      "        reqdate = '2024-01-21',\n",
      "        unit = 345,\n",
      "        reqdescription = 'Door bashed with an axe bashed with an axe trapped locked inside.',\n",
      "        exceptid = 7\n",
      "Can fix record with values:\n",
      "        tenantid = 255,\n",
      "        rtid = 6,\n",
      "        bldgid = 4,\n",
      "        reqdate = '2024-01-21',\n",
      "        unit = 431,\n",
      "        reqdescription = 'No hot water. 11 days. Hope dwindling.',\n",
      "        exceptid = 8\n",
      "Can't Fix (Unknown Type): ['John Clark', '', 'Antietam', '2024-01-21', '105', 'Unexpected a/c incursions.']\n",
      "Can fix record with values:\n",
      "        tenantid = 538,\n",
      "        rtid = 1,\n",
      "        bldgid = 7,\n",
      "        reqdate = '2024-01-22',\n",
      "        unit = 753,\n",
      "        reqdescription = 'Slow download of wireless, hopelessness of websites; Internet law suit.',\n",
      "        exceptid = 10\n",
      "Can't Fix (No Unit #, Unknown Name): ['Court Boone', 'connectivity', 'Charleston', '2024-01-22', '', 'Slow download wireless for hopeless websites for.']\n",
      "Can fix record with values:\n",
      "        tenantid = 116,\n",
      "        rtid = 2,\n",
      "        bldgid = 1,\n",
      "        reqdate = '2024-01-23',\n",
      "        unit = 176,\n",
      "        reqdescription = 'Door wont shut, door refuses the shutting, the door.',\n",
      "        exceptid = 12\n",
      "Can't Fix (Unknown Type): ['Billy Walker', '', 'Antietam', '2024-01-24', '146', 'Experiencing thermostat wheeze.']\n",
      "Can fix record with values:\n",
      "        tenantid = 495,\n",
      "        rtid = 3,\n",
      "        bldgid = 4,\n",
      "        reqdate = '2024-01-25',\n",
      "        unit = 413,\n",
      "        reqdescription = 'Hopeless light switches demean us all.',\n",
      "        exceptid = 14\n",
      "Can't Fix (One Name): ['Shane-O', 'electrical', 'Frederick', '2024-01-26', '685', 'Darkness, switches of darkness, the fridge LED wire explodes.']\n",
      "Can't Fix (No Unit #, Unknown Type): ['Sandra Garcia', '', '', '2024-01-26', '', 'Having trouble.']\n",
      "Can't Fix (No Unit #): ['Sandra Glass', 'plumbing', 'Bull Run', '2024-01-26', '', 'With plunger toilet squeak and chains rattle.']\n",
      "Can't Fix (No Unit #): ['Gina Edwards', 'connectivity', '', '2024-01-26', '', 'Wireless wifi websites wont work.']\n",
      "Can fix record with values:\n",
      "        tenantid = 610,\n",
      "        rtid = 3,\n",
      "        bldgid = 2,\n",
      "        reqdate = '2024-01-26',\n",
      "        unit = 293,\n",
      "        reqdescription = 'Forever sparks and danger, and yet I glow like the hallway specter.',\n",
      "        exceptid = 19\n",
      "Can't Fix (Unknown Name): ['', 'doors', 'Hudson', '2024-01-27', '841', 'Might might highly might.']\n"
     ]
    }
   ],
   "source": [
    "# 5\n",
    "from datetime import datetime\n",
    "last_valid_date = None\n",
    "\n",
    "for x in df.index:\n",
    "    exceptid = df['exceptid'].loc[x]\n",
    "    record = df['record'].loc[x].split('|')\n",
    "    customer = record[0]\n",
    "    type = record[1]\n",
    "    building = record[2]\n",
    "    date = record[3]\n",
    "    unit = record[4]\n",
    "    description = record[5]\n",
    "    \n",
    "    issues = set()\n",
    "    can_fix = True\n",
    "    \n",
    "    # print(f\"\\nExceptID: {id}\")\n",
    "    # print(f\"Customer: {customer}\")\n",
    "    # print(f\"Type: {type}\")\n",
    "    # print(f\"Building: {building}\")\n",
    "    # print(f\"Date: {date}\")\n",
    "    # print(f\"Unit: {unit}\")\n",
    "    # print(f\"Description: {description}\")\n",
    "    \n",
    "    # Customer\n",
    "    tenants = pd.read_sql(\"SELECT tenantid, CONCAT(fname, ' ', lname) AS full_name FROM tenant;\", conn)\n",
    "    tenant_names = tenants['full_name'].tolist()\n",
    "    \n",
    "    if ' ' not in customer and customer:\n",
    "        issues.add('One Name')\n",
    "        can_fix = False\n",
    "    elif customer not in tenant_names:\n",
    "        issues.add('Unknown Name')\n",
    "        can_fix = False\n",
    "    else:\n",
    "        tenantid = tenants.loc[tenants['full_name'] == customer, 'tenantid'].iloc[0]\n",
    "        \n",
    "    # Type\n",
    "    types = pd.read_sql(\"SELECT * FROM reqtype\", conn)\n",
    "    valid_types = ['connectivity', 'doors', 'electrical', 'hvac', 'plumbing', 'windows', 'other']\n",
    "    \n",
    "    if type not in valid_types or not type:\n",
    "        if 'internet' in description.lower():\n",
    "            rtid = types.loc[types['typename'] == 'connectivity', 'rtid'].iloc[0] # 1\n",
    "        elif type == 'outlets':\n",
    "            rtid = types.loc[types['typename'] == 'electrical', 'rtid'].iloc[0] # 3\n",
    "        else:\n",
    "            issues.add('Unknown Type')\n",
    "            can_fix = False\n",
    "    else:\n",
    "        rtid = types.loc[types['typename'] == type, 'rtid'].iloc[0]\n",
    "    \n",
    "    # Building\n",
    "    valid_buildings = ['Antietam', 'Bull Run', 'Charleston', 'Detroit', 'Elkins Ferry', 'Fredericksburg', 'Gettysburg', 'Hudson']\n",
    "\n",
    "    if building not in valid_buildings or not building:\n",
    "        if not unit:\n",
    "            issues.add('No Unit #')\n",
    "            can_fix = False\n",
    "        try:\n",
    "            unit = int(unit)\n",
    "            bldgid = pd.read_sql(f'''\n",
    "            SELECT bldgid\n",
    "            FROM building\n",
    "            WHERE CAST(split_part(unitrange, '-', 1) AS INTEGER) <= {unit}\n",
    "            AND CAST(split_part(unitrange, '-', 2) AS INTEGER) >= {unit};\n",
    "            ''', conn)['bldgid'].iloc[0]\n",
    "        except (ValueError, IndexError):\n",
    "            if 'No Unit #' not in issues:\n",
    "                issues.add('Bad Unit #')\n",
    "            can_fix = False\n",
    "    else:\n",
    "        bldgid = pd.read_sql(f\"SELECT bldgid FROM building WHERE bldgname = '{building}'\", conn)['bldgid'].iloc[0]\n",
    "    \n",
    "    # Date\n",
    "    if not date:\n",
    "        if exceptid == 1:\n",
    "            issues.add('No Date')\n",
    "            can_fix = False\n",
    "        else: \n",
    "            date = last_valid_date\n",
    "    else:\n",
    "        try:\n",
    "            date = datetime.strptime(date, '%Y-%m-%d')\n",
    "            if date.year != datetime.now().year or date > datetime.now():\n",
    "                if exceptid == 1:\n",
    "                    issues.add('No Date')\n",
    "                    can_fix = False\n",
    "                date = last_valid_date\n",
    "            else:\n",
    "                date = date.strftime('%Y-%m-%d')\n",
    "                last_valid_date = date\n",
    "                \n",
    "        except ValueError:\n",
    "            if exceptid == 1:\n",
    "                issues.add('No Date')\n",
    "                can_fix = False\n",
    "            date = last_valid_date\n",
    "            \n",
    "    # Unit\n",
    "    if not unit:\n",
    "        issues.add('No Unit #')\n",
    "        can_fix = False\n",
    "    \n",
    "    # Description\n",
    "    if not description:\n",
    "        issues.add('No Description')\n",
    "        can_fix = False\n",
    "        \n",
    "        \n",
    "    if not can_fix:\n",
    "        print(f\"Can't Fix ({', '.join(issues)}): {record}\")\n",
    "    else:\n",
    "        print(f'''Can fix record with values:\n",
    "        tenantid = {tenantid},\n",
    "        rtid = {rtid},\n",
    "        bldgid = {bldgid},\n",
    "        reqdate = '{date}',\n",
    "        unit = {unit},\n",
    "        reqdescription = '{description}',\n",
    "        exceptid = {exceptid}''')"
   ]
  },
  {
   "cell_type": "code",
   "execution_count": 58,
   "id": "cd4ff46a-fab7-42e2-b458-3d27cff60d90",
   "metadata": {
    "tags": []
   },
   "outputs": [
    {
     "name": "stderr",
     "output_type": "stream",
     "text": [
      "/var/folders/96/kzlzzx2556jf68c57bc_gc180000gn/T/ipykernel_56612/996914472.py:3: UserWarning: pandas only supports SQLAlchemy connectable (engine/connection) or database string URI or sqlite3 DBAPI2 connection. Other DBAPI2 objects are not tested. Please consider using SQLAlchemy.\n",
      "  df = pd.read_sql(query, conn)\n",
      "/var/folders/96/kzlzzx2556jf68c57bc_gc180000gn/T/ipykernel_56612/996914472.py:20: UserWarning: pandas only supports SQLAlchemy connectable (engine/connection) or database string URI or sqlite3 DBAPI2 connection. Other DBAPI2 objects are not tested. Please consider using SQLAlchemy.\n",
      "  tenants = pd.read_sql(\"SELECT tenantid, CONCAT(fname, ' ', lname) AS full_name FROM tenant;\", conn)\n",
      "/var/folders/96/kzlzzx2556jf68c57bc_gc180000gn/T/ipykernel_56612/996914472.py:31: UserWarning: pandas only supports SQLAlchemy connectable (engine/connection) or database string URI or sqlite3 DBAPI2 connection. Other DBAPI2 objects are not tested. Please consider using SQLAlchemy.\n",
      "  types = pd.read_sql(\"SELECT * FROM reqtype\", conn)\n",
      "/var/folders/96/kzlzzx2556jf68c57bc_gc180000gn/T/ipykernel_56612/996914472.py:58: UserWarning: pandas only supports SQLAlchemy connectable (engine/connection) or database string URI or sqlite3 DBAPI2 connection. Other DBAPI2 objects are not tested. Please consider using SQLAlchemy.\n",
      "  bldgid = pd.read_sql(f\"SELECT bldgid FROM building WHERE bldgname = '{building}'\", conn)['bldgid'].iloc[0]\n"
     ]
    },
    {
     "name": "stdout",
     "output_type": "stream",
     "text": [
      "Can't Fix: ['Elizabeth Marsh', '', 'Gettysburg', '2024-01-17', '721', 'Faucet dripping, dripping forever, dripping highly, morosely.']\n",
      "Can't Fix: ['Amanda', '', 'Hudson', '2024-01-17', '', 'Mighty cold sucking from thermostat; @#$%*&! fan.']\n",
      "Can't Fix: ['Tracey Thompson', 'doors', 'Hudson', '2024-01-18', '893', '']\n",
      "Can't Fix: ['Teri Perry', 'windows', 'Detroit', '2024-01-20', '486', 'Stuck and injured @#$%*&!, lock @#$%*&! handle will not open.']\n",
      "Record Added: tenantid=255, rtid=6, bldgid=4, reqdate='2024-01-20', unit=431, description='No hot water. 11 days. Hope dwindling.', exceptid=8\n",
      "Can't Fix: ['John Clark', '', 'Antietam', '2024-01-21', '105', 'Unexpected a/c incursions.']\n"
     ]
    },
    {
     "name": "stderr",
     "output_type": "stream",
     "text": [
      "/var/folders/96/kzlzzx2556jf68c57bc_gc180000gn/T/ipykernel_56612/996914472.py:50: UserWarning: pandas only supports SQLAlchemy connectable (engine/connection) or database string URI or sqlite3 DBAPI2 connection. Other DBAPI2 objects are not tested. Please consider using SQLAlchemy.\n",
      "  bldgid = pd.read_sql(f'''\n"
     ]
    },
    {
     "name": "stdout",
     "output_type": "stream",
     "text": [
      "Record Added: tenantid=538, rtid=1, bldgid=7, reqdate='2024-01-22', unit=753, description='Slow download of wireless, hopelessness of websites; Internet law suit.', exceptid=10\n",
      "Can't Fix: ['Court Boone', 'connectivity', 'Charleston', '2024-01-22', '', 'Slow download wireless for hopeless websites for.']\n",
      "Record Added: tenantid=116, rtid=2, bldgid=1, reqdate='2024-01-23', unit=176, description='Door wont shut, door refuses the shutting, the door.', exceptid=12\n",
      "Can't Fix: ['Billy Walker', '', 'Antietam', '2024-01-24', '146', 'Experiencing thermostat wheeze.']\n",
      "Record Added: tenantid=495, rtid=3, bldgid=4, reqdate='2024-01-25', unit=413, description='Hopeless light switches demean us all.', exceptid=14\n",
      "Can't Fix: ['Shane-O', 'electrical', 'Frederick', '2024-01-26', '685', 'Darkness, switches of darkness, the fridge LED wire explodes.']\n",
      "Can't Fix: ['Sandra Garcia', '', '', '2024-01-26', '', 'Having trouble.']\n",
      "Can't Fix: ['Sandra Glass', 'plumbing', 'Bull Run', '2024-01-26', '', 'With plunger toilet squeak and chains rattle.']\n",
      "Can't Fix: ['Gina Edwards', 'connectivity', '', '2024-01-26', '', 'Wireless wifi websites wont work.']\n",
      "Record Added: tenantid=610, rtid=3, bldgid=2, reqdate='2024-01-26', unit=293, description='Forever sparks and danger, and yet I glow like the hallway specter.', exceptid=19\n",
      "Can't Fix: ['', 'doors', 'Hudson', '2024-01-27', '841', 'Might might highly might.']\n",
      "Record Added: tenantid=455, rtid=5, bldgid=2, reqdate='2024-01-18', unit=268, description='Aircon sounds like a ghost lives inside it.', exceptid=4\n",
      "Record Added: tenantid=593, rtid=1, bldgid=3, reqdate='2024-01-19', unit=331, description='Internet running at 270 bits per second.', exceptid=5\n",
      "Record Added: tenantid=504, rtid=2, bldgid=3, reqdate='2024-01-21', unit=345, description='Door bashed with an axe bashed with an axe trapped locked inside.', exceptid=7\n"
     ]
    }
   ],
   "source": [
    "# 6\n",
    "query = '''SELECT * FROM exceptionlog where fixstamp is null;'''\n",
    "df = pd.read_sql(query, conn)\n",
    "\n",
    "last_valid_date = None  # For tracking the last valid date\n",
    "\n",
    "for x in df.index:\n",
    "    exceptid = df['exceptid'].loc[x]\n",
    "    record = df['record'].loc[x].split('|')\n",
    "    customer = record[0]\n",
    "    type = record[1]\n",
    "    building = record[2]\n",
    "    date = record[3]\n",
    "    unit = record[4]\n",
    "    description = record[5]\n",
    "    \n",
    "    can_fix = True\n",
    "    \n",
    "    # Customer\n",
    "    tenants = pd.read_sql(\"SELECT tenantid, CONCAT(fname, ' ', lname) AS full_name FROM tenant;\", conn)\n",
    "    tenant_names = tenants['full_name'].tolist()\n",
    "    \n",
    "    if ' ' not in customer and customer:\n",
    "        can_fix = False\n",
    "    elif customer not in tenant_names:\n",
    "        can_fix = False\n",
    "    else:\n",
    "        tenantid = tenants.loc[tenants['full_name'] == customer, 'tenantid'].iloc[0]\n",
    "        \n",
    "    # Type\n",
    "    types = pd.read_sql(\"SELECT * FROM reqtype\", conn)\n",
    "    valid_types = ['connectivity', 'doors', 'electrical', 'hvac', 'plumbing', 'windows', 'other']\n",
    "    \n",
    "    if type not in valid_types or not type:\n",
    "        if 'internet' in description.lower():\n",
    "            rtid = types.loc[types['typename'] == 'connectivity', 'rtid'].iloc[0]\n",
    "        elif type == 'outlets':\n",
    "            rtid = types.loc[types['typename'] == 'electrical', 'rtid'].iloc[0]\n",
    "        else:\n",
    "            can_fix = False\n",
    "    else:\n",
    "        rtid = types.loc[types['typename'] == type, 'rtid'].iloc[0]\n",
    "        \n",
    "    # Building\n",
    "    if building not in ['Antietam', 'Bull Run', 'Charleston', 'Detroit', 'Elkins Ferry', 'Fredericksburg', 'Gettysburg', 'Hudson'] or not building:\n",
    "        if not unit:\n",
    "            can_fix = False\n",
    "        try:\n",
    "            unit = int(unit)\n",
    "            bldgid = pd.read_sql(f'''\n",
    "            SELECT bldgid FROM building \n",
    "            WHERE CAST(split_part(unitrange, '-', 1) AS INTEGER) <= {unit}\n",
    "            AND CAST(split_part(unitrange, '-', 2) AS INTEGER) >= {unit};\n",
    "            ''', conn)['bldgid'].iloc[0]\n",
    "        except (ValueError, IndexError):\n",
    "            can_fix = False\n",
    "    else:\n",
    "        bldgid = pd.read_sql(f\"SELECT bldgid FROM building WHERE bldgname = '{building}'\", conn)['bldgid'].iloc[0]\n",
    "        \n",
    "    # Date\n",
    "    if not date:\n",
    "        if exceptid == 1:\n",
    "            can_fix = False\n",
    "        else:\n",
    "            date = last_valid_date\n",
    "    else:\n",
    "        try:\n",
    "            date_obj = datetime.strptime(date, '%Y-%m-%d')\n",
    "            if date_obj.year != datetime.now().year or date_obj > datetime.now():\n",
    "                if exceptid == 1:\n",
    "                    can_fix = False\n",
    "                date = last_valid_date\n",
    "            else:\n",
    "                date = date_obj.strftime('%Y-%m-%d')\n",
    "                last_valid_date = date\n",
    "        except ValueError:\n",
    "            if exceptid == 1:\n",
    "                can_fix = False\n",
    "            date = last_valid_date\n",
    "            \n",
    "    # If record can be fixed\n",
    "    if can_fix and description and unit:\n",
    "        query = f'''\n",
    "        INSERT INTO servreq (tenantid, rtid, bldgid, reqdate, unit, reqdescription, exceptid)\n",
    "        VALUES ({tenantid}, {rtid}, {bldgid}, '{date}', {unit}, '{description}', {exceptid})\n",
    "        '''\n",
    "        cursor.execute(query)\n",
    "        \n",
    "        query = f'''\n",
    "        UPDATE exceptionlog \n",
    "        SET fixstamp = CURRENT_TIMESTAMP \n",
    "        WHERE exceptid = {exceptid}\n",
    "        '''\n",
    "        cursor.execute(query)\n",
    "        \n",
    "        conn.commit()\n",
    "        recordvalue = f\"tenantid={tenantid}, rtid={rtid}, bldgid={bldgid}, reqdate='{date}', unit={unit}, description='{description}', exceptid={exceptid}\"\n",
    "        print(f\"Record Added: {recordvalue}\")\n",
    "    else:\n",
    "        print(f\"Can't Fix: {record}\")"
   ]
  },
  {
   "cell_type": "code",
   "execution_count": 60,
   "id": "f7ce8872-da1e-4e55-9e21-93d56bc6b933",
   "metadata": {
    "tags": []
   },
   "outputs": [
    {
     "name": "stdout",
     "output_type": "stream",
     "text": [
      "\n",
      "Fixed Records in ServReq:\n",
      "   srid  tenantid  rtid  bldgid     reqdate  unit  exceptid\n",
      "0   115       255     6       4  2024-01-20   431         8\n",
      "1   116       538     1       7  2024-01-22   753        10\n",
      "2   117       116     2       1  2024-01-23   176        12\n",
      "3   118       495     3       4  2024-01-25   413        14\n",
      "4   119       610     3       2  2024-01-26   293        19\n",
      "5   120       455     5       2  2024-01-18   268         4\n",
      "6   121       593     1       3  2024-01-19   331         5\n",
      "7   122       504     2       3  2024-01-21   345         7\n"
     ]
    },
    {
     "name": "stderr",
     "output_type": "stream",
     "text": [
      "/var/folders/96/kzlzzx2556jf68c57bc_gc180000gn/T/ipykernel_56612/4061863984.py:8: UserWarning: pandas only supports SQLAlchemy connectable (engine/connection) or database string URI or sqlite3 DBAPI2 connection. Other DBAPI2 objects are not tested. Please consider using SQLAlchemy.\n",
      "  fixed_records = pd.read_sql(query, conn)\n"
     ]
    }
   ],
   "source": [
    "# 7\n",
    "query = '''\n",
    "SELECT srid, tenantid, rtid, bldgid, reqdate, unit, exceptid \n",
    "FROM servreq \n",
    "WHERE exceptid IS NOT NULL \n",
    "ORDER BY srid;\n",
    "'''\n",
    "fixed_records = pd.read_sql(query, conn)\n",
    "print(\"\\nFixed Records in ServReq:\")\n",
    "print(fixed_records)"
   ]
  },
  {
   "cell_type": "code",
   "execution_count": 62,
   "id": "f9c30c7f-34e8-40b8-99e7-70e2ecd94c88",
   "metadata": {
    "tags": []
   },
   "outputs": [
    {
     "name": "stdout",
     "output_type": "stream",
     "text": [
      "\n",
      "Fixed Records in ExceptionLog:\n",
      "   exceptid                                             record  \\\n",
      "0         4  Rhonda Carter|hvac||2024-01-18|268|Aircon soun...   \n",
      "1         5  Willie Greene||Charleston|2024-01-19|331|Inter...   \n",
      "2         7  Victoria Ward|doors||2024-01-21|345|Door bashe...   \n",
      "3         8  Jerry Massey|plumbing|Detroit||431|No hot wate...   \n",
      "4        10  Shannon Ramos|connectivity||2024-01-22|753|Slo...   \n",
      "5        12  Darryl Vazquez|doors|Antietam|2024-01-23|176|D...   \n",
      "6        14  Laurie Lopez|electrical||2024-01-25|413|Hopele...   \n",
      "7        19  Gabriela Carter|outlets|Bull Run|2024-01-26|29...   \n",
      "\n",
      "                    fixstamp  \n",
      "0 2024-10-23 07:12:19.272702  \n",
      "1 2024-10-23 07:12:19.846583  \n",
      "2 2024-10-23 07:12:20.276736  \n",
      "3 2024-10-23 07:12:03.558648  \n",
      "4 2024-10-23 07:12:16.471747  \n",
      "5 2024-10-23 07:12:17.131237  \n",
      "6 2024-10-23 07:12:17.737499  \n",
      "7 2024-10-23 07:12:18.280289  \n"
     ]
    },
    {
     "name": "stderr",
     "output_type": "stream",
     "text": [
      "/var/folders/96/kzlzzx2556jf68c57bc_gc180000gn/T/ipykernel_56612/3681207989.py:8: UserWarning: pandas only supports SQLAlchemy connectable (engine/connection) or database string URI or sqlite3 DBAPI2 connection. Other DBAPI2 objects are not tested. Please consider using SQLAlchemy.\n",
      "  fixed_exceptions = pd.read_sql(query, conn)\n"
     ]
    }
   ],
   "source": [
    "# 8\n",
    "query = '''\n",
    "SELECT exceptid, record, fixstamp \n",
    "FROM exceptionlog \n",
    "WHERE fixstamp IS NOT NULL \n",
    "ORDER BY exceptid;\n",
    "'''\n",
    "fixed_exceptions = pd.read_sql(query, conn)\n",
    "print(\"\\nFixed Records in ExceptionLog:\")\n",
    "print(fixed_exceptions)"
   ]
  },
  {
   "cell_type": "code",
   "execution_count": 64,
   "id": "a94ff3ff-1f5c-43f3-8adb-35be9cd0a731",
   "metadata": {
    "tags": []
   },
   "outputs": [],
   "source": [
    "# Close Connection\n",
    "cursor.close()\n",
    "conn.close()"
   ]
  }
 ],
 "metadata": {
  "kernelspec": {
   "display_name": "Python 3 (ipykernel)",
   "language": "python",
   "name": "python3"
  },
  "language_info": {
   "codemirror_mode": {
    "name": "ipython",
    "version": 3
   },
   "file_extension": ".py",
   "mimetype": "text/x-python",
   "name": "python",
   "nbconvert_exporter": "python",
   "pygments_lexer": "ipython3",
   "version": "3.11.5"
  }
 },
 "nbformat": 4,
 "nbformat_minor": 5
}
