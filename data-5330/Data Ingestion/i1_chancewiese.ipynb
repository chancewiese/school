{
 "cells": [
  {
   "cell_type": "code",
   "execution_count": 2,
   "id": "962db20a-6b43-4d3a-aadc-abd2b790f081",
   "metadata": {},
   "outputs": [],
   "source": [
    "# 1\n",
    "# Chance Wiese"
   ]
  },
  {
   "cell_type": "code",
   "execution_count": 3,
   "id": "12db060e-a9ea-4d99-ae2b-b3e062af4dc6",
   "metadata": {},
   "outputs": [
    {
     "name": "stdout",
     "output_type": "stream",
     "text": [
      "                         corgname  breed gender  weight  age fromfile\n",
      "corgid                                                               \n",
      "1                   Snappy Ginger    Pem      F      21  3.5     None\n",
      "2                   Golden Graham    Pem      M      30  2.0     None\n",
      "3                          Kraken    Pem     SF      22  3.5     None\n",
      "4                     Snarla June    Pem     SF      29  3.5     None\n",
      "5                 Smiley Shortdog  Cardi     NM      33  4.5     None\n",
      "6                         Stanley    Pem      M      33  3.5     None\n",
      "7                Holden Corgfield    Pem      M      25  4.0     None\n",
      "8           Penny the Shedmonster    Pem      F      20  5.0     None\n",
      "9       Baroness von Fluffyshanks    Pem     SF      22  4.0     None\n",
      "10                     Prometheus    Pem      M      27  5.0     None\n",
      "11                 Foxy Stumptail    Pem     NM      29  5.5     None\n",
      "12                      Drederick    Pem      M      29  4.5     None\n",
      "13              Lady Wigglebottom    Pem      F      28  4.0     None\n",
      "14                       Jedediah    Pem     NM      30  4.0     None\n",
      "15                   Miss Juniper    Pem     SF      21  2.5     None\n",
      "16            Mary Queen of Corgs    Pem     SF      23  4.5     None\n",
      "17                        Oatmeal    Pem     SF      26  5.5     None\n",
      "18                     Cowboy Dan    Pem      M      26  5.5     None\n",
      "19                    Gareth Bale    Pem     NM      31  5.0     None\n",
      "20                  Winston Smith  Cardi      M      32  4.5     None\n",
      "21                          Bucco    Pem      M      32  4.0     None\n",
      "22                       Fruitcup  Cardi      F      23  2.5     None\n",
      "23                      Sweet Dee    Pem     SF      20  5.0     None\n",
      "24                      Stonewall    Pem     NM      29  2.5     None\n",
      "25                 Hywel the Woof    Pem      M      28  2.0     None\n"
     ]
    },
    {
     "name": "stderr",
     "output_type": "stream",
     "text": [
      "C:\\Users\\Chanc\\AppData\\Local\\Temp\\ipykernel_10032\\1924361383.py:20: UserWarning: pandas only supports SQLAlchemy connectable (engine/connection) or database string URI or sqlite3 DBAPI2 connection. Other DBAPI2 objects are not tested. Please consider using SQLAlchemy.\n",
      "  df = pd.read_sql(query, conn, index_col='corgid')\n"
     ]
    }
   ],
   "source": [
    "# 2\n",
    "import pandas as pd\n",
    "import psycopg2\n",
    "\n",
    "conn = psycopg2.connect(\n",
    "    database='corgirace',\n",
    "    user='dw_chancewiese',\n",
    "    password='Spikeball2020',\n",
    "    host='database-1.czsooswggscz.us-east-2.rds.amazonaws.com',\n",
    "    port='5432'\n",
    ")\n",
    "\n",
    "cursor = conn.cursor()\n",
    "\n",
    "query = '''\n",
    "SELECT *\n",
    "FROM corgi;\n",
    "'''\n",
    "\n",
    "df = pd.read_sql(query, conn, index_col='corgid')\n",
    "print(df)"
   ]
  },
  {
   "cell_type": "code",
   "execution_count": 4,
   "id": "c86a49d4-b27c-4492-972c-3a50701b7e8d",
   "metadata": {},
   "outputs": [
    {
     "name": "stdout",
     "output_type": "stream",
     "text": [
      "corgname: Can be a string of up to 30 characters.\n",
      "breed: Can only be 1 of 2 options: 'Pem' or 'Cardi.'\n",
      "gender: Can only be 1 of 4 options: SF, NM, M, F.\n",
      "weight: Positive integer less than 50, as corgis don't get that big.\n",
      "age: Positive number with 1 decimal place, allowing for half-year precision (e.g., 3.0 or 3.5 years).\n"
     ]
    }
   ],
   "source": [
    "# 3\n",
    "print(\"corgname: Can be a string of up to 30 characters.\")\n",
    "print(\"breed: Can only be 1 of 2 options: 'Pem' or 'Cardi.'\")\n",
    "print(\"gender: Can only be 1 of 4 options: SF, NM, M, F.\")\n",
    "print(\"weight: Positive integer less than 50, as corgis don't get that big.\")\n",
    "print(\"age: Positive number with 1 decimal place, allowing for half-year precision (e.g., 3.0 or 3.5 years).\")"
   ]
  },
  {
   "cell_type": "code",
   "execution_count": 5,
   "id": "a3976d1e-2a51-470f-8df9-fa97fc40fcc6",
   "metadata": {},
   "outputs": [],
   "source": [
    "# 4\n",
    "cursor.execute('''\n",
    "CREATE TABLE IF NOT EXISTS ingest (\n",
    "    filename VARCHAR(255) PRIMARY KEY,\n",
    "    whendone TIMESTAMP NOT NULL\n",
    ");\n",
    "''')\n",
    "\n",
    "conn.commit()"
   ]
  },
  {
   "cell_type": "code",
   "execution_count": 6,
   "id": "e6ca3c5b-c3ed-4a72-b2e3-8dc716aa0072",
   "metadata": {},
   "outputs": [
    {
     "name": "stdout",
     "output_type": "stream",
     "text": [
      "                     corgname fromfile\n",
      "0               Snappy Ginger     None\n",
      "1               Golden Graham     None\n",
      "2                      Kraken     None\n",
      "3                 Snarla June     None\n",
      "4             Smiley Shortdog     None\n",
      "5                     Stanley     None\n",
      "6            Holden Corgfield     None\n",
      "7       Penny the Shedmonster     None\n",
      "8   Baroness von Fluffyshanks     None\n",
      "9                  Prometheus     None\n",
      "10             Foxy Stumptail     None\n",
      "11                  Drederick     None\n",
      "12          Lady Wigglebottom     None\n",
      "13                   Jedediah     None\n",
      "14               Miss Juniper     None\n",
      "15        Mary Queen of Corgs     None\n",
      "16                    Oatmeal     None\n",
      "17                 Cowboy Dan     None\n",
      "18                Gareth Bale     None\n",
      "19              Winston Smith     None\n",
      "20                      Bucco     None\n",
      "21                   Fruitcup     None\n",
      "22                  Sweet Dee     None\n",
      "23                  Stonewall     None\n",
      "24             Hywel the Woof     None\n"
     ]
    },
    {
     "name": "stderr",
     "output_type": "stream",
     "text": [
      "C:\\Users\\Chanc\\AppData\\Local\\Temp\\ipykernel_10032\\2746114488.py:14: UserWarning: pandas only supports SQLAlchemy connectable (engine/connection) or database string URI or sqlite3 DBAPI2 connection. Other DBAPI2 objects are not tested. Please consider using SQLAlchemy.\n",
      "  df = pd.read_sql(query, conn)\n"
     ]
    }
   ],
   "source": [
    "# 5\n",
    "cursor.execute('''\n",
    "ALTER TABLE corgi\n",
    "ADD COLUMN IF NOT EXISTS fromfile VARCHAR(255);\n",
    "''')\n",
    "\n",
    "conn.commit()\n",
    "\n",
    "query = '''\n",
    "SELECT corgname, fromfile\n",
    "FROM corgi;\n",
    "'''\n",
    "\n",
    "df = pd.read_sql(query, conn)\n",
    "print(df)"
   ]
  },
  {
   "cell_type": "code",
   "execution_count": 7,
   "id": "6b2ab4c5-7c47-4813-91af-0966d22404aa",
   "metadata": {},
   "outputs": [
    {
     "name": "stdout",
     "output_type": "stream",
     "text": [
      "The file 'newcorgis-20220618.csv' has been accepted for processing.\n",
      "\n",
      "Cleaned data:\n",
      "               Name  Breed Gender  Weight  Age\n",
      "0         Francine    Pem      F      24  3.5\n",
      "1         Prudence    Pem     SF      29  4.0\n",
      "2        Fort Knox  Cardi     NM      34  3.5\n",
      "3          Gruyere    Pem     SF      22  1.5\n",
      "4     Sir Barxalot    Pem      M      26  2.0\n",
      "5      Tuning Fork  Cardi     NM      29  2.0\n",
      "6          Wiffles    Pem     SF      23  5.0\n",
      "7           Wumpus    Pem      F      26  1.0\n",
      "8  Qween Kanonball    Pem      F      29  3.5\n",
      "Record created for Francine\n",
      "Record created for Prudence\n",
      "Record created for Fort Knox\n",
      "Record created for Gruyere\n",
      "Record created for Sir Barxalot\n",
      "Record created for Tuning Fork\n",
      "Record created for Wiffles\n",
      "Record created for Wumpus\n",
      "Record created for Qween Kanonball\n",
      "Ingestion complete for newcorgis-20220618.csv.\n"
     ]
    },
    {
     "name": "stderr",
     "output_type": "stream",
     "text": [
      "C:\\Users\\Chanc\\AppData\\Local\\Temp\\ipykernel_10032\\3875003940.py:58: UserWarning: pandas only supports SQLAlchemy connectable (engine/connection) or database string URI or sqlite3 DBAPI2 connection. Other DBAPI2 objects are not tested. Please consider using SQLAlchemy.\n",
      "  df_ingest = pd.read_sql(query, conn)\n"
     ]
    },
    {
     "name": "stdout",
     "output_type": "stream",
     "text": [
      "\n",
      "Ingest Validation:\n",
      "                  filename                   whendone\n",
      "0  newcorgis-20220618.csv 2024-10-07 03:15:29.154882\n"
     ]
    }
   ],
   "source": [
    "# 6\n",
    "csvname = \"newcorgis-20220618.csv\"\n",
    "\n",
    "query = f'''\n",
    "SELECT COUNT(*)\n",
    "FROM ingest\n",
    "WHERE filename = '{csvname}'\n",
    "'''\n",
    "\n",
    "cursor.execute(query)\n",
    "count = cursor.fetchone()[0]\n",
    "\n",
    "if count > 0:\n",
    "    print(f\"The file '{csvname}' has already been processed.\")\n",
    "else:\n",
    "    print(f\"The file '{csvname}' has been accepted for processing.\")\n",
    "\n",
    "    df2 = pd.read_csv(csvname)\n",
    "\n",
    "    # Data Cleaning\n",
    "    df2['Breed'] = df2['Breed'].replace({'PWC': 'Pem', 'CWC': 'Cardi'}) # Breed\n",
    "    df2['Gender'] = df2['Gender'].replace({'Fem': 'F'}) # Gender\n",
    "    df2['Weight'] = df2['Weight'].round().astype(int) # Weight\n",
    "    df2['Age'] = (df2['Age'] * 2).round() / 2 # Age\n",
    "\n",
    "    print(\"\\nCleaned data:\\n\", df2, \"\\n\")\n",
    "\n",
    "    # Load corgi\n",
    "    for x in df2.index:\n",
    "        cursor.execute(f'''\n",
    "        INSERT INTO corgi (corgname, breed, gender, weight, age, fromfile)\n",
    "        VALUES (\n",
    "            '{df2['Name'].loc[x]}',\n",
    "            '{df2['Breed'].loc[x]}',\n",
    "            '{df2['Gender'].loc[x]}',\n",
    "            '{df2['Weight'].loc[x]}',\n",
    "            '{df2['Age'].loc[x]}',\n",
    "            '{csvname}');\n",
    "        ''')\n",
    "        print(f\"Record created for {df2['Name'].loc[x]}\")\n",
    "\n",
    "    conn.commit()\n",
    "\n",
    "    # Load ingest\n",
    "    cursor.execute(f'''\n",
    "    INSERT INTO ingest (filename, whendone)\n",
    "    VALUES ('{csvname}', current_timestamp);\n",
    "    ''')\n",
    "\n",
    "    conn.commit()\n",
    "    print(f\"Ingestion complete for {csvname}.\")\n",
    "\n",
    "    query = f'''\n",
    "        SELECT *\n",
    "        FROM ingest\n",
    "        WHERE filename = '{csvname}';\n",
    "        '''\n",
    "    df_ingest = pd.read_sql(query, conn)\n",
    "    print(\"\\nIngest Validation:\\n\", df_ingest)"
   ]
  },
  {
   "cell_type": "code",
   "execution_count": 15,
   "id": "e4a1152b-c2ce-4f03-a5bb-f64026d4c2f4",
   "metadata": {},
   "outputs": [
    {
     "name": "stderr",
     "output_type": "stream",
     "text": [
      "C:\\Users\\Chanc\\AppData\\Local\\Temp\\ipykernel_10032\\1607585902.py:7: UserWarning: pandas only supports SQLAlchemy connectable (engine/connection) or database string URI or sqlite3 DBAPI2 connection. Other DBAPI2 objects are not tested. Please consider using SQLAlchemy.\n",
      "  dfv = pd.read_sql(query, conn, index_col='corgid')\n"
     ]
    },
    {
     "ename": "InterfaceError",
     "evalue": "connection already closed",
     "output_type": "error",
     "traceback": [
      "\u001b[1;31m---------------------------------------------------------------------------\u001b[0m",
      "\u001b[1;31mInterfaceError\u001b[0m                            Traceback (most recent call last)",
      "Cell \u001b[1;32mIn[15], line 7\u001b[0m\n\u001b[0;32m      1\u001b[0m \u001b[38;5;66;03m# 7\u001b[39;00m\n\u001b[0;32m      2\u001b[0m query \u001b[38;5;241m=\u001b[39m \u001b[38;5;124mf\u001b[39m\u001b[38;5;124m'''\u001b[39m\n\u001b[0;32m      3\u001b[0m \u001b[38;5;124mSELECT *\u001b[39m\n\u001b[0;32m      4\u001b[0m \u001b[38;5;124mFROM corgi\u001b[39m\n\u001b[0;32m      5\u001b[0m \u001b[38;5;124mWHERE fromfile = \u001b[39m\u001b[38;5;124m'\u001b[39m\u001b[38;5;132;01m{\u001b[39;00mcsvname\u001b[38;5;132;01m}\u001b[39;00m\u001b[38;5;124m'\u001b[39m\u001b[38;5;124m;\u001b[39m\n\u001b[0;32m      6\u001b[0m \u001b[38;5;124m'''\u001b[39m\n\u001b[1;32m----> 7\u001b[0m dfv \u001b[38;5;241m=\u001b[39m pd\u001b[38;5;241m.\u001b[39mread_sql(query, conn, index_col\u001b[38;5;241m=\u001b[39m\u001b[38;5;124m'\u001b[39m\u001b[38;5;124mcorgid\u001b[39m\u001b[38;5;124m'\u001b[39m)\n\u001b[0;32m      8\u001b[0m \u001b[38;5;28mprint\u001b[39m(\u001b[38;5;124m\"\u001b[39m\u001b[38;5;130;01m\\n\u001b[39;00m\u001b[38;5;124mCorgi Validation:\u001b[39m\u001b[38;5;130;01m\\n\u001b[39;00m\u001b[38;5;124m\"\u001b[39m, dfv)\n",
      "File \u001b[1;32m~\\anaconda3\\Lib\\site-packages\\pandas\\io\\sql.py:706\u001b[0m, in \u001b[0;36mread_sql\u001b[1;34m(sql, con, index_col, coerce_float, params, parse_dates, columns, chunksize, dtype_backend, dtype)\u001b[0m\n\u001b[0;32m    704\u001b[0m \u001b[38;5;28;01mwith\u001b[39;00m pandasSQL_builder(con) \u001b[38;5;28;01mas\u001b[39;00m pandas_sql:\n\u001b[0;32m    705\u001b[0m     \u001b[38;5;28;01mif\u001b[39;00m \u001b[38;5;28misinstance\u001b[39m(pandas_sql, SQLiteDatabase):\n\u001b[1;32m--> 706\u001b[0m         \u001b[38;5;28;01mreturn\u001b[39;00m pandas_sql\u001b[38;5;241m.\u001b[39mread_query(\n\u001b[0;32m    707\u001b[0m             sql,\n\u001b[0;32m    708\u001b[0m             index_col\u001b[38;5;241m=\u001b[39mindex_col,\n\u001b[0;32m    709\u001b[0m             params\u001b[38;5;241m=\u001b[39mparams,\n\u001b[0;32m    710\u001b[0m             coerce_float\u001b[38;5;241m=\u001b[39mcoerce_float,\n\u001b[0;32m    711\u001b[0m             parse_dates\u001b[38;5;241m=\u001b[39mparse_dates,\n\u001b[0;32m    712\u001b[0m             chunksize\u001b[38;5;241m=\u001b[39mchunksize,\n\u001b[0;32m    713\u001b[0m             dtype_backend\u001b[38;5;241m=\u001b[39mdtype_backend,\n\u001b[0;32m    714\u001b[0m             dtype\u001b[38;5;241m=\u001b[39mdtype,\n\u001b[0;32m    715\u001b[0m         )\n\u001b[0;32m    717\u001b[0m     \u001b[38;5;28;01mtry\u001b[39;00m:\n\u001b[0;32m    718\u001b[0m         _is_table_name \u001b[38;5;241m=\u001b[39m pandas_sql\u001b[38;5;241m.\u001b[39mhas_table(sql)\n",
      "File \u001b[1;32m~\\anaconda3\\Lib\\site-packages\\pandas\\io\\sql.py:2738\u001b[0m, in \u001b[0;36mSQLiteDatabase.read_query\u001b[1;34m(self, sql, index_col, coerce_float, parse_dates, params, chunksize, dtype, dtype_backend)\u001b[0m\n\u001b[0;32m   2727\u001b[0m \u001b[38;5;28;01mdef\u001b[39;00m \u001b[38;5;21mread_query\u001b[39m(\n\u001b[0;32m   2728\u001b[0m     \u001b[38;5;28mself\u001b[39m,\n\u001b[0;32m   2729\u001b[0m     sql,\n\u001b[1;32m   (...)\u001b[0m\n\u001b[0;32m   2736\u001b[0m     dtype_backend: DtypeBackend \u001b[38;5;241m|\u001b[39m Literal[\u001b[38;5;124m\"\u001b[39m\u001b[38;5;124mnumpy\u001b[39m\u001b[38;5;124m\"\u001b[39m] \u001b[38;5;241m=\u001b[39m \u001b[38;5;124m\"\u001b[39m\u001b[38;5;124mnumpy\u001b[39m\u001b[38;5;124m\"\u001b[39m,\n\u001b[0;32m   2737\u001b[0m ) \u001b[38;5;241m-\u001b[39m\u001b[38;5;241m>\u001b[39m DataFrame \u001b[38;5;241m|\u001b[39m Iterator[DataFrame]:\n\u001b[1;32m-> 2738\u001b[0m     cursor \u001b[38;5;241m=\u001b[39m \u001b[38;5;28mself\u001b[39m\u001b[38;5;241m.\u001b[39mexecute(sql, params)\n\u001b[0;32m   2739\u001b[0m     columns \u001b[38;5;241m=\u001b[39m [col_desc[\u001b[38;5;241m0\u001b[39m] \u001b[38;5;28;01mfor\u001b[39;00m col_desc \u001b[38;5;129;01min\u001b[39;00m cursor\u001b[38;5;241m.\u001b[39mdescription]\n\u001b[0;32m   2741\u001b[0m     \u001b[38;5;28;01mif\u001b[39;00m chunksize \u001b[38;5;129;01mis\u001b[39;00m \u001b[38;5;129;01mnot\u001b[39;00m \u001b[38;5;28;01mNone\u001b[39;00m:\n",
      "File \u001b[1;32m~\\anaconda3\\Lib\\site-packages\\pandas\\io\\sql.py:2672\u001b[0m, in \u001b[0;36mSQLiteDatabase.execute\u001b[1;34m(self, sql, params)\u001b[0m\n\u001b[0;32m   2670\u001b[0m     \u001b[38;5;28;01mraise\u001b[39;00m \u001b[38;5;167;01mTypeError\u001b[39;00m(\u001b[38;5;124m\"\u001b[39m\u001b[38;5;124mQuery must be a string unless using sqlalchemy.\u001b[39m\u001b[38;5;124m\"\u001b[39m)\n\u001b[0;32m   2671\u001b[0m args \u001b[38;5;241m=\u001b[39m [] \u001b[38;5;28;01mif\u001b[39;00m params \u001b[38;5;129;01mis\u001b[39;00m \u001b[38;5;28;01mNone\u001b[39;00m \u001b[38;5;28;01melse\u001b[39;00m [params]\n\u001b[1;32m-> 2672\u001b[0m cur \u001b[38;5;241m=\u001b[39m \u001b[38;5;28mself\u001b[39m\u001b[38;5;241m.\u001b[39mcon\u001b[38;5;241m.\u001b[39mcursor()\n\u001b[0;32m   2673\u001b[0m \u001b[38;5;28;01mtry\u001b[39;00m:\n\u001b[0;32m   2674\u001b[0m     cur\u001b[38;5;241m.\u001b[39mexecute(sql, \u001b[38;5;241m*\u001b[39margs)\n",
      "\u001b[1;31mInterfaceError\u001b[0m: connection already closed"
     ]
    }
   ],
   "source": [
    "# 7\n",
    "query = f'''\n",
    "SELECT *\n",
    "FROM corgi\n",
    "WHERE fromfile = '{csvname}';\n",
    "'''\n",
    "dfv = pd.read_sql(query, conn, index_col='corgid')\n",
    "print(\"\\nCorgi Validation:\\n\", dfv)"
   ]
  },
  {
   "cell_type": "code",
   "execution_count": 13,
   "id": "c61e9973-f60d-459b-a1a3-eb35d57f79c1",
   "metadata": {},
   "outputs": [],
   "source": [
    "cursor.close()\n",
    "conn.close()"
   ]
  }
 ],
 "metadata": {
  "kernelspec": {
   "display_name": "Python 3 (ipykernel)",
   "language": "python",
   "name": "python3"
  },
  "language_info": {
   "codemirror_mode": {
    "name": "ipython",
    "version": 3
   },
   "file_extension": ".py",
   "mimetype": "text/x-python",
   "name": "python",
   "nbconvert_exporter": "python",
   "pygments_lexer": "ipython3",
   "version": "3.12.4"
  }
 },
 "nbformat": 4,
 "nbformat_minor": 5
}
