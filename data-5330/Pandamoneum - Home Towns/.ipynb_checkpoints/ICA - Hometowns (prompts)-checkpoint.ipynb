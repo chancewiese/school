{
 "cells": [
  {
   "cell_type": "code",
   "execution_count": 1,
   "id": "70425187",
   "metadata": {
    "tags": []
   },
   "outputs": [
    {
     "name": "stdout",
     "output_type": "stream",
     "text": [
      "           Dates           Location\n",
      "0      1972-1990    Federal Way, WA\n",
      "1      1990-1991          Provo, UT\n",
      "2      1991-1993    Dresden, Saxony\n",
      "3      1993-1997          Provo, UT\n",
      "4      1997-1997         Boston, MA\n",
      "5      1997-1998     Twin Falls, ID\n",
      "6      1998-2000        La Mesa, CA\n",
      "7      2000-2004  Mission Viejo, CA\n",
      "8      2004-2005           Lehi, UT\n",
      "9      2005-2006  New York City, NY\n",
      "10     2006-2009  Mission Viejo, CA\n",
      "11     2009-2010        La Mesa, CA\n",
      "12     2010-2014     Pittsburgh, PA\n",
      "13     2014-2017         Norman, OK\n",
      "14     2017-2020  River Heights, UT\n",
      "15  2020-Present          Logan, UT\n"
     ]
    }
   ],
   "source": [
    "# Take a look at the .csv called 'hometowns.csv', note the problem with the header rows.\n",
    "# Import Pandas and read the .csv called 'hometowns.csv' into a dataframe making \n",
    "# sure you get the right # headers in place (as column names). \n",
    "# Hint: use the \"skiprows\" parameter of pd.read_csv().\n",
    "import pandas as pd\n",
    "import numpy as np\n",
    "df = pd.read_csv('hometowns.csv', skiprows=2)\n",
    "print(df)"
   ]
  },
  {
   "cell_type": "code",
   "execution_count": 2,
   "id": "8f54dd24",
   "metadata": {
    "tags": []
   },
   "outputs": [
    {
     "name": "stdout",
     "output_type": "stream",
     "text": [
      "           Dates           Location Start      End\n",
      "0      1972-1990    Federal Way, WA  1972     1990\n",
      "1      1990-1991          Provo, UT  1990     1991\n",
      "2      1991-1993    Dresden, Saxony  1991     1993\n",
      "3      1993-1997          Provo, UT  1993     1997\n",
      "4      1997-1997         Boston, MA  1997     1997\n",
      "5      1997-1998     Twin Falls, ID  1997     1998\n",
      "6      1998-2000        La Mesa, CA  1998     2000\n",
      "7      2000-2004  Mission Viejo, CA  2000     2004\n",
      "8      2004-2005           Lehi, UT  2004     2005\n",
      "9      2005-2006  New York City, NY  2005     2006\n",
      "10     2006-2009  Mission Viejo, CA  2006     2009\n",
      "11     2009-2010        La Mesa, CA  2009     2010\n",
      "12     2010-2014     Pittsburgh, PA  2010     2014\n",
      "13     2014-2017         Norman, OK  2014     2017\n",
      "14     2017-2020  River Heights, UT  2017     2020\n",
      "15  2020-Present          Logan, UT  2020  Present\n"
     ]
    }
   ],
   "source": [
    "# Create a column called Start and a column called End based on the content of\n",
    "# the Dates column.\n",
    "df[['Start', 'End']] = df['Dates'].str.split('-', expand=True)\n",
    "print(df)"
   ]
  },
  {
   "cell_type": "code",
   "execution_count": 3,
   "id": "c8e39d07",
   "metadata": {
    "tags": []
   },
   "outputs": [
    {
     "name": "stdout",
     "output_type": "stream",
     "text": [
      "2024\n"
     ]
    }
   ],
   "source": [
    "# Import the date function from the datetime module, then create a variable called\n",
    "# year equal to the current year. Then print the value of year.\n",
    "from datetime import date \n",
    "current_year = date.today().year\n",
    "print(current_year)"
   ]
  },
  {
   "cell_type": "code",
   "execution_count": 4,
   "id": "24726be3",
   "metadata": {},
   "outputs": [],
   "source": [
    "# We want to be able to calculate the duration (years spent in a location).\n",
    "# What data point would prevent us from doing that?\n",
    "\n",
    "## Item 15, 2020-Present. Present would pull up issues as it's not a number"
   ]
  },
  {
   "cell_type": "code",
   "execution_count": 5,
   "id": "d5a01e4f",
   "metadata": {
    "tags": []
   },
   "outputs": [
    {
     "name": "stdout",
     "output_type": "stream",
     "text": [
      "           Dates           Location Start   End\n",
      "0      1972-1990    Federal Way, WA  1972  1990\n",
      "1      1990-1991          Provo, UT  1990  1991\n",
      "2      1991-1993    Dresden, Saxony  1991  1993\n",
      "3      1993-1997          Provo, UT  1993  1997\n",
      "4      1997-1997         Boston, MA  1997  1997\n",
      "5      1997-1998     Twin Falls, ID  1997  1998\n",
      "6      1998-2000        La Mesa, CA  1998  2000\n",
      "7      2000-2004  Mission Viejo, CA  2000  2004\n",
      "8      2004-2005           Lehi, UT  2004  2005\n",
      "9      2005-2006  New York City, NY  2005  2006\n",
      "10     2006-2009  Mission Viejo, CA  2006  2009\n",
      "11     2009-2010        La Mesa, CA  2009  2010\n",
      "12     2010-2014     Pittsburgh, PA  2010  2014\n",
      "13     2014-2017         Norman, OK  2014  2017\n",
      "14     2017-2020  River Heights, UT  2017  2020\n",
      "15  2020-Present          Logan, UT  2020  2024\n"
     ]
    }
   ],
   "source": [
    "# Replace the word Present -- make it equal to the value of the current year.\n",
    "df['End'].replace(to_replace='Present', value=current_year, inplace=True)\n",
    "print(df)"
   ]
  },
  {
   "cell_type": "code",
   "execution_count": 6,
   "id": "ca9e0e63",
   "metadata": {},
   "outputs": [
    {
     "ename": "TypeError",
     "evalue": "unsupported operand type(s) for -: 'str' and 'str'",
     "output_type": "error",
     "traceback": [
      "\u001b[0;31m---------------------------------------------------------------------------\u001b[0m",
      "\u001b[0;31mTypeError\u001b[0m                                 Traceback (most recent call last)",
      "File \u001b[0;32m~/anaconda3/lib/python3.11/site-packages/pandas/core/ops/array_ops.py:171\u001b[0m, in \u001b[0;36m_na_arithmetic_op\u001b[0;34m(left, right, op, is_cmp)\u001b[0m\n\u001b[1;32m    170\u001b[0m \u001b[38;5;28;01mtry\u001b[39;00m:\n\u001b[0;32m--> 171\u001b[0m     result \u001b[38;5;241m=\u001b[39m func(left, right)\n\u001b[1;32m    172\u001b[0m \u001b[38;5;28;01mexcept\u001b[39;00m \u001b[38;5;167;01mTypeError\u001b[39;00m:\n",
      "File \u001b[0;32m~/anaconda3/lib/python3.11/site-packages/pandas/core/computation/expressions.py:239\u001b[0m, in \u001b[0;36mevaluate\u001b[0;34m(op, a, b, use_numexpr)\u001b[0m\n\u001b[1;32m    237\u001b[0m     \u001b[38;5;28;01mif\u001b[39;00m use_numexpr:\n\u001b[1;32m    238\u001b[0m         \u001b[38;5;66;03m# error: \"None\" not callable\u001b[39;00m\n\u001b[0;32m--> 239\u001b[0m         \u001b[38;5;28;01mreturn\u001b[39;00m _evaluate(op, op_str, a, b)  \u001b[38;5;66;03m# type: ignore[misc]\u001b[39;00m\n\u001b[1;32m    240\u001b[0m \u001b[38;5;28;01mreturn\u001b[39;00m _evaluate_standard(op, op_str, a, b)\n",
      "File \u001b[0;32m~/anaconda3/lib/python3.11/site-packages/pandas/core/computation/expressions.py:128\u001b[0m, in \u001b[0;36m_evaluate_numexpr\u001b[0;34m(op, op_str, a, b)\u001b[0m\n\u001b[1;32m    127\u001b[0m \u001b[38;5;28;01mif\u001b[39;00m result \u001b[38;5;129;01mis\u001b[39;00m \u001b[38;5;28;01mNone\u001b[39;00m:\n\u001b[0;32m--> 128\u001b[0m     result \u001b[38;5;241m=\u001b[39m _evaluate_standard(op, op_str, a, b)\n\u001b[1;32m    130\u001b[0m \u001b[38;5;28;01mreturn\u001b[39;00m result\n",
      "File \u001b[0;32m~/anaconda3/lib/python3.11/site-packages/pandas/core/computation/expressions.py:70\u001b[0m, in \u001b[0;36m_evaluate_standard\u001b[0;34m(op, op_str, a, b)\u001b[0m\n\u001b[1;32m     69\u001b[0m     _store_test_result(\u001b[38;5;28;01mFalse\u001b[39;00m)\n\u001b[0;32m---> 70\u001b[0m \u001b[38;5;28;01mreturn\u001b[39;00m op(a, b)\n",
      "\u001b[0;31mTypeError\u001b[0m: unsupported operand type(s) for -: 'str' and 'str'",
      "\nDuring handling of the above exception, another exception occurred:\n",
      "\u001b[0;31mTypeError\u001b[0m                                 Traceback (most recent call last)",
      "Cell \u001b[0;32mIn[6], line 3\u001b[0m\n\u001b[1;32m      1\u001b[0m \u001b[38;5;66;03m# Now, calculate a new column called Duration equal to the difference\u001b[39;00m\n\u001b[1;32m      2\u001b[0m \u001b[38;5;66;03m# between End and start.\u001b[39;00m\n\u001b[0;32m----> 3\u001b[0m df[\u001b[38;5;124m'\u001b[39m\u001b[38;5;124mDuration\u001b[39m\u001b[38;5;124m'\u001b[39m] \u001b[38;5;241m=\u001b[39m df[\u001b[38;5;124m'\u001b[39m\u001b[38;5;124mEnd\u001b[39m\u001b[38;5;124m'\u001b[39m] \u001b[38;5;241m-\u001b[39m df[\u001b[38;5;124m'\u001b[39m\u001b[38;5;124mStart\u001b[39m\u001b[38;5;124m'\u001b[39m]\n\u001b[1;32m      4\u001b[0m \u001b[38;5;28mprint\u001b[39m(df)\n",
      "File \u001b[0;32m~/anaconda3/lib/python3.11/site-packages/pandas/core/ops/common.py:81\u001b[0m, in \u001b[0;36m_unpack_zerodim_and_defer.<locals>.new_method\u001b[0;34m(self, other)\u001b[0m\n\u001b[1;32m     77\u001b[0m             \u001b[38;5;28;01mreturn\u001b[39;00m \u001b[38;5;28mNotImplemented\u001b[39m\n\u001b[1;32m     79\u001b[0m other \u001b[38;5;241m=\u001b[39m item_from_zerodim(other)\n\u001b[0;32m---> 81\u001b[0m \u001b[38;5;28;01mreturn\u001b[39;00m method(\u001b[38;5;28mself\u001b[39m, other)\n",
      "File \u001b[0;32m~/anaconda3/lib/python3.11/site-packages/pandas/core/arraylike.py:194\u001b[0m, in \u001b[0;36mOpsMixin.__sub__\u001b[0;34m(self, other)\u001b[0m\n\u001b[1;32m    192\u001b[0m \u001b[38;5;129m@unpack_zerodim_and_defer\u001b[39m(\u001b[38;5;124m\"\u001b[39m\u001b[38;5;124m__sub__\u001b[39m\u001b[38;5;124m\"\u001b[39m)\n\u001b[1;32m    193\u001b[0m \u001b[38;5;28;01mdef\u001b[39;00m \u001b[38;5;21m__sub__\u001b[39m(\u001b[38;5;28mself\u001b[39m, other):\n\u001b[0;32m--> 194\u001b[0m     \u001b[38;5;28;01mreturn\u001b[39;00m \u001b[38;5;28mself\u001b[39m\u001b[38;5;241m.\u001b[39m_arith_method(other, operator\u001b[38;5;241m.\u001b[39msub)\n",
      "File \u001b[0;32m~/anaconda3/lib/python3.11/site-packages/pandas/core/series.py:6112\u001b[0m, in \u001b[0;36mSeries._arith_method\u001b[0;34m(self, other, op)\u001b[0m\n\u001b[1;32m   6110\u001b[0m \u001b[38;5;28;01mdef\u001b[39;00m \u001b[38;5;21m_arith_method\u001b[39m(\u001b[38;5;28mself\u001b[39m, other, op):\n\u001b[1;32m   6111\u001b[0m     \u001b[38;5;28mself\u001b[39m, other \u001b[38;5;241m=\u001b[39m ops\u001b[38;5;241m.\u001b[39malign_method_SERIES(\u001b[38;5;28mself\u001b[39m, other)\n\u001b[0;32m-> 6112\u001b[0m     \u001b[38;5;28;01mreturn\u001b[39;00m base\u001b[38;5;241m.\u001b[39mIndexOpsMixin\u001b[38;5;241m.\u001b[39m_arith_method(\u001b[38;5;28mself\u001b[39m, other, op)\n",
      "File \u001b[0;32m~/anaconda3/lib/python3.11/site-packages/pandas/core/base.py:1348\u001b[0m, in \u001b[0;36mIndexOpsMixin._arith_method\u001b[0;34m(self, other, op)\u001b[0m\n\u001b[1;32m   1345\u001b[0m rvalues \u001b[38;5;241m=\u001b[39m ensure_wrapped_if_datetimelike(rvalues)\n\u001b[1;32m   1347\u001b[0m \u001b[38;5;28;01mwith\u001b[39;00m np\u001b[38;5;241m.\u001b[39merrstate(\u001b[38;5;28mall\u001b[39m\u001b[38;5;241m=\u001b[39m\u001b[38;5;124m\"\u001b[39m\u001b[38;5;124mignore\u001b[39m\u001b[38;5;124m\"\u001b[39m):\n\u001b[0;32m-> 1348\u001b[0m     result \u001b[38;5;241m=\u001b[39m ops\u001b[38;5;241m.\u001b[39marithmetic_op(lvalues, rvalues, op)\n\u001b[1;32m   1350\u001b[0m \u001b[38;5;28;01mreturn\u001b[39;00m \u001b[38;5;28mself\u001b[39m\u001b[38;5;241m.\u001b[39m_construct_result(result, name\u001b[38;5;241m=\u001b[39mres_name)\n",
      "File \u001b[0;32m~/anaconda3/lib/python3.11/site-packages/pandas/core/ops/array_ops.py:232\u001b[0m, in \u001b[0;36marithmetic_op\u001b[0;34m(left, right, op)\u001b[0m\n\u001b[1;32m    228\u001b[0m     _bool_arith_check(op, left, right)\n\u001b[1;32m    230\u001b[0m     \u001b[38;5;66;03m# error: Argument 1 to \"_na_arithmetic_op\" has incompatible type\u001b[39;00m\n\u001b[1;32m    231\u001b[0m     \u001b[38;5;66;03m# \"Union[ExtensionArray, ndarray[Any, Any]]\"; expected \"ndarray[Any, Any]\"\u001b[39;00m\n\u001b[0;32m--> 232\u001b[0m     res_values \u001b[38;5;241m=\u001b[39m _na_arithmetic_op(left, right, op)  \u001b[38;5;66;03m# type: ignore[arg-type]\u001b[39;00m\n\u001b[1;32m    234\u001b[0m \u001b[38;5;28;01mreturn\u001b[39;00m res_values\n",
      "File \u001b[0;32m~/anaconda3/lib/python3.11/site-packages/pandas/core/ops/array_ops.py:178\u001b[0m, in \u001b[0;36m_na_arithmetic_op\u001b[0;34m(left, right, op, is_cmp)\u001b[0m\n\u001b[1;32m    172\u001b[0m \u001b[38;5;28;01mexcept\u001b[39;00m \u001b[38;5;167;01mTypeError\u001b[39;00m:\n\u001b[1;32m    173\u001b[0m     \u001b[38;5;28;01mif\u001b[39;00m \u001b[38;5;129;01mnot\u001b[39;00m is_cmp \u001b[38;5;129;01mand\u001b[39;00m (is_object_dtype(left\u001b[38;5;241m.\u001b[39mdtype) \u001b[38;5;129;01mor\u001b[39;00m is_object_dtype(right)):\n\u001b[1;32m    174\u001b[0m         \u001b[38;5;66;03m# For object dtype, fallback to a masked operation (only operating\u001b[39;00m\n\u001b[1;32m    175\u001b[0m         \u001b[38;5;66;03m#  on the non-missing values)\u001b[39;00m\n\u001b[1;32m    176\u001b[0m         \u001b[38;5;66;03m# Don't do this for comparisons, as that will handle complex numbers\u001b[39;00m\n\u001b[1;32m    177\u001b[0m         \u001b[38;5;66;03m#  incorrectly, see GH#32047\u001b[39;00m\n\u001b[0;32m--> 178\u001b[0m         result \u001b[38;5;241m=\u001b[39m _masked_arith_op(left, right, op)\n\u001b[1;32m    179\u001b[0m     \u001b[38;5;28;01melse\u001b[39;00m:\n\u001b[1;32m    180\u001b[0m         \u001b[38;5;28;01mraise\u001b[39;00m\n",
      "File \u001b[0;32m~/anaconda3/lib/python3.11/site-packages/pandas/core/ops/array_ops.py:116\u001b[0m, in \u001b[0;36m_masked_arith_op\u001b[0;34m(x, y, op)\u001b[0m\n\u001b[1;32m    114\u001b[0m     \u001b[38;5;66;03m# See GH#5284, GH#5035, GH#19448 for historical reference\u001b[39;00m\n\u001b[1;32m    115\u001b[0m     \u001b[38;5;28;01mif\u001b[39;00m mask\u001b[38;5;241m.\u001b[39many():\n\u001b[0;32m--> 116\u001b[0m         result[mask] \u001b[38;5;241m=\u001b[39m op(xrav[mask], yrav[mask])\n\u001b[1;32m    118\u001b[0m \u001b[38;5;28;01melse\u001b[39;00m:\n\u001b[1;32m    119\u001b[0m     \u001b[38;5;28;01mif\u001b[39;00m \u001b[38;5;129;01mnot\u001b[39;00m is_scalar(y):\n",
      "\u001b[0;31mTypeError\u001b[0m: unsupported operand type(s) for -: 'str' and 'str'"
     ]
    }
   ],
   "source": [
    "# Now, calculate a new column called Duration equal to the difference\n",
    "# between End and start.\n",
    "df['Duration'] = df['End'] - df['Start']\n",
    "print(df)"
   ]
  },
  {
   "cell_type": "code",
   "execution_count": 17,
   "id": "7e499380",
   "metadata": {},
   "outputs": [
    {
     "name": "stdout",
     "output_type": "stream",
     "text": [
      "           Dates           Location  Start   End  Duration\n",
      "0      1972-1990    Federal Way, WA   1972  1990        18\n",
      "1      1990-1991          Provo, UT   1990  1991         1\n",
      "2      1991-1993    Dresden, Saxony   1991  1993         2\n",
      "3      1993-1997          Provo, UT   1993  1997         4\n",
      "4      1997-1997         Boston, MA   1997  1997         0\n",
      "5      1997-1998     Twin Falls, ID   1997  1998         1\n",
      "6      1998-2000        La Mesa, CA   1998  2000         2\n",
      "7      2000-2004  Mission Viejo, CA   2000  2004         4\n",
      "8      2004-2005           Lehi, UT   2004  2005         1\n",
      "9      2005-2006  New York City, NY   2005  2006         1\n",
      "10     2006-2009  Mission Viejo, CA   2006  2009         3\n",
      "11     2009-2010        La Mesa, CA   2009  2010         1\n",
      "12     2010-2014     Pittsburgh, PA   2010  2014         4\n",
      "13     2014-2017         Norman, OK   2014  2017         3\n",
      "14     2017-2020  River Heights, UT   2017  2020         3\n",
      "15  2020-Present          Logan, UT   2020  2024         4\n"
     ]
    }
   ],
   "source": [
    "# To do that, you need to first change Start and End to numeric values\n",
    "# (using split creates strings, not integers or floats).\n",
    "# Once you've done that, create the Duration column.\n",
    "df['Start'] = df['Start'].astype(int)\n",
    "df['End'] = df['End'].astype(int)\n",
    "df['Duration'] = df['End'] - df['Start']\n",
    "print(df)"
   ]
  },
  {
   "cell_type": "code",
   "execution_count": 21,
   "id": "c4fc7369",
   "metadata": {},
   "outputs": [
    {
     "name": "stdout",
     "output_type": "stream",
     "text": [
      "           Dates           Location  Start   End  Duration           City  \\\n",
      "0      1972-1990    Federal Way, WA   1972  1990        18    Federal Way   \n",
      "1      1990-1991          Provo, UT   1990  1991         1          Provo   \n",
      "2      1991-1993    Dresden, Saxony   1991  1993         2        Dresden   \n",
      "3      1993-1997          Provo, UT   1993  1997         4          Provo   \n",
      "4      1997-1997         Boston, MA   1997  1997         0         Boston   \n",
      "5      1997-1998     Twin Falls, ID   1997  1998         1     Twin Falls   \n",
      "6      1998-2000        La Mesa, CA   1998  2000         2        La Mesa   \n",
      "7      2000-2004  Mission Viejo, CA   2000  2004         4  Mission Viejo   \n",
      "8      2004-2005           Lehi, UT   2004  2005         1           Lehi   \n",
      "9      2005-2006  New York City, NY   2005  2006         1  New York City   \n",
      "10     2006-2009  Mission Viejo, CA   2006  2009         3  Mission Viejo   \n",
      "11     2009-2010        La Mesa, CA   2009  2010         1        La Mesa   \n",
      "12     2010-2014     Pittsburgh, PA   2010  2014         4     Pittsburgh   \n",
      "13     2014-2017         Norman, OK   2014  2017         3         Norman   \n",
      "14     2017-2020  River Heights, UT   2017  2020         3  River Heights   \n",
      "15  2020-Present          Logan, UT   2020  2024         4          Logan   \n",
      "\n",
      "     State  \n",
      "0       WA  \n",
      "1       UT  \n",
      "2   Saxony  \n",
      "3       UT  \n",
      "4       MA  \n",
      "5       ID  \n",
      "6       CA  \n",
      "7       CA  \n",
      "8       UT  \n",
      "9       NY  \n",
      "10      CA  \n",
      "11      CA  \n",
      "12      PA  \n",
      "13      OK  \n",
      "14      UT  \n",
      "15      UT  \n"
     ]
    }
   ],
   "source": [
    "# Create a city column with the city value and a state column with the state value.\n",
    "# Hint: use str.split() again.\n",
    "# (Also, if you were to want to split using parens, you need an escape character, e.g., '\\(')\n",
    "df[['City', 'State']] = df['Location'].str.split(', ', expand=True)\n",
    "print(df)"
   ]
  },
  {
   "cell_type": "code",
   "execution_count": 31,
   "id": "c0180fca",
   "metadata": {},
   "outputs": [
    {
     "name": "stdout",
     "output_type": "stream",
     "text": [
      "    Start   End  Duration           City   State\n",
      "0    1972  1990        18    Federal Way      WA\n",
      "1    1990  1991         1          Provo      UT\n",
      "2    1991  1993         2        Dresden  Saxony\n",
      "3    1993  1997         4          Provo      UT\n",
      "4    1997  1997         0         Boston      MA\n",
      "5    1997  1998         1     Twin Falls      ID\n",
      "6    1998  2000         2        La Mesa      CA\n",
      "7    2000  2004         4  Mission Viejo      CA\n",
      "8    2004  2005         1           Lehi      UT\n",
      "9    2005  2006         1  New York City      NY\n",
      "10   2006  2009         3  Mission Viejo      CA\n",
      "11   2009  2010         1        La Mesa      CA\n",
      "12   2010  2014         4     Pittsburgh      PA\n",
      "13   2014  2017         3         Norman      OK\n",
      "14   2017  2020         3  River Heights      UT\n",
      "15   2020  2024         4          Logan      UT\n"
     ]
    }
   ],
   "source": [
    "# Get rid of the Dates and Location columns from your dataframe.\n",
    "df.drop(columns=['Dates', 'Location'], inplace=True)\n",
    "print(df)"
   ]
  },
  {
   "cell_type": "code",
   "execution_count": 65,
   "id": "a935dbef",
   "metadata": {},
   "outputs": [
    {
     "name": "stdout",
     "output_type": "stream",
     "text": [
      "\"Compiled By: Brian Dunn, Date: September 13, 2022\",\n",
      "\n"
     ]
    }
   ],
   "source": [
    "# Open the .csv as a (python-native) text object, then read the SECOND line into the \n",
    "#variable x.\n",
    "with open('hometowns.csv', 'r') as file:\n",
    "    lines = file.readlines()\n",
    "    x = lines[1]\n",
    "\n",
    "print(x)"
   ]
  },
  {
   "cell_type": "code",
   "execution_count": 148,
   "id": "5136c14f",
   "metadata": {
    "tags": []
   },
   "outputs": [
    {
     "name": "stdout",
     "output_type": "stream",
     "text": [
      "['Compiled By', 'Brian Dunn, Date', 'September 13, 2022']\n"
     ]
    }
   ],
   "source": [
    "# Split the variable x into a list called y and clean up the values so there are no\n",
    "# extraneous characters (spaces, quotes, commas). Output the individual elements \n",
    "# (Created By, # Date, Year). For the Date, add the appropriate \"suffix\" (e.g. \n",
    "# \"rd\" if it's the 23rd). Don't hard-code it.\n",
    "\n",
    "\n",
    "y = [item.strip().strip('\",:') for item in x.split(':')]\n",
    "\n",
    "\n",
    "print(y)"
   ]
  },
  {
   "cell_type": "code",
   "execution_count": 8,
   "id": "6c09a1bf-a773-475b-af0c-cd8adcd7ae50",
   "metadata": {
    "tags": []
   },
   "outputs": [
    {
     "name": "stdout",
     "output_type": "stream",
     "text": [
      "\"Compiled By: Brian Dunn, Date: September 13, 2022\",\n",
      "\n",
      "\"Compiled By: Brian Dunn, Date: September 13, 2022\",\n"
     ]
    }
   ],
   "source": [
    "with open('hometowns.csv', 'r') as file:\n",
    "    lines = file.readlines()\n",
    "    x = lines[1]\n",
    "\n",
    "print(x)\n",
    "\n",
    "x = x.strip()\n",
    "print(x)\n",
    "\n",
    "y = x.split(', ')\n",
    "ldig = y[1][1:]\n",
    "if (ldig =='1'):\n",
    "    suffix = 'st'\n",
    "elif (ldig =='2')"
   ]
  }
 ],
 "metadata": {
  "kernelspec": {
   "display_name": "Python 3 (ipykernel)",
   "language": "python",
   "name": "python3"
  },
  "language_info": {
   "codemirror_mode": {
    "name": "ipython",
    "version": 3
   },
   "file_extension": ".py",
   "mimetype": "text/x-python",
   "name": "python",
   "nbconvert_exporter": "python",
   "pygments_lexer": "ipython3",
   "version": "3.11.5"
  }
 },
 "nbformat": 4,
 "nbformat_minor": 5
}
