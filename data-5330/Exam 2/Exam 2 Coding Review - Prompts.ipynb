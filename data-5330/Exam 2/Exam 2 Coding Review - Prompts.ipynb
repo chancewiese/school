{
 "cells": [
  {
   "cell_type": "code",
   "execution_count": 45,
   "id": "eb38c902",
   "metadata": {
    "scrolled": true,
    "tags": []
   },
   "outputs": [
    {
     "name": "stdout",
     "output_type": "stream",
     "text": [
      ".DS_Store\n",
      "Exam 2 Coding Review - Prompts.ipynb\n",
      "LemonadeStand-2.csv --> it's a CSV!\n",
      "hometowns-1.csv --> it's a CSV!\n",
      ".ipynb_checkpoints\n",
      "/Users/chancewiese/Local Documents/school/data-5330/Exam 2\n",
      "['.DS_Store', 'Exam 2 Coding Review - Prompts.ipynb', 'LemonadeStand-2.csv', 'hometowns-1.csv', '.ipynb_checkpoints']\n"
     ]
    }
   ],
   "source": [
    "#1 Output the names of all the files in your current working directory\n",
    "# using commands from within the os module. For each, if it's a .csv, also output the words\n",
    "# \"it's a csv\". If it's not, output nothing.\n",
    "import os\n",
    "\n",
    "for file in os.listdir(os.getcwd()):\n",
    "    if file[-4:] =='.csv':\n",
    "        print(f\"{file} --> it's a CSV!\")\n",
    "    else:\n",
    "        print(file)\n",
    "        \n",
    "print(os.getcwd())\n",
    "print(os.listdir(os.getcwd()))"
   ]
  },
  {
   "cell_type": "code",
   "execution_count": 2,
   "id": "5f327893",
   "metadata": {
    "tags": []
   },
   "outputs": [
    {
     "name": "stdout",
     "output_type": "stream",
     "text": [
      "        HiTemp  SunHrs  WaspCt Custs (AM/PM)\n",
      "DayNo                                       \n",
      "Day 1      101     6.0    19.0         42/43\n",
      "Day 2       99     7.0    15.0         39/55\n",
      "Day 3       78    14.0    10.0         40/51\n",
      "Day 4       90    12.0    15.0         39/40\n",
      "Day 5       83    10.0    13.0         38/45\n",
      "Day 6       81     NaN    28.0          6/34\n",
      "Day 7       82     NaN    14.0         25/28\n",
      "Day 8       75    10.0    24.0         23/38\n",
      "Day 9       78     9.0    19.0         40/34\n",
      "Day 10     100    13.0    12.0         45/57\n",
      "Day 11     117     NaN     NaN           NaN\n"
     ]
    }
   ],
   "source": [
    "#2. Create a df from the LemonadeStand.csv file. Skip any lines you need \n",
    "# to skip and identify a meaningful index column.\n",
    "# Once created, output the df to the console.\n",
    "import pandas as pd\n",
    "\n",
    "df = pd.read_csv('LemonadeStand-2.csv', skiprows=3, index_col='DayNo')\n",
    "print(df)\n"
   ]
  },
  {
   "cell_type": "code",
   "execution_count": 3,
   "id": "138c5bb1",
   "metadata": {
    "tags": []
   },
   "outputs": [
    {
     "name": "stdout",
     "output_type": "stream",
     "text": [
      "Day 1 had a high temperature of 101 and a wasp count of 19.0\n",
      "Day 2 had a high temperature of 99 and a wasp count of 15.0\n",
      "Day 3 had a high temperature of 78 and a wasp count of 10.0\n",
      "Day 4 had a high temperature of 90 and a wasp count of 15.0\n",
      "Day 5 had a high temperature of 83 and a wasp count of 13.0\n",
      "Day 6 had a high temperature of 81 and a wasp count of 28.0\n",
      "Day 7 had a high temperature of 82 and a wasp count of 14.0\n",
      "Day 8 had a high temperature of 75 and a wasp count of 24.0\n",
      "Day 9 had a high temperature of 78 and a wasp count of 19.0\n",
      "Day 10 had a high temperature of 100 and a wasp count of 12.0\n",
      "Day 11 had a high temperature of 117 and a wasp count of 0\n"
     ]
    }
   ],
   "source": [
    "#3. Iterate through each row of the dataframe and output, for each row,\n",
    "# a sentence expressing the day number, the hitemp on the day, and the wasp count on that date.\n",
    "for x in df.index:\n",
    "    HiTemp = df['HiTemp'].loc[x]\n",
    "    if pd.isna(HiTemp):\n",
    "        HiTemp = 0\n",
    "        \n",
    "    WaspCt = df['WaspCt'].loc[x]\n",
    "    if pd.isna(WaspCt):\n",
    "        WaspCt = 0\n",
    "    \n",
    "    print(f\"{x} had a high temperature of {HiTemp} and a wasp count of {WaspCt}\")"
   ]
  },
  {
   "cell_type": "code",
   "execution_count": 4,
   "id": "2ee357a5",
   "metadata": {
    "tags": []
   },
   "outputs": [
    {
     "name": "stdout",
     "output_type": "stream",
     "text": [
      "Day 6 has null SunHrs.\n",
      "Day 7 has null SunHrs.\n",
      "Day 11 has null SunHrs.\n"
     ]
    }
   ],
   "source": [
    "#4 Iterate through df again. This time, though, only output if the\n",
    "# SunHrs value is null. If it is, then output: \"Record [index] has\n",
    "# null SunHrs\".\n",
    "for x in df.index:\n",
    "    if pd.isnull(df['SunHrs'].loc[x]):\n",
    "        print(f\"{x} has null SunHrs.\")"
   ]
  },
  {
   "cell_type": "code",
   "execution_count": 5,
   "id": "3eb5b649",
   "metadata": {
    "tags": []
   },
   "outputs": [
    {
     "name": "stdout",
     "output_type": "stream",
     "text": [
      "           Dates           Location\n",
      "0      1972-1990    Federal Way, WA\n",
      "1      1990-1991          Provo, UT\n",
      "2      1991-1993    Dresden, Saxony\n",
      "3      1993-1997          Provo, UT\n",
      "4      1997-1997         Boston, MA\n",
      "5      1997-1998     Twin Falls, ID\n",
      "6      1998-2000        La Mesa, CA\n",
      "7      2000-2004  Mission Viejo, CA\n",
      "8      2004-2005           Lehi, UT\n",
      "9      2005-2006  New York City, NY\n",
      "10     2006-2009  Mission Viejo, CA\n",
      "11     2009-2010        La Mesa, CA\n",
      "12     2010-2014     Pittsburgh, PA\n",
      "13     2014-2017         Norman, OK\n",
      "14     2017-2020  River Heights, UT\n",
      "15  2020-Present          Logan, UT\n"
     ]
    }
   ],
   "source": [
    "#5 Create a dataframe called df from the hometowns.csv file and then\n",
    "#output it.\n",
    "df = pd.read_csv('hometowns-1.csv', skiprows=2)\n",
    "print(df)"
   ]
  },
  {
   "cell_type": "code",
   "execution_count": 6,
   "id": "4df4db78",
   "metadata": {
    "tags": []
   },
   "outputs": [
    {
     "name": "stdout",
     "output_type": "stream",
     "text": [
      "                   Dates           Location\n",
      "0      1972 through 1990    Federal Way, WA\n",
      "1      1990 through 1991   Location Unknown\n",
      "2      1991 through 1993    Dresden, Saxony\n",
      "3      1993 through 1997   Location Unknown\n",
      "4      1997 through 1997         Boston, MA\n",
      "5      1997 through 1998     Twin Falls, ID\n",
      "6      1998 through 2000        La Mesa, CA\n",
      "7      2000 through 2004  Mission Viejo, CA\n",
      "8      2004 through 2005           Lehi, UT\n",
      "9      2005 through 2006  New York City, NY\n",
      "10     2006 through 2009  Mission Viejo, CA\n",
      "11     2009 through 2010        La Mesa, CA\n",
      "12     2010 through 2014     Pittsburgh, PA\n",
      "13     2014 through 2017         Norman, OK\n",
      "14     2017 through 2020  River Heights, UT\n",
      "15  2020 through Present          Logan, UT\n"
     ]
    }
   ],
   "source": [
    "#6 In the Location column ONLY, replace the value \"Provo, UT\" with the value\n",
    "#\"Location Unknown\". In the Dates column, replace the hyphen with the word\n",
    "# 'through' (include spaces so it doesn't look bad). Then output.\n",
    "df['Location'] = df['Location'].replace(to_replace='Provo, UT', value='Location Unknown')\n",
    "df['Dates'] = df['Dates'].str.replace('-', ' through ')\n",
    "print(df)\n"
   ]
  },
  {
   "cell_type": "code",
   "execution_count": 7,
   "id": "67379aed",
   "metadata": {
    "tags": []
   },
   "outputs": [
    {
     "name": "stdout",
     "output_type": "stream",
     "text": [
      "             Location  Start      End\n",
      "0     Federal Way, WA   1972     1990\n",
      "1    Location Unknown   1990     1991\n",
      "2     Dresden, Saxony   1991     1993\n",
      "3    Location Unknown   1993     1997\n",
      "4          Boston, MA   1997     1997\n",
      "5      Twin Falls, ID   1997     1998\n",
      "6         La Mesa, CA   1998     2000\n",
      "7   Mission Viejo, CA   2000     2004\n",
      "8            Lehi, UT   2004     2005\n",
      "9   New York City, NY   2005     2006\n",
      "10  Mission Viejo, CA   2006     2009\n",
      "11        La Mesa, CA   2009     2010\n",
      "12     Pittsburgh, PA   2010     2014\n",
      "13         Norman, OK   2014     2017\n",
      "14  River Heights, UT   2017     2020\n",
      "15          Logan, UT   2020  Present\n"
     ]
    }
   ],
   "source": [
    "# 7 Using the previous dataframe, create two columns called Start \n",
    "# and End. Start should include the first year found in the Dates column,\n",
    "# and End should include the second year found there. Turn the value in the\n",
    "# Start column into an integer.\n",
    "df[['Start', 'End']] = df['Dates'].str.split(' through ', expand=True)\n",
    "df['Start'] = df['Start'].astype('int')\n",
    "df.drop('Dates', axis=1, inplace=True)\n",
    "print(df)"
   ]
  },
  {
   "cell_type": "code",
   "execution_count": 35,
   "id": "1fd623af",
   "metadata": {},
   "outputs": [
    {
     "name": "stdout",
     "output_type": "stream",
     "text": [
      "2021-12-19 00:00:00\n",
      "2021-12-19\n"
     ]
    }
   ],
   "source": [
    "#8 Turn the variable below into a datetime object.\n",
    "\n",
    "# %d = day of month\n",
    "# %b = Three-letter name of month (e.g., Feb, Mar)\n",
    "# %B = Full name of month (e.g., February, March)\n",
    "# %m = Numerical month (e.g., 2, 3)\n",
    "# %y = Two-digit year (e.g., 15)\n",
    "# %Y = Four-digit year (e.g., 2015)\n",
    "from datetime import datetime\n",
    "\n",
    "date = \"19-Dec-21\"\n",
    "date_object = datetime.strptime(date, \"%d-%b-%y\")\n",
    "formatted_date = date_object.strftime(\"%Y-%m-%d\")  # %H:%M:%S\n",
    "print(date_object)\n",
    "print(formatted_date)"
   ]
  },
  {
   "cell_type": "code",
   "execution_count": 21,
   "id": "4bfc5fa5",
   "metadata": {},
   "outputs": [
    {
     "name": "stdout",
     "output_type": "stream",
     "text": [
      "/Users/chancewiese/Local Documents/school/data-5330/Exam 2\n"
     ]
    }
   ],
   "source": [
    "cwd = os.getcwd()\n",
    "print(cwd)"
   ]
  }
 ],
 "metadata": {
  "kernelspec": {
   "display_name": "Python 3 (ipykernel)",
   "language": "python",
   "name": "python3"
  },
  "language_info": {
   "codemirror_mode": {
    "name": "ipython",
    "version": 3
   },
   "file_extension": ".py",
   "mimetype": "text/x-python",
   "name": "python",
   "nbconvert_exporter": "python",
   "pygments_lexer": "ipython3",
   "version": "3.11.5"
  }
 },
 "nbformat": 4,
 "nbformat_minor": 5
}
