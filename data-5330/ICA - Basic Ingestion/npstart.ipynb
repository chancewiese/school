{
 "cells": [
  {
   "cell_type": "code",
   "execution_count": 8,
   "id": "5058682e",
   "metadata": {
    "tags": []
   },
   "outputs": [],
   "source": [
    "import pandas as pd\n",
    "import psycopg2\n",
    "\n",
    "#establishing the connection\n",
    "conn = psycopg2.connect(\n",
    "    database='nparks',\n",
    "    user='dw_chancewiese',\n",
    "    password='Spikeball2020',\n",
    "    host='database-1.czsooswggscz.us-east-2.rds.amazonaws.com',\n",
    "    port='5432'\n",
    ")\n",
    "#Creating a cursor object using the cursor() method\n",
    "cursor = conn.cursor()\n",
    "\n",
    "query = '''CREATE TABLE IF NOT EXISTS Journey (\n",
    "           journeyid serial PRIMARY KEY,\n",
    "           leadername VARCHAR(100) NOT NULL,\n",
    "           partyct SMALLINT,\n",
    "           entrypoint CHAR(1),\n",
    "           entrytime TIMESTAMP,\n",
    "           exittime TIMESTAMP,\n",
    "           exitct SMALLINT\n",
    "        );'''\n",
    "\n",
    "cursor.execute(query)\n",
    "conn.commit()"
   ]
  },
  {
   "cell_type": "code",
   "execution_count": 10,
   "id": "7b815be8",
   "metadata": {
    "tags": []
   },
   "outputs": [],
   "source": [
    "### DO NOT RUN THIS CELL MULTIPLE TIMES WITHOUT DELETING THE DATA OUT OF IT FIRST ###\n",
    "### When done, there should be 11 records in the table. ###\n",
    "\n",
    "# df = pd.read_csv('npstart.csv')\n",
    "\n",
    "# for x in df.index:\n",
    "#     query = '''INSERT INTO Journey (leadername, partyct, entrypoint, entrytime, exittime, exitct)\n",
    "#             VALUES ('%s', %s, '%s', '%s', '%s', %s)''' % (df['leadername'].loc[x], df['partyct'].loc[x],\n",
    "#             df['entrypoint'].loc[x], df['entrytime'].loc[x], df['exittime'].loc[x],\n",
    "#             df['exitct'].loc[x])\n",
    "    \n",
    "#     cursor.execute(query)\n",
    "    \n",
    "#     conn.commit()\n",
    "    "
   ]
  },
  {
   "cell_type": "code",
   "execution_count": 12,
   "id": "35835290",
   "metadata": {
    "tags": []
   },
   "outputs": [
    {
     "name": "stdout",
     "output_type": "stream",
     "text": [
      "                leadername  partyct entrypoint           entrytime  \\\n",
      "journeyid                                                            \n",
      "1                  Jaheira        4          S 2023-09-20 06:23:44   \n",
      "2                   Laezel        4          N 2023-09-20 09:54:29   \n",
      "3                   Esrick        2          N 2023-09-21 13:15:40   \n",
      "4                    Susan        1          S 2023-09-22 08:11:09   \n",
      "5                   Glenda        5          S 2023-09-22 11:48:55   \n",
      "6                   Magnus        3          S 2023-09-22 12:25:02   \n",
      "7                      Guv        7          N 2023-09-23 05:50:14   \n",
      "8          Scowl the Great        5          S 2023-09-23 09:14:08   \n",
      "9                     Mina        9          N 2023-09-23 11:42:22   \n",
      "10                    Chad        2          S 2023-09-24 06:50:48   \n",
      "11                     Tav        4          N 2023-09-24 08:19:33   \n",
      "\n",
      "                     exittime  exitct  \n",
      "journeyid                              \n",
      "1         2023-09-20 11:18:09       4  \n",
      "2         2023-09-20 18:40:28       4  \n",
      "3         2023-09-21 19:09:04       2  \n",
      "4         2023-09-22 16:40:25       1  \n",
      "5         2023-09-22 15:10:48       1  \n",
      "6         2023-09-22 19:33:39       3  \n",
      "7         2023-09-23 09:32:51       5  \n",
      "8         2023-09-23 15:22:28       5  \n",
      "9         2023-09-23 17:08:41       8  \n",
      "10        2023-09-24 13:44:29       2  \n",
      "11        2023-09-24 10:45:21       3  \n"
     ]
    },
    {
     "name": "stderr",
     "output_type": "stream",
     "text": [
      "/var/folders/96/kzlzzx2556jf68c57bc_gc180000gn/T/ipykernel_35887/3094360160.py:2: UserWarning: pandas only supports SQLAlchemy connectable (engine/connection) or database string URI or sqlite3 DBAPI2 connection. Other DBAPI2 objects are not tested. Please consider using SQLAlchemy.\n",
      "  df2 = pd.read_sql(query, conn, index_col='journeyid')\n"
     ]
    }
   ],
   "source": [
    "query = '''SELECT * FROM Journey'''\n",
    "df2 = pd.read_sql(query, conn, index_col='journeyid')\n",
    "\n",
    "print(df2)"
   ]
  },
  {
   "cell_type": "code",
   "execution_count": null,
   "id": "16d81c98-530b-4999-afab-3e5af23178f0",
   "metadata": {},
   "outputs": [],
   "source": []
  },
  {
   "cell_type": "code",
   "execution_count": 30,
   "id": "85ce2eef",
   "metadata": {
    "tags": []
   },
   "outputs": [
    {
     "name": "stdout",
     "output_type": "stream",
     "text": [
      "<class 'pandas.core.frame.DataFrame'>\n",
      "RangeIndex: 2 entries, 0 to 1\n",
      "Data columns (total 6 columns):\n",
      " #   Column      Non-Null Count  Dtype \n",
      "---  ------      --------------  ----- \n",
      " 0   leadername  2 non-null      object\n",
      " 1   partyct     2 non-null      int64 \n",
      " 2   entrypoint  2 non-null      object\n",
      " 3   entrytime   2 non-null      object\n",
      " 4   exittime    2 non-null      object\n",
      " 5   exitct      2 non-null      int64 \n",
      "dtypes: int64(2), object(4)\n",
      "memory usage: 228.0+ bytes\n",
      "None\n"
     ]
    }
   ],
   "source": [
    "csvname = 'day1.csv'\n",
    "df = pd.read_csv(csvname)\n",
    "\n",
    "for x in df.index:\n",
    "    query = f'''\n",
    "        INSERT INTO Journey (leadername, partyct, entrypoint, entrytime, exittime, exitct)\n",
    "        VALUES (\n",
    "            '{df['leadername'].loc[x]}', \n",
    "            {df['partyct'].loc[x]}, \n",
    "            '{df['entrypoint'].loc[x]}', \n",
    "            '{df['entrytime'].loc[x]}', \n",
    "            '{df['exittime'].loc[x]}', \n",
    "            {df['exitct'].loc[x]})\n",
    "        '''\n",
    "    \n",
    "    cursor.execute(query)\n",
    "    \n",
    "    conn.commit()"
   ]
  },
  {
   "cell_type": "code",
   "execution_count": 39,
   "id": "0ecc75a2-2980-470c-a41f-845865e3601e",
   "metadata": {
    "tags": []
   },
   "outputs": [],
   "source": [
    "conn.close()"
   ]
  }
 ],
 "metadata": {
  "kernelspec": {
   "display_name": "Python 3 (ipykernel)",
   "language": "python",
   "name": "python3"
  },
  "language_info": {
   "codemirror_mode": {
    "name": "ipython",
    "version": 3
   },
   "file_extension": ".py",
   "mimetype": "text/x-python",
   "name": "python",
   "nbconvert_exporter": "python",
   "pygments_lexer": "ipython3",
   "version": "3.11.5"
  }
 },
 "nbformat": 4,
 "nbformat_minor": 5
}
