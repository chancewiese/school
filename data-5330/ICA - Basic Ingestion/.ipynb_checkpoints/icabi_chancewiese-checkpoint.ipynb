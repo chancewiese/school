{
 "cells": [
  {
   "cell_type": "code",
   "execution_count": 37,
   "id": "3fad5767-a188-4bb3-8773-dd9987351a40",
   "metadata": {
    "tags": []
   },
   "outputs": [],
   "source": [
    "import pandas as pd\n",
    "import psycopg2\n",
    "from datetime import datetime\n",
    "\n",
    "conn = psycopg2.connect(\n",
    "    database='nparks',\n",
    "    user='dw_chancewiese',\n",
    "    password='Spikeball2020',\n",
    "    host='database-1.czsooswggscz.us-east-2.rds.amazonaws.com',\n",
    "    port='5432'\n",
    ")\n",
    "\n",
    "cursor = conn.cursor()"
   ]
  },
  {
   "cell_type": "code",
   "execution_count": 13,
   "id": "73db65a8-91d2-4d94-b4d5-58c239347db9",
   "metadata": {
    "tags": []
   },
   "outputs": [
    {
     "name": "stdout",
     "output_type": "stream",
     "text": [
      "                leadername  partyct entrypoint           entrytime  \\\n",
      "journeyid                                                            \n",
      "1                  Jaheira        4          S 2023-09-20 06:23:44   \n",
      "2                   Laezel        4          N 2023-09-20 09:54:29   \n",
      "3                   Esrick        2          N 2023-09-21 13:15:40   \n",
      "4                    Susan        1          S 2023-09-22 08:11:09   \n",
      "5                   Glenda        5          S 2023-09-22 11:48:55   \n",
      "6                   Magnus        3          S 2023-09-22 12:25:02   \n",
      "7                      Guv        7          N 2023-09-23 05:50:14   \n",
      "8          Scowl the Great        5          S 2023-09-23 09:14:08   \n",
      "9                     Mina        9          N 2023-09-23 11:42:22   \n",
      "10                    Chad        2          S 2023-09-24 06:50:48   \n",
      "11                     Tav        4          N 2023-09-24 08:19:33   \n",
      "\n",
      "                     exittime  exitct  \n",
      "journeyid                              \n",
      "1         2023-09-20 11:18:09       4  \n",
      "2         2023-09-20 18:40:28       4  \n",
      "3         2023-09-21 19:09:04       2  \n",
      "4         2023-09-22 16:40:25       1  \n",
      "5         2023-09-22 15:10:48       1  \n",
      "6         2023-09-22 19:33:39       3  \n",
      "7         2023-09-23 09:32:51       5  \n",
      "8         2023-09-23 15:22:28       5  \n",
      "9         2023-09-23 17:08:41       8  \n",
      "10        2023-09-24 13:44:29       2  \n",
      "11        2023-09-24 10:45:21       3  \n"
     ]
    },
    {
     "name": "stderr",
     "output_type": "stream",
     "text": [
      "/var/folders/96/kzlzzx2556jf68c57bc_gc180000gn/T/ipykernel_36248/3162175762.py:7: UserWarning: pandas only supports SQLAlchemy connectable (engine/connection) or database string URI or sqlite3 DBAPI2 connection. Other DBAPI2 objects are not tested. Please consider using SQLAlchemy.\n",
      "  df = pd.read_sql(query, conn, index_col='journeyid')\n"
     ]
    }
   ],
   "source": [
    "# 1 \n",
    "query = '''\n",
    "SELECT *\n",
    "FROM journey;\n",
    "'''\n",
    "\n",
    "df = pd.read_sql(query, conn, index_col='journeyid')\n",
    "print(df)"
   ]
  },
  {
   "cell_type": "code",
   "execution_count": 27,
   "id": "a6d0bf18-9551-48f3-8add-09c287c88cbe",
   "metadata": {
    "tags": []
   },
   "outputs": [
    {
     "name": "stdout",
     "output_type": "stream",
     "text": [
      "journeyid: Should ignore this when ingesting data because it's auto-incrementing\n",
      "leadername: no additional constraint\n",
      "partyct: greater than 0, less than 20\n",
      "entrypoint: either N or S\n",
      "entrytime: no additional constratint\n",
      "exittime: should be greater than entrytime\n",
      "exitct: should be less than 0 and less than or equal to the part count\n"
     ]
    }
   ],
   "source": [
    "# 2\n",
    "print(\"journeyid: Should ignore this when ingesting data because it's auto-incrementing\")\n",
    "print(\"leadername: no additional constraint\")\n",
    "print(\"partyct: greater than 0, less than 20\")\n",
    "print(\"entrypoint: either N or S\")\n",
    "print(\"entrytime: no additional constratint\")\n",
    "print(\"exittime: should be greater than entrytime\")\n",
    "print(\"exitct: should be less than 0 and less than or equal to the part count\")"
   ]
  },
  {
   "cell_type": "code",
   "execution_count": 30,
   "id": "402441dc-7f60-489e-b920-e07f90030198",
   "metadata": {
    "tags": []
   },
   "outputs": [],
   "source": [
    "# 3\n",
    "query = '''\n",
    "    CREATE TABLE IF NOT EXISTS Ingestion (\n",
    "    IngestID serial PRIMARY KEY,\n",
    "    SrcName VARCHAR(30) NOT NULL,\n",
    "    TimeDone TIMESTAMP NOT NULL\n",
    "    );\n",
    "    '''\n",
    "\n",
    "cursor.execute(query)\n",
    "conn.commit()"
   ]
  },
  {
   "cell_type": "code",
   "execution_count": 34,
   "id": "bf3754b7-84ed-41df-90d2-da6bc50843e4",
   "metadata": {
    "tags": []
   },
   "outputs": [],
   "source": [
    "# 4\n",
    "query = '''\n",
    "    ALTER TABLE Journey\n",
    "    ADD COLUMN IF NOT EXISTS IngestID INTEGER;\n",
    "    '''\n",
    "\n",
    "cursor.execute(query)\n",
    "conn.commit()"
   ]
  },
  {
   "cell_type": "code",
   "execution_count": null,
   "id": "1f429c37-75a2-4295-b957-a0e702085292",
   "metadata": {},
   "outputs": [],
   "source": [
    "# 5\n",
    "csvs = ['day1.csv', 'day2.csv']\n",
    "for csv in csvs:\n",
    "    df = pd.read_csv(csv)\n",
    "\n",
    "    for x in df.index:\n",
    "        query = f'''\n",
    "            INSERT INTO Ingest (srcname, timedone)\n",
    "            VALUES (\n",
    "                '{csv}', \n",
    "                '{datetime.now()}'\n",
    "                )\n",
    "            '''\n",
    "        cursor.execute(query)\n",
    "        conn.commit()\n",
    "    \n",
    "    for x in df.index:\n",
    "        query = f'''\n",
    "            INSERT INTO Journey (leadername, partyct, entrypoint, entrytime, exittime, exitct, ingestid)\n",
    "            VALUES (\n",
    "                '{df['leadername'].loc[x]}', \n",
    "                {df['partyct'].loc[x]}, \n",
    "                '{df['entrypoint'].loc[x]}', \n",
    "                '{df['entrytime'].loc[x]}', \n",
    "                '{df['exittime'].loc[x]}', \n",
    "                {df['exitct'].loc[x]},\n",
    "                '{csv}'\n",
    "                )\n",
    "            '''\n",
    "        cursor.execute(query)\n",
    "        conn.commit()"
   ]
  }
 ],
 "metadata": {
  "kernelspec": {
   "display_name": "Python 3 (ipykernel)",
   "language": "python",
   "name": "python3"
  },
  "language_info": {
   "codemirror_mode": {
    "name": "ipython",
    "version": 3
   },
   "file_extension": ".py",
   "mimetype": "text/x-python",
   "name": "python",
   "nbconvert_exporter": "python",
   "pygments_lexer": "ipython3",
   "version": "3.11.5"
  }
 },
 "nbformat": 4,
 "nbformat_minor": 5
}
