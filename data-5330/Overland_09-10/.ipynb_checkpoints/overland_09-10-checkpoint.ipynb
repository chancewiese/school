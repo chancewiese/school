{
 "cells": [
  {
   "cell_type": "code",
   "execution_count": 1,
   "id": "650458ba-5d5e-49ae-a0fc-cd0f85e8a0f6",
   "metadata": {
    "tags": []
   },
   "outputs": [
    {
     "name": "stdout",
     "output_type": "stream",
     "text": [
      "       DateID        DOW    Price Holiday Skies  HiTemp  Wind  NewSnow  \\\n",
      "0    20161210   Saturday  Weekday       n  Snow      33    12        3   \n",
      "1    20161211     Sunday  Weekday       n  Snow      23     4        4   \n",
      "2    20161212     Monday  Weekday       n   Sun      22     8        0   \n",
      "3    20161213    Tuesday  Weekday       n  Snow      25    19        6   \n",
      "4    20161214  Wednesday  Weekday       n   Fog      13    17        0   \n",
      "..        ...        ...      ...     ...   ...     ...   ...      ...   \n",
      "115  20170404    Tuesday  Weekday       n   Sun      51     7        0   \n",
      "116  20170405  Wednesday  Weekday       n  Rain      46    12        0   \n",
      "117  20170406   Thursday  Weekday       n   Sun      35    14        0   \n",
      "118  20170407     Friday  Weekday       n   Sun      49    10        0   \n",
      "119  20170408   Saturday     Peak       n   Sun      54     5        0   \n",
      "\n",
      "     BaseDepth  GuestCount     Month  \n",
      "0           16         291  December  \n",
      "1           29         541  December  \n",
      "2           29         183  December  \n",
      "3           34         555  December  \n",
      "4           34          19  December  \n",
      "..         ...         ...       ...  \n",
      "115         86         191     April  \n",
      "116         80          62     April  \n",
      "117         80          85     April  \n",
      "118         80          67     April  \n",
      "119         74         156     April  \n",
      "\n",
      "[120 rows x 11 columns]\n"
     ]
    }
   ],
   "source": [
    "import pandas as pd\n",
    "\n",
    "df = pd.read_csv('overland-days.csv')\n",
    "print(df)"
   ]
  }
 ],
 "metadata": {
  "kernelspec": {
   "display_name": "Python 3.10 (pymssql)",
   "language": "python",
   "name": "pymssql_kernel"
  },
  "language_info": {
   "codemirror_mode": {
    "name": "ipython",
    "version": 3
   },
   "file_extension": ".py",
   "mimetype": "text/x-python",
   "name": "python",
   "nbconvert_exporter": "python",
   "pygments_lexer": "ipython3",
   "version": "3.10.13"
  }
 },
 "nbformat": 4,
 "nbformat_minor": 5
}
