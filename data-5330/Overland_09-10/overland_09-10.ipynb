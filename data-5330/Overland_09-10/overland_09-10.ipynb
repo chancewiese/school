{
 "cells": [
  {
   "cell_type": "code",
   "execution_count": 28,
   "id": "650458ba-5d5e-49ae-a0fc-cd0f85e8a0f6",
   "metadata": {
    "tags": []
   },
   "outputs": [
    {
     "name": "stdout",
     "output_type": "stream",
     "text": [
      "                DOW    Price Holiday Skies  HiTemp  Wind  NewSnow  BaseDepth  \\\n",
      "DateID                                                                         \n",
      "20161210   Saturday  Weekday       n  Snow      33    12        3         16   \n",
      "20161211     Sunday  Weekday       n  Snow      23     4        4         29   \n",
      "20161212     Monday  Weekday       n   Sun      22     8        0         29   \n",
      "20161213    Tuesday  Weekday       n  Snow      25    19        6         34   \n",
      "20161214  Wednesday  Weekday       n   Fog      13    17        0         34   \n",
      "...             ...      ...     ...   ...     ...   ...      ...        ...   \n",
      "20170404    Tuesday  Weekday       n   Sun      51     7        0         86   \n",
      "20170405  Wednesday  Weekday       n  Rain      46    12        0         80   \n",
      "20170406   Thursday  Weekday       n   Sun      35    14        0         80   \n",
      "20170407     Friday  Weekday       n   Sun      49    10        0         80   \n",
      "20170408   Saturday     Peak       n   Sun      54     5        0         74   \n",
      "\n",
      "          GuestCount     Month  IsPeak  \n",
      "DateID                                  \n",
      "20161210         291  December       0  \n",
      "20161211         541  December       0  \n",
      "20161212         183  December       0  \n",
      "20161213         555  December       0  \n",
      "20161214          19  December       0  \n",
      "...              ...       ...     ...  \n",
      "20170404         191     April       0  \n",
      "20170405          62     April       0  \n",
      "20170406          85     April       0  \n",
      "20170407          67     April       0  \n",
      "20170408         156     April       1  \n",
      "\n",
      "[120 rows x 11 columns]\n",
      "              HiTemp      Wind   NewSnow  BaseDepth  GuestCount    IsPeak\n",
      "HiTemp      1.000000  0.081544 -0.044751   0.302445   -0.360663 -0.133327\n",
      "Wind        0.081544  1.000000  0.313717  -0.134203   -0.083304 -0.124017\n",
      "NewSnow    -0.044751  0.313717  1.000000  -0.123176    0.396949 -0.084310\n",
      "BaseDepth   0.302445 -0.134203 -0.123176   1.000000    0.098591  0.032893\n",
      "GuestCount -0.360663 -0.083304  0.396949   0.098591    1.000000  0.429412\n",
      "IsPeak     -0.133327 -0.124017 -0.084310   0.032893    0.429412  1.000000\n"
     ]
    }
   ],
   "source": [
    "import pandas as pd\n",
    "import numpy as np\n",
    "\n",
    "df = pd.read_csv('overland-days.csv', index_col='DateID')\n",
    "\n",
    "df['IsPeak'] = np.where(df['Price'] == 'Peak', 1, 0)\n",
    "numeric_df = df.select_dtypes(include=[np.number])\n",
    "print(df)\n",
    "print(numeric_df.corr())"
   ]
  }
 ],
 "metadata": {
  "kernelspec": {
   "display_name": "Python 3.10 (pymssql)",
   "language": "python",
   "name": "pymssql_kernel"
  },
  "language_info": {
   "codemirror_mode": {
    "name": "ipython",
    "version": 3
   },
   "file_extension": ".py",
   "mimetype": "text/x-python",
   "name": "python",
   "nbconvert_exporter": "python",
   "pygments_lexer": "ipython3",
   "version": "3.10.13"
  }
 },
 "nbformat": 4,
 "nbformat_minor": 5
}
