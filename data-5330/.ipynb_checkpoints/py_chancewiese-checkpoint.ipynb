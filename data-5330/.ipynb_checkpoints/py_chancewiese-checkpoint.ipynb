{
 "cells": [
  {
   "cell_type": "code",
   "execution_count": 1,
   "id": "b49fc594-e73f-4f75-80dd-eb64d982c709",
   "metadata": {},
   "outputs": [],
   "source": [
    "# Chance Wiese\n",
    "# 1"
   ]
  },
  {
   "cell_type": "code",
   "execution_count": 3,
   "id": "881c5285-18c1-4d4a-a4c2-45d9157c526f",
   "metadata": {},
   "outputs": [
    {
     "name": "stdout",
     "output_type": "stream",
     "text": [
      "x times 153 = 1683\n",
      "x squared = 121\n",
      "cube root of x = 2.2239800905693152\n"
     ]
    }
   ],
   "source": [
    "# 2\n",
    "x = 11\n",
    "print(f\"x times 153 = {x*153}\")\n",
    "print(f\"x squared = {x**2}\")\n",
    "print(f\"cube root of x = {x**(1/3)}\")"
   ]
  },
  {
   "cell_type": "code",
   "execution_count": 23,
   "id": "48961119-b026-49e9-829f-4c1bd5771ea9",
   "metadata": {},
   "outputs": [
    {
     "name": "stdout",
     "output_type": "stream",
     "text": [
      "Target Number: 51\n"
     ]
    },
    {
     "name": "stdin",
     "output_type": "stream",
     "text": [
      "Guess a number between 1 and 100:  5\n"
     ]
    },
    {
     "name": "stdout",
     "output_type": "stream",
     "text": [
      "Your guess was too low. Try again!\n"
     ]
    },
    {
     "name": "stdin",
     "output_type": "stream",
     "text": [
      "Guess a number between 1 and 100:  52\n"
     ]
    },
    {
     "name": "stdout",
     "output_type": "stream",
     "text": [
      "Your guess was too high. Try again!\n"
     ]
    },
    {
     "name": "stdin",
     "output_type": "stream",
     "text": [
      "Guess a number between 1 and 100:  51\n"
     ]
    },
    {
     "name": "stdout",
     "output_type": "stream",
     "text": [
      "Congratulations, you did it! It took you 3 guesses.\n"
     ]
    }
   ],
   "source": [
    "# 3\n",
    "import random\n",
    "targetnum = random.randint(1,100)\n",
    "print(f\"Target Number: {targetnum}\")\n",
    "guess = None\n",
    "attempts = 0\n",
    "while guess != targetnum:\n",
    "    guess = int(input(\"Guess a number between 1 and 100: \"))  # Instructions said validation wasn't needed but changing to integer was, because it gave errors otherwise\n",
    "    attempts += 1\n",
    "    \n",
    "    if guess < targetnum:\n",
    "        print(\"Your guess was too low. Try again!\")\n",
    "    elif guess > targetnum:\n",
    "        print(\"Your guess was too high. Try again!\")\n",
    "    else:\n",
    "        print(f\"Congratulations, you did it! It took you {attempts} guesses.\")"
   ]
  },
  {
   "cell_type": "code",
   "execution_count": 31,
   "id": "3697d9f8-fca7-402a-8910-a5492af1d907",
   "metadata": {},
   "outputs": [
    {
     "name": "stdin",
     "output_type": "stream",
     "text": [
      "Input an integer or press q to quit:  5\n"
     ]
    },
    {
     "name": "stdout",
     "output_type": "stream",
     "text": [
      "Sum of last 5 values in the list: 5\n"
     ]
    },
    {
     "name": "stdin",
     "output_type": "stream",
     "text": [
      "Input an integer or press q to quit:  q\n"
     ]
    },
    {
     "name": "stdout",
     "output_type": "stream",
     "text": [
      "Thank you for your time. Have a nice day! Final sum: 5\n"
     ]
    }
   ],
   "source": [
    "# 4\n",
    "value_list = []\n",
    "while len(value_list) < 5:\n",
    "    value = input(\"Input an integer or press q to quit: \")\n",
    "    try:\n",
    "        int_value = int(value)\n",
    "        value_list.append(int_value)\n",
    "        print(f\"Sum of last 5 values in the list: {sum(value_list[-5:])}\")\n",
    "    except ValueError:\n",
    "        if value.lower() == \"q\":\n",
    "            print(f\"Thank you for your time. Have a nice day! Final sum: {sum(value_list[-5:])}\")\n",
    "            break\n",
    "        else:\n",
    "            print(\"Invalid response. Please try again.\")"
   ]
  },
  {
   "cell_type": "code",
   "execution_count": 75,
   "id": "2d8d2879-cfac-407f-bcb0-7fbccc2ebd6c",
   "metadata": {},
   "outputs": [
    {
     "ename": "OperationalError",
     "evalue": "(18456, b'DB-Lib error message 20018, severity 11:\\nGeneral SQL Server error: Check messages from the SQL Server\\nDB-Lib error message 20018, severity 14:\\nGeneral SQL Server error: Check messages from the SQL Server\\nDB-Lib error message 20002, severity 9:\\nAdaptive Server connection failed (stairway.usu.edu)\\nDB-Lib error message 20002, severity 9:\\nAdaptive Server connection failed (stairway.usu.edu)\\n')",
     "output_type": "error",
     "traceback": [
      "\u001b[1;31m---------------------------------------------------------------------------\u001b[0m",
      "\u001b[1;31mMSSQLDatabaseException\u001b[0m                    Traceback (most recent call last)",
      "File \u001b[1;32msrc\\\\pymssql\\\\_pymssql.pyx:650\u001b[0m, in \u001b[0;36mpymssql._pymssql.connect\u001b[1;34m()\u001b[0m\n",
      "File \u001b[1;32msrc\\\\pymssql\\\\_mssql.pyx:2158\u001b[0m, in \u001b[0;36mpymssql._mssql.connect\u001b[1;34m()\u001b[0m\n",
      "File \u001b[1;32msrc\\\\pymssql\\\\_mssql.pyx:712\u001b[0m, in \u001b[0;36mpymssql._mssql.MSSQLConnection.__init__\u001b[1;34m()\u001b[0m\n",
      "File \u001b[1;32msrc\\\\pymssql\\\\_mssql.pyx:1884\u001b[0m, in \u001b[0;36mpymssql._mssql.maybe_raise_MSSQLDatabaseException\u001b[1;34m()\u001b[0m\n",
      "File \u001b[1;32msrc\\\\pymssql\\\\_mssql.pyx:1901\u001b[0m, in \u001b[0;36mpymssql._mssql.raise_MSSQLDatabaseException\u001b[1;34m()\u001b[0m\n",
      "\u001b[1;31mMSSQLDatabaseException\u001b[0m: (18456, b'DB-Lib error message 20018, severity 11:\\nGeneral SQL Server error: Check messages from the SQL Server\\nDB-Lib error message 20018, severity 14:\\nGeneral SQL Server error: Check messages from the SQL Server\\nDB-Lib error message 20002, severity 9:\\nAdaptive Server connection failed (stairway.usu.edu)\\nDB-Lib error message 20002, severity 9:\\nAdaptive Server connection failed (stairway.usu.edu)\\n')",
      "\nDuring handling of the above exception, another exception occurred:\n",
      "\u001b[1;31mOperationalError\u001b[0m                          Traceback (most recent call last)",
      "Cell \u001b[1;32mIn[75], line 4\u001b[0m\n\u001b[0;32m      1\u001b[0m \u001b[38;5;66;03m# 5\u001b[39;00m\n\u001b[0;32m      2\u001b[0m \u001b[38;5;28;01mimport\u001b[39;00m \u001b[38;5;21;01mpymssql\u001b[39;00m\n\u001b[1;32m----> 4\u001b[0m conn \u001b[38;5;241m=\u001b[39m pymssql\u001b[38;5;241m.\u001b[39mconnect(\n\u001b[0;32m      5\u001b[0m      host\u001b[38;5;241m=\u001b[39m\u001b[38;5;124m'\u001b[39m\u001b[38;5;124mstairway.usu.edu\u001b[39m\u001b[38;5;124m'\u001b[39m, \u001b[38;5;66;03m# Server name goes in quotes.\u001b[39;00m\n\u001b[0;32m      6\u001b[0m      user\u001b[38;5;241m=\u001b[39m\u001b[38;5;124m'\u001b[39m\u001b[38;5;124mdunn2100\u001b[39m\u001b[38;5;124m'\u001b[39m, \u001b[38;5;66;03m# Username goes in quotes.\u001b[39;00m\n\u001b[0;32m      7\u001b[0m      password\u001b[38;5;241m=\u001b[39m\u001b[38;5;124m'\u001b[39m\u001b[38;5;124mdatabases4ever\u001b[39m\u001b[38;5;124m'\u001b[39m, \u001b[38;5;66;03m# Password goes in quotes\u001b[39;00m\n\u001b[0;32m      8\u001b[0m      database\u001b[38;5;241m=\u001b[39m\u001b[38;5;124m'\u001b[39m\u001b[38;5;124mCorgirace\u001b[39m\u001b[38;5;124m'\u001b[39m) \u001b[38;5;66;03m# Database to use goes in quotes\u001b[39;00m\n\u001b[0;32m     10\u001b[0m cursor \u001b[38;5;241m=\u001b[39m conn\u001b[38;5;241m.\u001b[39mcursor()\n\u001b[0;32m     12\u001b[0m query \u001b[38;5;241m=\u001b[39m \u001b[38;5;124m\"\"\"\u001b[39m\n\u001b[0;32m     13\u001b[0m \u001b[38;5;124mSELECT Name,\u001b[39m\n\u001b[0;32m     14\u001b[0m \u001b[38;5;124mCASE WHEN Breed = \u001b[39m\u001b[38;5;124m'\u001b[39m\u001b[38;5;124mP\u001b[39m\u001b[38;5;124m'\u001b[39m\u001b[38;5;124m THEN \u001b[39m\u001b[38;5;124m'\u001b[39m\u001b[38;5;124mPembroke\u001b[39m\u001b[38;5;124m'\u001b[39m\u001b[38;5;124m ELSE \u001b[39m\u001b[38;5;124m'\u001b[39m\u001b[38;5;124mCardigan\u001b[39m\u001b[38;5;124m'\u001b[39m\u001b[38;5;124m END AS Breed,\u001b[39m\n\u001b[1;32m   (...)\u001b[0m\n\u001b[0;32m     20\u001b[0m \u001b[38;5;124mORDER BY AvgRaceTime ASC;\u001b[39m\n\u001b[0;32m     21\u001b[0m \u001b[38;5;124m\"\"\"\u001b[39m\n",
      "File \u001b[1;32msrc\\\\pymssql\\\\_pymssql.pyx:659\u001b[0m, in \u001b[0;36mpymssql._pymssql.connect\u001b[1;34m()\u001b[0m\n",
      "\u001b[1;31mOperationalError\u001b[0m: (18456, b'DB-Lib error message 20018, severity 11:\\nGeneral SQL Server error: Check messages from the SQL Server\\nDB-Lib error message 20018, severity 14:\\nGeneral SQL Server error: Check messages from the SQL Server\\nDB-Lib error message 20002, severity 9:\\nAdaptive Server connection failed (stairway.usu.edu)\\nDB-Lib error message 20002, severity 9:\\nAdaptive Server connection failed (stairway.usu.edu)\\n')"
     ]
    }
   ],
   "source": [
    "# 5\n",
    "import pymssql\n",
    "\n",
    "conn = pymssql.connect(\n",
    "     host='stairway.usu.edu', # Server name goes in quotes.\n",
    "     user='dunn2100', # Username goes in quotes.\n",
    "     password='databases4ever', # Password goes in quotes\n",
    "     database='Corgirace') # Database to use goes in quotes\n",
    "\n",
    "cursor = conn.cursor()\n",
    "\n",
    "query = \"\"\"\n",
    "SELECT Name,\n",
    "CASE \n",
    "    WHEN Breed = 'P' THEN 'Pembroke' \n",
    "    ELSE 'Cardigan' \n",
    "    END AS Breed,\n",
    "ROUND(AVG(RaceTime), 3) AS AvgRaceTime,\n",
    "COUNT(RaceID) AS NumRaces\n",
    "FROM Corgis\n",
    "JOIN Races ON Corgis.CorgiID = Races.CorgiID\n",
    "GROUP BY Name, Breed\n",
    "ORDER BY AvgRaceTime ASC;\n",
    "\"\"\"\n",
    "\n",
    "cursor.execute(query)\n",
    "\n",
    "for row in cursor.fetchall():\n",
    "    print(f\"{row[0]}   {row[1]}   {row[2]}   {row[3]}   {row[4]}   {row[5]}   {row[6]}\")\n",
    "\n",
    "conn.close()"
   ]
  }
 ],
 "metadata": {
  "kernelspec": {
   "display_name": "Python 3 (ipykernel)",
   "language": "python",
   "name": "python3"
  },
  "language_info": {
   "codemirror_mode": {
    "name": "ipython",
    "version": 3
   },
   "file_extension": ".py",
   "mimetype": "text/x-python",
   "name": "python",
   "nbconvert_exporter": "python",
   "pygments_lexer": "ipython3",
   "version": "3.12.4"
  }
 },
 "nbformat": 4,
 "nbformat_minor": 5
}
