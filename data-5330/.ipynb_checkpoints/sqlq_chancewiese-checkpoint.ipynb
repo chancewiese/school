{
 "cells": [
  {
   "cell_type": "code",
   "execution_count": 1,
   "id": "a28723aa-d177-41e5-9f62-884946803ac5",
   "metadata": {},
   "outputs": [],
   "source": [
    "# Chance Wiese"
   ]
  },
  {
   "cell_type": "code",
   "execution_count": 2,
   "id": "287f703d-56e0-45e3-8462-204f87252b58",
   "metadata": {},
   "outputs": [
    {
     "name": "stdout",
     "output_type": "stream",
     "text": [
      "Requirement already satisfied: psycopg2-binary in /Users/chancewiese/anaconda3/lib/python3.11/site-packages (2.9.9)\n",
      "Note: you may need to restart the kernel to use updated packages.\n"
     ]
    }
   ],
   "source": [
    "pip install psycopg2-binary"
   ]
  },
  {
   "cell_type": "code",
   "execution_count": 3,
   "id": "6a19bf7a-1952-4662-afcb-df3fd19545a2",
   "metadata": {},
   "outputs": [
    {
     "name": "stdout",
     "output_type": "stream",
     "text": [
      "                         corgname  breed gender  weight  age\n",
      "corgid                                                      \n",
      "1                   Snappy Ginger    Pem      F      21  3.5\n",
      "2                   Golden Graham    Pem      M      30  2.0\n",
      "3                          Kraken    Pem     SF      22  3.5\n",
      "4                     Snarla June    Pem     SF      29  3.5\n",
      "5                 Smiley Shortdog  Cardi     NM      33  4.5\n",
      "6                         Stanley    Pem      M      33  3.5\n",
      "7                Holden Corgfield    Pem      M      25  4.0\n",
      "8           Penny the Shedmonster    Pem      F      20  5.0\n",
      "9       Baroness von Fluffyshanks    Pem     SF      22  4.0\n",
      "10                     Prometheus    Pem      M      27  5.0\n",
      "11                 Foxy Stumptail    Pem     NM      29  5.5\n",
      "12                      Drederick    Pem      M      29  4.5\n",
      "13              Lady Wigglebottom    Pem      F      28  4.0\n",
      "14                       Jedediah    Pem     NM      30  4.0\n",
      "15                   Miss Juniper    Pem     SF      21  2.5\n",
      "16            Mary Queen of Corgs    Pem     SF      23  4.5\n",
      "17                        Oatmeal    Pem     SF      26  5.5\n",
      "18                     Cowboy Dan    Pem      M      26  5.5\n",
      "19                    Gareth Bale    Pem     NM      31  5.0\n",
      "20                  Winston Smith  Cardi      M      32  4.5\n",
      "21                          Bucco    Pem      M      32  4.0\n",
      "22                       Fruitcup  Cardi      F      23  2.5\n",
      "23                      Sweet Dee    Pem     SF      20  5.0\n",
      "24                      Stonewall    Pem     NM      29  2.5\n",
      "25                 Hywel the Woof    Pem      M      28  2.0\n"
     ]
    },
    {
     "name": "stderr",
     "output_type": "stream",
     "text": [
      "/var/folders/96/kzlzzx2556jf68c57bc_gc180000gn/T/ipykernel_65295/2258781168.py:23: UserWarning: pandas only supports SQLAlchemy connectable (engine/connection) or database string URI or sqlite3 DBAPI2 connection. Other DBAPI2 objects are not tested. Please consider using SQLAlchemy.\n",
      "  df = pd.read_sql(query, conn, index_col='corgid')\n"
     ]
    }
   ],
   "source": [
    "# 1\n",
    "import pandas as pd\n",
    "import psycopg2\n",
    "\n",
    "conn = psycopg2.connect(\n",
    "    database='corgirace',\n",
    "    user='dw_chancewiese',\n",
    "    password='Spikeball2020',\n",
    "    host='database-1.czsooswggscz.us-east-2.rds.amazonaws.com',\n",
    "    port='5432'\n",
    ")\n",
    "\n",
    "cursor = conn.cursor()\n",
    "\n",
    "query = '''\n",
    "SELECT *\n",
    "FROM corgi;\n",
    "'''\n",
    "\n",
    "df = pd.read_sql(query, conn, index_col='corgid')\n",
    "print(df)"
   ]
  },
  {
   "cell_type": "code",
   "execution_count": 4,
   "id": "b15c01d9-7c11-47da-b8fc-8c9b4d258d13",
   "metadata": {},
   "outputs": [
    {
     "name": "stdout",
     "output_type": "stream",
     "text": [
      "                   racename racestate  racemonth  racetemp  racetime\n",
      "0            Del Mar Trophy        CA        6.0        80     64.95\n",
      "1            Memorial Derby        WA        6.0        77     56.27\n",
      "2               Dixie Derby        UT        6.0        95     69.77\n",
      "3       Billings Grand Prix        MT        8.0        95     65.80\n",
      "4                 Idaho Cup        ID        8.0        93     62.79\n",
      "5           Bachelor Stakes        OR        8.0        87     59.25\n",
      "6  Golden Gate Invitational        CA        9.0        81     40.10\n",
      "\n",
      "Correlation Matrix\n",
      "            racemonth  racetemp  racetime\n",
      "racemonth   1.000000  0.196781 -0.580836\n",
      "racetemp    0.196781  1.000000  0.589349\n",
      "racetime   -0.580836  0.589349  1.000000\n",
      "\n",
      "Snarla's race times are fairly positively correlated to temperature (0.589349), \n",
      "meaning as the temperature goes up, so do Snarla's race times. Snarla's race times\n",
      "are negatively correlated to the month (-0.580836). As themonth increases, getting \n",
      "later in the year, Snarla's race times decrease, meaning she's faster later in the \n",
      "year. Snarla performs better in cooler temperatures and later in the year, \n",
      "though the time of year is more strongly correlated.\n",
      "\n"
     ]
    },
    {
     "name": "stderr",
     "output_type": "stream",
     "text": [
      "/var/folders/96/kzlzzx2556jf68c57bc_gc180000gn/T/ipykernel_65295/2594237687.py:16: UserWarning: pandas only supports SQLAlchemy connectable (engine/connection) or database string URI or sqlite3 DBAPI2 connection. Other DBAPI2 objects are not tested. Please consider using SQLAlchemy.\n",
      "  df = pd.read_sql(query, conn)\n"
     ]
    }
   ],
   "source": [
    "# 2\n",
    "query = '''\n",
    "select \n",
    "    racename, \n",
    "    racestate, \n",
    "    date_part('month', racedate) as \"racemonth\", \n",
    "    racetemp,\n",
    "    racetime\n",
    "from race r\n",
    "join outcome o on r.raceid = o.raceid\n",
    "join corgi c on o.corgid = c.corgid\n",
    "where corgname = 'Snarla June';\n",
    "'''\n",
    "\n",
    "df = pd.read_sql(query, conn)\n",
    "print(df)\n",
    "\n",
    "corr = df[['racemonth', 'racetemp', 'racetime']].corr()\n",
    "print(\"\\nCorrelation Matrix\\n\", corr)\n",
    "\n",
    "print('''\n",
    "Snarla's race times are fairly positively correlated to temperature (0.589349), \n",
    "meaning as the temperature goes up, so do Snarla's race times. Snarla's race times\n",
    "are negatively correlated to the month (-0.580836). As themonth increases, getting \n",
    "later in the year, Snarla's race times decrease, meaning she's faster later in the \n",
    "year. Snarla performs better in cooler temperatures and later in the year, \n",
    "though the time of year is more strongly correlated.\n",
    "''')"
   ]
  },
  {
   "cell_type": "code",
   "execution_count": 5,
   "id": "8fd5a383-0f52-4d14-b170-e311589609f7",
   "metadata": {},
   "outputs": [
    {
     "name": "stderr",
     "output_type": "stream",
     "text": [
      "/var/folders/96/kzlzzx2556jf68c57bc_gc180000gn/T/ipykernel_65295/2905569960.py:15: UserWarning: pandas only supports SQLAlchemy connectable (engine/connection) or database string URI or sqlite3 DBAPI2 connection. Other DBAPI2 objects are not tested. Please consider using SQLAlchemy.\n",
      "  df = pd.read_sql(query, conn)\n"
     ]
    },
    {
     "name": "stdout",
     "output_type": "stream",
     "text": [
      "                    corgname  racecount  avg_racetime\n",
      "0                      Bucco          4          48.6\n",
      "1                   Fruitcup          5          52.7\n",
      "2              Golden Graham          4          54.2\n",
      "3             Hywel the Woof          6          54.8\n",
      "4  Baroness von Fluffyshanks          4          55.2\n",
      "5                Gareth Bale          4          55.3\n",
      "6                  Stonewall          6          55.9\n",
      "7              Winston Smith          4          56.0\n",
      "8        Mary Queen of Corgs          4          56.9\n"
     ]
    }
   ],
   "source": [
    "# 3\n",
    "query = '''\n",
    "select \n",
    "    corgname, \n",
    "    count(o.corgid) as \"racecount\", \n",
    "    round(avg(racetime), 1) as \"avg_racetime\"\n",
    "from outcome o\n",
    "join corgi c on o.corgid = c.corgid\n",
    "group by corgname\n",
    "having avg(racetime) < 57\n",
    "order by avg(racetime);\n",
    "'''\n",
    "\n",
    "df = pd.read_sql(query, conn)\n",
    "print(df)"
   ]
  },
  {
   "cell_type": "code",
   "execution_count": 6,
   "id": "9e062d5b-9fd5-4f27-b6c1-831a06d668de",
   "metadata": {},
   "outputs": [
    {
     "name": "stderr",
     "output_type": "stream",
     "text": [
      "/var/folders/96/kzlzzx2556jf68c57bc_gc180000gn/T/ipykernel_65295/2027215934.py:16: UserWarning: pandas only supports SQLAlchemy connectable (engine/connection) or database string URI or sqlite3 DBAPI2 connection. Other DBAPI2 objects are not tested. Please consider using SQLAlchemy.\n",
      "  df = pd.read_sql(query, conn)\n"
     ]
    },
    {
     "name": "stdout",
     "output_type": "stream",
     "text": [
      "                    racename    racedate  corgi_count   best  worst\n",
      "0             Del Mar Trophy  2018-06-03           12  41.26  71.46\n",
      "1             Memorial Derby  2018-06-17           10  44.89  71.54\n",
      "2                Dixie Derby  2018-06-24           12  40.74  72.79\n",
      "3               Missions Cup  2018-06-30           13  40.73  71.80\n",
      "4            Borderside Dash  2018-07-21           11  42.75  74.28\n",
      "5               Teton Runoff  2018-07-29           14  48.33  73.49\n",
      "6              Emerald Chase  2018-08-05           12  42.99  72.26\n",
      "7        Billings Grand Prix  2018-08-12           11  42.59  74.93\n",
      "8                  Idaho Cup  2018-08-19           13  44.00  73.36\n",
      "9            Bachelor Stakes  2018-08-26           12  40.07  73.30\n",
      "10  Golden Gate Invitational  2018-09-23           14  40.10  74.54\n"
     ]
    }
   ],
   "source": [
    "# 4\n",
    "query = '''\n",
    "select \n",
    "    racename, \n",
    "    racedate, \n",
    "    count(corgid) as \"corgi_count\", \n",
    "    min(racetime) as \"best\", \n",
    "    max(racetime) as \"worst\"\n",
    "from outcome o\n",
    "join race r on o.raceid = r.raceid\n",
    "group by racedate, racename\n",
    "order by racedate;\n",
    "'''\n",
    "\n",
    "df = pd.read_sql(query, conn)\n",
    "print(df)"
   ]
  },
  {
   "cell_type": "code",
   "execution_count": 7,
   "id": "c68e1556-8712-42f2-9395-03d16692ad6d",
   "metadata": {},
   "outputs": [
    {
     "name": "stderr",
     "output_type": "stream",
     "text": [
      "/var/folders/96/kzlzzx2556jf68c57bc_gc180000gn/T/ipykernel_65295/3985095913.py:16: UserWarning: pandas only supports SQLAlchemy connectable (engine/connection) or database string URI or sqlite3 DBAPI2 connection. Other DBAPI2 objects are not tested. Please consider using SQLAlchemy.\n",
      "  df = pd.read_sql(query, conn)\n"
     ]
    },
    {
     "name": "stdout",
     "output_type": "stream",
     "text": [
      "                   racename    racedate  corgi_count  time_difference\n",
      "0  Golden Gate Invitational  2018-09-23           14            34.44\n",
      "1           Bachelor Stakes  2018-08-26           12            33.23\n",
      "2                 Idaho Cup  2018-08-19           13            29.36\n"
     ]
    }
   ],
   "source": [
    "# 5\n",
    "query = '''\n",
    "select \n",
    "    racename, \n",
    "    racedate, \n",
    "    count(corgid) as \"corgi_count\", \n",
    "    (max(racetime) - min(racetime)) as \"time_difference\"\n",
    "from outcome o\n",
    "join race r on o.raceid = r.raceid\n",
    "group by racedate, racename\n",
    "order by racedate desc\n",
    "limit 3;\n",
    "'''\n",
    "\n",
    "df = pd.read_sql(query, conn)\n",
    "print(df)"
   ]
  },
  {
   "cell_type": "code",
   "execution_count": 8,
   "id": "b0acf5a0-b4c5-43a1-be91-7694f754b8d6",
   "metadata": {},
   "outputs": [
    {
     "name": "stderr",
     "output_type": "stream",
     "text": [
      "/var/folders/96/kzlzzx2556jf68c57bc_gc180000gn/T/ipykernel_65295/1289946021.py:20: UserWarning: pandas only supports SQLAlchemy connectable (engine/connection) or database string URI or sqlite3 DBAPI2 connection. Other DBAPI2 objects are not tested. Please consider using SQLAlchemy.\n",
      "  df = pd.read_sql(query, conn)\n"
     ]
    },
    {
     "name": "stdout",
     "output_type": "stream",
     "text": [
      "                    racename    racedate  racetemp  stanley_racetime\n",
      "0             Del Mar Trophy  2018-06-03        80             66.97\n",
      "1             Memorial Derby  2018-06-17        77               NaN\n",
      "2                Dixie Derby  2018-06-24        95             44.68\n",
      "3               Missions Cup  2018-06-30        73             49.93\n",
      "4            Borderside Dash  2018-07-21        74             74.28\n",
      "5               Teton Runoff  2018-07-29        77               NaN\n",
      "6              Emerald Chase  2018-08-05        89             62.83\n",
      "7        Billings Grand Prix  2018-08-12        95               NaN\n",
      "8                  Idaho Cup  2018-08-19        93               NaN\n",
      "9            Bachelor Stakes  2018-08-26        87               NaN\n",
      "10  Golden Gate Invitational  2018-09-23        81             58.02\n"
     ]
    }
   ],
   "source": [
    "# 6\n",
    "query = '''\n",
    "with stanley as (\n",
    "select r.raceid, racetime\n",
    "from outcome o\n",
    "join race r on o.raceid = r.raceid\n",
    "where corgid = (select corgid from corgi where corgname = 'Stanley')\n",
    ")\n",
    "select \n",
    "    r.racename, \n",
    "    r.racedate, \n",
    "    r.racetemp, \n",
    "    s.racetime as \"stanley_racetime\"\n",
    "from race r\n",
    "left join stanley s on r.raceid = s.raceid\n",
    "order by r.racedate; \n",
    "'''\n",
    "\n",
    "df = pd.read_sql(query, conn)\n",
    "print(df)"
   ]
  },
  {
   "cell_type": "code",
   "execution_count": 9,
   "id": "71c5e433-213c-4712-88f8-672f521f9cca",
   "metadata": {},
   "outputs": [
    {
     "name": "stderr",
     "output_type": "stream",
     "text": [
      "/var/folders/96/kzlzzx2556jf68c57bc_gc180000gn/T/ipykernel_65295/2520541285.py:32: UserWarning: pandas only supports SQLAlchemy connectable (engine/connection) or database string URI or sqlite3 DBAPI2 connection. Other DBAPI2 objects are not tested. Please consider using SQLAlchemy.\n",
      "  df = pd.read_sql(query, conn)\n"
     ]
    },
    {
     "name": "stdout",
     "output_type": "stream",
     "text": [
      "                    racename   avg_race  fast_corgis percent_faster\n",
      "0               Missions Cup  57.786923            5          38.5%\n",
      "1        Billings Grand Prix  58.852727            4          36.4%\n",
      "2   Golden Gate Invitational  58.482143            5          35.7%\n",
      "3               Teton Runoff  61.490714            5          35.7%\n",
      "4             Del Mar Trophy  57.383333            4          33.3%\n",
      "5              Emerald Chase  58.328333            4          33.3%\n",
      "6                Dixie Derby  59.446667            4          33.3%\n",
      "7                  Idaho Cup  57.919231            4          30.8%\n",
      "8             Memorial Derby  60.780000            3          30.0%\n",
      "9            Borderside Dash  58.186364            3          27.3%\n",
      "10           Bachelor Stakes  59.707500            3          25.0%\n"
     ]
    }
   ],
   "source": [
    "# 7\n",
    "query = '''\n",
    "with avg_race as (\n",
    "select\n",
    "\traceid,\n",
    "\tavg(racetime) as \"avg_race\"\n",
    "from outcome\n",
    "group by raceid \n",
    "), \n",
    "race_stats as (\n",
    "select \n",
    "    r.raceid,\n",
    "    racename,\n",
    "    avg_race,\n",
    "    count(corgid) as \"corgi_count\",\n",
    "    count(case when racetime < (avg_race - 5) then 1 end) as \"fast_corgis\"\n",
    "from race r\n",
    "join outcome o on r.raceid = o.raceid \n",
    "join avg_race ar on r.raceid = ar.raceid\n",
    "group by r.raceid, racename, avg_race\n",
    ")\n",
    "select \n",
    "    racename, \n",
    "    avg_race,\n",
    "    fast_corgis,\n",
    "    CONCAT(round((fast_corgis::float / corgi_count * 100)::numeric, 1)::text, '%') as \"percent_faster\"\n",
    "from race_stats\n",
    "order by percent_faster desc;\n",
    "'''\n",
    "\n",
    "df = pd.read_sql(query, conn)\n",
    "print(df)"
   ]
  },
  {
   "cell_type": "code",
   "execution_count": 10,
   "id": "c13f0c02-eba9-4396-8b84-5e9781098626",
   "metadata": {},
   "outputs": [
    {
     "name": "stderr",
     "output_type": "stream",
     "text": [
      "/var/folders/96/kzlzzx2556jf68c57bc_gc180000gn/T/ipykernel_65295/3103598840.py:14: UserWarning: pandas only supports SQLAlchemy connectable (engine/connection) or database string URI or sqlite3 DBAPI2 connection. Other DBAPI2 objects are not tested. Please consider using SQLAlchemy.\n",
      "  df = pd.read_sql(query, conn)\n"
     ]
    },
    {
     "name": "stdout",
     "output_type": "stream",
     "text": [
      "                    racename  Male Dogs  Female Dogs\n",
      "0        Billings Grand Prix          4            7\n",
      "1               Teton Runoff          8            6\n",
      "2             Del Mar Trophy          8            4\n",
      "3                  Idaho Cup          8            5\n",
      "4               Missions Cup          8            5\n",
      "5                Dixie Derby          5            7\n",
      "6             Memorial Derby          4            6\n",
      "7            Borderside Dash          8            3\n",
      "8              Emerald Chase          9            3\n",
      "9   Golden Gate Invitational          7            7\n",
      "10           Bachelor Stakes          6            6\n"
     ]
    }
   ],
   "source": [
    "# 8\n",
    "query = '''\n",
    "select \n",
    "    racename, \n",
    "    racedate,\n",
    "    count(case when gender in ('M', 'NM') then 1 end) as \"Male Dogs\",\n",
    "    count(case when gender in ('F', 'SF') then 1 end) as \"Female Dogs\"\n",
    "from outcome o\n",
    "join race r on o.raceid = r.raceid\n",
    "join corgi c on o.corgid = c.corgid \n",
    "group by racename, racedate\n",
    "order by racedate;\n",
    "'''\n",
    "\n",
    "df = pd.read_sql(query, conn)\n",
    "print(df)"
   ]
  },
  {
   "cell_type": "code",
   "execution_count": 11,
   "id": "66804673-f016-4e32-945c-07cb3924f748",
   "metadata": {
    "tags": []
   },
   "outputs": [
    {
     "name": "stderr",
     "output_type": "stream",
     "text": [
      "/var/folders/96/kzlzzx2556jf68c57bc_gc180000gn/T/ipykernel_65295/61234902.py:18: UserWarning: pandas only supports SQLAlchemy connectable (engine/connection) or database string URI or sqlite3 DBAPI2 connection. Other DBAPI2 objects are not tested. Please consider using SQLAlchemy.\n",
      "  df = pd.read_sql(query, conn)\n"
     ]
    },
    {
     "name": "stdout",
     "output_type": "stream",
     "text": [
      "                    racename    racedate              winning_corgi  \\\n",
      "0             Del Mar Trophy  2018-06-03             Hywel the Woof   \n",
      "1             Memorial Derby  2018-06-17                      Bucco   \n",
      "2                Dixie Derby  2018-06-24  Baroness von Fluffyshanks   \n",
      "3               Missions Cup  2018-06-30                      Bucco   \n",
      "4            Borderside Dash  2018-07-21                Gareth Bale   \n",
      "5               Teton Runoff  2018-07-29                    Oatmeal   \n",
      "6              Emerald Chase  2018-08-05                   Fruitcup   \n",
      "7        Billings Grand Prix  2018-08-12                  Stonewall   \n",
      "8                  Idaho Cup  2018-08-19  Baroness von Fluffyshanks   \n",
      "9            Bachelor Stakes  2018-08-26                   Jedediah   \n",
      "10  Golden Gate Invitational  2018-09-23                Snarla June   \n",
      "\n",
      "    winning_time  \n",
      "0          41.26  \n",
      "1          44.89  \n",
      "2          40.74  \n",
      "3          40.73  \n",
      "4          42.75  \n",
      "5          48.33  \n",
      "6          42.99  \n",
      "7          42.59  \n",
      "8          44.00  \n",
      "9          40.07  \n",
      "10         40.10  \n"
     ]
    }
   ],
   "source": [
    "# 9\n",
    "query = '''\n",
    "with fastest_times as (\n",
    "select o.raceid, racename, racedate, min(racetime) as \"fastest_time\"\n",
    "from outcome o\n",
    "join race r on o.raceid = r.raceid\n",
    "group by o.raceid, racename, racedate\n",
    ")\n",
    "select ft.racename, ft.racedate, c.corgname as \"winning_corgi\", fastest_time as \"winning_time\"\n",
    "from outcome o\n",
    "join fastest_times ft on o.raceid = ft.raceid\n",
    "join corgi c on o.corgid = c.corgid\n",
    "where o.racetime = ft.fastest_time\n",
    "order by racedate;\n",
    "'''\n",
    "\n",
    "df = pd.read_sql(query, conn)\n",
    "print(df)"
   ]
  },
  {
   "cell_type": "code",
   "execution_count": 12,
   "id": "6f7eacf1-a550-4e69-95c9-a5bd5efca082",
   "metadata": {
    "tags": []
   },
   "outputs": [
    {
     "name": "stderr",
     "output_type": "stream",
     "text": [
      "/var/folders/96/kzlzzx2556jf68c57bc_gc180000gn/T/ipykernel_65295/2497830535.py:4: UserWarning: pandas only supports SQLAlchemy connectable (engine/connection) or database string URI or sqlite3 DBAPI2 connection. Other DBAPI2 objects are not tested. Please consider using SQLAlchemy.\n",
      "  valid_ids = pd.read_sql(query, conn)['corgid'].tolist()\n"
     ]
    },
    {
     "name": "stdin",
     "output_type": "stream",
     "text": [
      "Enter a corgi ID or 'q' to quit:  h\n"
     ]
    },
    {
     "name": "stdout",
     "output_type": "stream",
     "text": [
      "Invalid input. Please enter a number or 'q' to quit.\n"
     ]
    },
    {
     "name": "stdin",
     "output_type": "stream",
     "text": [
      "Enter a corgi ID or 'q' to quit:  50\n"
     ]
    },
    {
     "name": "stdout",
     "output_type": "stream",
     "text": [
      "Invalid corgi ID. Please try again.\n"
     ]
    },
    {
     "name": "stdin",
     "output_type": "stream",
     "text": [
      "Enter a corgi ID or 'q' to quit:  5\n"
     ]
    },
    {
     "name": "stderr",
     "output_type": "stream",
     "text": [
      "/var/folders/96/kzlzzx2556jf68c57bc_gc180000gn/T/ipykernel_65295/2497830535.py:22: UserWarning: pandas only supports SQLAlchemy connectable (engine/connection) or database string URI or sqlite3 DBAPI2 connection. Other DBAPI2 objects are not tested. Please consider using SQLAlchemy.\n",
      "  corgname = pd.read_sql(query, conn)['corgname'].iloc[0]\n",
      "/var/folders/96/kzlzzx2556jf68c57bc_gc180000gn/T/ipykernel_65295/2497830535.py:59: UserWarning: pandas only supports SQLAlchemy connectable (engine/connection) or database string URI or sqlite3 DBAPI2 connection. Other DBAPI2 objects are not tested. Please consider using SQLAlchemy.\n",
      "  df = pd.read_sql(query, conn)\n"
     ]
    },
    {
     "name": "stdout",
     "output_type": "stream",
     "text": [
      "\n",
      "Results for: Smiley Shortdog\n",
      "                    racename    racedate  corgicount racetime position\n",
      "0             Del Mar Trophy  2018-06-03          12      DNC      DNC\n",
      "1             Memorial Derby  2018-06-17          10    71.54       10\n",
      "2                Dixie Derby  2018-06-24          12      DNC      DNC\n",
      "3               Missions Cup  2018-06-30          13      DNC      DNC\n",
      "4            Borderside Dash  2018-07-21          11    53.32        4\n",
      "5               Teton Runoff  2018-07-29          14      DNC      DNC\n",
      "6              Emerald Chase  2018-08-05          12    59.21        6\n",
      "7        Billings Grand Prix  2018-08-12          11    64.18        6\n",
      "8                  Idaho Cup  2018-08-19          13    63.79       10\n",
      "9            Bachelor Stakes  2018-08-26          12    49.41        3\n",
      "10  Golden Gate Invitational  2018-09-23          14      DNC      DNC\n"
     ]
    },
    {
     "name": "stdin",
     "output_type": "stream",
     "text": [
      "Enter a corgi ID or 'q' to quit:  7\n"
     ]
    },
    {
     "name": "stderr",
     "output_type": "stream",
     "text": [
      "/var/folders/96/kzlzzx2556jf68c57bc_gc180000gn/T/ipykernel_65295/2497830535.py:22: UserWarning: pandas only supports SQLAlchemy connectable (engine/connection) or database string URI or sqlite3 DBAPI2 connection. Other DBAPI2 objects are not tested. Please consider using SQLAlchemy.\n",
      "  corgname = pd.read_sql(query, conn)['corgname'].iloc[0]\n",
      "/var/folders/96/kzlzzx2556jf68c57bc_gc180000gn/T/ipykernel_65295/2497830535.py:59: UserWarning: pandas only supports SQLAlchemy connectable (engine/connection) or database string URI or sqlite3 DBAPI2 connection. Other DBAPI2 objects are not tested. Please consider using SQLAlchemy.\n",
      "  df = pd.read_sql(query, conn)\n"
     ]
    },
    {
     "name": "stdout",
     "output_type": "stream",
     "text": [
      "\n",
      "Results for: Holden Corgfield\n",
      "                    racename    racedate  corgicount racetime position\n",
      "0             Del Mar Trophy  2018-06-03          12      DNC      DNC\n",
      "1             Memorial Derby  2018-06-17          10    70.57        9\n",
      "2                Dixie Derby  2018-06-24          12    72.64       11\n",
      "3               Missions Cup  2018-06-30          13      DNC      DNC\n",
      "4            Borderside Dash  2018-07-21          11    48.71        3\n",
      "5               Teton Runoff  2018-07-29          14      DNC      DNC\n",
      "6              Emerald Chase  2018-08-05          12    50.13        3\n",
      "7        Billings Grand Prix  2018-08-12          11      DNC      DNC\n",
      "8                  Idaho Cup  2018-08-19          13    48.86        4\n",
      "9            Bachelor Stakes  2018-08-26          12      DNC      DNC\n",
      "10  Golden Gate Invitational  2018-09-23          14    57.84        6\n"
     ]
    },
    {
     "name": "stdin",
     "output_type": "stream",
     "text": [
      "Enter a corgi ID or 'q' to quit:  q\n"
     ]
    }
   ],
   "source": [
    "# 10\n",
    "query = \"select corgid from corgi;\"\n",
    "valid_ids = pd.read_sql(query, conn)['corgid'].tolist()\n",
    "valid_ids\n",
    "\n",
    "while True:\n",
    "    corgid = input(\"Enter a corgi ID or 'q' to quit: \")\n",
    "    if corgid.lower() == 'q':\n",
    "        break\n",
    "\n",
    "    try:\n",
    "        corgid = int(corgid)\n",
    "        if corgid not in valid_ids:\n",
    "            print(\"Invalid corgi ID. Please try again.\")\n",
    "            continue\n",
    "    except ValueError:\n",
    "        print(\"Invalid input. Please enter a number or 'q' to quit.\")\n",
    "        continue\n",
    "    \n",
    "    query = f\"SELECT corgname FROM corgi WHERE corgid = {corgid};\"\n",
    "    corgname = pd.read_sql(query, conn)['corgname'].iloc[0]\n",
    "    print(f\"\\nResults for: {corgname}\")\n",
    "    \n",
    "    query = f'''\n",
    "    with search as (\n",
    "    select r.raceid, racetime\n",
    "    from outcome o\n",
    "    join race r on o.raceid = r.raceid\n",
    "    where corgid = {corgid}\n",
    "    ),\n",
    "    corgicounts as (\n",
    "    select \n",
    "        raceid, \n",
    "        count(corgid) as \"corgicount\"\n",
    "    from outcome o\n",
    "    group by raceid\n",
    "    ),\n",
    "    positions as (\n",
    "    select\n",
    "        raceid,\n",
    "        corgid,\n",
    "        rank() over (partition by raceid order by racetime) as \"position\"\n",
    "    from outcome\n",
    "    )\n",
    "    select \n",
    "        r.racename, \n",
    "        r.racedate,\n",
    "        c.corgicount,\n",
    "        coalesce(s.racetime::text, 'DNC') as \"racetime\",\n",
    "        coalesce(p.position::text, 'DNC') as \"position\"\n",
    "    from race r\n",
    "    join corgicounts c on r.raceid = c.raceid\n",
    "    left join search s on r.raceid = s.raceid\n",
    "    LEFT JOIN positions p ON r.raceid = p.raceid and corgid = {corgid}\n",
    "    order by r.racedate; \n",
    "    '''\n",
    "\n",
    "    df = pd.read_sql(query, conn)\n",
    "    print(df)"
   ]
  },
  {
   "cell_type": "code",
   "execution_count": 13,
   "id": "286be26b-e700-4095-aa47-d1eaf0c53f6a",
   "metadata": {
    "tags": []
   },
   "outputs": [],
   "source": [
    "conn.close()"
   ]
  }
 ],
 "metadata": {
  "kernelspec": {
   "display_name": "Python 3 (ipykernel)",
   "language": "python",
   "name": "python3"
  },
  "language_info": {
   "codemirror_mode": {
    "name": "ipython",
    "version": 3
   },
   "file_extension": ".py",
   "mimetype": "text/x-python",
   "name": "python",
   "nbconvert_exporter": "python",
   "pygments_lexer": "ipython3",
   "version": "3.11.5"
  }
 },
 "nbformat": 4,
 "nbformat_minor": 5
}
