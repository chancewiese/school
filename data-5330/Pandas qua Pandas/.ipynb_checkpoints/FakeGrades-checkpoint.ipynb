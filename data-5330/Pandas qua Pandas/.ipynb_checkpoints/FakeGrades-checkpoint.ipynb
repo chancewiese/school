{
 "cells": [
  {
   "cell_type": "code",
   "execution_count": 2,
   "id": "23cb6301-dd00-42b5-9322-93dd497816d9",
   "metadata": {
    "tags": []
   },
   "outputs": [],
   "source": [
    "# Import Pandas and Numpy\n",
    "import pandas as pd\n",
    "import numpy as np"
   ]
  },
  {
   "cell_type": "code",
   "execution_count": 3,
   "id": "1b23866e-2ddd-4822-a2b5-7acc424dec91",
   "metadata": {
    "tags": []
   },
   "outputs": [
    {
     "name": "stdout",
     "output_type": "stream",
     "text": [
      "          HW1  HW2  HW3  HW4  HW5  HW6  Quiz 1  Quiz 2  Quiz 3  Quiz 4  \\\n",
      "Name                                                                     \n",
      "Phil       65   83   82   76   97  NaN      65      76      75      81   \n",
      "Horace     89   86   93   90   90  NaN      88      83      89      89   \n",
      "Lucille    63   30   62   59   59  NaN      73      86      69      58   \n",
      "Janine     74   73   85   67   82  NaN      77      70      70      86   \n",
      "Eustace    90   70   75   98   94  NaN      88      87      87      93   \n",
      "Mortimer   81   83   71   43   57  NaN      66      83      71      43   \n",
      "Gertrude   62   89   70   55   93  NaN      79      91      78      79   \n",
      "Koopa      86    0   91   88   91  NaN      90      90      90       0   \n",
      "\n",
      "          Quiz 5  Quiz 6  Quiz 7  Midterm  Final Exam  \n",
      "Name                                                   \n",
      "Phil          88      85      78       79          79  \n",
      "Horace       100      88      90       92          97  \n",
      "Lucille       93      64      60       38          60  \n",
      "Janine        90      85      94       84          91  \n",
      "Eustace       95      93      89       80          98  \n",
      "Mortimer      60       0      77       72          52  \n",
      "Gertrude      87      80      68       74          83  \n",
      "Koopa         93      90     100       88          93  \n"
     ]
    }
   ],
   "source": [
    "# 1\n",
    "df = pd.read_csv(\"FakeGrades.csv\", index_col = 0)\n",
    "print(df)"
   ]
  },
  {
   "cell_type": "code",
   "execution_count": 4,
   "id": "89aa9fc1-b49a-4e8e-b5b4-e70defb466ce",
   "metadata": {
    "tags": []
   },
   "outputs": [
    {
     "name": "stdout",
     "output_type": "stream",
     "text": [
      "Name\n",
      "Phil        65\n",
      "Horace      89\n",
      "Lucille     63\n",
      "Janine      74\n",
      "Eustace     90\n",
      "Mortimer    81\n",
      "Gertrude    62\n",
      "Koopa       86\n",
      "Name: HW1, dtype: int64\n"
     ]
    }
   ],
   "source": [
    "# 2\n",
    "print(df['HW1'])"
   ]
  },
  {
   "cell_type": "code",
   "execution_count": 5,
   "id": "86f31d67-6037-4ac3-b928-2b0d206804b6",
   "metadata": {
    "tags": []
   },
   "outputs": [
    {
     "name": "stdout",
     "output_type": "stream",
     "text": [
      "          HW1  HW2  HW3  HW4  HW5  HW6\n",
      "Name                                  \n",
      "Phil       65   83   82   76   97  NaN\n",
      "Horace     89   86   93   90   90  NaN\n",
      "Lucille    63   30   62   59   59  NaN\n",
      "Janine     74   73   85   67   82  NaN\n",
      "Eustace    90   70   75   98   94  NaN\n",
      "Mortimer   81   83   71   43   57  NaN\n",
      "Gertrude   62   89   70   55   93  NaN\n",
      "Koopa      86    0   91   88   91  NaN\n",
      "\n",
      "All values for HW6 are empty/NaN\n"
     ]
    }
   ],
   "source": [
    "# 3\n",
    "print(df[['HW1', 'HW2', 'HW3', 'HW4', 'HW5', 'HW6']])\n",
    "print(\"\\nAll values for HW6 are empty/NaN\")"
   ]
  },
  {
   "cell_type": "code",
   "execution_count": 6,
   "id": "6255a42a-4c83-4e45-9e53-56c4fa64556c",
   "metadata": {
    "tags": []
   },
   "outputs": [
    {
     "name": "stdout",
     "output_type": "stream",
     "text": [
      "          HW5  HW6\n",
      "Name              \n",
      "Phil       97  100\n",
      "Horace     90  100\n",
      "Lucille    59  100\n",
      "Janine     82  100\n",
      "Eustace    94  100\n",
      "Mortimer   57  100\n",
      "Gertrude   93  100\n",
      "Koopa      91  100\n"
     ]
    }
   ],
   "source": [
    "# 4\n",
    "df['HW6'] = 100\n",
    "print(df[['HW5', 'HW6']])"
   ]
  },
  {
   "cell_type": "code",
   "execution_count": 7,
   "id": "ad51e0cb-57dc-40e9-85f5-ed0741dcebf8",
   "metadata": {
    "tags": []
   },
   "outputs": [
    {
     "name": "stdout",
     "output_type": "stream",
     "text": [
      "HW1            81\n",
      "HW2            83\n",
      "HW3            71\n",
      "HW4            43\n",
      "HW5            57\n",
      "HW6           100\n",
      "Quiz 1         66\n",
      "Quiz 2         83\n",
      "Quiz 3         71\n",
      "Quiz 4         43\n",
      "Quiz 5         60\n",
      "Quiz 6          0\n",
      "Quiz 7         77\n",
      "Midterm        72\n",
      "Final Exam     52\n",
      "Name: Mortimer, dtype: int64\n"
     ]
    }
   ],
   "source": [
    "# 5\n",
    "print(df.loc['Mortimer'])"
   ]
  },
  {
   "cell_type": "code",
   "execution_count": 8,
   "id": "48ada54f-5248-4fe6-b344-9914bdedc5da",
   "metadata": {
    "tags": []
   },
   "outputs": [
    {
     "name": "stdout",
     "output_type": "stream",
     "text": [
      "              HWAvg    QuizAvg  Midterm  Final Exam\n",
      "Name                                               \n",
      "Phil      83.833333  78.285714       79          79\n",
      "Horace    91.333333  89.571429       92          97\n",
      "Lucille   62.166667  71.857143       38          60\n",
      "Janine    80.166667  81.714286       84          91\n",
      "Eustace   87.833333  90.285714       80          98\n",
      "Mortimer  72.500000  57.142857       72          52\n",
      "Gertrude  78.166667  80.285714       74          83\n",
      "Koopa     76.000000  79.000000       88          93\n"
     ]
    }
   ],
   "source": [
    "# 6\n",
    "df['HWAvg'] = (df['HW1'] + df['HW2'] + df['HW3'] + df['HW4'] + df['HW5'] + df['HW6'])/6\n",
    "df['QuizAvg'] = (df['Quiz 1'] + df['Quiz 2'] + df['Quiz 3'] + df['Quiz 4'] + df['Quiz 5'] + df['Quiz 6'] + df['Quiz 7'])/7\n",
    "print(df[['HWAvg', 'QuizAvg', 'Midterm', 'Final Exam']])"
   ]
  },
  {
   "cell_type": "code",
   "execution_count": 9,
   "id": "f3c2bf2b-66ff-4288-8e91-bce7beb69ab2",
   "metadata": {
    "tags": []
   },
   "outputs": [
    {
     "name": "stdout",
     "output_type": "stream",
     "text": [
      "Name\n",
      "Phil        80.342857\n",
      "Horace      92.935714\n",
      "Lucille     56.928571\n",
      "Janine      84.607143\n",
      "Eustace     89.292857\n",
      "Mortimer    63.921429\n",
      "Gertrude    78.892857\n",
      "Koopa       84.550000\n",
      "Name: FinScore, dtype: float64\n"
     ]
    }
   ],
   "source": [
    "# 7\n",
    "df['FinScore'] = (df['HWAvg']*.3) + (df['QuizAvg']*.15) + (df['Midterm']*.25) + (df['Final Exam']*.3)\n",
    "print(df['FinScore'])"
   ]
  },
  {
   "cell_type": "code",
   "execution_count": 10,
   "id": "db56ba1b-a3c3-4216-bd12-341f34c73a7d",
   "metadata": {
    "tags": []
   },
   "outputs": [
    {
     "name": "stdout",
     "output_type": "stream",
     "text": [
      "           FinScore LtrGrade\n",
      "Name                        \n",
      "Phil      80.342857        B\n",
      "Horace    92.935714        A\n",
      "Lucille   56.928571        F\n",
      "Janine    84.607143        B\n",
      "Eustace   89.292857        B\n",
      "Mortimer  63.921429        D\n",
      "Gertrude  78.892857        C\n",
      "Koopa     84.550000        B\n"
     ]
    }
   ],
   "source": [
    "# 8\n",
    "conditions = [\n",
    "    df['FinScore'] >= 90.0,\n",
    "    df['FinScore'] >= 80.0,\n",
    "    df['FinScore'] >= 70.0,\n",
    "    df['FinScore'] >= 60.0,\n",
    "    True,\n",
    "]\n",
    "\n",
    "values = [\n",
    "    'A',\n",
    "    'B',\n",
    "    'C',\n",
    "    'D',\n",
    "    'F'\n",
    "]\n",
    "\n",
    "df['LtrGrade'] = np.select(conditions, values)\n",
    "print(df[['FinScore', 'LtrGrade']])"
   ]
  },
  {
   "cell_type": "code",
   "execution_count": 23,
   "id": "674a7eda-b852-4bda-a964-21a2dd74216a",
   "metadata": {
    "tags": []
   },
   "outputs": [
    {
     "name": "stdout",
     "output_type": "stream",
     "text": [
      "           FinScore LtrGrade  FinScoreAlt LtrGradeAlt\n",
      "Name                                                 \n",
      "Phil      80.342857        B    79.411905           D\n",
      "Horace    92.935714        A    95.190476           A\n",
      "Lucille   56.928571        F    59.202381           F\n",
      "Janine    84.607143        B    88.288095           C\n",
      "Eustace   89.292857        B    94.411905           B\n",
      "Mortimer  63.921429        D    56.564286           F\n",
      "Gertrude  78.892857        C    81.345238           C\n",
      "Koopa     84.550000        B    89.400000           C\n",
      "\n",
      "Horace, Lucille, Eustace, Gertrude, and Koopa would all be happy that their final scores went up.\n",
      "However, none of their letter grades changed.\n"
     ]
    }
   ],
   "source": [
    "# 9\n",
    "df['FinScoreAlt'] = (df['HWAvg']*.1) + (df['QuizAvg']*.1) + (df['Midterm']*.1) + (df['Final Exam']*.7)\n",
    "\n",
    "conditions_alt = [\n",
    "    df['FinScoreAlt'] >= 95.0,\n",
    "    df['FinScoreAlt'] >= 90.0,\n",
    "    df['FinScoreAlt'] >= 80.0,\n",
    "    df['FinScoreAlt'] >= 75.0,\n",
    "    True,\n",
    "]\n",
    "\n",
    "values_alt = [\n",
    "    'A',\n",
    "    'B',\n",
    "    'C',\n",
    "    'D',\n",
    "    'F'\n",
    "]\n",
    "\n",
    "df['LtrGradeAlt'] = np.select(conditions_alt, values_alt)\n",
    "\n",
    "print(df[['FinScore', 'LtrGrade', 'FinScoreAlt', 'LtrGradeAlt']])\n",
    "print(\"\\nHorace, Lucille, Eustace, Gertrude, and Koopa would all be happy that their final scores went up.\\nHowever, none of their letter grades changed.\")"
   ]
  }
 ],
 "metadata": {
  "kernelspec": {
   "display_name": "Python 3 (ipykernel)",
   "language": "python",
   "name": "python3"
  },
  "language_info": {
   "codemirror_mode": {
    "name": "ipython",
    "version": 3
   },
   "file_extension": ".py",
   "mimetype": "text/x-python",
   "name": "python",
   "nbconvert_exporter": "python",
   "pygments_lexer": "ipython3",
   "version": "3.11.5"
  }
 },
 "nbformat": 4,
 "nbformat_minor": 5
}
