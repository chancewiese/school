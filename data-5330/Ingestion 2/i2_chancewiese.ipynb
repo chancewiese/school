{
 "cells": [
  {
   "cell_type": "code",
   "execution_count": 1,
   "id": "d633dc41-6f3b-4549-908f-c56452742662",
   "metadata": {},
   "outputs": [],
   "source": [
    "# 1\n",
    "# Chance Wiese"
   ]
  },
  {
   "cell_type": "code",
   "execution_count": 2,
   "id": "0c0d118a-c454-4016-999d-7afdb0955115",
   "metadata": {},
   "outputs": [
    {
     "name": "stdout",
     "output_type": "stream",
     "text": [
      "pdx623.csv\n",
      "portlandeventjun22.csv\n",
      "newreg-062822.csv\n",
      "Icon\n",
      "newcorgis-20220619.csv\n",
      "newcorgis-20220618.csv\n",
      "signupsjune272022.csv\n",
      "tacoma-062322.csv\n"
     ]
    }
   ],
   "source": [
    "# 2\n",
    "import os\n",
    "\n",
    "path = '/Users/chancewiese/Dropbox/5330corgis'\n",
    "files = os.listdir(path)\n",
    "\n",
    "for file in files:\n",
    "    print(file)"
   ]
  },
  {
   "cell_type": "code",
   "execution_count": 3,
   "id": "4b5d1c53-63d3-417c-97dd-da693ec467a4",
   "metadata": {
    "tags": []
   },
   "outputs": [
    {
     "name": "stdout",
     "output_type": "stream",
     "text": [
      "                            Name Breed Gender  Weight  Age\n",
      "0  Wendell of the Gnashing Teeth   CWC     NM      32  3.3\n",
      "1                Trotsky the Dog   Pem     SF      23  5.5\n",
      "2                CanCan of Beans   Pem     SF      25  4.2\n",
      "3             Harvey the Younger   PWC      M      22  1.1\n",
      "4                 Jenni the Shiv   PWC     SF      28  3.0\n",
      "5           Ogbert the Semi-Wise   Pem     NM      25  4.0\n",
      "6                Jeff OCorgosaur   PWC      M      27  2.0\n",
      "7                  Poofy Mudfoot   Pem     SF      23  2.1\n"
     ]
    }
   ],
   "source": [
    "# 3\n",
    "import pandas as pd\n",
    "df = pd.read_csv('/Users/chancewiese/Dropbox/5330corgis/pdx623.csv')\n",
    "print(df)"
   ]
  },
  {
   "cell_type": "code",
   "execution_count": 4,
   "id": "b8aea62e-1fdf-4e24-ae1e-4783cdb1815c",
   "metadata": {
    "tags": []
   },
   "outputs": [
    {
     "name": "stderr",
     "output_type": "stream",
     "text": [
      "/var/folders/96/kzlzzx2556jf68c57bc_gc180000gn/T/ipykernel_31302/1034903121.py:15: UserWarning: pandas only supports SQLAlchemy connectable (engine/connection) or database string URI or sqlite3 DBAPI2 connection. Other DBAPI2 objects are not tested. Please consider using SQLAlchemy.\n",
      "  df_ingest = pd.read_sql_query(query, conn)\n"
     ]
    },
    {
     "name": "stdout",
     "output_type": "stream",
     "text": [
      "pdx623.csv needs to be ingested - ingesting now.\n",
      "Record created for Wendell of the Gnashing Teeth\n",
      "Record created for Trotsky the Dog\n",
      "Record created for CanCan of Beans\n",
      "Record created for Harvey the Younger\n",
      "Record created for Jenni the Shiv\n",
      "Record created for Ogbert the Semi-Wise\n",
      "Record created for Jeff OCorgosaur\n",
      "Record created for Poofy Mudfoot\n",
      "Ingestion complete for pdx623.csv.\n",
      "portlandeventjun22.csv needs to be ingested - ingesting now.\n",
      "Record created for Amber Waves of Fur\n",
      "Record created for Kodlak Whitemane\n",
      "Record created for Floaty Bee\n",
      "Record created for Bag o Donuts\n",
      "Record created for Hot Ham and Cheese\n",
      "Record created for Cruzer the Cruzedog\n",
      "Record created for Sally the Destroyer\n",
      "Record created for Elma Redfur\n",
      "Record created for Kool Thing\n",
      "Record created for Skitters McDogdog\n",
      "Record created for Ophelio\n",
      "Record created for Mr. Stealyoursandwich\n",
      "Ingestion complete for portlandeventjun22.csv.\n",
      "newreg-062822.csv needs to be ingested - ingesting now.\n",
      "Record created for Megalodon\n",
      "Record created for Sparky Punkbottom\n",
      "Record created for Esme the Pointy-Eared\n",
      "Record created for St. Kodos\n",
      "Record created for Betty Doggy Sprinty\n",
      "Ingestion complete for newreg-062822.csv.\n",
      " not a csv - skipped.\n",
      "newcorgis-20220619.csv needs to be ingested - ingesting now.\n",
      "Record created for Splüüter\n",
      "Record created for Vampira\n",
      "Record created for Heracles\n",
      "Record created for Spatula\n",
      "Record created for Maisey the Faerie Empress\n",
      "Ingestion complete for newcorgis-20220619.csv.\n",
      "newcorgis-20220618.csv already ingested - skipped.\n",
      "signupsjune272022.csv needs to be ingested - ingesting now.\n",
      "Record created for Cashew Nut\n",
      "Record created for Grover Cleveland\n",
      "Record created for Treacle\n",
      "Record created for Kraft Dinner\n",
      "Record created for Ryebread Megadog\n",
      "Record created for Courtesy Check\n",
      "Ingestion complete for signupsjune272022.csv.\n",
      "tacoma-062322.csv needs to be ingested - ingesting now.\n",
      "Record created for Dogpup\n",
      "Record created for Oscar the Gaucho\n",
      "Record created for Cleopupra\n",
      "Record created for Briar Rose\n",
      "Record created for Flannery ODogger\n",
      "Record created for Facepalm\n",
      "Record created for Mugwort\n",
      "Ingestion complete for tacoma-062322.csv.\n"
     ]
    }
   ],
   "source": [
    "# 4\n",
    "import psycopg2\n",
    "\n",
    "conn = psycopg2.connect(\n",
    "    database='corgirace',\n",
    "    user='dw_chancewiese',\n",
    "    password='Spikeball2020',\n",
    "    host='database-1.czsooswggscz.us-east-2.rds.amazonaws.com',\n",
    "    port='5432'\n",
    ")\n",
    "\n",
    "cursor = conn.cursor()\n",
    "\n",
    "query = \"SELECT * FROM ingest;\"\n",
    "df_ingest = pd.read_sql_query(query, conn)\n",
    "\n",
    "\n",
    "for file in files:\n",
    "    file_path = os.path.join(path, file)\n",
    "    file_lower = file.lower()\n",
    "    if not file.endswith('.csv'):\n",
    "        print(f\"{file_lower} not a csv - skipped.\")\n",
    "    elif file_lower in df_ingest['filename'].values:\n",
    "        print(f\"{file_lower} already ingested - skipped.\")\n",
    "    else:\n",
    "        print(f\"{file_lower} needs to be ingested - ingesting now.\")\n",
    "        df = pd.read_csv(file_path)\n",
    "        \n",
    "        # Data Cleaning\n",
    "        df['Breed'] = df['Breed'].replace(['PWC', 'CWC'], ['Pem', 'Cardi']) # Breed\n",
    "        df['Gender'] = df['Gender'].replace('Fem', 'F') # Gender\n",
    "        df['Weight'] = df['Weight'].round().astype(int) # Weight\n",
    "        df['Age'] = (df['Age'] * 2).round() / 2 # Age\n",
    "        \n",
    "        # Load corgi\n",
    "        for x in df.index:\n",
    "            cursor.execute(f'''\n",
    "            INSERT INTO corgi (corgname, breed, gender, weight, age, fromfile)\n",
    "            VALUES (\n",
    "                '{df['Name'].loc[x]}',\n",
    "                '{df['Breed'].loc[x]}',\n",
    "                '{df['Gender'].loc[x]}',\n",
    "                '{df['Weight'].loc[x]}',\n",
    "                '{df['Age'].loc[x]}',\n",
    "                '{file_lower}');\n",
    "            ''')\n",
    "            print(f\"Record created for {df['Name'].loc[x]}\")\n",
    "\n",
    "        conn.commit()\n",
    "\n",
    "        # Load ingest\n",
    "        cursor.execute(f'''\n",
    "        INSERT INTO ingest (filename, whendone)\n",
    "        VALUES ('{file_lower}', current_timestamp);\n",
    "        ''')\n",
    "\n",
    "        conn.commit()\n",
    "        print(f\"Ingestion complete for {file_lower}.\")"
   ]
  },
  {
   "cell_type": "code",
   "execution_count": 5,
   "id": "82f4c93d-d891-4f75-af1e-386e994062d9",
   "metadata": {},
   "outputs": [
    {
     "name": "stdout",
     "output_type": "stream",
     "text": [
      "\n",
      "Verify ingest table:\n",
      "                  filename                   whendone\n",
      "0  newcorgis-20220618.csv 2024-10-07 03:15:29.154882\n",
      "1              pdx623.csv 2024-10-16 22:30:30.830070\n",
      "2  portlandeventjun22.csv 2024-10-16 22:30:31.835271\n",
      "3       newreg-062822.csv 2024-10-16 22:30:32.411593\n",
      "4  newcorgis-20220619.csv 2024-10-16 22:30:32.987303\n",
      "5   signupsjune272022.csv 2024-10-16 22:30:33.602819\n",
      "6       tacoma-062322.csv 2024-10-16 22:30:34.359558\n"
     ]
    },
    {
     "name": "stderr",
     "output_type": "stream",
     "text": [
      "/var/folders/96/kzlzzx2556jf68c57bc_gc180000gn/T/ipykernel_31302/3204024492.py:3: UserWarning: pandas only supports SQLAlchemy connectable (engine/connection) or database string URI or sqlite3 DBAPI2 connection. Other DBAPI2 objects are not tested. Please consider using SQLAlchemy.\n",
      "  df_verify_ingest = pd.read_sql_query(query, conn)\n"
     ]
    }
   ],
   "source": [
    "# 5\n",
    "query = \"SELECT * FROM ingest;\"\n",
    "df_verify_ingest = pd.read_sql_query(query, conn)\n",
    "print(\"\\nVerify ingest table:\\n\", df_verify_ingest)"
   ]
  },
  {
   "cell_type": "code",
   "execution_count": 13,
   "id": "9e2b7a74-115d-40d5-aaeb-f276bc688422",
   "metadata": {
    "tags": []
   },
   "outputs": [
    {
     "name": "stdout",
     "output_type": "stream",
     "text": [
      "\n",
      "Verify ingest table:\n",
      "                              corgname                fromfile whendone_date\n",
      "corgid                                                                     \n",
      "43                 Amber Waves of Fur  portlandeventjun22.csv    2024-10-16\n",
      "46                       Bag o Donuts  portlandeventjun22.csv    2024-10-16\n",
      "59                Betty Doggy Sprinty       newreg-062822.csv    2024-10-16\n",
      "74                         Briar Rose       tacoma-062322.csv    2024-10-16\n",
      "37                    CanCan of Beans              pdx623.csv    2024-10-16\n",
      "65                         Cashew Nut   signupsjune272022.csv    2024-10-16\n",
      "73                          Cleopupra       tacoma-062322.csv    2024-10-16\n",
      "70                     Courtesy Check   signupsjune272022.csv    2024-10-16\n",
      "48                Cruzer the Cruzedog  portlandeventjun22.csv    2024-10-16\n",
      "71                             Dogpup       tacoma-062322.csv    2024-10-16\n",
      "50                        Elma Redfur  portlandeventjun22.csv    2024-10-16\n",
      "57              Esme the Pointy-Eared       newreg-062822.csv    2024-10-16\n",
      "76                           Facepalm       tacoma-062322.csv    2024-10-16\n",
      "75                   Flannery ODogger       tacoma-062322.csv    2024-10-16\n",
      "45                         Floaty Bee  portlandeventjun22.csv    2024-10-16\n",
      "28                          Fort Knox  newcorgis-20220618.csv    2024-10-07\n",
      "26                           Francine  newcorgis-20220618.csv    2024-10-07\n",
      "66                   Grover Cleveland   signupsjune272022.csv    2024-10-16\n",
      "29                            Gruyere  newcorgis-20220618.csv    2024-10-07\n",
      "38                 Harvey the Younger              pdx623.csv    2024-10-16\n",
      "62                           Heracles  newcorgis-20220619.csv    2024-10-16\n",
      "47                 Hot Ham and Cheese  portlandeventjun22.csv    2024-10-16\n",
      "41                    Jeff OCorgosaur              pdx623.csv    2024-10-16\n",
      "39                     Jenni the Shiv              pdx623.csv    2024-10-16\n",
      "44                   Kodlak Whitemane  portlandeventjun22.csv    2024-10-16\n",
      "51                         Kool Thing  portlandeventjun22.csv    2024-10-16\n",
      "68                       Kraft Dinner   signupsjune272022.csv    2024-10-16\n",
      "64          Maisey the Faerie Empress  newcorgis-20220619.csv    2024-10-16\n",
      "55                          Megalodon       newreg-062822.csv    2024-10-16\n",
      "54              Mr. Stealyoursandwich  portlandeventjun22.csv    2024-10-16\n",
      "77                            Mugwort       tacoma-062322.csv    2024-10-16\n",
      "40               Ogbert the Semi-Wise              pdx623.csv    2024-10-16\n",
      "53                            Ophelio  portlandeventjun22.csv    2024-10-16\n",
      "72                   Oscar the Gaucho       tacoma-062322.csv    2024-10-16\n",
      "42                      Poofy Mudfoot              pdx623.csv    2024-10-16\n",
      "27                           Prudence  newcorgis-20220618.csv    2024-10-07\n",
      "34                    Qween Kanonball  newcorgis-20220618.csv    2024-10-07\n",
      "69                   Ryebread Megadog   signupsjune272022.csv    2024-10-16\n",
      "49                Sally the Destroyer  portlandeventjun22.csv    2024-10-16\n",
      "30                       Sir Barxalot  newcorgis-20220618.csv    2024-10-07\n",
      "52                  Skitters McDogdog  portlandeventjun22.csv    2024-10-16\n",
      "56                  Sparky Punkbottom       newreg-062822.csv    2024-10-16\n",
      "63                            Spatula  newcorgis-20220619.csv    2024-10-16\n",
      "60                           Splüüter  newcorgis-20220619.csv    2024-10-16\n",
      "58                          St. Kodos       newreg-062822.csv    2024-10-16\n",
      "67                            Treacle   signupsjune272022.csv    2024-10-16\n",
      "36                    Trotsky the Dog              pdx623.csv    2024-10-16\n",
      "31                        Tuning Fork  newcorgis-20220618.csv    2024-10-07\n",
      "61                            Vampira  newcorgis-20220619.csv    2024-10-16\n",
      "35      Wendell of the Gnashing Teeth              pdx623.csv    2024-10-16\n",
      "32                            Wiffles  newcorgis-20220618.csv    2024-10-07\n",
      "33                             Wumpus  newcorgis-20220618.csv    2024-10-07\n"
     ]
    },
    {
     "name": "stderr",
     "output_type": "stream",
     "text": [
      "/var/folders/96/kzlzzx2556jf68c57bc_gc180000gn/T/ipykernel_31302/3989507299.py:10: UserWarning: pandas only supports SQLAlchemy connectable (engine/connection) or database string URI or sqlite3 DBAPI2 connection. Other DBAPI2 objects are not tested. Please consider using SQLAlchemy.\n",
      "  df_verify_corgi = pd.read_sql_query(query, conn, index_col='corgid')\n"
     ]
    }
   ],
   "source": [
    "# 6\n",
    "query = '''\n",
    "SELECT corgid, corgname, fromfile, DATE(whendone) AS whendone_date\n",
    "FROM corgi c\n",
    "JOIN ingest i ON c.fromfile = i.filename\n",
    "WHERE EXTRACT(YEAR FROM whendone) = EXTRACT(YEAR FROM CURRENT_DATE)\n",
    "AND EXTRACT(MONTH FROM whendone) = EXTRACT(MONTH FROM CURRENT_DATE)\n",
    "ORDER BY corgname;\n",
    "'''\n",
    "df_verify_corgi = pd.read_sql_query(query, conn, index_col='corgid')\n",
    "print(\"\\nVerify ingest table:\\n\", df_verify_corgi)"
   ]
  }
 ],
 "metadata": {
  "kernelspec": {
   "display_name": "Python 3 (ipykernel)",
   "language": "python",
   "name": "python3"
  },
  "language_info": {
   "codemirror_mode": {
    "name": "ipython",
    "version": 3
   },
   "file_extension": ".py",
   "mimetype": "text/x-python",
   "name": "python",
   "nbconvert_exporter": "python",
   "pygments_lexer": "ipython3",
   "version": "3.11.5"
  }
 },
 "nbformat": 4,
 "nbformat_minor": 5
}
