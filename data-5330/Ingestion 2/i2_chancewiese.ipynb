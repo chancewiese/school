{
 "cells": [
  {
   "cell_type": "code",
   "execution_count": null,
   "id": "d633dc41-6f3b-4549-908f-c56452742662",
   "metadata": {},
   "outputs": [],
   "source": [
    "# 1\n",
    "# Chance Wiese"
   ]
  },
  {
   "cell_type": "code",
   "execution_count": null,
   "id": "0c0d118a-c454-4016-999d-7afdb0955115",
   "metadata": {},
   "outputs": [],
   "source": []
  }
 ],
 "metadata": {
  "kernelspec": {
   "display_name": "Python 3 (ipykernel)",
   "language": "python",
   "name": "python3"
  },
  "language_info": {
   "codemirror_mode": {
    "name": "ipython",
    "version": 3
   },
   "file_extension": ".py",
   "mimetype": "text/x-python",
   "name": "python",
   "nbconvert_exporter": "python",
   "pygments_lexer": "ipython3",
   "version": "3.11.5"
  }
 },
 "nbformat": 4,
 "nbformat_minor": 5
}
