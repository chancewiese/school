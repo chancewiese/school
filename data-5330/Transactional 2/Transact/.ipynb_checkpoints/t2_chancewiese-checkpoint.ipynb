{
 "cells": [
  {
   "cell_type": "code",
   "execution_count": null,
   "id": "bb1e6bce-0b92-415b-a270-08dcbea285b9",
   "metadata": {},
   "outputs": [],
   "source": [
    "# 1\n",
    "# Chance Wiese"
   ]
  },
  {
   "cell_type": "code",
   "execution_count": 6,
   "id": "fa9d9931-e327-4adc-801f-3e7113acf0ec",
   "metadata": {
    "tags": []
   },
   "outputs": [
    {
     "name": "stdout",
     "output_type": "stream",
     "text": [
      "\n",
      "Company Name: Puptrail, Inc.\n",
      "Company Product: “teardrop” camper trailers\n",
      "Locations:\n",
      "    1. Salt Lake City\n",
      "    2. Phoenix\n",
      "    3. Boise\n",
      "\n"
     ]
    }
   ],
   "source": [
    "# 2\n",
    "print('''\n",
    "Name: Puptrail, Inc.\n",
    "Product: “teardrop” camper trailers\n",
    "Locations:\n",
    "    1. Salt Lake City\n",
    "    2. Phoenix\n",
    "    3. Boise\n",
    "''')"
   ]
  },
  {
   "cell_type": "code",
   "execution_count": 35,
   "id": "41deed60-110a-45c5-8ddb-cdbb1e35b517",
   "metadata": {
    "tags": []
   },
   "outputs": [
    {
     "name": "stdout",
     "output_type": "stream",
     "text": [
      "Delay Info:\n",
      "    delay_days  num_trailers  avg_satisfaction\n",
      "0            1             6          4.333333\n",
      "1            2             6          3.250000\n",
      "2            3            12          3.583333\n",
      "3            4             9          3.571429\n",
      "4            5             9          4.285714\n",
      "5            6            14          3.500000\n",
      "6            7             7          4.000000\n",
      "7            8            17          3.642857\n",
      "8            9            16          4.692308\n",
      "9           10            13          2.666667\n",
      "10          11            16          3.733333\n",
      "11          12            11          3.818182\n",
      "12          13             8          3.750000\n",
      "13          14            13          3.818182\n",
      "14          16             4          4.250000\n",
      "15          17             2          3.000000\n",
      "16          18             2          4.500000\n",
      "17          19             3          4.000000\n",
      "\n",
      "Correlation Matrix:\n",
      "                  delay_days  num_trailers  avg_satisfaction\n",
      "delay_days          1.000000     -0.359921          0.090055\n",
      "num_trailers       -0.359921      1.000000         -0.117962\n",
      "avg_satisfaction    0.090055     -0.117962          1.000000\n",
      "\n",
      "Relationship:\n",
      "There is a slight positive relationship between delay days and average satisfaction (correlation = 0.09).\n",
      "This tells us that customers are generally understanding of delays and aren't too unhappy with them.\n",
      "There are generally less trailers as delay days increase, which is good, but may also skew satisfaction.\n",
      "Where there are about 8-14 days delayed, more trailers are present and average satisfaction does drop, \n",
      "so it should be noted that with more trailers (and reviews), satisfaction does drop with more delay days.\n"
     ]
    },
    {
     "name": "stderr",
     "output_type": "stream",
     "text": [
      "/var/folders/96/kzlzzx2556jf68c57bc_gc180000gn/T/ipykernel_5348/1756534001.py:31: UserWarning: pandas only supports SQLAlchemy connectable (engine/connection) or database string URI or sqlite3 DBAPI2 connection. Other DBAPI2 objects are not tested. Please consider using SQLAlchemy.\n",
      "  df = pd.read_sql(query, conn)\n"
     ]
    }
   ],
   "source": [
    "# 3\n",
    "import pandas as pd\n",
    "import numpy as np\n",
    "import psycopg2\n",
    "\n",
    "psycopg2_conn = psycopg2.connect(\n",
    "    database=\"puptrail\", \n",
    "    user='dw_chancewiese',\n",
    "    password='Spikeball2020',\n",
    "    host='database-1.czsooswggscz.us-east-2.rds.amazonaws.com',\n",
    "    port='5432'\n",
    ")\n",
    "\n",
    "psycopg2_cursor = psycopg2_conn.cursor()\n",
    "\n",
    "query = '''\n",
    "SELECT \n",
    "    (o.builtdate - o.promisedate) AS delay_days,\n",
    "    COUNT(o.*) AS num_trailers,\n",
    "    AVG(s.delsatisfac) AS avg_satisfaction\n",
    "FROM oline o\n",
    "JOIN salesorder s ON o.orderid = s.orderid\n",
    "JOIN product p ON o.productid = p.prodid\n",
    "JOIN prodcat pc ON p.catid = pc.catid\n",
    "WHERE pc.category = 'Trailers'\n",
    "AND o.builtdate > o.promisedate\n",
    "GROUP BY delay_days\n",
    "ORDER BY delay_days;\n",
    "'''\n",
    "\n",
    "df = pd.read_sql(query, psycopg2_conn)\n",
    "print(\"Delay Info:\")\n",
    "print(df)\n",
    "\n",
    "df_corr = df.corr()\n",
    "print(\"\\nCorrelation Matrix:\")\n",
    "print(df_corr)\n",
    "\n",
    "print(\"\\nRelationship:\")\n",
    "print('''There is a slight positive relationship between delay days and average satisfaction (correlation = 0.09).\n",
    "This tells us that customers are generally understanding of delays and aren't too unhappy with them.\n",
    "There are generally less trailers as delay days increase, which is good, but may also skew satisfaction.\n",
    "Where there are about 8-14 days delayed, more trailers are present and average satisfaction does drop, \n",
    "so it should be noted that with more trailers (and reviews), satisfaction does drop with more delay days.''')"
   ]
  },
  {
   "cell_type": "code",
   "execution_count": 37,
   "id": "09a7a6a2-ae0e-4e6a-b3f3-b2b426556dc1",
   "metadata": {
    "tags": []
   },
   "outputs": [
    {
     "name": "stdout",
     "output_type": "stream",
     "text": [
      "Upsell Info by Salesperson:\n",
      "    spfname     splname        sitename  trailers_sold  upgrades_sold  \\\n",
      "0    Maryla    Kunibert  Salt Lake City            276            335   \n",
      "1   Milburn       Guido  Salt Lake City            309            361   \n",
      "2     Kelan      Fowler           Boise            206            212   \n",
      "3    Shayan      Hewitt           Boise            291            320   \n",
      "4   Alberto       Dimas  Salt Lake City            112            121   \n",
      "5    Archie      Dinesh  Salt Lake City            171            175   \n",
      "6   Roksana     Antonia           Boise            297            235   \n",
      "7     Andre       Clare         Phoenix            200             93   \n",
      "8     Robby        Lexy         Phoenix            141             54   \n",
      "9    Bethel      Derick         Phoenix            131             46   \n",
      "10     Miah  Wittington         Phoenix            131             31   \n",
      "\n",
      "    upgrade_revenue  avg_upsell_per_trailer  \n",
      "0          287825.0                 1042.84  \n",
      "1          309195.0                 1000.63  \n",
      "2          205940.0                  999.71  \n",
      "3          271400.0                  932.65  \n",
      "4          103395.0                  923.17  \n",
      "5          143625.0                  839.91  \n",
      "6          230325.0                  775.51  \n",
      "7           91535.0                  457.68  \n",
      "8           53730.0                  381.06  \n",
      "9           44770.0                  341.76  \n",
      "10          30345.0                  231.64  \n"
     ]
    },
    {
     "name": "stderr",
     "output_type": "stream",
     "text": [
      "/var/folders/96/kzlzzx2556jf68c57bc_gc180000gn/T/ipykernel_5348/785358344.py:33: UserWarning: pandas only supports SQLAlchemy connectable (engine/connection) or database string URI or sqlite3 DBAPI2 connection. Other DBAPI2 objects are not tested. Please consider using SQLAlchemy.\n",
      "  df = pd.read_sql(query, conn)\n"
     ]
    }
   ],
   "source": [
    "# 4\n",
    "query = '''\n",
    "WITH trailer_sales AS (\n",
    "    SELECT \n",
    "        sp.spid,\n",
    "        sp.spfname,\n",
    "        sp.splname,\n",
    "        si.sitename,\n",
    "        COUNT(DISTINCT CASE WHEN pc.category = 'Trailers' THEN ol.orderid END) AS trailers_sold,\n",
    "        COUNT(DISTINCT CASE WHEN pc.category = 'Upgrades' THEN ol.olid END) AS upgrades_sold,\n",
    "        SUM(CASE WHEN pc.category = 'Upgrades' THEN ol.linetotal ELSE 0 END) AS upgrade_revenue\n",
    "    FROM salesperson sp\n",
    "    JOIN site si ON sp.siteid = si.siteid\n",
    "    JOIN salesorder so ON sp.spid = so.sellerid\n",
    "    JOIN oline ol ON so.orderid = ol.orderid\n",
    "    JOIN product p ON ol.productid = p.prodid\n",
    "    JOIN prodcat pc ON p.catid = pc.catid\n",
    "    WHERE sp.termdate IS NULL\n",
    "    GROUP BY sp.spid, sp.spfname, sp.splname, si.sitename\n",
    ")\n",
    "SELECT \n",
    "    spfname,\n",
    "    splname,\n",
    "    sitename,\n",
    "    trailers_sold,\n",
    "    upgrades_sold,\n",
    "    upgrade_revenue,\n",
    "    CAST(upgrade_revenue / trailers_sold AS NUMERIC(10,2)) AS avg_upsell_per_trailer\n",
    "FROM trailer_sales\n",
    "ORDER BY avg_upsell_per_trailer DESC;\n",
    "'''\n",
    "\n",
    "df = pd.read_sql(query, psycopg2_conn)\n",
    "print(\"Upsell Info by Salesperson:\")\n",
    "print(df)"
   ]
  },
  {
   "cell_type": "code",
   "execution_count": null,
   "id": "02c72105-1fa9-4718-b3f0-45f842066e55",
   "metadata": {},
   "outputs": [],
   "source": [
    "# 5\n",
    "import pymssql\n",
    "\n",
    "pymssql_conn = pymssql.connect(\n",
    "    server='stairway.usu.edu',\n",
    "    user='5330user',\n",
    "    password='pipelinesnow',\n",
    "    database='pup_sl'\n",
    ")\n",
    "\n",
    "pymssql_conn_cursor = pymssql_conn_conn.cursor()"
   ]
  }
 ],
 "metadata": {
  "kernelspec": {
   "display_name": "Python 3 (ipykernel)",
   "language": "python",
   "name": "python3"
  },
  "language_info": {
   "codemirror_mode": {
    "name": "ipython",
    "version": 3
   },
   "file_extension": ".py",
   "mimetype": "text/x-python",
   "name": "python",
   "nbconvert_exporter": "python",
   "pygments_lexer": "ipython3",
   "version": "3.11.5"
  }
 },
 "nbformat": 4,
 "nbformat_minor": 5
}
