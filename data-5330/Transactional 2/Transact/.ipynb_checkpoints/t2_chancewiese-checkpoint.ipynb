{
 "cells": [
  {
   "cell_type": "code",
   "execution_count": null,
   "id": "bb1e6bce-0b92-415b-a270-08dcbea285b9",
   "metadata": {},
   "outputs": [],
   "source": [
    "# 1\n",
    "# Chance Wiese"
   ]
  },
  {
   "cell_type": "code",
   "execution_count": 6,
   "id": "fa9d9931-e327-4adc-801f-3e7113acf0ec",
   "metadata": {
    "tags": []
   },
   "outputs": [
    {
     "name": "stdout",
     "output_type": "stream",
     "text": [
      "\n",
      "Company Name: Puptrail, Inc.\n",
      "Company Product: “teardrop” camper trailers\n",
      "Locations:\n",
      "    1. Salt Lake City\n",
      "    2. Phoenix\n",
      "    3. Boise\n",
      "\n"
     ]
    }
   ],
   "source": [
    "# 2\n",
    "print('''\n",
    "Name: Puptrail, Inc.\n",
    "Product: “teardrop” camper trailers\n",
    "Locations:\n",
    "    1. Salt Lake City\n",
    "    2. Phoenix\n",
    "    3. Boise\n",
    "''')"
   ]
  },
  {
   "cell_type": "code",
   "execution_count": null,
   "id": "41deed60-110a-45c5-8ddb-cdbb1e35b517",
   "metadata": {},
   "outputs": [],
   "source": [
    "# 3\n"
   ]
  }
 ],
 "metadata": {
  "kernelspec": {
   "display_name": "Python 3 (ipykernel)",
   "language": "python",
   "name": "python3"
  },
  "language_info": {
   "codemirror_mode": {
    "name": "ipython",
    "version": 3
   },
   "file_extension": ".py",
   "mimetype": "text/x-python",
   "name": "python",
   "nbconvert_exporter": "python",
   "pygments_lexer": "ipython3",
   "version": "3.11.5"
  }
 },
 "nbformat": 4,
 "nbformat_minor": 5
}
