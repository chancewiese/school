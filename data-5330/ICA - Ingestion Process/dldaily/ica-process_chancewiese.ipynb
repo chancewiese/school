{
 "cells": [
  {
   "cell_type": "code",
   "execution_count": 49,
   "id": "82505dca-05ab-4819-a194-259bf5d2e0b6",
   "metadata": {},
   "outputs": [],
   "source": [
    "import pandas as pd\n",
    "import psycopg2\n",
    "import os\n",
    "from datetime import datetime\n",
    "\n",
    "conn = psycopg2.connect(\n",
    "    database='daslemon',\n",
    "    user='dw_chancewiese',\n",
    "    password='Spikeball2020',\n",
    "    host='database-1.czsooswggscz.us-east-2.rds.amazonaws.com',\n",
    "    port='5432'\n",
    ")\n",
    "\n",
    "cursor = conn.cursor()"
   ]
  },
  {
   "cell_type": "code",
   "execution_count": 37,
   "id": "f7afd117-2d31-4e36-8c56-811e31b7cdb1",
   "metadata": {},
   "outputs": [
    {
     "name": "stdout",
     "output_type": "stream",
     "text": [
      "    entryid       sdate branch  regno  salestot  txct        srcfile\n",
      "0         1  2023-10-11      a      1    272.08    34  a20231011.csv\n",
      "1         2  2023-10-11      a      2    247.40    30  a20231011.csv\n",
      "2         3  2023-10-11      b      1    249.65    30  b20231011.csv\n",
      "3         4  2023-10-11      b      2    232.25    28  b20231011.csv\n",
      "4         5  2023-10-11      c      1    232.81    28  c20231011.csv\n",
      "5         6  2023-10-11      c      2    260.02    31  c20231011.csv\n",
      "6         7  2023-10-11      d      1    258.06    31  d20231011.csv\n",
      "7         8  2023-10-11      d      2    217.11    26  d20231011.csv\n",
      "8         9  2023-10-11      e      1    274.89    34  e20231011.csv\n",
      "9        10  2023-10-11      e      2    224.68    28  e20231011.csv\n",
      "10       11  2023-10-12      a      1    484.00    60  a20231012.csv\n",
      "11       12  2023-10-12      a      2    499.95    62  a20231012.csv\n",
      "12       13  2023-10-12      b      1    583.00    74  b20231012.csv\n",
      "13       14  2023-10-12      b      2    584.10    71  b20231012.csv\n",
      "14       15  2023-10-12      c      1    599.50    76  c20231012.csv\n",
      "15       16  2023-10-12      c      2    410.85    50  c20231012.csv\n",
      "16       17  2023-10-12      d      1    555.50    69  d20231012.csv\n",
      "17       18  2023-10-12      d      2    514.80    64  d20231012.csv\n",
      "18       19  2023-10-12      e      1    544.50    66  e20231012.csv\n",
      "19       20  2023-10-12      e      2    519.75    66  e20231012.csv\n",
      "20       21  2023-10-13      d      1    823.90   105  d20231013.csv\n",
      "21       22  2023-10-13      d      2    741.51    92  d20231013.csv\n",
      "22       23  2023-10-13      e      1    631.40    80  e20231013.csv\n",
      "23       24  2023-10-13      e      2    651.42    81  e20231013.csv\n",
      "\n",
      "The possible values for the register column should be integers 1 and 2\n"
     ]
    },
    {
     "name": "stderr",
     "output_type": "stream",
     "text": [
      "/var/folders/96/kzlzzx2556jf68c57bc_gc180000gn/T/ipykernel_55599/975886183.py:6: UserWarning: pandas only supports SQLAlchemy connectable (engine/connection) or database string URI or sqlite3 DBAPI2 connection. Other DBAPI2 objects are not tested. Please consider using SQLAlchemy.\n",
      "  df_daily = pd.read_sql_query(query, conn)\n"
     ]
    }
   ],
   "source": [
    "# 1\n",
    "query = '''\n",
    "select * from daily;\n",
    "'''\n",
    "\n",
    "df_daily = pd.read_sql_query(query, conn)\n",
    "print(df_daily)\n",
    "\n",
    "print(\"\\nThe possible values for the register column should be integers 1 and 2\")"
   ]
  },
  {
   "cell_type": "code",
   "execution_count": 39,
   "id": "c97f36b9-9c92-4e71-ab87-ff0cede78926",
   "metadata": {},
   "outputs": [
    {
     "name": "stdout",
     "output_type": "stream",
     "text": [
      "         filename starttime endtime\n",
      "0   a20231011.csv      None    None\n",
      "1   b20231011.csv      None    None\n",
      "2   c20231011.csv      None    None\n",
      "3   d20231011.csv      None    None\n",
      "4   e20231011.csv      None    None\n",
      "5   a20231012.csv      None    None\n",
      "6   b20231012.csv      None    None\n",
      "7   c20231012.csv      None    None\n",
      "8   d20231012.csv      None    None\n",
      "9   e20231012.csv      None    None\n",
      "10  d20231013.csv      None    None\n",
      "11  e20231013.csv      None    None\n"
     ]
    },
    {
     "name": "stderr",
     "output_type": "stream",
     "text": [
      "/var/folders/96/kzlzzx2556jf68c57bc_gc180000gn/T/ipykernel_55599/1708983292.py:6: UserWarning: pandas only supports SQLAlchemy connectable (engine/connection) or database string URI or sqlite3 DBAPI2 connection. Other DBAPI2 objects are not tested. Please consider using SQLAlchemy.\n",
      "  df_ingest = pd.read_sql_query(query, conn)\n"
     ]
    }
   ],
   "source": [
    "# 2\n",
    "query = '''\n",
    "select * from ingest;\n",
    "'''\n",
    "\n",
    "df_ingest = pd.read_sql_query(query, conn)\n",
    "print(df_ingest)"
   ]
  },
  {
   "cell_type": "code",
   "execution_count": 27,
   "id": "a551ada9-3806-4057-a96b-d9c568a37def",
   "metadata": {
    "tags": []
   },
   "outputs": [
    {
     "name": "stdout",
     "output_type": "stream",
     "text": [
      "E20231016.csv\n",
      "E20231017.csv\n",
      "ica-process_chancewiese.ipynb\n",
      "E20231015.csv\n",
      "E20231014.csv\n",
      "ica-process_chancewiese-old.ipynb\n",
      "dlstart.ipynb\n",
      ".DS_Store\n",
      "E20231011.csv\n",
      "E20231013.csv\n",
      "E20231012.csv\n",
      "C20231017.csv\n",
      "C20231016.csv\n",
      "C20231014.csv\n",
      "C20231015.csv\n",
      "C20231011.csv\n",
      "C20231012.csv\n",
      "C20231013.csv\n",
      "D20231012.csv\n",
      "A20231017.csv\n",
      "A20231016.csv\n",
      "D20231013.csv\n",
      "D20231011.csv\n",
      "afternooninlogan.txt\n",
      "A20231014.csv\n",
      "A20231015.csv\n",
      "D20231014.csv\n",
      "A20231011.csv\n",
      "D20231015.csv\n",
      "D20231017.csv\n",
      "A20231012.csv\n",
      "A20231013.csv\n",
      "D20231016.csv\n",
      ".ipynb_checkpoints\n",
      "B20231013.csv\n",
      "B20231012.csv\n",
      "B20231011.csv\n",
      "B20231015.csv\n",
      "B20231014.csv\n",
      "B20231016.csv\n",
      "B20231017.csv\n"
     ]
    }
   ],
   "source": [
    "# 3\n",
    "path = '/Users/chancewiese/Local Documents/school/data-5330/ICA - Ingestion Process/dldaily'\n",
    "files = os.listdir(path)\n",
    "\n",
    "for file in files:\n",
    "    print(file)"
   ]
  },
  {
   "cell_type": "code",
   "execution_count": 33,
   "id": "4a4e5818-a234-4cd3-b7c3-730e179cf4a8",
   "metadata": {
    "tags": []
   },
   "outputs": [
    {
     "name": "stdout",
     "output_type": "stream",
     "text": [
      "['E20231016.csv', 'E20231017.csv', 'E20231015.csv', 'E20231014.csv', 'E20231011.csv', 'E20231013.csv', 'E20231012.csv', 'C20231017.csv', 'C20231016.csv', 'C20231014.csv', 'C20231015.csv', 'C20231011.csv', 'C20231012.csv', 'C20231013.csv', 'D20231012.csv', 'A20231017.csv', 'A20231016.csv', 'D20231013.csv', 'D20231011.csv', 'A20231014.csv', 'A20231015.csv', 'D20231014.csv', 'A20231011.csv', 'D20231015.csv', 'D20231017.csv', 'A20231012.csv', 'A20231013.csv', 'D20231016.csv', 'B20231013.csv', 'B20231012.csv', 'B20231011.csv', 'B20231015.csv', 'B20231014.csv', 'B20231016.csv', 'B20231017.csv']\n"
     ]
    }
   ],
   "source": [
    "# 4\n",
    "csv_files = []\n",
    "\n",
    "for file in files:\n",
    "    if file.endswith('.csv'):\n",
    "        csv_files.append(file)\n",
    "\n",
    "print(csv_files)"
   ]
  },
  {
   "cell_type": "code",
   "execution_count": 35,
   "id": "b489d6ff-aa8c-4666-82c7-0ded859a44be",
   "metadata": {
    "tags": []
   },
   "outputs": [
    {
     "name": "stdout",
     "output_type": "stream",
     "text": [
      "   register  totalsales  transactions\n",
      "0         1      231.00            28\n",
      "1         2      222.75            27\n",
      "   register  totalsales  transactions\n",
      "0         1      289.57            36\n",
      "1         2      211.61            27\n",
      "   register  totalsales  transactions\n",
      "0         1     1427.80           179\n",
      "1         2      914.76           114\n",
      "   register  totalsales  transactions\n",
      "0         1     1201.20           147\n",
      "1         2     1143.45           145\n",
      "   register  totalsales  transactions\n",
      "0         1      274.89            34\n",
      "1         2      224.68            28\n",
      "   register  totalsales  transactions\n",
      "0         1      631.40            80\n",
      "1         2      651.42            81\n",
      "   register  totalsales  transactions\n",
      "0         1      544.50            66\n",
      "1         2      519.75            66\n",
      "   register  totalsales  transactions\n",
      "0         1      284.62            36\n",
      "1         2      258.39            31\n",
      "   register  totalsales  transactions\n",
      "0         1      288.75            36\n",
      "1         2      279.67            34\n",
      "   register  totalsales  transactions\n",
      "0         1     1016.40           128\n",
      "1         2     1153.85           141\n",
      "   register  totalsales  transactions\n",
      "0         1     1113.20           140\n",
      "1         2     1121.67           140\n",
      "   register  totalsales  transactions\n",
      "0         1      232.81            28\n",
      "1         2      260.02            31\n",
      "   register  totalsales  transactions\n",
      "0         1      599.50            76\n",
      "1         2      410.85            50\n",
      "   register  totalsales  transactions\n",
      "0         1      893.20           113\n",
      "1         2      686.07            87\n",
      "   register  totalsales  transactions\n",
      "0         1       555.5            69\n",
      "1         2       514.8            64\n",
      "   register  totalsales  transactions\n",
      "0         1      259.88            32\n",
      "1         2      193.79            24\n",
      "   register  totalsales  transactions\n",
      "0       1.0      269.50            33\n",
      "1       NaN      264.82            32\n",
      "   register  totalsales  transactions\n",
      "0         1      823.90           105\n",
      "1         2      741.51            92\n",
      "   register  totalsales  transactions\n",
      "0         1      258.06            31\n",
      "1         2      217.11            26\n",
      "  register  totalsales  transactions\n",
      "0        1     1062.60           130\n",
      "1    ((*-       904.37           111\n",
      "  register  totalsales  transactions\n",
      "0        1     1306.80           167\n",
      "1       ..     1110.78           139\n",
      "   register  totalsales  transactions\n",
      "0         1     1027.95           128\n",
      "1         2     1122.66           140\n",
      "   register  totalsales  transactions\n",
      "0         1      272.08            34\n",
      "1         2      247.40            30\n",
      "   register  totalsales  transactions\n",
      "0         1     1403.60           176\n",
      "1         2     1274.13           156\n",
      "   register  totalsales  transactions\n",
      "0         1      207.90            25\n",
      "1         2      233.89            29\n",
      "   register  totalsales  transactions\n",
      "0         1      484.00            60\n",
      "1         2      499.95            62\n",
      "   register  totalsales  transactions\n",
      "0         1      885.50           110\n",
      "1         2      637.56            80\n",
      "   register  totalsales  transactions\n",
      "0         1      313.50            39\n",
      "1         2      289.57            35\n",
      "   register  totalsales  transactions\n",
      "0         1      816.20           101\n",
      "1         2      679.14            86\n",
      "   register  totalsales  transactions\n",
      "0         1       583.0            74\n",
      "1         2       584.1            71\n",
      "   register  totalsales  transactions\n",
      "0         1      249.65            30\n",
      "1         2      232.25            28\n",
      "   register  totalsales  transactions\n",
      "0         1     1052.70           130\n",
      "1         2     1241.46           151\n",
      "  register  totalsales  transactions\n",
      "0        1      958.65           118\n",
      "1    xilfa     1195.42           146\n",
      "   register  totalsales  transactions\n",
      "0         1       308.0            38\n",
      "1         2       247.5            30\n",
      "   register  totalsales  transactions\n",
      "0         1      267.30            33\n",
      "1         2      233.89            28\n"
     ]
    }
   ],
   "source": [
    "# 5\n",
    "for file in csv_files:\n",
    "    df = pd.read_csv(file)\n",
    "    print(df)"
   ]
  },
  {
   "cell_type": "code",
   "execution_count": 43,
   "id": "225a3599-542b-4533-bd83-66f0f3f5efd6",
   "metadata": {
    "tags": []
   },
   "outputs": [
    {
     "name": "stdout",
     "output_type": "stream",
     "text": [
      "e20231016.csv: False\n",
      "e20231017.csv: False\n",
      "e20231015.csv: False\n",
      "e20231014.csv: False\n",
      "e20231011.csv: True\n",
      "e20231013.csv: True\n",
      "e20231012.csv: True\n",
      "c20231017.csv: False\n",
      "c20231016.csv: False\n",
      "c20231014.csv: False\n",
      "c20231015.csv: False\n",
      "c20231011.csv: True\n",
      "c20231012.csv: True\n",
      "c20231013.csv: False\n",
      "d20231012.csv: True\n",
      "a20231017.csv: False\n",
      "a20231016.csv: False\n",
      "d20231013.csv: True\n",
      "d20231011.csv: True\n",
      "a20231014.csv: False\n",
      "a20231015.csv: False\n",
      "d20231014.csv: False\n",
      "a20231011.csv: True\n",
      "d20231015.csv: False\n",
      "d20231017.csv: False\n",
      "a20231012.csv: True\n",
      "a20231013.csv: False\n",
      "d20231016.csv: False\n",
      "b20231013.csv: False\n",
      "b20231012.csv: True\n",
      "b20231011.csv: True\n",
      "b20231015.csv: False\n",
      "b20231014.csv: False\n",
      "b20231016.csv: False\n",
      "b20231017.csv: False\n"
     ]
    }
   ],
   "source": [
    "# 6\n",
    "for file in csv_files:\n",
    "    file = file.lower()\n",
    "    if file in df_ingest['filename'].values:\n",
    "        print(f\"{file}: True\")\n",
    "    else:\n",
    "        print(f\"{file}: False\")"
   ]
  },
  {
   "cell_type": "code",
   "execution_count": 51,
   "id": "176e7575-7f79-4494-842c-be95c40d9fbe",
   "metadata": {
    "tags": []
   },
   "outputs": [],
   "source": [
    "# 7 \n",
    "for file in csv_files:\n",
    "    file_lower = file.lower()\n",
    "    start_time = datetime.now()\n",
    "    if file_lower not in df_ingest['filename'].values:\n",
    "        df = pd.read_csv(file)"
   ]
  },
  {
   "cell_type": "code",
   "execution_count": 53,
   "id": "fa36cee9-2a23-48e7-ac7e-4df7158fe697",
   "metadata": {
    "tags": []
   },
   "outputs": [],
   "source": [
    "conn.close()"
   ]
  }
 ],
 "metadata": {
  "kernelspec": {
   "display_name": "Python 3 (ipykernel)",
   "language": "python",
   "name": "python3"
  },
  "language_info": {
   "codemirror_mode": {
    "name": "ipython",
    "version": 3
   },
   "file_extension": ".py",
   "mimetype": "text/x-python",
   "name": "python",
   "nbconvert_exporter": "python",
   "pygments_lexer": "ipython3",
   "version": "3.11.5"
  }
 },
 "nbformat": 4,
 "nbformat_minor": 5
}
