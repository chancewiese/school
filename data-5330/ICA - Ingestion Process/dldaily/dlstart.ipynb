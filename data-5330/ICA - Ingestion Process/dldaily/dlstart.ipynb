{
 "cells": [
  {
   "cell_type": "code",
   "execution_count": 1,
   "id": "e8590f7d",
   "metadata": {},
   "outputs": [],
   "source": [
    "import pandas as pd\n",
    "import psycopg2\n",
    "\n",
    "# BEFORE RUNNING, MAKE SURE THIS NOTEBOOK IS IN THE SAME DIRECTORY AS ALL THE .CSV FILES IT CAME WITH!\n",
    "\n",
    "#establishing the connection\n",
    "conn = psycopg2.connect(\n",
    "    database='daslemon',\n",
    "    user='dw_chancewiese',\n",
    "    password='Spikeball2020',\n",
    "    host='database-1.czsooswggscz.us-east-2.rds.amazonaws.com',\n",
    "    port='5432'\n",
    ")\n",
    "#Creating a cursor object using the cursor() method\n",
    "cursor = conn.cursor()\n",
    "\n",
    "query = '''CREATE TABLE IF NOT EXISTS daily (\n",
    "           entryid SERIAL PRIMARY KEY,\n",
    "           sdate DATE NOT NULL,\n",
    "           branch CHAR(1),\n",
    "           regno SMALLINT,\n",
    "           salestot NUMERIC(7,2),\n",
    "           txct SMALLINT,\n",
    "           srcfile VARCHAR(20)\n",
    "        );'''\n",
    "\n",
    "cursor.execute(query)\n",
    "conn.commit()\n",
    "\n",
    "query = '''CREATE TABLE IF NOT EXISTS ingest (\n",
    "           filename VARCHAR(20) PRIMARY KEY,\n",
    "           starttime TIMESTAMP,\n",
    "           endtime TIMESTAMP\n",
    "        );'''\n",
    "\n",
    "cursor.execute(query)\n",
    "conn.commit()"
   ]
  },
  {
   "cell_type": "code",
   "execution_count": 2,
   "id": "62a3f191",
   "metadata": {},
   "outputs": [
    {
     "name": "stdout",
     "output_type": "stream",
     "text": [
      "INSERT INTO daily (sdate, branch, regno, salestot, txct, srcfile)\n",
      "                VALUES ('2023-10-11', 'a', 1, 272.08, 34, 'a20231011.csv')\n",
      "INSERT INTO daily (sdate, branch, regno, salestot, txct, srcfile)\n",
      "                VALUES ('2023-10-11', 'a', 2, 247.4, 30, 'a20231011.csv')\n",
      "INSERT INTO ingest (filename) VALUES ('a20231011.csv')\n",
      "INSERT INTO daily (sdate, branch, regno, salestot, txct, srcfile)\n",
      "                VALUES ('2023-10-11', 'b', 1, 249.65, 30, 'b20231011.csv')\n",
      "INSERT INTO daily (sdate, branch, regno, salestot, txct, srcfile)\n",
      "                VALUES ('2023-10-11', 'b', 2, 232.25, 28, 'b20231011.csv')\n",
      "INSERT INTO ingest (filename) VALUES ('b20231011.csv')\n",
      "INSERT INTO daily (sdate, branch, regno, salestot, txct, srcfile)\n",
      "                VALUES ('2023-10-11', 'c', 1, 232.81, 28, 'c20231011.csv')\n",
      "INSERT INTO daily (sdate, branch, regno, salestot, txct, srcfile)\n",
      "                VALUES ('2023-10-11', 'c', 2, 260.02, 31, 'c20231011.csv')\n",
      "INSERT INTO ingest (filename) VALUES ('c20231011.csv')\n",
      "INSERT INTO daily (sdate, branch, regno, salestot, txct, srcfile)\n",
      "                VALUES ('2023-10-11', 'd', 1, 258.06, 31, 'd20231011.csv')\n",
      "INSERT INTO daily (sdate, branch, regno, salestot, txct, srcfile)\n",
      "                VALUES ('2023-10-11', 'd', 2, 217.11, 26, 'd20231011.csv')\n",
      "INSERT INTO ingest (filename) VALUES ('d20231011.csv')\n",
      "INSERT INTO daily (sdate, branch, regno, salestot, txct, srcfile)\n",
      "                VALUES ('2023-10-11', 'e', 1, 274.89, 34, 'e20231011.csv')\n",
      "INSERT INTO daily (sdate, branch, regno, salestot, txct, srcfile)\n",
      "                VALUES ('2023-10-11', 'e', 2, 224.68, 28, 'e20231011.csv')\n",
      "INSERT INTO ingest (filename) VALUES ('e20231011.csv')\n",
      "INSERT INTO daily (sdate, branch, regno, salestot, txct, srcfile)\n",
      "                VALUES ('2023-10-12', 'a', 1, 484.0, 60, 'a20231012.csv')\n",
      "INSERT INTO daily (sdate, branch, regno, salestot, txct, srcfile)\n",
      "                VALUES ('2023-10-12', 'a', 2, 499.95, 62, 'a20231012.csv')\n",
      "INSERT INTO ingest (filename) VALUES ('a20231012.csv')\n",
      "INSERT INTO daily (sdate, branch, regno, salestot, txct, srcfile)\n",
      "                VALUES ('2023-10-12', 'b', 1, 583.0, 74, 'b20231012.csv')\n",
      "INSERT INTO daily (sdate, branch, regno, salestot, txct, srcfile)\n",
      "                VALUES ('2023-10-12', 'b', 2, 584.1, 71, 'b20231012.csv')\n",
      "INSERT INTO ingest (filename) VALUES ('b20231012.csv')\n",
      "INSERT INTO daily (sdate, branch, regno, salestot, txct, srcfile)\n",
      "                VALUES ('2023-10-12', 'c', 1, 599.5, 76, 'c20231012.csv')\n",
      "INSERT INTO daily (sdate, branch, regno, salestot, txct, srcfile)\n",
      "                VALUES ('2023-10-12', 'c', 2, 410.85, 50, 'c20231012.csv')\n",
      "INSERT INTO ingest (filename) VALUES ('c20231012.csv')\n",
      "INSERT INTO daily (sdate, branch, regno, salestot, txct, srcfile)\n",
      "                VALUES ('2023-10-12', 'd', 1, 555.5, 69, 'd20231012.csv')\n",
      "INSERT INTO daily (sdate, branch, regno, salestot, txct, srcfile)\n",
      "                VALUES ('2023-10-12', 'd', 2, 514.8, 64, 'd20231012.csv')\n",
      "INSERT INTO ingest (filename) VALUES ('d20231012.csv')\n",
      "INSERT INTO daily (sdate, branch, regno, salestot, txct, srcfile)\n",
      "                VALUES ('2023-10-12', 'e', 1, 544.5, 66, 'e20231012.csv')\n",
      "INSERT INTO daily (sdate, branch, regno, salestot, txct, srcfile)\n",
      "                VALUES ('2023-10-12', 'e', 2, 519.75, 66, 'e20231012.csv')\n",
      "INSERT INTO ingest (filename) VALUES ('e20231012.csv')\n",
      "INSERT INTO daily (sdate, branch, regno, salestot, txct, srcfile)\n",
      "                VALUES ('2023-10-13', 'd', 1, 823.9, 105, 'd20231013.csv')\n",
      "INSERT INTO daily (sdate, branch, regno, salestot, txct, srcfile)\n",
      "                VALUES ('2023-10-13', 'd', 2, 741.51, 92, 'd20231013.csv')\n",
      "INSERT INTO ingest (filename) VALUES ('d20231013.csv')\n",
      "INSERT INTO daily (sdate, branch, regno, salestot, txct, srcfile)\n",
      "                VALUES ('2023-10-13', 'e', 1, 631.4, 80, 'e20231013.csv')\n",
      "INSERT INTO daily (sdate, branch, regno, salestot, txct, srcfile)\n",
      "                VALUES ('2023-10-13', 'e', 2, 651.42, 81, 'e20231013.csv')\n",
      "INSERT INTO ingest (filename) VALUES ('e20231013.csv')\n"
     ]
    }
   ],
   "source": [
    "filenames = ['a20231011.csv','b20231011.csv','c20231011.csv','d20231011.csv',\n",
    "            'e20231011.csv','a20231012.csv','b20231012.csv','c20231012.csv',\n",
    "            'd20231012.csv','e20231012.csv','d20231013.csv','e20231013.csv',]\n",
    "\n",
    "for f in filenames:\n",
    "\n",
    "    df = pd.read_csv(f)\n",
    "    \n",
    "    branch = f[0]\n",
    "    date = f[1:5] + '-' + f[5:7] + '-' + f[7:9]\n",
    "    \n",
    "    \n",
    "    for x in df.index:\n",
    "        query = '''INSERT INTO daily (sdate, branch, regno, salestot, txct, srcfile)\n",
    "                VALUES ('%s', '%s', %s, %s, %s, '%s')''' % (date, branch, df['register'].loc[x], \n",
    "                                                    df['totalsales'].loc[x],\n",
    "                                                    df['transactions'].loc[x], f)\n",
    "        print(query)\n",
    "\n",
    "        cursor.execute(query)\n",
    "        conn.commit()\n",
    "\n",
    "    query = '''INSERT INTO ingest (filename) VALUES ('%s')''' % (f)\n",
    "    print(query)\n",
    "    \n",
    "    cursor.execute(query)\n",
    "    conn.commit()"
   ]
  },
  {
   "cell_type": "code",
   "execution_count": 3,
   "id": "d347a121",
   "metadata": {},
   "outputs": [
    {
     "name": "stdout",
     "output_type": "stream",
     "text": [
      "    entryid       sdate branch  regno  salestot  txct        srcfile\n",
      "0         1  2023-10-11      a      1    272.08    34  a20231011.csv\n",
      "1         2  2023-10-11      a      2    247.40    30  a20231011.csv\n",
      "2         3  2023-10-11      b      1    249.65    30  b20231011.csv\n",
      "3         4  2023-10-11      b      2    232.25    28  b20231011.csv\n",
      "4         5  2023-10-11      c      1    232.81    28  c20231011.csv\n",
      "5         6  2023-10-11      c      2    260.02    31  c20231011.csv\n",
      "6         7  2023-10-11      d      1    258.06    31  d20231011.csv\n",
      "7         8  2023-10-11      d      2    217.11    26  d20231011.csv\n",
      "8         9  2023-10-11      e      1    274.89    34  e20231011.csv\n",
      "9        10  2023-10-11      e      2    224.68    28  e20231011.csv\n",
      "10       11  2023-10-12      a      1    484.00    60  a20231012.csv\n",
      "11       12  2023-10-12      a      2    499.95    62  a20231012.csv\n",
      "12       13  2023-10-12      b      1    583.00    74  b20231012.csv\n",
      "13       14  2023-10-12      b      2    584.10    71  b20231012.csv\n",
      "14       15  2023-10-12      c      1    599.50    76  c20231012.csv\n"
     ]
    },
    {
     "name": "stderr",
     "output_type": "stream",
     "text": [
      "/var/folders/96/kzlzzx2556jf68c57bc_gc180000gn/T/ipykernel_55503/2568083612.py:3: UserWarning: pandas only supports SQLAlchemy connectable (engine/connection) or database string URI or sqlite3 DBAPI2 connection. Other DBAPI2 objects are not tested. Please consider using SQLAlchemy.\n",
      "  df = pd.read_sql(query,conn)\n"
     ]
    }
   ],
   "source": [
    "query = '''SELECT * FROM daily;'''\n",
    "\n",
    "df = pd.read_sql(query,conn)\n",
    "print(df.head(15))"
   ]
  },
  {
   "cell_type": "code",
   "execution_count": 11,
   "id": "e08a49a5",
   "metadata": {
    "tags": []
   },
   "outputs": [],
   "source": [
    "conn.close()"
   ]
  }
 ],
 "metadata": {
  "kernelspec": {
   "display_name": "Python 3 (ipykernel)",
   "language": "python",
   "name": "python3"
  },
  "language_info": {
   "codemirror_mode": {
    "name": "ipython",
    "version": 3
   },
   "file_extension": ".py",
   "mimetype": "text/x-python",
   "name": "python",
   "nbconvert_exporter": "python",
   "pygments_lexer": "ipython3",
   "version": "3.11.5"
  }
 },
 "nbformat": 4,
 "nbformat_minor": 5
}
