{
 "cells": [
  {
   "cell_type": "code",
   "execution_count": 6,
   "id": "3c2c9741-b5bd-442e-9f90-f2080e227342",
   "metadata": {
    "tags": []
   },
   "outputs": [],
   "source": [
    "import pandas as pd\n",
    "import psycopg2\n",
    "import os\n",
    "\n",
    "conn = psycopg2.connect(\n",
    "    database='daslemon',\n",
    "    user='dw_chancewiese',\n",
    "    password='Spikeball2020',\n",
    "    host='database-1.czsooswggscz.us-east-2.rds.amazonaws.com',\n",
    "    port='5432'\n",
    ")\n",
    "\n",
    "cursor = conn.cursor()"
   ]
  },
  {
   "cell_type": "code",
   "execution_count": 17,
   "id": "83c7b4d0-3f9a-48e5-8c54-e734120a2beb",
   "metadata": {
    "tags": []
   },
   "outputs": [
    {
     "name": "stdout",
     "output_type": "stream",
     "text": [
      "    entryid       sdate branch  regno  salestot  txct        srcfile\n",
      "0         1  2023-10-11      a      1    272.08    34  a20231011.csv\n",
      "1         2  2023-10-11      a      2    247.40    30  a20231011.csv\n",
      "2         3  2023-10-11      b      1    249.65    30  b20231011.csv\n",
      "3         4  2023-10-11      b      2    232.25    28  b20231011.csv\n",
      "4         5  2023-10-11      c      1    232.81    28  c20231011.csv\n",
      "5         6  2023-10-11      c      2    260.02    31  c20231011.csv\n",
      "6         7  2023-10-11      d      1    258.06    31  d20231011.csv\n",
      "7         8  2023-10-11      d      2    217.11    26  d20231011.csv\n",
      "8         9  2023-10-11      e      1    274.89    34  e20231011.csv\n",
      "9        10  2023-10-11      e      2    224.68    28  e20231011.csv\n",
      "10       11  2023-10-12      a      1    484.00    60  a20231012.csv\n",
      "11       12  2023-10-12      a      2    499.95    62  a20231012.csv\n",
      "12       13  2023-10-12      b      1    583.00    74  b20231012.csv\n",
      "13       14  2023-10-12      b      2    584.10    71  b20231012.csv\n",
      "14       15  2023-10-12      c      1    599.50    76  c20231012.csv\n",
      "15       16  2023-10-12      c      2    410.85    50  c20231012.csv\n",
      "16       17  2023-10-12      d      1    555.50    69  d20231012.csv\n",
      "17       18  2023-10-12      d      2    514.80    64  d20231012.csv\n",
      "18       19  2023-10-12      e      1    544.50    66  e20231012.csv\n",
      "19       20  2023-10-12      e      2    519.75    66  e20231012.csv\n",
      "20       21  2023-10-13      d      1    823.90   105  d20231013.csv\n",
      "21       22  2023-10-13      d      2    741.51    92  d20231013.csv\n",
      "22       23  2023-10-13      e      1    631.40    80  e20231013.csv\n",
      "23       24  2023-10-13      e      2    651.42    81  e20231013.csv\n",
      "\n",
      "The possible values for the register column should be integers 1 and 2\n"
     ]
    },
    {
     "name": "stderr",
     "output_type": "stream",
     "text": [
      "/var/folders/96/kzlzzx2556jf68c57bc_gc180000gn/T/ipykernel_55135/1670023015.py:7: UserWarning: pandas only supports SQLAlchemy connectable (engine/connection) or database string URI or sqlite3 DBAPI2 connection. Other DBAPI2 objects are not tested. Please consider using SQLAlchemy.\n",
      "  df = pd.read_sql_query(query, conn)\n"
     ]
    }
   ],
   "source": [
    "# 1\n",
    "query = '''\n",
    "select * from daily;\n",
    "'''\n",
    "\n",
    "df = pd.read_sql_query(query, conn)\n",
    "print(df)\n",
    "\n",
    "print(\"\\nThe possible values for the register column should be integers 1 and 2\")"
   ]
  },
  {
   "cell_type": "code",
   "execution_count": 19,
   "id": "d360954b-e2a3-478b-8576-edcbe49b1a6e",
   "metadata": {
    "tags": []
   },
   "outputs": [
    {
     "name": "stdout",
     "output_type": "stream",
     "text": [
      "         filename starttime endtime\n",
      "0   a20231011.csv      None    None\n",
      "1   b20231011.csv      None    None\n",
      "2   c20231011.csv      None    None\n",
      "3   d20231011.csv      None    None\n",
      "4   e20231011.csv      None    None\n",
      "5   a20231012.csv      None    None\n",
      "6   b20231012.csv      None    None\n",
      "7   c20231012.csv      None    None\n",
      "8   d20231012.csv      None    None\n",
      "9   e20231012.csv      None    None\n",
      "10  d20231013.csv      None    None\n",
      "11  e20231013.csv      None    None\n"
     ]
    },
    {
     "name": "stderr",
     "output_type": "stream",
     "text": [
      "/var/folders/96/kzlzzx2556jf68c57bc_gc180000gn/T/ipykernel_55135/3906803595.py:6: UserWarning: pandas only supports SQLAlchemy connectable (engine/connection) or database string URI or sqlite3 DBAPI2 connection. Other DBAPI2 objects are not tested. Please consider using SQLAlchemy.\n",
      "  df = pd.read_sql_query(query, conn)\n"
     ]
    }
   ],
   "source": [
    "# 2\n",
    "query = '''\n",
    "select * from ingest;\n",
    "'''\n",
    "\n",
    "df = pd.read_sql_query(query, conn)\n",
    "print(df)\n"
   ]
  },
  {
   "cell_type": "code",
   "execution_count": 37,
   "id": "90eb6f05-341c-43fd-babe-eab5f623b6da",
   "metadata": {
    "tags": []
   },
   "outputs": [
    {
     "name": "stdout",
     "output_type": "stream",
     "text": [
      "Files in the current directory:\n",
      ".DS_Store\n",
      "dldaily\n",
      ".ipynb_checkpoints\n"
     ]
    }
   ],
   "source": [
    "# 3\n",
    "# Get the current working directory (where your notebook is located)\n",
    "current_dir = os.getcwd()\n",
    "\n",
    "# Read the files found in the current directory into a list object\n",
    "files = os.listdir(current_dir)\n",
    "\n",
    "# Use a for-loop to print out the names of each of the files found in the folder\n",
    "print(\"Files in the current directory:\")\n",
    "for file in files:\n",
    "    print(file)"
   ]
  }
 ],
 "metadata": {
  "kernelspec": {
   "display_name": "Python 3 (ipykernel)",
   "language": "python",
   "name": "python3"
  },
  "language_info": {
   "codemirror_mode": {
    "name": "ipython",
    "version": 3
   },
   "file_extension": ".py",
   "mimetype": "text/x-python",
   "name": "python",
   "nbconvert_exporter": "python",
   "pygments_lexer": "ipython3",
   "version": "3.11.5"
  }
 },
 "nbformat": 4,
 "nbformat_minor": 5
}
