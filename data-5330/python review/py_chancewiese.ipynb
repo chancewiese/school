{
   "cells": [
      {
         "cell_type": "code",
         "execution_count": 2,
         "id": "b49fc594-e73f-4f75-80dd-eb64d982c709",
         "metadata": {},
         "outputs": [],
         "source": [
            "# Chance Wiese\n",
            "# 1"
         ]
      },
      {
         "cell_type": "code",
         "execution_count": 3,
         "id": "881c5285-18c1-4d4a-a4c2-45d9157c526f",
         "metadata": {},
         "outputs": [
            {
               "name": "stdout",
               "output_type": "stream",
               "text": [
                  "x times 153 = 1683\n",
                  "x squared = 121\n",
                  "cube root of x = 2.2239800905693152\n"
               ]
            }
         ],
         "source": [
            "# 2\n",
            "x = 11\n",
            "print(f\"x times 153 = {x*153}\")\n",
            "print(f\"x squared = {x**2}\")\n",
            "print(f\"cube root of x = {x**(1/3)}\")"
         ]
      },
      {
         "cell_type": "code",
         "execution_count": 4,
         "id": "48961119-b026-49e9-829f-4c1bd5771ea9",
         "metadata": {},
         "outputs": [
            {
               "name": "stdout",
               "output_type": "stream",
               "text": [
                  "Target Number: 8\n"
               ]
            },
            {
               "name": "stdin",
               "output_type": "stream",
               "text": [
                  "Guess a number between 1 and 100:  7\n"
               ]
            },
            {
               "name": "stdout",
               "output_type": "stream",
               "text": [
                  "Your guess was too low. Try again!\n"
               ]
            },
            {
               "name": "stdin",
               "output_type": "stream",
               "text": [
                  "Guess a number between 1 and 100:  9\n"
               ]
            },
            {
               "name": "stdout",
               "output_type": "stream",
               "text": [
                  "Your guess was too high. Try again!\n"
               ]
            },
            {
               "name": "stdin",
               "output_type": "stream",
               "text": [
                  "Guess a number between 1 and 100:  8\n"
               ]
            },
            {
               "name": "stdout",
               "output_type": "stream",
               "text": [
                  "Congratulations, you did it! It took you 3 guesses.\n"
               ]
            }
         ],
         "source": [
            "# 3\n",
            "import random\n",
            "targetnum = random.randint(1,100)\n",
            "print(f\"Target Number: {targetnum}\")\n",
            "guess = None\n",
            "attempts = 0\n",
            "while guess != targetnum:\n",
            "    guess = int(input(\"Guess a number between 1 and 100: \"))  # Instructions said validation wasn't needed but changing to integer was, because it gave errors otherwise\n",
            "    attempts += 1\n",
            "    \n",
            "    if guess < targetnum:\n",
            "        print(\"Your guess was too low. Try again!\")\n",
            "    elif guess > targetnum:\n",
            "        print(\"Your guess was too high. Try again!\")\n",
            "    else:\n",
            "        print(f\"Congratulations, you did it! It took you {attempts} guesses.\")"
         ]
      },
      {
         "cell_type": "code",
         "execution_count": 5,
         "id": "3697d9f8-fca7-402a-8910-a5492af1d907",
         "metadata": {},
         "outputs": [
            {
               "name": "stdin",
               "output_type": "stream",
               "text": [
                  "Input an integer or press q to quit:  1\n"
               ]
            },
            {
               "name": "stdout",
               "output_type": "stream",
               "text": [
                  "Sum of last 5 values in the list: 1\n"
               ]
            },
            {
               "name": "stdin",
               "output_type": "stream",
               "text": [
                  "Input an integer or press q to quit:  2\n"
               ]
            },
            {
               "name": "stdout",
               "output_type": "stream",
               "text": [
                  "Sum of last 5 values in the list: 3\n"
               ]
            },
            {
               "name": "stdin",
               "output_type": "stream",
               "text": [
                  "Input an integer or press q to quit:  3\n"
               ]
            },
            {
               "name": "stdout",
               "output_type": "stream",
               "text": [
                  "Sum of last 5 values in the list: 6\n"
               ]
            },
            {
               "name": "stdin",
               "output_type": "stream",
               "text": [
                  "Input an integer or press q to quit:  4\n"
               ]
            },
            {
               "name": "stdout",
               "output_type": "stream",
               "text": [
                  "Sum of last 5 values in the list: 10\n"
               ]
            },
            {
               "name": "stdin",
               "output_type": "stream",
               "text": [
                  "Input an integer or press q to quit:  5\n"
               ]
            },
            {
               "name": "stdout",
               "output_type": "stream",
               "text": [
                  "Sum of last 5 values in the list: 15\n"
               ]
            }
         ],
         "source": [
            "# 4\n",
            "value_list = []\n",
            "while len(value_list) < 5:\n",
            "    value = input(\"Input an integer or press q to quit: \")\n",
            "    try:\n",
            "        int_value = int(value)\n",
            "        value_list.append(int_value)\n",
            "        print(f\"Sum of last 5 values in the list: {sum(value_list[-5:])}\")\n",
            "    except ValueError:\n",
            "        if value.lower() == \"q\":\n",
            "            print(f\"Thank you for your time. Have a nice day! Final sum: {sum(value_list[-5:])}\")\n",
            "            break\n",
            "        else:\n",
            "            print(\"Invalid response. Please try again.\")"
         ]
      },
      {
         "cell_type": "code",
         "execution_count": 6,
         "id": "2d8d2879-cfac-407f-bcb0-7fbccc2ebd6c",
         "metadata": {},
         "outputs": [
            {
               "name": "stdout",
               "output_type": "stream",
               "text": [
                  "Corgi Name                  Breed             Avg Race Time     Number of Races\n",
                  "Bucco                       Pembroke          48.648            4\n",
                  "Fruitcup                    Cardigan          52.656            5\n",
                  "Golden Graham               Pembroke          54.203            4\n",
                  "Hywel the Woofer            Pembroke          54.837            6\n",
                  "Baroness von Fluffyshanks   Pembroke          55.150            4\n",
                  "Gareth Bale                 Pembroke          55.253            4\n",
                  "Stampy McDog                Pembroke          55.938            6\n",
                  "Stonewall                   Cardigan          55.950            4\n",
                  "Mary Queen of Corgs         Pembroke          56.875            4\n",
                  "Penny the Shedmonster       Pembroke          57.538            6\n",
                  "Holden Corgfield            Pembroke          58.125            6\n",
                  "Jedediah                    Pembroke          59.053            4\n",
                  "Stanley                     Pembroke          59.452            6\n",
                  "Snappy Ginger               Pembroke          59.454            7\n",
                  "Snarla June                 Pembroke          59.847            7\n",
                  "Smiley Shortdog             Cardigan          60.242            6\n",
                  "Drederick                   Pembroke          61.127            7\n",
                  "Prometheus                  Pembroke          61.177            7\n",
                  "Kraken                      Pembroke          61.260            7\n",
                  "Sweet Dee                   Pembroke          62.198            4\n",
                  "Cowboy Dan                  Pembroke          62.585            4\n",
                  "Oatmeal                     Pembroke          62.795            4\n",
                  "Foxy Stumptail              Pembroke          63.314            7\n",
                  "Lady Wigglebottom           Pembroke          63.562            5\n",
                  "Miss Juniper                Pembroke          64.242            6\n"
               ]
            }
         ],
         "source": [
            "# 5\n",
            "import pymssql\n",
            "\n",
            "conn = pymssql.connect(\n",
            "     host='stairway.usu.edu', # Server name goes in quotes.\n",
            "     user='dunn2100', # Username goes in quotes.\n",
            "     password='databases4ever', # Password goes in quotes\n",
            "     database='2100corgirace') # Database to use goes in quotes\n",
            "\n",
            "cursor = conn.cursor()\n",
            "\n",
            "query = \"\"\"\n",
            "SELECT c.Corgname,\n",
            "    CASE \n",
            "        WHEN c.Breed = 'Pem' THEN 'Pembroke' \n",
            "        ELSE 'Cardigan' \n",
            "        END AS Breed,\n",
            "    ROUND(AVG(o.RaceTime), 3) AS AvgRaceTime,\n",
            "    COUNT(r.RaceID) AS NumRaces\n",
            "FROM Corgi c\n",
            "JOIN Outcome o ON c.CorgID = o.CorgID\n",
            "JOIN Race r ON o.RaceID = r.RaceID\n",
            "GROUP BY c.Corgname, c.Breed\n",
            "ORDER BY AvgRaceTime ASC;\n",
            "\"\"\"\n",
            "\n",
            "cursor.execute(query)\n",
            "\n",
            "# Execute the SQL query\n",
            "cursor.execute(query)\n",
            "\n",
            "\n",
            "### I used ChatGPT to help me fetch these and format them into rows. I wasn't sure how to do that one\n",
            "# Fetch all rows from the query result\n",
            "rows = cursor.fetchall()\n",
            "\n",
            "# Print the header\n",
            "print(f\"{'Corgi Name':<25}   {'Breed':<15}   {'Avg Race Time':<15}   {'Number of Races'}\")  # The numbers here declare how many character spaces wide each column should be\n",
            "\n",
            "# Print each row with the data points separated by three spaces\n",
            "for row in rows:\n",
            "    print(f\"{row[0]:<25}   {row[1]:<15}   {row[2]:<15.3f}   {row[3]}\")\n",
            "    \n",
            "conn.close()"
         ]
      },
      {
         "cell_type": "code",
         "execution_count": 7,
         "id": "ccf8b14f-7d0a-4484-b0f1-5e647c331a47",
         "metadata": {},
         "outputs": [
            {
               "name": "stdout",
               "output_type": "stream",
               "text": [
                  "Number of Records: 916\n",
                  "Average Age: 33.9\n",
                  "Percentage with College Education: 41.2%\n",
                  "Percentage with HS Education: 87.9%\n",
                  "Average Years of Experience: 6.3\n",
                  "Percentage with High Outdoors Experience: 17.8%\n",
                  "Percentage with Medium Outdoors Experience: 27.0%\n",
                  "Percentage with Low Outdoors Experience: 55.2%\n",
                  "Percentage with Best Performance: 3.9%\n",
                  "Percentage with Good Performance: 16.8%\n",
                  "Percentage with Acceptable Performance: 39.7%\n",
                  "Percentage with Unacceptable Performance: 39.4%\n",
                  "Number of GoodEnuf Salespeople: 555\n"
               ]
            }
         ],
         "source": [
            "# 6 \n",
            "with open('lubbock2022.csv', 'r') as file:\n",
            "    rows = file.readlines()\n",
            "\n",
            "\n",
            "# Initialize variables\n",
            "num_records = 0\n",
            "total_age = 0\n",
            "college_count = 0\n",
            "hs_count = 0\n",
            "total_experience = 0\n",
            "outdoors_counts = {'high': 0, 'medium': 0, 'low': 0}\n",
            "performance_counts = {'best': 0, 'good': 0, 'acceptable': 0, 'unacceptable': 0}\n",
            "good_enuf_count = 0\n",
            "\n",
            "\n",
            "# Set up the header list and indices\n",
            "header = rows[0].strip().split(',')\n",
            "id_idx = header.index('ID')\n",
            "age_idx = header.index('Age')\n",
            "college_idx = header.index('College')\n",
            "hs_idx = header.index('HS')\n",
            "experience_idx = header.index('Experience')\n",
            "outdoors_idx = header.index('Outdoors')\n",
            "performance_idx = header.index('Performance')\n",
            "good_enuf_idx = header.index('GoodEnuf')\n",
            "\n",
            "\n",
            "# Process each line (besides the header)\n",
            "for row in rows[1:]:\n",
            "    values = row.strip().split(',')   # Split each line and create a list of values per line\n",
            "\n",
            "    if '' in values:   # Skip over any lines with blank values\n",
            "        continue\n",
            "\n",
            "    num_records += 1   # Count non-empty records\n",
            "    \n",
            "    total_age += int(values[age_idx])   # Add up total age to divide by number of people\n",
            "\n",
            "    if values[college_idx].lower() == 'yes':  # Count up college graduates to divide by total\n",
            "        college_count += 1\n",
            "    \n",
            "    if values[hs_idx].lower() == 'yes':    # Count up high school graduates to divide by total\n",
            "        hs_count += 1\n",
            "\n",
            "    total_experience += int(values[experience_idx])   # Add up total experience to divide by number of people\n",
            "                            \n",
            "    outdoors = values[outdoors_idx].lower()\n",
            "    if outdoors in outdoors_counts:\n",
            "        outdoors_counts[outdoors] += 1\n",
            "\n",
            "    performance = values[performance_idx].lower()\n",
            "    if performance in performance_counts:\n",
            "        performance_counts[performance] += 1\n",
            "\n",
            "    if values[good_enuf_idx] == '1':\n",
            "        good_enuf_count += 1\n",
            "\n",
            "\n",
            "# Calculate results\n",
            "average_age = total_age / num_records\n",
            "average_experience_years = total_experience / num_records\n",
            "college_percentage = (college_count / num_records) * 100\n",
            "hs_percentage = (hs_count / num_records) * 100\n",
            "\n",
            "outdoors_high_percentage = (outdoors_counts['high'] / num_records) * 100\n",
            "outdoors_medium_percentage = (outdoors_counts['medium'] / num_records) * 100\n",
            "outdoors_low_percentage = (outdoors_counts['low'] / num_records) * 100\n",
            "\n",
            "performance_best_percentage = (performance_counts['best'] / num_records) * 100\n",
            "performance_good_percentage = (performance_counts['good'] / num_records) * 100\n",
            "performance_acceptable_percentage = (performance_counts['acceptable'] / num_records) * 100\n",
            "performance_unacceptable_percentage = (performance_counts['unacceptable'] / num_records) * 100\n",
            "\n",
            "# Print results\n",
            "print(f\"Number of Records: {num_records}\")\n",
            "print(f\"Average Age: {average_age:.1f}\")\n",
            "print(f\"Percentage with College Education: {college_percentage:.1f}%\")\n",
            "print(f\"Percentage with HS Education: {hs_percentage:.1f}%\")\n",
            "print(f\"Average Years of Experience: {average_experience_years:.1f}\")\n",
            "print(f\"Percentage with High Outdoors Experience: {outdoors_high_percentage:.1f}%\")\n",
            "print(f\"Percentage with Medium Outdoors Experience: {outdoors_medium_percentage:.1f}%\")\n",
            "print(f\"Percentage with Low Outdoors Experience: {outdoors_low_percentage:.1f}%\")\n",
            "print(f\"Percentage with Best Performance: {performance_best_percentage:.1f}%\")\n",
            "print(f\"Percentage with Good Performance: {performance_good_percentage:.1f}%\")\n",
            "print(f\"Percentage with Acceptable Performance: {performance_acceptable_percentage:.1f}%\")\n",
            "print(f\"Percentage with Unacceptable Performance: {performance_unacceptable_percentage:.1f}%\")\n",
            "print(f\"Number of GoodEnuf Salespeople: {good_enuf_count}\")"
         ]
      }
   ],
   "metadata": {
      "kernelspec": {
         "display_name": "Python 3 (ipykernel)",
         "language": "python",
         "name": "python3"
      },
      "language_info": {
         "codemirror_mode": {
            "name": "ipython",
            "version": 3
         },
         "file_extension": ".py",
         "mimetype": "text/x-python",
         "name": "python",
         "nbconvert_exporter": "python",
         "pygments_lexer": "ipython3",
         "version": "3.12.4"
      }
   },
   "nbformat": 4,
   "nbformat_minor": 5
}
