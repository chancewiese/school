{
 "cells": [
  {
   "cell_type": "code",
   "execution_count": 2,
   "id": "5f327893",
   "metadata": {},
   "outputs": [
    {
     "name": "stdout",
     "output_type": "stream",
     "text": [
      "Original df:\n",
      "         HiTemp  SunHrs  WaspCt Custs (AM/PM)\n",
      "DayNo                                       \n",
      "Day 1      101     6.0    19.0         42/43\n",
      "Day 2       99     7.0    15.0         39/55\n",
      "Day 3       78    14.0    10.0         40/51\n",
      "Day 4       90    12.0    15.0         39/40\n",
      "Day 5       83    10.0    13.0         38/45\n",
      "Day 6       81     NaN    28.0          6/34\n",
      "Day 7       82     NaN    14.0         25/28\n",
      "Day 8       75    10.0    24.0         23/38\n",
      "Day 9       78     9.0    19.0         40/34\n",
      "Day 10     100    13.0    12.0         45/57\n",
      "Day 11     117     NaN     NaN           NaN\n",
      "\n",
      "Cleaned df:\n",
      "         HiTemp  SunHrs  WaspCt Custs (AM/PM)\n",
      "DayNo                                       \n",
      "Day 1      101     6.0    19.0         42/43\n",
      "Day 2       99     7.0    15.0         39/55\n",
      "Day 3       78    14.0    10.0         40/51\n",
      "Day 4       90    12.0    15.0         39/40\n",
      "Day 5       83    10.0    13.0         38/45\n",
      "Day 6       81     NaN    28.0          6/34\n",
      "Day 7       82     NaN    14.0         25/28\n",
      "Day 8       75    10.0    24.0         23/38\n",
      "Day 9       78     9.0    19.0         40/34\n",
      "Day 10     100    13.0    12.0         45/57\n",
      "Day 11     117     NaN     NaN           NaN\n"
     ]
    }
   ],
   "source": [
    "#1. Create a df from the LemonadeStand.csv file. Skip any lines you need to skip and a meaningful index column.\n",
    "import pandas as pd\n",
    "import numpy as np\n",
    "df = pd.read_csv('LemonadeStand-1.csv', skiprows=3, index_col='DayNo')\n",
    "print(df)"
   ]
  },
  {
   "cell_type": "code",
   "execution_count": 3,
   "id": "138c5bb1",
   "metadata": {},
   "outputs": [
    {
     "name": "stdout",
     "output_type": "stream",
     "text": [
      "        HiTemp  WaspCt\n",
      "DayNo                 \n",
      "Day 1      101    19.0\n",
      "Day 2       99    15.0\n",
      "Day 3       78    10.0\n",
      "Day 4       90    15.0\n",
      "Day 5       83    13.0\n",
      "Day 6       81    28.0\n",
      "Day 7       82    14.0\n",
      "Day 8       75    24.0\n",
      "Day 9       78    19.0\n",
      "Day 10     100    12.0\n",
      "Day 11     117     NaN\n"
     ]
    }
   ],
   "source": [
    "#2. Output the values in the HiTemp and WaspCt columns only.\n",
    "print(df[['HiTemp', 'WaspCt']])"
   ]
  },
  {
   "cell_type": "code",
   "execution_count": 4,
   "id": "2ee357a5",
   "metadata": {},
   "outputs": [
    {
     "name": "stdout",
     "output_type": "stream",
     "text": [
      "Sun hours on day 8: 10.0\n"
     ]
    }
   ],
   "source": [
    "#3. How many sun hours were there on Day 8 only? Output only this value using .loc.\n",
    "print(\"Sun hours on day 8:\", df.loc['Day 8']['SunHrs'])"
   ]
  },
  {
   "cell_type": "code",
   "execution_count": 5,
   "id": "3eb5b649",
   "metadata": {},
   "outputs": [
    {
     "name": "stdout",
     "output_type": "stream",
     "text": [
      "        HiTemp  SunHrs  WaspCt Custs (AM/PM)\n",
      "DayNo                                       \n",
      "Day 1      101     6.0    19.0         42/43\n",
      "Day 2       99     7.0    15.0         39/55\n",
      "Day 3       78    14.0    10.0         40/51\n",
      "Day 4       90    12.0    15.0         39/40\n",
      "Day 5       83    10.0    13.0         38/45\n",
      "Day 6       81     0.0    28.0          6/34\n",
      "Day 7       82     0.0    14.0         25/28\n",
      "Day 8       75    10.0    24.0         23/38\n",
      "Day 9       78     9.0    19.0         40/34\n",
      "Day 10     100    13.0    12.0         45/57\n",
      "Day 11     117     0.0     NaN           NaN\n"
     ]
    },
    {
     "name": "stderr",
     "output_type": "stream",
     "text": [
      "C:\\Users\\Chanc\\AppData\\Local\\Temp\\ipykernel_9688\\2404614515.py:2: FutureWarning: A value is trying to be set on a copy of a DataFrame or Series through chained assignment using an inplace method.\n",
      "The behavior will change in pandas 3.0. This inplace method will never work because the intermediate object on which we are setting values always behaves as a copy.\n",
      "\n",
      "For example, when doing 'df[col].method(value, inplace=True)', try using 'df.method({col: value}, inplace=True)' or df[col] = df[col].method(value) instead, to perform the operation inplace on the original object.\n",
      "\n",
      "\n",
      "  df['SunHrs'].replace(to_replace=np.nan, value=0, inplace=True)\n"
     ]
    }
   ],
   "source": [
    "#4 Replace any null values in the SunHrs column ONLY with the value 0.\n",
    "df['SunHrs'].replace(to_replace=np.nan, value=0, inplace=True)\n",
    "print(df)"
   ]
  },
  {
   "cell_type": "code",
   "execution_count": 6,
   "id": "4df4db78",
   "metadata": {},
   "outputs": [
    {
     "name": "stdout",
     "output_type": "stream",
     "text": [
      "        HiTemp  SunHrs  WaspCt Custs (AM/PM)\n",
      "DayNo                                       \n",
      "Day 1      101     6.0    19.0         42/43\n",
      "Day 2       99     7.0    15.0         39/55\n",
      "Day 3       78    14.0    10.0         40/51\n",
      "Day 4       90    12.0    15.0         39/40\n",
      "Day 5       83    10.0    13.0         38/45\n",
      "Day 6       81     0.0    28.0          6/34\n",
      "Day 7       82     0.0    14.0         25/28\n",
      "Day 8       75    10.0    24.0         23/38\n",
      "Day 9       78     9.0    19.0         40/34\n",
      "Day 10     100    13.0    12.0         45/57\n"
     ]
    }
   ],
   "source": [
    "#5. Drop any rows where there are still null values.\n",
    "df.dropna(inplace=True)  # Remove rows with NaN\n",
    "print(df)"
   ]
  },
  {
   "cell_type": "code",
   "execution_count": 7,
   "id": "67379aed",
   "metadata": {},
   "outputs": [
    {
     "name": "stdout",
     "output_type": "stream",
     "text": [
      "        HiTemp  SunHrs  WaspCt Custs (AM/PM)  Ocast TempCat\n",
      "DayNo                                                      \n",
      "Day 1      101     6.0    19.0         42/43      0    high\n",
      "Day 2       99     7.0    15.0         39/55      0    high\n",
      "Day 3       78    14.0    10.0         40/51      0     low\n",
      "Day 4       90    12.0    15.0         39/40      0  medium\n",
      "Day 5       83    10.0    13.0         38/45      0  medium\n",
      "Day 6       81     0.0    28.0          6/34      1  medium\n",
      "Day 7       82     0.0    14.0         25/28      1  medium\n",
      "Day 8       75    10.0    24.0         23/38      0     low\n",
      "Day 9       78     9.0    19.0         40/34      0     low\n",
      "Day 10     100    13.0    12.0         45/57      0    high\n"
     ]
    }
   ],
   "source": [
    "#6. Create a new column called Ocast (\"overcast\"), where if there were 0 sun hours the value is 1, otherwise the value is 0.\n",
    "df['Ocast'] = np.where(df['SunHrs'] == 0, 1, 0)\n",
    "# Also create a new column called TempCat, where the value is \"high\" if the temperature is over 95, \"medium\" if it's between 80 and 95 (inclusive), and \"low\" if it's ANY OTHER VALUE.\n",
    "conditions = [\n",
    "    df['HiTemp'] > 95, \n",
    "    df['HiTemp'] > 80, \n",
    "    True\n",
    "]\n",
    "values = ['high', 'medium', 'low']\n",
    "df['TempCat'] = np.select(conditions, values)\n",
    "\n",
    "print(df)"
   ]
  },
  {
   "cell_type": "code",
   "execution_count": 8,
   "id": "1285f4eb",
   "metadata": {},
   "outputs": [
    {
     "data": {
      "text/html": [
       "<div>\n",
       "<style scoped>\n",
       "    .dataframe tbody tr th:only-of-type {\n",
       "        vertical-align: middle;\n",
       "    }\n",
       "\n",
       "    .dataframe tbody tr th {\n",
       "        vertical-align: top;\n",
       "    }\n",
       "\n",
       "    .dataframe thead tr th {\n",
       "        text-align: left;\n",
       "    }\n",
       "\n",
       "    .dataframe thead tr:last-of-type th {\n",
       "        text-align: right;\n",
       "    }\n",
       "</style>\n",
       "<table border=\"1\" class=\"dataframe\">\n",
       "  <thead>\n",
       "    <tr>\n",
       "      <th></th>\n",
       "      <th colspan=\"8\" halign=\"left\">WaspCt</th>\n",
       "    </tr>\n",
       "    <tr>\n",
       "      <th></th>\n",
       "      <th>count</th>\n",
       "      <th>mean</th>\n",
       "      <th>std</th>\n",
       "      <th>min</th>\n",
       "      <th>25%</th>\n",
       "      <th>50%</th>\n",
       "      <th>75%</th>\n",
       "      <th>max</th>\n",
       "    </tr>\n",
       "    <tr>\n",
       "      <th>TempCat</th>\n",
       "      <th></th>\n",
       "      <th></th>\n",
       "      <th></th>\n",
       "      <th></th>\n",
       "      <th></th>\n",
       "      <th></th>\n",
       "      <th></th>\n",
       "      <th></th>\n",
       "    </tr>\n",
       "  </thead>\n",
       "  <tbody>\n",
       "    <tr>\n",
       "      <th>high</th>\n",
       "      <td>3.0</td>\n",
       "      <td>15.333333</td>\n",
       "      <td>3.511885</td>\n",
       "      <td>12.0</td>\n",
       "      <td>13.50</td>\n",
       "      <td>15.0</td>\n",
       "      <td>17.00</td>\n",
       "      <td>19.0</td>\n",
       "    </tr>\n",
       "    <tr>\n",
       "      <th>low</th>\n",
       "      <td>3.0</td>\n",
       "      <td>17.666667</td>\n",
       "      <td>7.094599</td>\n",
       "      <td>10.0</td>\n",
       "      <td>14.50</td>\n",
       "      <td>19.0</td>\n",
       "      <td>21.50</td>\n",
       "      <td>24.0</td>\n",
       "    </tr>\n",
       "    <tr>\n",
       "      <th>medium</th>\n",
       "      <td>4.0</td>\n",
       "      <td>17.500000</td>\n",
       "      <td>7.047458</td>\n",
       "      <td>13.0</td>\n",
       "      <td>13.75</td>\n",
       "      <td>14.5</td>\n",
       "      <td>18.25</td>\n",
       "      <td>28.0</td>\n",
       "    </tr>\n",
       "  </tbody>\n",
       "</table>\n",
       "</div>"
      ],
      "text/plain": [
       "        WaspCt                                                     \n",
       "         count       mean       std   min    25%   50%    75%   max\n",
       "TempCat                                                            \n",
       "high       3.0  15.333333  3.511885  12.0  13.50  15.0  17.00  19.0\n",
       "low        3.0  17.666667  7.094599  10.0  14.50  19.0  21.50  24.0\n",
       "medium     4.0  17.500000  7.047458  13.0  13.75  14.5  18.25  28.0"
      ]
     },
     "execution_count": 8,
     "metadata": {},
     "output_type": "execute_result"
    }
   ],
   "source": [
    "#7. Output the descriptive statistics for the WaspCt column only broken up by temperature category (TempCat).\n",
    "df[['TempCat', 'WaspCt']].groupby('TempCat').describe()"
   ]
  },
  {
   "cell_type": "code",
   "execution_count": 38,
   "id": "833b4823",
   "metadata": {},
   "outputs": [
    {
     "name": "stdout",
     "output_type": "stream",
     "text": [
      "           AMCusts\n",
      "TempCat           \n",
      "high     42.000000\n",
      "low      34.333333\n",
      "medium   27.000000\n"
     ]
    }
   ],
   "source": [
    "#8. What is the average number of customers in the morning? Show this value broken out by TempCat value.\n",
    "df[['AMCusts', 'PMCusts']] = df['Custs (AM/PM)'].str.split('/', expand=True)\n",
    "df['AMCusts'] = df['AMCusts'].astype('int')\n",
    "print(df[['AMCusts', 'TempCat']].groupby('TempCat').agg('mean'))"
   ]
  }
 ],
 "metadata": {
  "kernelspec": {
   "display_name": "Python 3 (ipykernel)",
   "language": "python",
   "name": "python3"
  },
  "language_info": {
   "codemirror_mode": {
    "name": "ipython",
    "version": 3
   },
   "file_extension": ".py",
   "mimetype": "text/x-python",
   "name": "python",
   "nbconvert_exporter": "python",
   "pygments_lexer": "ipython3",
   "version": "3.12.4"
  }
 },
 "nbformat": 4,
 "nbformat_minor": 5
}
