{
 "cells": [
  {
   "cell_type": "code",
   "execution_count": 1,
   "id": "5f327893",
   "metadata": {},
   "outputs": [],
   "source": [
    "#1. Create a df from the LemonadeStand.csv file. Skip any lines you need to skip and a meaningful \n",
    "# index column.\n",
    "# Once created, output the df to the console.\n"
   ]
  },
  {
   "cell_type": "code",
   "execution_count": 2,
   "id": "138c5bb1",
   "metadata": {},
   "outputs": [],
   "source": [
    "#2. Output the values in the HiTemp and WaspCt columns only.\n"
   ]
  },
  {
   "cell_type": "code",
   "execution_count": 3,
   "id": "2ee357a5",
   "metadata": {},
   "outputs": [],
   "source": [
    "#3. How many sun hours were there on Day 8 only? Output only this value using .loc.\n"
   ]
  },
  {
   "cell_type": "code",
   "execution_count": 4,
   "id": "3eb5b649",
   "metadata": {},
   "outputs": [],
   "source": [
    "#4 Replace any null values in the SunHrs column ONLY with the value 0.\n"
   ]
  },
  {
   "cell_type": "code",
   "execution_count": 5,
   "id": "4df4db78",
   "metadata": {},
   "outputs": [],
   "source": [
    "#5. Drop any rows where there are still null values.\n",
    "\n"
   ]
  },
  {
   "cell_type": "code",
   "execution_count": 6,
   "id": "67379aed",
   "metadata": {},
   "outputs": [],
   "source": [
    "#6. Create a new column called Ocast (\"overcast\"), where if there were 0 sun hours the value is 1,\n",
    "# otherwise the value is 0.\n",
    "# Also create a new column called TempCat, where the value is \"high\" if the temperature is over 95,\n",
    "# \"medium\" if it's between 80 and 95 (inclusive), and \"low\" if it's ANY OTHER VALUE.\n",
    "\n"
   ]
  },
  {
   "cell_type": "code",
   "execution_count": 7,
   "id": "1285f4eb",
   "metadata": {},
   "outputs": [],
   "source": [
    "#7. Output the descriptive statistics for the WaspCt column only broken up by temperature \n",
    "# category (TempCat)."
   ]
  },
  {
   "cell_type": "code",
   "execution_count": 8,
   "id": "833b4823",
   "metadata": {},
   "outputs": [],
   "source": [
    "#8. What is the average number of customers in the morning? Show this value broken out by \n",
    "# TempCat value.\n"
   ]
  }
 ],
 "metadata": {
  "kernelspec": {
   "display_name": "Python 3 (ipykernel)",
   "language": "python",
   "name": "python3"
  },
  "language_info": {
   "codemirror_mode": {
    "name": "ipython",
    "version": 3
   },
   "file_extension": ".py",
   "mimetype": "text/x-python",
   "name": "python",
   "nbconvert_exporter": "python",
   "pygments_lexer": "ipython3",
   "version": "3.11.5"
  }
 },
 "nbformat": 4,
 "nbformat_minor": 5
}
