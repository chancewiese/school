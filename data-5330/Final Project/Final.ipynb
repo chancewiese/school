{
 "cells": [
  {
   "cell_type": "code",
   "execution_count": 7,
   "id": "5792d594-0d9b-4179-bed9-fc667e5c57d1",
   "metadata": {},
   "outputs": [
    {
     "ename": "ImportError",
     "evalue": "dlopen(/Users/chancewiese/anaconda3/lib/python3.11/site-packages/pymssql/_mssql.cpython-311-darwin.so, 0x0002): symbol not found in flat namespace '_bcp_batch'",
     "output_type": "error",
     "traceback": [
      "\u001b[0;31m---------------------------------------------------------------------------\u001b[0m",
      "\u001b[0;31mImportError\u001b[0m                               Traceback (most recent call last)",
      "Cell \u001b[0;32mIn[7], line 1\u001b[0m\n\u001b[0;32m----> 1\u001b[0m \u001b[38;5;28;01mimport\u001b[39;00m \u001b[38;5;21;01mpymssql\u001b[39;00m\n\u001b[1;32m      2\u001b[0m \u001b[38;5;28;01mimport\u001b[39;00m \u001b[38;5;21;01mpandas\u001b[39;00m \u001b[38;5;28;01mas\u001b[39;00m \u001b[38;5;21;01mpd\u001b[39;00m\n\u001b[1;32m      4\u001b[0m \u001b[38;5;28;01mtry\u001b[39;00m:\n\u001b[1;32m      5\u001b[0m     \u001b[38;5;66;03m# Establish connection\u001b[39;00m\n",
      "File \u001b[0;32m~/anaconda3/lib/python3.11/site-packages/pymssql/__init__.py:3\u001b[0m\n\u001b[1;32m      1\u001b[0m \u001b[38;5;66;03m# -*- coding: utf-8 -*-\u001b[39;00m\n\u001b[0;32m----> 3\u001b[0m \u001b[38;5;28;01mfrom\u001b[39;00m \u001b[38;5;21;01m.\u001b[39;00m\u001b[38;5;21;01m_pymssql\u001b[39;00m \u001b[38;5;28;01mimport\u001b[39;00m \u001b[38;5;241m*\u001b[39m\n\u001b[1;32m      4\u001b[0m \u001b[38;5;28;01mfrom\u001b[39;00m \u001b[38;5;21;01m.\u001b[39;00m\u001b[38;5;21;01mexceptions\u001b[39;00m \u001b[38;5;28;01mimport\u001b[39;00m \u001b[38;5;241m*\u001b[39m\n\u001b[1;32m      5\u001b[0m \u001b[38;5;28;01mfrom\u001b[39;00m \u001b[38;5;21;01m.\u001b[39;00m\u001b[38;5;21;01m_pymssql\u001b[39;00m \u001b[38;5;28;01mimport\u001b[39;00m __version__, __full_version__\n",
      "File \u001b[0;32msrc/pymssql/_pymssql.pyx:1\u001b[0m, in \u001b[0;36minit pymssql._pymssql\u001b[0;34m()\u001b[0m\n",
      "\u001b[0;31mImportError\u001b[0m: dlopen(/Users/chancewiese/anaconda3/lib/python3.11/site-packages/pymssql/_mssql.cpython-311-darwin.so, 0x0002): symbol not found in flat namespace '_bcp_batch'"
     ]
    }
   ],
   "source": [
    "import pymssql\n",
    "import pandas as pd\n",
    "\n",
    "try:\n",
    "    # Establish connection\n",
    "    conn = pymssql.connect(\n",
    "        server='stairwaytoheaven.usu.edu',\n",
    "        user='5330user',\n",
    "        password='pipelinesnow',\n",
    "        database='ironwill'\n",
    "    )\n",
    "    \n",
    "    # Query customer data\n",
    "    customer_query = \"\"\"\n",
    "    SELECT *\n",
    "    FROM customer_table;\n",
    "    \"\"\"\n",
    "    \n",
    "    # Query betting data\n",
    "    betting_query = \"\"\"\n",
    "    SELECT *\n",
    "    FROM betting_log;\n",
    "    \"\"\"\n",
    "    \n",
    "    # Load data into pandas DataFrames\n",
    "    customers_df = pd.read_sql(customer_query, conn)\n",
    "    bets_df = pd.read_sql(betting_query, conn)\n",
    "    \n",
    "    # Display first few rows and info about each table\n",
    "    print(\"\\nCustomer Table Info:\")\n",
    "    print(customers_df.info())\n",
    "    print(\"\\nFirst few rows of customer data:\")\n",
    "    print(customers_df.head())\n",
    "    \n",
    "    print(\"\\nBetting Log Info:\")\n",
    "    print(bets_df.info())\n",
    "    print(\"\\nFirst few rows of betting data:\")\n",
    "    print(bets_df.head())\n",
    "    \n",
    "    # Save to CSV files for later use if needed\n",
    "    customers_df.to_csv('customer_data.csv', index=False)\n",
    "    bets_df.to_csv('betting_data.csv', index=False)\n",
    "    \n",
    "except Exception as e:\n",
    "    print(f\"An error occurred: {str(e)}\")\n",
    "    \n",
    "finally:\n",
    "    if 'conn' in locals():\n",
    "        conn.close()"
   ]
  }
 ],
 "metadata": {
  "kernelspec": {
   "display_name": "Python 3 (ipykernel)",
   "language": "python",
   "name": "python3"
  },
  "language_info": {
   "codemirror_mode": {
    "name": "ipython",
    "version": 3
   },
   "file_extension": ".py",
   "mimetype": "text/x-python",
   "name": "python",
   "nbconvert_exporter": "python",
   "pygments_lexer": "ipython3",
   "version": "3.11.5"
  }
 },
 "nbformat": 4,
 "nbformat_minor": 5
}
