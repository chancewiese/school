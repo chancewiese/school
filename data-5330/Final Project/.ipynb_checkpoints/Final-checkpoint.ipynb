{
 "cells": [
  {
   "cell_type": "code",
   "execution_count": 5,
   "id": "5792d594-0d9b-4179-bed9-fc667e5c57d1",
   "metadata": {},
   "outputs": [
    {
     "name": "stdout",
     "output_type": "stream",
     "text": [
      "An error occurred: ('01000', \"[01000] [unixODBC][Driver Manager]Can't open lib 'SQL Server' : file not found (0) (SQLDriverConnect)\")\n"
     ]
    }
   ],
   "source": [
    "import pymssql\n",
    "import pandas as pd\n",
    "\n",
    "try:\n",
    "    # Establish connection\n",
    "    conn = pymssql.connect(\n",
    "        server='stairwaytoheaven.usu.edu',\n",
    "        user='5330user',\n",
    "        password='pipelinesnow',\n",
    "        database='ironwill'\n",
    "    )\n",
    "    \n",
    "    # Query customer data\n",
    "    customer_query = \"\"\"\n",
    "    SELECT *\n",
    "    FROM customer_table;\n",
    "    \"\"\"\n",
    "    \n",
    "    # Query betting data\n",
    "    betting_query = \"\"\"\n",
    "    SELECT *\n",
    "    FROM betting_log;\n",
    "    \"\"\"\n",
    "    \n",
    "    # Load data into pandas DataFrames\n",
    "    customers_df = pd.read_sql(customer_query, conn)\n",
    "    bets_df = pd.read_sql(betting_query, conn)\n",
    "    \n",
    "    # Display first few rows and info about each table\n",
    "    print(\"\\nCustomer Table Info:\")\n",
    "    print(customers_df.info())\n",
    "    print(\"\\nFirst few rows of customer data:\")\n",
    "    print(customers_df.head())\n",
    "    \n",
    "    print(\"\\nBetting Log Info:\")\n",
    "    print(bets_df.info())\n",
    "    print(\"\\nFirst few rows of betting data:\")\n",
    "    print(bets_df.head())\n",
    "    \n",
    "    # Save to CSV files for later use if needed\n",
    "    customers_df.to_csv('customer_data.csv', index=False)\n",
    "    bets_df.to_csv('betting_data.csv', index=False)\n",
    "    \n",
    "except Exception as e:\n",
    "    print(f\"An error occurred: {str(e)}\")\n",
    "    \n",
    "finally:\n",
    "    if 'conn' in locals():\n",
    "        conn.close()"
   ]
  }
 ],
 "metadata": {
  "kernelspec": {
   "display_name": "Python 3 (ipykernel)",
   "language": "python",
   "name": "python3"
  },
  "language_info": {
   "codemirror_mode": {
    "name": "ipython",
    "version": 3
   },
   "file_extension": ".py",
   "mimetype": "text/x-python",
   "name": "python",
   "nbconvert_exporter": "python",
   "pygments_lexer": "ipython3",
   "version": "3.11.5"
  }
 },
 "nbformat": 4,
 "nbformat_minor": 5
}
