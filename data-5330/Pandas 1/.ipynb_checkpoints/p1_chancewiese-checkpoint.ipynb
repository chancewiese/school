{
 "cells": [
  {
   "cell_type": "code",
   "execution_count": 1,
   "id": "1fc2c883-a8e5-47d4-8c40-9cba8f0956bf",
   "metadata": {
    "tags": []
   },
   "outputs": [],
   "source": [
    "# 1\n",
    "# Chance Wiese"
   ]
  },
  {
   "cell_type": "code",
   "execution_count": null,
   "id": "7d781eb8-1ea9-45f0-95ee-2dfee4f27b5b",
   "metadata": {
    "tags": []
   },
   "outputs": [],
   "source": [
    "# 2\n",
    "import pandas as pd\n",
    "df = pd.read_csv('ecto-oldmain.csv', index_col = 0)\n",
    "print(df)"
   ]
  },
  {
   "cell_type": "code",
   "execution_count": 10,
   "id": "91e6a90d-9d8c-43e0-84da-be02ce9569aa",
   "metadata": {
    "tags": []
   },
   "outputs": [
    {
     "name": "stdout",
     "output_type": "stream",
     "text": [
      "       Security  Wails  Jump-Scares\n",
      "Date                               \n",
      "15-Oct        O      4            9\n",
      "16-Oct        O     10           14\n",
      "17-Oct        H      3            9\n",
      "18-Oct        H      6           12\n",
      "19-Oct        H     13           14\n",
      "20-Oct        O     11           18\n",
      "21-Oct        O      4           15\n",
      "22-Oct        O     15           15\n",
      "23-Oct        O     17           15\n",
      "24-Oct        H      7           17\n",
      "25-Oct        H     12           13\n",
      "26-Oct        H      8            9\n",
      "27-Oct        O     18           13\n",
      "28-Oct        O     20            8\n",
      "29-Oct        S     12            9\n",
      "30-Oct        O     14           43\n",
      "31-Oct        H     13           54\n",
      "1-Nov         H     16           55\n",
      "2-Nov         S     19           28\n",
      "3-Nov         H      7           10\n",
      "4-Nov         O     15            6\n"
     ]
    }
   ],
   "source": [
    "# 3\n",
    "dfnew = df[['Security', 'Wails', 'Jump-Scares']]\n",
    "print(dfnew)"
   ]
  },
  {
   "cell_type": "code",
   "execution_count": 14,
   "id": "28c6431e-2137-40a9-b1fe-90bf339f1fa1",
   "metadata": {
    "tags": []
   },
   "outputs": [
    {
     "name": "stdout",
     "output_type": "stream",
     "text": [
      "        Jump-Scares  AvgTemp\n",
      "Date                        \n",
      "15-Oct            9     43.0\n",
      "16-Oct           14     38.0\n",
      "17-Oct            9     48.0\n",
      "18-Oct           12     40.0\n",
      "19-Oct           14     46.0\n",
      "20-Oct           18     38.0\n",
      "21-Oct           15     36.0\n",
      "22-Oct           15     28.0\n",
      "23-Oct           15     57.0\n",
      "24-Oct           17     36.0\n",
      "25-Oct           13     71.0\n",
      "26-Oct            9     37.0\n",
      "27-Oct           13      NaN\n",
      "28-Oct            8     29.0\n",
      "29-Oct            9     23.0\n",
      "30-Oct           43     47.0\n",
      "31-Oct           54     37.0\n",
      "1-Nov            55     26.0\n",
      "2-Nov            28      NaN\n",
      "3-Nov            10     50.0\n",
      "4-Nov             6     40.0\n"
     ]
    }
   ],
   "source": [
    "# 4\n",
    "print(df[['Jump-Scares', 'AvgTemp']])"
   ]
  },
  {
   "cell_type": "code",
   "execution_count": 27,
   "id": "fb9c6080-9053-46f7-bc47-c0aad4cc2f1d",
   "metadata": {
    "tags": []
   },
   "outputs": [
    {
     "name": "stdout",
     "output_type": "stream",
     "text": [
      "Sightings       3.0\n",
      "Wails             3\n",
      "Jump-Scares       9\n",
      "AvgTemp        48.0\n",
      "Ectograph      2.61\n",
      "Security          H\n",
      "Name: 17-Oct, dtype: object\n"
     ]
    }
   ],
   "source": [
    "# 5\n",
    "print(df.loc['17-Oct'])"
   ]
  },
  {
   "cell_type": "code",
   "execution_count": null,
   "id": "0046ae72-ee1d-4ce8-a0cc-01769bb55f5a",
   "metadata": {},
   "outputs": [],
   "source": [
    "# 6\n"
   ]
  }
 ],
 "metadata": {
  "kernelspec": {
   "display_name": "Python 3 (ipykernel)",
   "language": "python",
   "name": "python3"
  },
  "language_info": {
   "codemirror_mode": {
    "name": "ipython",
    "version": 3
   },
   "file_extension": ".py",
   "mimetype": "text/x-python",
   "name": "python",
   "nbconvert_exporter": "python",
   "pygments_lexer": "ipython3",
   "version": "3.12.4"
  }
 },
 "nbformat": 4,
 "nbformat_minor": 5
}
