{
 "cells": [
  {
   "cell_type": "code",
   "execution_count": 2,
   "id": "1fc2c883-a8e5-47d4-8c40-9cba8f0956bf",
   "metadata": {
    "tags": []
   },
   "outputs": [],
   "source": [
    "# 1\n",
    "# Chance Wiese"
   ]
  },
  {
   "cell_type": "code",
   "execution_count": 3,
   "id": "7d781eb8-1ea9-45f0-95ee-2dfee4f27b5b",
   "metadata": {
    "tags": []
   },
   "outputs": [
    {
     "name": "stdout",
     "output_type": "stream",
     "text": [
      "        Sightings  Wails  Jump-Scares  AvgTemp  Ectograph Security\n",
      "Date                                                              \n",
      "15-Oct        1.0      4            9     43.0       2.51        O\n",
      "16-Oct        6.0     10           14     38.0       3.54        O\n",
      "17-Oct        3.0      3            9     48.0       2.61        H\n",
      "18-Oct        NaN      6           12     40.0       3.42        H\n",
      "19-Oct        2.0     13           14     46.0       3.99        H\n",
      "20-Oct        8.0     11           18     38.0       4.15        O\n",
      "21-Oct        9.0      4           15     36.0       3.60        O\n",
      "22-Oct        6.0     15           15     28.0       4.29        O\n",
      "23-Oct        8.0     17           15     57.0       4.26        O\n",
      "24-Oct        9.0      7           17     36.0       3.68        H\n",
      "25-Oct        NaN     12           13     71.0       2.48        H\n",
      "26-Oct        2.0      8            9     37.0       2.23        H\n",
      "27-Oct        5.0     18           13      NaN       4.11        O\n",
      "28-Oct        2.0     20            8     29.0       3.80        O\n",
      "29-Oct        6.0     12            9     23.0       3.15        S\n",
      "30-Oct        9.0     14           43     47.0       5.10        O\n",
      "31-Oct        6.0     13           54     37.0       3.46        H\n",
      "1-Nov         NaN     16           55     26.0       2.66        H\n",
      "2-Nov         3.0     19           28      NaN       3.31        S\n",
      "3-Nov         3.0      7           10     50.0       2.90        H\n",
      "4-Nov         NaN     15            6     40.0       2.36        O\n"
     ]
    }
   ],
   "source": [
    "# 2\n",
    "import pandas as pd\n",
    "df = pd.read_csv('ecto-oldmain.csv', index_col = 0)\n",
    "print(df)"
   ]
  },
  {
   "cell_type": "code",
   "execution_count": 4,
   "id": "91e6a90d-9d8c-43e0-84da-be02ce9569aa",
   "metadata": {
    "tags": []
   },
   "outputs": [
    {
     "name": "stdout",
     "output_type": "stream",
     "text": [
      "       Security  Wails  Jump-Scares\n",
      "Date                               \n",
      "15-Oct        O      4            9\n",
      "16-Oct        O     10           14\n",
      "17-Oct        H      3            9\n",
      "18-Oct        H      6           12\n",
      "19-Oct        H     13           14\n",
      "20-Oct        O     11           18\n",
      "21-Oct        O      4           15\n",
      "22-Oct        O     15           15\n",
      "23-Oct        O     17           15\n",
      "24-Oct        H      7           17\n",
      "25-Oct        H     12           13\n",
      "26-Oct        H      8            9\n",
      "27-Oct        O     18           13\n",
      "28-Oct        O     20            8\n",
      "29-Oct        S     12            9\n",
      "30-Oct        O     14           43\n",
      "31-Oct        H     13           54\n",
      "1-Nov         H     16           55\n",
      "2-Nov         S     19           28\n",
      "3-Nov         H      7           10\n",
      "4-Nov         O     15            6\n"
     ]
    }
   ],
   "source": [
    "# 3\n",
    "dfnew = df[['Security', 'Wails', 'Jump-Scares']]\n",
    "print(dfnew)"
   ]
  },
  {
   "cell_type": "code",
   "execution_count": 5,
   "id": "28c6431e-2137-40a9-b1fe-90bf339f1fa1",
   "metadata": {
    "tags": []
   },
   "outputs": [
    {
     "name": "stdout",
     "output_type": "stream",
     "text": [
      "        Jump-Scares  AvgTemp\n",
      "Date                        \n",
      "15-Oct            9     43.0\n",
      "16-Oct           14     38.0\n",
      "17-Oct            9     48.0\n",
      "18-Oct           12     40.0\n",
      "19-Oct           14     46.0\n",
      "20-Oct           18     38.0\n",
      "21-Oct           15     36.0\n",
      "22-Oct           15     28.0\n",
      "23-Oct           15     57.0\n",
      "24-Oct           17     36.0\n",
      "25-Oct           13     71.0\n",
      "26-Oct            9     37.0\n",
      "27-Oct           13      NaN\n",
      "28-Oct            8     29.0\n",
      "29-Oct            9     23.0\n",
      "30-Oct           43     47.0\n",
      "31-Oct           54     37.0\n",
      "1-Nov            55     26.0\n",
      "2-Nov            28      NaN\n",
      "3-Nov            10     50.0\n",
      "4-Nov             6     40.0\n"
     ]
    }
   ],
   "source": [
    "# 4\n",
    "print(df[['Jump-Scares', 'AvgTemp']])"
   ]
  },
  {
   "cell_type": "code",
   "execution_count": 6,
   "id": "fb9c6080-9053-46f7-bc47-c0aad4cc2f1d",
   "metadata": {
    "tags": []
   },
   "outputs": [
    {
     "name": "stdout",
     "output_type": "stream",
     "text": [
      "Sightings       3.0\n",
      "Wails             3\n",
      "Jump-Scares       9\n",
      "AvgTemp        48.0\n",
      "Ectograph      2.61\n",
      "Security          H\n",
      "Name: 17-Oct, dtype: object\n"
     ]
    }
   ],
   "source": [
    "# 5\n",
    "print(df.loc['17-Oct'])"
   ]
  },
  {
   "cell_type": "code",
   "execution_count": 7,
   "id": "0046ae72-ee1d-4ce8-a0cc-01769bb55f5a",
   "metadata": {},
   "outputs": [
    {
     "name": "stdout",
     "output_type": "stream",
     "text": [
      "        Sightings  Shriek  Jump-Scares  AvgTemp  Ectograph Guard\n",
      "Date                                                            \n",
      "15-Oct        1.0       4            9     43.0       2.51     O\n",
      "16-Oct        6.0      10           14     38.0       3.54     O\n",
      "17-Oct        3.0       3            9     48.0       2.61     H\n",
      "18-Oct        NaN       6           12     40.0       3.42     H\n",
      "19-Oct        2.0      13           14     46.0       3.99     H\n",
      "20-Oct        8.0      11           18     38.0       4.15     O\n",
      "21-Oct        9.0       4           15     36.0       3.60     O\n",
      "22-Oct        6.0      15           15     28.0       4.29     O\n",
      "23-Oct        8.0      17           15     57.0       4.26     O\n",
      "24-Oct        9.0       7           17     36.0       3.68     H\n",
      "25-Oct        NaN      12           13     71.0       2.48     H\n",
      "26-Oct        2.0       8            9     37.0       2.23     H\n",
      "27-Oct        5.0      18           13      NaN       4.11     O\n",
      "28-Oct        2.0      20            8     29.0       3.80     O\n",
      "29-Oct        6.0      12            9     23.0       3.15     S\n",
      "30-Oct        9.0      14           43     47.0       5.10     O\n",
      "31-Oct        6.0      13           54     37.0       3.46     H\n",
      "1-Nov         NaN      16           55     26.0       2.66     H\n",
      "2-Nov         3.0      19           28      NaN       3.31     S\n",
      "3-Nov         3.0       7           10     50.0       2.90     H\n",
      "4-Nov         NaN      15            6     40.0       2.36     O\n"
     ]
    }
   ],
   "source": [
    "# 6\n",
    "df.rename(columns={'Wails':'Shriek', 'Security':'Guard'}, inplace=True)\n",
    "print(df)"
   ]
  },
  {
   "cell_type": "code",
   "execution_count": 8,
   "id": "4591d09c",
   "metadata": {},
   "outputs": [
    {
     "name": "stdout",
     "output_type": "stream",
     "text": [
      "        Sightings  Shriek  Jump-Scares  AvgTemp  Ectograph      Guard\n",
      "Date                                                                 \n",
      "15-Oct        1.0       4            9     43.0       2.51      Oscar\n",
      "16-Oct        6.0      10           14     38.0       3.54      Oscar\n",
      "17-Oct        3.0       3            9     48.0       2.61  Hildegard\n",
      "18-Oct        NaN       6           12     40.0       3.42  Hildegard\n",
      "19-Oct        2.0      13           14     46.0       3.99  Hildegard\n",
      "20-Oct        8.0      11           18     38.0       4.15      Oscar\n",
      "21-Oct        9.0       4           15     36.0       3.60      Oscar\n",
      "22-Oct        6.0      15           15     28.0       4.29      Oscar\n",
      "23-Oct        8.0      17           15     57.0       4.26      Oscar\n",
      "24-Oct        9.0       7           17     36.0       3.68  Hildegard\n",
      "25-Oct        NaN      12           13     71.0       2.48  Hildegard\n",
      "26-Oct        2.0       8            9     37.0       2.23  Hildegard\n",
      "27-Oct        5.0      18           13      NaN       4.11      Oscar\n",
      "28-Oct        2.0      20            8     29.0       3.80      Oscar\n",
      "29-Oct        6.0      12            9     23.0       3.15      Susie\n",
      "30-Oct        9.0      14           43     47.0       5.10      Oscar\n",
      "31-Oct        6.0      13           54     37.0       3.46  Hildegard\n",
      "1-Nov         NaN      16           55     26.0       2.66  Hildegard\n",
      "2-Nov         3.0      19           28      NaN       3.31      Susie\n",
      "3-Nov         3.0       7           10     50.0       2.90  Hildegard\n",
      "4-Nov         NaN      15            6     40.0       2.36      Oscar\n"
     ]
    },
    {
     "name": "stderr",
     "output_type": "stream",
     "text": [
      "C:\\Users\\Chanc\\AppData\\Local\\Temp\\ipykernel_35252\\4048745882.py:2: FutureWarning: A value is trying to be set on a copy of a DataFrame or Series through chained assignment using an inplace method.\n",
      "The behavior will change in pandas 3.0. This inplace method will never work because the intermediate object on which we are setting values always behaves as a copy.\n",
      "\n",
      "For example, when doing 'df[col].method(value, inplace=True)', try using 'df.method({col: value}, inplace=True)' or df[col] = df[col].method(value) instead, to perform the operation inplace on the original object.\n",
      "\n",
      "\n",
      "  df['Guard'].replace(to_replace=['H', 'O', 'S'],\n"
     ]
    }
   ],
   "source": [
    "# 7\n",
    "df['Guard'].replace(to_replace=['H', 'O', 'S'],\n",
    "                    value=['Hildegard', 'Oscar', 'Susie'],\n",
    "                    inplace=True)\n",
    "print(df)"
   ]
  },
  {
   "cell_type": "code",
   "execution_count": 9,
   "id": "c51df0cb",
   "metadata": {},
   "outputs": [
    {
     "name": "stdout",
     "output_type": "stream",
     "text": [
      "        Sightings  Shriek  Jump-Scares  AvgTemp  Ectograph      Guard\n",
      "Date                                                                 \n",
      "15-Oct        1.0       4            9     43.0       2.51      Oscar\n",
      "16-Oct        6.0      10           14     38.0       3.54      Oscar\n",
      "17-Oct        3.0       3            9     48.0       2.61  Hildegard\n",
      "18-Oct        NaN       6           12     40.0       3.42  Hildegard\n",
      "19-Oct        2.0      13           14     46.0       3.99  Hildegard\n",
      "20-Oct        8.0      11           18     38.0       4.15      Oscar\n",
      "21-Oct        9.0       4           15     36.0       3.60      Oscar\n",
      "22-Oct        6.0      15           15     28.0       4.29      Oscar\n",
      "23-Oct        8.0      17           15     57.0       4.26      Oscar\n",
      "24-Oct        9.0       7           17     36.0       3.68  Hildegard\n",
      "25-Oct        NaN      12           13     71.0       2.48  Hildegard\n",
      "26-Oct        2.0       8            9     37.0       2.23  Hildegard\n",
      "27-Oct        5.0      18           13     32.0       4.11      Oscar\n",
      "28-Oct        2.0      20            8     29.0       3.80      Oscar\n",
      "29-Oct        6.0      12            9     23.0       3.15      Susie\n",
      "30-Oct        9.0      14           43     47.0       5.10      Oscar\n",
      "31-Oct        6.0      13           54     37.0       3.46  Hildegard\n",
      "1-Nov         NaN      16           55     26.0       2.66  Hildegard\n",
      "2-Nov         3.0      19           28     32.0       3.31      Susie\n",
      "3-Nov         3.0       7           10     50.0       2.90  Hildegard\n",
      "4-Nov         NaN      15            6     40.0       2.36      Oscar\n"
     ]
    },
    {
     "name": "stderr",
     "output_type": "stream",
     "text": [
      "C:\\Users\\Chanc\\AppData\\Local\\Temp\\ipykernel_35252\\1812231154.py:3: FutureWarning: A value is trying to be set on a copy of a DataFrame or Series through chained assignment using an inplace method.\n",
      "The behavior will change in pandas 3.0. This inplace method will never work because the intermediate object on which we are setting values always behaves as a copy.\n",
      "\n",
      "For example, when doing 'df[col].method(value, inplace=True)', try using 'df.method({col: value}, inplace=True)' or df[col] = df[col].method(value) instead, to perform the operation inplace on the original object.\n",
      "\n",
      "\n",
      "  df['AvgTemp'].replace(to_replace=np.nan, value=32, inplace=True)\n"
     ]
    }
   ],
   "source": [
    "# 8\n",
    "import numpy as np\n",
    "df['AvgTemp'].replace(to_replace=np.nan, value=32, inplace=True)\n",
    "print(df)"
   ]
  },
  {
   "cell_type": "code",
   "execution_count": 10,
   "id": "b91c4d31",
   "metadata": {},
   "outputs": [
    {
     "name": "stdout",
     "output_type": "stream",
     "text": [
      "        Precip\n",
      "Date          \n",
      "15-Oct     NaN\n",
      "16-Oct     1.0\n",
      "17-Oct    10.0\n",
      "18-Oct     2.0\n",
      "19-Oct     NaN\n",
      "20-Oct     NaN\n",
      "21-Oct     3.0\n",
      "22-Oct     NaN\n",
      "23-Oct     NaN\n",
      "24-Oct     5.0\n",
      "25-Oct     8.0\n",
      "26-Oct    12.0\n",
      "27-Oct     NaN\n",
      "28-Oct     NaN\n",
      "29-Oct     1.0\n",
      "30-Oct     NaN\n",
      "31-Oct     2.0\n",
      "1-Nov      1.0\n",
      "2-Nov      NaN\n",
      "3-Nov      NaN\n",
      "4-Nov      3.0\n",
      "\n",
      "        Sightings  Shriek  Jump-Scares  AvgTemp  Ectograph      Guard  Precip\n",
      "Date                                                                         \n",
      "15-Oct        1.0       4            9     43.0       2.51      Oscar     0.0\n",
      "16-Oct        6.0      10           14     38.0       3.54      Oscar     1.0\n",
      "17-Oct        3.0       3            9     48.0       2.61  Hildegard    10.0\n",
      "18-Oct        NaN       6           12     40.0       3.42  Hildegard     2.0\n",
      "19-Oct        2.0      13           14     46.0       3.99  Hildegard     0.0\n",
      "20-Oct        8.0      11           18     38.0       4.15      Oscar     0.0\n",
      "21-Oct        9.0       4           15     36.0       3.60      Oscar     3.0\n",
      "22-Oct        6.0      15           15     28.0       4.29      Oscar     0.0\n",
      "23-Oct        8.0      17           15     57.0       4.26      Oscar     0.0\n",
      "24-Oct        9.0       7           17     36.0       3.68  Hildegard     5.0\n",
      "25-Oct        NaN      12           13     71.0       2.48  Hildegard     8.0\n",
      "26-Oct        2.0       8            9     37.0       2.23  Hildegard    12.0\n",
      "27-Oct        5.0      18           13     32.0       4.11      Oscar     0.0\n",
      "28-Oct        2.0      20            8     29.0       3.80      Oscar     0.0\n",
      "29-Oct        6.0      12            9     23.0       3.15      Susie     1.0\n",
      "30-Oct        9.0      14           43     47.0       5.10      Oscar     0.0\n",
      "31-Oct        6.0      13           54     37.0       3.46  Hildegard     2.0\n",
      "1-Nov         NaN      16           55     26.0       2.66  Hildegard     1.0\n",
      "2-Nov         3.0      19           28     32.0       3.31      Susie     0.0\n",
      "3-Nov         3.0       7           10     50.0       2.90  Hildegard     0.0\n",
      "4-Nov         NaN      15            6     40.0       2.36      Oscar     3.0\n"
     ]
    },
    {
     "name": "stderr",
     "output_type": "stream",
     "text": [
      "C:\\Users\\Chanc\\AppData\\Local\\Temp\\ipykernel_35252\\2687588401.py:5: FutureWarning: A value is trying to be set on a copy of a DataFrame or Series through chained assignment using an inplace method.\n",
      "The behavior will change in pandas 3.0. This inplace method will never work because the intermediate object on which we are setting values always behaves as a copy.\n",
      "\n",
      "For example, when doing 'df[col].method(value, inplace=True)', try using 'df.method({col: value}, inplace=True)' or df[col] = df[col].method(value) instead, to perform the operation inplace on the original object.\n",
      "\n",
      "\n",
      "  df2['Precip'].replace(to_replace=np.nan, value=0, inplace=True)\n"
     ]
    }
   ],
   "source": [
    "# 9\n",
    "df2 = pd.read_csv('ecto-rainfall.csv', index_col=0)\n",
    "print(df2)\n",
    "\n",
    "df2['Precip'].replace(to_replace=np.nan, value=0, inplace=True)\n",
    "dffull = pd.concat([df,df2], axis=1)\n",
    "\n",
    "print()\n",
    "print(dffull)"
   ]
  },
  {
   "cell_type": "code",
   "execution_count": 11,
   "id": "ac508eb5",
   "metadata": {},
   "outputs": [
    {
     "name": "stdout",
     "output_type": "stream",
     "text": [
      "The average Ectograph value is 3.410.\n"
     ]
    }
   ],
   "source": [
    "# 10\n",
    "print(f'The average Ectograph value is {dffull['Ectograph'].agg('mean'):.3f}.')"
   ]
  },
  {
   "cell_type": "code",
   "execution_count": 12,
   "id": "5284b80a",
   "metadata": {},
   "outputs": [
    {
     "name": "stdout",
     "output_type": "stream",
     "text": [
      "          Shriek                                                     \n",
      "           count       mean       std   min    25%   50%    75%   max\n",
      "Guard                                                                \n",
      "Hildegard    9.0   9.444444  4.216370   3.0   7.00   8.0  13.00  16.0\n",
      "Oscar       10.0  12.800000  5.513620   4.0  10.25  14.5  16.50  20.0\n",
      "Susie        2.0  15.500000  4.949747  12.0  13.75  15.5  17.25  19.0\n",
      "\n",
      "Hildegard is associated with the fewest Shrieks\n"
     ]
    }
   ],
   "source": [
    "# 11\n",
    "dfx = dffull[['Guard', 'Shriek']]\n",
    "print(dfx.groupby('Guard').describe())\n",
    "print('\\nHildegard is associated with the fewest Shrieks')"
   ]
  }
 ],
 "metadata": {
  "kernelspec": {
   "display_name": "Python 3 (ipykernel)",
   "language": "python",
   "name": "python3"
  },
  "language_info": {
   "codemirror_mode": {
    "name": "ipython",
    "version": 3
   },
   "file_extension": ".py",
   "mimetype": "text/x-python",
   "name": "python",
   "nbconvert_exporter": "python",
   "pygments_lexer": "ipython3",
   "version": "3.12.4"
  }
 },
 "nbformat": 4,
 "nbformat_minor": 5
}
