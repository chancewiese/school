{
 "cells": [
  {
   "cell_type": "code",
   "execution_count": null,
   "id": "805474ba-f2fb-49a6-bfa7-8bda0c9e6e15",
   "metadata": {},
   "outputs": [],
   "source": [
    "import pandas as pd\n",
    "import matplotlib.pyplot as plt\n",
    "%matplotlib inline\n",
    "import statsmodels.api as sm\n",
    "import statsmodels.formula.api as smf\n",
    "import numpy as np\n",
    "from sklearn.datasets import load_diabetes\n",
    "from math import sqrt\n",
    "\n",
    "import os\n",
    "os.getcwd()"
   ]
  },
  {
   "cell_type": "markdown",
   "id": "a9af6cd5-dd02-45d8-a6cc-04d92a7c1ddb",
   "metadata": {},
   "source": [
    "## Let's start with a simple example"
   ]
  },
  {
   "cell_type": "code",
   "execution_count": null,
   "id": "3f37ad12-4a93-413d-9978-d94845049b46",
   "metadata": {},
   "outputs": [],
   "source": [
    "diabetes = load_diabetes(as_frame=True)\n",
    "print(diabetes.DESCR)"
   ]
  },
  {
   "cell_type": "code",
   "execution_count": null,
   "id": "8d70e8f1-de84-4a55-8e54-57951e35c398",
   "metadata": {},
   "outputs": [],
   "source": [
    "diabetes_df = diabetes.frame\n",
    "diabetes_df.head()"
   ]
  },
  {
   "cell_type": "code",
   "execution_count": null,
   "id": "f60f32dc-6e29-4c77-bd31-c730787daf4d",
   "metadata": {},
   "outputs": [],
   "source": [
    "results = smf.ols('target ~ bmi', data=diabetes_df).fit()\n",
    "results.summary()"
   ]
  },
  {
   "cell_type": "code",
   "execution_count": null,
   "id": "6b4c8e24-6295-4c2f-88b4-ead5eb6839f8",
   "metadata": {},
   "outputs": [],
   "source": [
    "fig = sm.graphics.abline_plot(model_results=results)\n",
    "ax = fig.axes[0]\n",
    "ax.scatter(diabetes_df['bmi'], diabetes_df['target'])\n",
    "plt.show"
   ]
  },
  {
   "cell_type": "markdown",
   "id": "32802e8a-46c1-44d6-8a97-d11c6d415076",
   "metadata": {},
   "source": [
    "## What if we use simulated data?"
   ]
  },
  {
   "cell_type": "code",
   "execution_count": null,
   "id": "14253e36-5de5-400c-a2ef-87f9e3dd6ae3",
   "metadata": {},
   "outputs": [],
   "source": [
    "beta_1 = 5\n",
    "beta_0 = 2\n",
    "\n",
    "x = np.random.randint(low=0, high=25, size=(50,))\n",
    "print(x)"
   ]
  },
  {
   "cell_type": "code",
   "execution_count": null,
   "id": "3aec69d7-248c-494c-94a2-f12e756d68c8",
   "metadata": {},
   "outputs": [],
   "source": [
    "epsilon = np.random.normal(scale = 5.0, size = (50,))\n",
    "print(epsilon)"
   ]
  },
  {
   "cell_type": "code",
   "execution_count": null,
   "id": "80660362-4e58-4bf2-b22d-bcbdfa97c727",
   "metadata": {},
   "outputs": [],
   "source": [
    "# this is the linear regression equation\n",
    "y = beta_0 + beta_1*x + epsilon\n",
    "print(y)"
   ]
  },
  {
   "cell_type": "code",
   "execution_count": null,
   "id": "303e03bc-913e-4478-92d8-68d4646a175a",
   "metadata": {},
   "outputs": [],
   "source": [
    "df = pd.DataFrame({'x': x, 'y': y})\n",
    "df.head()"
   ]
  },
  {
   "cell_type": "code",
   "execution_count": null,
   "id": "0273dd63-ac28-44ef-aae6-512e991fac42",
   "metadata": {},
   "outputs": [],
   "source": [
    "plt.scatter(x,y)"
   ]
  },
  {
   "cell_type": "code",
   "execution_count": null,
   "id": "1019dabd-ec16-4e6d-b6dc-e4d0c1577ab6",
   "metadata": {},
   "outputs": [],
   "source": [
    "results = smf.ols('y ~ x', data=df).fit()\n",
    "results.summary()"
   ]
  },
  {
   "cell_type": "code",
   "execution_count": null,
   "id": "476bd775-3f0b-4ada-9c3f-16d5531be245",
   "metadata": {},
   "outputs": [],
   "source": [
    "fig = sm.graphics.abline_plot(model_results=results)\n",
    "ax = fig.axes[0]\n",
    "ax.scatter(df['x'], df['y'])\n",
    "plt.show"
   ]
  },
  {
   "cell_type": "markdown",
   "id": "ae105754-d8db-4780-b3a9-d6f0dfbba07d",
   "metadata": {},
   "source": [
    "#### What would happen if we shrunk the standard deviation of the noise?"
   ]
  },
  {
   "cell_type": "code",
   "execution_count": null,
   "id": "e1adec5b-c491-424b-8a3b-023c8b15b3f6",
   "metadata": {},
   "outputs": [],
   "source": []
  },
  {
   "cell_type": "markdown",
   "id": "a8b74796-0003-407c-bdb4-d497b57a0d57",
   "metadata": {},
   "source": [
    "## Here is an example with some real data"
   ]
  },
  {
   "cell_type": "code",
   "execution_count": null,
   "id": "12221c16-0849-45a0-8870-c0fb6954e184",
   "metadata": {},
   "outputs": [],
   "source": [
    "inventory_df = pd.read_csv('/Users/sharad/Courses/DATA_5600/Data/Metro_invt_fs_uc_sfrcondo_sm_month.csv')\n",
    "inventory_df.head()"
   ]
  },
  {
   "cell_type": "code",
   "execution_count": null,
   "id": "f3632c66-9ba6-485c-9d5b-f06941254deb",
   "metadata": {},
   "outputs": [],
   "source": [
    "inventory_df[inventory_df['StateName'].isin(['UT'])]"
   ]
  },
  {
   "cell_type": "code",
   "execution_count": null,
   "id": "7be157da-9c03-448c-8c8a-3780d5c5ae80",
   "metadata": {},
   "outputs": [],
   "source": [
    "slc_inventory = inventory_df[inventory_df['RegionName'].isin(['Salt Lake City, UT'])]\n",
    "slc_inventory"
   ]
  },
  {
   "cell_type": "code",
   "execution_count": null,
   "id": "2f277383-da5e-4dc4-93f1-cf2b19e6616b",
   "metadata": {},
   "outputs": [],
   "source": [
    "sale_to_list_df = pd.read_csv('/Users/sharad/Courses/DATA_5600/Data/Metro_mean_sale_to_list_uc_sfrcondo_month.csv')\n",
    "sale_to_list_df.head()"
   ]
  },
  {
   "cell_type": "code",
   "execution_count": null,
   "id": "4706e001-d36f-4879-8d8b-46cb4442b860",
   "metadata": {},
   "outputs": [],
   "source": [
    "slc_stol = sale_to_list_df[sale_to_list_df['RegionName'].isin(['Salt Lake City, UT'])]\n",
    "slc_stol"
   ]
  },
  {
   "cell_type": "code",
   "execution_count": null,
   "id": "c5d66cea-81fa-4f0f-a5a1-ecc005d18f5c",
   "metadata": {},
   "outputs": [],
   "source": [
    "slc_stol = slc_stol.transpose()\n",
    "slc_inventory = slc_inventory.transpose()\n",
    "\n",
    "slc_stol.head(10)"
   ]
  },
  {
   "cell_type": "code",
   "execution_count": null,
   "id": "61a06b2d-ef11-488e-8497-9e3f304bea5b",
   "metadata": {},
   "outputs": [],
   "source": [
    "slc_stol = slc_stol.iloc[5:,:]\n",
    "slc_inventory = slc_inventory.iloc[5:,:]\n",
    "slc_inventory.head()"
   ]
  },
  {
   "cell_type": "code",
   "execution_count": null,
   "id": "bbb97ee7-e5b5-4063-8244-dbae3e0631ee",
   "metadata": {},
   "outputs": [],
   "source": [
    "slc_stol.head()"
   ]
  },
  {
   "cell_type": "code",
   "execution_count": null,
   "id": "ec918f7f-c1ce-486b-b541-8b42dbba6df1",
   "metadata": {},
   "outputs": [],
   "source": [
    "slc_inventory.set_axis(['inventory'], axis=1, inplace=True)\n",
    "\n",
    "slc_stol.set_axis(['sale_to_list_ratio'], axis=1, inplace=True)\n",
    "\n",
    "slc_inventory.head()"
   ]
  },
  {
   "cell_type": "code",
   "execution_count": null,
   "id": "7d7737b6-c403-412f-aa95-d85a5b5e3e2e",
   "metadata": {},
   "outputs": [],
   "source": [
    "slc_inventory.reset_index(inplace=True)\n",
    "slc_inventory = slc_inventory.rename(columns = {'index':'month'})\n",
    "\n",
    "slc_stol.reset_index(inplace=True)\n",
    "slc_stol = slc_stol.rename(columns = {'index':'month'})\n",
    "\n",
    "slc_inventory.head()"
   ]
  },
  {
   "cell_type": "code",
   "execution_count": null,
   "id": "ae9fe06d-96ad-4185-a23f-68a09d074b3f",
   "metadata": {},
   "outputs": [],
   "source": [
    "slc_stol.head()"
   ]
  },
  {
   "cell_type": "code",
   "execution_count": null,
   "id": "deaecd69-99fa-4d33-9d92-fb740c6324c4",
   "metadata": {},
   "outputs": [],
   "source": [
    "slc_housing = slc_inventory.merge(slc_stol, on = 'month')\n",
    "slc_housing.head()"
   ]
  },
  {
   "cell_type": "code",
   "execution_count": null,
   "id": "01c34e5c-8b63-44c5-ad2f-92353f1ea830",
   "metadata": {},
   "outputs": [],
   "source": [
    "slc_housing.shape"
   ]
  },
  {
   "cell_type": "code",
   "execution_count": null,
   "id": "3cd871fc-cede-4ea9-b8f1-7f5a453ea498",
   "metadata": {},
   "outputs": [],
   "source": [
    "slc_housing.dropna(inplace = True)\n",
    "slc_housing.shape"
   ]
  },
  {
   "cell_type": "code",
   "execution_count": null,
   "id": "b6c549e4-d496-4f12-8a29-fe7b68770898",
   "metadata": {},
   "outputs": [],
   "source": [
    "plt.scatter(slc_housing['inventory'], slc_housing['sale_to_list_ratio'])"
   ]
  },
  {
   "cell_type": "code",
   "execution_count": null,
   "id": "5706be4a-0424-46f6-a180-f039dade9b21",
   "metadata": {},
   "outputs": [],
   "source": [
    "slc_housing.info()"
   ]
  },
  {
   "cell_type": "code",
   "execution_count": null,
   "id": "fd515079-1b88-4e76-9683-eec4733e487c",
   "metadata": {},
   "outputs": [],
   "source": [
    "slc_housing[\"inventory\"] = pd.to_numeric(slc_housing[\"inventory\"])\n",
    "slc_housing[\"sale_to_list_ratio\"] = pd.to_numeric(slc_housing[\"sale_to_list_ratio\"])\n",
    "slc_housing.info()"
   ]
  },
  {
   "cell_type": "code",
   "execution_count": null,
   "id": "562edf32-b782-4056-9c4b-5124d02379a5",
   "metadata": {},
   "outputs": [],
   "source": [
    "results = smf.ols('sale_to_list_ratio ~ inventory', data=slc_housing).fit()\n",
    "results.summary()"
   ]
  },
  {
   "cell_type": "code",
   "execution_count": null,
   "id": "899dd0a4-bcbe-46e1-b0d5-d3154f21a34b",
   "metadata": {},
   "outputs": [],
   "source": [
    "fig = sm.graphics.abline_plot(model_results=results)\n",
    "ax = fig.axes[0]\n",
    "ax.scatter(slc_housing['inventory'], slc_housing['sale_to_list_ratio'])\n",
    "plt.show()"
   ]
  },
  {
   "cell_type": "code",
   "execution_count": null,
   "id": "3f6f894a-ad7e-43a5-8497-65f05bae5fe8",
   "metadata": {},
   "outputs": [],
   "source": [
    "slc_housing['inventory_norm'] = (slc_housing['inventory'] - slc_housing['inventory'].mean())/slc_housing['inventory'].std()\n",
    "slc_housing['sale_to_list_ratio_norm'] = (slc_housing['sale_to_list_ratio'] - slc_housing['sale_to_list_ratio'].mean())/slc_housing['sale_to_list_ratio'].std()\n",
    "\n",
    "slc_housing.head()"
   ]
  },
  {
   "cell_type": "code",
   "execution_count": null,
   "id": "68da2776-0f55-45ff-8d1a-f7dd6c2adeb9",
   "metadata": {},
   "outputs": [],
   "source": [
    "plt.scatter(slc_housing['inventory_norm'], slc_housing['sale_to_list_ratio_norm'])"
   ]
  },
  {
   "cell_type": "code",
   "execution_count": null,
   "id": "259bc28e-fc7a-4a6e-b916-5255aa7c3eff",
   "metadata": {},
   "outputs": [],
   "source": [
    "results = smf.ols('sale_to_list_ratio_norm ~ inventory_norm', data=slc_housing).fit()\n",
    "results.summary()"
   ]
  },
  {
   "cell_type": "markdown",
   "id": "df4c42f1-5a7f-4d72-8627-605a91dbe0bb",
   "metadata": {},
   "source": [
    "## Calculate Coefficients by Hand"
   ]
  },
  {
   "cell_type": "markdown",
   "id": "c0d4801c-3bb4-4af2-a960-618d410534b4",
   "metadata": {},
   "source": [
    "$$\\hat{\\beta}_1=\\frac{\\sum_{i=1}^n (x_i - \\bar{x})(y_i-\\bar{y})}{\\sum_{i=1}^n (x_i - \\bar{x})^2}$$\n",
    "\n",
    "\n",
    "$$\\hat{\\beta}_0=\\bar{y} - \\hat{\\beta}_1 \\bar{x}$$"
   ]
  },
  {
   "cell_type": "code",
   "execution_count": null,
   "id": "db9a7991-fc1e-41a2-98b5-71021a3547e3",
   "metadata": {},
   "outputs": [],
   "source": [
    "xbar = np.mean(slc_housing['inventory_norm'])\n",
    "ybar = np.mean(slc_housing['sale_to_list_ratio_norm'])\n",
    "numerator = np.sum((slc_housing['inventory_norm'] - xbar)*(slc_housing['sale_to_list_ratio_norm'] - ybar))\n",
    "denominator = np.sum((slc_housing['inventory_norm'] - xbar)**2)\n",
    "beta_1 = numerator/denominator\n",
    "beta_1"
   ]
  },
  {
   "cell_type": "code",
   "execution_count": null,
   "id": "6611b75c-c4a3-4041-9749-c127491e3ae1",
   "metadata": {},
   "outputs": [],
   "source": [
    "beta_0 = ybar - beta_1*xbar\n",
    "beta_0"
   ]
  },
  {
   "cell_type": "markdown",
   "id": "c23dfd8f-54b5-46fb-9073-5055492ca6f3",
   "metadata": {},
   "source": [
    "### How would you calculate the SE, confidence interval, and test statistic by hand? (Homework)"
   ]
  },
  {
   "cell_type": "markdown",
   "id": "5f006997-db35-4ab1-859a-dc3a714d8bc1",
   "metadata": {},
   "source": [
    "## Plot Residuals"
   ]
  },
  {
   "cell_type": "code",
   "execution_count": null,
   "id": "baf87368-ee5f-493f-9f59-a751496963a6",
   "metadata": {},
   "outputs": [],
   "source": [
    "results = smf.ols('sale_to_list_ratio_norm ~ inventory_norm', data=slc_housing).fit()\n",
    "\n",
    "fig = plt.figure(figsize=(8, 6))\n",
    "sm.graphics.plot_regress_exog(results, 'inventory_norm', fig=fig)"
   ]
  },
  {
   "cell_type": "code",
   "execution_count": null,
   "id": "04507e20-fc8f-46aa-957c-19bb724703b3",
   "metadata": {},
   "outputs": [],
   "source": []
  }
 ],
 "metadata": {
  "kernelspec": {
   "display_name": "Python 3 (ipykernel)",
   "language": "python",
   "name": "python3"
  },
  "language_info": {
   "codemirror_mode": {
    "name": "ipython",
    "version": 3
   },
   "file_extension": ".py",
   "mimetype": "text/x-python",
   "name": "python",
   "nbconvert_exporter": "python",
   "pygments_lexer": "ipython3",
   "version": "3.9.13"
  }
 },
 "nbformat": 4,
 "nbformat_minor": 5
}
