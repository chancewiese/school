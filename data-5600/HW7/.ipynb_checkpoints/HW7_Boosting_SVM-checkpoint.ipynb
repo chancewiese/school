{
 "cells": [
  {
   "cell_type": "markdown",
   "id": "f6c660ab-7550-4078-b3e5-704275ecc104",
   "metadata": {},
   "source": [
    "# Homework #7: Boosting and Support Vector Machines"
   ]
  },
  {
   "cell_type": "markdown",
   "id": "4493764f-e542-4e8a-956b-7478b7ddb4ae",
   "metadata": {},
   "source": [
    "You're working for a car manufacturer that is looking to implement driver assistance features such as automated steering and adaptive cruise control. While technologically advanced, these systems still require driver attention. Some manufacturers simply require keeping your hands on the wheel but your company would also like to ensure the driver's focus remains on the road. To accomplish this, they'd like you to construct a model that can use the position of facial features to determine whether the driver is looking straight or not.\n",
    "\n",
    "A separate system has been used to extract the eye, mouth, and nose positions from images taken of the driver, your goal is to use these features to predict the direction of the driver's gaze. The dataset listed below has been provided for these tasks.\n",
    "\n",
    "### Relevant Dataset\n",
    "`drivPoints.txt`\n",
    "\n",
    "* Response Variable: `label`. Note: this includes looking left, right, and straight. We will convert this to a binary response.\n",
    "* Predictor Variables:\n",
    "    * [`xF` `yF` `wF` `hF`] = face position\n",
    "    * [`xRE` `yRE`] = rigth eye position\n",
    "    * [`xLE` `yL`] = left eye position\n",
    "    * [`xN` `yN`] = Nose position\n",
    "    * [`xRM` `yRM`] = right corner of mouth\n",
    "    * [`xLM` `yLM`] = left corner of mouth\n",
    "    \n",
    "### Source\n",
    "https://archive.ics.uci.edu/ml/datasets/DrivFace"
   ]
  },
  {
   "cell_type": "markdown",
   "id": "944b012e-649e-4e68-b4aa-60bc3f02b19c",
   "metadata": {},
   "source": [
    "## Task 1: Import the dataset and create a binary variable of `lookingStraight`. Split into train/test set.\n",
    "This variable should take the value of `1` when `label=2` and `0` everywhere else. There should be a large class imbalance between looking straight or not (which you would expect given the people are driving)."
   ]
  },
  {
   "cell_type": "code",
   "execution_count": 4,
   "id": "094c803e-acdb-41bd-aa87-00bb2a3d075f",
   "metadata": {
    "tags": []
   },
   "outputs": [],
   "source": [
    "# Import libraries\n",
    "import pandas as pd\n",
    "from sklearn.model_selection import train_test_split\n",
    "from sklearn.ensemble import GradientBoostingClassifier\n",
    "from sklearn.model_selection import GridSearchCV\n",
    "from sklearn.svm import SVC\n",
    "from sklearn.metrics import f1_score\n",
    "import matplotlib.pyplot as plt\n",
    "import numpy as np"
   ]
  },
  {
   "cell_type": "code",
   "execution_count": 5,
   "id": "fe43dbac-d406-4347-9c8a-a1d0e52ad5f5",
   "metadata": {
    "tags": []
   },
   "outputs": [
    {
     "name": "stdout",
     "output_type": "stream",
     "text": [
      "lookingStraight\n",
      "1    546\n",
      "0     60\n",
      "Name: count, dtype: int64\n"
     ]
    }
   ],
   "source": [
    "# Read in the dataset\n",
    "df = pd.read_csv('drivPoints.txt')\n",
    "\n",
    "# Create variable for 'lookingStraight'\n",
    "df['lookingStraight'] = (df['label'] == 2).astype(int)\n",
    "\n",
    "# Split into train and test sets\n",
    "X = df[['xF', 'yF', 'wF', 'hF', 'xRE', 'yRE', 'xLE', 'yLE', 'xN', 'yN', 'xRM', 'yRM', 'xLM', 'yLM']]\n",
    "y = df['lookingStraight']\n",
    "X_train, X_test, y_train, y_test = train_test_split(X, y, test_size=0.2, random_state=42)\n",
    "\n",
    "# Display class distribution\n",
    "print(y.value_counts())"
   ]
  },
  {
   "cell_type": "markdown",
   "id": "d1ae644d-f36f-41c2-a10a-2d768d056dac",
   "metadata": {},
   "source": [
    "## Task 2: Perform a cross-validated (or use a single validation set) grid search of the hyperparameters for the `GradientBoostingClassifier` to find the best model.\n",
    "You should at least tune the learning rate and number of trees in the model but feel free to go as deep as you'd like on this analysis)."
   ]
  },
  {
   "cell_type": "code",
   "execution_count": 7,
   "id": "db1b05be-b0f6-4e7b-b5d7-2f051d9c8cc4",
   "metadata": {
    "tags": []
   },
   "outputs": [
    {
     "name": "stdout",
     "output_type": "stream",
     "text": [
      "Best parameters for GradientBoostingClassifier: {'learning_rate': 0.1, 'n_estimators': 200}\n",
      "Best cross-validation score: 0.9772981099656357\n"
     ]
    }
   ],
   "source": [
    "# Define model\n",
    "gbc = GradientBoostingClassifier()\n",
    "\n",
    "# Parameter grid\n",
    "param_grid = {\n",
    "    'learning_rate': [0.01, 0.1, 0.2],\n",
    "    'n_estimators': [100, 200, 300]\n",
    "}\n",
    "\n",
    "# Perform grid search with cross-validation\n",
    "grid_search_gbc = GridSearchCV(estimator=gbc, param_grid=param_grid, cv=5, scoring='accuracy')\n",
    "grid_search_gbc.fit(X_train, y_train)\n",
    "\n",
    "# Print the best parameters and its score\n",
    "print(f\"Best parameters for GradientBoostingClassifier: {grid_search_gbc.best_params_}\")\n",
    "print(f\"Best cross-validation score: {grid_search_gbc.best_score_}\")"
   ]
  },
  {
   "cell_type": "markdown",
   "id": "0a974aba-c808-4891-9435-da4694b39637",
   "metadata": {},
   "source": [
    "## Task 3: Perform a cross-validated (or use a single validation set) grid search of the hyperparameters for the `SVC` (Support Vector Classifier) to find the best model.\n",
    "You should at least tune `C` and the `kernel` but feel free to go as deep as you'd like on this analysis)."
   ]
  },
  {
   "cell_type": "code",
   "execution_count": 9,
   "id": "aa33d29a-0ecf-4e8c-81cc-da99eb31ed92",
   "metadata": {
    "tags": []
   },
   "outputs": [
    {
     "name": "stdout",
     "output_type": "stream",
     "text": [
      "Best parameters for SVC: {'C': 10, 'kernel': 'poly'}\n",
      "Best cross-validation score: 0.9277061855670101\n"
     ]
    }
   ],
   "source": [
    "# Define model\n",
    "svc = SVC()\n",
    "\n",
    "# Parameter grid\n",
    "param_grid = {\n",
    "    'C': [0.1, 1, 10],\n",
    "    'kernel': ['linear', 'rbf', 'poly']\n",
    "}\n",
    "\n",
    "# Perform grid search with cross-validation\n",
    "grid_search_svc = GridSearchCV(estimator=svc, param_grid=param_grid, cv=5, scoring='accuracy')\n",
    "grid_search_svc.fit(X_train, y_train)\n",
    "\n",
    "# Print the best parameters its score\n",
    "print(f\"Best parameters for SVC: {grid_search_svc.best_params_}\")\n",
    "print(f\"Best cross-validation score: {grid_search_svc.best_score_}\")"
   ]
  },
  {
   "cell_type": "markdown",
   "id": "93395eec-b274-4c2f-bf1f-fab71c502cf6",
   "metadata": {},
   "source": [
    "## Questions\n",
    "1. Is accuracy the best metric to use in these tasks or would there have been a better one? Explain.\n",
    "* Because the class shows more people are looking straight than not, accuracy may not be the best metric. F1 score, precision, or recall might prove to be better to take into account that class imbalance. They would consider false positives and negatives. F1 score would give a good balance between precision and recall.\n",
    "\n",
    "2. Which model gave the \"best\" result using the metric you chose above?\n",
    "* GradientBoostingClassifier based on the F1 scores and CV scores\n",
    "\n",
    "3. (Bonus) Any other interesting insights from this model or data?\n",
    "* The most important features from the model are xN, xRM, xLM, xRE, and xF, which suggests the horizontal position of all the facial features is very important in determining when the gaze is straight. This makes sense that they would be the most crucial features because as a person looks left to right, the horizontal position of these features changes drastically. By focusing on these features, systems could be created that help the drivers be alert and focused, notifying them when their features are out of position, suggesting they are inactively driving. \n",
    "\n",
    "\n",
    "##### Work for 2 and 3 are found below"
   ]
  },
  {
   "cell_type": "code",
   "execution_count": 11,
   "id": "78e6a366-a61e-4fce-854b-22776ab20eb5",
   "metadata": {
    "tags": []
   },
   "outputs": [
    {
     "name": "stdout",
     "output_type": "stream",
     "text": [
      "F1-score for GradientBoostingClassifier: 0.981651376146789\n",
      "F1-score for SVC: 0.9727272727272727\n",
      "The best model is: GradientBoostingClassifier\n"
     ]
    }
   ],
   "source": [
    "## Question 2\n",
    "\n",
    "# Predict on test set\n",
    "y_pred_gbc = grid_search_gbc.predict(X_test)\n",
    "y_pred_svc = grid_search_svc.predict(X_test)\n",
    "\n",
    "# F1-score for both models\n",
    "f1_gbc = f1_score(y_test, y_pred_gbc)\n",
    "f1_svc = f1_score(y_test, y_pred_svc)\n",
    "\n",
    "print(f\"F1-score for GradientBoostingClassifier: {f1_gbc}\")\n",
    "print(f\"F1-score for SVC: {f1_svc}\")\n",
    "\n",
    "best_model = \"GradientBoostingClassifier\" if f1_gbc > f1_svc else \"SVC\"\n",
    "print(f\"The best model is: {best_model}\")"
   ]
  },
  {
   "cell_type": "code",
   "execution_count": 12,
   "id": "52427953-d905-48f5-939e-2a86b4e0f845",
   "metadata": {
    "tags": []
   },
   "outputs": [
    {
     "data": {
      "image/png": "[encoded data removed]",
      "text/plain": [
       "<Figure size 1000x400 with 1 Axes>"
      ]
     },
     "metadata": {},
     "output_type": "display_data"
    }
   ],
   "source": [
    "## Question 3\n",
    "\n",
    "# Feature importances from GradientBoostingClassifier\n",
    "feature_importances = grid_search_gbc.best_estimator_.feature_importances_\n",
    "features = X.columns\n",
    "sorted_indices = np.argsort(feature_importances)[::-1]\n",
    "sorted_features = features[sorted_indices]\n",
    "sorted_importances = feature_importances[sorted_indices]\n",
    "\n",
    "# Bar plot\n",
    "plt.figure(figsize=(10, 4))\n",
    "plt.bar(sorted_features, sorted_importances)\n",
    "plt.xlabel(\"Feature Importance\")\n",
    "plt.ylabel(\"Feature\")\n",
    "plt.title(\"Feature Importances from GradientBoostingClassifier\")\n",
    "plt.xticks(rotation=45, ha='right')\n",
    "plt.tight_layout()\n",
    "plt.show()"
   ]
  }
 ],
 "metadata": {
  "kernelspec": {
   "display_name": "Python 3 (ipykernel)",
   "language": "python",
   "name": "python3"
  },
  "language_info": {
   "codemirror_mode": {
    "name": "ipython",
    "version": 3
   },
   "file_extension": ".py",
   "mimetype": "text/x-python",
   "name": "python",
   "nbconvert_exporter": "python",
   "pygments_lexer": "ipython3",
   "version": "3.11.5"
  }
 },
 "nbformat": 4,
 "nbformat_minor": 5
}
