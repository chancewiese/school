{
 "cells": [
  {
   "cell_type": "markdown",
   "id": "d4952582-19a4-459d-9fa3-83552a2fda21",
   "metadata": {},
   "source": [
    "https://www.kaggle.com/datasets/yufengdev/bbc-fulltext-and-category"
   ]
  },
  {
   "cell_type": "code",
   "execution_count": null,
   "id": "e4182d3b-9f1f-42aa-ba2b-937cac4b0114",
   "metadata": {},
   "outputs": [],
   "source": [
    "import pandas as pd\n",
    "import numpy as np\n",
    "import matplotlib.pyplot as plt\n",
    "from sklearn.metrics import confusion_matrix, precision_recall_curve, roc_curve, auc, classification_report\n",
    "from sklearn.model_selection import cross_val_score, GridSearchCV, train_test_split\n",
    "import time\n",
    "from collections import Counter, defaultdict\n",
    "from sklearn.utils import shuffle\n",
    "from sklearn.svm import SVC\n",
    "from sklearn import preprocessing\n",
    "from sklearn.preprocessing import StandardScaler\n",
    "import nltk\n",
    "from nltk.corpus import stopwords\n",
    "from nltk.corpus import wordnet as wn\n",
    "from nltk.tokenize import word_tokenize\n",
    "from nltk import pos_tag\n",
    "from nltk.stem import WordNetLemmatizer\n",
    "from sklearn.feature_extraction.text import TfidfVectorizer\n",
    "\n",
    "%matplotlib inline"
   ]
  },
  {
   "cell_type": "code",
   "execution_count": null,
   "id": "6385e94a-c518-4451-8f2d-3ccf40b28062",
   "metadata": {},
   "outputs": [],
   "source": [
    "bbc = pd.read_csv(\"/Users/sharad/Courses/DATA_5600/Data/bbc_preprocessed_data.csv\")\n",
    "print(bbc.shape)\n",
    "bbc.head()"
   ]
  },
  {
   "cell_type": "code",
   "execution_count": null,
   "id": "2fedb72e-7bb5-402c-a9c5-384680231a95",
   "metadata": {},
   "outputs": [],
   "source": [
    "Counter(bbc.category)"
   ]
  },
  {
   "cell_type": "code",
   "execution_count": null,
   "id": "5a2072b8-0016-46e0-a646-87e2231cab4c",
   "metadata": {},
   "outputs": [],
   "source": [
    "511/len(bbc)"
   ]
  },
  {
   "cell_type": "code",
   "execution_count": null,
   "id": "649241ae-a93c-4fa3-85bb-fc79b61e69c7",
   "metadata": {},
   "outputs": [],
   "source": [
    "Xtrain, Xtest, ytrain_label, ytest_label = train_test_split(bbc['text_final'], \n",
    "                                                            bbc['category'], \n",
    "                                                            random_state=4,\n",
    "                                                            test_size=0.2)"
   ]
  },
  {
   "cell_type": "code",
   "execution_count": null,
   "id": "699339b5-2ec0-4316-a060-f19d66af9888",
   "metadata": {},
   "outputs": [],
   "source": [
    "encoder = preprocessing.LabelEncoder()\n",
    "\n",
    "encoder.fit(ytrain_label)\n",
    "ytrain = encoder.transform(ytrain_label)\n",
    "\n",
    "encoder.fit(ytest_label)\n",
    "ytest = encoder.transform(ytest_label)"
   ]
  },
  {
   "cell_type": "code",
   "execution_count": null,
   "id": "8b0264a4-0452-488a-8bc3-541b73b7f96b",
   "metadata": {
    "scrolled": true,
    "tags": []
   },
   "outputs": [],
   "source": [
    "tfidf_vect = TfidfVectorizer(max_features=5000)\n",
    "tfidf_vect.fit(bbc['text_final'])\n",
    "Xtrain_tfidf = tfidf_vect.transform(Xtrain)\n",
    "Xtest_tfidf = tfidf_vect.transform(Xtest)\n",
    "\n",
    "print(tfidf_vect.vocabulary_)"
   ]
  },
  {
   "cell_type": "code",
   "execution_count": null,
   "id": "7af1dd04-1eaa-428d-a455-e7ebbb03baf2",
   "metadata": {
    "scrolled": true,
    "tags": []
   },
   "outputs": [],
   "source": [
    "print(Xtrain_tfidf)"
   ]
  },
  {
   "cell_type": "markdown",
   "id": "7fa9996b-4bd9-4e79-974e-8c822838c4ee",
   "metadata": {},
   "source": [
    "## Training an SVC"
   ]
  },
  {
   "cell_type": "code",
   "execution_count": null,
   "id": "c3e71fb2-dacf-4670-a94e-4b906a4b2efa",
   "metadata": {},
   "outputs": [],
   "source": [
    "from sklearn import model_selection, naive_bayes, svm\n",
    "from sklearn.metrics import accuracy_score\n",
    "\n",
    "Naive = naive_bayes.MultinomialNB()\n",
    "Naive.fit(Xtrain_tfidf,ytrain)\n",
    "# predict the labels on validation dataset\n",
    "predictions_NB = Naive.predict(Xtest_tfidf)\n",
    "# Use accuracy_score function to get the accuracy\n",
    "print(\"Naive Bayes Accuracy Score -> \",accuracy_score(predictions_NB, ytest)*100)"
   ]
  },
  {
   "cell_type": "code",
   "execution_count": null,
   "id": "e46768f3-ec37-4629-bbe4-719077fd8227",
   "metadata": {},
   "outputs": [],
   "source": [
    "svc = SVC(C=0.01, kernel='linear')\n",
    "cross_val_score(svc, Xtrain_tfidf, ytrain, cv=5)"
   ]
  },
  {
   "cell_type": "code",
   "execution_count": null,
   "id": "80140f25-c4d1-4986-9807-f7973250c14c",
   "metadata": {},
   "outputs": [],
   "source": [
    "params_grid = [{'kernel': ['rbf'],\n",
    "                     'C': [1, 10, 100, 1000]},\n",
    "                    {'kernel': ['linear'], 'C': [1, 10, 100, 1000]}]"
   ]
  },
  {
   "cell_type": "code",
   "execution_count": null,
   "id": "5dc40376-e6fc-4f31-8e90-2add95b187ce",
   "metadata": {},
   "outputs": [],
   "source": [
    "svm_model = GridSearchCV(SVC(), params_grid, cv=5, n_jobs=6, verbose=4)\n",
    "svm_model.fit(Xtrain_tfidf, ytrain)"
   ]
  },
  {
   "cell_type": "code",
   "execution_count": null,
   "id": "cb8ebc4c-b929-48b5-bcfb-dd32abc44c47",
   "metadata": {
    "scrolled": true,
    "tags": []
   },
   "outputs": [],
   "source": [
    "svm_model.cv_results_"
   ]
  },
  {
   "cell_type": "code",
   "execution_count": null,
   "id": "e96b1f92-26b3-4664-b8ce-e0af2c0cba60",
   "metadata": {},
   "outputs": [],
   "source": [
    "print('Best score for training data:', svm_model.best_score_)"
   ]
  },
  {
   "cell_type": "code",
   "execution_count": null,
   "id": "7e75ab78-23ca-4f19-a36d-8d9314b67e23",
   "metadata": {},
   "outputs": [],
   "source": [
    "print('Best C:',svm_model.best_estimator_.C) \n",
    "print('Best Kernel:',svm_model.best_estimator_.kernel)\n",
    "print('Best Gamma:',svm_model.best_estimator_.gamma)"
   ]
  },
  {
   "cell_type": "code",
   "execution_count": null,
   "id": "c051de85-5166-455e-97c2-780c9b8eef5d",
   "metadata": {
    "scrolled": true,
    "tags": []
   },
   "outputs": [],
   "source": [
    "final_model = svm_model.best_estimator_\n",
    "pred = final_model.predict(Xtest_tfidf)\n",
    "pred_label = list(encoder.inverse_transform(pred))\n",
    "pred_label"
   ]
  },
  {
   "cell_type": "code",
   "execution_count": null,
   "id": "d027a4ba-57df-431d-b954-111f11ef0973",
   "metadata": {},
   "outputs": [],
   "source": [
    "print(confusion_matrix(ytest_label,pred_label))"
   ]
  },
  {
   "cell_type": "code",
   "execution_count": null,
   "id": "9a3e9f9b-d805-4f5f-870d-15affdcdd15f",
   "metadata": {},
   "outputs": [],
   "source": [
    "print(classification_report(ytest_label,pred_label))"
   ]
  },
  {
   "cell_type": "code",
   "execution_count": null,
   "id": "0ef38089-8f6a-4869-aa7e-678c2329f740",
   "metadata": {},
   "outputs": [],
   "source": [
    "accuracy_score(ytest_label, pred_label)"
   ]
  },
  {
   "cell_type": "code",
   "execution_count": null,
   "id": "d2bb36c2-37c0-4276-8db2-1532c6ee9269",
   "metadata": {},
   "outputs": [],
   "source": []
  }
 ],
 "metadata": {
  "kernelspec": {
   "display_name": "Python 3 (ipykernel)",
   "language": "python",
   "name": "python3"
  },
  "language_info": {
   "codemirror_mode": {
    "name": "ipython",
    "version": 3
   },
   "file_extension": ".py",
   "mimetype": "text/x-python",
   "name": "python",
   "nbconvert_exporter": "python",
   "pygments_lexer": "ipython3",
   "version": "3.8.8"
  }
 },
 "nbformat": 4,
 "nbformat_minor": 5
}
