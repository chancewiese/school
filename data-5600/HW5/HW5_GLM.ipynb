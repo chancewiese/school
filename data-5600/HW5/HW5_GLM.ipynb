{
 "cells": [
  {
   "cell_type": "markdown",
   "id": "5c05df18-c057-4731-a26b-3b025716ccda",
   "metadata": {},
   "source": [
    "# Homework #5: Generalized Linear Models (GLMs)\n",
    "\n",
    "## Background\n",
    "\n",
    "In 2014, the analytics website, FiveThirtyEight, published an analysis of the gender disparity in appearances in comic books at the two large studios, Marvel and DC. You're working for a small upstart comic book company and you want to work to understand what characteristics are associated with a reduction in appearances and thereby learn where gaps in representation can be filled by your firm. Using the data collected by FiveThirtyEight from the Marvel and DC wiki pages, you will fit an appropriate GLM to predict the number of appearances given this data.\n",
    "\n",
    "### Relevant Datasets\n",
    "* `marvel-wikia-data.csv`\n",
    "* `dc-wikia-data.csv`\n",
    "\n",
    "\n",
    "Article: https://fivethirtyeight.com/features/women-in-comic-books/\n",
    "\n",
    "Aggregated Data: https://github.com/fivethirtyeight/data/tree/master/comic-characters\n",
    "\n",
    "Data Sources:\n",
    "* http://dc.wikia.com/wiki/Main_Page\n",
    "* http://marvel.wikia.com/Main_Page"
   ]
  },
  {
   "cell_type": "markdown",
   "id": "bc092a84-6400-473b-9ad4-28251e6c73df",
   "metadata": {},
   "source": [
    "## Task 1: Concatenate the Marvel and DC datasets into a single dataset.\n",
    "\n",
    "The function `pd.concat` will be useful for this. You should also create a new column in each dataset before concatenating that represents the studio for each. This will allow us to distinguish between the impact of one studio vs the other."
   ]
  },
  {
   "cell_type": "code",
   "execution_count": null,
   "id": "2b8a1216-24b2-4a68-b96a-becca6210105",
   "metadata": {},
   "outputs": [],
   "source": []
  },
  {
   "cell_type": "markdown",
   "id": "bda0263d-6243-41f9-9c3a-9d2206601b72",
   "metadata": {},
   "source": [
    "## Task 2: Subset the data to relevant variables and observations.\n",
    "\n",
    "If you want to limit the number of levels, a good list of variables would be: `ALIGN`,`SEX`,`ALIVE`,`APPEARANCES`,`ID`,`Studio`. Given that this dataset includes a few `SEX` categories with very few observations, create a new binary variable for a character's `SEX` being Male or not Male. Also, remove any characters that only appear once."
   ]
  },
  {
   "cell_type": "code",
   "execution_count": null,
   "id": "eaf4030e-156a-4fd1-ae3a-377f955bd07e",
   "metadata": {},
   "outputs": [],
   "source": []
  },
  {
   "cell_type": "markdown",
   "id": "25ecd16c-4d3b-4d8f-90dd-3c6784ca9e88",
   "metadata": {},
   "source": [
    "## Task 3: Split your data into train/test and fit an appropriate GLM to the training data.\n",
    "\n",
    "It will be up to you to determine the appropriate choice of distribution or family of the GLM. Look at residual plots and see if there are any red flags with this model."
   ]
  },
  {
   "cell_type": "code",
   "execution_count": null,
   "id": "afee74f4-c60f-4777-989d-22d936a56d7a",
   "metadata": {},
   "outputs": [],
   "source": []
  },
  {
   "cell_type": "markdown",
   "id": "c22d31e5-fabe-414b-98f9-0f72714d8981",
   "metadata": {},
   "source": [
    "## Task 4: Interpret coefficients in the context of our original research question of \"what characteristics are associated with a reduction in appearances?\"\n",
    "\n",
    "Note: You can ignore any broken assumptions at this point and simply treat it as an effective model."
   ]
  },
  {
   "cell_type": "code",
   "execution_count": null,
   "id": "00d515b2-1b5e-4527-8b2b-763131f98527",
   "metadata": {},
   "outputs": [],
   "source": []
  }
 ],
 "metadata": {
  "kernelspec": {
   "display_name": "Python 3 (ipykernel)",
   "language": "python",
   "name": "python3"
  },
  "language_info": {
   "codemirror_mode": {
    "name": "ipython",
    "version": 3
   },
   "file_extension": ".py",
   "mimetype": "text/x-python",
   "name": "python",
   "nbconvert_exporter": "python",
   "pygments_lexer": "ipython3",
   "version": "3.8.8"
  }
 },
 "nbformat": 4,
 "nbformat_minor": 5
}
