{
 "cells": [
  {
   "cell_type": "code",
   "execution_count": 2,
   "id": "3a9d6843-60eb-4c53-8c8b-0f314a6e1810",
   "metadata": {},
   "outputs": [],
   "source": [
    "import pandas as pd\n",
    "import numpy as np\n",
    "import matplotlib.pyplot as plt\n",
    "import seaborn as sns\n",
    "\n",
    "from sklearn.preprocessing import scale \n",
    "from sklearn import model_selection\n",
    "from sklearn.linear_model import LinearRegression, Ridge, RidgeCV, Lasso, LassoCV, ElasticNet\n",
    "from sklearn.metrics import mean_squared_error\n",
    "\n",
    "%matplotlib inline\n",
    "plt.style.use('seaborn-white')"
   ]
  },
  {
   "cell_type": "code",
   "execution_count": 5,
   "id": "52bcfab9-9564-41cd-9cb8-8ffcdcabfc40",
   "metadata": {},
   "outputs": [
    {
     "ename": "FileNotFoundError",
     "evalue": "[Errno 2] No such file or directory: 'Hitters.csv'",
     "output_type": "error",
     "traceback": [
      "\u001b[1;31m---------------------------------------------------------------------------\u001b[0m",
      "\u001b[1;31mFileNotFoundError\u001b[0m                         Traceback (most recent call last)",
      "\u001b[1;32m~\\AppData\\Local\\Temp\\ipykernel_24160\\4116907240.py\u001b[0m in \u001b[0;36m<module>\u001b[1;34m\u001b[0m\n\u001b[1;32m----> 1\u001b[1;33m \u001b[0mhitters\u001b[0m \u001b[1;33m=\u001b[0m \u001b[0mpd\u001b[0m\u001b[1;33m.\u001b[0m\u001b[0mread_csv\u001b[0m\u001b[1;33m(\u001b[0m\u001b[1;34m'Hitters.csv'\u001b[0m\u001b[1;33m,\u001b[0m \u001b[0mindex_col\u001b[0m\u001b[1;33m=\u001b[0m\u001b[1;36m0\u001b[0m\u001b[1;33m)\u001b[0m\u001b[1;33m.\u001b[0m\u001b[0mdropna\u001b[0m\u001b[1;33m(\u001b[0m\u001b[1;33m)\u001b[0m\u001b[1;33m\u001b[0m\u001b[1;33m\u001b[0m\u001b[0m\n\u001b[0m\u001b[0;32m      2\u001b[0m \u001b[0mhitters\u001b[0m\u001b[1;33m.\u001b[0m\u001b[0mindex\u001b[0m\u001b[1;33m.\u001b[0m\u001b[0mname\u001b[0m \u001b[1;33m=\u001b[0m \u001b[1;34m'Player'\u001b[0m\u001b[1;33m\u001b[0m\u001b[1;33m\u001b[0m\u001b[0m\n\u001b[0;32m      3\u001b[0m \u001b[0mhitters\u001b[0m\u001b[1;33m.\u001b[0m\u001b[0mhead\u001b[0m\u001b[1;33m(\u001b[0m\u001b[1;33m)\u001b[0m\u001b[1;33m\u001b[0m\u001b[1;33m\u001b[0m\u001b[0m\n",
      "\u001b[1;32m~\\anaconda3\\lib\\site-packages\\pandas\\util\\_decorators.py\u001b[0m in \u001b[0;36mwrapper\u001b[1;34m(*args, **kwargs)\u001b[0m\n\u001b[0;32m    309\u001b[0m                     \u001b[0mstacklevel\u001b[0m\u001b[1;33m=\u001b[0m\u001b[0mstacklevel\u001b[0m\u001b[1;33m,\u001b[0m\u001b[1;33m\u001b[0m\u001b[1;33m\u001b[0m\u001b[0m\n\u001b[0;32m    310\u001b[0m                 )\n\u001b[1;32m--> 311\u001b[1;33m             \u001b[1;32mreturn\u001b[0m \u001b[0mfunc\u001b[0m\u001b[1;33m(\u001b[0m\u001b[1;33m*\u001b[0m\u001b[0margs\u001b[0m\u001b[1;33m,\u001b[0m \u001b[1;33m**\u001b[0m\u001b[0mkwargs\u001b[0m\u001b[1;33m)\u001b[0m\u001b[1;33m\u001b[0m\u001b[1;33m\u001b[0m\u001b[0m\n\u001b[0m\u001b[0;32m    312\u001b[0m \u001b[1;33m\u001b[0m\u001b[0m\n\u001b[0;32m    313\u001b[0m         \u001b[1;32mreturn\u001b[0m \u001b[0mwrapper\u001b[0m\u001b[1;33m\u001b[0m\u001b[1;33m\u001b[0m\u001b[0m\n",
      "\u001b[1;32m~\\anaconda3\\lib\\site-packages\\pandas\\io\\parsers\\readers.py\u001b[0m in \u001b[0;36mread_csv\u001b[1;34m(filepath_or_buffer, sep, delimiter, header, names, index_col, usecols, squeeze, prefix, mangle_dupe_cols, dtype, engine, converters, true_values, false_values, skipinitialspace, skiprows, skipfooter, nrows, na_values, keep_default_na, na_filter, verbose, skip_blank_lines, parse_dates, infer_datetime_format, keep_date_col, date_parser, dayfirst, cache_dates, iterator, chunksize, compression, thousands, decimal, lineterminator, quotechar, quoting, doublequote, escapechar, comment, encoding, encoding_errors, dialect, error_bad_lines, warn_bad_lines, on_bad_lines, delim_whitespace, low_memory, memory_map, float_precision, storage_options)\u001b[0m\n\u001b[0;32m    676\u001b[0m     \u001b[0mkwds\u001b[0m\u001b[1;33m.\u001b[0m\u001b[0mupdate\u001b[0m\u001b[1;33m(\u001b[0m\u001b[0mkwds_defaults\u001b[0m\u001b[1;33m)\u001b[0m\u001b[1;33m\u001b[0m\u001b[1;33m\u001b[0m\u001b[0m\n\u001b[0;32m    677\u001b[0m \u001b[1;33m\u001b[0m\u001b[0m\n\u001b[1;32m--> 678\u001b[1;33m     \u001b[1;32mreturn\u001b[0m \u001b[0m_read\u001b[0m\u001b[1;33m(\u001b[0m\u001b[0mfilepath_or_buffer\u001b[0m\u001b[1;33m,\u001b[0m \u001b[0mkwds\u001b[0m\u001b[1;33m)\u001b[0m\u001b[1;33m\u001b[0m\u001b[1;33m\u001b[0m\u001b[0m\n\u001b[0m\u001b[0;32m    679\u001b[0m \u001b[1;33m\u001b[0m\u001b[0m\n\u001b[0;32m    680\u001b[0m \u001b[1;33m\u001b[0m\u001b[0m\n",
      "\u001b[1;32m~\\anaconda3\\lib\\site-packages\\pandas\\io\\parsers\\readers.py\u001b[0m in \u001b[0;36m_read\u001b[1;34m(filepath_or_buffer, kwds)\u001b[0m\n\u001b[0;32m    573\u001b[0m \u001b[1;33m\u001b[0m\u001b[0m\n\u001b[0;32m    574\u001b[0m     \u001b[1;31m# Create the parser.\u001b[0m\u001b[1;33m\u001b[0m\u001b[1;33m\u001b[0m\u001b[0m\n\u001b[1;32m--> 575\u001b[1;33m     \u001b[0mparser\u001b[0m \u001b[1;33m=\u001b[0m \u001b[0mTextFileReader\u001b[0m\u001b[1;33m(\u001b[0m\u001b[0mfilepath_or_buffer\u001b[0m\u001b[1;33m,\u001b[0m \u001b[1;33m**\u001b[0m\u001b[0mkwds\u001b[0m\u001b[1;33m)\u001b[0m\u001b[1;33m\u001b[0m\u001b[1;33m\u001b[0m\u001b[0m\n\u001b[0m\u001b[0;32m    576\u001b[0m \u001b[1;33m\u001b[0m\u001b[0m\n\u001b[0;32m    577\u001b[0m     \u001b[1;32mif\u001b[0m \u001b[0mchunksize\u001b[0m \u001b[1;32mor\u001b[0m \u001b[0miterator\u001b[0m\u001b[1;33m:\u001b[0m\u001b[1;33m\u001b[0m\u001b[1;33m\u001b[0m\u001b[0m\n",
      "\u001b[1;32m~\\anaconda3\\lib\\site-packages\\pandas\\io\\parsers\\readers.py\u001b[0m in \u001b[0;36m__init__\u001b[1;34m(self, f, engine, **kwds)\u001b[0m\n\u001b[0;32m    930\u001b[0m \u001b[1;33m\u001b[0m\u001b[0m\n\u001b[0;32m    931\u001b[0m         \u001b[0mself\u001b[0m\u001b[1;33m.\u001b[0m\u001b[0mhandles\u001b[0m\u001b[1;33m:\u001b[0m \u001b[0mIOHandles\u001b[0m \u001b[1;33m|\u001b[0m \u001b[1;32mNone\u001b[0m \u001b[1;33m=\u001b[0m \u001b[1;32mNone\u001b[0m\u001b[1;33m\u001b[0m\u001b[1;33m\u001b[0m\u001b[0m\n\u001b[1;32m--> 932\u001b[1;33m         \u001b[0mself\u001b[0m\u001b[1;33m.\u001b[0m\u001b[0m_engine\u001b[0m \u001b[1;33m=\u001b[0m \u001b[0mself\u001b[0m\u001b[1;33m.\u001b[0m\u001b[0m_make_engine\u001b[0m\u001b[1;33m(\u001b[0m\u001b[0mf\u001b[0m\u001b[1;33m,\u001b[0m \u001b[0mself\u001b[0m\u001b[1;33m.\u001b[0m\u001b[0mengine\u001b[0m\u001b[1;33m)\u001b[0m\u001b[1;33m\u001b[0m\u001b[1;33m\u001b[0m\u001b[0m\n\u001b[0m\u001b[0;32m    933\u001b[0m \u001b[1;33m\u001b[0m\u001b[0m\n\u001b[0;32m    934\u001b[0m     \u001b[1;32mdef\u001b[0m \u001b[0mclose\u001b[0m\u001b[1;33m(\u001b[0m\u001b[0mself\u001b[0m\u001b[1;33m)\u001b[0m\u001b[1;33m:\u001b[0m\u001b[1;33m\u001b[0m\u001b[1;33m\u001b[0m\u001b[0m\n",
      "\u001b[1;32m~\\anaconda3\\lib\\site-packages\\pandas\\io\\parsers\\readers.py\u001b[0m in \u001b[0;36m_make_engine\u001b[1;34m(self, f, engine)\u001b[0m\n\u001b[0;32m   1214\u001b[0m             \u001b[1;31m# \"Union[str, PathLike[str], ReadCsvBuffer[bytes], ReadCsvBuffer[str]]\"\u001b[0m\u001b[1;33m\u001b[0m\u001b[1;33m\u001b[0m\u001b[0m\n\u001b[0;32m   1215\u001b[0m             \u001b[1;31m# , \"str\", \"bool\", \"Any\", \"Any\", \"Any\", \"Any\", \"Any\"\u001b[0m\u001b[1;33m\u001b[0m\u001b[1;33m\u001b[0m\u001b[0m\n\u001b[1;32m-> 1216\u001b[1;33m             self.handles = get_handle(  # type: ignore[call-overload]\n\u001b[0m\u001b[0;32m   1217\u001b[0m                 \u001b[0mf\u001b[0m\u001b[1;33m,\u001b[0m\u001b[1;33m\u001b[0m\u001b[1;33m\u001b[0m\u001b[0m\n\u001b[0;32m   1218\u001b[0m                 \u001b[0mmode\u001b[0m\u001b[1;33m,\u001b[0m\u001b[1;33m\u001b[0m\u001b[1;33m\u001b[0m\u001b[0m\n",
      "\u001b[1;32m~\\anaconda3\\lib\\site-packages\\pandas\\io\\common.py\u001b[0m in \u001b[0;36mget_handle\u001b[1;34m(path_or_buf, mode, encoding, compression, memory_map, is_text, errors, storage_options)\u001b[0m\n\u001b[0;32m    784\u001b[0m         \u001b[1;32mif\u001b[0m \u001b[0mioargs\u001b[0m\u001b[1;33m.\u001b[0m\u001b[0mencoding\u001b[0m \u001b[1;32mand\u001b[0m \u001b[1;34m\"b\"\u001b[0m \u001b[1;32mnot\u001b[0m \u001b[1;32min\u001b[0m \u001b[0mioargs\u001b[0m\u001b[1;33m.\u001b[0m\u001b[0mmode\u001b[0m\u001b[1;33m:\u001b[0m\u001b[1;33m\u001b[0m\u001b[1;33m\u001b[0m\u001b[0m\n\u001b[0;32m    785\u001b[0m             \u001b[1;31m# Encoding\u001b[0m\u001b[1;33m\u001b[0m\u001b[1;33m\u001b[0m\u001b[0m\n\u001b[1;32m--> 786\u001b[1;33m             handle = open(\n\u001b[0m\u001b[0;32m    787\u001b[0m                 \u001b[0mhandle\u001b[0m\u001b[1;33m,\u001b[0m\u001b[1;33m\u001b[0m\u001b[1;33m\u001b[0m\u001b[0m\n\u001b[0;32m    788\u001b[0m                 \u001b[0mioargs\u001b[0m\u001b[1;33m.\u001b[0m\u001b[0mmode\u001b[0m\u001b[1;33m,\u001b[0m\u001b[1;33m\u001b[0m\u001b[1;33m\u001b[0m\u001b[0m\n",
      "\u001b[1;31mFileNotFoundError\u001b[0m: [Errno 2] No such file or directory: 'Hitters.csv'"
     ]
    }
   ],
   "source": [
    "hitters = pd.read_csv('Hitters.csv', index_col=0).dropna()\n",
    "hitters.index.name = 'Player'\n",
    "hitters.head()"
   ]
  },
  {
   "cell_type": "code",
   "execution_count": 3,
   "id": "56727782-d5e0-4fd2-b0b1-3c0ca8a9acef",
   "metadata": {},
   "outputs": [
    {
     "name": "stdout",
     "output_type": "stream",
     "text": [
      "<class 'pandas.core.frame.DataFrame'>\n",
      "Index: 263 entries, -Alan Ashby to -Willie Wilson\n",
      "Data columns (total 6 columns):\n",
      " #   Column       Non-Null Count  Dtype\n",
      "---  ------       --------------  -----\n",
      " 0   League_A     263 non-null    uint8\n",
      " 1   League_N     263 non-null    uint8\n",
      " 2   Division_E   263 non-null    uint8\n",
      " 3   Division_W   263 non-null    uint8\n",
      " 4   NewLeague_A  263 non-null    uint8\n",
      " 5   NewLeague_N  263 non-null    uint8\n",
      "dtypes: uint8(6)\n",
      "memory usage: 3.6+ KB\n",
      "                   League_A  League_N  Division_E  Division_W  NewLeague_A  \\\n",
      "Player                                                                       \n",
      "-Alan Ashby               0         1           0           1            0   \n",
      "-Alvin Davis              1         0           0           1            1   \n",
      "-Andre Dawson             0         1           1           0            0   \n",
      "-Andres Galarraga         0         1           1           0            0   \n",
      "-Alfredo Griffin          1         0           0           1            1   \n",
      "\n",
      "                   NewLeague_N  \n",
      "Player                          \n",
      "-Alan Ashby                  1  \n",
      "-Alvin Davis                 0  \n",
      "-Andre Dawson                1  \n",
      "-Andres Galarraga            1  \n",
      "-Alfredo Griffin             0  \n"
     ]
    }
   ],
   "source": [
    "dummies = pd.get_dummies(hitters[['League', 'Division', 'NewLeague']])\n",
    "dummies.info()\n",
    "print(dummies.head())"
   ]
  },
  {
   "cell_type": "code",
   "execution_count": 4,
   "id": "8afead42-183b-4691-9d98-d749b8fd3c35",
   "metadata": {},
   "outputs": [
    {
     "name": "stdout",
     "output_type": "stream",
     "text": [
      "<class 'pandas.core.frame.DataFrame'>\n",
      "Index: 263 entries, -Alan Ashby to -Willie Wilson\n",
      "Data columns (total 19 columns):\n",
      " #   Column       Non-Null Count  Dtype  \n",
      "---  ------       --------------  -----  \n",
      " 0   AtBat        263 non-null    float64\n",
      " 1   Hits         263 non-null    float64\n",
      " 2   HmRun        263 non-null    float64\n",
      " 3   Runs         263 non-null    float64\n",
      " 4   RBI          263 non-null    float64\n",
      " 5   Walks        263 non-null    float64\n",
      " 6   Years        263 non-null    float64\n",
      " 7   CAtBat       263 non-null    float64\n",
      " 8   CHits        263 non-null    float64\n",
      " 9   CHmRun       263 non-null    float64\n",
      " 10  CRuns        263 non-null    float64\n",
      " 11  CRBI         263 non-null    float64\n",
      " 12  CWalks       263 non-null    float64\n",
      " 13  PutOuts      263 non-null    float64\n",
      " 14  Assists      263 non-null    float64\n",
      " 15  Errors       263 non-null    float64\n",
      " 16  League_N     263 non-null    uint8  \n",
      " 17  Division_W   263 non-null    uint8  \n",
      " 18  NewLeague_N  263 non-null    uint8  \n",
      "dtypes: float64(16), uint8(3)\n",
      "memory usage: 35.7+ KB\n"
     ]
    }
   ],
   "source": [
    "y = hitters.Salary\n",
    "\n",
    "# Drop the column with the independent variable (Salary), and columns for which we created dummy variables\n",
    "X_ = hitters.drop(['Salary', 'League', 'Division', 'NewLeague'], axis=1).astype('float64')\n",
    "# Define the feature set X.\n",
    "X = pd.concat([X_, dummies[['League_N', 'Division_W', 'NewLeague_N']]], axis=1)\n",
    "X.info()"
   ]
  },
  {
   "cell_type": "code",
   "execution_count": 5,
   "id": "96f78d47-da70-4f94-a178-0e361359acbf",
   "metadata": {},
   "outputs": [],
   "source": [
    "Xtest = X.sample(frac=0.2, axis=0)\n",
    "Xtrain = X.drop(index=Xtest.index)\n",
    "\n",
    "ytrain = y.drop(index=Xtest.index)\n",
    "ytest = y.loc[Xtest.index]"
   ]
  },
  {
   "cell_type": "code",
   "execution_count": 6,
   "id": "e6d3ce15-bb52-47f6-915a-933ec53bec2e",
   "metadata": {},
   "outputs": [
    {
     "name": "stdout",
     "output_type": "stream",
     "text": [
      "(210, 19) (210,) (53, 19) (53,)\n"
     ]
    }
   ],
   "source": [
    "print(Xtrain.shape, ytrain.shape, Xtest.shape, ytest.shape)"
   ]
  },
  {
   "cell_type": "markdown",
   "id": "60f55437-a0a4-4218-9f14-72569162c601",
   "metadata": {},
   "source": [
    "## Ridge Regression"
   ]
  },
  {
   "cell_type": "code",
   "execution_count": 9,
   "id": "36b72556-b63c-47b3-82ad-51e62312bef9",
   "metadata": {},
   "outputs": [
    {
     "data": {
      "text/plain": [
       "array([5.00000000e+09, 3.78231664e+09, 2.86118383e+09, 2.16438064e+09,\n",
       "       1.63727458e+09, 1.23853818e+09, 9.36908711e+08, 7.08737081e+08,\n",
       "       5.36133611e+08, 4.05565415e+08, 3.06795364e+08, 2.32079442e+08,\n",
       "       1.75559587e+08, 1.32804389e+08, 1.00461650e+08, 7.59955541e+07,\n",
       "       5.74878498e+07, 4.34874501e+07, 3.28966612e+07, 2.48851178e+07,\n",
       "       1.88246790e+07, 1.42401793e+07, 1.07721735e+07, 8.14875417e+06,\n",
       "       6.16423370e+06, 4.66301673e+06, 3.52740116e+06, 2.66834962e+06,\n",
       "       2.01850863e+06, 1.52692775e+06, 1.15506485e+06, 8.73764200e+05,\n",
       "       6.60970574e+05, 5.00000000e+05, 3.78231664e+05, 2.86118383e+05,\n",
       "       2.16438064e+05, 1.63727458e+05, 1.23853818e+05, 9.36908711e+04,\n",
       "       7.08737081e+04, 5.36133611e+04, 4.05565415e+04, 3.06795364e+04,\n",
       "       2.32079442e+04, 1.75559587e+04, 1.32804389e+04, 1.00461650e+04,\n",
       "       7.59955541e+03, 5.74878498e+03, 4.34874501e+03, 3.28966612e+03,\n",
       "       2.48851178e+03, 1.88246790e+03, 1.42401793e+03, 1.07721735e+03,\n",
       "       8.14875417e+02, 6.16423370e+02, 4.66301673e+02, 3.52740116e+02,\n",
       "       2.66834962e+02, 2.01850863e+02, 1.52692775e+02, 1.15506485e+02,\n",
       "       8.73764200e+01, 6.60970574e+01, 5.00000000e+01, 3.78231664e+01,\n",
       "       2.86118383e+01, 2.16438064e+01, 1.63727458e+01, 1.23853818e+01,\n",
       "       9.36908711e+00, 7.08737081e+00, 5.36133611e+00, 4.05565415e+00,\n",
       "       3.06795364e+00, 2.32079442e+00, 1.75559587e+00, 1.32804389e+00,\n",
       "       1.00461650e+00, 7.59955541e-01, 5.74878498e-01, 4.34874501e-01,\n",
       "       3.28966612e-01, 2.48851178e-01, 1.88246790e-01, 1.42401793e-01,\n",
       "       1.07721735e-01, 8.14875417e-02, 6.16423370e-02, 4.66301673e-02,\n",
       "       3.52740116e-02, 2.66834962e-02, 2.01850863e-02, 1.52692775e-02,\n",
       "       1.15506485e-02, 8.73764200e-03, 6.60970574e-03, 5.00000000e-03])"
      ]
     },
     "execution_count": 9,
     "metadata": {},
     "output_type": "execute_result"
    }
   ],
   "source": [
    "10**np.linspace(10,-2,100)*0.5"
   ]
  },
  {
   "cell_type": "code",
   "execution_count": 11,
   "id": "c2db25e5-6aed-4859-9753-a095a10266f3",
   "metadata": {},
   "outputs": [
    {
     "data": {
      "image/png": "[encoded data removed]",
      "text/plain": [
       "<Figure size 432x288 with 1 Axes>"
      ]
     },
     "metadata": {},
     "output_type": "display_data"
    }
   ],
   "source": [
    "alphas = 10**np.linspace(10,-2,100)*0.5\n",
    "\n",
    "coefs = []\n",
    "\n",
    "for a in alphas:\n",
    "    ridge = Ridge(alpha=a)\n",
    "    ridge.fit(scale(Xtrain), ytrain)\n",
    "    coefs.append(ridge.coef_)\n",
    "\n",
    "ax = plt.gca()\n",
    "ax.plot(alphas, coefs)\n",
    "ax.set_xscale('log')\n",
    "ax.set_xlim(ax.get_xlim()[::-1])  # reverse axis\n",
    "plt.axis('tight')\n",
    "plt.xlabel('alpha (lambda)')\n",
    "plt.ylabel('weights')\n",
    "plt.title('Ridge coefficients as a function of the regularization');"
   ]
  },
  {
   "cell_type": "code",
   "execution_count": 12,
   "id": "76c746a3-e0f1-431f-875a-7f9acc5ab9bf",
   "metadata": {},
   "outputs": [],
   "source": [
    "from sklearn.preprocessing import StandardScaler\n",
    "\n",
    "scaler = StandardScaler().fit(Xtrain)"
   ]
  },
  {
   "cell_type": "markdown",
   "id": "d4727015-36ab-48b5-8e6d-0f8acf686bfd",
   "metadata": {},
   "source": [
    "### OLS"
   ]
  },
  {
   "cell_type": "code",
   "execution_count": 13,
   "id": "17f97e52-a145-4524-a391-546f0e06663f",
   "metadata": {},
   "outputs": [
    {
     "data": {
      "text/plain": [
       "109415.96073146681"
      ]
     },
     "execution_count": 13,
     "metadata": {},
     "output_type": "execute_result"
    }
   ],
   "source": [
    "ridge2 = Ridge(alpha=0)\n",
    "ridge2.fit(scaler.transform(Xtrain), ytrain)\n",
    "pred = ridge2.predict(scaler.transform(Xtest))\n",
    "mean_squared_error(ytest, pred)"
   ]
  },
  {
   "cell_type": "code",
   "execution_count": 14,
   "id": "dfe0e14f-340b-4522-ac24-c549b1bff3c0",
   "metadata": {},
   "outputs": [
    {
     "data": {
      "text/plain": [
       "AtBat         -350.256271\n",
       "Hits           445.354088\n",
       "HmRun           28.722885\n",
       "Runs           -71.523657\n",
       "RBI            -74.291328\n",
       "Walks          160.923967\n",
       "Years          -25.907758\n",
       "CAtBat        -303.703535\n",
       "CHits           79.874695\n",
       "CHmRun          96.938839\n",
       "CRuns          447.404161\n",
       "CRBI           190.421371\n",
       "CWalks        -250.289253\n",
       "PutOuts         67.751261\n",
       "Assists         68.397180\n",
       "Errors         -26.254692\n",
       "League_N         2.261691\n",
       "Division_W     -66.988336\n",
       "NewLeague_N     12.467357\n",
       "dtype: float64"
      ]
     },
     "execution_count": 14,
     "metadata": {},
     "output_type": "execute_result"
    }
   ],
   "source": [
    "pd.Series(ridge2.coef_.flatten(), index=X.columns)"
   ]
  },
  {
   "cell_type": "markdown",
   "id": "e264a54e-0c5b-422f-968a-6f8ce3070428",
   "metadata": {},
   "source": [
    "### Very large $\\lambda$ (alpha)"
   ]
  },
  {
   "cell_type": "code",
   "execution_count": 15,
   "id": "b53d2519-e937-4e89-916f-72741f0c2968",
   "metadata": {},
   "outputs": [
    {
     "data": {
      "text/plain": [
       "90350.58738918089"
      ]
     },
     "execution_count": 15,
     "metadata": {},
     "output_type": "execute_result"
    }
   ],
   "source": [
    "# Very large lambda results in high bias and therefore high MSE\n",
    "ridge2.set_params(alpha=10**10)\n",
    "ridge2.fit(scaler.transform(Xtrain), ytrain)\n",
    "pred = ridge2.predict(scaler.transform(Xtest))\n",
    "mean_squared_error(ytest, pred)"
   ]
  },
  {
   "cell_type": "code",
   "execution_count": 16,
   "id": "22dff46b-526e-4ed4-b98a-67c0e789ff72",
   "metadata": {},
   "outputs": [
    {
     "data": {
      "text/plain": [
       "AtBat          4.227396e-06\n",
       "Hits           4.730822e-06\n",
       "HmRun          3.522930e-06\n",
       "Runs           4.535894e-06\n",
       "RBI            4.578201e-06\n",
       "Walks          4.597562e-06\n",
       "Years          4.318746e-06\n",
       "CAtBat         5.487446e-06\n",
       "CHits          5.746544e-06\n",
       "CHmRun         5.738555e-06\n",
       "CRuns          5.887244e-06\n",
       "CRBI           6.080671e-06\n",
       "CWalks         5.120989e-06\n",
       "PutOuts        2.953848e-06\n",
       "Assists        4.249210e-07\n",
       "Errors        -1.600548e-07\n",
       "League_N      -2.357456e-07\n",
       "Division_W    -2.012872e-06\n",
       "NewLeague_N   -1.057220e-07\n",
       "dtype: float64"
      ]
     },
     "execution_count": 16,
     "metadata": {},
     "output_type": "execute_result"
    }
   ],
   "source": [
    "pd.Series(ridge2.coef_.flatten(), index=X.columns)"
   ]
  },
  {
   "cell_type": "markdown",
   "id": "81c925da-8ddb-4652-a1a8-dbe35b674bbe",
   "metadata": {},
   "source": [
    "### Select $\\lambda$ using CV"
   ]
  },
  {
   "cell_type": "code",
   "execution_count": 23,
   "id": "70504bbd-4f09-48d5-9eb8-24d56e895060",
   "metadata": {},
   "outputs": [],
   "source": [
    "folds = np.random.choice(a = 10, size = Xtrain.shape[0])\n",
    "alphas = np.linspace(0,5,100)\n",
    "\n",
    "mse_list = []\n",
    "for alpha in alphas:\n",
    "    cv_list = []\n",
    "    for i in range(10):\n",
    "        val_folds_X = Xtrain.iloc[np.where(folds == i)]\n",
    "        train_folds_X = Xtrain.iloc[np.where(folds != i)]\n",
    "        \n",
    "        val_folds_y = ytrain.iloc[np.where(folds == i)]\n",
    "        train_folds_y = ytrain.iloc[np.where(folds != i)]\n",
    "        \n",
    "        ridgecv = Ridge(alpha=alpha)\n",
    "        ridgecv.fit(scaler.transform(train_folds_X), train_folds_y)\n",
    "        pred = ridgecv.predict(scaler.transform(val_folds_X))\n",
    "        cv_list.append(mean_squared_error(val_folds_y, pred))\n",
    "    mse_list.append(np.mean(cv_list))"
   ]
  },
  {
   "cell_type": "code",
   "execution_count": 24,
   "id": "a0da7a96-6941-4e0e-b327-e219a93fc668",
   "metadata": {},
   "outputs": [
    {
     "data": {
      "text/plain": [
       "Text(0, 0.5, 'Cross-validated MSE')"
      ]
     },
     "execution_count": 24,
     "metadata": {},
     "output_type": "execute_result"
    },
    {
     "data": {
      "image/png": "[encoded data removed]",
      "text/plain": [
       "<Figure size 432x288 with 1 Axes>"
      ]
     },
     "metadata": {},
     "output_type": "display_data"
    }
   ],
   "source": [
    "plt.plot(alphas,mse_list)\n",
    "plt.xlabel('alphas (lambda)')\n",
    "plt.ylabel('Cross-validated MSE')"
   ]
  },
  {
   "cell_type": "code",
   "execution_count": 25,
   "id": "202e56a2-4378-4efa-b895-db2482ff5963",
   "metadata": {},
   "outputs": [
    {
     "data": {
      "text/plain": [
       "1.7676767676767677"
      ]
     },
     "execution_count": 25,
     "metadata": {},
     "output_type": "execute_result"
    }
   ],
   "source": [
    "opt_lambda = alphas[np.argmin(mse_list)]\n",
    "opt_lambda"
   ]
  },
  {
   "cell_type": "code",
   "execution_count": 26,
   "id": "27ff63d6-f47b-43c3-96f3-5a34ca42ff39",
   "metadata": {},
   "outputs": [
    {
     "data": {
      "text/plain": [
       "105502.64546038666"
      ]
     },
     "execution_count": 26,
     "metadata": {},
     "output_type": "execute_result"
    }
   ],
   "source": [
    "opt_ridge = Ridge()\n",
    "opt_ridge.set_params(alpha=opt_lambda)\n",
    "opt_ridge.fit(scaler.transform(Xtrain), ytrain)\n",
    "mean_squared_error(ytest, opt_ridge.predict(scaler.transform(Xtest)))"
   ]
  },
  {
   "cell_type": "code",
   "execution_count": 27,
   "id": "6b916edd-7c03-452a-892f-c91c80bbb5f7",
   "metadata": {},
   "outputs": [
    {
     "data": {
      "text/plain": [
       "AtBat         -276.042117\n",
       "Hits           337.611781\n",
       "HmRun           -2.620939\n",
       "Runs           -16.168519\n",
       "RBI            -45.425691\n",
       "Walks          137.543732\n",
       "Years          -54.560730\n",
       "CAtBat        -121.971875\n",
       "CHits          125.583209\n",
       "CHmRun         128.156026\n",
       "CRuns          239.387136\n",
       "CRBI           119.708113\n",
       "CWalks        -197.382652\n",
       "PutOuts         68.620055\n",
       "Assists         57.115143\n",
       "Errors         -29.058603\n",
       "League_N         2.814172\n",
       "Division_W     -70.552745\n",
       "NewLeague_N      8.242370\n",
       "dtype: float64"
      ]
     },
     "execution_count": 27,
     "metadata": {},
     "output_type": "execute_result"
    }
   ],
   "source": [
    "pd.Series(opt_ridge.coef_.flatten(), index=X.columns)"
   ]
  },
  {
   "cell_type": "code",
   "execution_count": 31,
   "id": "f8c58847-5921-49d5-b47e-a8804bf8e88d",
   "metadata": {},
   "outputs": [
    {
     "data": {
      "text/plain": [
       "RidgeCV(alphas=array([0.1       , 0.14949495, 0.1989899 , 0.24848485, 0.2979798 ,\n",
       "       0.34747475, 0.3969697 , 0.44646465, 0.4959596 , 0.54545455,\n",
       "       0.59494949, 0.64444444, 0.69393939, 0.74343434, 0.79292929,\n",
       "       0.84242424, 0.89191919, 0.94141414, 0.99090909, 1.04040404,\n",
       "       1.08989899, 1.13939394, 1.18888889, 1.23838384, 1.28787879,\n",
       "       1.33737374, 1.38686869, 1.43636364, 1.48585859, 1.53535354,\n",
       "       1.5848484...\n",
       "       3.56464646, 3.61414141, 3.66363636, 3.71313131, 3.76262626,\n",
       "       3.81212121, 3.86161616, 3.91111111, 3.96060606, 4.01010101,\n",
       "       4.05959596, 4.10909091, 4.15858586, 4.20808081, 4.25757576,\n",
       "       4.30707071, 4.35656566, 4.40606061, 4.45555556, 4.50505051,\n",
       "       4.55454545, 4.6040404 , 4.65353535, 4.7030303 , 4.75252525,\n",
       "       4.8020202 , 4.85151515, 4.9010101 , 4.95050505, 5.        ]),\n",
       "        scoring='neg_mean_squared_error')"
      ]
     },
     "execution_count": 31,
     "metadata": {},
     "output_type": "execute_result"
    }
   ],
   "source": [
    "# This is the fast (less informative) way\n",
    "ridgecv = RidgeCV(alphas=np.linspace(0.1,5,100), scoring='neg_mean_squared_error')\n",
    "ridgecv.fit(scale(Xtrain), ytrain)"
   ]
  },
  {
   "cell_type": "code",
   "execution_count": 32,
   "id": "078a4a9b-a223-45de-b316-84ec23b5c542",
   "metadata": {},
   "outputs": [
    {
     "data": {
      "text/plain": [
       "2.3272727272727276"
      ]
     },
     "execution_count": 32,
     "metadata": {},
     "output_type": "execute_result"
    }
   ],
   "source": [
    "ridgecv.alpha_"
   ]
  },
  {
   "cell_type": "markdown",
   "id": "35e70008-e73c-45b6-b98e-36bbfdc37ffc",
   "metadata": {},
   "source": [
    "## Lasso"
   ]
  },
  {
   "cell_type": "code",
   "execution_count": 33,
   "id": "c149651f-b582-4727-ba7a-48da6e430feb",
   "metadata": {},
   "outputs": [
    {
     "data": {
      "image/png": "[encoded data removed]",
      "text/plain": [
       "<Figure size 432x288 with 1 Axes>"
      ]
     },
     "metadata": {},
     "output_type": "display_data"
    }
   ],
   "source": [
    "alphas = 10**np.linspace(10,-2,100)*0.5\n",
    "\n",
    "lasso = Lasso(max_iter=10000)\n",
    "coefs = []\n",
    "\n",
    "for a in alphas:\n",
    "    lasso.set_params(alpha=a)\n",
    "    lasso.fit(scale(X), y)\n",
    "    coefs.append(lasso.coef_)\n",
    "\n",
    "ax = plt.gca()\n",
    "ax.plot(alphas, coefs)\n",
    "ax.set_xscale('log')\n",
    "ax.set_xlim(ax.get_xlim()[::-1])  # reverse axis\n",
    "plt.axis('tight')\n",
    "plt.xlabel('alpha')\n",
    "plt.ylabel('weights')\n",
    "plt.title('Lasso coefficients as a function of the regularization');"
   ]
  },
  {
   "cell_type": "code",
   "execution_count": 38,
   "id": "5a321dc4-6887-4da5-a515-689eda04ad7d",
   "metadata": {
    "scrolled": true,
    "tags": []
   },
   "outputs": [],
   "source": [
    "folds = np.random.choice(a = 10, size = Xtrain.shape[0])\n",
    "alphas = np.linspace(0.01,5,100)\n",
    "\n",
    "mse_list = []\n",
    "for alpha in alphas:\n",
    "    cv_list = []\n",
    "    for i in range(10):\n",
    "        val_folds_X = Xtrain.iloc[np.where(folds == i)]\n",
    "        train_folds_X = Xtrain.iloc[np.where(folds != i)]\n",
    "        \n",
    "        val_folds_y = ytrain.iloc[np.where(folds == i)]\n",
    "        train_folds_y = ytrain.iloc[np.where(folds != i)]\n",
    "        \n",
    "        lassocv = Lasso(alpha=alpha, max_iter=10000)\n",
    "        lassocv.fit(scaler.transform(train_folds_X), train_folds_y)\n",
    "        pred = lassocv.predict(scaler.transform(val_folds_X))\n",
    "        cv_list.append(mean_squared_error(val_folds_y, pred))\n",
    "    mse_list.append(np.mean(cv_list))"
   ]
  },
  {
   "cell_type": "code",
   "execution_count": 39,
   "id": "5302c4a7-57a6-4a63-8ef9-c4f630597189",
   "metadata": {},
   "outputs": [
    {
     "data": {
      "text/plain": [
       "Text(0, 0.5, 'Cross-validated MSE')"
      ]
     },
     "execution_count": 39,
     "metadata": {},
     "output_type": "execute_result"
    },
    {
     "data": {
      "image/png": "[encoded data removed]",
      "text/plain": [
       "<Figure size 432x288 with 1 Axes>"
      ]
     },
     "metadata": {},
     "output_type": "display_data"
    }
   ],
   "source": [
    "plt.plot(alphas,mse_list)\n",
    "plt.xlabel('alphas')\n",
    "plt.ylabel('Cross-validated MSE')"
   ]
  },
  {
   "cell_type": "code",
   "execution_count": 40,
   "id": "ccdb5e2c-b2bd-4d79-b7e4-d2c104df2370",
   "metadata": {},
   "outputs": [
    {
     "data": {
      "text/plain": [
       "2.9334343434343437"
      ]
     },
     "execution_count": 40,
     "metadata": {},
     "output_type": "execute_result"
    }
   ],
   "source": [
    "opt_lambda = alphas[np.argmin(mse_list)]\n",
    "opt_lambda"
   ]
  },
  {
   "cell_type": "code",
   "execution_count": 41,
   "id": "479c7f8c-0bf0-48a7-b693-4e992bb8e636",
   "metadata": {},
   "outputs": [
    {
     "data": {
      "text/plain": [
       "101741.2618512734"
      ]
     },
     "execution_count": 41,
     "metadata": {},
     "output_type": "execute_result"
    }
   ],
   "source": [
    "opt_lasso = Lasso()\n",
    "opt_lasso.set_params(alpha=opt_lambda, max_iter=10000)\n",
    "opt_lasso.fit(scaler.transform(Xtrain), ytrain)\n",
    "mean_squared_error(ytest, opt_lasso.predict(scaler.transform(Xtest)))"
   ]
  },
  {
   "cell_type": "code",
   "execution_count": 42,
   "id": "603abccd-eefe-4ac0-a4b9-60a23bbdb036",
   "metadata": {},
   "outputs": [
    {
     "data": {
      "text/plain": [
       "AtBat         -277.751649\n",
       "Hits           329.242302\n",
       "HmRun          -15.519250\n",
       "Runs            -0.000000\n",
       "RBI            -18.833888\n",
       "Walks          122.994034\n",
       "Years          -43.775447\n",
       "CAtBat          -0.000000\n",
       "CHits            0.000000\n",
       "CHmRun         118.488521\n",
       "CRuns          239.728138\n",
       "CRBI            97.992948\n",
       "CWalks        -175.176263\n",
       "PutOuts         67.369228\n",
       "Assists         44.476147\n",
       "Errors         -20.424909\n",
       "League_N         0.000000\n",
       "Division_W     -67.135052\n",
       "NewLeague_N     10.324999\n",
       "dtype: float64"
      ]
     },
     "execution_count": 42,
     "metadata": {},
     "output_type": "execute_result"
    }
   ],
   "source": [
    "pd.Series(opt_lasso.coef_.flatten(), index=X.columns)"
   ]
  },
  {
   "cell_type": "markdown",
   "id": "65def11a-ec1b-4dd8-9bf1-ae3434bc9527",
   "metadata": {},
   "source": [
    "## Elastic Net"
   ]
  },
  {
   "cell_type": "code",
   "execution_count": 43,
   "id": "4f9044ac-7152-45a6-89a0-da06e12764b8",
   "metadata": {
    "scrolled": true,
    "tags": []
   },
   "outputs": [
    {
     "data": {
      "image/png": "[encoded data removed]",
      "text/plain": [
       "<Figure size 432x288 with 1 Axes>"
      ]
     },
     "metadata": {},
     "output_type": "display_data"
    }
   ],
   "source": [
    "alphas = 10**np.linspace(10,-2,100)*0.5\n",
    "l1_ratio = 0.5\n",
    "\n",
    "en = ElasticNet(max_iter=10000)\n",
    "coefs = []\n",
    "\n",
    "for a in alphas:\n",
    "    en.set_params(alpha=a, l1_ratio=l1_ratio)\n",
    "    en.fit(scale(X), y)\n",
    "    coefs.append(en.coef_)\n",
    "\n",
    "ax = plt.gca()\n",
    "ax.plot(alphas, coefs)\n",
    "ax.set_xscale('log')\n",
    "ax.set_xlim(ax.get_xlim()[::-1])  # reverse axis\n",
    "plt.axis('tight')\n",
    "plt.xlabel('alpha')\n",
    "plt.ylabel('weights')\n",
    "plt.title('Elastic Net coefficients as a function of the regularization');"
   ]
  },
  {
   "cell_type": "code",
   "execution_count": 47,
   "id": "e4bbf219-306d-49b8-945d-d6be7b57e6e6",
   "metadata": {
    "scrolled": true,
    "tags": []
   },
   "outputs": [],
   "source": [
    "folds = np.random.choice(a = 10, size = Xtrain.shape[0])\n",
    "alphas = np.linspace(0.01,5,10)\n",
    "l1_ratio = np.linspace(0.01,1,10)\n",
    "\n",
    "mse_list = []\n",
    "alpha_list = []\n",
    "l1_list = []\n",
    "for alpha in alphas:\n",
    "    for l1 in l1_ratio:\n",
    "        cv_list = []\n",
    "        for i in range(10):\n",
    "            val_folds_X = Xtrain.iloc[np.where(folds == i)]\n",
    "            train_folds_X = Xtrain.iloc[np.where(folds != i)]\n",
    "\n",
    "            val_folds_y = ytrain.iloc[np.where(folds == i)]\n",
    "            train_folds_y = ytrain.iloc[np.where(folds != i)]\n",
    "\n",
    "            encv = ElasticNet(alpha=alpha, l1_ratio=l1, max_iter=10000)\n",
    "            encv.fit(scaler.transform(train_folds_X), train_folds_y)\n",
    "            pred = encv.predict(scaler.transform(val_folds_X))\n",
    "            cv_list.append(mean_squared_error(val_folds_y, pred))\n",
    "        mse_list.append(np.mean(cv_list))\n",
    "        alpha_list.append(alpha)\n",
    "        l1_list.append(l1)"
   ]
  },
  {
   "cell_type": "code",
   "execution_count": 48,
   "id": "7226d4ed-818a-4a7f-806f-8ad88049c55d",
   "metadata": {},
   "outputs": [
    {
     "data": {
      "text/plain": [
       "<AxesSubplot:xlabel='l1_ratio', ylabel='alpha'>"
      ]
     },
     "execution_count": 48,
     "metadata": {},
     "output_type": "execute_result"
    },
    {
     "data": {
      "image/png": "[encoded data removed]",
      "text/plain": [
       "<Figure size 432x288 with 2 Axes>"
      ]
     },
     "metadata": {},
     "output_type": "display_data"
    }
   ],
   "source": [
    "plotdata = pd.DataFrame({'alpha': alpha_list, 'l1_ratio': l1_list, 'mse': mse_list})\n",
    "plot_data_pivoted = plotdata.pivot(\"alpha\", \"l1_ratio\", \"mse\")\n",
    "sns.heatmap(plot_data_pivoted)"
   ]
  },
  {
   "cell_type": "code",
   "execution_count": 49,
   "id": "b1509c88-da2d-452d-a48e-3d5574ac6ccc",
   "metadata": {},
   "outputs": [
    {
     "name": "stdout",
     "output_type": "stream",
     "text": [
      "2.7822222222222224 1.0\n"
     ]
    }
   ],
   "source": [
    "opt_lambda = alpha_list[np.argmin(mse_list)]\n",
    "opt_l1 = l1_list[np.argmin(mse_list)]\n",
    "print(opt_lambda, opt_l1)"
   ]
  },
  {
   "cell_type": "code",
   "execution_count": 50,
   "id": "a111f3b7-9f28-4dbe-be36-98d96f12e2aa",
   "metadata": {},
   "outputs": [
    {
     "data": {
      "text/plain": [
       "101741.2618512734"
      ]
     },
     "execution_count": 50,
     "metadata": {},
     "output_type": "execute_result"
    }
   ],
   "source": [
    "opt_en = ElasticNet()\n",
    "opt_en.set_params(alpha=opt_lambda, l1_ratio=opt_l1, max_iter=10000)\n",
    "opt_en.fit(scaler.transform(Xtrain), ytrain)\n",
    "mean_squared_error(ytest, opt_lasso.predict(scaler.transform(Xtest)))"
   ]
  },
  {
   "cell_type": "code",
   "execution_count": 51,
   "id": "7522b9af-a5e9-44e6-bd66-fde9e7de686c",
   "metadata": {},
   "outputs": [
    {
     "data": {
      "text/plain": [
       "AtBat         -283.234752\n",
       "Hits           333.674538\n",
       "HmRun          -15.001708\n",
       "Runs            -0.000000\n",
       "RBI            -20.334856\n",
       "Walks          124.690599\n",
       "Years          -44.936588\n",
       "CAtBat          -0.000000\n",
       "CHits            0.000000\n",
       "CHmRun         119.779557\n",
       "CRuns          243.617282\n",
       "CRBI            98.390319\n",
       "CWalks        -179.630598\n",
       "PutOuts         67.653458\n",
       "Assists         45.506815\n",
       "Errors         -20.836926\n",
       "League_N         0.000000\n",
       "Division_W     -67.155944\n",
       "NewLeague_N     10.393572\n",
       "dtype: float64"
      ]
     },
     "execution_count": 51,
     "metadata": {},
     "output_type": "execute_result"
    }
   ],
   "source": [
    "pd.Series(opt_en.coef_.flatten(), index=X.columns)"
   ]
  },
  {
   "cell_type": "code",
   "execution_count": null,
   "id": "54a3261b-84f8-4a5d-afa3-cd05ba65ff9b",
   "metadata": {},
   "outputs": [],
   "source": []
  }
 ],
 "metadata": {
  "kernelspec": {
   "display_name": "Python 3 (ipykernel)",
   "language": "python",
   "name": "python3"
  },
  "language_info": {
   "codemirror_mode": {
    "name": "ipython",
    "version": 3
   },
   "file_extension": ".py",
   "mimetype": "text/x-python",
   "name": "python",
   "nbconvert_exporter": "python",
   "pygments_lexer": "ipython3",
   "version": "3.11.5"
  }
 },
 "nbformat": 4,
 "nbformat_minor": 5
}
