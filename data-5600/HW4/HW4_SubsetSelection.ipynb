{
 "cells": [
  {
   "cell_type": "markdown",
   "id": "882d368f-6805-459b-90a0-e09e6a02db7e",
   "metadata": {},
   "source": [
    "# Homework #4: Subset Selection and Shrinkage Methods"
   ]
  },
  {
   "cell_type": "markdown",
   "id": "c129872b-b758-4476-a65b-c80ee8a82b48",
   "metadata": {},
   "source": [
    "## Background\n",
    "\n",
    "In car sales, one of the most critical metrics is the number of days a vehicle spends on the lot. Some estimates suggest that every day a vehicle spends on the lot will cost the dealership ~$10/day in depreciation and maintenance. Multiply that by the hundreds (or thousands) of vehicles a dealership may hold in inventory and this quickly becomes one of the largest costs. A dataset provided by DriveTime, contains vehicle information as well as the number of days it spent on the lot, our task is to find any relationships that may explain the increase or decrease in days to sell.\n",
    "\n",
    "### Relevant Datasets\n",
    "\n",
    "`drive_time_sedans.csv`\n",
    "\n",
    "Source: https://github.com/Fumanguyen/drivetime-sedans-used-vehicle-market/blob/master/drive_time_sedans.csv"
   ]
  },
  {
   "cell_type": "markdown",
   "id": "e17191a8-41de-41b4-ba98-6a4650f4d44a",
   "metadata": {},
   "source": [
    "## Task 1: Import the dataset and convert the categorical variables to dummy variables.\n",
    "\n",
    "**Important Note**: The tasks below can be very computationally intensive. If you don't want to wait a long time for things to run or you don't feel your computer is powerful to complete these tasks in a reasonable time, I suggest dropping the `make.model`, `state`, and/or `makex` variables. Your grade will not be based on the inclusion or exclusion of any variables, I'm more interested in the methods but if you have the resources and are curious to explore more, feel free to use all variables."
   ]
  },
  {
   "cell_type": "code",
   "execution_count": 4,
   "id": "0b14d960-5baa-44b2-b05e-4629b913074f",
   "metadata": {},
   "outputs": [],
   "source": [
    "import pandas as pd\n",
    "import numpy as np\n",
    "import statsmodels.api as sm\n",
    "from sklearn.preprocessing import scale\n",
    "from sklearn.preprocessing import StandardScaler\n",
    "from sklearn.model_selection import train_test_split\n",
    "from sklearn.linear_model import ElasticNetCV\n",
    "from sklearn.metrics import mean_squared_error"
   ]
  },
  {
   "cell_type": "code",
   "execution_count": 5,
   "id": "6daa4546-b8fe-459a-ab15-143ece26f0a2",
   "metadata": {},
   "outputs": [
    {
     "data": {
      "text/html": [
       "<div>\n",
       "<style scoped>\n",
       "    .dataframe tbody tr th:only-of-type {\n",
       "        vertical-align: middle;\n",
       "    }\n",
       "\n",
       "    .dataframe tbody tr th {\n",
       "        vertical-align: top;\n",
       "    }\n",
       "\n",
       "    .dataframe thead th {\n",
       "        text-align: right;\n",
       "    }\n",
       "</style>\n",
       "<table border=\"1\" class=\"dataframe\">\n",
       "  <thead>\n",
       "    <tr style=\"text-align: right;\">\n",
       "      <th></th>\n",
       "      <th>data.set</th>\n",
       "      <th>total.cost</th>\n",
       "      <th>lot.sale.days</th>\n",
       "      <th>mileage</th>\n",
       "      <th>vehicle.age</th>\n",
       "      <th>vehicle.type_ECONOMY</th>\n",
       "      <th>vehicle.type_FAMILY.LARGE</th>\n",
       "      <th>vehicle.type_FAMILY.MEDIUM</th>\n",
       "      <th>vehicle.type_FAMILY.SMALL</th>\n",
       "      <th>vehicle.type_LUXURY</th>\n",
       "      <th>...</th>\n",
       "      <th>color.set_BLACK</th>\n",
       "      <th>color.set_BLUE</th>\n",
       "      <th>color.set_GOLD</th>\n",
       "      <th>color.set_GREEN</th>\n",
       "      <th>color.set_PURPLE</th>\n",
       "      <th>color.set_RED</th>\n",
       "      <th>color.set_SILVER</th>\n",
       "      <th>color.set_WHITE</th>\n",
       "      <th>overage_NO</th>\n",
       "      <th>overage_YES</th>\n",
       "    </tr>\n",
       "  </thead>\n",
       "  <tbody>\n",
       "    <tr>\n",
       "      <th>0</th>\n",
       "      <td>TRAIN</td>\n",
       "      <td>4037</td>\n",
       "      <td>135</td>\n",
       "      <td>67341</td>\n",
       "      <td>8</td>\n",
       "      <td>False</td>\n",
       "      <td>True</td>\n",
       "      <td>False</td>\n",
       "      <td>False</td>\n",
       "      <td>False</td>\n",
       "      <td>...</td>\n",
       "      <td>False</td>\n",
       "      <td>False</td>\n",
       "      <td>False</td>\n",
       "      <td>False</td>\n",
       "      <td>False</td>\n",
       "      <td>False</td>\n",
       "      <td>True</td>\n",
       "      <td>False</td>\n",
       "      <td>False</td>\n",
       "      <td>True</td>\n",
       "    </tr>\n",
       "    <tr>\n",
       "      <th>1</th>\n",
       "      <td>TRAIN</td>\n",
       "      <td>4662</td>\n",
       "      <td>18</td>\n",
       "      <td>69384</td>\n",
       "      <td>4</td>\n",
       "      <td>False</td>\n",
       "      <td>False</td>\n",
       "      <td>False</td>\n",
       "      <td>True</td>\n",
       "      <td>False</td>\n",
       "      <td>...</td>\n",
       "      <td>False</td>\n",
       "      <td>False</td>\n",
       "      <td>False</td>\n",
       "      <td>False</td>\n",
       "      <td>False</td>\n",
       "      <td>False</td>\n",
       "      <td>True</td>\n",
       "      <td>False</td>\n",
       "      <td>True</td>\n",
       "      <td>False</td>\n",
       "    </tr>\n",
       "    <tr>\n",
       "      <th>2</th>\n",
       "      <td>TRAIN</td>\n",
       "      <td>4459</td>\n",
       "      <td>65</td>\n",
       "      <td>58239</td>\n",
       "      <td>4</td>\n",
       "      <td>True</td>\n",
       "      <td>False</td>\n",
       "      <td>False</td>\n",
       "      <td>False</td>\n",
       "      <td>False</td>\n",
       "      <td>...</td>\n",
       "      <td>False</td>\n",
       "      <td>False</td>\n",
       "      <td>False</td>\n",
       "      <td>False</td>\n",
       "      <td>False</td>\n",
       "      <td>True</td>\n",
       "      <td>False</td>\n",
       "      <td>False</td>\n",
       "      <td>True</td>\n",
       "      <td>False</td>\n",
       "    </tr>\n",
       "    <tr>\n",
       "      <th>3</th>\n",
       "      <td>TRAIN</td>\n",
       "      <td>4279</td>\n",
       "      <td>1</td>\n",
       "      <td>58999</td>\n",
       "      <td>3</td>\n",
       "      <td>True</td>\n",
       "      <td>False</td>\n",
       "      <td>False</td>\n",
       "      <td>False</td>\n",
       "      <td>False</td>\n",
       "      <td>...</td>\n",
       "      <td>False</td>\n",
       "      <td>False</td>\n",
       "      <td>False</td>\n",
       "      <td>False</td>\n",
       "      <td>False</td>\n",
       "      <td>True</td>\n",
       "      <td>False</td>\n",
       "      <td>False</td>\n",
       "      <td>True</td>\n",
       "      <td>False</td>\n",
       "    </tr>\n",
       "    <tr>\n",
       "      <th>4</th>\n",
       "      <td>TRAIN</td>\n",
       "      <td>4472</td>\n",
       "      <td>37</td>\n",
       "      <td>47234</td>\n",
       "      <td>6</td>\n",
       "      <td>False</td>\n",
       "      <td>False</td>\n",
       "      <td>True</td>\n",
       "      <td>False</td>\n",
       "      <td>False</td>\n",
       "      <td>...</td>\n",
       "      <td>False</td>\n",
       "      <td>True</td>\n",
       "      <td>False</td>\n",
       "      <td>False</td>\n",
       "      <td>False</td>\n",
       "      <td>False</td>\n",
       "      <td>False</td>\n",
       "      <td>False</td>\n",
       "      <td>True</td>\n",
       "      <td>False</td>\n",
       "    </tr>\n",
       "  </tbody>\n",
       "</table>\n",
       "<p>5 rows × 27 columns</p>\n",
       "</div>"
      ],
      "text/plain": [
       "  data.set  total.cost  lot.sale.days  mileage  vehicle.age  \\\n",
       "0    TRAIN        4037            135    67341            8   \n",
       "1    TRAIN        4662             18    69384            4   \n",
       "2    TRAIN        4459             65    58239            4   \n",
       "3    TRAIN        4279              1    58999            3   \n",
       "4    TRAIN        4472             37    47234            6   \n",
       "\n",
       "   vehicle.type_ECONOMY  vehicle.type_FAMILY.LARGE  \\\n",
       "0                 False                       True   \n",
       "1                 False                      False   \n",
       "2                  True                      False   \n",
       "3                  True                      False   \n",
       "4                 False                      False   \n",
       "\n",
       "   vehicle.type_FAMILY.MEDIUM  vehicle.type_FAMILY.SMALL  vehicle.type_LUXURY  \\\n",
       "0                       False                      False                False   \n",
       "1                       False                       True                False   \n",
       "2                       False                      False                False   \n",
       "3                       False                      False                False   \n",
       "4                        True                      False                False   \n",
       "\n",
       "   ...  color.set_BLACK  color.set_BLUE  color.set_GOLD  color.set_GREEN  \\\n",
       "0  ...            False           False           False            False   \n",
       "1  ...            False           False           False            False   \n",
       "2  ...            False           False           False            False   \n",
       "3  ...            False           False           False            False   \n",
       "4  ...            False            True           False            False   \n",
       "\n",
       "   color.set_PURPLE  color.set_RED  color.set_SILVER  color.set_WHITE  \\\n",
       "0             False          False              True            False   \n",
       "1             False          False              True            False   \n",
       "2             False           True             False            False   \n",
       "3             False           True             False            False   \n",
       "4             False          False             False            False   \n",
       "\n",
       "   overage_NO  overage_YES  \n",
       "0       False         True  \n",
       "1        True        False  \n",
       "2        True        False  \n",
       "3        True        False  \n",
       "4        True        False  \n",
       "\n",
       "[5 rows x 27 columns]"
      ]
     },
     "execution_count": 5,
     "metadata": {},
     "output_type": "execute_result"
    }
   ],
   "source": [
    "df = pd.read_csv('drive_time_sedans.csv')\n",
    "df = df.drop(['make.model', 'state', 'makex'], axis=1)\n",
    "df = pd.get_dummies(df, columns=['vehicle.type', 'domestic.import', 'vehicle.age.group', 'color.set','overage'])\n",
    "df.head()"
   ]
  },
  {
   "cell_type": "markdown",
   "id": "05259308-58a0-49de-8fde-479db3b12d93",
   "metadata": {},
   "source": [
    "## Task 2: This dataset specifies which observations to use as train/test/validate. Split it into three dataframes based on these values.\n",
    "\n",
    "If you've already converted those to dummy variables, you may have to subset slightly different. Search \"*conditional subset pandas dataframe*\" for a starting point or reach out to me (before the soft deadline) for guidance."
   ]
  },
  {
   "cell_type": "code",
   "execution_count": 7,
   "id": "96d3096a-a33c-44ec-93f7-cb6054934cd3",
   "metadata": {},
   "outputs": [
    {
     "name": "stdout",
     "output_type": "stream",
     "text": [
      "Train shape: (8753, 26)\n",
      "Test shape: (4376, 26)\n",
      "Validate shape: (4377, 26)\n"
     ]
    }
   ],
   "source": [
    "df_train = df[df['data.set'] == 'TRAIN'].drop('data.set', axis=1)\n",
    "df_test = df[df['data.set'] == 'TEST'].drop('data.set', axis=1)\n",
    "df_val = df[df['data.set'] == 'VALIDATE'].drop('data.set', axis=1)\n",
    "\n",
    "print('Train shape:', df_train.shape)\n",
    "print('Test shape:', df_test.shape)\n",
    "print('Validate shape:', df_val.shape)"
   ]
  },
  {
   "cell_type": "markdown",
   "id": "5b9c3ad5-2fa5-446f-8e49-47fb01989b11",
   "metadata": {},
   "source": [
    "## Task 3: Normalize `total.cost`, `mileage`, and `vehicle.age`"
   ]
  },
  {
   "cell_type": "code",
   "execution_count": 9,
   "id": "811306b8-5f5e-4b26-9213-96fb0ad6912f",
   "metadata": {},
   "outputs": [],
   "source": [
    "cols_to_normalize = ['total.cost', 'mileage', 'vehicle.age']\n",
    "scaler = StandardScaler()\n",
    "df_train[cols_to_normalize] = scaler.fit_transform(df_train[cols_to_normalize])\n",
    "df_test[cols_to_normalize] = scaler.transform(df_test[cols_to_normalize])\n",
    "df_val[cols_to_normalize] = scaler.transform(df_val[cols_to_normalize])"
   ]
  },
  {
   "cell_type": "markdown",
   "id": "d8c075e4-279f-430e-bc04-ba33db886c77",
   "metadata": {},
   "source": [
    "## Task 4: Use the code from the applied lecture to perform forward stepwise selection, with the single validation set from before (as opposed to cross-validation). Return not only the AIC, BIC, and Adjusted $R^2$, as was shown in the lecture, but also the MSE on the validation set. "
   ]
  },
  {
   "cell_type": "code",
   "execution_count": 11,
   "id": "544ff121-3f41-4f8b-b58a-5ac6db9ad5ae",
   "metadata": {},
   "outputs": [],
   "source": [
    "def processSubset(X, y, predictor_variables, response_variable):\n",
    "    # Fit model on feature_set and calculate RSS\n",
    "    \n",
    "    model = sm.OLS(y,X[list(predictor_variables)])\n",
    "    regr = model.fit()\n",
    "    RSS = ((regr.predict(X[list(predictor_variables)]) - y[response_variable]) ** 2).sum()\n",
    "    return {\"model\":regr, \"RSS\":RSS}\n",
    "\n",
    "def forward(X, y, predictors, response_variable):\n",
    "    remaining_predictors = [p for p in X.columns if p not in predictors]\n",
    "    results = []\n",
    "\n",
    "    for p in remaining_predictors:\n",
    "        results.append( processSubset(X, y, predictors + [p], response_variable))\n",
    "\n",
    "    models = pd.DataFrame(results)\n",
    "    best_model = models.loc[models['RSS'].argmin()]\n",
    "\n",
    "    return best_model"
   ]
  },
  {
   "cell_type": "code",
   "execution_count": 12,
   "id": "ba6618b0-8cca-412a-b315-6824c92130b2",
   "metadata": {},
   "outputs": [],
   "source": [
    "X_train = df_train.drop('lot.sale.days', axis=1)\n",
    "y_train = df_train[['lot.sale.days']]\n",
    "X_val = df_val.drop('lot.sale.days', axis=1)\n",
    "y_val = df_val[['lot.sale.days']]\n",
    "\n",
    "models_fwd = pd.DataFrame(columns=[\"RSS\", \"model\", \"AIC\", \"BIC\", \"AdjR2\", \"MSE\"])\n",
    "models_fwd.drop(models_fwd.index, inplace=True)\n",
    "\n",
    "predictors = []"
   ]
  },
  {
   "cell_type": "code",
   "execution_count": 13,
   "id": "6f7ad887-36ec-48af-a118-d81c86d280b7",
   "metadata": {},
   "outputs": [
    {
     "name": "stdout",
     "output_type": "stream",
     "text": [
      "(4377, 1)\n"
     ]
    },
    {
     "ename": "ValueError",
     "evalue": "shapes (4377,25) and (1,) not aligned: 25 (dim 1) != 1 (dim 0)",
     "output_type": "error",
     "traceback": [
      "\u001b[0;31m---------------------------------------------------------------------------\u001b[0m",
      "\u001b[0;31mValueError\u001b[0m                                Traceback (most recent call last)",
      "Cell \u001b[0;32mIn[13], line 5\u001b[0m\n\u001b[1;32m      3\u001b[0m predictors \u001b[38;5;241m=\u001b[39m models_fwd\u001b[38;5;241m.\u001b[39mloc[i][\u001b[38;5;124m'\u001b[39m\u001b[38;5;124mmodel\u001b[39m\u001b[38;5;124m'\u001b[39m]\u001b[38;5;241m.\u001b[39mmodel\u001b[38;5;241m.\u001b[39mexog_names\n\u001b[1;32m      4\u001b[0m \u001b[38;5;28mprint\u001b[39m(y_val\u001b[38;5;241m.\u001b[39mshape)\n\u001b[0;32m----> 5\u001b[0m \u001b[38;5;28mprint\u001b[39m(models_fwd\u001b[38;5;241m.\u001b[39mloc[i, \u001b[38;5;124m'\u001b[39m\u001b[38;5;124mmodel\u001b[39m\u001b[38;5;124m'\u001b[39m]\u001b[38;5;241m.\u001b[39mpredict(X_val)\u001b[38;5;241m.\u001b[39mshape)\n\u001b[1;32m      6\u001b[0m models_fwd\u001b[38;5;241m.\u001b[39mloc[i, \u001b[38;5;124m'\u001b[39m\u001b[38;5;124mAIC\u001b[39m\u001b[38;5;124m'\u001b[39m] \u001b[38;5;241m=\u001b[39m models_fwd\u001b[38;5;241m.\u001b[39mloc[i, \u001b[38;5;124m'\u001b[39m\u001b[38;5;124mmodel\u001b[39m\u001b[38;5;124m'\u001b[39m]\u001b[38;5;241m.\u001b[39maic\n\u001b[1;32m      7\u001b[0m models_fwd\u001b[38;5;241m.\u001b[39mloc[i, \u001b[38;5;124m'\u001b[39m\u001b[38;5;124mBIC\u001b[39m\u001b[38;5;124m'\u001b[39m] \u001b[38;5;241m=\u001b[39m models_fwd\u001b[38;5;241m.\u001b[39mloc[i, \u001b[38;5;124m'\u001b[39m\u001b[38;5;124mmodel\u001b[39m\u001b[38;5;124m'\u001b[39m]\u001b[38;5;241m.\u001b[39mbic\n",
      "File \u001b[0;32m~/anaconda3/lib/python3.11/site-packages/statsmodels/base/model.py:1176\u001b[0m, in \u001b[0;36mResults.predict\u001b[0;34m(self, exog, transform, *args, **kwargs)\u001b[0m\n\u001b[1;32m   1129\u001b[0m \u001b[38;5;250m\u001b[39m\u001b[38;5;124;03m\"\"\"\u001b[39;00m\n\u001b[1;32m   1130\u001b[0m \u001b[38;5;124;03mCall self.model.predict with self.params as the first argument.\u001b[39;00m\n\u001b[1;32m   1131\u001b[0m \n\u001b[0;32m   (...)\u001b[0m\n\u001b[1;32m   1171\u001b[0m \u001b[38;5;124;03mreturned prediction.\u001b[39;00m\n\u001b[1;32m   1172\u001b[0m \u001b[38;5;124;03m\"\"\"\u001b[39;00m\n\u001b[1;32m   1173\u001b[0m exog, exog_index \u001b[38;5;241m=\u001b[39m \u001b[38;5;28mself\u001b[39m\u001b[38;5;241m.\u001b[39m_transform_predict_exog(exog,\n\u001b[1;32m   1174\u001b[0m                                                 transform\u001b[38;5;241m=\u001b[39mtransform)\n\u001b[0;32m-> 1176\u001b[0m predict_results \u001b[38;5;241m=\u001b[39m \u001b[38;5;28mself\u001b[39m\u001b[38;5;241m.\u001b[39mmodel\u001b[38;5;241m.\u001b[39mpredict(\u001b[38;5;28mself\u001b[39m\u001b[38;5;241m.\u001b[39mparams, exog, \u001b[38;5;241m*\u001b[39margs,\n\u001b[1;32m   1177\u001b[0m                                      \u001b[38;5;241m*\u001b[39m\u001b[38;5;241m*\u001b[39mkwargs)\n\u001b[1;32m   1179\u001b[0m \u001b[38;5;28;01mif\u001b[39;00m exog_index \u001b[38;5;129;01mis\u001b[39;00m \u001b[38;5;129;01mnot\u001b[39;00m \u001b[38;5;28;01mNone\u001b[39;00m \u001b[38;5;129;01mand\u001b[39;00m \u001b[38;5;129;01mnot\u001b[39;00m \u001b[38;5;28mhasattr\u001b[39m(predict_results,\n\u001b[1;32m   1180\u001b[0m                                           \u001b[38;5;124m'\u001b[39m\u001b[38;5;124mpredicted_values\u001b[39m\u001b[38;5;124m'\u001b[39m):\n\u001b[1;32m   1181\u001b[0m     \u001b[38;5;28;01mif\u001b[39;00m predict_results\u001b[38;5;241m.\u001b[39mndim \u001b[38;5;241m==\u001b[39m \u001b[38;5;241m1\u001b[39m:\n",
      "File \u001b[0;32m~/anaconda3/lib/python3.11/site-packages/statsmodels/regression/linear_model.py:411\u001b[0m, in \u001b[0;36mRegressionModel.predict\u001b[0;34m(self, params, exog)\u001b[0m\n\u001b[1;32m    408\u001b[0m \u001b[38;5;28;01mif\u001b[39;00m exog \u001b[38;5;129;01mis\u001b[39;00m \u001b[38;5;28;01mNone\u001b[39;00m:\n\u001b[1;32m    409\u001b[0m     exog \u001b[38;5;241m=\u001b[39m \u001b[38;5;28mself\u001b[39m\u001b[38;5;241m.\u001b[39mexog\n\u001b[0;32m--> 411\u001b[0m \u001b[38;5;28;01mreturn\u001b[39;00m np\u001b[38;5;241m.\u001b[39mdot(exog, params)\n",
      "File \u001b[0;32m<__array_function__ internals>:200\u001b[0m, in \u001b[0;36mdot\u001b[0;34m(*args, **kwargs)\u001b[0m\n",
      "\u001b[0;31mValueError\u001b[0m: shapes (4377,25) and (1,) not aligned: 25 (dim 1) != 1 (dim 0)"
     ]
    }
   ],
   "source": [
    "for i in range(1,len(X_train.columns)+1):   \n",
    "    models_fwd.loc[i] = forward(X_train, y_train, predictors, 'lot.sale.days')\n",
    "    predictors = models_fwd.loc[i]['model'].model.exog_names\n",
    "    print(y_val.shape)\n",
    "    print(models_fwd.loc[i, 'model'].predict(X_val).shape)\n",
    "    models_fwd.loc[i, 'AIC'] = models_fwd.loc[i, 'model'].aic\n",
    "    models_fwd.loc[i, 'BIC'] = models_fwd.loc[i, 'model'].bic\n",
    "    models_fwd.loc[i, 'AdjR2'] = models_fwd.loc[i, 'model'].rsquared_adj\n",
    "    # print(mean_squared_error(y_val, models_fwd.loc[i, 'model'].predict(X_val)))\n",
    "    print(mean_squared_error(y_val, models_fwd.loc[i, 'model'].predict(X_val)).shape)\n",
    "    print(models_fwd.loc[i,'MSE'].shape)\n",
    "    models_fwd.loc[i, 'MSE'] = mean_squared_error(y_val, models_fwd.loc[i, 'model'].predict(X_val))\n",
    "\n",
    "print(models_fwd)"
   ]
  },
  {
   "cell_type": "markdown",
   "id": "6a3873f2-b33e-4ad7-8939-d87b8b0c1193",
   "metadata": {},
   "source": [
    "## Task 5: Using the code from the shrinkage methods lecture, find the optimal $\\alpha$ and $\\lambda$ for an Elastic Net regression using Cross-Validation.\n",
    "\n",
    "Note: Remember that $\\lambda$ is the argument `alpha` in scikit-learn and $\\alpha$ is the `l1_ratio` argument. Sorry that nobody can settle on terminology."
   ]
  },
  {
   "cell_type": "code",
   "execution_count": null,
   "id": "91a8a1bf-3ca0-46ca-ba56-ee970f21feb4",
   "metadata": {},
   "outputs": [],
   "source": []
  },
  {
   "cell_type": "markdown",
   "id": "d718f831-dde0-4492-b2ad-5ea866a1d90f",
   "metadata": {},
   "source": [
    "## Question: Given all of the results you've found, which model would you choose and why? Hint: There is no right answer but you will need to justify any answer you give."
   ]
  }
 ],
 "metadata": {
  "kernelspec": {
   "display_name": "Python 3 (ipykernel)",
   "language": "python",
   "name": "python3"
  },
  "language_info": {
   "codemirror_mode": {
    "name": "ipython",
    "version": 3
   },
   "file_extension": ".py",
   "mimetype": "text/x-python",
   "name": "python",
   "nbconvert_exporter": "python",
   "pygments_lexer": "ipython3",
   "version": "3.9.13"
  }
 },
 "nbformat": 4,
 "nbformat_minor": 5
}
