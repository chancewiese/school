{
 "cells": [
  {
   "cell_type": "markdown",
   "id": "51fba2dc-fe1c-40c0-84bf-ca23c24cbe46",
   "metadata": {},
   "source": [
    "https://www.kaggle.com/datasets/leonardopena/top-spotify-songs-from-20102019-by-year"
   ]
  },
  {
   "cell_type": "code",
   "execution_count": 1,
   "id": "fecf02e0-42f3-4bbd-9d19-d022be5af64a",
   "metadata": {},
   "outputs": [],
   "source": [
    "import pandas as pd\n",
    "import matplotlib.pyplot as plt\n",
    "%matplotlib inline\n",
    "import statsmodels.api as sm\n",
    "import statsmodels.formula.api as smf\n",
    "import seaborn as sns\n",
    "import numpy as np\n",
    "import time\n",
    "import itertools\n",
    "from scipy.special import binom"
   ]
  },
  {
   "cell_type": "code",
   "execution_count": 2,
   "id": "af50be5f-260f-42e8-9dec-a37b3f601f23",
   "metadata": {},
   "outputs": [
    {
     "data": {
      "text/html": [
       "<div>\n",
       "<style scoped>\n",
       "    .dataframe tbody tr th:only-of-type {\n",
       "        vertical-align: middle;\n",
       "    }\n",
       "\n",
       "    .dataframe tbody tr th {\n",
       "        vertical-align: top;\n",
       "    }\n",
       "\n",
       "    .dataframe thead th {\n",
       "        text-align: right;\n",
       "    }\n",
       "</style>\n",
       "<table border=\"1\" class=\"dataframe\">\n",
       "  <thead>\n",
       "    <tr style=\"text-align: right;\">\n",
       "      <th></th>\n",
       "      <th>Unnamed: 0</th>\n",
       "      <th>title</th>\n",
       "      <th>artist</th>\n",
       "      <th>top genre</th>\n",
       "      <th>year</th>\n",
       "      <th>bpm</th>\n",
       "      <th>nrgy</th>\n",
       "      <th>dnce</th>\n",
       "      <th>dB</th>\n",
       "      <th>live</th>\n",
       "      <th>val</th>\n",
       "      <th>dur</th>\n",
       "      <th>acous</th>\n",
       "      <th>spch</th>\n",
       "      <th>pop</th>\n",
       "    </tr>\n",
       "  </thead>\n",
       "  <tbody>\n",
       "    <tr>\n",
       "      <th>0</th>\n",
       "      <td>1</td>\n",
       "      <td>Hey, Soul Sister</td>\n",
       "      <td>Train</td>\n",
       "      <td>neo mellow</td>\n",
       "      <td>2010</td>\n",
       "      <td>97</td>\n",
       "      <td>89</td>\n",
       "      <td>67</td>\n",
       "      <td>-4</td>\n",
       "      <td>8</td>\n",
       "      <td>80</td>\n",
       "      <td>217</td>\n",
       "      <td>19</td>\n",
       "      <td>4</td>\n",
       "      <td>83</td>\n",
       "    </tr>\n",
       "    <tr>\n",
       "      <th>1</th>\n",
       "      <td>2</td>\n",
       "      <td>Love The Way You Lie</td>\n",
       "      <td>Eminem</td>\n",
       "      <td>detroit hip hop</td>\n",
       "      <td>2010</td>\n",
       "      <td>87</td>\n",
       "      <td>93</td>\n",
       "      <td>75</td>\n",
       "      <td>-5</td>\n",
       "      <td>52</td>\n",
       "      <td>64</td>\n",
       "      <td>263</td>\n",
       "      <td>24</td>\n",
       "      <td>23</td>\n",
       "      <td>82</td>\n",
       "    </tr>\n",
       "    <tr>\n",
       "      <th>2</th>\n",
       "      <td>3</td>\n",
       "      <td>TiK ToK</td>\n",
       "      <td>Kesha</td>\n",
       "      <td>dance pop</td>\n",
       "      <td>2010</td>\n",
       "      <td>120</td>\n",
       "      <td>84</td>\n",
       "      <td>76</td>\n",
       "      <td>-3</td>\n",
       "      <td>29</td>\n",
       "      <td>71</td>\n",
       "      <td>200</td>\n",
       "      <td>10</td>\n",
       "      <td>14</td>\n",
       "      <td>80</td>\n",
       "    </tr>\n",
       "    <tr>\n",
       "      <th>3</th>\n",
       "      <td>4</td>\n",
       "      <td>Bad Romance</td>\n",
       "      <td>Lady Gaga</td>\n",
       "      <td>dance pop</td>\n",
       "      <td>2010</td>\n",
       "      <td>119</td>\n",
       "      <td>92</td>\n",
       "      <td>70</td>\n",
       "      <td>-4</td>\n",
       "      <td>8</td>\n",
       "      <td>71</td>\n",
       "      <td>295</td>\n",
       "      <td>0</td>\n",
       "      <td>4</td>\n",
       "      <td>79</td>\n",
       "    </tr>\n",
       "    <tr>\n",
       "      <th>4</th>\n",
       "      <td>5</td>\n",
       "      <td>Just the Way You Are</td>\n",
       "      <td>Bruno Mars</td>\n",
       "      <td>pop</td>\n",
       "      <td>2010</td>\n",
       "      <td>109</td>\n",
       "      <td>84</td>\n",
       "      <td>64</td>\n",
       "      <td>-5</td>\n",
       "      <td>9</td>\n",
       "      <td>43</td>\n",
       "      <td>221</td>\n",
       "      <td>2</td>\n",
       "      <td>4</td>\n",
       "      <td>78</td>\n",
       "    </tr>\n",
       "  </tbody>\n",
       "</table>\n",
       "</div>"
      ],
      "text/plain": [
       "   Unnamed: 0                 title      artist        top genre  year  bpm  \\\n",
       "0           1      Hey, Soul Sister       Train       neo mellow  2010   97   \n",
       "1           2  Love The Way You Lie      Eminem  detroit hip hop  2010   87   \n",
       "2           3               TiK ToK       Kesha        dance pop  2010  120   \n",
       "3           4           Bad Romance   Lady Gaga        dance pop  2010  119   \n",
       "4           5  Just the Way You Are  Bruno Mars              pop  2010  109   \n",
       "\n",
       "   nrgy  dnce  dB  live  val  dur  acous  spch  pop  \n",
       "0    89    67  -4     8   80  217     19     4   83  \n",
       "1    93    75  -5    52   64  263     24    23   82  \n",
       "2    84    76  -3    29   71  200     10    14   80  \n",
       "3    92    70  -4     8   71  295      0     4   79  \n",
       "4    84    64  -5     9   43  221      2     4   78  "
      ]
     },
     "execution_count": 2,
     "metadata": {},
     "output_type": "execute_result"
    }
   ],
   "source": [
    "spotify = pd.read_csv('top10s.csv', encoding_errors='replace')\n",
    "spotify.head()"
   ]
  },
  {
   "cell_type": "code",
   "execution_count": 3,
   "id": "ae3a61a6-f7dc-4a93-952a-75810c2c6227",
   "metadata": {},
   "outputs": [
    {
     "name": "stdout",
     "output_type": "stream",
     "text": [
      "(603, 15)\n"
     ]
    },
    {
     "data": {
      "text/plain": [
       "(603, 15)"
      ]
     },
     "execution_count": 3,
     "metadata": {},
     "output_type": "execute_result"
    }
   ],
   "source": [
    "print(spotify.shape)\n",
    "spotify.shape"
   ]
  },
  {
   "cell_type": "code",
   "execution_count": 4,
   "id": "ac592f29-5f7b-41ef-bc0c-5240ab27a4fc",
   "metadata": {},
   "outputs": [],
   "source": [
    "test = spotify.sample(frac=0.2, axis=0)\n",
    "train = spotify.drop(index=test.index)"
   ]
  },
  {
   "cell_type": "code",
   "execution_count": 48,
   "id": "5c4002ed-a334-43df-b80d-24b48218dcb9",
   "metadata": {},
   "outputs": [],
   "source": [
    "Xtrain = train[['year','bpm', 'nrgy','dnce', 'dB', 'live', 'val', 'dur', 'acous', 'spch']]\n",
    "Xtrain = (Xtrain-Xtrain.mean())/Xtrain.std()\n",
    "#Xtrain = pd.get_dummies(data=Xtrain, drop_first=True)\n",
    "ytrain = train[['pop']]\n",
    "ytrain = (ytrain-ytrain.mean())/ytrain.std()"
   ]
  },
  {
   "cell_type": "code",
   "execution_count": 49,
   "id": "73c7a022-c63b-4211-8e9f-bd3405424191",
   "metadata": {},
   "outputs": [
    {
     "data": {
      "text/plain": [
       "(482, 10)"
      ]
     },
     "execution_count": 49,
     "metadata": {},
     "output_type": "execute_result"
    }
   ],
   "source": [
    "Xtrain.shape"
   ]
  },
  {
   "cell_type": "code",
   "execution_count": 8,
   "id": "44a6e85f-0e4a-4a56-96e4-dbd48bf1ad99",
   "metadata": {},
   "outputs": [
    {
     "data": {
      "text/html": [
       "<div>\n",
       "<style scoped>\n",
       "    .dataframe tbody tr th:only-of-type {\n",
       "        vertical-align: middle;\n",
       "    }\n",
       "\n",
       "    .dataframe tbody tr th {\n",
       "        vertical-align: top;\n",
       "    }\n",
       "\n",
       "    .dataframe thead th {\n",
       "        text-align: right;\n",
       "    }\n",
       "</style>\n",
       "<table border=\"1\" class=\"dataframe\">\n",
       "  <thead>\n",
       "    <tr style=\"text-align: right;\">\n",
       "      <th></th>\n",
       "      <th>pop</th>\n",
       "    </tr>\n",
       "  </thead>\n",
       "  <tbody>\n",
       "    <tr>\n",
       "      <th>0</th>\n",
       "      <td>1.108680</td>\n",
       "    </tr>\n",
       "    <tr>\n",
       "      <th>1</th>\n",
       "      <td>1.040204</td>\n",
       "    </tr>\n",
       "    <tr>\n",
       "      <th>2</th>\n",
       "      <td>0.903253</td>\n",
       "    </tr>\n",
       "    <tr>\n",
       "      <th>4</th>\n",
       "      <td>0.766302</td>\n",
       "    </tr>\n",
       "    <tr>\n",
       "      <th>6</th>\n",
       "      <td>0.697826</td>\n",
       "    </tr>\n",
       "    <tr>\n",
       "      <th>...</th>\n",
       "      <td>...</td>\n",
       "    </tr>\n",
       "    <tr>\n",
       "      <th>597</th>\n",
       "      <td>0.629351</td>\n",
       "    </tr>\n",
       "    <tr>\n",
       "      <th>598</th>\n",
       "      <td>0.560875</td>\n",
       "    </tr>\n",
       "    <tr>\n",
       "      <th>599</th>\n",
       "      <td>0.560875</td>\n",
       "    </tr>\n",
       "    <tr>\n",
       "      <th>600</th>\n",
       "      <td>0.218497</td>\n",
       "    </tr>\n",
       "    <tr>\n",
       "      <th>601</th>\n",
       "      <td>0.150021</td>\n",
       "    </tr>\n",
       "  </tbody>\n",
       "</table>\n",
       "<p>482 rows × 1 columns</p>\n",
       "</div>"
      ],
      "text/plain": [
       "          pop\n",
       "0    1.108680\n",
       "1    1.040204\n",
       "2    0.903253\n",
       "4    0.766302\n",
       "6    0.697826\n",
       "..        ...\n",
       "597  0.629351\n",
       "598  0.560875\n",
       "599  0.560875\n",
       "600  0.218497\n",
       "601  0.150021\n",
       "\n",
       "[482 rows x 1 columns]"
      ]
     },
     "execution_count": 8,
     "metadata": {},
     "output_type": "execute_result"
    }
   ],
   "source": [
    "ytrain"
   ]
  },
  {
   "cell_type": "markdown",
   "id": "d69d4a99-0b8b-44ba-8797-3e441c285bb6",
   "metadata": {},
   "source": [
    "## Best Subset Selection"
   ]
  },
  {
   "cell_type": "code",
   "execution_count": 9,
   "id": "856910ce-5250-497b-9769-928ac4619b60",
   "metadata": {},
   "outputs": [],
   "source": [
    "def processSubset(X, y, predictor_variables, response_variable):\n",
    "    # Fit model on feature_set and calculate RSS\n",
    "    \n",
    "    model = sm.OLS(y,X[list(predictor_variables)])\n",
    "    regr = model.fit()\n",
    "    RSS = ((regr.predict(X[list(predictor_variables)]) - y[response_variable]) ** 2).sum()\n",
    "    return {\"model\":regr, \"RSS\":RSS}"
   ]
  },
  {
   "cell_type": "code",
   "execution_count": 10,
   "id": "99d2b117-184d-4fbc-bdd1-e3ee3dd500b4",
   "metadata": {
    "scrolled": true,
    "tags": []
   },
   "outputs": [
    {
     "name": "stdout",
     "output_type": "stream",
     "text": [
      "('year', 'bpm')\n",
      "('year', 'nrgy')\n",
      "('year', 'dnce')\n",
      "('year', 'dB')\n",
      "('year', 'live')\n",
      "('year', 'val')\n",
      "('year', 'dur')\n",
      "('year', 'acous')\n",
      "('year', 'spch')\n",
      "('bpm', 'nrgy')\n",
      "('bpm', 'dnce')\n",
      "('bpm', 'dB')\n",
      "('bpm', 'live')\n",
      "('bpm', 'val')\n",
      "('bpm', 'dur')\n",
      "('bpm', 'acous')\n",
      "('bpm', 'spch')\n",
      "('nrgy', 'dnce')\n",
      "('nrgy', 'dB')\n",
      "('nrgy', 'live')\n",
      "('nrgy', 'val')\n",
      "('nrgy', 'dur')\n",
      "('nrgy', 'acous')\n",
      "('nrgy', 'spch')\n",
      "('dnce', 'dB')\n",
      "('dnce', 'live')\n",
      "('dnce', 'val')\n",
      "('dnce', 'dur')\n",
      "('dnce', 'acous')\n",
      "('dnce', 'spch')\n",
      "('dB', 'live')\n",
      "('dB', 'val')\n",
      "('dB', 'dur')\n",
      "('dB', 'acous')\n",
      "('dB', 'spch')\n",
      "('live', 'val')\n",
      "('live', 'dur')\n",
      "('live', 'acous')\n",
      "('live', 'spch')\n",
      "('val', 'dur')\n",
      "('val', 'acous')\n",
      "('val', 'spch')\n",
      "('dur', 'acous')\n",
      "('dur', 'spch')\n",
      "('acous', 'spch')\n"
     ]
    }
   ],
   "source": [
    "k=2\n",
    "for combo in itertools.combinations(Xtrain.columns, k):\n",
    "    print(combo)"
   ]
  },
  {
   "cell_type": "code",
   "execution_count": 41,
   "id": "860fb97f-496d-40d3-8467-f901262e88ba",
   "metadata": {},
   "outputs": [],
   "source": [
    "total_to_fit = 0\n",
    "p = 54\n",
    "for k in range(1,55):\n",
    "    total_to_fit += binom(p,k)"
   ]
  },
  {
   "cell_type": "code",
   "execution_count": 47,
   "id": "9aeb0d6b-d31d-4ca6-9ff7-1f2b73b6b202",
   "metadata": {},
   "outputs": [
    {
     "data": {
      "text/plain": [
       "5332064.798046859"
      ]
     },
     "execution_count": 47,
     "metadata": {},
     "output_type": "execute_result"
    }
   ],
   "source": [
    "(total_to_fit*0.009334310850439882)/60/60/24/365"
   ]
  },
  {
   "cell_type": "code",
   "execution_count": 25,
   "id": "8e2046d4-0ae9-41ca-a932-f768d2105af6",
   "metadata": {},
   "outputs": [
    {
     "name": "stdout",
     "output_type": "stream",
     "text": [
      "Processed 45 models on 2 predictors in 0.2575829029083252 seconds.\n"
     ]
    }
   ],
   "source": [
    "t0 = time.time()\n",
    "k=2\n",
    "results = []\n",
    "\n",
    "for combo in itertools.combinations(Xtrain.columns, k):\n",
    "    results.append(processSubset(Xtrain, ytrain, combo, 'pop'))\n",
    "\n",
    "models = pd.DataFrame(results)\n",
    "\n",
    "best_model = models.loc[models['RSS'].argmin()]\n",
    "\n",
    "t1 = time.time()\n",
    "print(\"Processed\", models.shape[0], \"models on\", k, \"predictors in\", (t1-t0), \"seconds.\")"
   ]
  },
  {
   "cell_type": "code",
   "execution_count": 32,
   "id": "4e45146f-dca1-4873-97f6-f94a4e67ed8a",
   "metadata": {},
   "outputs": [],
   "source": [
    "def getBest(X, y, k, response_variable):\n",
    "    \n",
    "    t0 = time.time()\n",
    "    \n",
    "    results = []\n",
    "    \n",
    "    for combo in itertools.combinations(X.columns, k):\n",
    "        results.append(processSubset(X, y, combo, response_variable))\n",
    "    \n",
    "    # Wrap everything up in a nice dataframe\n",
    "    models = pd.DataFrame(results)\n",
    "    \n",
    "    # Choose the model with the lowest RSS\n",
    "    best_model = models.loc[models['RSS'].argmin()]\n",
    "    \n",
    "    t1 = time.time()\n",
    "    print(\"Processed\", models.shape[0], \"models on\", k, \"predictors in\", (t1-t0), \"seconds.\")\n",
    "    \n",
    "    # Return the best model, along with some other useful information about the model\n",
    "    return best_model"
   ]
  },
  {
   "cell_type": "code",
   "execution_count": 33,
   "id": "f5eabcb4-683e-4a06-af4c-6171032b27e2",
   "metadata": {
    "scrolled": true,
    "tags": []
   },
   "outputs": [
    {
     "name": "stdout",
     "output_type": "stream",
     "text": [
      "Processed 10 models on 1 predictors in 0.05345797538757324 seconds.\n",
      "Processed 45 models on 2 predictors in 0.2743411064147949 seconds.\n",
      "Processed 120 models on 3 predictors in 0.8571920394897461 seconds.\n",
      "Processed 210 models on 4 predictors in 1.992931842803955 seconds.\n",
      "Processed 252 models on 5 predictors in 2.6660938262939453 seconds.\n",
      "Processed 210 models on 6 predictors in 2.474297046661377 seconds.\n",
      "Processed 120 models on 7 predictors in 1.0413150787353516 seconds.\n",
      "Processed 45 models on 8 predictors in 0.13720178604125977 seconds.\n",
      "Processed 10 models on 9 predictors in 0.03389692306518555 seconds.\n",
      "Processed 1 models on 10 predictors in 0.002584218978881836 seconds.\n",
      "Total elapsed time: 9.549077987670898 seconds.\n"
     ]
    }
   ],
   "source": [
    "models_best = pd.DataFrame(columns=[\"RSS\", \"model\"])\n",
    "\n",
    "t2 = time.time()\n",
    "for i in range(1,11):\n",
    "    models_best.loc[i] = getBest(Xtrain, ytrain, i, 'pop')\n",
    "\n",
    "t3 = time.time()\n",
    "print(\"Total elapsed time:\", (t3-t2), \"seconds.\")"
   ]
  },
  {
   "cell_type": "code",
   "execution_count": 36,
   "id": "b1cc0cee-cd60-4547-ab77-c0f2e86979ee",
   "metadata": {},
   "outputs": [
    {
     "data": {
      "text/plain": [
       "163.12874999999997"
      ]
     },
     "execution_count": 36,
     "metadata": {},
     "output_type": "execute_result"
    }
   ],
   "source": [
    "(0.009334310850439882*1048575.0)/60"
   ]
  },
  {
   "cell_type": "markdown",
   "id": "48d647b7-9af0-437a-98b0-c0ff02a6f94a",
   "metadata": {},
   "source": [
    "**Check the time when we include top genre**"
   ]
  },
  {
   "cell_type": "markdown",
   "id": "74434463-6911-4e1c-a7c7-5429c827dad4",
   "metadata": {},
   "source": [
    "## Forward Stepwise Selection"
   ]
  },
  {
   "cell_type": "code",
   "execution_count": 50,
   "id": "b28d25ce-5a7b-4459-951e-576f7c423289",
   "metadata": {},
   "outputs": [],
   "source": [
    "def forward(X, y, predictors, response_variable):\n",
    "    \n",
    "    # Pull out predictors we still need to process\n",
    "    remaining_predictors = [p for p in X.columns if p not in predictors]\n",
    "    \n",
    "    t0 = time.time()\n",
    "    \n",
    "    results = []\n",
    "    \n",
    "    for p in remaining_predictors:\n",
    "        results.append(processSubset(X, y, predictors + [p], response_variable))\n",
    "    \n",
    "    # Wrap everything up in a nice dataframe\n",
    "    models = pd.DataFrame(results)\n",
    "    \n",
    "    # Choose the model with the lowest RSS\n",
    "    best_model = models.loc[models['RSS'].argmin()]\n",
    "    \n",
    "    t1 = time.time()\n",
    "    print(\"Processed \", models.shape[0], \"models on\", len(predictors)+1, \"predictors in\", (t1-t0), \"seconds.\")\n",
    "    \n",
    "    # Return the best model, along with some other useful information about the model\n",
    "    return best_model"
   ]
  },
  {
   "cell_type": "code",
   "execution_count": 51,
   "id": "c84d487e-312e-4edf-a648-bd153256bdc8",
   "metadata": {
    "scrolled": true,
    "tags": []
   },
   "outputs": [
    {
     "name": "stdout",
     "output_type": "stream",
     "text": [
      "Processed  10 models on 1 predictors in 0.05638313293457031 seconds.\n",
      "Processed  9 models on 2 predictors in 0.03910398483276367 seconds.\n",
      "Processed  8 models on 3 predictors in 0.042833805084228516 seconds.\n",
      "Processed  7 models on 4 predictors in 0.04838895797729492 seconds.\n",
      "Processed  6 models on 5 predictors in 0.08018302917480469 seconds.\n",
      "Processed  5 models on 6 predictors in 0.07096219062805176 seconds.\n",
      "Processed  4 models on 7 predictors in 0.039263010025024414 seconds.\n",
      "Processed  3 models on 8 predictors in 0.010027170181274414 seconds.\n",
      "Processed  2 models on 9 predictors in 0.005873918533325195 seconds.\n",
      "Processed  1 models on 10 predictors in 0.003397226333618164 seconds.\n",
      "Total elapsed time: 0.4163329601287842 seconds.\n"
     ]
    }
   ],
   "source": [
    "models_fwd = pd.DataFrame(columns=[\"RSS\", \"model\", \"AIC\", \"BIC\", \"AdjR2\"])\n",
    "\n",
    "t0 = time.time()\n",
    "predictors = []\n",
    "\n",
    "for i in range(1,len(Xtrain.columns)+1):    \n",
    "    models_fwd.loc[i] = forward(Xtrain, ytrain, predictors, 'pop')\n",
    "    predictors = models_fwd.loc[i][\"model\"].model.exog_names\n",
    "    models_fwd.loc[i, 'AIC'] = models_fwd.loc[i, 'model'].aic\n",
    "    models_fwd.loc[i, 'BIC'] = models_fwd.loc[i, 'model'].bic\n",
    "    models_fwd.loc[i, 'AdjR2'] = models_fwd.loc[i, 'model'].rsquared_adj\n",
    "    \n",
    "\n",
    "t1 = time.time()\n",
    "print(\"Total elapsed time:\", (t1-t0), \"seconds.\")"
   ]
  },
  {
   "cell_type": "code",
   "execution_count": 52,
   "id": "cf3163ef-1553-426f-9540-d39aba7e5caa",
   "metadata": {
    "scrolled": true,
    "tags": []
   },
   "outputs": [
    {
     "data": {
      "text/html": [
       "<div>\n",
       "<style scoped>\n",
       "    .dataframe tbody tr th:only-of-type {\n",
       "        vertical-align: middle;\n",
       "    }\n",
       "\n",
       "    .dataframe tbody tr th {\n",
       "        vertical-align: top;\n",
       "    }\n",
       "\n",
       "    .dataframe thead th {\n",
       "        text-align: right;\n",
       "    }\n",
       "</style>\n",
       "<table border=\"1\" class=\"dataframe\">\n",
       "  <thead>\n",
       "    <tr style=\"text-align: right;\">\n",
       "      <th></th>\n",
       "      <th>RSS</th>\n",
       "      <th>model</th>\n",
       "      <th>AIC</th>\n",
       "      <th>BIC</th>\n",
       "      <th>AdjR2</th>\n",
       "    </tr>\n",
       "  </thead>\n",
       "  <tbody>\n",
       "    <tr>\n",
       "      <th>1</th>\n",
       "      <td>443.326424</td>\n",
       "      <td>&lt;statsmodels.regression.linear_model.Regressio...</td>\n",
       "      <td>1329.543342</td>\n",
       "      <td>1333.721286</td>\n",
       "      <td>0.076407</td>\n",
       "    </tr>\n",
       "    <tr>\n",
       "      <th>2</th>\n",
       "      <td>420.294118</td>\n",
       "      <td>&lt;statsmodels.regression.linear_model.Regressio...</td>\n",
       "      <td>1305.827871</td>\n",
       "      <td>1314.183759</td>\n",
       "      <td>0.122567</td>\n",
       "    </tr>\n",
       "    <tr>\n",
       "      <th>3</th>\n",
       "      <td>411.325443</td>\n",
       "      <td>&lt;statsmodels.regression.linear_model.Regressio...</td>\n",
       "      <td>1297.431125</td>\n",
       "      <td>1309.964957</td>\n",
       "      <td>0.139498</td>\n",
       "    </tr>\n",
       "    <tr>\n",
       "      <th>4</th>\n",
       "      <td>404.149663</td>\n",
       "      <td>&lt;statsmodels.regression.linear_model.Regressio...</td>\n",
       "      <td>1290.94818</td>\n",
       "      <td>1307.659956</td>\n",
       "      <td>0.152741</td>\n",
       "    </tr>\n",
       "    <tr>\n",
       "      <th>5</th>\n",
       "      <td>402.648774</td>\n",
       "      <td>&lt;statsmodels.regression.linear_model.Regressio...</td>\n",
       "      <td>1291.154847</td>\n",
       "      <td>1312.044567</td>\n",
       "      <td>0.154118</td>\n",
       "    </tr>\n",
       "    <tr>\n",
       "      <th>6</th>\n",
       "      <td>401.747219</td>\n",
       "      <td>&lt;statsmodels.regression.linear_model.Regressio...</td>\n",
       "      <td>1292.074409</td>\n",
       "      <td>1317.142074</td>\n",
       "      <td>0.154239</td>\n",
       "    </tr>\n",
       "    <tr>\n",
       "      <th>7</th>\n",
       "      <td>401.37812</td>\n",
       "      <td>&lt;statsmodels.regression.linear_model.Regressio...</td>\n",
       "      <td>1293.631375</td>\n",
       "      <td>1322.876984</td>\n",
       "      <td>0.153237</td>\n",
       "    </tr>\n",
       "    <tr>\n",
       "      <th>8</th>\n",
       "      <td>401.139042</td>\n",
       "      <td>&lt;statsmodels.regression.linear_model.Regressio...</td>\n",
       "      <td>1295.344189</td>\n",
       "      <td>1328.767742</td>\n",
       "      <td>0.151956</td>\n",
       "    </tr>\n",
       "    <tr>\n",
       "      <th>9</th>\n",
       "      <td>400.951616</td>\n",
       "      <td>&lt;statsmodels.regression.linear_model.Regressio...</td>\n",
       "      <td>1297.11893</td>\n",
       "      <td>1334.720427</td>\n",
       "      <td>0.15056</td>\n",
       "    </tr>\n",
       "    <tr>\n",
       "      <th>10</th>\n",
       "      <td>400.827605</td>\n",
       "      <td>&lt;statsmodels.regression.linear_model.Regressio...</td>\n",
       "      <td>1298.969828</td>\n",
       "      <td>1340.74927</td>\n",
       "      <td>0.149023</td>\n",
       "    </tr>\n",
       "  </tbody>\n",
       "</table>\n",
       "</div>"
      ],
      "text/plain": [
       "           RSS                                              model  \\\n",
       "1   443.326424  <statsmodels.regression.linear_model.Regressio...   \n",
       "2   420.294118  <statsmodels.regression.linear_model.Regressio...   \n",
       "3   411.325443  <statsmodels.regression.linear_model.Regressio...   \n",
       "4   404.149663  <statsmodels.regression.linear_model.Regressio...   \n",
       "5   402.648774  <statsmodels.regression.linear_model.Regressio...   \n",
       "6   401.747219  <statsmodels.regression.linear_model.Regressio...   \n",
       "7    401.37812  <statsmodels.regression.linear_model.Regressio...   \n",
       "8   401.139042  <statsmodels.regression.linear_model.Regressio...   \n",
       "9   400.951616  <statsmodels.regression.linear_model.Regressio...   \n",
       "10  400.827605  <statsmodels.regression.linear_model.Regressio...   \n",
       "\n",
       "            AIC          BIC     AdjR2  \n",
       "1   1329.543342  1333.721286  0.076407  \n",
       "2   1305.827871  1314.183759  0.122567  \n",
       "3   1297.431125  1309.964957  0.139498  \n",
       "4    1290.94818  1307.659956  0.152741  \n",
       "5   1291.154847  1312.044567  0.154118  \n",
       "6   1292.074409  1317.142074  0.154239  \n",
       "7   1293.631375  1322.876984  0.153237  \n",
       "8   1295.344189  1328.767742  0.151956  \n",
       "9    1297.11893  1334.720427   0.15056  \n",
       "10  1298.969828   1340.74927  0.149023  "
      ]
     },
     "execution_count": 52,
     "metadata": {},
     "output_type": "execute_result"
    }
   ],
   "source": [
    "models_fwd "
   ]
  },
  {
   "cell_type": "code",
   "execution_count": 60,
   "id": "29f3e8db-d474-441f-81a3-8b14458f180f",
   "metadata": {},
   "outputs": [
    {
     "name": "stdout",
     "output_type": "stream",
     "text": [
      "4\n"
     ]
    },
    {
     "data": {
      "text/plain": [
       "[<matplotlib.lines.Line2D at 0x7fc1903bc6a0>]"
      ]
     },
     "execution_count": 60,
     "metadata": {},
     "output_type": "execute_result"
    },
    {
     "data": {
      "image/png": "[encoded data removed]",
      "text/plain": [
       "<Figure size 432x288 with 1 Axes>"
      ]
     },
     "metadata": {
      "needs_background": "light"
     },
     "output_type": "display_data"
    }
   ],
   "source": [
    "print(np.argmin(models_fwd['AIC']) + 1)\n",
    "plt.plot(np.arange(len(models_fwd)) + 1,models_fwd['AIC'])"
   ]
  },
  {
   "cell_type": "code",
   "execution_count": 61,
   "id": "2548193b-7db5-4ccd-97c0-3cf4cb2b2dc7",
   "metadata": {},
   "outputs": [
    {
     "name": "stdout",
     "output_type": "stream",
     "text": [
      "4\n"
     ]
    },
    {
     "data": {
      "text/plain": [
       "[<matplotlib.lines.Line2D at 0x7fc1c8520610>]"
      ]
     },
     "execution_count": 61,
     "metadata": {},
     "output_type": "execute_result"
    },
    {
     "data": {
      "image/png": "[encoded data removed]",
      "text/plain": [
       "<Figure size 432x288 with 1 Axes>"
      ]
     },
     "metadata": {
      "needs_background": "light"
     },
     "output_type": "display_data"
    }
   ],
   "source": [
    "print(np.argmin(models_fwd['BIC']) + 1)\n",
    "plt.plot(np.arange(len(models_fwd)) + 1,models_fwd['BIC'])"
   ]
  },
  {
   "cell_type": "code",
   "execution_count": 62,
   "id": "42faaa50-8567-4d46-9693-fd5e496fe7d7",
   "metadata": {},
   "outputs": [
    {
     "name": "stdout",
     "output_type": "stream",
     "text": [
      "6\n"
     ]
    },
    {
     "data": {
      "text/plain": [
       "[<matplotlib.lines.Line2D at 0x7fc1680d64c0>]"
      ]
     },
     "execution_count": 62,
     "metadata": {},
     "output_type": "execute_result"
    },
    {
     "data": {
      "image/png": "[encoded data removed]",
      "text/plain": [
       "<Figure size 432x288 with 1 Axes>"
      ]
     },
     "metadata": {
      "needs_background": "light"
     },
     "output_type": "display_data"
    }
   ],
   "source": [
    "print(np.argmax(models_fwd['AdjR2'])+ 1)\n",
    "plt.plot(np.arange(len(models_fwd)) + 1,models_fwd['AdjR2'])"
   ]
  },
  {
   "cell_type": "code",
   "execution_count": 63,
   "id": "acbc17e8-fd5c-42e2-9667-ccb056e89367",
   "metadata": {},
   "outputs": [
    {
     "data": {
      "text/html": [
       "<table class=\"simpletable\">\n",
       "<caption>OLS Regression Results</caption>\n",
       "<tr>\n",
       "  <th>Dep. Variable:</th>           <td>pop</td>       <th>  R-squared (uncentered):</th>      <td>   0.160</td>\n",
       "</tr>\n",
       "<tr>\n",
       "  <th>Model:</th>                   <td>OLS</td>       <th>  Adj. R-squared (uncentered):</th> <td>   0.153</td>\n",
       "</tr>\n",
       "<tr>\n",
       "  <th>Method:</th>             <td>Least Squares</td>  <th>  F-statistic:       </th>          <td>   22.72</td>\n",
       "</tr>\n",
       "<tr>\n",
       "  <th>Date:</th>             <td>Mon, 30 May 2022</td> <th>  Prob (F-statistic):</th>          <td>3.34e-17</td>\n",
       "</tr>\n",
       "<tr>\n",
       "  <th>Time:</th>                 <td>12:02:58</td>     <th>  Log-Likelihood:    </th>          <td> -641.47</td>\n",
       "</tr>\n",
       "<tr>\n",
       "  <th>No. Observations:</th>      <td>   482</td>      <th>  AIC:               </th>          <td>   1291.</td>\n",
       "</tr>\n",
       "<tr>\n",
       "  <th>Df Residuals:</th>          <td>   478</td>      <th>  BIC:               </th>          <td>   1308.</td>\n",
       "</tr>\n",
       "<tr>\n",
       "  <th>Df Model:</th>              <td>     4</td>      <th>                     </th>              <td> </td>   \n",
       "</tr>\n",
       "<tr>\n",
       "  <th>Covariance Type:</th>      <td>nonrobust</td>    <th>                     </th>              <td> </td>   \n",
       "</tr>\n",
       "</table>\n",
       "<table class=\"simpletable\">\n",
       "<tr>\n",
       "    <td></td>      <th>coef</th>     <th>std err</th>      <th>t</th>      <th>P>|t|</th>  <th>[0.025</th>    <th>0.975]</th>  \n",
       "</tr>\n",
       "<tr>\n",
       "  <th>year</th> <td>    0.2813</td> <td>    0.043</td> <td>    6.564</td> <td> 0.000</td> <td>    0.197</td> <td>    0.366</td>\n",
       "</tr>\n",
       "<tr>\n",
       "  <th>dB</th>   <td>    0.2884</td> <td>    0.049</td> <td>    5.859</td> <td> 0.000</td> <td>    0.192</td> <td>    0.385</td>\n",
       "</tr>\n",
       "<tr>\n",
       "  <th>nrgy</th> <td>   -0.2100</td> <td>    0.052</td> <td>   -4.004</td> <td> 0.000</td> <td>   -0.313</td> <td>   -0.107</td>\n",
       "</tr>\n",
       "<tr>\n",
       "  <th>val</th>  <td>    0.1345</td> <td>    0.046</td> <td>    2.913</td> <td> 0.004</td> <td>    0.044</td> <td>    0.225</td>\n",
       "</tr>\n",
       "</table>\n",
       "<table class=\"simpletable\">\n",
       "<tr>\n",
       "  <th>Omnibus:</th>       <td>136.325</td> <th>  Durbin-Watson:     </th> <td>   0.532</td>\n",
       "</tr>\n",
       "<tr>\n",
       "  <th>Prob(Omnibus):</th> <td> 0.000</td>  <th>  Jarque-Bera (JB):  </th> <td> 355.892</td>\n",
       "</tr>\n",
       "<tr>\n",
       "  <th>Skew:</th>          <td>-1.393</td>  <th>  Prob(JB):          </th> <td>5.24e-78</td>\n",
       "</tr>\n",
       "<tr>\n",
       "  <th>Kurtosis:</th>      <td> 6.155</td>  <th>  Cond. No.          </th> <td>    2.05</td>\n",
       "</tr>\n",
       "</table><br/><br/>Notes:<br/>[1] R² is computed without centering (uncentered) since the model does not contain a constant.<br/>[2] Standard Errors assume that the covariance matrix of the errors is correctly specified."
      ],
      "text/plain": [
       "<class 'statsmodels.iolib.summary.Summary'>\n",
       "\"\"\"\n",
       "                                 OLS Regression Results                                \n",
       "=======================================================================================\n",
       "Dep. Variable:                    pop   R-squared (uncentered):                   0.160\n",
       "Model:                            OLS   Adj. R-squared (uncentered):              0.153\n",
       "Method:                 Least Squares   F-statistic:                              22.72\n",
       "Date:                Mon, 30 May 2022   Prob (F-statistic):                    3.34e-17\n",
       "Time:                        12:02:58   Log-Likelihood:                         -641.47\n",
       "No. Observations:                 482   AIC:                                      1291.\n",
       "Df Residuals:                     478   BIC:                                      1308.\n",
       "Df Model:                           4                                                  \n",
       "Covariance Type:            nonrobust                                                  \n",
       "==============================================================================\n",
       "                 coef    std err          t      P>|t|      [0.025      0.975]\n",
       "------------------------------------------------------------------------------\n",
       "year           0.2813      0.043      6.564      0.000       0.197       0.366\n",
       "dB             0.2884      0.049      5.859      0.000       0.192       0.385\n",
       "nrgy          -0.2100      0.052     -4.004      0.000      -0.313      -0.107\n",
       "val            0.1345      0.046      2.913      0.004       0.044       0.225\n",
       "==============================================================================\n",
       "Omnibus:                      136.325   Durbin-Watson:                   0.532\n",
       "Prob(Omnibus):                  0.000   Jarque-Bera (JB):              355.892\n",
       "Skew:                          -1.393   Prob(JB):                     5.24e-78\n",
       "Kurtosis:                       6.155   Cond. No.                         2.05\n",
       "==============================================================================\n",
       "\n",
       "Notes:\n",
       "[1] R² is computed without centering (uncentered) since the model does not contain a constant.\n",
       "[2] Standard Errors assume that the covariance matrix of the errors is correctly specified.\n",
       "\"\"\""
      ]
     },
     "execution_count": 63,
     "metadata": {},
     "output_type": "execute_result"
    }
   ],
   "source": [
    "models_fwd.loc[np.argmin(models_fwd['AIC']) + 1,'model'].summary()"
   ]
  },
  {
   "cell_type": "markdown",
   "id": "746399c5-2522-4836-b570-706cdbc55975",
   "metadata": {},
   "source": [
    "## Backward Stepwise Selection"
   ]
  },
  {
   "cell_type": "code",
   "execution_count": 64,
   "id": "1e54da7e-9102-48c0-b7b6-cc42dbcc1277",
   "metadata": {},
   "outputs": [],
   "source": [
    "def backward(X, y, predictors, response_variable):\n",
    "    \n",
    "    t0 = time.time()\n",
    "    \n",
    "    results = []\n",
    "    \n",
    "    for combo in itertools.combinations(predictors, len(predictors)-1):\n",
    "        results.append(processSubset(X, y, combo, response_variable))\n",
    "    \n",
    "    # Wrap everything up in a nice dataframe\n",
    "    models = pd.DataFrame(results)\n",
    "    \n",
    "    # Choose the model with the lowest RSS\n",
    "    best_model = models.loc[models['RSS'].argmin()]\n",
    "    \n",
    "    t1 = time.time()\n",
    "    print(\"Processed \", models.shape[0], \"models on\", len(predictors)-1, \"predictors in\", (t1-t0), \"seconds.\")\n",
    "    \n",
    "    # Return the best model, along with some other useful information about the model\n",
    "    return best_model"
   ]
  },
  {
   "cell_type": "code",
   "execution_count": 65,
   "id": "c29271fc-4949-4e36-82bc-f0540bd7b190",
   "metadata": {},
   "outputs": [
    {
     "name": "stdout",
     "output_type": "stream",
     "text": [
      "Processed  10 models on 9 predictors in 0.036519765853881836 seconds.\n",
      "Processed  9 models on 8 predictors in 0.032872915267944336 seconds.\n",
      "Processed  8 models on 7 predictors in 0.05444502830505371 seconds.\n",
      "Processed  7 models on 6 predictors in 0.06873512268066406 seconds.\n",
      "Processed  6 models on 5 predictors in 0.06589388847351074 seconds.\n",
      "Processed  5 models on 4 predictors in 0.038968801498413086 seconds.\n",
      "Processed  4 models on 3 predictors in 0.024042129516601562 seconds.\n",
      "Processed  3 models on 2 predictors in 0.014646768569946289 seconds.\n",
      "Processed  2 models on 1 predictors in 0.008575916290283203 seconds.\n",
      "Total elapsed time: 0.3565833568572998 seconds.\n"
     ]
    }
   ],
   "source": [
    "models_bwd = pd.DataFrame(columns=[\"RSS\", \"model\"], index = range(1,len(Xtrain.columns)))\n",
    "\n",
    "t2 = time.time()\n",
    "predictors = Xtrain.columns\n",
    "\n",
    "j = 0\n",
    "while(len(predictors) > 1): \n",
    "    i = len(predictors)-1\n",
    "    models_bwd.loc[i] = backward(Xtrain, ytrain, predictors, 'pop')\n",
    "    predictors = models_bwd.loc[i][\"model\"].model.exog_names\n",
    "    models_bwd.loc[i, 'AIC'] = models_bwd.loc[i, 'model'].aic\n",
    "    models_bwd.loc[i, 'BIC'] = models_bwd.loc[i, 'model'].bic\n",
    "    models_bwd.loc[i, 'AdjR2'] = models_bwd.loc[i, 'model'].rsquared_adj\n",
    "    if j == 1000000:\n",
    "        break\n",
    "    j+=1\n",
    "\n",
    "t3 = time.time()\n",
    "print(\"Total elapsed time:\", (t3-t2), \"seconds.\")"
   ]
  },
  {
   "cell_type": "code",
   "execution_count": 66,
   "id": "92f51caa-a381-4b61-a2bd-cdce7b091b58",
   "metadata": {},
   "outputs": [
    {
     "data": {
      "text/html": [
       "<div>\n",
       "<style scoped>\n",
       "    .dataframe tbody tr th:only-of-type {\n",
       "        vertical-align: middle;\n",
       "    }\n",
       "\n",
       "    .dataframe tbody tr th {\n",
       "        vertical-align: top;\n",
       "    }\n",
       "\n",
       "    .dataframe thead th {\n",
       "        text-align: right;\n",
       "    }\n",
       "</style>\n",
       "<table border=\"1\" class=\"dataframe\">\n",
       "  <thead>\n",
       "    <tr style=\"text-align: right;\">\n",
       "      <th></th>\n",
       "      <th>RSS</th>\n",
       "      <th>model</th>\n",
       "      <th>AIC</th>\n",
       "      <th>BIC</th>\n",
       "      <th>AdjR2</th>\n",
       "    </tr>\n",
       "  </thead>\n",
       "  <tbody>\n",
       "    <tr>\n",
       "      <th>1</th>\n",
       "      <td>443.326424</td>\n",
       "      <td>&lt;statsmodels.regression.linear_model.Regressio...</td>\n",
       "      <td>1329.543342</td>\n",
       "      <td>1333.721286</td>\n",
       "      <td>0.076407</td>\n",
       "    </tr>\n",
       "    <tr>\n",
       "      <th>2</th>\n",
       "      <td>420.294118</td>\n",
       "      <td>&lt;statsmodels.regression.linear_model.Regressio...</td>\n",
       "      <td>1305.827871</td>\n",
       "      <td>1314.183759</td>\n",
       "      <td>0.122567</td>\n",
       "    </tr>\n",
       "    <tr>\n",
       "      <th>3</th>\n",
       "      <td>411.325443</td>\n",
       "      <td>&lt;statsmodels.regression.linear_model.Regressio...</td>\n",
       "      <td>1297.431125</td>\n",
       "      <td>1309.964957</td>\n",
       "      <td>0.139498</td>\n",
       "    </tr>\n",
       "    <tr>\n",
       "      <th>4</th>\n",
       "      <td>404.149663</td>\n",
       "      <td>&lt;statsmodels.regression.linear_model.Regressio...</td>\n",
       "      <td>1290.948180</td>\n",
       "      <td>1307.659956</td>\n",
       "      <td>0.152741</td>\n",
       "    </tr>\n",
       "    <tr>\n",
       "      <th>5</th>\n",
       "      <td>402.648774</td>\n",
       "      <td>&lt;statsmodels.regression.linear_model.Regressio...</td>\n",
       "      <td>1291.154847</td>\n",
       "      <td>1312.044567</td>\n",
       "      <td>0.154118</td>\n",
       "    </tr>\n",
       "    <tr>\n",
       "      <th>6</th>\n",
       "      <td>401.747219</td>\n",
       "      <td>&lt;statsmodels.regression.linear_model.Regressio...</td>\n",
       "      <td>1292.074409</td>\n",
       "      <td>1317.142074</td>\n",
       "      <td>0.154239</td>\n",
       "    </tr>\n",
       "    <tr>\n",
       "      <th>7</th>\n",
       "      <td>401.37812</td>\n",
       "      <td>&lt;statsmodels.regression.linear_model.Regressio...</td>\n",
       "      <td>1293.631375</td>\n",
       "      <td>1322.876984</td>\n",
       "      <td>0.153237</td>\n",
       "    </tr>\n",
       "    <tr>\n",
       "      <th>8</th>\n",
       "      <td>401.139042</td>\n",
       "      <td>&lt;statsmodels.regression.linear_model.Regressio...</td>\n",
       "      <td>1295.344189</td>\n",
       "      <td>1328.767742</td>\n",
       "      <td>0.151956</td>\n",
       "    </tr>\n",
       "    <tr>\n",
       "      <th>9</th>\n",
       "      <td>400.951616</td>\n",
       "      <td>&lt;statsmodels.regression.linear_model.Regressio...</td>\n",
       "      <td>1297.118930</td>\n",
       "      <td>1334.720427</td>\n",
       "      <td>0.150560</td>\n",
       "    </tr>\n",
       "  </tbody>\n",
       "</table>\n",
       "</div>"
      ],
      "text/plain": [
       "          RSS                                              model          AIC  \\\n",
       "1  443.326424  <statsmodels.regression.linear_model.Regressio...  1329.543342   \n",
       "2  420.294118  <statsmodels.regression.linear_model.Regressio...  1305.827871   \n",
       "3  411.325443  <statsmodels.regression.linear_model.Regressio...  1297.431125   \n",
       "4  404.149663  <statsmodels.regression.linear_model.Regressio...  1290.948180   \n",
       "5  402.648774  <statsmodels.regression.linear_model.Regressio...  1291.154847   \n",
       "6  401.747219  <statsmodels.regression.linear_model.Regressio...  1292.074409   \n",
       "7   401.37812  <statsmodels.regression.linear_model.Regressio...  1293.631375   \n",
       "8  401.139042  <statsmodels.regression.linear_model.Regressio...  1295.344189   \n",
       "9  400.951616  <statsmodels.regression.linear_model.Regressio...  1297.118930   \n",
       "\n",
       "           BIC     AdjR2  \n",
       "1  1333.721286  0.076407  \n",
       "2  1314.183759  0.122567  \n",
       "3  1309.964957  0.139498  \n",
       "4  1307.659956  0.152741  \n",
       "5  1312.044567  0.154118  \n",
       "6  1317.142074  0.154239  \n",
       "7  1322.876984  0.153237  \n",
       "8  1328.767742  0.151956  \n",
       "9  1334.720427  0.150560  "
      ]
     },
     "execution_count": 66,
     "metadata": {},
     "output_type": "execute_result"
    }
   ],
   "source": [
    "models_bwd"
   ]
  },
  {
   "cell_type": "code",
   "execution_count": 74,
   "id": "19ad1563-2e93-4857-b09d-c3dbde9f8add",
   "metadata": {},
   "outputs": [
    {
     "name": "stdout",
     "output_type": "stream",
     "text": [
      "4\n"
     ]
    },
    {
     "data": {
      "text/plain": [
       "[<matplotlib.lines.Line2D at 0x7fc1905ff940>]"
      ]
     },
     "execution_count": 74,
     "metadata": {},
     "output_type": "execute_result"
    },
    {
     "data": {
      "image/png": "[encoded data removed]",
      "text/plain": [
       "<Figure size 432x288 with 1 Axes>"
      ]
     },
     "metadata": {
      "needs_background": "light"
     },
     "output_type": "display_data"
    }
   ],
   "source": [
    "print(np.argmin(models_bwd['AIC']) + 1)\n",
    "plt.plot(np.arange(len(models_bwd)) + 1,models_bwd['AIC'])"
   ]
  },
  {
   "cell_type": "code",
   "execution_count": 75,
   "id": "cffa9139-121d-482e-ab29-8be04c1f7fe6",
   "metadata": {},
   "outputs": [
    {
     "name": "stdout",
     "output_type": "stream",
     "text": [
      "4\n"
     ]
    },
    {
     "data": {
      "text/plain": [
       "[<matplotlib.lines.Line2D at 0x7fc15859fd60>]"
      ]
     },
     "execution_count": 75,
     "metadata": {},
     "output_type": "execute_result"
    },
    {
     "data": {
      "image/png": "[encoded data removed]",
      "text/plain": [
       "<Figure size 432x288 with 1 Axes>"
      ]
     },
     "metadata": {
      "needs_background": "light"
     },
     "output_type": "display_data"
    }
   ],
   "source": [
    "print(np.argmin(models_bwd['BIC']) + 1)\n",
    "plt.plot(np.arange(len(models_bwd)) + 1,models_bwd['BIC'])"
   ]
  },
  {
   "cell_type": "code",
   "execution_count": 73,
   "id": "97db56e5-49a7-443c-ba2b-e279477b9e96",
   "metadata": {},
   "outputs": [
    {
     "name": "stdout",
     "output_type": "stream",
     "text": [
      "6\n"
     ]
    },
    {
     "data": {
      "text/plain": [
       "[<matplotlib.lines.Line2D at 0x7fc1905f0b80>]"
      ]
     },
     "execution_count": 73,
     "metadata": {},
     "output_type": "execute_result"
    },
    {
     "data": {
      "image/png": "[encoded data removed]",
      "text/plain": [
       "<Figure size 432x288 with 1 Axes>"
      ]
     },
     "metadata": {
      "needs_background": "light"
     },
     "output_type": "display_data"
    }
   ],
   "source": [
    "print(np.argmax(models_bwd['AdjR2']) + 1)\n",
    "plt.plot(np.arange(len(models_bwd)) + 1,models_bwd['AdjR2'])"
   ]
  },
  {
   "cell_type": "code",
   "execution_count": 77,
   "id": "fdb8561c-add8-4776-b657-e2fe584d1876",
   "metadata": {},
   "outputs": [
    {
     "data": {
      "text/html": [
       "<table class=\"simpletable\">\n",
       "<caption>OLS Regression Results</caption>\n",
       "<tr>\n",
       "  <th>Dep. Variable:</th>           <td>pop</td>       <th>  R-squared (uncentered):</th>      <td>   0.160</td>\n",
       "</tr>\n",
       "<tr>\n",
       "  <th>Model:</th>                   <td>OLS</td>       <th>  Adj. R-squared (uncentered):</th> <td>   0.153</td>\n",
       "</tr>\n",
       "<tr>\n",
       "  <th>Method:</th>             <td>Least Squares</td>  <th>  F-statistic:       </th>          <td>   22.72</td>\n",
       "</tr>\n",
       "<tr>\n",
       "  <th>Date:</th>             <td>Mon, 30 May 2022</td> <th>  Prob (F-statistic):</th>          <td>3.34e-17</td>\n",
       "</tr>\n",
       "<tr>\n",
       "  <th>Time:</th>                 <td>12:11:48</td>     <th>  Log-Likelihood:    </th>          <td> -641.47</td>\n",
       "</tr>\n",
       "<tr>\n",
       "  <th>No. Observations:</th>      <td>   482</td>      <th>  AIC:               </th>          <td>   1291.</td>\n",
       "</tr>\n",
       "<tr>\n",
       "  <th>Df Residuals:</th>          <td>   478</td>      <th>  BIC:               </th>          <td>   1308.</td>\n",
       "</tr>\n",
       "<tr>\n",
       "  <th>Df Model:</th>              <td>     4</td>      <th>                     </th>              <td> </td>   \n",
       "</tr>\n",
       "<tr>\n",
       "  <th>Covariance Type:</th>      <td>nonrobust</td>    <th>                     </th>              <td> </td>   \n",
       "</tr>\n",
       "</table>\n",
       "<table class=\"simpletable\">\n",
       "<tr>\n",
       "    <td></td>      <th>coef</th>     <th>std err</th>      <th>t</th>      <th>P>|t|</th>  <th>[0.025</th>    <th>0.975]</th>  \n",
       "</tr>\n",
       "<tr>\n",
       "  <th>year</th> <td>    0.2813</td> <td>    0.043</td> <td>    6.564</td> <td> 0.000</td> <td>    0.197</td> <td>    0.366</td>\n",
       "</tr>\n",
       "<tr>\n",
       "  <th>nrgy</th> <td>   -0.2100</td> <td>    0.052</td> <td>   -4.004</td> <td> 0.000</td> <td>   -0.313</td> <td>   -0.107</td>\n",
       "</tr>\n",
       "<tr>\n",
       "  <th>dB</th>   <td>    0.2884</td> <td>    0.049</td> <td>    5.859</td> <td> 0.000</td> <td>    0.192</td> <td>    0.385</td>\n",
       "</tr>\n",
       "<tr>\n",
       "  <th>val</th>  <td>    0.1345</td> <td>    0.046</td> <td>    2.913</td> <td> 0.004</td> <td>    0.044</td> <td>    0.225</td>\n",
       "</tr>\n",
       "</table>\n",
       "<table class=\"simpletable\">\n",
       "<tr>\n",
       "  <th>Omnibus:</th>       <td>136.325</td> <th>  Durbin-Watson:     </th> <td>   0.532</td>\n",
       "</tr>\n",
       "<tr>\n",
       "  <th>Prob(Omnibus):</th> <td> 0.000</td>  <th>  Jarque-Bera (JB):  </th> <td> 355.892</td>\n",
       "</tr>\n",
       "<tr>\n",
       "  <th>Skew:</th>          <td>-1.393</td>  <th>  Prob(JB):          </th> <td>5.24e-78</td>\n",
       "</tr>\n",
       "<tr>\n",
       "  <th>Kurtosis:</th>      <td> 6.155</td>  <th>  Cond. No.          </th> <td>    2.05</td>\n",
       "</tr>\n",
       "</table><br/><br/>Notes:<br/>[1] R² is computed without centering (uncentered) since the model does not contain a constant.<br/>[2] Standard Errors assume that the covariance matrix of the errors is correctly specified."
      ],
      "text/plain": [
       "<class 'statsmodels.iolib.summary.Summary'>\n",
       "\"\"\"\n",
       "                                 OLS Regression Results                                \n",
       "=======================================================================================\n",
       "Dep. Variable:                    pop   R-squared (uncentered):                   0.160\n",
       "Model:                            OLS   Adj. R-squared (uncentered):              0.153\n",
       "Method:                 Least Squares   F-statistic:                              22.72\n",
       "Date:                Mon, 30 May 2022   Prob (F-statistic):                    3.34e-17\n",
       "Time:                        12:11:48   Log-Likelihood:                         -641.47\n",
       "No. Observations:                 482   AIC:                                      1291.\n",
       "Df Residuals:                     478   BIC:                                      1308.\n",
       "Df Model:                           4                                                  \n",
       "Covariance Type:            nonrobust                                                  \n",
       "==============================================================================\n",
       "                 coef    std err          t      P>|t|      [0.025      0.975]\n",
       "------------------------------------------------------------------------------\n",
       "year           0.2813      0.043      6.564      0.000       0.197       0.366\n",
       "nrgy          -0.2100      0.052     -4.004      0.000      -0.313      -0.107\n",
       "dB             0.2884      0.049      5.859      0.000       0.192       0.385\n",
       "val            0.1345      0.046      2.913      0.004       0.044       0.225\n",
       "==============================================================================\n",
       "Omnibus:                      136.325   Durbin-Watson:                   0.532\n",
       "Prob(Omnibus):                  0.000   Jarque-Bera (JB):              355.892\n",
       "Skew:                          -1.393   Prob(JB):                     5.24e-78\n",
       "Kurtosis:                       6.155   Cond. No.                         2.05\n",
       "==============================================================================\n",
       "\n",
       "Notes:\n",
       "[1] R² is computed without centering (uncentered) since the model does not contain a constant.\n",
       "[2] Standard Errors assume that the covariance matrix of the errors is correctly specified.\n",
       "\"\"\""
      ]
     },
     "execution_count": 77,
     "metadata": {},
     "output_type": "execute_result"
    }
   ],
   "source": [
    "models_bwd.loc[np.argmin(models_bwd['AIC']) + 1,'model'].summary()"
   ]
  },
  {
   "cell_type": "code",
   "execution_count": 79,
   "id": "b10256e5-75bc-40e0-9660-d3afcf0ec9a2",
   "metadata": {},
   "outputs": [],
   "source": [
    "Xtest = test[['year', 'nrgy', 'dB', 'val']]\n",
    "Xtest = (Xtest-Xtest.mean())/Xtest.std()\n",
    "#Xtest = pd.get_dummies(data=Xtest, drop_first=True)\n",
    "ytest = test[['pop']]\n",
    "ytest = (ytest-ytest.mean())/ytest.std()\n",
    "test_preds = models_bwd.loc[np.argmin(models_bwd['AIC']) + 1,'model'].predict(Xtest)"
   ]
  },
  {
   "cell_type": "code",
   "execution_count": 80,
   "id": "ca7c16e9-dbdc-4688-ac8f-c260a0c31da3",
   "metadata": {},
   "outputs": [
    {
     "data": {
      "text/plain": [
       "0      1.108680\n",
       "1      1.040204\n",
       "2      0.903253\n",
       "4      0.766302\n",
       "6      0.697826\n",
       "         ...   \n",
       "597    0.629351\n",
       "598    0.560875\n",
       "599    0.560875\n",
       "600    0.218497\n",
       "601    0.150021\n",
       "Name: pop, Length: 482, dtype: float64"
      ]
     },
     "execution_count": 80,
     "metadata": {},
     "output_type": "execute_result"
    }
   ],
   "source": [
    "ytrain['pop']"
   ]
  },
  {
   "cell_type": "code",
   "execution_count": 81,
   "id": "21a51970-0a11-4345-a16b-e42edeaebc3f",
   "metadata": {},
   "outputs": [
    {
     "data": {
      "text/plain": [
       "329   -0.153717\n",
       "471   -0.235724\n",
       "10    -0.557424\n",
       "58    -0.322078\n",
       "425    0.003600\n",
       "         ...   \n",
       "497    0.496410\n",
       "295    0.199066\n",
       "427    0.427857\n",
       "479    0.277893\n",
       "5     -0.652615\n",
       "Length: 121, dtype: float64"
      ]
     },
     "execution_count": 81,
     "metadata": {},
     "output_type": "execute_result"
    }
   ],
   "source": [
    "test_preds"
   ]
  },
  {
   "cell_type": "code",
   "execution_count": 84,
   "id": "d6c73373-bca5-422f-b925-c9228a0a5de9",
   "metadata": {},
   "outputs": [
    {
     "data": {
      "text/plain": [
       "1.06484275066003"
      ]
     },
     "execution_count": 84,
     "metadata": {},
     "output_type": "execute_result"
    }
   ],
   "source": [
    "np.sqrt(((test_preds - ytest['pop'])**2).mean())"
   ]
  },
  {
   "cell_type": "markdown",
   "id": "ed07735c-2a9c-4503-989b-7bb0af1c34ab",
   "metadata": {},
   "source": [
    "### HW: Implement Hybrid Stepwise Selection\n",
    "### HW: Select single best model using CV prediction error"
   ]
  },
  {
   "cell_type": "code",
   "execution_count": null,
   "id": "139c542b-9182-46b3-82a8-77b9b4765710",
   "metadata": {},
   "outputs": [],
   "source": []
  }
 ],
 "metadata": {
  "kernelspec": {
   "display_name": "Python 3 (ipykernel)",
   "language": "python",
   "name": "python3"
  },
  "language_info": {
   "codemirror_mode": {
    "name": "ipython",
    "version": 3
   },
   "file_extension": ".py",
   "mimetype": "text/x-python",
   "name": "python",
   "nbconvert_exporter": "python",
   "pygments_lexer": "ipython3",
   "version": "3.11.5"
  }
 },
 "nbformat": 4,
 "nbformat_minor": 5
}
